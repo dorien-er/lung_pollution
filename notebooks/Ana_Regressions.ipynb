{
 "cells": [
  {
   "cell_type": "code",
   "execution_count": 1,
   "id": "b7413f30",
   "metadata": {},
   "outputs": [],
   "source": [
    "import pandas as pd\n",
    "\n",
    "df_covid_AP = pd.read_csv('../lung_pollution/data/covid_pollution_clean02.csv')\n",
    "\n",
    "df_covid_AP.drop(columns=['Unnamed: 0'], inplace = True)\n",
    "df_covid_AP = df_covid_AP.rename(columns={\"PM2.5_annualMean\": \"PM2_5_annualMean\", \"Fully vaccinated\": \"Fully_vaccinated\", \"Population density\": \"Population_density\"})\n"
   ]
  },
  {
   "cell_type": "code",
   "execution_count": 2,
   "id": "ff9109ff",
   "metadata": {},
   "outputs": [
    {
     "data": {
      "text/plain": [
       "Index(['county', 'year', 'NO2_annualMean', 'NO2_hrOver200', 'NO_annualMean',\n",
       "       'O3_annualMean', 'O3_daysOver120', 'O3_dailyMaxAnnualMean',\n",
       "       'O3_dailyHourlyMax', 'O3_daily8HrMax', 'PM10_annualMean',\n",
       "       'PM10_daysOver50', 'PM2_5_annualMean', 'BL', 'EWZ', 'Shape__Area',\n",
       "       'death_rate', 'cases', 'deaths', 'cases_per_100k', 'deaths_per_100k',\n",
       "       'fully_vaccinated', 'Population_density'],\n",
       "      dtype='object')"
      ]
     },
     "execution_count": 2,
     "metadata": {},
     "output_type": "execute_result"
    }
   ],
   "source": [
    "df_covid_AP.columns"
   ]
  },
  {
   "cell_type": "code",
   "execution_count": 3,
   "id": "aa20443f",
   "metadata": {},
   "outputs": [],
   "source": [
    "df_covid_AP.sort_values(['year'], axis=0, ascending=False,inplace=True,ignore_index=True)\n",
    "df_covid_AP_2019 = df_covid_AP[0:400]"
   ]
  },
  {
   "cell_type": "code",
   "execution_count": 4,
   "id": "f6687785",
   "metadata": {},
   "outputs": [],
   "source": [
    "df_num = df_covid_AP_2019[['NO2_annualMean', 'NO_annualMean',\n",
    "                           'O3_daily8HrMax', 'PM2_5_annualMean', 'fully_vaccinated', 'Population_density', 'cases_per_100k', 'deaths_per_100k'\n",
    "                          ]]"
   ]
  },
  {
   "cell_type": "code",
   "execution_count": 5,
   "id": "6a15ea79",
   "metadata": {},
   "outputs": [
    {
     "data": {
      "text/plain": [
       "<bound method NDFrame._add_numeric_operations.<locals>.mean of 0       8.702983\n",
       "1      16.479730\n",
       "2      17.933774\n",
       "3      16.770445\n",
       "4      16.763028\n",
       "         ...    \n",
       "395    21.671630\n",
       "396     5.494001\n",
       "397    16.000772\n",
       "398    15.847196\n",
       "399    17.393999\n",
       "Name: NO2_annualMean, Length: 400, dtype: float64>"
      ]
     },
     "execution_count": 5,
     "metadata": {},
     "output_type": "execute_result"
    }
   ],
   "source": [
    "df_covid_AP_2019['NO2_annualMean']"
   ]
  },
  {
   "cell_type": "code",
   "execution_count": null,
   "id": "7e4dd50b",
   "metadata": {},
   "outputs": [],
   "source": [
    "from sklearn.preprocessing import StandardScaler\n",
    "\n",
    "s_scaler = StandardScaler()  # Instanciate Robust Scaler\n",
    "\n",
    "s_scaler.fit(df_num)  # Fit scaler to feature\n",
    "scaled_num = s_scaler.transform(df_num)  #Scale\n",
    "\n",
    "df_num = pd.DataFrame(scaled_num, columns = df_num.columns)\n",
    "\n",
    "df_covid_AP_2019[['NO2_annualMean', 'NO_annualMean', 'O3_daily8HrMax', 'PM2_5_annualMean', 'fully_vaccinated', 'Population_density', 'cases_per_100k', 'deaths_per_100k'\n",
    "                 ]] = df_num[['NO2_annualMean', 'NO_annualMean','O3_daily8HrMax','PM2_5_annualMean', 'fully_vaccinated', 'Population_density', 'cases_per_100k', 'deaths_per_100k']]"
   ]
  },
  {
   "cell_type": "code",
   "execution_count": null,
   "id": "990dd645",
   "metadata": {},
   "outputs": [],
   "source": []
  }
 ],
 "metadata": {
  "kernelspec": {
   "display_name": "Python 3 (ipykernel)",
   "language": "python",
   "name": "python3"
  },
  "language_info": {
   "codemirror_mode": {
    "name": "ipython",
    "version": 3
   },
   "file_extension": ".py",
   "mimetype": "text/x-python",
   "name": "python",
   "nbconvert_exporter": "python",
   "pygments_lexer": "ipython3",
   "version": "3.8.12"
  },
  "toc": {
   "base_numbering": 1,
   "nav_menu": {},
   "number_sections": true,
   "sideBar": true,
   "skip_h1_title": false,
   "title_cell": "Table of Contents",
   "title_sidebar": "Contents",
   "toc_cell": false,
   "toc_position": {},
   "toc_section_display": true,
   "toc_window_display": false
  }
 },
 "nbformat": 4,
 "nbformat_minor": 5
}
