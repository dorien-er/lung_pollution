{
 "cells": [
  {
   "cell_type": "code",
   "execution_count": 1,
   "id": "32403db5",
   "metadata": {},
   "outputs": [],
   "source": [
    "import pandas as pd\n",
    "import numpy as np\n",
    "import json"
   ]
  },
  {
   "cell_type": "markdown",
   "id": "70b10c98",
   "metadata": {},
   "source": [
    "# Import datasets"
   ]
  },
  {
   "cell_type": "markdown",
   "id": "b6fdf801",
   "metadata": {},
   "source": [
    "Merge datasets with Covid19 statistics, Air pollution measurement and geographical data at the German county-level"
   ]
  },
  {
   "cell_type": "markdown",
   "id": "09546386",
   "metadata": {
    "heading_collapsed": true
   },
   "source": [
    "## Import Covid Data"
   ]
  },
  {
   "cell_type": "code",
   "execution_count": 2,
   "id": "08b13650",
   "metadata": {
    "hidden": true
   },
   "outputs": [
    {
     "data": {
      "text/plain": [
       "(411, 47)"
      ]
     },
     "execution_count": 2,
     "metadata": {},
     "output_type": "execute_result"
    }
   ],
   "source": [
    "covid_df = pd.read_csv('../raw_data/RKI_corona_landskreise.csv')\n",
    "\n",
    "covid_df.shape"
   ]
  },
  {
   "cell_type": "code",
   "execution_count": 3,
   "id": "ba011566",
   "metadata": {
    "hidden": true
   },
   "outputs": [
    {
     "data": {
      "text/html": [
       "<div>\n",
       "<style scoped>\n",
       "    .dataframe tbody tr th:only-of-type {\n",
       "        vertical-align: middle;\n",
       "    }\n",
       "\n",
       "    .dataframe tbody tr th {\n",
       "        vertical-align: top;\n",
       "    }\n",
       "\n",
       "    .dataframe thead th {\n",
       "        text-align: right;\n",
       "    }\n",
       "</style>\n",
       "<table border=\"1\" class=\"dataframe\">\n",
       "  <thead>\n",
       "    <tr style=\"text-align: right;\">\n",
       "      <th></th>\n",
       "      <th>OBJECTID</th>\n",
       "      <th>ADE</th>\n",
       "      <th>GF</th>\n",
       "      <th>BSG</th>\n",
       "      <th>RS</th>\n",
       "      <th>AGS</th>\n",
       "      <th>SDV_RS</th>\n",
       "      <th>GEN</th>\n",
       "      <th>BEZ</th>\n",
       "      <th>IBZ</th>\n",
       "      <th>...</th>\n",
       "      <th>cases7_per_100k</th>\n",
       "      <th>recovered</th>\n",
       "      <th>EWZ_BL</th>\n",
       "      <th>cases7_bl_per_100k</th>\n",
       "      <th>cases7_bl</th>\n",
       "      <th>death7_bl</th>\n",
       "      <th>cases7_lk</th>\n",
       "      <th>death7_lk</th>\n",
       "      <th>cases7_per_100k_txt</th>\n",
       "      <th>AdmUnitId</th>\n",
       "    </tr>\n",
       "  </thead>\n",
       "  <tbody>\n",
       "    <tr>\n",
       "      <th>0</th>\n",
       "      <td>1</td>\n",
       "      <td>4.0</td>\n",
       "      <td>4.0</td>\n",
       "      <td>1.0</td>\n",
       "      <td>1001</td>\n",
       "      <td>1001.0</td>\n",
       "      <td>1.001000e+10</td>\n",
       "      <td>Flensburg</td>\n",
       "      <td>Kreisfreie Stadt</td>\n",
       "      <td>40.0</td>\n",
       "      <td>...</td>\n",
       "      <td>111.192652</td>\n",
       "      <td>NaN</td>\n",
       "      <td>2910875</td>\n",
       "      <td>97.908704</td>\n",
       "      <td>2850</td>\n",
       "      <td>4</td>\n",
       "      <td>100</td>\n",
       "      <td>0</td>\n",
       "      <td>111,2</td>\n",
       "      <td>1001</td>\n",
       "    </tr>\n",
       "    <tr>\n",
       "      <th>1</th>\n",
       "      <td>2</td>\n",
       "      <td>4.0</td>\n",
       "      <td>4.0</td>\n",
       "      <td>1.0</td>\n",
       "      <td>1002</td>\n",
       "      <td>1002.0</td>\n",
       "      <td>1.002000e+10</td>\n",
       "      <td>Kiel</td>\n",
       "      <td>Kreisfreie Stadt</td>\n",
       "      <td>40.0</td>\n",
       "      <td>...</td>\n",
       "      <td>122.870548</td>\n",
       "      <td>NaN</td>\n",
       "      <td>2910875</td>\n",
       "      <td>97.908704</td>\n",
       "      <td>2850</td>\n",
       "      <td>4</td>\n",
       "      <td>303</td>\n",
       "      <td>0</td>\n",
       "      <td>122,9</td>\n",
       "      <td>1002</td>\n",
       "    </tr>\n",
       "    <tr>\n",
       "      <th>2</th>\n",
       "      <td>3</td>\n",
       "      <td>4.0</td>\n",
       "      <td>4.0</td>\n",
       "      <td>1.0</td>\n",
       "      <td>1003</td>\n",
       "      <td>1003.0</td>\n",
       "      <td>1.003000e+10</td>\n",
       "      <td>Lübeck</td>\n",
       "      <td>Kreisfreie Stadt</td>\n",
       "      <td>40.0</td>\n",
       "      <td>...</td>\n",
       "      <td>108.410626</td>\n",
       "      <td>NaN</td>\n",
       "      <td>2910875</td>\n",
       "      <td>97.908704</td>\n",
       "      <td>2850</td>\n",
       "      <td>4</td>\n",
       "      <td>234</td>\n",
       "      <td>0</td>\n",
       "      <td>108,4</td>\n",
       "      <td>1003</td>\n",
       "    </tr>\n",
       "    <tr>\n",
       "      <th>3</th>\n",
       "      <td>4</td>\n",
       "      <td>4.0</td>\n",
       "      <td>4.0</td>\n",
       "      <td>1.0</td>\n",
       "      <td>1004</td>\n",
       "      <td>1004.0</td>\n",
       "      <td>1.004000e+10</td>\n",
       "      <td>Neumünster</td>\n",
       "      <td>Kreisfreie Stadt</td>\n",
       "      <td>40.0</td>\n",
       "      <td>...</td>\n",
       "      <td>127.651586</td>\n",
       "      <td>NaN</td>\n",
       "      <td>2910875</td>\n",
       "      <td>97.908704</td>\n",
       "      <td>2850</td>\n",
       "      <td>4</td>\n",
       "      <td>102</td>\n",
       "      <td>0</td>\n",
       "      <td>127,7</td>\n",
       "      <td>1004</td>\n",
       "    </tr>\n",
       "    <tr>\n",
       "      <th>4</th>\n",
       "      <td>5</td>\n",
       "      <td>4.0</td>\n",
       "      <td>4.0</td>\n",
       "      <td>1.0</td>\n",
       "      <td>1051</td>\n",
       "      <td>1051.0</td>\n",
       "      <td>1.051004e+10</td>\n",
       "      <td>Dithmarschen</td>\n",
       "      <td>Kreis</td>\n",
       "      <td>42.0</td>\n",
       "      <td>...</td>\n",
       "      <td>75.796805</td>\n",
       "      <td>NaN</td>\n",
       "      <td>2910875</td>\n",
       "      <td>97.908704</td>\n",
       "      <td>2850</td>\n",
       "      <td>4</td>\n",
       "      <td>101</td>\n",
       "      <td>0</td>\n",
       "      <td>75,8</td>\n",
       "      <td>1051</td>\n",
       "    </tr>\n",
       "  </tbody>\n",
       "</table>\n",
       "<p>5 rows × 47 columns</p>\n",
       "</div>"
      ],
      "text/plain": [
       "   OBJECTID  ADE   GF  BSG    RS     AGS        SDV_RS           GEN  \\\n",
       "0         1  4.0  4.0  1.0  1001  1001.0  1.001000e+10     Flensburg   \n",
       "1         2  4.0  4.0  1.0  1002  1002.0  1.002000e+10          Kiel   \n",
       "2         3  4.0  4.0  1.0  1003  1003.0  1.003000e+10        Lübeck   \n",
       "3         4  4.0  4.0  1.0  1004  1004.0  1.004000e+10    Neumünster   \n",
       "4         5  4.0  4.0  1.0  1051  1051.0  1.051004e+10  Dithmarschen   \n",
       "\n",
       "                BEZ   IBZ  ... cases7_per_100k recovered   EWZ_BL  \\\n",
       "0  Kreisfreie Stadt  40.0  ...      111.192652       NaN  2910875   \n",
       "1  Kreisfreie Stadt  40.0  ...      122.870548       NaN  2910875   \n",
       "2  Kreisfreie Stadt  40.0  ...      108.410626       NaN  2910875   \n",
       "3  Kreisfreie Stadt  40.0  ...      127.651586       NaN  2910875   \n",
       "4             Kreis  42.0  ...       75.796805       NaN  2910875   \n",
       "\n",
       "   cases7_bl_per_100k  cases7_bl  death7_bl  cases7_lk  death7_lk  \\\n",
       "0           97.908704       2850          4        100          0   \n",
       "1           97.908704       2850          4        303          0   \n",
       "2           97.908704       2850          4        234          0   \n",
       "3           97.908704       2850          4        102          0   \n",
       "4           97.908704       2850          4        101          0   \n",
       "\n",
       "  cases7_per_100k_txt AdmUnitId  \n",
       "0               111,2      1001  \n",
       "1               122,9      1002  \n",
       "2               108,4      1003  \n",
       "3               127,7      1004  \n",
       "4                75,8      1051  \n",
       "\n",
       "[5 rows x 47 columns]"
      ]
     },
     "execution_count": 3,
     "metadata": {},
     "output_type": "execute_result"
    }
   ],
   "source": [
    "covid_df.head()"
   ]
  },
  {
   "cell_type": "markdown",
   "id": "92b66dd2",
   "metadata": {},
   "source": [
    "## Import Pollution Data"
   ]
  },
  {
   "cell_type": "code",
   "execution_count": 4,
   "id": "21b588da",
   "metadata": {},
   "outputs": [
    {
     "data": {
      "text/plain": [
       "(12060, 19)"
      ]
     },
     "execution_count": 4,
     "metadata": {},
     "output_type": "execute_result"
    }
   ],
   "source": [
    "pollution_df = pd.read_csv('../raw_data/APexpose.csv', \n",
    "                           sep=';',\n",
    "                           decimal='.',\n",
    "                           encoding = 'Windows-1252')\n",
    "pollution_df.shape"
   ]
  },
  {
   "cell_type": "code",
   "execution_count": 5,
   "id": "1b41cd55",
   "metadata": {},
   "outputs": [
    {
     "data": {
      "text/html": [
       "<div>\n",
       "<style scoped>\n",
       "    .dataframe tbody tr th:only-of-type {\n",
       "        vertical-align: middle;\n",
       "    }\n",
       "\n",
       "    .dataframe tbody tr th {\n",
       "        vertical-align: top;\n",
       "    }\n",
       "\n",
       "    .dataframe thead th {\n",
       "        text-align: right;\n",
       "    }\n",
       "</style>\n",
       "<table border=\"1\" class=\"dataframe\">\n",
       "  <thead>\n",
       "    <tr style=\"text-align: right;\">\n",
       "      <th></th>\n",
       "      <th>county</th>\n",
       "      <th>year</th>\n",
       "      <th>NO2_annualMean</th>\n",
       "      <th>NO2_hrOver200</th>\n",
       "      <th>NO_annualMean</th>\n",
       "      <th>O3_annualMean</th>\n",
       "      <th>O3_daysOver120</th>\n",
       "      <th>O3_dailyMaxAnnualMean</th>\n",
       "      <th>O3_dailyHourlyMax</th>\n",
       "      <th>O3_daily8HrMax</th>\n",
       "      <th>PM10_annualMean</th>\n",
       "      <th>PM10_daysOver50</th>\n",
       "      <th>PM2.5_annualMean</th>\n",
       "      <th>kreis_code</th>\n",
       "      <th>scenario</th>\n",
       "      <th>ISO_code</th>\n",
       "      <th>Kreis_Scluessel</th>\n",
       "      <th>Lon</th>\n",
       "      <th>Lat</th>\n",
       "    </tr>\n",
       "  </thead>\n",
       "  <tbody>\n",
       "    <tr>\n",
       "      <th>0</th>\n",
       "      <td>SK Freiburg i.Breisgau</td>\n",
       "      <td>2019</td>\n",
       "      <td>1575711</td>\n",
       "      <td>0.000000</td>\n",
       "      <td>6600048</td>\n",
       "      <td>554519</td>\n",
       "      <td>6</td>\n",
       "      <td>8370603</td>\n",
       "      <td>218.5</td>\n",
       "      <td>206925</td>\n",
       "      <td>1247323</td>\n",
       "      <td>2</td>\n",
       "      <td>8984028</td>\n",
       "      <td>12</td>\n",
       "      <td>remote</td>\n",
       "      <td>DE.BW.FB</td>\n",
       "      <td>8311</td>\n",
       "      <td>781.807.596.196.695</td>\n",
       "      <td>479.925.229.956.189</td>\n",
       "    </tr>\n",
       "    <tr>\n",
       "      <th>1</th>\n",
       "      <td>LK Dillingen a.d.Donau</td>\n",
       "      <td>2019</td>\n",
       "      <td>1,89533E+14</td>\n",
       "      <td>0.004595</td>\n",
       "      <td>9,5195E+14</td>\n",
       "      <td>5,5639E+14</td>\n",
       "      <td>3,80237E+14</td>\n",
       "      <td>7,88278E+14</td>\n",
       "      <td>1,80314E+14</td>\n",
       "      <td>1,63814E+14</td>\n",
       "      <td>1,72883E+14</td>\n",
       "      <td>5,36691E+14</td>\n",
       "      <td>1,29524E+14</td>\n",
       "      <td>68</td>\n",
       "      <td>remote</td>\n",
       "      <td>DE.BY.DD</td>\n",
       "      <td>9773</td>\n",
       "      <td>105.277.641.680.394</td>\n",
       "      <td>485.964.037.973.776</td>\n",
       "    </tr>\n",
       "    <tr>\n",
       "      <th>2</th>\n",
       "      <td>SK NŸrnberg</td>\n",
       "      <td>2019</td>\n",
       "      <td>2538007</td>\n",
       "      <td>0.000000</td>\n",
       "      <td>1251538</td>\n",
       "      <td>4532018</td>\n",
       "      <td>0</td>\n",
       "      <td>7369548</td>\n",
       "      <td>160.34</td>\n",
       "      <td>1556725</td>\n",
       "      <td>1,53677E+14</td>\n",
       "      <td>4,89558E+14</td>\n",
       "      <td>1151754</td>\n",
       "      <td>107</td>\n",
       "      <td>remote</td>\n",
       "      <td>DE.BY.NR</td>\n",
       "      <td>9564</td>\n",
       "      <td>110.827.553.425.797</td>\n",
       "      <td>494.362.114.486.059</td>\n",
       "    </tr>\n",
       "    <tr>\n",
       "      <th>3</th>\n",
       "      <td>LK Neumarkt i.d.OPf.</td>\n",
       "      <td>2019</td>\n",
       "      <td>1,57092E+14</td>\n",
       "      <td>0.003532</td>\n",
       "      <td>8,1766E+14</td>\n",
       "      <td>5,20949E+14</td>\n",
       "      <td>2,18259E+14</td>\n",
       "      <td>7,65906E+14</td>\n",
       "      <td>1,79684E+14</td>\n",
       "      <td>1,62613E+14</td>\n",
       "      <td>1,60922E+14</td>\n",
       "      <td>4,89558E+14</td>\n",
       "      <td>1,22698E+14</td>\n",
       "      <td>110</td>\n",
       "      <td>remote</td>\n",
       "      <td>DE.BY.NO</td>\n",
       "      <td>9373</td>\n",
       "      <td>115.665.579.196.823</td>\n",
       "      <td>492.159.614.099.495</td>\n",
       "    </tr>\n",
       "    <tr>\n",
       "      <th>4</th>\n",
       "      <td>SK Rosenheim</td>\n",
       "      <td>2019</td>\n",
       "      <td>1,75246E+14</td>\n",
       "      <td>0.004127</td>\n",
       "      <td>8,68246E+14</td>\n",
       "      <td>5,25933E+14</td>\n",
       "      <td>2,41035E+14</td>\n",
       "      <td>7,69051E+14</td>\n",
       "      <td>1,79773E+14</td>\n",
       "      <td>1,62782E+14</td>\n",
       "      <td>1,64141E+14</td>\n",
       "      <td>4,89558E+14</td>\n",
       "      <td>1,24855E+14</td>\n",
       "      <td>122</td>\n",
       "      <td>remote</td>\n",
       "      <td>DE.BY.RH</td>\n",
       "      <td>9163</td>\n",
       "      <td>121.087.247.510.606</td>\n",
       "      <td>478.443.777.181.448</td>\n",
       "    </tr>\n",
       "  </tbody>\n",
       "</table>\n",
       "</div>"
      ],
      "text/plain": [
       "                   county  year NO2_annualMean  NO2_hrOver200 NO_annualMean  \\\n",
       "0  SK Freiburg i.Breisgau  2019        1575711       0.000000       6600048   \n",
       "1  LK Dillingen a.d.Donau  2019    1,89533E+14       0.004595    9,5195E+14   \n",
       "2             SK NŸrnberg  2019        2538007       0.000000       1251538   \n",
       "3    LK Neumarkt i.d.OPf.  2019    1,57092E+14       0.003532    8,1766E+14   \n",
       "4            SK Rosenheim  2019    1,75246E+14       0.004127   8,68246E+14   \n",
       "\n",
       "  O3_annualMean O3_daysOver120 O3_dailyMaxAnnualMean O3_dailyHourlyMax  \\\n",
       "0        554519              6               8370603             218.5   \n",
       "1    5,5639E+14    3,80237E+14           7,88278E+14       1,80314E+14   \n",
       "2       4532018              0               7369548            160.34   \n",
       "3   5,20949E+14    2,18259E+14           7,65906E+14       1,79684E+14   \n",
       "4   5,25933E+14    2,41035E+14           7,69051E+14       1,79773E+14   \n",
       "\n",
       "  O3_daily8HrMax PM10_annualMean PM10_daysOver50 PM2.5_annualMean  kreis_code  \\\n",
       "0         206925         1247323               2          8984028          12   \n",
       "1    1,63814E+14     1,72883E+14     5,36691E+14      1,29524E+14          68   \n",
       "2        1556725     1,53677E+14     4,89558E+14          1151754         107   \n",
       "3    1,62613E+14     1,60922E+14     4,89558E+14      1,22698E+14         110   \n",
       "4    1,62782E+14     1,64141E+14     4,89558E+14      1,24855E+14         122   \n",
       "\n",
       "  scenario  ISO_code  Kreis_Scluessel                  Lon  \\\n",
       "0   remote  DE.BW.FB             8311  781.807.596.196.695   \n",
       "1   remote  DE.BY.DD             9773  105.277.641.680.394   \n",
       "2   remote  DE.BY.NR             9564  110.827.553.425.797   \n",
       "3   remote  DE.BY.NO             9373  115.665.579.196.823   \n",
       "4   remote  DE.BY.RH             9163  121.087.247.510.606   \n",
       "\n",
       "                   Lat  \n",
       "0  479.925.229.956.189  \n",
       "1  485.964.037.973.776  \n",
       "2  494.362.114.486.059  \n",
       "3  492.159.614.099.495  \n",
       "4  478.443.777.181.448  "
      ]
     },
     "execution_count": 5,
     "metadata": {},
     "output_type": "execute_result"
    }
   ],
   "source": [
    "pollution_df.head()"
   ]
  },
  {
   "cell_type": "markdown",
   "id": "f6fdb048",
   "metadata": {},
   "source": [
    "## Import GeoJSON"
   ]
  },
  {
   "cell_type": "code",
   "execution_count": 6,
   "id": "3ae41cd5",
   "metadata": {},
   "outputs": [
    {
     "data": {
      "text/html": [
       "<div>\n",
       "<style scoped>\n",
       "    .dataframe tbody tr th:only-of-type {\n",
       "        vertical-align: middle;\n",
       "    }\n",
       "\n",
       "    .dataframe tbody tr th {\n",
       "        vertical-align: top;\n",
       "    }\n",
       "\n",
       "    .dataframe thead th {\n",
       "        text-align: right;\n",
       "    }\n",
       "</style>\n",
       "<table border=\"1\" class=\"dataframe\">\n",
       "  <thead>\n",
       "    <tr style=\"text-align: right;\">\n",
       "      <th></th>\n",
       "      <th>type</th>\n",
       "      <th>features</th>\n",
       "    </tr>\n",
       "  </thead>\n",
       "  <tbody>\n",
       "    <tr>\n",
       "      <th>0</th>\n",
       "      <td>FeatureCollection</td>\n",
       "      <td>{'type': 'Feature', 'id': 0, 'properties': {'I...</td>\n",
       "    </tr>\n",
       "    <tr>\n",
       "      <th>1</th>\n",
       "      <td>FeatureCollection</td>\n",
       "      <td>{'type': 'Feature', 'id': 1, 'properties': {'I...</td>\n",
       "    </tr>\n",
       "    <tr>\n",
       "      <th>2</th>\n",
       "      <td>FeatureCollection</td>\n",
       "      <td>{'type': 'Feature', 'id': 2, 'properties': {'I...</td>\n",
       "    </tr>\n",
       "    <tr>\n",
       "      <th>3</th>\n",
       "      <td>FeatureCollection</td>\n",
       "      <td>{'type': 'Feature', 'id': 3, 'properties': {'I...</td>\n",
       "    </tr>\n",
       "    <tr>\n",
       "      <th>4</th>\n",
       "      <td>FeatureCollection</td>\n",
       "      <td>{'type': 'Feature', 'id': 4, 'properties': {'I...</td>\n",
       "    </tr>\n",
       "  </tbody>\n",
       "</table>\n",
       "</div>"
      ],
      "text/plain": [
       "                type                                           features\n",
       "0  FeatureCollection  {'type': 'Feature', 'id': 0, 'properties': {'I...\n",
       "1  FeatureCollection  {'type': 'Feature', 'id': 1, 'properties': {'I...\n",
       "2  FeatureCollection  {'type': 'Feature', 'id': 2, 'properties': {'I...\n",
       "3  FeatureCollection  {'type': 'Feature', 'id': 3, 'properties': {'I...\n",
       "4  FeatureCollection  {'type': 'Feature', 'id': 4, 'properties': {'I..."
      ]
     },
     "execution_count": 6,
     "metadata": {},
     "output_type": "execute_result"
    }
   ],
   "source": [
    "url = 'https://raw.githubusercontent.com/isellsoap/deutschlandGeoJSON/main/4_kreise/1_sehr_hoch.geo.json'\n",
    "dfObj = pd.read_json(url)\n",
    "dfObj.head()"
   ]
  },
  {
   "cell_type": "code",
   "execution_count": 7,
   "id": "4c6ab95d",
   "metadata": {},
   "outputs": [
    {
     "data": {
      "text/plain": [
       "(434, 2)"
      ]
     },
     "execution_count": 7,
     "metadata": {},
     "output_type": "execute_result"
    }
   ],
   "source": [
    "dfObj.shape"
   ]
  },
  {
   "cell_type": "code",
   "execution_count": 8,
   "id": "d25c6e3b",
   "metadata": {},
   "outputs": [],
   "source": [
    "list_ids = []\n",
    "list_counties = []\n",
    "list_coords = []\n",
    "list_code_counties = []\n",
    "for i in range(len(dfObj['features'])):\n",
    "    list_ids.append(dfObj[\"features\"][i][\"id\"])\n",
    "    list_counties.append(dfObj[\"features\"][i][\"properties\"][\"NAME_3\"])\n",
    "    list_coords.append(dfObj[\"features\"][i][\"geometry\"]['coordinates'][0])\n",
    "    list_code_counties.append(dfObj[\"features\"][i][\"properties\"][\"ID_3\"])\n",
    "    \n",
    "\n",
    "geo_df = pd.DataFrame(list(zip(list_ids, list_counties, list_coords,list_code_counties)), columns =['Id', 'County', 'Coordinates','Id_counties'])"
   ]
  },
  {
   "cell_type": "code",
   "execution_count": 9,
   "id": "cc36dd00",
   "metadata": {
    "scrolled": true
   },
   "outputs": [
    {
     "data": {
      "text/html": [
       "<div>\n",
       "<style scoped>\n",
       "    .dataframe tbody tr th:only-of-type {\n",
       "        vertical-align: middle;\n",
       "    }\n",
       "\n",
       "    .dataframe tbody tr th {\n",
       "        vertical-align: top;\n",
       "    }\n",
       "\n",
       "    .dataframe thead th {\n",
       "        text-align: right;\n",
       "    }\n",
       "</style>\n",
       "<table border=\"1\" class=\"dataframe\">\n",
       "  <thead>\n",
       "    <tr style=\"text-align: right;\">\n",
       "      <th></th>\n",
       "      <th>Id</th>\n",
       "      <th>County</th>\n",
       "      <th>Coordinates</th>\n",
       "      <th>Id_counties</th>\n",
       "    </tr>\n",
       "  </thead>\n",
       "  <tbody>\n",
       "    <tr>\n",
       "      <th>0</th>\n",
       "      <td>0</td>\n",
       "      <td>Oldenburg</td>\n",
       "      <td>[[8.65347957611084, 53.11003112792969], [8.665...</td>\n",
       "      <td>244</td>\n",
       "    </tr>\n",
       "    <tr>\n",
       "      <th>1</th>\n",
       "      <td>1</td>\n",
       "      <td>Osnabrück Städte</td>\n",
       "      <td>[[7.963789939880371, 52.3254508972168], [7.969...</td>\n",
       "      <td>245</td>\n",
       "    </tr>\n",
       "    <tr>\n",
       "      <th>2</th>\n",
       "      <td>2</td>\n",
       "      <td>Osnabrück</td>\n",
       "      <td>[[8.026549339294434, 52.68434906005865], [8.03...</td>\n",
       "      <td>246</td>\n",
       "    </tr>\n",
       "    <tr>\n",
       "      <th>3</th>\n",
       "      <td>3</td>\n",
       "      <td>Vechta</td>\n",
       "      <td>[[8.462139129638672, 52.80015182495117], [8.45...</td>\n",
       "      <td>247</td>\n",
       "    </tr>\n",
       "    <tr>\n",
       "      <th>4</th>\n",
       "      <td>4</td>\n",
       "      <td>Wesermarsch</td>\n",
       "      <td>[[[8.30749988555931, 53.61819458007818], [8.30...</td>\n",
       "      <td>248</td>\n",
       "    </tr>\n",
       "  </tbody>\n",
       "</table>\n",
       "</div>"
      ],
      "text/plain": [
       "   Id            County                                        Coordinates  \\\n",
       "0   0         Oldenburg  [[8.65347957611084, 53.11003112792969], [8.665...   \n",
       "1   1  Osnabrück Städte  [[7.963789939880371, 52.3254508972168], [7.969...   \n",
       "2   2         Osnabrück  [[8.026549339294434, 52.68434906005865], [8.03...   \n",
       "3   3            Vechta  [[8.462139129638672, 52.80015182495117], [8.45...   \n",
       "4   4       Wesermarsch  [[[8.30749988555931, 53.61819458007818], [8.30...   \n",
       "\n",
       "   Id_counties  \n",
       "0          244  \n",
       "1          245  \n",
       "2          246  \n",
       "3          247  \n",
       "4          248  "
      ]
     },
     "execution_count": 9,
     "metadata": {},
     "output_type": "execute_result"
    }
   ],
   "source": [
    "geo_df.head()"
   ]
  },
  {
   "cell_type": "code",
   "execution_count": 10,
   "id": "3d5e0ce8",
   "metadata": {},
   "outputs": [],
   "source": [
    "geo_df.to_csv('../lung_pollution/data/geoJSON.csv')"
   ]
  },
  {
   "cell_type": "markdown",
   "id": "f276bec2",
   "metadata": {},
   "source": [
    "# Covid Data Preproc "
   ]
  },
  {
   "cell_type": "markdown",
   "id": "758ada96",
   "metadata": {},
   "source": [
    "## Keep only relevant features"
   ]
  },
  {
   "cell_type": "code",
   "execution_count": 11,
   "id": "bba19d5c",
   "metadata": {},
   "outputs": [
    {
     "data": {
      "text/html": [
       "<div>\n",
       "<style scoped>\n",
       "    .dataframe tbody tr th:only-of-type {\n",
       "        vertical-align: middle;\n",
       "    }\n",
       "\n",
       "    .dataframe tbody tr th {\n",
       "        vertical-align: top;\n",
       "    }\n",
       "\n",
       "    .dataframe thead th {\n",
       "        text-align: right;\n",
       "    }\n",
       "</style>\n",
       "<table border=\"1\" class=\"dataframe\">\n",
       "  <thead>\n",
       "    <tr style=\"text-align: right;\">\n",
       "      <th></th>\n",
       "      <th>BL</th>\n",
       "      <th>county</th>\n",
       "      <th>EWZ</th>\n",
       "      <th>Shape__Area</th>\n",
       "      <th>death_rate</th>\n",
       "      <th>cases</th>\n",
       "      <th>deaths</th>\n",
       "      <th>cases_per_100k</th>\n",
       "    </tr>\n",
       "  </thead>\n",
       "  <tbody>\n",
       "    <tr>\n",
       "      <th>0</th>\n",
       "      <td>Schleswig-Holstein</td>\n",
       "      <td>SK Flensburg</td>\n",
       "      <td>89934</td>\n",
       "      <td>4.918293e+07</td>\n",
       "      <td>1.223721</td>\n",
       "      <td>3187</td>\n",
       "      <td>39</td>\n",
       "      <td>3543.709832</td>\n",
       "    </tr>\n",
       "    <tr>\n",
       "      <th>1</th>\n",
       "      <td>Schleswig-Holstein</td>\n",
       "      <td>SK Kiel</td>\n",
       "      <td>246601</td>\n",
       "      <td>1.122314e+08</td>\n",
       "      <td>1.409469</td>\n",
       "      <td>8301</td>\n",
       "      <td>117</td>\n",
       "      <td>3366.166398</td>\n",
       "    </tr>\n",
       "    <tr>\n",
       "      <th>2</th>\n",
       "      <td>Schleswig-Holstein</td>\n",
       "      <td>SK Lübeck</td>\n",
       "      <td>215846</td>\n",
       "      <td>2.116771e+08</td>\n",
       "      <td>1.392355</td>\n",
       "      <td>7613</td>\n",
       "      <td>106</td>\n",
       "      <td>3527.051694</td>\n",
       "    </tr>\n",
       "    <tr>\n",
       "      <th>3</th>\n",
       "      <td>Schleswig-Holstein</td>\n",
       "      <td>SK Neumünster</td>\n",
       "      <td>79905</td>\n",
       "      <td>7.140224e+07</td>\n",
       "      <td>0.889996</td>\n",
       "      <td>2809</td>\n",
       "      <td>25</td>\n",
       "      <td>3515.424567</td>\n",
       "    </tr>\n",
       "    <tr>\n",
       "      <th>4</th>\n",
       "      <td>Schleswig-Holstein</td>\n",
       "      <td>LK Dithmarschen</td>\n",
       "      <td>133251</td>\n",
       "      <td>1.425511e+09</td>\n",
       "      <td>1.915323</td>\n",
       "      <td>2976</td>\n",
       "      <td>57</td>\n",
       "      <td>2233.379112</td>\n",
       "    </tr>\n",
       "  </tbody>\n",
       "</table>\n",
       "</div>"
      ],
      "text/plain": [
       "                   BL           county     EWZ   Shape__Area  death_rate  \\\n",
       "0  Schleswig-Holstein     SK Flensburg   89934  4.918293e+07    1.223721   \n",
       "1  Schleswig-Holstein          SK Kiel  246601  1.122314e+08    1.409469   \n",
       "2  Schleswig-Holstein        SK Lübeck  215846  2.116771e+08    1.392355   \n",
       "3  Schleswig-Holstein    SK Neumünster   79905  7.140224e+07    0.889996   \n",
       "4  Schleswig-Holstein  LK Dithmarschen  133251  1.425511e+09    1.915323   \n",
       "\n",
       "   cases  deaths  cases_per_100k  \n",
       "0   3187      39     3543.709832  \n",
       "1   8301     117     3366.166398  \n",
       "2   7613     106     3527.051694  \n",
       "3   2809      25     3515.424567  \n",
       "4   2976      57     2233.379112  "
      ]
     },
     "execution_count": 11,
     "metadata": {},
     "output_type": "execute_result"
    }
   ],
   "source": [
    "covid_df = covid_df[['BL','county','EWZ','Shape__Area', 'death_rate', 'cases', 'deaths','cases_per_100k']]\n",
    "covid_df.head()"
   ]
  },
  {
   "cell_type": "markdown",
   "id": "bc2754ab",
   "metadata": {},
   "source": [
    "## Merge Berlin Counties"
   ]
  },
  {
   "cell_type": "markdown",
   "id": "f601879c",
   "metadata": {},
   "source": [
    "Pollution data-set considers Berlin as 1 county, whereas Covid dataset considers 11 counties within Berlin. Collapse 11 counties in Covid dataset into one to match pollution dataset."
   ]
  },
  {
   "cell_type": "code",
   "execution_count": 12,
   "id": "9c6dd104",
   "metadata": {},
   "outputs": [
    {
     "data": {
      "text/html": [
       "<div>\n",
       "<style scoped>\n",
       "    .dataframe tbody tr th:only-of-type {\n",
       "        vertical-align: middle;\n",
       "    }\n",
       "\n",
       "    .dataframe tbody tr th {\n",
       "        vertical-align: top;\n",
       "    }\n",
       "\n",
       "    .dataframe thead th {\n",
       "        text-align: right;\n",
       "    }\n",
       "</style>\n",
       "<table border=\"1\" class=\"dataframe\">\n",
       "  <thead>\n",
       "    <tr style=\"text-align: right;\">\n",
       "      <th></th>\n",
       "      <th>BL</th>\n",
       "      <th>county</th>\n",
       "      <th>EWZ</th>\n",
       "      <th>Shape__Area</th>\n",
       "      <th>death_rate</th>\n",
       "      <th>cases</th>\n",
       "      <th>deaths</th>\n",
       "      <th>cases_per_100k</th>\n",
       "    </tr>\n",
       "  </thead>\n",
       "  <tbody>\n",
       "    <tr>\n",
       "      <th>399</th>\n",
       "      <td>Berlin</td>\n",
       "      <td>SK Berlin Reinickendorf</td>\n",
       "      <td>259169</td>\n",
       "      <td>8.943665e+07</td>\n",
       "      <td>1.618289</td>\n",
       "      <td>19465</td>\n",
       "      <td>315</td>\n",
       "      <td>7510.543313</td>\n",
       "    </tr>\n",
       "    <tr>\n",
       "      <th>400</th>\n",
       "      <td>Berlin</td>\n",
       "      <td>SK Berlin Charlottenburg-Wilmersdorf</td>\n",
       "      <td>315393</td>\n",
       "      <td>6.477450e+07</td>\n",
       "      <td>1.568608</td>\n",
       "      <td>20464</td>\n",
       "      <td>321</td>\n",
       "      <td>6488.412869</td>\n",
       "    </tr>\n",
       "    <tr>\n",
       "      <th>401</th>\n",
       "      <td>Berlin</td>\n",
       "      <td>SK Berlin Treptow-Köpenick</td>\n",
       "      <td>272429</td>\n",
       "      <td>1.680052e+08</td>\n",
       "      <td>1.689394</td>\n",
       "      <td>13200</td>\n",
       "      <td>223</td>\n",
       "      <td>4845.299142</td>\n",
       "    </tr>\n",
       "    <tr>\n",
       "      <th>402</th>\n",
       "      <td>Berlin</td>\n",
       "      <td>SK Berlin Pankow</td>\n",
       "      <td>403607</td>\n",
       "      <td>1.033630e+08</td>\n",
       "      <td>1.068934</td>\n",
       "      <td>21049</td>\n",
       "      <td>225</td>\n",
       "      <td>5215.221738</td>\n",
       "    </tr>\n",
       "    <tr>\n",
       "      <th>403</th>\n",
       "      <td>Berlin</td>\n",
       "      <td>SK Berlin Neukölln</td>\n",
       "      <td>318128</td>\n",
       "      <td>4.499687e+07</td>\n",
       "      <td>1.522467</td>\n",
       "      <td>28375</td>\n",
       "      <td>432</td>\n",
       "      <td>8919.365790</td>\n",
       "    </tr>\n",
       "  </tbody>\n",
       "</table>\n",
       "</div>"
      ],
      "text/plain": [
       "         BL                                county     EWZ   Shape__Area  \\\n",
       "399  Berlin               SK Berlin Reinickendorf  259169  8.943665e+07   \n",
       "400  Berlin  SK Berlin Charlottenburg-Wilmersdorf  315393  6.477450e+07   \n",
       "401  Berlin            SK Berlin Treptow-Köpenick  272429  1.680052e+08   \n",
       "402  Berlin                      SK Berlin Pankow  403607  1.033630e+08   \n",
       "403  Berlin                    SK Berlin Neukölln  318128  4.499687e+07   \n",
       "\n",
       "     death_rate  cases  deaths  cases_per_100k  \n",
       "399    1.618289  19465     315     7510.543313  \n",
       "400    1.568608  20464     321     6488.412869  \n",
       "401    1.689394  13200     223     4845.299142  \n",
       "402    1.068934  21049     225     5215.221738  \n",
       "403    1.522467  28375     432     8919.365790  "
      ]
     },
     "execution_count": 12,
     "metadata": {},
     "output_type": "execute_result"
    }
   ],
   "source": [
    "berlin = covid_df[covid_df[\"BL\"] == 'Berlin']\n",
    "berlin.head()"
   ]
  },
  {
   "cell_type": "code",
   "execution_count": 13,
   "id": "680adf03",
   "metadata": {},
   "outputs": [
    {
     "data": {
      "text/plain": [
       "Shape__Area    8.933202e+08\n",
       "cases          2.428130e+05\n",
       "deaths         3.759000e+03\n",
       "EWZ            3.657463e+06\n",
       "dtype: float64"
      ]
     },
     "execution_count": 13,
     "metadata": {},
     "output_type": "execute_result"
    }
   ],
   "source": [
    "## Sum relevant features\n",
    "berlin_sum = berlin[['Shape__Area', 'cases', 'deaths', 'EWZ']].sum()\n",
    "berlin_sum"
   ]
  },
  {
   "cell_type": "code",
   "execution_count": 14,
   "id": "b5a6570e",
   "metadata": {},
   "outputs": [
    {
     "data": {
      "text/plain": [
       "death_rate           1.591636\n",
       "cases_per_100k    6640.688066\n",
       "dtype: float64"
      ]
     },
     "execution_count": 14,
     "metadata": {},
     "output_type": "execute_result"
    }
   ],
   "source": [
    "## Average relevant features\n",
    "berlin_average = berlin[['death_rate','cases_per_100k']].mean()\n",
    "berlin_average"
   ]
  },
  {
   "cell_type": "code",
   "execution_count": 15,
   "id": "5972a21b",
   "metadata": {
    "scrolled": true
   },
   "outputs": [
    {
     "data": {
      "text/plain": [
       "BL                          Berlin\n",
       "county                      Berlin\n",
       "EWZ                        3657463\n",
       "Shape__Area       893320245.521974\n",
       "death_rate                1.591636\n",
       "cases                       242813\n",
       "deaths                        3759\n",
       "cases_per_100k         6640.688066\n",
       "Name: 399, dtype: object"
      ]
     },
     "execution_count": 15,
     "metadata": {},
     "output_type": "execute_result"
    }
   ],
   "source": [
    "covid_df['county'][399] = 'Berlin'\n",
    "covid_df['cases'][399] = berlin_sum.cases\n",
    "covid_df['Shape__Area'][399] = berlin_sum.Shape__Area\n",
    "covid_df['EWZ'][399] = berlin_sum.EWZ\n",
    "covid_df['deaths'][399] = berlin_sum.deaths\n",
    "covid_df['death_rate'][399] = berlin_average.death_rate\n",
    "covid_df['cases_per_100k'][399] = berlin_average.cases_per_100k\n",
    "covid_df.loc[399] "
   ]
  },
  {
   "cell_type": "code",
   "execution_count": 16,
   "id": "b5efebe9",
   "metadata": {},
   "outputs": [],
   "source": [
    "covid_df.drop(index=[400,401,402,403,404,405,406,407,408,409,410], axis=0, inplace=True)"
   ]
  },
  {
   "cell_type": "code",
   "execution_count": 17,
   "id": "dd211ea4",
   "metadata": {},
   "outputs": [
    {
     "data": {
      "text/plain": [
       "(400, 8)"
      ]
     },
     "execution_count": 17,
     "metadata": {},
     "output_type": "execute_result"
    }
   ],
   "source": [
    "covid_df.shape"
   ]
  },
  {
   "cell_type": "markdown",
   "id": "1846a034",
   "metadata": {},
   "source": [
    "## Feature Engineering"
   ]
  },
  {
   "cell_type": "markdown",
   "id": "7b60856a",
   "metadata": {},
   "source": [
    "### Create deaths per 100k feature"
   ]
  },
  {
   "cell_type": "code",
   "execution_count": 18,
   "id": "c57a837e",
   "metadata": {},
   "outputs": [
    {
     "data": {
      "text/html": [
       "<div>\n",
       "<style scoped>\n",
       "    .dataframe tbody tr th:only-of-type {\n",
       "        vertical-align: middle;\n",
       "    }\n",
       "\n",
       "    .dataframe tbody tr th {\n",
       "        vertical-align: top;\n",
       "    }\n",
       "\n",
       "    .dataframe thead th {\n",
       "        text-align: right;\n",
       "    }\n",
       "</style>\n",
       "<table border=\"1\" class=\"dataframe\">\n",
       "  <thead>\n",
       "    <tr style=\"text-align: right;\">\n",
       "      <th></th>\n",
       "      <th>BL</th>\n",
       "      <th>county</th>\n",
       "      <th>EWZ</th>\n",
       "      <th>Shape__Area</th>\n",
       "      <th>death_rate</th>\n",
       "      <th>cases</th>\n",
       "      <th>deaths</th>\n",
       "      <th>cases_per_100k</th>\n",
       "      <th>deaths_per_100k</th>\n",
       "    </tr>\n",
       "  </thead>\n",
       "  <tbody>\n",
       "    <tr>\n",
       "      <th>0</th>\n",
       "      <td>Schleswig-Holstein</td>\n",
       "      <td>SK Flensburg</td>\n",
       "      <td>89934</td>\n",
       "      <td>4.918293e+07</td>\n",
       "      <td>1.223721</td>\n",
       "      <td>3187</td>\n",
       "      <td>39</td>\n",
       "      <td>3543.709832</td>\n",
       "      <td>43.365134</td>\n",
       "    </tr>\n",
       "    <tr>\n",
       "      <th>1</th>\n",
       "      <td>Schleswig-Holstein</td>\n",
       "      <td>SK Kiel</td>\n",
       "      <td>246601</td>\n",
       "      <td>1.122314e+08</td>\n",
       "      <td>1.409469</td>\n",
       "      <td>8301</td>\n",
       "      <td>117</td>\n",
       "      <td>3366.166398</td>\n",
       "      <td>47.445063</td>\n",
       "    </tr>\n",
       "    <tr>\n",
       "      <th>2</th>\n",
       "      <td>Schleswig-Holstein</td>\n",
       "      <td>SK Lübeck</td>\n",
       "      <td>215846</td>\n",
       "      <td>2.116771e+08</td>\n",
       "      <td>1.392355</td>\n",
       "      <td>7613</td>\n",
       "      <td>106</td>\n",
       "      <td>3527.051694</td>\n",
       "      <td>49.109087</td>\n",
       "    </tr>\n",
       "    <tr>\n",
       "      <th>3</th>\n",
       "      <td>Schleswig-Holstein</td>\n",
       "      <td>SK Neumünster</td>\n",
       "      <td>79905</td>\n",
       "      <td>7.140224e+07</td>\n",
       "      <td>0.889996</td>\n",
       "      <td>2809</td>\n",
       "      <td>25</td>\n",
       "      <td>3515.424567</td>\n",
       "      <td>31.287153</td>\n",
       "    </tr>\n",
       "    <tr>\n",
       "      <th>4</th>\n",
       "      <td>Schleswig-Holstein</td>\n",
       "      <td>LK Dithmarschen</td>\n",
       "      <td>133251</td>\n",
       "      <td>1.425511e+09</td>\n",
       "      <td>1.915323</td>\n",
       "      <td>2976</td>\n",
       "      <td>57</td>\n",
       "      <td>2233.379112</td>\n",
       "      <td>42.776414</td>\n",
       "    </tr>\n",
       "  </tbody>\n",
       "</table>\n",
       "</div>"
      ],
      "text/plain": [
       "                   BL           county     EWZ   Shape__Area  death_rate  \\\n",
       "0  Schleswig-Holstein     SK Flensburg   89934  4.918293e+07    1.223721   \n",
       "1  Schleswig-Holstein          SK Kiel  246601  1.122314e+08    1.409469   \n",
       "2  Schleswig-Holstein        SK Lübeck  215846  2.116771e+08    1.392355   \n",
       "3  Schleswig-Holstein    SK Neumünster   79905  7.140224e+07    0.889996   \n",
       "4  Schleswig-Holstein  LK Dithmarschen  133251  1.425511e+09    1.915323   \n",
       "\n",
       "   cases  deaths  cases_per_100k  deaths_per_100k  \n",
       "0   3187      39     3543.709832        43.365134  \n",
       "1   8301     117     3366.166398        47.445063  \n",
       "2   7613     106     3527.051694        49.109087  \n",
       "3   2809      25     3515.424567        31.287153  \n",
       "4   2976      57     2233.379112        42.776414  "
      ]
     },
     "execution_count": 18,
     "metadata": {},
     "output_type": "execute_result"
    }
   ],
   "source": [
    "### EWZ is einwohnerzahl is population count\n",
    "covid_df['deaths_per_100k'] = covid_df['deaths']/covid_df['EWZ']*100_000\n",
    "covid_df.head()"
   ]
  },
  {
   "cell_type": "markdown",
   "id": "afb55176",
   "metadata": {},
   "source": [
    "### Create Population Density features"
   ]
  },
  {
   "cell_type": "markdown",
   "id": "42f631a3",
   "metadata": {},
   "source": [
    "divide number of people per county by area per county, multiply by 1 million to have result in number of people per square kilometer"
   ]
  },
  {
   "cell_type": "code",
   "execution_count": 19,
   "id": "5d0d9307",
   "metadata": {},
   "outputs": [],
   "source": [
    "covid_df['Population_density'] = covid_df['EWZ']/covid_df['Shape__Area']*1_000_000"
   ]
  },
  {
   "cell_type": "markdown",
   "id": "7ffb875f",
   "metadata": {},
   "source": [
    "### Create vaccination rate feature"
   ]
  },
  {
   "cell_type": "code",
   "execution_count": 20,
   "id": "0f327b2b",
   "metadata": {
    "scrolled": true
   },
   "outputs": [
    {
     "data": {
      "text/plain": [
       "array(['Schleswig-Holstein', 'Hamburg', 'Niedersachsen', 'Bremen',\n",
       "       'Nordrhein-Westfalen', 'Hessen', 'Rheinland-Pfalz',\n",
       "       'Baden-Württemberg', 'Bayern', 'Saarland', 'Brandenburg',\n",
       "       'Mecklenburg-Vorpommern', 'Sachsen', 'Sachsen-Anhalt', 'Thüringen',\n",
       "       'Berlin'], dtype=object)"
      ]
     },
     "execution_count": 20,
     "metadata": {},
     "output_type": "execute_result"
    }
   ],
   "source": [
    "covid_df['BL'].unique()"
   ]
  },
  {
   "cell_type": "code",
   "execution_count": 21,
   "id": "3788fc24",
   "metadata": {},
   "outputs": [],
   "source": [
    "### Map vaccinationrate per bundesland to the dataset\n",
    "d = {'Berlin': 0.688, 'Rheinland-Pfalz': 0.678, 'Bayern': 0.663, 'Baden-Württemberg': 0.662,\n",
    "       'Thüringen': 0.621, 'Sachsen-Anhalt': 0.645, 'Niedersachsen': 0.699, 'Brandenburg': 0.617,\n",
    "       'Sachsen': 0.578, 'Hessen': 0.672, 'Nordrhein-Westfalen': 0.715, 'Schleswig-Holstein': 0.725,\n",
    "       'Mecklenburg-Vorpommern': 0.665, 'Saarland':0.746, 'Bremen': 0.797, 'Hamburg':0.738}"
   ]
  },
  {
   "cell_type": "code",
   "execution_count": 22,
   "id": "d95bf9ac",
   "metadata": {},
   "outputs": [
    {
     "data": {
      "text/html": [
       "<div>\n",
       "<style scoped>\n",
       "    .dataframe tbody tr th:only-of-type {\n",
       "        vertical-align: middle;\n",
       "    }\n",
       "\n",
       "    .dataframe tbody tr th {\n",
       "        vertical-align: top;\n",
       "    }\n",
       "\n",
       "    .dataframe thead th {\n",
       "        text-align: right;\n",
       "    }\n",
       "</style>\n",
       "<table border=\"1\" class=\"dataframe\">\n",
       "  <thead>\n",
       "    <tr style=\"text-align: right;\">\n",
       "      <th></th>\n",
       "      <th>BL</th>\n",
       "      <th>county</th>\n",
       "      <th>EWZ</th>\n",
       "      <th>Shape__Area</th>\n",
       "      <th>death_rate</th>\n",
       "      <th>cases</th>\n",
       "      <th>deaths</th>\n",
       "      <th>cases_per_100k</th>\n",
       "      <th>deaths_per_100k</th>\n",
       "      <th>Population_density</th>\n",
       "      <th>Fully_vaccinated</th>\n",
       "    </tr>\n",
       "  </thead>\n",
       "  <tbody>\n",
       "    <tr>\n",
       "      <th>0</th>\n",
       "      <td>Schleswig-Holstein</td>\n",
       "      <td>SK Flensburg</td>\n",
       "      <td>89934</td>\n",
       "      <td>4.918293e+07</td>\n",
       "      <td>1.223721</td>\n",
       "      <td>3187</td>\n",
       "      <td>39</td>\n",
       "      <td>3543.709832</td>\n",
       "      <td>43.365134</td>\n",
       "      <td>1828.561262</td>\n",
       "      <td>0.725</td>\n",
       "    </tr>\n",
       "    <tr>\n",
       "      <th>1</th>\n",
       "      <td>Schleswig-Holstein</td>\n",
       "      <td>SK Kiel</td>\n",
       "      <td>246601</td>\n",
       "      <td>1.122314e+08</td>\n",
       "      <td>1.409469</td>\n",
       "      <td>8301</td>\n",
       "      <td>117</td>\n",
       "      <td>3366.166398</td>\n",
       "      <td>47.445063</td>\n",
       "      <td>2197.254026</td>\n",
       "      <td>0.725</td>\n",
       "    </tr>\n",
       "    <tr>\n",
       "      <th>2</th>\n",
       "      <td>Schleswig-Holstein</td>\n",
       "      <td>SK Lübeck</td>\n",
       "      <td>215846</td>\n",
       "      <td>2.116771e+08</td>\n",
       "      <td>1.392355</td>\n",
       "      <td>7613</td>\n",
       "      <td>106</td>\n",
       "      <td>3527.051694</td>\n",
       "      <td>49.109087</td>\n",
       "      <td>1019.694565</td>\n",
       "      <td>0.725</td>\n",
       "    </tr>\n",
       "    <tr>\n",
       "      <th>3</th>\n",
       "      <td>Schleswig-Holstein</td>\n",
       "      <td>SK Neumünster</td>\n",
       "      <td>79905</td>\n",
       "      <td>7.140224e+07</td>\n",
       "      <td>0.889996</td>\n",
       "      <td>2809</td>\n",
       "      <td>25</td>\n",
       "      <td>3515.424567</td>\n",
       "      <td>31.287153</td>\n",
       "      <td>1119.082513</td>\n",
       "      <td>0.725</td>\n",
       "    </tr>\n",
       "    <tr>\n",
       "      <th>4</th>\n",
       "      <td>Schleswig-Holstein</td>\n",
       "      <td>LK Dithmarschen</td>\n",
       "      <td>133251</td>\n",
       "      <td>1.425511e+09</td>\n",
       "      <td>1.915323</td>\n",
       "      <td>2976</td>\n",
       "      <td>57</td>\n",
       "      <td>2233.379112</td>\n",
       "      <td>42.776414</td>\n",
       "      <td>93.475981</td>\n",
       "      <td>0.725</td>\n",
       "    </tr>\n",
       "    <tr>\n",
       "      <th>...</th>\n",
       "      <td>...</td>\n",
       "      <td>...</td>\n",
       "      <td>...</td>\n",
       "      <td>...</td>\n",
       "      <td>...</td>\n",
       "      <td>...</td>\n",
       "      <td>...</td>\n",
       "      <td>...</td>\n",
       "      <td>...</td>\n",
       "      <td>...</td>\n",
       "      <td>...</td>\n",
       "    </tr>\n",
       "    <tr>\n",
       "      <th>395</th>\n",
       "      <td>Thüringen</td>\n",
       "      <td>LK Saale-Holzland-Kreis</td>\n",
       "      <td>82816</td>\n",
       "      <td>8.156104e+08</td>\n",
       "      <td>2.363552</td>\n",
       "      <td>6431</td>\n",
       "      <td>152</td>\n",
       "      <td>7765.407651</td>\n",
       "      <td>183.539413</td>\n",
       "      <td>101.538672</td>\n",
       "      <td>0.621</td>\n",
       "    </tr>\n",
       "    <tr>\n",
       "      <th>396</th>\n",
       "      <td>Thüringen</td>\n",
       "      <td>LK Saale-Orla-Kreis</td>\n",
       "      <td>79632</td>\n",
       "      <td>1.151821e+09</td>\n",
       "      <td>2.385050</td>\n",
       "      <td>8134</td>\n",
       "      <td>194</td>\n",
       "      <td>10214.486639</td>\n",
       "      <td>243.620655</td>\n",
       "      <td>69.135716</td>\n",
       "      <td>0.621</td>\n",
       "    </tr>\n",
       "    <tr>\n",
       "      <th>397</th>\n",
       "      <td>Thüringen</td>\n",
       "      <td>LK Greiz</td>\n",
       "      <td>96668</td>\n",
       "      <td>8.465426e+08</td>\n",
       "      <td>2.504856</td>\n",
       "      <td>9781</td>\n",
       "      <td>245</td>\n",
       "      <td>10118.136302</td>\n",
       "      <td>253.444780</td>\n",
       "      <td>114.191538</td>\n",
       "      <td>0.621</td>\n",
       "    </tr>\n",
       "    <tr>\n",
       "      <th>398</th>\n",
       "      <td>Thüringen</td>\n",
       "      <td>LK Altenburger Land</td>\n",
       "      <td>88356</td>\n",
       "      <td>5.697932e+08</td>\n",
       "      <td>3.458946</td>\n",
       "      <td>9049</td>\n",
       "      <td>313</td>\n",
       "      <td>10241.522930</td>\n",
       "      <td>354.248721</td>\n",
       "      <td>155.066795</td>\n",
       "      <td>0.621</td>\n",
       "    </tr>\n",
       "    <tr>\n",
       "      <th>399</th>\n",
       "      <td>Berlin</td>\n",
       "      <td>Berlin</td>\n",
       "      <td>3657463</td>\n",
       "      <td>8.933202e+08</td>\n",
       "      <td>1.591636</td>\n",
       "      <td>242813</td>\n",
       "      <td>3759</td>\n",
       "      <td>6640.688066</td>\n",
       "      <td>102.776159</td>\n",
       "      <td>4094.234983</td>\n",
       "      <td>0.688</td>\n",
       "    </tr>\n",
       "  </tbody>\n",
       "</table>\n",
       "<p>400 rows × 11 columns</p>\n",
       "</div>"
      ],
      "text/plain": [
       "                     BL                   county      EWZ   Shape__Area  \\\n",
       "0    Schleswig-Holstein             SK Flensburg    89934  4.918293e+07   \n",
       "1    Schleswig-Holstein                  SK Kiel   246601  1.122314e+08   \n",
       "2    Schleswig-Holstein                SK Lübeck   215846  2.116771e+08   \n",
       "3    Schleswig-Holstein            SK Neumünster    79905  7.140224e+07   \n",
       "4    Schleswig-Holstein          LK Dithmarschen   133251  1.425511e+09   \n",
       "..                  ...                      ...      ...           ...   \n",
       "395           Thüringen  LK Saale-Holzland-Kreis    82816  8.156104e+08   \n",
       "396           Thüringen      LK Saale-Orla-Kreis    79632  1.151821e+09   \n",
       "397           Thüringen                 LK Greiz    96668  8.465426e+08   \n",
       "398           Thüringen      LK Altenburger Land    88356  5.697932e+08   \n",
       "399              Berlin                   Berlin  3657463  8.933202e+08   \n",
       "\n",
       "     death_rate   cases  deaths  cases_per_100k  deaths_per_100k  \\\n",
       "0      1.223721    3187      39     3543.709832        43.365134   \n",
       "1      1.409469    8301     117     3366.166398        47.445063   \n",
       "2      1.392355    7613     106     3527.051694        49.109087   \n",
       "3      0.889996    2809      25     3515.424567        31.287153   \n",
       "4      1.915323    2976      57     2233.379112        42.776414   \n",
       "..          ...     ...     ...             ...              ...   \n",
       "395    2.363552    6431     152     7765.407651       183.539413   \n",
       "396    2.385050    8134     194    10214.486639       243.620655   \n",
       "397    2.504856    9781     245    10118.136302       253.444780   \n",
       "398    3.458946    9049     313    10241.522930       354.248721   \n",
       "399    1.591636  242813    3759     6640.688066       102.776159   \n",
       "\n",
       "     Population_density  Fully_vaccinated  \n",
       "0           1828.561262             0.725  \n",
       "1           2197.254026             0.725  \n",
       "2           1019.694565             0.725  \n",
       "3           1119.082513             0.725  \n",
       "4             93.475981             0.725  \n",
       "..                  ...               ...  \n",
       "395          101.538672             0.621  \n",
       "396           69.135716             0.621  \n",
       "397          114.191538             0.621  \n",
       "398          155.066795             0.621  \n",
       "399         4094.234983             0.688  \n",
       "\n",
       "[400 rows x 11 columns]"
      ]
     },
     "execution_count": 22,
     "metadata": {},
     "output_type": "execute_result"
    }
   ],
   "source": [
    "covid_df['Fully_vaccinated'] = covid_df['BL'].map(d)\n",
    "covid_df"
   ]
  },
  {
   "cell_type": "markdown",
   "id": "4d5a9009",
   "metadata": {},
   "source": [
    "# Pollution Data Preproc"
   ]
  },
  {
   "cell_type": "markdown",
   "id": "27b9a45e",
   "metadata": {},
   "source": [
    "## Keep only 'average' scenario"
   ]
  },
  {
   "cell_type": "markdown",
   "id": "5c1f948c",
   "metadata": {},
   "source": [
    "3 scenarios (rural, urban, average): average combines rural and urban > keep only average"
   ]
  },
  {
   "cell_type": "code",
   "execution_count": 23,
   "id": "1bb38d75",
   "metadata": {
    "scrolled": true
   },
   "outputs": [
    {
     "data": {
      "text/plain": [
       "(12060, 19)"
      ]
     },
     "execution_count": 23,
     "metadata": {},
     "output_type": "execute_result"
    }
   ],
   "source": [
    "pollution_df.shape"
   ]
  },
  {
   "cell_type": "code",
   "execution_count": 24,
   "id": "cb713e58",
   "metadata": {
    "scrolled": true
   },
   "outputs": [
    {
     "data": {
      "text/plain": [
       "(4020, 19)"
      ]
     },
     "execution_count": 24,
     "metadata": {},
     "output_type": "execute_result"
    }
   ],
   "source": [
    "pollution_df = pollution_df[pollution_df.scenario == 'average']\n",
    "pollution_df.shape"
   ]
  },
  {
   "cell_type": "markdown",
   "id": "57fd0889",
   "metadata": {},
   "source": [
    "## Match counties to Covid"
   ]
  },
  {
   "cell_type": "markdown",
   "id": "d763efac",
   "metadata": {},
   "source": [
    "Counties were present during 2010-2019 (pollution dataset), but were later merged and are therefore not present in covid dataset (2021)"
   ]
  },
  {
   "cell_type": "code",
   "execution_count": 25,
   "id": "b71426fc",
   "metadata": {},
   "outputs": [],
   "source": [
    "## Some funny characters present in county names of APExpose dataset\n",
    "## Replace those characters with equivalent German character to match Covid dataset and be able to merge\n",
    "\n",
    "pollution_df['county'] = pollution_df['county'].apply(lambda x: x.replace('Ÿ','ü'))\n",
    "pollution_df['county'] = pollution_df['county'].apply(lambda x: x.replace('š','ö'))\n",
    "pollution_df['county'] = pollution_df['county'].apply(lambda x: x.replace('§','ß'))\n",
    "pollution_df['county'] = pollution_df['county'].apply(lambda x: x.replace('Š','ä'))"
   ]
  },
  {
   "cell_type": "code",
   "execution_count": 26,
   "id": "42749acd",
   "metadata": {},
   "outputs": [
    {
     "data": {
      "text/plain": [
       "(4010, 19)"
      ]
     },
     "execution_count": 26,
     "metadata": {},
     "output_type": "execute_result"
    }
   ],
   "source": [
    "pollution_df = pollution_df[pollution_df.county != 'Eisenach']\n",
    "pollution_df.shape"
   ]
  },
  {
   "cell_type": "code",
   "execution_count": 27,
   "id": "f764e40a",
   "metadata": {},
   "outputs": [
    {
     "data": {
      "text/plain": [
       "(4000, 19)"
      ]
     },
     "execution_count": 27,
     "metadata": {},
     "output_type": "execute_result"
    }
   ],
   "source": [
    "pollution_df = pollution_df[pollution_df.county != 'Osterode am Harz']\n",
    "pollution_df.shape"
   ]
  },
  {
   "cell_type": "markdown",
   "id": "de7a8c11",
   "metadata": {},
   "source": [
    "## Keep relevant features only"
   ]
  },
  {
   "cell_type": "code",
   "execution_count": 28,
   "id": "eae6ecd2",
   "metadata": {},
   "outputs": [
    {
     "data": {
      "text/plain": [
       "Index(['county', 'year', 'NO2_annualMean', 'NO2_hrOver200', 'NO_annualMean',\n",
       "       'O3_annualMean', 'O3_daysOver120', 'O3_dailyMaxAnnualMean',\n",
       "       'O3_dailyHourlyMax', 'O3_daily8HrMax', 'PM10_annualMean',\n",
       "       'PM10_daysOver50', 'PM2.5_annualMean', 'kreis_code', 'scenario',\n",
       "       'ISO_code', 'Kreis_Scluessel', 'Lon', 'Lat'],\n",
       "      dtype='object')"
      ]
     },
     "execution_count": 28,
     "metadata": {},
     "output_type": "execute_result"
    }
   ],
   "source": [
    "pollution_df.columns"
   ]
  },
  {
   "cell_type": "code",
   "execution_count": 29,
   "id": "48c035e5",
   "metadata": {},
   "outputs": [],
   "source": [
    "pollution_df = pollution_df[['county', 'year', 'NO2_annualMean', 'NO2_hrOver200', 'NO_annualMean',\n",
    "       'O3_annualMean', 'O3_daysOver120', 'O3_dailyMaxAnnualMean',\n",
    "       'O3_dailyHourlyMax', 'O3_daily8HrMax', 'PM10_annualMean',\n",
    "       'PM10_daysOver50', 'PM2.5_annualMean']]"
   ]
  },
  {
   "cell_type": "markdown",
   "id": "5b7d46bd",
   "metadata": {},
   "source": [
    "## Sort per county and year"
   ]
  },
  {
   "cell_type": "code",
   "execution_count": 30,
   "id": "a38de4d6",
   "metadata": {
    "scrolled": true
   },
   "outputs": [
    {
     "data": {
      "text/html": [
       "<div>\n",
       "<style scoped>\n",
       "    .dataframe tbody tr th:only-of-type {\n",
       "        vertical-align: middle;\n",
       "    }\n",
       "\n",
       "    .dataframe tbody tr th {\n",
       "        vertical-align: top;\n",
       "    }\n",
       "\n",
       "    .dataframe thead th {\n",
       "        text-align: right;\n",
       "    }\n",
       "</style>\n",
       "<table border=\"1\" class=\"dataframe\">\n",
       "  <thead>\n",
       "    <tr style=\"text-align: right;\">\n",
       "      <th></th>\n",
       "      <th>county</th>\n",
       "      <th>year</th>\n",
       "      <th>NO2_annualMean</th>\n",
       "      <th>NO2_hrOver200</th>\n",
       "      <th>NO_annualMean</th>\n",
       "      <th>O3_annualMean</th>\n",
       "      <th>O3_daysOver120</th>\n",
       "      <th>O3_dailyMaxAnnualMean</th>\n",
       "      <th>O3_dailyHourlyMax</th>\n",
       "      <th>O3_daily8HrMax</th>\n",
       "      <th>PM10_annualMean</th>\n",
       "      <th>PM10_daysOver50</th>\n",
       "      <th>PM2.5_annualMean</th>\n",
       "    </tr>\n",
       "  </thead>\n",
       "  <tbody>\n",
       "    <tr>\n",
       "      <th>0</th>\n",
       "      <td>Berlin</td>\n",
       "      <td>2010</td>\n",
       "      <td>2133097</td>\n",
       "      <td>0.0</td>\n",
       "      <td>4689645</td>\n",
       "      <td>4814162</td>\n",
       "      <td>1,32167E+14</td>\n",
       "      <td>7,5384E+14</td>\n",
       "      <td>1,7932E+14</td>\n",
       "      <td>1,61913E+14</td>\n",
       "      <td>2521095</td>\n",
       "      <td>3028571</td>\n",
       "      <td>2056858</td>\n",
       "    </tr>\n",
       "    <tr>\n",
       "      <th>1</th>\n",
       "      <td>Berlin</td>\n",
       "      <td>2011</td>\n",
       "      <td>2110792</td>\n",
       "      <td>0.0</td>\n",
       "      <td>5591758</td>\n",
       "      <td>4678272</td>\n",
       "      <td>1,40501E+14</td>\n",
       "      <td>7,55153E+14</td>\n",
       "      <td>1,79362E+14</td>\n",
       "      <td>1,61987E+14</td>\n",
       "      <td>2283172</td>\n",
       "      <td>2557143</td>\n",
       "      <td>2017655</td>\n",
       "    </tr>\n",
       "    <tr>\n",
       "      <th>2</th>\n",
       "      <td>Berlin</td>\n",
       "      <td>2012</td>\n",
       "      <td>20656</td>\n",
       "      <td>0.0</td>\n",
       "      <td>5372472</td>\n",
       "      <td>4526885</td>\n",
       "      <td>1,51321E+14</td>\n",
       "      <td>7,56857E+14</td>\n",
       "      <td>1,79416E+14</td>\n",
       "      <td>1,62083E+14</td>\n",
       "      <td>2053782</td>\n",
       "      <td>11</td>\n",
       "      <td>1718541</td>\n",
       "    </tr>\n",
       "    <tr>\n",
       "      <th>3</th>\n",
       "      <td>Berlin</td>\n",
       "      <td>2013</td>\n",
       "      <td>1916632</td>\n",
       "      <td>0.0</td>\n",
       "      <td>437616</td>\n",
       "      <td>4791164</td>\n",
       "      <td>0.1428571</td>\n",
       "      <td>7314514</td>\n",
       "      <td>1718557</td>\n",
       "      <td>1575654</td>\n",
       "      <td>2105746</td>\n",
       "      <td>13</td>\n",
       "      <td>1583933</td>\n",
       "    </tr>\n",
       "    <tr>\n",
       "      <th>4</th>\n",
       "      <td>Berlin</td>\n",
       "      <td>2014</td>\n",
       "      <td>2046666</td>\n",
       "      <td>0.0</td>\n",
       "      <td>1575506</td>\n",
       "      <td>4780345</td>\n",
       "      <td>0</td>\n",
       "      <td>7165981</td>\n",
       "      <td>1819686</td>\n",
       "      <td>1665395</td>\n",
       "      <td>2420021</td>\n",
       "      <td>22</td>\n",
       "      <td>1977463</td>\n",
       "    </tr>\n",
       "  </tbody>\n",
       "</table>\n",
       "</div>"
      ],
      "text/plain": [
       "   county  year NO2_annualMean  NO2_hrOver200 NO_annualMean O3_annualMean  \\\n",
       "0  Berlin  2010        2133097            0.0       4689645       4814162   \n",
       "1  Berlin  2011        2110792            0.0       5591758       4678272   \n",
       "2  Berlin  2012          20656            0.0       5372472       4526885   \n",
       "3  Berlin  2013        1916632            0.0        437616       4791164   \n",
       "4  Berlin  2014        2046666            0.0       1575506       4780345   \n",
       "\n",
       "  O3_daysOver120 O3_dailyMaxAnnualMean O3_dailyHourlyMax O3_daily8HrMax  \\\n",
       "0    1,32167E+14            7,5384E+14        1,7932E+14    1,61913E+14   \n",
       "1    1,40501E+14           7,55153E+14       1,79362E+14    1,61987E+14   \n",
       "2    1,51321E+14           7,56857E+14       1,79416E+14    1,62083E+14   \n",
       "3      0.1428571               7314514           1718557        1575654   \n",
       "4              0               7165981           1819686        1665395   \n",
       "\n",
       "  PM10_annualMean PM10_daysOver50 PM2.5_annualMean  \n",
       "0         2521095         3028571          2056858  \n",
       "1         2283172         2557143          2017655  \n",
       "2         2053782              11          1718541  \n",
       "3         2105746              13          1583933  \n",
       "4         2420021              22          1977463  "
      ]
     },
     "execution_count": 30,
     "metadata": {},
     "output_type": "execute_result"
    }
   ],
   "source": [
    "pollution_df.sort_values(['county','year'], axis=0, ascending=True,inplace=True,ignore_index=True)\n",
    "pollution_df.head()"
   ]
  },
  {
   "cell_type": "code",
   "execution_count": 31,
   "id": "3da6ca0e",
   "metadata": {},
   "outputs": [
    {
     "data": {
      "text/html": [
       "<div>\n",
       "<style scoped>\n",
       "    .dataframe tbody tr th:only-of-type {\n",
       "        vertical-align: middle;\n",
       "    }\n",
       "\n",
       "    .dataframe tbody tr th {\n",
       "        vertical-align: top;\n",
       "    }\n",
       "\n",
       "    .dataframe thead th {\n",
       "        text-align: right;\n",
       "    }\n",
       "</style>\n",
       "<table border=\"1\" class=\"dataframe\">\n",
       "  <thead>\n",
       "    <tr style=\"text-align: right;\">\n",
       "      <th></th>\n",
       "      <th>county</th>\n",
       "      <th>year</th>\n",
       "      <th>NO2_annualMean</th>\n",
       "      <th>NO2_hrOver200</th>\n",
       "      <th>NO_annualMean</th>\n",
       "      <th>O3_annualMean</th>\n",
       "      <th>O3_daysOver120</th>\n",
       "      <th>O3_dailyMaxAnnualMean</th>\n",
       "      <th>O3_dailyHourlyMax</th>\n",
       "      <th>O3_daily8HrMax</th>\n",
       "      <th>PM10_annualMean</th>\n",
       "      <th>PM10_daysOver50</th>\n",
       "      <th>PM2.5_annualMean</th>\n",
       "    </tr>\n",
       "  </thead>\n",
       "  <tbody>\n",
       "    <tr>\n",
       "      <th>3995</th>\n",
       "      <td>StädteRegion Aachen</td>\n",
       "      <td>2015</td>\n",
       "      <td>1950356</td>\n",
       "      <td>0.0</td>\n",
       "      <td>182593</td>\n",
       "      <td>5532369</td>\n",
       "      <td>3.5</td>\n",
       "      <td>7467137</td>\n",
       "      <td>202228</td>\n",
       "      <td>1799441</td>\n",
       "      <td>1915463</td>\n",
       "      <td>0</td>\n",
       "      <td>96304</td>\n",
       "    </tr>\n",
       "    <tr>\n",
       "      <th>3996</th>\n",
       "      <td>StädteRegion Aachen</td>\n",
       "      <td>2016</td>\n",
       "      <td>1911941</td>\n",
       "      <td>0.0</td>\n",
       "      <td>2025656</td>\n",
       "      <td>5363288</td>\n",
       "      <td>1</td>\n",
       "      <td>7343013</td>\n",
       "      <td>223904</td>\n",
       "      <td>1853576</td>\n",
       "      <td>1779189</td>\n",
       "      <td>0</td>\n",
       "      <td>9114769</td>\n",
       "    </tr>\n",
       "    <tr>\n",
       "      <th>3997</th>\n",
       "      <td>StädteRegion Aachen</td>\n",
       "      <td>2017</td>\n",
       "      <td>1937104</td>\n",
       "      <td>0.0</td>\n",
       "      <td>2045534</td>\n",
       "      <td>5632148</td>\n",
       "      <td>1.5</td>\n",
       "      <td>7619433</td>\n",
       "      <td>209181</td>\n",
       "      <td>1934222</td>\n",
       "      <td>1819552</td>\n",
       "      <td>0</td>\n",
       "      <td>9032636</td>\n",
       "    </tr>\n",
       "    <tr>\n",
       "      <th>3998</th>\n",
       "      <td>StädteRegion Aachen</td>\n",
       "      <td>2018</td>\n",
       "      <td>1878395</td>\n",
       "      <td>0.0</td>\n",
       "      <td>1830183</td>\n",
       "      <td>6082965</td>\n",
       "      <td>5.5</td>\n",
       "      <td>8324988</td>\n",
       "      <td>2059055</td>\n",
       "      <td>1864057</td>\n",
       "      <td>1896339</td>\n",
       "      <td>0</td>\n",
       "      <td>9965479</td>\n",
       "    </tr>\n",
       "    <tr>\n",
       "      <th>3999</th>\n",
       "      <td>StädteRegion Aachen</td>\n",
       "      <td>2019</td>\n",
       "      <td>8702983</td>\n",
       "      <td>0.0</td>\n",
       "      <td>0.7439278</td>\n",
       "      <td>5889937</td>\n",
       "      <td>8</td>\n",
       "      <td>8062513</td>\n",
       "      <td>212635</td>\n",
       "      <td>1709133</td>\n",
       "      <td>1036783</td>\n",
       "      <td>1</td>\n",
       "      <td>1,25724E+13</td>\n",
       "    </tr>\n",
       "  </tbody>\n",
       "</table>\n",
       "</div>"
      ],
      "text/plain": [
       "                   county  year NO2_annualMean  NO2_hrOver200 NO_annualMean  \\\n",
       "3995  StädteRegion Aachen  2015        1950356            0.0        182593   \n",
       "3996  StädteRegion Aachen  2016        1911941            0.0       2025656   \n",
       "3997  StädteRegion Aachen  2017        1937104            0.0       2045534   \n",
       "3998  StädteRegion Aachen  2018        1878395            0.0       1830183   \n",
       "3999  StädteRegion Aachen  2019        8702983            0.0     0.7439278   \n",
       "\n",
       "     O3_annualMean O3_daysOver120 O3_dailyMaxAnnualMean O3_dailyHourlyMax  \\\n",
       "3995       5532369            3.5               7467137            202228   \n",
       "3996       5363288              1               7343013            223904   \n",
       "3997       5632148            1.5               7619433            209181   \n",
       "3998       6082965            5.5               8324988           2059055   \n",
       "3999       5889937              8               8062513            212635   \n",
       "\n",
       "     O3_daily8HrMax PM10_annualMean PM10_daysOver50 PM2.5_annualMean  \n",
       "3995        1799441         1915463               0            96304  \n",
       "3996        1853576         1779189               0          9114769  \n",
       "3997        1934222         1819552               0          9032636  \n",
       "3998        1864057         1896339               0          9965479  \n",
       "3999        1709133         1036783               1      1,25724E+13  "
      ]
     },
     "execution_count": 31,
     "metadata": {},
     "output_type": "execute_result"
    }
   ],
   "source": [
    "pollution_df.tail()"
   ]
  },
  {
   "cell_type": "markdown",
   "id": "f0622c5f",
   "metadata": {
    "heading_collapsed": true
   },
   "source": [
    "# GeoJSON Data Preprocessing"
   ]
  },
  {
   "cell_type": "markdown",
   "id": "8125d30a",
   "metadata": {
    "hidden": true
   },
   "source": [
    "Mannually matched counties in GeoJSON with Covid an Pollution Data"
   ]
  },
  {
   "cell_type": "code",
   "execution_count": 32,
   "id": "b5875686",
   "metadata": {
    "hidden": true
   },
   "outputs": [
    {
     "data": {
      "text/plain": [
       "(4370, 31)"
      ]
     },
     "execution_count": 32,
     "metadata": {},
     "output_type": "execute_result"
    }
   ],
   "source": [
    "geo_df = pd.read_csv('../lung_pollution/data/covid_pollution_complete.csv')\n",
    "\n",
    "geo_df.shape"
   ]
  },
  {
   "cell_type": "markdown",
   "id": "220fccf0",
   "metadata": {},
   "source": [
    "# Merge Covid and Pollution Data"
   ]
  },
  {
   "cell_type": "code",
   "execution_count": 33,
   "id": "c0e9e117",
   "metadata": {},
   "outputs": [
    {
     "data": {
      "text/plain": [
       "(4000, 23)"
      ]
     },
     "execution_count": 33,
     "metadata": {},
     "output_type": "execute_result"
    }
   ],
   "source": [
    "merge_df = pollution_df.merge(covid_df, how = 'inner', on='county')\n",
    "merge_df.shape"
   ]
  },
  {
   "cell_type": "code",
   "execution_count": 34,
   "id": "bdb83d16",
   "metadata": {
    "scrolled": false
   },
   "outputs": [
    {
     "data": {
      "text/plain": [
       "Index(['county', 'year', 'NO2_annualMean', 'NO2_hrOver200', 'NO_annualMean',\n",
       "       'O3_annualMean', 'O3_daysOver120', 'O3_dailyMaxAnnualMean',\n",
       "       'O3_dailyHourlyMax', 'O3_daily8HrMax', 'PM10_annualMean',\n",
       "       'PM10_daysOver50', 'PM2.5_annualMean', 'BL', 'EWZ', 'Shape__Area',\n",
       "       'death_rate', 'cases', 'deaths', 'cases_per_100k', 'deaths_per_100k',\n",
       "       'Population_density', 'Fully_vaccinated'],\n",
       "      dtype='object')"
      ]
     },
     "execution_count": 34,
     "metadata": {},
     "output_type": "execute_result"
    }
   ],
   "source": [
    "merge_df.columns"
   ]
  },
  {
   "cell_type": "code",
   "execution_count": 35,
   "id": "591d06b6",
   "metadata": {},
   "outputs": [],
   "source": [
    "merge_df = merge_df.rename(columns={'PM2.5_annualMean': 'PM2_5_annualMean'})"
   ]
  },
  {
   "cell_type": "code",
   "execution_count": 36,
   "id": "023e19bb",
   "metadata": {},
   "outputs": [],
   "source": [
    "merge_df = merge_df[['county', 'year', 'NO2_annualMean', 'NO2_hrOver200', 'NO_annualMean',\n",
    "       'O3_annualMean', 'O3_daysOver120', 'O3_dailyMaxAnnualMean',\n",
    "       'O3_dailyHourlyMax', 'O3_daily8HrMax','PM10_annualMean','PM2_5_annualMean','cases_per_100k', 'deaths_per_100k',\n",
    "       'Population_density', 'Fully_vaccinated']]"
   ]
  },
  {
   "cell_type": "code",
   "execution_count": 37,
   "id": "5caf5294",
   "metadata": {},
   "outputs": [],
   "source": [
    "merge_df.to_csv('../lung_pollution/data/covid_pollution.csv', index=False)"
   ]
  }
 ],
 "metadata": {
  "kernelspec": {
   "display_name": "Python 3 (ipykernel)",
   "language": "python",
   "name": "python3"
  },
  "language_info": {
   "codemirror_mode": {
    "name": "ipython",
    "version": 3
   },
   "file_extension": ".py",
   "mimetype": "text/x-python",
   "name": "python",
   "nbconvert_exporter": "python",
   "pygments_lexer": "ipython3",
   "version": "3.8.12"
  },
  "toc": {
   "base_numbering": 1,
   "nav_menu": {},
   "number_sections": true,
   "sideBar": true,
   "skip_h1_title": false,
   "title_cell": "Table of Contents",
   "title_sidebar": "Contents",
   "toc_cell": false,
   "toc_position": {},
   "toc_section_display": true,
   "toc_window_display": false
  }
 },
 "nbformat": 4,
 "nbformat_minor": 5
}
