{
 "cells": [
  {
   "cell_type": "code",
   "execution_count": 1,
   "id": "b524f781",
   "metadata": {},
   "outputs": [],
   "source": [
    "import pandas as pd\n",
    "import numpy as np\n",
    "import json"
   ]
  },
  {
   "cell_type": "markdown",
   "id": "0194c47f",
   "metadata": {},
   "source": [
    "clean merged covid dataset\n"
   ]
  },
  {
   "cell_type": "code",
   "execution_count": 2,
   "id": "41ad69ef",
   "metadata": {
    "scrolled": true
   },
   "outputs": [],
   "source": [
    "df_clean = pd.read_csv('/Users/saraisidebroggini/code/dorien-er/lung_pollution/lung_pollution/data/covid_pollution_clean.csv')\n",
    "\n"
   ]
  },
  {
   "cell_type": "markdown",
   "id": "22e5b216",
   "metadata": {},
   "source": [
    "map counties dataset\n"
   ]
  },
  {
   "cell_type": "code",
   "execution_count": 3,
   "id": "d2a08bd8",
   "metadata": {},
   "outputs": [],
   "source": [
    "url = 'https://raw.githubusercontent.com/isellsoap/deutschlandGeoJSON/main/4_kreise/1_sehr_hoch.geo.json'\n",
    "dfObj = pd.read_json(url)\n",
    "\n",
    "list_ids = []\n",
    "list_counties = []\n",
    "list_coords = []\n",
    "list_code_counties = []\n",
    "for i in range(len(dfObj['features'])):\n",
    "    list_ids.append(dfObj[\"features\"][i][\"id\"])\n",
    "    list_counties.append(dfObj[\"features\"][i][\"properties\"][\"NAME_3\"])\n",
    "    list_coords.append(dfObj[\"features\"][i][\"geometry\"]['coordinates'][0])\n",
    "    list_code_counties.append(dfObj[\"features\"][i][\"properties\"][\"ID_3\"])\n",
    "    \n",
    "\n",
    "df_map = pd.DataFrame(list(zip(list_ids, list_counties, list_coords,list_code_counties)), columns =['Id', 'County', 'Coordinates','Id_counties'])"
   ]
  },
  {
   "cell_type": "code",
   "execution_count": 4,
   "id": "0a11d86e",
   "metadata": {},
   "outputs": [
    {
     "data": {
      "text/plain": [
       "400"
      ]
     },
     "execution_count": 4,
     "metadata": {},
     "output_type": "execute_result"
    }
   ],
   "source": [
    "len(df_clean['county'].unique())\n"
   ]
  },
  {
   "cell_type": "markdown",
   "id": "16054e78",
   "metadata": {},
   "source": [
    "!!!! StädteRegion Aachen\n",
    "\n",
    "!!!! Berlin"
   ]
  },
  {
   "cell_type": "code",
   "execution_count": 5,
   "id": "b175ae13",
   "metadata": {},
   "outputs": [
    {
     "data": {
      "text/plain": [
       "434"
      ]
     },
     "execution_count": 5,
     "metadata": {},
     "output_type": "execute_result"
    }
   ],
   "source": [
    "len(df_map['County'])"
   ]
  },
  {
   "cell_type": "code",
   "execution_count": 6,
   "id": "83f9fd76",
   "metadata": {
    "scrolled": true
   },
   "outputs": [
    {
     "data": {
      "text/plain": [
       "434"
      ]
     },
     "execution_count": 6,
     "metadata": {},
     "output_type": "execute_result"
    }
   ],
   "source": [
    "len(df_map['County'].unique())"
   ]
  },
  {
   "cell_type": "code",
   "execution_count": 7,
   "id": "ea3dbf78",
   "metadata": {},
   "outputs": [
    {
     "data": {
      "text/plain": [
       "4000"
      ]
     },
     "execution_count": 7,
     "metadata": {},
     "output_type": "execute_result"
    }
   ],
   "source": [
    "len(df_clean['county'])"
   ]
  },
  {
   "cell_type": "code",
   "execution_count": 8,
   "id": "71b782d8",
   "metadata": {},
   "outputs": [
    {
     "data": {
      "text/html": [
       "<div>\n",
       "<style scoped>\n",
       "    .dataframe tbody tr th:only-of-type {\n",
       "        vertical-align: middle;\n",
       "    }\n",
       "\n",
       "    .dataframe tbody tr th {\n",
       "        vertical-align: top;\n",
       "    }\n",
       "\n",
       "    .dataframe thead th {\n",
       "        text-align: right;\n",
       "    }\n",
       "</style>\n",
       "<table border=\"1\" class=\"dataframe\">\n",
       "  <thead>\n",
       "    <tr style=\"text-align: right;\">\n",
       "      <th></th>\n",
       "      <th>Unnamed: 0</th>\n",
       "      <th>county</th>\n",
       "      <th>year</th>\n",
       "      <th>NO2_annualMean</th>\n",
       "      <th>NO2_hrOver200</th>\n",
       "      <th>NO_annualMean</th>\n",
       "      <th>O3_annualMean</th>\n",
       "      <th>O3_daysOver120</th>\n",
       "      <th>O3_dailyMaxAnnualMean</th>\n",
       "      <th>O3_dailyHourlyMax</th>\n",
       "      <th>...</th>\n",
       "      <th>PM10_daysOver50</th>\n",
       "      <th>PM2.5_annualMean</th>\n",
       "      <th>BL</th>\n",
       "      <th>EWZ</th>\n",
       "      <th>Shape__Area</th>\n",
       "      <th>death_rate</th>\n",
       "      <th>cases</th>\n",
       "      <th>deaths</th>\n",
       "      <th>cases_per_100k</th>\n",
       "      <th>deaths_per_100k</th>\n",
       "    </tr>\n",
       "  </thead>\n",
       "  <tbody>\n",
       "    <tr>\n",
       "      <th>0</th>\n",
       "      <td>0</td>\n",
       "      <td>Berlin</td>\n",
       "      <td>2010</td>\n",
       "      <td>21.33097</td>\n",
       "      <td>0.0</td>\n",
       "      <td>4.689645</td>\n",
       "      <td>48.14162</td>\n",
       "      <td>1.321674</td>\n",
       "      <td>75.383964</td>\n",
       "      <td>179.320467</td>\n",
       "      <td>...</td>\n",
       "      <td>30.28571</td>\n",
       "      <td>20.56858</td>\n",
       "      <td>Berlin</td>\n",
       "      <td>259169</td>\n",
       "      <td>8.933202e+08</td>\n",
       "      <td>1.591636</td>\n",
       "      <td>242813</td>\n",
       "      <td>3759</td>\n",
       "      <td>6640.688066</td>\n",
       "      <td>103.703091</td>\n",
       "    </tr>\n",
       "    <tr>\n",
       "      <th>1</th>\n",
       "      <td>1</td>\n",
       "      <td>Berlin</td>\n",
       "      <td>2011</td>\n",
       "      <td>21.10792</td>\n",
       "      <td>0.0</td>\n",
       "      <td>5.591758</td>\n",
       "      <td>46.78272</td>\n",
       "      <td>1.405013</td>\n",
       "      <td>75.515257</td>\n",
       "      <td>179.361973</td>\n",
       "      <td>...</td>\n",
       "      <td>25.57143</td>\n",
       "      <td>20.17655</td>\n",
       "      <td>Berlin</td>\n",
       "      <td>259169</td>\n",
       "      <td>8.933202e+08</td>\n",
       "      <td>1.591636</td>\n",
       "      <td>242813</td>\n",
       "      <td>3759</td>\n",
       "      <td>6640.688066</td>\n",
       "      <td>103.703091</td>\n",
       "    </tr>\n",
       "    <tr>\n",
       "      <th>2</th>\n",
       "      <td>2</td>\n",
       "      <td>Berlin</td>\n",
       "      <td>2012</td>\n",
       "      <td>20.65600</td>\n",
       "      <td>0.0</td>\n",
       "      <td>5.372472</td>\n",
       "      <td>45.26885</td>\n",
       "      <td>1.513209</td>\n",
       "      <td>75.685711</td>\n",
       "      <td>179.415858</td>\n",
       "      <td>...</td>\n",
       "      <td>11.00000</td>\n",
       "      <td>17.18541</td>\n",
       "      <td>Berlin</td>\n",
       "      <td>259169</td>\n",
       "      <td>8.933202e+08</td>\n",
       "      <td>1.591636</td>\n",
       "      <td>242813</td>\n",
       "      <td>3759</td>\n",
       "      <td>6640.688066</td>\n",
       "      <td>103.703091</td>\n",
       "    </tr>\n",
       "    <tr>\n",
       "      <th>3</th>\n",
       "      <td>3</td>\n",
       "      <td>Berlin</td>\n",
       "      <td>2013</td>\n",
       "      <td>19.16632</td>\n",
       "      <td>0.0</td>\n",
       "      <td>4.376160</td>\n",
       "      <td>47.91164</td>\n",
       "      <td>0.142857</td>\n",
       "      <td>73.145140</td>\n",
       "      <td>171.855700</td>\n",
       "      <td>...</td>\n",
       "      <td>13.00000</td>\n",
       "      <td>15.83933</td>\n",
       "      <td>Berlin</td>\n",
       "      <td>259169</td>\n",
       "      <td>8.933202e+08</td>\n",
       "      <td>1.591636</td>\n",
       "      <td>242813</td>\n",
       "      <td>3759</td>\n",
       "      <td>6640.688066</td>\n",
       "      <td>103.703091</td>\n",
       "    </tr>\n",
       "    <tr>\n",
       "      <th>4</th>\n",
       "      <td>4</td>\n",
       "      <td>Berlin</td>\n",
       "      <td>2014</td>\n",
       "      <td>20.46666</td>\n",
       "      <td>0.0</td>\n",
       "      <td>15.755060</td>\n",
       "      <td>47.80345</td>\n",
       "      <td>0.000000</td>\n",
       "      <td>71.659810</td>\n",
       "      <td>181.968600</td>\n",
       "      <td>...</td>\n",
       "      <td>22.00000</td>\n",
       "      <td>19.77463</td>\n",
       "      <td>Berlin</td>\n",
       "      <td>259169</td>\n",
       "      <td>8.933202e+08</td>\n",
       "      <td>1.591636</td>\n",
       "      <td>242813</td>\n",
       "      <td>3759</td>\n",
       "      <td>6640.688066</td>\n",
       "      <td>103.703091</td>\n",
       "    </tr>\n",
       "  </tbody>\n",
       "</table>\n",
       "<p>5 rows × 22 columns</p>\n",
       "</div>"
      ],
      "text/plain": [
       "   Unnamed: 0  county  year  NO2_annualMean  NO2_hrOver200  NO_annualMean  \\\n",
       "0           0  Berlin  2010        21.33097            0.0       4.689645   \n",
       "1           1  Berlin  2011        21.10792            0.0       5.591758   \n",
       "2           2  Berlin  2012        20.65600            0.0       5.372472   \n",
       "3           3  Berlin  2013        19.16632            0.0       4.376160   \n",
       "4           4  Berlin  2014        20.46666            0.0      15.755060   \n",
       "\n",
       "   O3_annualMean  O3_daysOver120  O3_dailyMaxAnnualMean  O3_dailyHourlyMax  \\\n",
       "0       48.14162        1.321674              75.383964         179.320467   \n",
       "1       46.78272        1.405013              75.515257         179.361973   \n",
       "2       45.26885        1.513209              75.685711         179.415858   \n",
       "3       47.91164        0.142857              73.145140         171.855700   \n",
       "4       47.80345        0.000000              71.659810         181.968600   \n",
       "\n",
       "   ...  PM10_daysOver50  PM2.5_annualMean      BL     EWZ   Shape__Area  \\\n",
       "0  ...         30.28571          20.56858  Berlin  259169  8.933202e+08   \n",
       "1  ...         25.57143          20.17655  Berlin  259169  8.933202e+08   \n",
       "2  ...         11.00000          17.18541  Berlin  259169  8.933202e+08   \n",
       "3  ...         13.00000          15.83933  Berlin  259169  8.933202e+08   \n",
       "4  ...         22.00000          19.77463  Berlin  259169  8.933202e+08   \n",
       "\n",
       "   death_rate   cases  deaths  cases_per_100k  deaths_per_100k  \n",
       "0    1.591636  242813    3759     6640.688066       103.703091  \n",
       "1    1.591636  242813    3759     6640.688066       103.703091  \n",
       "2    1.591636  242813    3759     6640.688066       103.703091  \n",
       "3    1.591636  242813    3759     6640.688066       103.703091  \n",
       "4    1.591636  242813    3759     6640.688066       103.703091  \n",
       "\n",
       "[5 rows x 22 columns]"
      ]
     },
     "execution_count": 8,
     "metadata": {},
     "output_type": "execute_result"
    }
   ],
   "source": [
    "df_clean.head()"
   ]
  },
  {
   "cell_type": "code",
   "execution_count": 9,
   "id": "66119e38",
   "metadata": {},
   "outputs": [
    {
     "data": {
      "text/html": [
       "<div>\n",
       "<style scoped>\n",
       "    .dataframe tbody tr th:only-of-type {\n",
       "        vertical-align: middle;\n",
       "    }\n",
       "\n",
       "    .dataframe tbody tr th {\n",
       "        vertical-align: top;\n",
       "    }\n",
       "\n",
       "    .dataframe thead th {\n",
       "        text-align: right;\n",
       "    }\n",
       "</style>\n",
       "<table border=\"1\" class=\"dataframe\">\n",
       "  <thead>\n",
       "    <tr style=\"text-align: right;\">\n",
       "      <th></th>\n",
       "      <th>Unnamed: 0</th>\n",
       "      <th>county</th>\n",
       "      <th>year</th>\n",
       "      <th>NO2_annualMean</th>\n",
       "      <th>NO2_hrOver200</th>\n",
       "      <th>NO_annualMean</th>\n",
       "      <th>O3_annualMean</th>\n",
       "      <th>O3_daysOver120</th>\n",
       "      <th>O3_dailyMaxAnnualMean</th>\n",
       "      <th>O3_dailyHourlyMax</th>\n",
       "      <th>...</th>\n",
       "      <th>PM10_daysOver50</th>\n",
       "      <th>PM2.5_annualMean</th>\n",
       "      <th>BL</th>\n",
       "      <th>EWZ</th>\n",
       "      <th>Shape__Area</th>\n",
       "      <th>death_rate</th>\n",
       "      <th>cases</th>\n",
       "      <th>deaths</th>\n",
       "      <th>cases_per_100k</th>\n",
       "      <th>deaths_per_100k</th>\n",
       "    </tr>\n",
       "  </thead>\n",
       "  <tbody>\n",
       "    <tr>\n",
       "      <th>0</th>\n",
       "      <td>0</td>\n",
       "      <td>Berlin</td>\n",
       "      <td>2010</td>\n",
       "      <td>21.330970</td>\n",
       "      <td>0.000000</td>\n",
       "      <td>4.689645</td>\n",
       "      <td>48.141620</td>\n",
       "      <td>1.321674</td>\n",
       "      <td>75.383964</td>\n",
       "      <td>179.320467</td>\n",
       "      <td>...</td>\n",
       "      <td>30.285710</td>\n",
       "      <td>20.568580</td>\n",
       "      <td>Berlin</td>\n",
       "      <td>259169</td>\n",
       "      <td>8.933202e+08</td>\n",
       "      <td>1.591636</td>\n",
       "      <td>242813</td>\n",
       "      <td>3759</td>\n",
       "      <td>6640.688066</td>\n",
       "      <td>103.703091</td>\n",
       "    </tr>\n",
       "    <tr>\n",
       "      <th>1</th>\n",
       "      <td>10</td>\n",
       "      <td>LK Ahrweiler</td>\n",
       "      <td>2010</td>\n",
       "      <td>18.636640</td>\n",
       "      <td>0.007228</td>\n",
       "      <td>12.197937</td>\n",
       "      <td>49.207581</td>\n",
       "      <td>0.940973</td>\n",
       "      <td>74.784202</td>\n",
       "      <td>179.130865</td>\n",
       "      <td>...</td>\n",
       "      <td>9.928116</td>\n",
       "      <td>13.473777</td>\n",
       "      <td>Rheinland-Pfalz</td>\n",
       "      <td>130479</td>\n",
       "      <td>7.867482e+08</td>\n",
       "      <td>1.009623</td>\n",
       "      <td>6339</td>\n",
       "      <td>64</td>\n",
       "      <td>4858.253052</td>\n",
       "      <td>49.050039</td>\n",
       "    </tr>\n",
       "    <tr>\n",
       "      <th>2</th>\n",
       "      <td>20</td>\n",
       "      <td>LK Aichach-Friedberg</td>\n",
       "      <td>2010</td>\n",
       "      <td>18.353241</td>\n",
       "      <td>0.007075</td>\n",
       "      <td>11.095558</td>\n",
       "      <td>50.442347</td>\n",
       "      <td>1.444676</td>\n",
       "      <td>75.577742</td>\n",
       "      <td>179.381726</td>\n",
       "      <td>...</td>\n",
       "      <td>5.043285</td>\n",
       "      <td>13.028828</td>\n",
       "      <td>Bayern</td>\n",
       "      <td>135024</td>\n",
       "      <td>7.796361e+08</td>\n",
       "      <td>1.421619</td>\n",
       "      <td>7808</td>\n",
       "      <td>111</td>\n",
       "      <td>5782.675672</td>\n",
       "      <td>82.207608</td>\n",
       "    </tr>\n",
       "    <tr>\n",
       "      <th>3</th>\n",
       "      <td>30</td>\n",
       "      <td>LK Alb-Donau-Kreis</td>\n",
       "      <td>2010</td>\n",
       "      <td>17.908725</td>\n",
       "      <td>0.006834</td>\n",
       "      <td>11.399366</td>\n",
       "      <td>49.325292</td>\n",
       "      <td>0.988992</td>\n",
       "      <td>74.859851</td>\n",
       "      <td>179.154780</td>\n",
       "      <td>...</td>\n",
       "      <td>5.681758</td>\n",
       "      <td>12.995508</td>\n",
       "      <td>Baden-Württemberg</td>\n",
       "      <td>198204</td>\n",
       "      <td>1.356377e+09</td>\n",
       "      <td>1.460202</td>\n",
       "      <td>12601</td>\n",
       "      <td>184</td>\n",
       "      <td>6357.591169</td>\n",
       "      <td>92.833646</td>\n",
       "    </tr>\n",
       "    <tr>\n",
       "      <th>4</th>\n",
       "      <td>40</td>\n",
       "      <td>LK Altenburger Land</td>\n",
       "      <td>2010</td>\n",
       "      <td>18.530479</td>\n",
       "      <td>0.007171</td>\n",
       "      <td>10.825919</td>\n",
       "      <td>50.679357</td>\n",
       "      <td>1.541360</td>\n",
       "      <td>75.730060</td>\n",
       "      <td>179.429878</td>\n",
       "      <td>...</td>\n",
       "      <td>5.035504</td>\n",
       "      <td>13.374456</td>\n",
       "      <td>Thüringen</td>\n",
       "      <td>88356</td>\n",
       "      <td>5.697932e+08</td>\n",
       "      <td>3.458946</td>\n",
       "      <td>9049</td>\n",
       "      <td>313</td>\n",
       "      <td>10241.522930</td>\n",
       "      <td>354.248721</td>\n",
       "    </tr>\n",
       "  </tbody>\n",
       "</table>\n",
       "<p>5 rows × 22 columns</p>\n",
       "</div>"
      ],
      "text/plain": [
       "   Unnamed: 0                county  year  NO2_annualMean  NO2_hrOver200  \\\n",
       "0           0                Berlin  2010       21.330970       0.000000   \n",
       "1          10          LK Ahrweiler  2010       18.636640       0.007228   \n",
       "2          20  LK Aichach-Friedberg  2010       18.353241       0.007075   \n",
       "3          30    LK Alb-Donau-Kreis  2010       17.908725       0.006834   \n",
       "4          40   LK Altenburger Land  2010       18.530479       0.007171   \n",
       "\n",
       "   NO_annualMean  O3_annualMean  O3_daysOver120  O3_dailyMaxAnnualMean  \\\n",
       "0       4.689645      48.141620        1.321674              75.383964   \n",
       "1      12.197937      49.207581        0.940973              74.784202   \n",
       "2      11.095558      50.442347        1.444676              75.577742   \n",
       "3      11.399366      49.325292        0.988992              74.859851   \n",
       "4      10.825919      50.679357        1.541360              75.730060   \n",
       "\n",
       "   O3_dailyHourlyMax  ...  PM10_daysOver50  PM2.5_annualMean  \\\n",
       "0         179.320467  ...        30.285710         20.568580   \n",
       "1         179.130865  ...         9.928116         13.473777   \n",
       "2         179.381726  ...         5.043285         13.028828   \n",
       "3         179.154780  ...         5.681758         12.995508   \n",
       "4         179.429878  ...         5.035504         13.374456   \n",
       "\n",
       "                  BL     EWZ   Shape__Area  death_rate   cases  deaths  \\\n",
       "0             Berlin  259169  8.933202e+08    1.591636  242813    3759   \n",
       "1    Rheinland-Pfalz  130479  7.867482e+08    1.009623    6339      64   \n",
       "2             Bayern  135024  7.796361e+08    1.421619    7808     111   \n",
       "3  Baden-Württemberg  198204  1.356377e+09    1.460202   12601     184   \n",
       "4          Thüringen   88356  5.697932e+08    3.458946    9049     313   \n",
       "\n",
       "   cases_per_100k  deaths_per_100k  \n",
       "0     6640.688066       103.703091  \n",
       "1     4858.253052        49.050039  \n",
       "2     5782.675672        82.207608  \n",
       "3     6357.591169        92.833646  \n",
       "4    10241.522930       354.248721  \n",
       "\n",
       "[5 rows x 22 columns]"
      ]
     },
     "execution_count": 9,
     "metadata": {},
     "output_type": "execute_result"
    }
   ],
   "source": [
    "df_clean.sort_values(['year','county'], axis=0, ascending=True,inplace=True,ignore_index=True)\n",
    "df_clean.head()\n"
   ]
  },
  {
   "cell_type": "code",
   "execution_count": 28,
   "id": "c9bbc188",
   "metadata": {},
   "outputs": [],
   "source": [
    "ls_first_complete = df_clean['county'].unique()\n"
   ]
  },
  {
   "cell_type": "code",
   "execution_count": 11,
   "id": "eb7aa3f9",
   "metadata": {},
   "outputs": [],
   "source": [
    "ls_SK = []\n",
    "ls_LK = []\n",
    "for i in ls_first_complete:\n",
    "    if i[0:3]=='SK ':\n",
    "        ls_SK.append(i)\n",
    "    else:\n",
    "        ls_LK.append(i)    "
   ]
  },
  {
   "cell_type": "code",
   "execution_count": 29,
   "id": "0f914516",
   "metadata": {},
   "outputs": [],
   "source": [
    "ls_LK_copy = ls_LK.copy()\n"
   ]
  },
  {
   "cell_type": "code",
   "execution_count": 13,
   "id": "fd770e34",
   "metadata": {
    "scrolled": true
   },
   "outputs": [
    {
     "data": {
      "text/plain": [
       "293"
      ]
     },
     "execution_count": 13,
     "metadata": {},
     "output_type": "execute_result"
    }
   ],
   "source": [
    "ls_LK.index('Region Hannover') #this is where it gets different"
   ]
  },
  {
   "cell_type": "code",
   "execution_count": 14,
   "id": "5524bfd4",
   "metadata": {},
   "outputs": [],
   "source": [
    "#del ls_LK[293:] #to get only LK"
   ]
  },
  {
   "cell_type": "code",
   "execution_count": 15,
   "id": "44a7af9e",
   "metadata": {},
   "outputs": [],
   "source": [
    "#ls_LK.insert(0, 'LK Ahrweiler')\n"
   ]
  },
  {
   "cell_type": "markdown",
   "id": "01192e91",
   "metadata": {},
   "source": [
    "ls_LK_copy = ls_LK.copy()"
   ]
  },
  {
   "cell_type": "code",
   "execution_count": 30,
   "id": "28a51426",
   "metadata": {},
   "outputs": [],
   "source": [
    "ls_LK_copy = ls_LK.copy()\n",
    " "
   ]
  },
  {
   "cell_type": "markdown",
   "id": "30b2d27c",
   "metadata": {},
   "source": [
    "1. pop lk sk from copy list\n",
    "2. create dict where keys clean_df and values other df\n",
    "3. match and if not drop from second column\n",
    "4. add Berlin and AAchen manually\n"
   ]
  },
  {
   "cell_type": "code",
   "execution_count": 17,
   "id": "19354553",
   "metadata": {},
   "outputs": [],
   "source": [
    "ls_SK_copy = ls_SK.copy()\n",
    "ls_SK_copy_clean = []\n",
    "for i in ls_SK_copy:\n",
    "    ii= i.replace('SK ', '')\n",
    "    ls_SK_copy_clean.append(ii)\n",
    "    "
   ]
  },
  {
   "cell_type": "code",
   "execution_count": 18,
   "id": "6abe8348",
   "metadata": {},
   "outputs": [
    {
     "data": {
      "text/plain": [
       "True"
      ]
     },
     "execution_count": 18,
     "metadata": {},
     "output_type": "execute_result"
    }
   ],
   "source": [
    "len(ls_SK_copy_clean) ==len (ls_SK_copy)"
   ]
  },
  {
   "cell_type": "code",
   "execution_count": 19,
   "id": "e7c7b673",
   "metadata": {},
   "outputs": [],
   "source": [
    "ls_LK_copy = ls_LK.copy()"
   ]
  },
  {
   "cell_type": "code",
   "execution_count": null,
   "id": "63a16511",
   "metadata": {},
   "outputs": [],
   "source": []
  },
  {
   "cell_type": "code",
   "execution_count": 20,
   "id": "b33b61b1",
   "metadata": {},
   "outputs": [],
   "source": [
    "\n",
    "ls_LK_copy_clean = []\n",
    "for i in ls_LK_copy:\n",
    "    ii= i.replace('LK ', '')\n",
    "    ls_LK_copy_clean.append(ii)\n",
    "    \n",
    "    "
   ]
  },
  {
   "cell_type": "code",
   "execution_count": 21,
   "id": "4863fd84",
   "metadata": {},
   "outputs": [
    {
     "data": {
      "text/plain": [
       "True"
      ]
     },
     "execution_count": 21,
     "metadata": {},
     "output_type": "execute_result"
    }
   ],
   "source": [
    "len(ls_LK_copy_clean ) == len(ls_LK_copy)"
   ]
  },
  {
   "cell_type": "code",
   "execution_count": 22,
   "id": "7b4c8906",
   "metadata": {},
   "outputs": [],
   "source": [
    "ls_joined_clean_covid = ls_LK_copy_clean + ls_SK_copy_clean\n"
   ]
  },
  {
   "cell_type": "code",
   "execution_count": 23,
   "id": "b8e5e3c4",
   "metadata": {},
   "outputs": [
    {
     "data": {
      "text/plain": [
       "400"
      ]
     },
     "execution_count": 23,
     "metadata": {},
     "output_type": "execute_result"
    }
   ],
   "source": [
    "len(ls_joined_clean_covid) "
   ]
  },
  {
   "cell_type": "code",
   "execution_count": 24,
   "id": "ef025e48",
   "metadata": {},
   "outputs": [
    {
     "data": {
      "text/plain": [
       "400"
      ]
     },
     "execution_count": 24,
     "metadata": {},
     "output_type": "execute_result"
    }
   ],
   "source": [
    "len(ls_first_complete)"
   ]
  },
  {
   "cell_type": "markdown",
   "id": "26a0ce6a",
   "metadata": {},
   "source": [
    "ls_NONE= []\n",
    "ls_ok = []\n",
    "for i in ls_first_complete:\n",
    "    if i[3:]=='SK 'or i[3:]=='LK ':\n",
    "        ls_ok.append(i)\n",
    "    else:\n",
    "        ls_NONE.append(i)\n",
    "  "
   ]
  },
  {
   "cell_type": "code",
   "execution_count": null,
   "id": "ed668ae1",
   "metadata": {},
   "outputs": [],
   "source": [
    "### problem: unique is less than non unique in clean df"
   ]
  },
  {
   "cell_type": "code",
   "execution_count": null,
   "id": "24900a76",
   "metadata": {},
   "outputs": [],
   "source": [
    "### solution: identify non unique values"
   ]
  },
  {
   "cell_type": "code",
   "execution_count": 34,
   "id": "f8b948e0",
   "metadata": {},
   "outputs": [],
   "source": [
    "ls_clean_map = []\n",
    "ls_problems = []\n",
    "\n",
    "ls_map_total=df_map['County'].unique()\n",
    "ls_map_total = sorted(ls_map_total)\n",
    "# broken loop for i,j in zip(ls_joined_clean_covid, ls_map_total):\n",
    "  #broken  if i == j:\n",
    " #       ls_clean_map.append(i)\n",
    " #   else:\n",
    "       \n",
    "   #    ls_problems.append(i)\n",
    "        "
   ]
  },
  {
   "cell_type": "code",
   "execution_count": 25,
   "id": "fc6f775f",
   "metadata": {},
   "outputs": [],
   "source": [
    "ls_joined_clean_covid = sorted(ls_joined_clean_covid)"
   ]
  },
  {
   "cell_type": "code",
   "execution_count": 26,
   "id": "1ea927b5",
   "metadata": {},
   "outputs": [
    {
     "data": {
      "text/plain": [
       "400"
      ]
     },
     "execution_count": 26,
     "metadata": {},
     "output_type": "execute_result"
    }
   ],
   "source": [
    "len(ls_joined_clean_covid)"
   ]
  },
  {
   "cell_type": "code",
   "execution_count": 36,
   "id": "c71dc670",
   "metadata": {},
   "outputs": [
    {
     "data": {
      "text/plain": [
       "434"
      ]
     },
     "execution_count": 36,
     "metadata": {},
     "output_type": "execute_result"
    }
   ],
   "source": [
    "ls_map_total = sorted(ls_map_total)\n",
    "len(ls_map_total)\n"
   ]
  },
  {
   "cell_type": "code",
   "execution_count": 47,
   "id": "3ae75962",
   "metadata": {},
   "outputs": [],
   "source": [
    "main_list = (set(ls_joined_clean_covid) - set(ls_map_total))"
   ]
  },
  {
   "cell_type": "code",
   "execution_count": 48,
   "id": "0b2db958",
   "metadata": {},
   "outputs": [
    {
     "data": {
      "text/plain": [
       "130"
      ]
     },
     "execution_count": 48,
     "metadata": {},
     "output_type": "execute_result"
    }
   ],
   "source": [
    "len(main_list)"
   ]
  },
  {
   "cell_type": "code",
   "execution_count": 51,
   "id": "2b49e036",
   "metadata": {},
   "outputs": [
    {
     "data": {
      "text/plain": [
       "{'Alb-Donau-Kreis',\n",
       " 'Amberg',\n",
       " 'Anhalt-Bitterfeld',\n",
       " 'Baden-Baden',\n",
       " 'Bielefeld',\n",
       " 'Bochum',\n",
       " 'Bodenseekreis',\n",
       " 'Bonn',\n",
       " 'Bottrop',\n",
       " 'Brandenburg a.d.Havel',\n",
       " 'Braunschweig',\n",
       " 'Bremen',\n",
       " 'Bremerhaven',\n",
       " 'Börde',\n",
       " 'Chemnitz',\n",
       " 'Cottbus',\n",
       " 'Darmstadt',\n",
       " 'Delmenhorst',\n",
       " 'Dessau-Roßlau',\n",
       " 'Dillingen a.d.Donau',\n",
       " 'Dortmund',\n",
       " 'Dresden',\n",
       " 'Duisburg',\n",
       " 'Düsseldorf',\n",
       " 'Emden',\n",
       " 'Ennepe-Ruhr-Kreis',\n",
       " 'Enzkreis',\n",
       " 'Erfurt',\n",
       " 'Erlangen',\n",
       " 'Erzgebirgskreis',\n",
       " 'Essen',\n",
       " 'Flensburg',\n",
       " 'Frankenthal',\n",
       " 'Frankfurt (Oder)',\n",
       " 'Frankfurt am Main',\n",
       " 'Freiburg i.Breisgau',\n",
       " 'Gelsenkirchen',\n",
       " 'Gera',\n",
       " 'Görlitz',\n",
       " 'Hagen',\n",
       " 'Halle',\n",
       " 'Hamburg',\n",
       " 'Hameln-Pyrmont',\n",
       " 'Hamm',\n",
       " 'Harz',\n",
       " 'Heidekreis',\n",
       " 'Heidelberg',\n",
       " 'Herne',\n",
       " 'Herzogtum Lauenburg',\n",
       " 'Hohenlohekreis',\n",
       " 'Ingolstadt',\n",
       " 'Jena',\n",
       " 'Kaufbeuren',\n",
       " 'Kempten',\n",
       " 'Kiel',\n",
       " 'Kleve',\n",
       " 'Koblenz',\n",
       " 'Krefeld',\n",
       " 'Köln',\n",
       " 'Landau i.d.Pfalz',\n",
       " 'Landsberg a.Lech',\n",
       " 'Leipzig',\n",
       " 'Leverkusen',\n",
       " 'Ludwigshafen',\n",
       " 'Ludwigslust-Parchim',\n",
       " 'Lübeck',\n",
       " 'Magdeburg',\n",
       " 'Main-Tauber-Kreis',\n",
       " 'Main-Taunus-Kreis',\n",
       " 'Mainz',\n",
       " 'Mannheim',\n",
       " 'Mansfeld-Südharz',\n",
       " 'Mecklenburgische Seenplatte',\n",
       " 'Memmingen',\n",
       " 'Mittelsachsen',\n",
       " 'Mönchengladbach',\n",
       " 'Mühldorf a.Inn',\n",
       " 'Mülheim a.d.Ruhr',\n",
       " 'Münster',\n",
       " 'Neumarkt i.d.OPf.',\n",
       " 'Neumünster',\n",
       " 'Neustadt a.d.Aisch-Bad Windsheim',\n",
       " 'Neustadt a.d.Waldnaab',\n",
       " 'Neustadt a.d.Weinstraße',\n",
       " 'Nienburg (Weser)',\n",
       " 'Nordsachsen',\n",
       " 'Nürnberg',\n",
       " 'Oberhausen',\n",
       " 'Pfaffenhofen a.d.Ilm',\n",
       " 'Pforzheim',\n",
       " 'Pirmasens',\n",
       " 'Potsdam',\n",
       " 'Region Hannover',\n",
       " 'Remscheid',\n",
       " 'Rhein-Hunsrück-Kreis',\n",
       " 'Rhein-Lahn-Kreis',\n",
       " 'Rhein-Sieg-Kreis',\n",
       " 'Rostock',\n",
       " 'Rotenburg (Wümme)',\n",
       " 'Saale-Holzland-Kreis',\n",
       " 'Saale-Orla-Kreis',\n",
       " 'Saalekreis',\n",
       " 'Saarpfalz-Kreis',\n",
       " 'Salzgitter',\n",
       " 'Salzlandkreis',\n",
       " 'Schwabach',\n",
       " 'Schwerin',\n",
       " 'Solingen',\n",
       " 'Speyer',\n",
       " 'Stadtverband Saarbrücken',\n",
       " 'Straubing',\n",
       " 'Stuttgart',\n",
       " 'StädteRegion Aachen',\n",
       " 'Suhl',\n",
       " 'Sächsische Schweiz-Osterzgebirge',\n",
       " 'Trier',\n",
       " 'Ulm',\n",
       " 'Unstrut-Hainich-Kreis',\n",
       " 'Vorpommern-Greifswald',\n",
       " 'Vorpommern-Rügen',\n",
       " 'Weiden i.d.OPf.',\n",
       " 'Weimar',\n",
       " 'Wiesbaden',\n",
       " 'Wilhelmshaven',\n",
       " 'Wolfsburg',\n",
       " 'Worms',\n",
       " 'Wunsiedel i.Fichtelgebirge',\n",
       " 'Wuppertal',\n",
       " 'Zweibrücken',\n",
       " 'Zwickau'}"
      ]
     },
     "execution_count": 51,
     "metadata": {},
     "output_type": "execute_result"
    }
   ],
   "source": [
    "main_list"
   ]
  },
  {
   "cell_type": "code",
   "execution_count": 53,
   "id": "42de4e71",
   "metadata": {},
   "outputs": [],
   "source": [
    "main_list2 = (set(ls_map_total) - set(ls_joined_clean_covid))"
   ]
  },
  {
   "cell_type": "code",
   "execution_count": 58,
   "id": "6d3b455b",
   "metadata": {},
   "outputs": [],
   "source": []
  },
  {
   "cell_type": "code",
   "execution_count": 59,
   "id": "c9362dd0",
   "metadata": {},
   "outputs": [
    {
     "data": {
      "text/plain": [
       "set()"
      ]
     },
     "execution_count": 59,
     "metadata": {},
     "output_type": "execute_result"
    }
   ],
   "source": []
  },
  {
   "cell_type": "code",
   "execution_count": null,
   "id": "36fcd5ef",
   "metadata": {},
   "outputs": [],
   "source": []
  }
 ],
 "metadata": {
  "kernelspec": {
   "display_name": "Python 3 (ipykernel)",
   "language": "python",
   "name": "python3"
  },
  "language_info": {
   "codemirror_mode": {
    "name": "ipython",
    "version": 3
   },
   "file_extension": ".py",
   "mimetype": "text/x-python",
   "name": "python",
   "nbconvert_exporter": "python",
   "pygments_lexer": "ipython3",
   "version": "3.8.12"
  },
  "toc": {
   "base_numbering": 1,
   "nav_menu": {},
   "number_sections": true,
   "sideBar": true,
   "skip_h1_title": false,
   "title_cell": "Table of Contents",
   "title_sidebar": "Contents",
   "toc_cell": false,
   "toc_position": {},
   "toc_section_display": true,
   "toc_window_display": false
  }
 },
 "nbformat": 4,
 "nbformat_minor": 5
}
