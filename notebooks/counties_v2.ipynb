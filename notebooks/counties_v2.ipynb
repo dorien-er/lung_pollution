{
 "cells": [
  {
   "cell_type": "code",
   "execution_count": 1,
   "id": "b524f781",
   "metadata": {},
   "outputs": [],
   "source": [
    "import pandas as pd\n",
    "import numpy as np\n",
    "import json"
   ]
  },
  {
   "cell_type": "markdown",
   "id": "0194c47f",
   "metadata": {},
   "source": [
    "clean merged covid dataset\n"
   ]
  },
  {
   "cell_type": "code",
   "execution_count": 3,
   "id": "41ad69ef",
   "metadata": {
    "scrolled": true
   },
   "outputs": [],
   "source": [
    "df_clean = pd.read_csv('../lung_pollution/data/covid_pollution_clean.csv')"
   ]
  },
  {
   "cell_type": "markdown",
   "id": "22e5b216",
   "metadata": {},
   "source": [
    "map counties dataset\n"
   ]
  },
  {
   "cell_type": "code",
   "execution_count": 4,
   "id": "d2a08bd8",
   "metadata": {},
   "outputs": [],
   "source": [
    "url = 'https://raw.githubusercontent.com/isellsoap/deutschlandGeoJSON/main/4_kreise/1_sehr_hoch.geo.json'\n",
    "dfObj = pd.read_json(url)\n",
    "\n",
    "list_ids = []\n",
    "list_counties = []\n",
    "list_coords = []\n",
    "list_code_counties = []\n",
    "for i in range(len(dfObj['features'])):\n",
    "    list_ids.append(dfObj[\"features\"][i][\"id\"])\n",
    "    list_counties.append(dfObj[\"features\"][i][\"properties\"][\"NAME_3\"])\n",
    "    list_coords.append(dfObj[\"features\"][i][\"geometry\"]['coordinates'][0])\n",
    "    list_code_counties.append(dfObj[\"features\"][i][\"properties\"][\"ID_3\"])\n",
    "    \n",
    "\n",
    "df_map = pd.DataFrame(list(zip(list_ids, list_counties, list_coords,list_code_counties)), columns =['Id', 'County', 'Coordinates','Id_counties'])"
   ]
  },
  {
   "cell_type": "code",
   "execution_count": 10,
   "id": "0a11d86e",
   "metadata": {},
   "outputs": [
    {
     "data": {
      "text/plain": [
       "array(['Berlin', 'LK Ahrweiler', 'LK Aichach-Friedberg',\n",
       "       'LK Alb-Donau-Kreis', 'LK Altenburger Land', 'LK Altenkirchen',\n",
       "       'LK Altmarkkreis Salzwedel', 'LK Altötting', 'LK Alzey-Worms',\n",
       "       'LK Amberg-Sulzbach', 'LK Ammerland', 'LK Anhalt-Bitterfeld',\n",
       "       'LK Ansbach', 'LK Aschaffenburg', 'LK Augsburg', 'LK Aurich',\n",
       "       'LK Bad Dürkheim', 'LK Bad Kissingen', 'LK Bad Kreuznach',\n",
       "       'LK Bad Tölz-Wolfratshausen', 'LK Bamberg', 'LK Barnim',\n",
       "       'LK Bautzen', 'LK Bayreuth', 'LK Berchtesgadener Land',\n",
       "       'LK Bergstraße', 'LK Bernkastel-Wittlich', 'LK Biberach',\n",
       "       'LK Birkenfeld', 'LK Bitburg-Prüm', 'LK Bodenseekreis',\n",
       "       'LK Borken', 'LK Breisgau-Hochschwarzwald', 'LK Burgenlandkreis',\n",
       "       'LK Böblingen', 'LK Börde', 'LK Calw', 'LK Celle', 'LK Cham',\n",
       "       'LK Cloppenburg', 'LK Coburg', 'LK Cochem-Zell', 'LK Coesfeld',\n",
       "       'LK Cuxhaven', 'LK Dachau', 'LK Dahme-Spreewald',\n",
       "       'LK Darmstadt-Dieburg', 'LK Deggendorf', 'LK Diepholz',\n",
       "       'LK Dillingen a.d.Donau', 'LK Dingolfing-Landau',\n",
       "       'LK Dithmarschen', 'LK Donau-Ries', 'LK Donnersbergkreis',\n",
       "       'LK Düren', 'LK Ebersberg', 'LK Eichsfeld', 'LK Eichstätt',\n",
       "       'LK Elbe-Elster', 'LK Emmendingen', 'LK Emsland',\n",
       "       'LK Ennepe-Ruhr-Kreis', 'LK Enzkreis', 'LK Erding',\n",
       "       'LK Erlangen-Höchstadt', 'LK Erzgebirgskreis', 'LK Esslingen',\n",
       "       'LK Euskirchen', 'LK Forchheim', 'LK Freising', 'LK Freudenstadt',\n",
       "       'LK Freyung-Grafenau', 'LK Friesland', 'LK Fulda',\n",
       "       'LK Fürstenfeldbruck', 'LK Fürth', 'LK Garmisch-Partenkirchen',\n",
       "       'LK Germersheim', 'LK Gießen', 'LK Gifhorn', 'LK Goslar',\n",
       "       'LK Gotha', 'LK Grafschaft Bentheim', 'LK Greiz', 'LK Groß-Gerau',\n",
       "       'LK Göppingen', 'LK Görlitz', 'LK Göttingen', 'LK Günzburg',\n",
       "       'LK Gütersloh', 'LK Hameln-Pyrmont', 'LK Harburg', 'LK Harz',\n",
       "       'LK Havelland', 'LK Haßberge', 'LK Heidekreis', 'LK Heidenheim',\n",
       "       'LK Heilbronn', 'LK Heinsberg', 'LK Helmstedt', 'LK Herford',\n",
       "       'LK Hersfeld-Rotenburg', 'LK Herzogtum Lauenburg',\n",
       "       'LK Hildburghausen', 'LK Hildesheim', 'LK Hochsauerlandkreis',\n",
       "       'LK Hochtaunuskreis', 'LK Hof', 'LK Hohenlohekreis',\n",
       "       'LK Holzminden', 'LK Höxter', 'LK Ilm-Kreis', 'LK Jerichower Land',\n",
       "       'LK Kaiserslautern', 'LK Karlsruhe', 'LK Kassel', 'LK Kelheim',\n",
       "       'LK Kitzingen', 'LK Kleve', 'LK Konstanz', 'LK Kronach',\n",
       "       'LK Kulmbach', 'LK Kusel', 'LK Kyffhäuserkreis',\n",
       "       'LK Lahn-Dill-Kreis', 'LK Landsberg a.Lech', 'LK Landshut',\n",
       "       'LK Leer', 'LK Leipzig', 'LK Lichtenfels', 'LK Limburg-Weilburg',\n",
       "       'LK Lindau', 'LK Lippe', 'LK Ludwigsburg',\n",
       "       'LK Ludwigslust-Parchim', 'LK Lörrach', 'LK Lüchow-Dannenberg',\n",
       "       'LK Lüneburg', 'LK Main-Kinzig-Kreis', 'LK Main-Spessart',\n",
       "       'LK Main-Tauber-Kreis', 'LK Main-Taunus-Kreis', 'LK Mainz-Bingen',\n",
       "       'LK Mansfeld-Südharz', 'LK Marburg-Biedenkopf', 'LK Mayen-Koblenz',\n",
       "       'LK Mecklenburgische Seenplatte', 'LK Meißen', 'LK Merzig-Wadern',\n",
       "       'LK Mettmann', 'LK Miesbach', 'LK Miltenberg',\n",
       "       'LK Minden-Lübbecke', 'LK Mittelsachsen', 'LK Märkisch-Oderland',\n",
       "       'LK Märkischer Kreis', 'LK Mühldorf a.Inn', 'LK München',\n",
       "       'LK Neckar-Odenwald-Kreis', 'LK Neu-Ulm',\n",
       "       'LK Neuburg-Schrobenhausen', 'LK Neumarkt i.d.OPf.',\n",
       "       'LK Neunkirchen', 'LK Neustadt a.d.Aisch-Bad Windsheim',\n",
       "       'LK Neustadt a.d.Waldnaab', 'LK Neuwied', 'LK Nienburg (Weser)',\n",
       "       'LK Nordfriesland', 'LK Nordhausen', 'LK Nordsachsen',\n",
       "       'LK Nordwestmecklenburg', 'LK Northeim', 'LK Nürnberger Land',\n",
       "       'LK Oberallgäu', 'LK Oberbergischer Kreis', 'LK Oberhavel',\n",
       "       'LK Oberspreewald-Lausitz', 'LK Odenwaldkreis', 'LK Oder-Spree',\n",
       "       'LK Offenbach', 'LK Oldenburg', 'LK Olpe', 'LK Ortenaukreis',\n",
       "       'LK Osnabrück', 'LK Ostalbkreis', 'LK Ostallgäu', 'LK Osterholz',\n",
       "       'LK Ostholstein', 'LK Ostprignitz-Ruppin', 'LK Paderborn',\n",
       "       'LK Passau', 'LK Peine', 'LK Pfaffenhofen a.d.Ilm', 'LK Pinneberg',\n",
       "       'LK Plön', 'LK Potsdam-Mittelmark', 'LK Prignitz', 'LK Rastatt',\n",
       "       'LK Ravensburg', 'LK Recklinghausen', 'LK Regen', 'LK Regensburg',\n",
       "       'LK Rems-Murr-Kreis', 'LK Rendsburg-Eckernförde', 'LK Reutlingen',\n",
       "       'LK Rhein-Erft-Kreis', 'LK Rhein-Hunsrück-Kreis',\n",
       "       'LK Rhein-Kreis Neuss', 'LK Rhein-Lahn-Kreis',\n",
       "       'LK Rhein-Neckar-Kreis', 'LK Rhein-Pfalz-Kreis',\n",
       "       'LK Rhein-Sieg-Kreis', 'LK Rheingau-Taunus-Kreis',\n",
       "       'LK Rheinisch-Bergischer Kreis', 'LK Rhön-Grabfeld',\n",
       "       'LK Rosenheim', 'LK Rostock', 'LK Rotenburg (Wümme)', 'LK Roth',\n",
       "       'LK Rottal-Inn', 'LK Rottweil', 'LK Saale-Holzland-Kreis',\n",
       "       'LK Saale-Orla-Kreis', 'LK Saalekreis', 'LK Saalfeld-Rudolstadt',\n",
       "       'LK Saarlouis', 'LK Saarpfalz-Kreis', 'LK Salzlandkreis',\n",
       "       'LK Sankt Wendel', 'LK Schaumburg', 'LK Schleswig-Flensburg',\n",
       "       'LK Schmalkalden-Meiningen', 'LK Schwalm-Eder-Kreis',\n",
       "       'LK Schwandorf', 'LK Schwarzwald-Baar-Kreis', 'LK Schweinfurt',\n",
       "       'LK Schwäbisch Hall', 'LK Segeberg', 'LK Siegen-Wittgenstein',\n",
       "       'LK Sigmaringen', 'LK Soest', 'LK Sonneberg', 'LK Spree-Neiße',\n",
       "       'LK Stade', 'LK Stadtverband Saarbrücken', 'LK Starnberg',\n",
       "       'LK Steinburg', 'LK Steinfurt', 'LK Stendal', 'LK Stormarn',\n",
       "       'LK Straubing-Bogen', 'LK Sächsische Schweiz-Osterzgebirge',\n",
       "       'LK Sömmerda', 'LK Südliche Weinstraße', 'LK Südwestpfalz',\n",
       "       'LK Teltow-Fläming', 'LK Tirschenreuth', 'LK Traunstein',\n",
       "       'LK Trier-Saarburg', 'LK Tuttlingen', 'LK Tübingen',\n",
       "       'LK Uckermark', 'LK Uelzen', 'LK Unna', 'LK Unstrut-Hainich-Kreis',\n",
       "       'LK Unterallgäu', 'LK Vechta', 'LK Verden', 'LK Viersen',\n",
       "       'LK Vogelsbergkreis', 'LK Vogtlandkreis',\n",
       "       'LK Vorpommern-Greifswald', 'LK Vorpommern-Rügen',\n",
       "       'LK Vulkaneifel', 'LK Waldeck-Frankenberg', 'LK Waldshut',\n",
       "       'LK Warendorf', 'LK Wartburgkreis', 'LK Weilheim-Schongau',\n",
       "       'LK Weimarer Land', 'LK Weißenburg-Gunzenhausen',\n",
       "       'LK Werra-Meißner-Kreis', 'LK Wesel', 'LK Wesermarsch',\n",
       "       'LK Westerwaldkreis', 'LK Wetteraukreis', 'LK Wittenberg',\n",
       "       'LK Wittmund', 'LK Wolfenbüttel', 'LK Wunsiedel i.Fichtelgebirge',\n",
       "       'LK Würzburg', 'LK Zollernalbkreis', 'LK Zwickau',\n",
       "       'Region Hannover', 'SK Amberg', 'SK Ansbach', 'SK Aschaffenburg',\n",
       "       'SK Augsburg', 'SK Baden-Baden', 'SK Bamberg', 'SK Bayreuth',\n",
       "       'SK Bielefeld', 'SK Bochum', 'SK Bonn', 'SK Bottrop',\n",
       "       'SK Brandenburg a.d.Havel', 'SK Braunschweig', 'SK Bremen',\n",
       "       'SK Bremerhaven', 'SK Chemnitz', 'SK Coburg', 'SK Cottbus',\n",
       "       'SK Darmstadt', 'SK Delmenhorst', 'SK Dessau-Roßlau',\n",
       "       'SK Dortmund', 'SK Dresden', 'SK Duisburg', 'SK Düsseldorf',\n",
       "       'SK Emden', 'SK Erfurt', 'SK Erlangen', 'SK Essen', 'SK Flensburg',\n",
       "       'SK Frankenthal', 'SK Frankfurt (Oder)', 'SK Frankfurt am Main',\n",
       "       'SK Freiburg i.Breisgau', 'SK Fürth', 'SK Gelsenkirchen',\n",
       "       'SK Gera', 'SK Hagen', 'SK Halle', 'SK Hamburg', 'SK Hamm',\n",
       "       'SK Heidelberg', 'SK Heilbronn', 'SK Herne', 'SK Hof',\n",
       "       'SK Ingolstadt', 'SK Jena', 'SK Kaiserslautern', 'SK Karlsruhe',\n",
       "       'SK Kassel', 'SK Kaufbeuren', 'SK Kempten', 'SK Kiel',\n",
       "       'SK Koblenz', 'SK Krefeld', 'SK Köln', 'SK Landau i.d.Pfalz',\n",
       "       'SK Landshut', 'SK Leipzig', 'SK Leverkusen', 'SK Ludwigshafen',\n",
       "       'SK Lübeck', 'SK Magdeburg', 'SK Mainz', 'SK Mannheim',\n",
       "       'SK Memmingen', 'SK Mönchengladbach', 'SK Mülheim a.d.Ruhr',\n",
       "       'SK München', 'SK Münster', 'SK Neumünster',\n",
       "       'SK Neustadt a.d.Weinstraße', 'SK Nürnberg', 'SK Oberhausen',\n",
       "       'SK Offenbach', 'SK Oldenburg', 'SK Osnabrück', 'SK Passau',\n",
       "       'SK Pforzheim', 'SK Pirmasens', 'SK Potsdam', 'SK Regensburg',\n",
       "       'SK Remscheid', 'SK Rosenheim', 'SK Rostock', 'SK Salzgitter',\n",
       "       'SK Schwabach', 'SK Schweinfurt', 'SK Schwerin', 'SK Solingen',\n",
       "       'SK Speyer', 'SK Straubing', 'SK Stuttgart', 'SK Suhl', 'SK Trier',\n",
       "       'SK Ulm', 'SK Weiden i.d.OPf.', 'SK Weimar', 'SK Wiesbaden',\n",
       "       'SK Wilhelmshaven', 'SK Wolfsburg', 'SK Worms', 'SK Wuppertal',\n",
       "       'SK Würzburg', 'SK Zweibrücken', 'StädteRegion Aachen'],\n",
       "      dtype=object)"
      ]
     },
     "execution_count": 10,
     "metadata": {},
     "output_type": "execute_result"
    }
   ],
   "source": [
    "df_clean_counties = df_clean['county'].unique()\n",
    "df_clean_counties"
   ]
  },
  {
   "cell_type": "code",
   "execution_count": 12,
   "id": "b175ae13",
   "metadata": {},
   "outputs": [
    {
     "data": {
      "text/plain": [
       "array(['Oldenburg', 'Osnabrück Städte', 'Osnabrück', 'Vechta',\n",
       "       'Wesermarsch', 'Wilhelmshaven Städte', 'Wittmund', 'Bochum Städte',\n",
       "       'Dortmund Städte', 'Ennepe-Ruhr', 'Hagen Städte', 'Hamm Städte',\n",
       "       'Herne Städte', 'Hochsauerlandkreis', 'Märkischer Kreis', 'Olpe',\n",
       "       'Siegen-Wittgenstein', 'Ostalbkreis', 'Rems-Murr-Kreis',\n",
       "       'Schwäbisch Hall', 'Stuttgart Städte', 'Alb-Donau', 'Biberach',\n",
       "       'Bodensee', 'Ravensburg', 'Reutlingen', 'Sigmaringen', 'Tübingen',\n",
       "       'Ulm Städte', 'Zollernalbkreis', 'Ansbach Städte', 'Ansbach',\n",
       "       'Erlangen-Höchstadt', 'Erlangen Städte', 'Fürth Städte',\n",
       "       'Breisgau-Hochschwarzwald', 'Emmendingen', 'Freiburg', 'Konstanz',\n",
       "       'Lörrach', 'Ortenaukreis', 'Rottweil', 'Schwarzwald-Baar-Kreis',\n",
       "       'Tuttlingen', 'Waldshut', 'Baden-Baden Städte', 'Calw', 'Enz',\n",
       "       'Freudenstadt', 'Heidelberg Städte', 'Karlsruhe Städte',\n",
       "       'Karlsruhe', 'Mannheim Städte', 'Neckar-Odenwald-Kreis',\n",
       "       'Pforzheim Städte', 'Rastatt', 'Rhein-Neckar-Kreis', 'Böblingen',\n",
       "       'Esslingen', 'Göppingen', 'Heidenheim', 'Heilbronn city Städte',\n",
       "       'Heilbronn', 'Hohenlohe', 'Ludwigsburg', 'Main-Tauber', 'Fürth',\n",
       "       'Neustadt-Bad Windsheim', 'Nuremberg Städte', 'Nürnberger Land',\n",
       "       'Roth', 'Schwabach Städte', 'Weißenburg-Gunzenhausen',\n",
       "       'Deggendorf', 'Dingolfing-Landau', 'Freyung-Grafenau', 'Kelheim',\n",
       "       'Landshut Städte', 'Landshut', 'Passau Städte', 'Passau', 'Regen',\n",
       "       'Rottal-Inn', 'Straubing-Bogen', 'Straubing Städte', 'Altötting',\n",
       "       'Bad Tölz-Wolfratshausen', 'Berchtesgadener Land', 'Dachau',\n",
       "       'Ebersberg', 'Eichstätt', 'Erding', 'Freising', 'Fürstenfeldbruck',\n",
       "       'Garmisch-Partenkirchen', 'Ingolstadt Städte', 'Landsberg',\n",
       "       'Miesbach', 'Mühldorf', 'München', 'Munich Städte',\n",
       "       'Neuburg-Schrobenhausen', 'Pfaffenhofen', 'Rosenheim Städte',\n",
       "       'Rosenheim', 'Starnberg', 'Traunstein', 'Weilheim-Schongau',\n",
       "       'Bamberg Städte', 'Bamberg', 'Bayreuth Städte', 'Bayreuth',\n",
       "       'Coburg Städte', 'Coburg', 'Forchheim', 'Hof Städte', 'Hof',\n",
       "       'Kronach', 'Kulmbach', 'Lichtenfels', 'Wunsiedel',\n",
       "       'Amberg-Sulzbach', 'Amberg Städte', 'Cham', 'Neumarkt', 'Neustadt',\n",
       "       'Regensburg Städte', 'Regensburg', 'Schwandorf', 'Tirschenreuth',\n",
       "       'Weiden Städte', 'Aichach-Friedberg', 'Augsburg Städte',\n",
       "       'Augsburg', 'Dillingen', 'Donau-Ries', 'Günzburg',\n",
       "       'Kaufbeuren Städte', 'Kempten Städte', 'Lindau',\n",
       "       'Memmingen Städte', 'Neu-Ulm', 'Oberallgäu', 'Ostallgäu',\n",
       "       'Unterallgäu', 'Aschaffenburg Städte', 'Aschaffenburg',\n",
       "       'Bad Kissingen', 'Haßberge', 'Kitzingen', 'Main-Spessart',\n",
       "       'Miltenberg', 'Rhön-Grabfeld', 'Schweinfurt Städte', 'Schweinfurt',\n",
       "       'Würzburg Städte', 'Würzburg', 'Berlin', 'Barnim',\n",
       "       'Brandenburg an der Havel Städte', 'Cottbus Städte',\n",
       "       'Dahme-Spreewald', 'Elbe-Elster', 'Frankfurt am Oder Städte',\n",
       "       'Havelland', 'Märkisch-Oderland', 'Oberhavel',\n",
       "       'Oberspreewald-Lausitz', 'Oder-Spree', 'Ostprignitz-Ruppin',\n",
       "       'Potsdam-Mittelmark', 'Potsdam Städte', 'Prignitz', 'Spree-Neiße',\n",
       "       'Teltow-Fläming', 'Uckermark', 'Bremen Städte', 'Hamburg Städte',\n",
       "       'Bergstraße', 'Darmstadt-Dieburg', 'Darmstadt Städte',\n",
       "       'Frankfurt am Main Städte', 'Groß-Gerau', 'Hochtaunuskreis',\n",
       "       'Main-Kinzig-Kreis', 'Main-Taunus-Kreis Städte', 'Odenwaldkreis',\n",
       "       'Offenbach am Main Städte', 'Offenbach', 'Rheingau-Taunus-Kreis',\n",
       "       'Wetteraukreis', 'Wiesbaden Städte', 'Gießen', 'Lahn-Dill-Kreis',\n",
       "       'Limburg-Weilburg', 'Marburg-Biedenkopf', 'Vogelsbergkreis',\n",
       "       'Fulda', 'Hersfeld-Rotenburg', 'Kassel Städte', 'Kassel',\n",
       "       'Schwalm-Eder-Kreis', 'Waldeck-Frankenberg', 'Werra-Meißner-Kreis',\n",
       "       'Bad Doberan', 'Demmin', 'Greifswald Städte', 'Güstrow',\n",
       "       'Ludwigslust', 'Mecklenburg-Strelitz', 'Müritz',\n",
       "       'Neubrandenburg Städte', 'Nordvorpommern', 'Nordwestmecklenburg',\n",
       "       'Ostvorpommern', 'Parchim', 'Rostock Städte', 'Rügen',\n",
       "       'Schwerin Städte', 'Stralsund Städte', 'Uecker-Randow',\n",
       "       'Wismar Städte', 'Braunschweig Städte', 'Gifhorn', 'Goslar',\n",
       "       'Göttingen', 'Helmstedt', 'Northeim', 'Osterode', 'Peine',\n",
       "       'Salzgitter Städte', 'Wolfenbüttel', 'Wolfsburg Städte',\n",
       "       'Diepholz', 'Hamelin-Pyrmont', 'Hanover', 'Hildesheim',\n",
       "       'Holzminden', 'Nienburg', 'Schaumburg', 'Celle', 'Cuxhaven',\n",
       "       'Harburg', 'Lüchow-Dannenberg', 'Lüneburg', 'Osterholz',\n",
       "       'Rotenburg', 'Soltau-Fallingbostel', 'Stade', 'Uelzen', 'Verden',\n",
       "       'Ammerland', 'Aurich', 'Cloppenburg', 'Emden Städte', 'Emsland',\n",
       "       'Friesland', 'Grafschaft Bentheim', 'Leer', 'Oldenburg Städte',\n",
       "       'Soest', 'Unna', 'Bielefeld Städte', 'Gütersloh', 'Herford',\n",
       "       'Höxter', 'Lippe', 'Minden-Lübbecke', 'Paderborn', 'Cleves',\n",
       "       'Duisburg Städte', 'Düsseldorf Städte', 'Essen Städte',\n",
       "       'Krefeld Städte', 'Mettmann', 'Mönchengladbach Städte',\n",
       "       'Mülheim Städte', 'Oberhausen Städte', 'Remscheid Städte',\n",
       "       'Rhein-Kreis Neuss', 'Solingen Städte', 'Viersen', 'Wesel',\n",
       "       'Wuppertal Städte', 'Aachen Städte', 'Aachen', 'Bonn Städte',\n",
       "       'Cologne Städte', 'Düren', 'Euskirchen', 'Heinsberg',\n",
       "       'Leverkusen Städte', 'Oberbergischer Kreis', 'Rhein-Erft-Kreis',\n",
       "       'Rhein-Sieg', 'Rheinisch-Bergischer Kreis', 'Borken',\n",
       "       'Bottrop Städte', 'Coesfeld', 'Gelsenkirchen Städte',\n",
       "       'Münster Städte', 'Recklinghausen', 'Steinfurt', 'Warendorf',\n",
       "       'Ahrweiler', 'Altenkirchen', 'Bad Kreuznach', 'Birkenfeld',\n",
       "       'Cochem-Zell', 'Koblenz Coblenz Städte', 'Mayen-Koblenz',\n",
       "       'Neuwied', 'Rhein-Hunsrück', 'Rhein-Lahn', 'Westerwaldkreis',\n",
       "       'Alzey-Worms', 'Bad Dürkheim', 'Donnersbergkreis',\n",
       "       'Frankenthal Städte', 'Germersheim', 'Kaiserslautern Städte',\n",
       "       'Kaiserslautern', 'Kusel', 'Landau Städte', 'Ludwigshafen Städte',\n",
       "       'Mainz-Bingen', 'Mainz Städte', 'Neustadt Städte',\n",
       "       'Rhein-Pfalz-Kreis', 'Speyer Spires Städte', 'Südliche Weinstraße',\n",
       "       'Südwestpfalz', 'Worms Städte', 'Zweibrücken Städte',\n",
       "       'Bernkastel-Wittlich', 'Bitburg-Prüm', 'Trier-Saarburg',\n",
       "       'Trier Städte', 'Vulkaneifel', 'Merzig-Wadern', 'Neunkirchen',\n",
       "       'Saarbrücken Städte', 'Saarlouis', 'Saarpfalz', 'Sankt Wendel',\n",
       "       'Anhalt-Zerbst', 'Bernburg', 'Bitterfeld', 'Dessau Städte',\n",
       "       'Köthen', 'Wittenberg', 'Aschersleben-Staßfurt', 'Burgenlandkreis',\n",
       "       'Halle Städte', 'Mansfelder Land', 'Merseburg-Querfurt',\n",
       "       'Saalkreis', 'Sangerhausen', 'Weißenfels',\n",
       "       'Altmarkkreis Salzwedel', 'Bördekreis', 'Halberstadt',\n",
       "       'Jerichower Land', 'Magdeburg Städte', 'Ohrekreis', 'Quedlinburg',\n",
       "       'Schönebeck', 'Stendal', 'Wernigerode', 'Annaberg',\n",
       "       'Aue-Schwarzenberg', 'Chemnitz Städte', 'Chemnitzer Land',\n",
       "       'Freiberg', 'Mittlerer Erzgebirgskreis', 'Mittweida',\n",
       "       'Plauen Städte', 'Stollberg', 'Vogtlandkreis', 'Zwickau Städte',\n",
       "       'Zwickauer Land', 'Bautzen', 'Dresden Städte', 'Görlitz Städte',\n",
       "       'Kamenz', 'Löbau-Zittau', 'Meißen',\n",
       "       'Niederschlesischer Oberlausitzkreis', 'Riesa-Großenhain',\n",
       "       'Sächsische Schweiz', 'Weißeritzkreis', 'Delitzsch', 'Döbeln',\n",
       "       'Leipzig Städte', 'Leipziger Land', 'Muldentalkreis',\n",
       "       'Torgau-Oschatz', 'Dithmarschen', 'Flensburg Städte',\n",
       "       'Kiel Städte', 'Lauenburg', 'Lübeck Städte', 'Neumünster Städte',\n",
       "       'Nordfriesland', 'Ostholstein', 'Pinneberg', 'Plön',\n",
       "       'Rendsburg-Eckernförde', 'Schleswig-Flensburg', 'Segeberg',\n",
       "       'Steinburg', 'Stormarn', 'Altenburger Land', 'Eichsfeld',\n",
       "       'Erfurt Städte', 'Gera Städte', 'Gotha', 'Greiz', 'Hildburghausen',\n",
       "       'Ilm-Kreis', 'Jena Städte', 'Kyffhäuserkreis', 'Nordhausen',\n",
       "       'Saale-Holzland', 'Saale-Orla', 'Saalfeld-Rudolstadt',\n",
       "       'Schmalkalden-Meiningen', 'Sömmerda', 'Sonneberg', 'Suhl Städte',\n",
       "       'Unstrut-Hainich', 'Wartburgkreis', 'Weimar Städte',\n",
       "       'Weimarer Land'], dtype=object)"
      ]
     },
     "execution_count": 12,
     "metadata": {},
     "output_type": "execute_result"
    }
   ],
   "source": [
    "df_map_counties = df_map['County'].unique()\n",
    "df_map_counties"
   ]
  },
  {
   "cell_type": "code",
   "execution_count": 11,
   "id": "eb7aa3f9",
   "metadata": {},
   "outputs": [],
   "source": [
    "ls_SK = []\n",
    "ls_LK = []\n",
    "for i in ls_first_complete:\n",
    "    if i[0:3]=='SK ':\n",
    "        ls_SK.append(i)\n",
    "    else:\n",
    "        ls_LK.append(i)    "
   ]
  },
  {
   "cell_type": "code",
   "execution_count": 29,
   "id": "0f914516",
   "metadata": {},
   "outputs": [],
   "source": [
    "ls_LK_copy = ls_LK.copy()\n"
   ]
  },
  {
   "cell_type": "code",
   "execution_count": 13,
   "id": "fd770e34",
   "metadata": {
    "scrolled": true
   },
   "outputs": [
    {
     "data": {
      "text/plain": [
       "293"
      ]
     },
     "execution_count": 13,
     "metadata": {},
     "output_type": "execute_result"
    }
   ],
   "source": [
    "ls_LK.index('Region Hannover') #this is where it gets different"
   ]
  },
  {
   "cell_type": "code",
   "execution_count": 14,
   "id": "5524bfd4",
   "metadata": {},
   "outputs": [],
   "source": [
    "#del ls_LK[293:] #to get only LK"
   ]
  },
  {
   "cell_type": "code",
   "execution_count": 15,
   "id": "44a7af9e",
   "metadata": {},
   "outputs": [],
   "source": [
    "#ls_LK.insert(0, 'LK Ahrweiler')\n"
   ]
  },
  {
   "cell_type": "markdown",
   "id": "01192e91",
   "metadata": {},
   "source": [
    "ls_LK_copy = ls_LK.copy()"
   ]
  },
  {
   "cell_type": "code",
   "execution_count": 30,
   "id": "28a51426",
   "metadata": {},
   "outputs": [],
   "source": [
    "ls_LK_copy = ls_LK.copy()\n",
    " "
   ]
  },
  {
   "cell_type": "markdown",
   "id": "30b2d27c",
   "metadata": {},
   "source": [
    "1. pop lk sk from copy list\n",
    "2. create dict where keys clean_df and values other df\n",
    "3. match and if not drop from second column\n",
    "4. add Berlin and AAchen manually\n"
   ]
  },
  {
   "cell_type": "code",
   "execution_count": 17,
   "id": "19354553",
   "metadata": {},
   "outputs": [],
   "source": [
    "ls_SK_copy = ls_SK.copy()\n",
    "ls_SK_copy_clean = []\n",
    "for i in ls_SK_copy:\n",
    "    ii= i.replace('SK ', '')\n",
    "    ls_SK_copy_clean.append(ii)\n",
    "    "
   ]
  },
  {
   "cell_type": "code",
   "execution_count": 18,
   "id": "6abe8348",
   "metadata": {},
   "outputs": [
    {
     "data": {
      "text/plain": [
       "True"
      ]
     },
     "execution_count": 18,
     "metadata": {},
     "output_type": "execute_result"
    }
   ],
   "source": [
    "len(ls_SK_copy_clean) ==len (ls_SK_copy)"
   ]
  },
  {
   "cell_type": "code",
   "execution_count": 19,
   "id": "e7c7b673",
   "metadata": {},
   "outputs": [],
   "source": [
    "ls_LK_copy = ls_LK.copy()"
   ]
  },
  {
   "cell_type": "code",
   "execution_count": null,
   "id": "63a16511",
   "metadata": {},
   "outputs": [],
   "source": []
  },
  {
   "cell_type": "code",
   "execution_count": 20,
   "id": "b33b61b1",
   "metadata": {},
   "outputs": [],
   "source": [
    "\n",
    "ls_LK_copy_clean = []\n",
    "for i in ls_LK_copy:\n",
    "    ii= i.replace('LK ', '')\n",
    "    ls_LK_copy_clean.append(ii)\n",
    "    \n",
    "    "
   ]
  },
  {
   "cell_type": "code",
   "execution_count": 21,
   "id": "4863fd84",
   "metadata": {},
   "outputs": [
    {
     "data": {
      "text/plain": [
       "True"
      ]
     },
     "execution_count": 21,
     "metadata": {},
     "output_type": "execute_result"
    }
   ],
   "source": [
    "len(ls_LK_copy_clean ) == len(ls_LK_copy)"
   ]
  },
  {
   "cell_type": "code",
   "execution_count": 22,
   "id": "7b4c8906",
   "metadata": {},
   "outputs": [],
   "source": [
    "ls_joined_clean_covid = ls_LK_copy_clean + ls_SK_copy_clean\n"
   ]
  },
  {
   "cell_type": "code",
   "execution_count": 23,
   "id": "b8e5e3c4",
   "metadata": {},
   "outputs": [
    {
     "data": {
      "text/plain": [
       "400"
      ]
     },
     "execution_count": 23,
     "metadata": {},
     "output_type": "execute_result"
    }
   ],
   "source": [
    "len(ls_joined_clean_covid) "
   ]
  },
  {
   "cell_type": "code",
   "execution_count": 24,
   "id": "ef025e48",
   "metadata": {},
   "outputs": [
    {
     "data": {
      "text/plain": [
       "400"
      ]
     },
     "execution_count": 24,
     "metadata": {},
     "output_type": "execute_result"
    }
   ],
   "source": [
    "len(ls_first_complete)"
   ]
  },
  {
   "cell_type": "markdown",
   "id": "26a0ce6a",
   "metadata": {},
   "source": [
    "ls_NONE= []\n",
    "ls_ok = []\n",
    "for i in ls_first_complete:\n",
    "    if i[3:]=='SK 'or i[3:]=='LK ':\n",
    "        ls_ok.append(i)\n",
    "    else:\n",
    "        ls_NONE.append(i)\n",
    "  "
   ]
  },
  {
   "cell_type": "code",
   "execution_count": null,
   "id": "ed668ae1",
   "metadata": {},
   "outputs": [],
   "source": [
    "### problem: unique is less than non unique in clean df"
   ]
  },
  {
   "cell_type": "code",
   "execution_count": null,
   "id": "24900a76",
   "metadata": {},
   "outputs": [],
   "source": [
    "### solution: identify non unique values"
   ]
  },
  {
   "cell_type": "code",
   "execution_count": 34,
   "id": "f8b948e0",
   "metadata": {},
   "outputs": [],
   "source": [
    "ls_clean_map = []\n",
    "ls_problems = []\n",
    "\n",
    "ls_map_total=df_map['County'].unique()\n",
    "ls_map_total = sorted(ls_map_total)\n",
    "# broken loop for i,j in zip(ls_joined_clean_covid, ls_map_total):\n",
    "  #broken  if i == j:\n",
    " #       ls_clean_map.append(i)\n",
    " #   else:\n",
    "       \n",
    "   #    ls_problems.append(i)\n",
    "        "
   ]
  },
  {
   "cell_type": "code",
   "execution_count": 25,
   "id": "fc6f775f",
   "metadata": {},
   "outputs": [],
   "source": [
    "ls_joined_clean_covid = sorted(ls_joined_clean_covid)"
   ]
  },
  {
   "cell_type": "code",
   "execution_count": 26,
   "id": "1ea927b5",
   "metadata": {},
   "outputs": [
    {
     "data": {
      "text/plain": [
       "400"
      ]
     },
     "execution_count": 26,
     "metadata": {},
     "output_type": "execute_result"
    }
   ],
   "source": [
    "len(ls_joined_clean_covid)"
   ]
  },
  {
   "cell_type": "code",
   "execution_count": 36,
   "id": "c71dc670",
   "metadata": {},
   "outputs": [
    {
     "data": {
      "text/plain": [
       "434"
      ]
     },
     "execution_count": 36,
     "metadata": {},
     "output_type": "execute_result"
    }
   ],
   "source": [
    "ls_map_total = sorted(ls_map_total)\n",
    "len(ls_map_total)\n"
   ]
  },
  {
   "cell_type": "code",
   "execution_count": 47,
   "id": "3ae75962",
   "metadata": {},
   "outputs": [],
   "source": [
    "main_list = (set(ls_joined_clean_covid) - set(ls_map_total))"
   ]
  },
  {
   "cell_type": "code",
   "execution_count": 48,
   "id": "0b2db958",
   "metadata": {},
   "outputs": [
    {
     "data": {
      "text/plain": [
       "130"
      ]
     },
     "execution_count": 48,
     "metadata": {},
     "output_type": "execute_result"
    }
   ],
   "source": [
    "len(main_list)"
   ]
  },
  {
   "cell_type": "code",
   "execution_count": 51,
   "id": "2b49e036",
   "metadata": {},
   "outputs": [
    {
     "data": {
      "text/plain": [
       "{'Alb-Donau-Kreis',\n",
       " 'Amberg',\n",
       " 'Anhalt-Bitterfeld',\n",
       " 'Baden-Baden',\n",
       " 'Bielefeld',\n",
       " 'Bochum',\n",
       " 'Bodenseekreis',\n",
       " 'Bonn',\n",
       " 'Bottrop',\n",
       " 'Brandenburg a.d.Havel',\n",
       " 'Braunschweig',\n",
       " 'Bremen',\n",
       " 'Bremerhaven',\n",
       " 'Börde',\n",
       " 'Chemnitz',\n",
       " 'Cottbus',\n",
       " 'Darmstadt',\n",
       " 'Delmenhorst',\n",
       " 'Dessau-Roßlau',\n",
       " 'Dillingen a.d.Donau',\n",
       " 'Dortmund',\n",
       " 'Dresden',\n",
       " 'Duisburg',\n",
       " 'Düsseldorf',\n",
       " 'Emden',\n",
       " 'Ennepe-Ruhr-Kreis',\n",
       " 'Enzkreis',\n",
       " 'Erfurt',\n",
       " 'Erlangen',\n",
       " 'Erzgebirgskreis',\n",
       " 'Essen',\n",
       " 'Flensburg',\n",
       " 'Frankenthal',\n",
       " 'Frankfurt (Oder)',\n",
       " 'Frankfurt am Main',\n",
       " 'Freiburg i.Breisgau',\n",
       " 'Gelsenkirchen',\n",
       " 'Gera',\n",
       " 'Görlitz',\n",
       " 'Hagen',\n",
       " 'Halle',\n",
       " 'Hamburg',\n",
       " 'Hameln-Pyrmont',\n",
       " 'Hamm',\n",
       " 'Harz',\n",
       " 'Heidekreis',\n",
       " 'Heidelberg',\n",
       " 'Herne',\n",
       " 'Herzogtum Lauenburg',\n",
       " 'Hohenlohekreis',\n",
       " 'Ingolstadt',\n",
       " 'Jena',\n",
       " 'Kaufbeuren',\n",
       " 'Kempten',\n",
       " 'Kiel',\n",
       " 'Kleve',\n",
       " 'Koblenz',\n",
       " 'Krefeld',\n",
       " 'Köln',\n",
       " 'Landau i.d.Pfalz',\n",
       " 'Landsberg a.Lech',\n",
       " 'Leipzig',\n",
       " 'Leverkusen',\n",
       " 'Ludwigshafen',\n",
       " 'Ludwigslust-Parchim',\n",
       " 'Lübeck',\n",
       " 'Magdeburg',\n",
       " 'Main-Tauber-Kreis',\n",
       " 'Main-Taunus-Kreis',\n",
       " 'Mainz',\n",
       " 'Mannheim',\n",
       " 'Mansfeld-Südharz',\n",
       " 'Mecklenburgische Seenplatte',\n",
       " 'Memmingen',\n",
       " 'Mittelsachsen',\n",
       " 'Mönchengladbach',\n",
       " 'Mühldorf a.Inn',\n",
       " 'Mülheim a.d.Ruhr',\n",
       " 'Münster',\n",
       " 'Neumarkt i.d.OPf.',\n",
       " 'Neumünster',\n",
       " 'Neustadt a.d.Aisch-Bad Windsheim',\n",
       " 'Neustadt a.d.Waldnaab',\n",
       " 'Neustadt a.d.Weinstraße',\n",
       " 'Nienburg (Weser)',\n",
       " 'Nordsachsen',\n",
       " 'Nürnberg',\n",
       " 'Oberhausen',\n",
       " 'Pfaffenhofen a.d.Ilm',\n",
       " 'Pforzheim',\n",
       " 'Pirmasens',\n",
       " 'Potsdam',\n",
       " 'Region Hannover',\n",
       " 'Remscheid',\n",
       " 'Rhein-Hunsrück-Kreis',\n",
       " 'Rhein-Lahn-Kreis',\n",
       " 'Rhein-Sieg-Kreis',\n",
       " 'Rostock',\n",
       " 'Rotenburg (Wümme)',\n",
       " 'Saale-Holzland-Kreis',\n",
       " 'Saale-Orla-Kreis',\n",
       " 'Saalekreis',\n",
       " 'Saarpfalz-Kreis',\n",
       " 'Salzgitter',\n",
       " 'Salzlandkreis',\n",
       " 'Schwabach',\n",
       " 'Schwerin',\n",
       " 'Solingen',\n",
       " 'Speyer',\n",
       " 'Stadtverband Saarbrücken',\n",
       " 'Straubing',\n",
       " 'Stuttgart',\n",
       " 'StädteRegion Aachen',\n",
       " 'Suhl',\n",
       " 'Sächsische Schweiz-Osterzgebirge',\n",
       " 'Trier',\n",
       " 'Ulm',\n",
       " 'Unstrut-Hainich-Kreis',\n",
       " 'Vorpommern-Greifswald',\n",
       " 'Vorpommern-Rügen',\n",
       " 'Weiden i.d.OPf.',\n",
       " 'Weimar',\n",
       " 'Wiesbaden',\n",
       " 'Wilhelmshaven',\n",
       " 'Wolfsburg',\n",
       " 'Worms',\n",
       " 'Wunsiedel i.Fichtelgebirge',\n",
       " 'Wuppertal',\n",
       " 'Zweibrücken',\n",
       " 'Zwickau'}"
      ]
     },
     "execution_count": 51,
     "metadata": {},
     "output_type": "execute_result"
    }
   ],
   "source": [
    "main_list"
   ]
  },
  {
   "cell_type": "code",
   "execution_count": 53,
   "id": "42de4e71",
   "metadata": {},
   "outputs": [],
   "source": [
    "main_list2 = (set(ls_map_total) - set(ls_joined_clean_covid))"
   ]
  },
  {
   "cell_type": "code",
   "execution_count": 58,
   "id": "6d3b455b",
   "metadata": {},
   "outputs": [],
   "source": []
  },
  {
   "cell_type": "code",
   "execution_count": 59,
   "id": "c9362dd0",
   "metadata": {},
   "outputs": [
    {
     "data": {
      "text/plain": [
       "set()"
      ]
     },
     "execution_count": 59,
     "metadata": {},
     "output_type": "execute_result"
    }
   ],
   "source": []
  },
  {
   "cell_type": "code",
   "execution_count": null,
   "id": "36fcd5ef",
   "metadata": {},
   "outputs": [],
   "source": []
  }
 ],
 "metadata": {
  "kernelspec": {
   "display_name": "Python 3 (ipykernel)",
   "language": "python",
   "name": "python3"
  },
  "language_info": {
   "codemirror_mode": {
    "name": "ipython",
    "version": 3
   },
   "file_extension": ".py",
   "mimetype": "text/x-python",
   "name": "python",
   "nbconvert_exporter": "python",
   "pygments_lexer": "ipython3",
   "version": "3.8.12"
  },
  "toc": {
   "base_numbering": 1,
   "nav_menu": {},
   "number_sections": true,
   "sideBar": true,
   "skip_h1_title": false,
   "title_cell": "Table of Contents",
   "title_sidebar": "Contents",
   "toc_cell": false,
   "toc_position": {},
   "toc_section_display": true,
   "toc_window_display": false
  }
 },
 "nbformat": 4,
 "nbformat_minor": 5
}
