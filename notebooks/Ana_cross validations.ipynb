{
 "cells": [
  {
   "cell_type": "markdown",
   "id": "129d16d5",
   "metadata": {
    "heading_collapsed": true
   },
   "source": [
    "# Load data and keep 2019 timepoint"
   ]
  },
  {
   "cell_type": "code",
   "execution_count": 1,
   "id": "2527b250",
   "metadata": {
    "hidden": true
   },
   "outputs": [],
   "source": [
    "import pandas as pd\n",
    "\n",
    "df_covid_AP = pd.read_csv('../lung_pollution/data/covid_pollution_clean.csv')\n",
    "\n",
    "df_covid_AP.drop(columns=['Unnamed: 0', 'Unnamed: 0.1', 'Unnamed: 0.1.1'], inplace = True)\n",
    "df_covid_AP = df_covid_AP.rename(columns={\"PM2.5_annualMean\": \"PM2_5_annualMean\", \"Fully vaccinated\": \"Fully_vaccinated\", \"Population density\": \"Population_density\"})"
   ]
  },
  {
   "cell_type": "code",
   "execution_count": 2,
   "id": "07dcdb9b",
   "metadata": {
    "hidden": true
   },
   "outputs": [
    {
     "data": {
      "text/plain": [
       "(4000, 23)"
      ]
     },
     "execution_count": 2,
     "metadata": {},
     "output_type": "execute_result"
    }
   ],
   "source": [
    "df_covid_AP.shape"
   ]
  },
  {
   "cell_type": "code",
   "execution_count": 3,
   "id": "2f0326f2",
   "metadata": {
    "hidden": true,
    "scrolled": false
   },
   "outputs": [
    {
     "data": {
      "text/plain": [
       "Index(['county', 'year', 'NO2_annualMean', 'NO2_hrOver200', 'NO_annualMean',\n",
       "       'O3_annualMean', 'O3_daysOver120', 'O3_dailyMaxAnnualMean',\n",
       "       'O3_dailyHourlyMax', 'O3_daily8HrMax', 'PM10_annualMean',\n",
       "       'PM10_daysOver50', 'PM2_5_annualMean', 'BL', 'EWZ', 'Shape__Area',\n",
       "       'death_rate', 'cases', 'deaths', 'cases_per_100k', 'deaths_per_100k',\n",
       "       'Fully_vaccinated', 'Population_density'],\n",
       "      dtype='object')"
      ]
     },
     "execution_count": 3,
     "metadata": {},
     "output_type": "execute_result"
    }
   ],
   "source": [
    "df_covid_AP.columns"
   ]
  },
  {
   "cell_type": "code",
   "execution_count": 4,
   "id": "bf73a653",
   "metadata": {
    "hidden": true
   },
   "outputs": [],
   "source": [
    "df_covid_AP.sort_values(['year'], axis=0, ascending=False,inplace=True,ignore_index=True)\n",
    "df_covid_AP_2019 = df_covid_AP[0:400]"
   ]
  },
  {
   "cell_type": "markdown",
   "id": "9878b7bc",
   "metadata": {
    "heading_collapsed": true
   },
   "source": [
    "# RobustScale features"
   ]
  },
  {
   "cell_type": "code",
   "execution_count": 5,
   "id": "175df5ef",
   "metadata": {
    "hidden": true
   },
   "outputs": [],
   "source": [
    "df_num = df_covid_AP_2019[['NO2_annualMean', 'NO2_hrOver200', 'NO_annualMean',\n",
    "       'O3_annualMean', 'O3_daysOver120', 'O3_dailyMaxAnnualMean',\n",
    "       'O3_dailyHourlyMax', 'O3_daily8HrMax', 'PM10_annualMean',\n",
    "       'PM10_daysOver50', 'PM2_5_annualMean', 'Fully_vaccinated', 'Population_density', 'cases_per_100k', 'deaths_per_100k'\n",
    "       ]]"
   ]
  },
  {
   "cell_type": "code",
   "execution_count": 6,
   "id": "04aae347",
   "metadata": {
    "hidden": true
   },
   "outputs": [
    {
     "name": "stderr",
     "output_type": "stream",
     "text": [
      "/home/curi/.pyenv/versions/3.8.12/envs/lung_pollution/lib/python3.8/site-packages/pandas/core/frame.py:3641: SettingWithCopyWarning: \n",
      "A value is trying to be set on a copy of a slice from a DataFrame.\n",
      "Try using .loc[row_indexer,col_indexer] = value instead\n",
      "\n",
      "See the caveats in the documentation: https://pandas.pydata.org/pandas-docs/stable/user_guide/indexing.html#returning-a-view-versus-a-copy\n",
      "  self[k1] = value[k2]\n"
     ]
    }
   ],
   "source": [
    "from sklearn.preprocessing import RobustScaler\n",
    "\n",
    "r_scaler = RobustScaler()  # Instanciate Robust Scaler\n",
    "\n",
    "r_scaler.fit(df_num)  # Fit scaler to feature\n",
    "scaled_num = r_scaler.transform(df_num)  #Scale\n",
    "\n",
    "df_num = pd.DataFrame(scaled_num, columns = df_num.columns)\n",
    "\n",
    "df_covid_AP_2019[['NO2_annualMean', 'NO2_hrOver200', 'NO_annualMean',\n",
    "       'O3_annualMean', 'O3_daysOver120', 'O3_dailyMaxAnnualMean',\n",
    "       'O3_dailyHourlyMax', 'O3_daily8HrMax', 'PM10_annualMean',\n",
    "       'PM10_daysOver50', 'PM2_5_annualMean', 'Fully_vaccinated', 'Population_density', 'cases_per_100k', 'deaths_per_100k'\n",
    "       ]] = df_num[['NO2_annualMean', 'NO2_hrOver200', 'NO_annualMean',\n",
    "       'O3_annualMean', 'O3_daysOver120', 'O3_dailyMaxAnnualMean',\n",
    "       'O3_dailyHourlyMax', 'O3_daily8HrMax', 'PM10_annualMean',\n",
    "       'PM10_daysOver50', 'PM2_5_annualMean', 'Fully_vaccinated', 'Population_density', 'cases_per_100k', 'deaths_per_100k'\n",
    "       ]]"
   ]
  },
  {
   "cell_type": "code",
   "execution_count": 7,
   "id": "b5eef0ff",
   "metadata": {
    "hidden": true
   },
   "outputs": [
    {
     "data": {
      "text/html": [
       "<div>\n",
       "<style scoped>\n",
       "    .dataframe tbody tr th:only-of-type {\n",
       "        vertical-align: middle;\n",
       "    }\n",
       "\n",
       "    .dataframe tbody tr th {\n",
       "        vertical-align: top;\n",
       "    }\n",
       "\n",
       "    .dataframe thead th {\n",
       "        text-align: right;\n",
       "    }\n",
       "</style>\n",
       "<table border=\"1\" class=\"dataframe\">\n",
       "  <thead>\n",
       "    <tr style=\"text-align: right;\">\n",
       "      <th></th>\n",
       "      <th>county</th>\n",
       "      <th>year</th>\n",
       "      <th>NO2_annualMean</th>\n",
       "      <th>NO2_hrOver200</th>\n",
       "      <th>NO_annualMean</th>\n",
       "      <th>O3_annualMean</th>\n",
       "      <th>O3_daysOver120</th>\n",
       "      <th>O3_dailyMaxAnnualMean</th>\n",
       "      <th>O3_dailyHourlyMax</th>\n",
       "      <th>O3_daily8HrMax</th>\n",
       "      <th>...</th>\n",
       "      <th>BL</th>\n",
       "      <th>EWZ</th>\n",
       "      <th>Shape__Area</th>\n",
       "      <th>death_rate</th>\n",
       "      <th>cases</th>\n",
       "      <th>deaths</th>\n",
       "      <th>cases_per_100k</th>\n",
       "      <th>deaths_per_100k</th>\n",
       "      <th>Fully_vaccinated</th>\n",
       "      <th>Population_density</th>\n",
       "    </tr>\n",
       "  </thead>\n",
       "  <tbody>\n",
       "    <tr>\n",
       "      <th>0</th>\n",
       "      <td>StädteRegion Aachen</td>\n",
       "      <td>2019</td>\n",
       "      <td>-2.203068</td>\n",
       "      <td>-0.763575</td>\n",
       "      <td>-2.300578</td>\n",
       "      <td>2.120480</td>\n",
       "      <td>3.007296</td>\n",
       "      <td>1.298675</td>\n",
       "      <td>8.818734</td>\n",
       "      <td>2.813240</td>\n",
       "      <td>...</td>\n",
       "      <td>Nordrhein-Westfalen</td>\n",
       "      <td>556631</td>\n",
       "      <td>7.046180e+08</td>\n",
       "      <td>1.834700</td>\n",
       "      <td>33902</td>\n",
       "      <td>622</td>\n",
       "      <td>0.094656</td>\n",
       "      <td>0.033919</td>\n",
       "      <td>1.405405</td>\n",
       "      <td>1.088239</td>\n",
       "    </tr>\n",
       "    <tr>\n",
       "      <th>1</th>\n",
       "      <td>LK Diepholz</td>\n",
       "      <td>2019</td>\n",
       "      <td>-0.052210</td>\n",
       "      <td>0.194800</td>\n",
       "      <td>-0.089904</td>\n",
       "      <td>0.047668</td>\n",
       "      <td>0.154966</td>\n",
       "      <td>-0.095789</td>\n",
       "      <td>0.003952</td>\n",
       "      <td>0.001518</td>\n",
       "      <td>...</td>\n",
       "      <td>Niedersachsen</td>\n",
       "      <td>218072</td>\n",
       "      <td>1.989167e+09</td>\n",
       "      <td>1.279707</td>\n",
       "      <td>8752</td>\n",
       "      <td>112</td>\n",
       "      <td>-0.806295</td>\n",
       "      <td>-0.860765</td>\n",
       "      <td>0.972973</td>\n",
       "      <td>-0.169324</td>\n",
       "    </tr>\n",
       "    <tr>\n",
       "      <th>2</th>\n",
       "      <td>LK Coesfeld</td>\n",
       "      <td>2019</td>\n",
       "      <td>0.349943</td>\n",
       "      <td>0.319211</td>\n",
       "      <td>0.290399</td>\n",
       "      <td>-0.159157</td>\n",
       "      <td>0.019424</td>\n",
       "      <td>-0.248210</td>\n",
       "      <td>-0.033597</td>\n",
       "      <td>-0.082804</td>\n",
       "      <td>...</td>\n",
       "      <td>Nordrhein-Westfalen</td>\n",
       "      <td>220712</td>\n",
       "      <td>1.111795e+09</td>\n",
       "      <td>1.450909</td>\n",
       "      <td>7099</td>\n",
       "      <td>103</td>\n",
       "      <td>-1.151954</td>\n",
       "      <td>-0.930285</td>\n",
       "      <td>1.405405</td>\n",
       "      <td>-0.005020</td>\n",
       "    </tr>\n",
       "    <tr>\n",
       "      <th>3</th>\n",
       "      <td>LK Passau</td>\n",
       "      <td>2019</td>\n",
       "      <td>0.028195</td>\n",
       "      <td>0.219674</td>\n",
       "      <td>-0.040813</td>\n",
       "      <td>-0.202963</td>\n",
       "      <td>-0.009285</td>\n",
       "      <td>-0.280493</td>\n",
       "      <td>-0.041550</td>\n",
       "      <td>-0.100664</td>\n",
       "      <td>...</td>\n",
       "      <td>Bayern</td>\n",
       "      <td>193454</td>\n",
       "      <td>1.532712e+09</td>\n",
       "      <td>2.123258</td>\n",
       "      <td>18368</td>\n",
       "      <td>390</td>\n",
       "      <td>1.571156</td>\n",
       "      <td>1.365247</td>\n",
       "      <td>0.000000</td>\n",
       "      <td>-0.138664</td>\n",
       "    </tr>\n",
       "    <tr>\n",
       "      <th>4</th>\n",
       "      <td>LK Peine</td>\n",
       "      <td>2019</td>\n",
       "      <td>0.026144</td>\n",
       "      <td>0.219040</td>\n",
       "      <td>-0.053546</td>\n",
       "      <td>0.233382</td>\n",
       "      <td>0.276674</td>\n",
       "      <td>0.041074</td>\n",
       "      <td>0.037669</td>\n",
       "      <td>0.077233</td>\n",
       "      <td>...</td>\n",
       "      <td>Niedersachsen</td>\n",
       "      <td>135844</td>\n",
       "      <td>5.360006e+08</td>\n",
       "      <td>1.523207</td>\n",
       "      <td>6959</td>\n",
       "      <td>106</td>\n",
       "      <td>-0.325100</td>\n",
       "      <td>-0.465588</td>\n",
       "      <td>0.972973</td>\n",
       "      <td>0.096497</td>\n",
       "    </tr>\n",
       "    <tr>\n",
       "      <th>...</th>\n",
       "      <td>...</td>\n",
       "      <td>...</td>\n",
       "      <td>...</td>\n",
       "      <td>...</td>\n",
       "      <td>...</td>\n",
       "      <td>...</td>\n",
       "      <td>...</td>\n",
       "      <td>...</td>\n",
       "      <td>...</td>\n",
       "      <td>...</td>\n",
       "      <td>...</td>\n",
       "      <td>...</td>\n",
       "      <td>...</td>\n",
       "      <td>...</td>\n",
       "      <td>...</td>\n",
       "      <td>...</td>\n",
       "      <td>...</td>\n",
       "      <td>...</td>\n",
       "      <td>...</td>\n",
       "      <td>...</td>\n",
       "      <td>...</td>\n",
       "    </tr>\n",
       "    <tr>\n",
       "      <th>395</th>\n",
       "      <td>SK Ludwigshafen</td>\n",
       "      <td>2019</td>\n",
       "      <td>1.383743</td>\n",
       "      <td>-0.763575</td>\n",
       "      <td>0.162964</td>\n",
       "      <td>-1.179986</td>\n",
       "      <td>-0.841235</td>\n",
       "      <td>-0.196633</td>\n",
       "      <td>6.534858</td>\n",
       "      <td>9.251140</td>\n",
       "      <td>...</td>\n",
       "      <td>Rheinland-Pfalz</td>\n",
       "      <td>172557</td>\n",
       "      <td>7.781020e+07</td>\n",
       "      <td>2.465243</td>\n",
       "      <td>13954</td>\n",
       "      <td>344</td>\n",
       "      <td>0.960395</td>\n",
       "      <td>1.332000</td>\n",
       "      <td>0.405405</td>\n",
       "      <td>3.727207</td>\n",
       "    </tr>\n",
       "    <tr>\n",
       "      <th>396</th>\n",
       "      <td>LK Vorpommern-Greifswald</td>\n",
       "      <td>2019</td>\n",
       "      <td>-3.090594</td>\n",
       "      <td>-0.763575</td>\n",
       "      <td>-2.246812</td>\n",
       "      <td>0.586518</td>\n",
       "      <td>-0.841235</td>\n",
       "      <td>-0.569132</td>\n",
       "      <td>-2.884293</td>\n",
       "      <td>-2.364550</td>\n",
       "      <td>...</td>\n",
       "      <td>Mecklenburg-Vorpommern</td>\n",
       "      <td>235773</td>\n",
       "      <td>3.800116e+09</td>\n",
       "      <td>2.437623</td>\n",
       "      <td>12184</td>\n",
       "      <td>297</td>\n",
       "      <td>-0.305628</td>\n",
       "      <td>0.244682</td>\n",
       "      <td>0.054054</td>\n",
       "      <td>-0.257283</td>\n",
       "    </tr>\n",
       "    <tr>\n",
       "      <th>397</th>\n",
       "      <td>SK Neumünster</td>\n",
       "      <td>2019</td>\n",
       "      <td>-0.184678</td>\n",
       "      <td>0.153820</td>\n",
       "      <td>-0.127614</td>\n",
       "      <td>0.052874</td>\n",
       "      <td>0.158378</td>\n",
       "      <td>-0.091953</td>\n",
       "      <td>0.004897</td>\n",
       "      <td>0.003640</td>\n",
       "      <td>...</td>\n",
       "      <td>Schleswig-Holstein</td>\n",
       "      <td>79905</td>\n",
       "      <td>7.140224e+07</td>\n",
       "      <td>0.889996</td>\n",
       "      <td>2809</td>\n",
       "      <td>25</td>\n",
       "      <td>-1.022262</td>\n",
       "      <td>-1.158162</td>\n",
       "      <td>1.675676</td>\n",
       "      <td>1.696567</td>\n",
       "    </tr>\n",
       "    <tr>\n",
       "      <th>398</th>\n",
       "      <td>LK Uckermark</td>\n",
       "      <td>2019</td>\n",
       "      <td>-0.227153</td>\n",
       "      <td>0.140679</td>\n",
       "      <td>-0.265927</td>\n",
       "      <td>0.252246</td>\n",
       "      <td>0.289036</td>\n",
       "      <td>0.054976</td>\n",
       "      <td>0.041093</td>\n",
       "      <td>0.084924</td>\n",
       "      <td>...</td>\n",
       "      <td>Brandenburg</td>\n",
       "      <td>118250</td>\n",
       "      <td>3.081478e+09</td>\n",
       "      <td>3.458038</td>\n",
       "      <td>4945</td>\n",
       "      <td>171</td>\n",
       "      <td>-0.733227</td>\n",
       "      <td>0.520865</td>\n",
       "      <td>-1.243243</td>\n",
       "      <td>-0.301034</td>\n",
       "    </tr>\n",
       "    <tr>\n",
       "      <th>399</th>\n",
       "      <td>LK Aichach-Friedberg</td>\n",
       "      <td>2019</td>\n",
       "      <td>0.200655</td>\n",
       "      <td>0.273027</td>\n",
       "      <td>0.162986</td>\n",
       "      <td>-0.053881</td>\n",
       "      <td>0.088416</td>\n",
       "      <td>-0.170627</td>\n",
       "      <td>-0.014484</td>\n",
       "      <td>-0.039884</td>\n",
       "      <td>...</td>\n",
       "      <td>Bayern</td>\n",
       "      <td>135024</td>\n",
       "      <td>7.796361e+08</td>\n",
       "      <td>1.421619</td>\n",
       "      <td>7808</td>\n",
       "      <td>111</td>\n",
       "      <td>-0.038887</td>\n",
       "      <td>-0.403701</td>\n",
       "      <td>0.000000</td>\n",
       "      <td>-0.051841</td>\n",
       "    </tr>\n",
       "  </tbody>\n",
       "</table>\n",
       "<p>400 rows × 23 columns</p>\n",
       "</div>"
      ],
      "text/plain": [
       "                       county  year  NO2_annualMean  NO2_hrOver200  \\\n",
       "0         StädteRegion Aachen  2019       -2.203068      -0.763575   \n",
       "1                 LK Diepholz  2019       -0.052210       0.194800   \n",
       "2                 LK Coesfeld  2019        0.349943       0.319211   \n",
       "3                   LK Passau  2019        0.028195       0.219674   \n",
       "4                    LK Peine  2019        0.026144       0.219040   \n",
       "..                        ...   ...             ...            ...   \n",
       "395           SK Ludwigshafen  2019        1.383743      -0.763575   \n",
       "396  LK Vorpommern-Greifswald  2019       -3.090594      -0.763575   \n",
       "397             SK Neumünster  2019       -0.184678       0.153820   \n",
       "398              LK Uckermark  2019       -0.227153       0.140679   \n",
       "399      LK Aichach-Friedberg  2019        0.200655       0.273027   \n",
       "\n",
       "     NO_annualMean  O3_annualMean  O3_daysOver120  O3_dailyMaxAnnualMean  \\\n",
       "0        -2.300578       2.120480        3.007296               1.298675   \n",
       "1        -0.089904       0.047668        0.154966              -0.095789   \n",
       "2         0.290399      -0.159157        0.019424              -0.248210   \n",
       "3        -0.040813      -0.202963       -0.009285              -0.280493   \n",
       "4        -0.053546       0.233382        0.276674               0.041074   \n",
       "..             ...            ...             ...                    ...   \n",
       "395       0.162964      -1.179986       -0.841235              -0.196633   \n",
       "396      -2.246812       0.586518       -0.841235              -0.569132   \n",
       "397      -0.127614       0.052874        0.158378              -0.091953   \n",
       "398      -0.265927       0.252246        0.289036               0.054976   \n",
       "399       0.162986      -0.053881        0.088416              -0.170627   \n",
       "\n",
       "     O3_dailyHourlyMax  O3_daily8HrMax  ...                      BL     EWZ  \\\n",
       "0             8.818734        2.813240  ...     Nordrhein-Westfalen  556631   \n",
       "1             0.003952        0.001518  ...           Niedersachsen  218072   \n",
       "2            -0.033597       -0.082804  ...     Nordrhein-Westfalen  220712   \n",
       "3            -0.041550       -0.100664  ...                  Bayern  193454   \n",
       "4             0.037669        0.077233  ...           Niedersachsen  135844   \n",
       "..                 ...             ...  ...                     ...     ...   \n",
       "395           6.534858        9.251140  ...         Rheinland-Pfalz  172557   \n",
       "396          -2.884293       -2.364550  ...  Mecklenburg-Vorpommern  235773   \n",
       "397           0.004897        0.003640  ...      Schleswig-Holstein   79905   \n",
       "398           0.041093        0.084924  ...             Brandenburg  118250   \n",
       "399          -0.014484       -0.039884  ...                  Bayern  135024   \n",
       "\n",
       "      Shape__Area death_rate  cases  deaths  cases_per_100k  deaths_per_100k  \\\n",
       "0    7.046180e+08   1.834700  33902     622        0.094656         0.033919   \n",
       "1    1.989167e+09   1.279707   8752     112       -0.806295        -0.860765   \n",
       "2    1.111795e+09   1.450909   7099     103       -1.151954        -0.930285   \n",
       "3    1.532712e+09   2.123258  18368     390        1.571156         1.365247   \n",
       "4    5.360006e+08   1.523207   6959     106       -0.325100        -0.465588   \n",
       "..            ...        ...    ...     ...             ...              ...   \n",
       "395  7.781020e+07   2.465243  13954     344        0.960395         1.332000   \n",
       "396  3.800116e+09   2.437623  12184     297       -0.305628         0.244682   \n",
       "397  7.140224e+07   0.889996   2809      25       -1.022262        -1.158162   \n",
       "398  3.081478e+09   3.458038   4945     171       -0.733227         0.520865   \n",
       "399  7.796361e+08   1.421619   7808     111       -0.038887        -0.403701   \n",
       "\n",
       "     Fully_vaccinated  Population_density  \n",
       "0            1.405405            1.088239  \n",
       "1            0.972973           -0.169324  \n",
       "2            1.405405           -0.005020  \n",
       "3            0.000000           -0.138664  \n",
       "4            0.972973            0.096497  \n",
       "..                ...                 ...  \n",
       "395          0.405405            3.727207  \n",
       "396          0.054054           -0.257283  \n",
       "397          1.675676            1.696567  \n",
       "398         -1.243243           -0.301034  \n",
       "399          0.000000           -0.051841  \n",
       "\n",
       "[400 rows x 23 columns]"
      ]
     },
     "execution_count": 7,
     "metadata": {},
     "output_type": "execute_result"
    }
   ],
   "source": [
    "df_covid_AP_2019"
   ]
  },
  {
   "cell_type": "markdown",
   "id": "55a9c40b",
   "metadata": {
    "heading_collapsed": true
   },
   "source": [
    "# Analyze distribution of features and targets"
   ]
  },
  {
   "cell_type": "code",
   "execution_count": 8,
   "id": "9f16d7e7",
   "metadata": {
    "hidden": true
   },
   "outputs": [],
   "source": [
    "# keep useful features only\n",
    "df_covid_AP_2019 = df_covid_AP_2019[['county', 'NO2_annualMean', 'NO2_hrOver200', 'NO_annualMean',\n",
    "       'O3_annualMean', 'O3_daysOver120', 'O3_dailyMaxAnnualMean',\n",
    "       'O3_dailyHourlyMax', 'O3_daily8HrMax', 'PM10_annualMean',\n",
    "       'PM10_daysOver50', 'PM2_5_annualMean', 'Fully_vaccinated', 'Population_density', 'cases_per_100k', 'deaths_per_100k'\n",
    "       ]]"
   ]
  },
  {
   "cell_type": "code",
   "execution_count": 9,
   "id": "2c258597",
   "metadata": {
    "hidden": true
   },
   "outputs": [],
   "source": [
    "#numerical features\n",
    "feature_list = ['NO2_annualMean', 'NO2_hrOver200', 'NO_annualMean',\n",
    "       'O3_annualMean', 'O3_daysOver120', 'O3_dailyMaxAnnualMean',\n",
    "       'O3_dailyHourlyMax', 'O3_daily8HrMax', 'PM10_annualMean',\n",
    "       'PM10_daysOver50', 'PM2_5_annualMean', 'Fully_vaccinated', 'Population_density']"
   ]
  },
  {
   "cell_type": "code",
   "execution_count": 10,
   "id": "45dbf33d",
   "metadata": {
    "hidden": true
   },
   "outputs": [],
   "source": [
    "target_list = ['cases_per_100k', 'deaths_per_100k']"
   ]
  },
  {
   "cell_type": "code",
   "execution_count": 11,
   "id": "8573725d",
   "metadata": {
    "hidden": true,
    "scrolled": true
   },
   "outputs": [
    {
     "data": {
      "image/png": "[encoded data removed]",
      "text/plain": [
       "<Figure size 1080x1440 with 13 Axes>"
      ]
     },
     "metadata": {
      "needs_background": "light"
     },
     "output_type": "display_data"
    }
   ],
   "source": [
    "#check distribution of numerical features \n",
    "\n",
    "import matplotlib.pyplot as plt\n",
    "import seaborn as sns\n",
    "\n",
    "plt.figure(figsize=(15,20))\n",
    "\n",
    "for i, feature in enumerate(feature_list):\n",
    "    # First subplot\n",
    "    plt.subplot(5,3,i+1)\n",
    "    sns.histplot(df_covid_AP_2019[feature])\n",
    "    # Global figure methods\n",
    "plt.suptitle('Feature distributions')\n",
    "plt.show()"
   ]
  },
  {
   "cell_type": "code",
   "execution_count": 12,
   "id": "73d91dc1",
   "metadata": {
    "hidden": true
   },
   "outputs": [
    {
     "data": {
      "image/png": "[encoded data removed]",
      "text/plain": [
       "<Figure size 1080x288 with 2 Axes>"
      ]
     },
     "metadata": {
      "needs_background": "light"
     },
     "output_type": "display_data"
    }
   ],
   "source": [
    "#check distribution of targets\n",
    "\n",
    "import matplotlib.pyplot as plt\n",
    "import seaborn as sns\n",
    "\n",
    "plt.figure(figsize=(15,4))\n",
    "\n",
    "for i, feature in enumerate(target_list):\n",
    "    # First subplot\n",
    "    plt.subplot(1,2,i+1)\n",
    "    sns.histplot(df_covid_AP_2019[feature])\n",
    "    # Global figure methods\n",
    "plt.suptitle('Feature distributions')\n",
    "plt.show()"
   ]
  },
  {
   "cell_type": "markdown",
   "id": "07a47d63",
   "metadata": {
    "heading_collapsed": true
   },
   "source": [
    "# Visual analysis of feature-target correlation"
   ]
  },
  {
   "cell_type": "markdown",
   "id": "fb8b8b74",
   "metadata": {
    "heading_collapsed": true,
    "hidden": true
   },
   "source": [
    "## Target: deaths per 100k"
   ]
  },
  {
   "cell_type": "code",
   "execution_count": 13,
   "id": "c54ae0b9",
   "metadata": {
    "hidden": true,
    "scrolled": true
   },
   "outputs": [
    {
     "data": {
      "image/png": "[encoded data removed]",
      "text/plain": [
       "<Figure size 1080x1440 with 13 Axes>"
      ]
     },
     "metadata": {
      "needs_background": "light"
     },
     "output_type": "display_data"
    }
   ],
   "source": [
    "# First subplot\n",
    "plt.figure(figsize=(15,20))\n",
    "\n",
    "for i, feature in enumerate(feature_list):\n",
    "    # First subplot\n",
    "    plt.subplot(5,3,i+1)\n",
    "    plt.scatter(df_covid_AP_2019[feature], df_covid_AP_2019['deaths_per_100k'])\n",
    "    plt.xlabel(feature)\n",
    "    plt.ylabel(\"deaths per 100K\")\n",
    "    # Global figure methods\n",
    "plt.show()"
   ]
  },
  {
   "cell_type": "markdown",
   "id": "7f201091",
   "metadata": {
    "hidden": true
   },
   "source": [
    "## Target: cases per 100k"
   ]
  },
  {
   "cell_type": "code",
   "execution_count": 14,
   "id": "d7faf66d",
   "metadata": {
    "hidden": true,
    "scrolled": true
   },
   "outputs": [
    {
     "data": {
      "image/png": "[encoded data removed]",
      "text/plain": [
       "<Figure size 1080x1440 with 13 Axes>"
      ]
     },
     "metadata": {
      "needs_background": "light"
     },
     "output_type": "display_data"
    }
   ],
   "source": [
    "# First subplot\n",
    "plt.figure(figsize=(15,20))\n",
    "\n",
    "for i, feature in enumerate(feature_list):\n",
    "    # First subplot\n",
    "    plt.subplot(5,3,i+1)\n",
    "    plt.scatter(df_covid_AP_2019[feature], df_covid_AP_2019['cases_per_100k'])\n",
    "    plt.xlabel(feature)\n",
    "    plt.ylabel(\"cases per 100K\")\n",
    "    # Global figure methods\n",
    "plt.show()"
   ]
  },
  {
   "cell_type": "markdown",
   "id": "e77be932",
   "metadata": {
    "hidden": true
   },
   "source": [
    "## Correlation plot"
   ]
  },
  {
   "cell_type": "code",
   "execution_count": 15,
   "id": "6af2b1e8",
   "metadata": {
    "hidden": true
   },
   "outputs": [
    {
     "data": {
      "text/plain": [
       "<AxesSubplot:>"
      ]
     },
     "execution_count": 15,
     "metadata": {},
     "output_type": "execute_result"
    },
    {
     "data": {
      "image/png": "[encoded data removed]",
      "text/plain": [
       "<Figure size 720x720 with 2 Axes>"
      ]
     },
     "metadata": {
      "needs_background": "light"
     },
     "output_type": "display_data"
    }
   ],
   "source": [
    "import seaborn as sns\n",
    "plt.figure(figsize = (10,10))\n",
    "\n",
    "sns.heatmap(df_covid_AP_2019.corr(), \n",
    "            cmap='coolwarm', \n",
    "            annot = True, \n",
    "            annot_kws={\"size\": 10})"
   ]
  },
  {
   "cell_type": "markdown",
   "id": "49abb620",
   "metadata": {},
   "source": [
    "# OLS: deaths per 100k"
   ]
  },
  {
   "cell_type": "markdown",
   "id": "134f51c6",
   "metadata": {
    "heading_collapsed": true
   },
   "source": [
    "## Univariate linear regression"
   ]
  },
  {
   "cell_type": "code",
   "execution_count": 16,
   "id": "f769eccd",
   "metadata": {
    "hidden": true
   },
   "outputs": [],
   "source": [
    "import statsmodels.formula.api as smf"
   ]
  },
  {
   "cell_type": "markdown",
   "id": "b2da6de5",
   "metadata": {
    "hidden": true
   },
   "source": [
    "### Vaccination status"
   ]
  },
  {
   "cell_type": "code",
   "execution_count": 17,
   "id": "475c16e0",
   "metadata": {
    "hidden": true,
    "scrolled": false
   },
   "outputs": [
    {
     "data": {
      "text/html": [
       "<table class=\"simpletable\">\n",
       "<caption>OLS Regression Results</caption>\n",
       "<tr>\n",
       "  <th>Dep. Variable:</th>     <td>deaths_per_100k</td> <th>  R-squared:         </th> <td>   0.333</td>\n",
       "</tr>\n",
       "<tr>\n",
       "  <th>Model:</th>                   <td>OLS</td>       <th>  Adj. R-squared:    </th> <td>   0.331</td>\n",
       "</tr>\n",
       "<tr>\n",
       "  <th>Method:</th>             <td>Least Squares</td>  <th>  F-statistic:       </th> <td>   198.8</td>\n",
       "</tr>\n",
       "<tr>\n",
       "  <th>Date:</th>             <td>Fri, 26 Nov 2021</td> <th>  Prob (F-statistic):</th> <td>6.67e-37</td>\n",
       "</tr>\n",
       "<tr>\n",
       "  <th>Time:</th>                 <td>11:12:29</td>     <th>  Log-Likelihood:    </th> <td> -487.24</td>\n",
       "</tr>\n",
       "<tr>\n",
       "  <th>No. Observations:</th>      <td>   400</td>      <th>  AIC:               </th> <td>   978.5</td>\n",
       "</tr>\n",
       "<tr>\n",
       "  <th>Df Residuals:</th>          <td>   398</td>      <th>  BIC:               </th> <td>   986.5</td>\n",
       "</tr>\n",
       "<tr>\n",
       "  <th>Df Model:</th>              <td>     1</td>      <th>                     </th>     <td> </td>   \n",
       "</tr>\n",
       "<tr>\n",
       "  <th>Covariance Type:</th>      <td>nonrobust</td>    <th>                     </th>     <td> </td>   \n",
       "</tr>\n",
       "</table>\n",
       "<table class=\"simpletable\">\n",
       "<tr>\n",
       "          <td></td>            <th>coef</th>     <th>std err</th>      <th>t</th>      <th>P>|t|</th>  <th>[0.025</th>    <th>0.975]</th>  \n",
       "</tr>\n",
       "<tr>\n",
       "  <th>Intercept</th>        <td>    0.3971</td> <td>    0.042</td> <td>    9.345</td> <td> 0.000</td> <td>    0.314</td> <td>    0.481</td>\n",
       "</tr>\n",
       "<tr>\n",
       "  <th>Fully_vaccinated</th> <td>   -0.6099</td> <td>    0.043</td> <td>  -14.100</td> <td> 0.000</td> <td>   -0.695</td> <td>   -0.525</td>\n",
       "</tr>\n",
       "</table>\n",
       "<table class=\"simpletable\">\n",
       "<tr>\n",
       "  <th>Omnibus:</th>       <td>93.260</td> <th>  Durbin-Watson:     </th> <td>   1.958</td>\n",
       "</tr>\n",
       "<tr>\n",
       "  <th>Prob(Omnibus):</th> <td> 0.000</td> <th>  Jarque-Bera (JB):  </th> <td> 207.962</td>\n",
       "</tr>\n",
       "<tr>\n",
       "  <th>Skew:</th>          <td> 1.190</td> <th>  Prob(JB):          </th> <td>6.94e-46</td>\n",
       "</tr>\n",
       "<tr>\n",
       "  <th>Kurtosis:</th>      <td> 5.611</td> <th>  Cond. No.          </th> <td>    1.31</td>\n",
       "</tr>\n",
       "</table><br/><br/>Notes:<br/>[1] Standard Errors assume that the covariance matrix of the errors is correctly specified."
      ],
      "text/plain": [
       "<class 'statsmodels.iolib.summary.Summary'>\n",
       "\"\"\"\n",
       "                            OLS Regression Results                            \n",
       "==============================================================================\n",
       "Dep. Variable:        deaths_per_100k   R-squared:                       0.333\n",
       "Model:                            OLS   Adj. R-squared:                  0.331\n",
       "Method:                 Least Squares   F-statistic:                     198.8\n",
       "Date:                Fri, 26 Nov 2021   Prob (F-statistic):           6.67e-37\n",
       "Time:                        11:12:29   Log-Likelihood:                -487.24\n",
       "No. Observations:                 400   AIC:                             978.5\n",
       "Df Residuals:                     398   BIC:                             986.5\n",
       "Df Model:                           1                                         \n",
       "Covariance Type:            nonrobust                                         \n",
       "====================================================================================\n",
       "                       coef    std err          t      P>|t|      [0.025      0.975]\n",
       "------------------------------------------------------------------------------------\n",
       "Intercept            0.3971      0.042      9.345      0.000       0.314       0.481\n",
       "Fully_vaccinated    -0.6099      0.043    -14.100      0.000      -0.695      -0.525\n",
       "==============================================================================\n",
       "Omnibus:                       93.260   Durbin-Watson:                   1.958\n",
       "Prob(Omnibus):                  0.000   Jarque-Bera (JB):              207.962\n",
       "Skew:                           1.190   Prob(JB):                     6.94e-46\n",
       "Kurtosis:                       5.611   Cond. No.                         1.31\n",
       "==============================================================================\n",
       "\n",
       "Notes:\n",
       "[1] Standard Errors assume that the covariance matrix of the errors is correctly specified.\n",
       "\"\"\""
      ]
     },
     "execution_count": 17,
     "metadata": {},
     "output_type": "execute_result"
    }
   ],
   "source": [
    "model = smf.ols(formula = 'deaths_per_100k ~ Fully_vaccinated', data = df_covid_AP_2019).fit()\n",
    "model.summary()"
   ]
  },
  {
   "cell_type": "code",
   "execution_count": 18,
   "id": "8fa32bc3",
   "metadata": {
    "hidden": true
   },
   "outputs": [
    {
     "data": {
      "text/plain": [
       "0.8180470229308339"
      ]
     },
     "execution_count": 18,
     "metadata": {},
     "output_type": "execute_result"
    }
   ],
   "source": [
    "import numpy as np\n",
    "RMSE = np.sqrt((model.resid**2).mean())\n",
    "RMSE"
   ]
  },
  {
   "cell_type": "markdown",
   "id": "42f6f69d",
   "metadata": {
    "hidden": true
   },
   "source": [
    "### Population density"
   ]
  },
  {
   "cell_type": "code",
   "execution_count": 19,
   "id": "aa96bf1f",
   "metadata": {
    "hidden": true,
    "scrolled": false
   },
   "outputs": [
    {
     "data": {
      "text/html": [
       "<table class=\"simpletable\">\n",
       "<caption>OLS Regression Results</caption>\n",
       "<tr>\n",
       "  <th>Dep. Variable:</th>     <td>deaths_per_100k</td> <th>  R-squared:         </th> <td>   0.005</td>\n",
       "</tr>\n",
       "<tr>\n",
       "  <th>Model:</th>                   <td>OLS</td>       <th>  Adj. R-squared:    </th> <td>   0.003</td>\n",
       "</tr>\n",
       "<tr>\n",
       "  <th>Method:</th>             <td>Least Squares</td>  <th>  F-statistic:       </th> <td>   2.166</td>\n",
       "</tr>\n",
       "<tr>\n",
       "  <th>Date:</th>             <td>Fri, 26 Nov 2021</td> <th>  Prob (F-statistic):</th>  <td> 0.142</td> \n",
       "</tr>\n",
       "<tr>\n",
       "  <th>Time:</th>                 <td>11:12:29</td>     <th>  Log-Likelihood:    </th> <td> -567.18</td>\n",
       "</tr>\n",
       "<tr>\n",
       "  <th>No. Observations:</th>      <td>   400</td>      <th>  AIC:               </th> <td>   1138.</td>\n",
       "</tr>\n",
       "<tr>\n",
       "  <th>Df Residuals:</th>          <td>   398</td>      <th>  BIC:               </th> <td>   1146.</td>\n",
       "</tr>\n",
       "<tr>\n",
       "  <th>Df Model:</th>              <td>     1</td>      <th>                     </th>     <td> </td>   \n",
       "</tr>\n",
       "<tr>\n",
       "  <th>Covariance Type:</th>      <td>nonrobust</td>    <th>                     </th>     <td> </td>   \n",
       "</tr>\n",
       "</table>\n",
       "<table class=\"simpletable\">\n",
       "<tr>\n",
       "           <td></td>             <th>coef</th>     <th>std err</th>      <th>t</th>      <th>P>|t|</th>  <th>[0.025</th>    <th>0.975]</th>  \n",
       "</tr>\n",
       "<tr>\n",
       "  <th>Intercept</th>          <td>    0.2752</td> <td>    0.055</td> <td>    4.961</td> <td> 0.000</td> <td>    0.166</td> <td>    0.384</td>\n",
       "</tr>\n",
       "<tr>\n",
       "  <th>Population_density</th> <td>   -0.0580</td> <td>    0.039</td> <td>   -1.472</td> <td> 0.142</td> <td>   -0.135</td> <td>    0.019</td>\n",
       "</tr>\n",
       "</table>\n",
       "<table class=\"simpletable\">\n",
       "<tr>\n",
       "  <th>Omnibus:</th>       <td>147.676</td> <th>  Durbin-Watson:     </th> <td>   2.097</td> \n",
       "</tr>\n",
       "<tr>\n",
       "  <th>Prob(Omnibus):</th> <td> 0.000</td>  <th>  Jarque-Bera (JB):  </th> <td> 483.709</td> \n",
       "</tr>\n",
       "<tr>\n",
       "  <th>Skew:</th>          <td> 1.697</td>  <th>  Prob(JB):          </th> <td>9.20e-106</td>\n",
       "</tr>\n",
       "<tr>\n",
       "  <th>Kurtosis:</th>      <td> 7.183</td>  <th>  Cond. No.          </th> <td>    1.79</td> \n",
       "</tr>\n",
       "</table><br/><br/>Notes:<br/>[1] Standard Errors assume that the covariance matrix of the errors is correctly specified."
      ],
      "text/plain": [
       "<class 'statsmodels.iolib.summary.Summary'>\n",
       "\"\"\"\n",
       "                            OLS Regression Results                            \n",
       "==============================================================================\n",
       "Dep. Variable:        deaths_per_100k   R-squared:                       0.005\n",
       "Model:                            OLS   Adj. R-squared:                  0.003\n",
       "Method:                 Least Squares   F-statistic:                     2.166\n",
       "Date:                Fri, 26 Nov 2021   Prob (F-statistic):              0.142\n",
       "Time:                        11:12:29   Log-Likelihood:                -567.18\n",
       "No. Observations:                 400   AIC:                             1138.\n",
       "Df Residuals:                     398   BIC:                             1146.\n",
       "Df Model:                           1                                         \n",
       "Covariance Type:            nonrobust                                         \n",
       "======================================================================================\n",
       "                         coef    std err          t      P>|t|      [0.025      0.975]\n",
       "--------------------------------------------------------------------------------------\n",
       "Intercept              0.2752      0.055      4.961      0.000       0.166       0.384\n",
       "Population_density    -0.0580      0.039     -1.472      0.142      -0.135       0.019\n",
       "==============================================================================\n",
       "Omnibus:                      147.676   Durbin-Watson:                   2.097\n",
       "Prob(Omnibus):                  0.000   Jarque-Bera (JB):              483.709\n",
       "Skew:                           1.697   Prob(JB):                    9.20e-106\n",
       "Kurtosis:                       7.183   Cond. No.                         1.79\n",
       "==============================================================================\n",
       "\n",
       "Notes:\n",
       "[1] Standard Errors assume that the covariance matrix of the errors is correctly specified.\n",
       "\"\"\""
      ]
     },
     "execution_count": 19,
     "metadata": {},
     "output_type": "execute_result"
    }
   ],
   "source": [
    "model = smf.ols(formula = 'deaths_per_100k ~ Population_density', data = df_covid_AP_2019).fit()\n",
    "model.summary()"
   ]
  },
  {
   "cell_type": "code",
   "execution_count": 20,
   "id": "64b84013",
   "metadata": {
    "hidden": true
   },
   "outputs": [
    {
     "data": {
      "text/plain": [
       "0.9990231363697876"
      ]
     },
     "execution_count": 20,
     "metadata": {},
     "output_type": "execute_result"
    }
   ],
   "source": [
    "RMSE = np.sqrt((model.resid**2).mean())\n",
    "RMSE"
   ]
  },
  {
   "cell_type": "markdown",
   "id": "a7bfd8ad",
   "metadata": {
    "hidden": true
   },
   "source": [
    "### NO2"
   ]
  },
  {
   "cell_type": "code",
   "execution_count": 21,
   "id": "69d8f0fa",
   "metadata": {
    "hidden": true,
    "scrolled": false
   },
   "outputs": [
    {
     "data": {
      "text/html": [
       "<table class=\"simpletable\">\n",
       "<caption>OLS Regression Results</caption>\n",
       "<tr>\n",
       "  <th>Dep. Variable:</th>     <td>deaths_per_100k</td> <th>  R-squared:         </th> <td>   0.004</td>\n",
       "</tr>\n",
       "<tr>\n",
       "  <th>Model:</th>                   <td>OLS</td>       <th>  Adj. R-squared:    </th> <td>   0.001</td>\n",
       "</tr>\n",
       "<tr>\n",
       "  <th>Method:</th>             <td>Least Squares</td>  <th>  F-statistic:       </th> <td>   1.513</td>\n",
       "</tr>\n",
       "<tr>\n",
       "  <th>Date:</th>             <td>Fri, 26 Nov 2021</td> <th>  Prob (F-statistic):</th>  <td> 0.219</td> \n",
       "</tr>\n",
       "<tr>\n",
       "  <th>Time:</th>                 <td>11:12:29</td>     <th>  Log-Likelihood:    </th> <td> -567.51</td>\n",
       "</tr>\n",
       "<tr>\n",
       "  <th>No. Observations:</th>      <td>   400</td>      <th>  AIC:               </th> <td>   1139.</td>\n",
       "</tr>\n",
       "<tr>\n",
       "  <th>Df Residuals:</th>          <td>   398</td>      <th>  BIC:               </th> <td>   1147.</td>\n",
       "</tr>\n",
       "<tr>\n",
       "  <th>Df Model:</th>              <td>     1</td>      <th>                     </th>     <td> </td>   \n",
       "</tr>\n",
       "<tr>\n",
       "  <th>Covariance Type:</th>      <td>nonrobust</td>    <th>                     </th>     <td> </td>   \n",
       "</tr>\n",
       "</table>\n",
       "<table class=\"simpletable\">\n",
       "<tr>\n",
       "         <td></td>           <th>coef</th>     <th>std err</th>      <th>t</th>      <th>P>|t|</th>  <th>[0.025</th>    <th>0.975]</th>  \n",
       "</tr>\n",
       "<tr>\n",
       "  <th>Intercept</th>      <td>    0.2323</td> <td>    0.051</td> <td>    4.600</td> <td> 0.000</td> <td>    0.133</td> <td>    0.332</td>\n",
       "</tr>\n",
       "<tr>\n",
       "  <th>NO2_annualMean</th> <td>   -0.0467</td> <td>    0.038</td> <td>   -1.230</td> <td> 0.219</td> <td>   -0.121</td> <td>    0.028</td>\n",
       "</tr>\n",
       "</table>\n",
       "<table class=\"simpletable\">\n",
       "<tr>\n",
       "  <th>Omnibus:</th>       <td>146.022</td> <th>  Durbin-Watson:     </th> <td>   2.111</td> \n",
       "</tr>\n",
       "<tr>\n",
       "  <th>Prob(Omnibus):</th> <td> 0.000</td>  <th>  Jarque-Bera (JB):  </th> <td> 474.285</td> \n",
       "</tr>\n",
       "<tr>\n",
       "  <th>Skew:</th>          <td> 1.680</td>  <th>  Prob(JB):          </th> <td>1.02e-103</td>\n",
       "</tr>\n",
       "<tr>\n",
       "  <th>Kurtosis:</th>      <td> 7.143</td>  <th>  Cond. No.          </th> <td>    1.37</td> \n",
       "</tr>\n",
       "</table><br/><br/>Notes:<br/>[1] Standard Errors assume that the covariance matrix of the errors is correctly specified."
      ],
      "text/plain": [
       "<class 'statsmodels.iolib.summary.Summary'>\n",
       "\"\"\"\n",
       "                            OLS Regression Results                            \n",
       "==============================================================================\n",
       "Dep. Variable:        deaths_per_100k   R-squared:                       0.004\n",
       "Model:                            OLS   Adj. R-squared:                  0.001\n",
       "Method:                 Least Squares   F-statistic:                     1.513\n",
       "Date:                Fri, 26 Nov 2021   Prob (F-statistic):              0.219\n",
       "Time:                        11:12:29   Log-Likelihood:                -567.51\n",
       "No. Observations:                 400   AIC:                             1139.\n",
       "Df Residuals:                     398   BIC:                             1147.\n",
       "Df Model:                           1                                         \n",
       "Covariance Type:            nonrobust                                         \n",
       "==================================================================================\n",
       "                     coef    std err          t      P>|t|      [0.025      0.975]\n",
       "----------------------------------------------------------------------------------\n",
       "Intercept          0.2323      0.051      4.600      0.000       0.133       0.332\n",
       "NO2_annualMean    -0.0467      0.038     -1.230      0.219      -0.121       0.028\n",
       "==============================================================================\n",
       "Omnibus:                      146.022   Durbin-Watson:                   2.111\n",
       "Prob(Omnibus):                  0.000   Jarque-Bera (JB):              474.285\n",
       "Skew:                           1.680   Prob(JB):                    1.02e-103\n",
       "Kurtosis:                       7.143   Cond. No.                         1.37\n",
       "==============================================================================\n",
       "\n",
       "Notes:\n",
       "[1] Standard Errors assume that the covariance matrix of the errors is correctly specified.\n",
       "\"\"\""
      ]
     },
     "execution_count": 21,
     "metadata": {},
     "output_type": "execute_result"
    }
   ],
   "source": [
    "model = smf.ols(formula = 'deaths_per_100k ~ NO2_annualMean', data = df_covid_AP_2019).fit()\n",
    "model.summary()"
   ]
  },
  {
   "cell_type": "code",
   "execution_count": 22,
   "id": "f91ef61a",
   "metadata": {
    "hidden": true
   },
   "outputs": [
    {
     "data": {
      "text/plain": [
       "0.9998399120304602"
      ]
     },
     "execution_count": 22,
     "metadata": {},
     "output_type": "execute_result"
    }
   ],
   "source": [
    "RMSE = np.sqrt((model.resid**2).mean())\n",
    "RMSE"
   ]
  },
  {
   "cell_type": "markdown",
   "id": "4a3a81ec",
   "metadata": {
    "hidden": true
   },
   "source": [
    "### NO "
   ]
  },
  {
   "cell_type": "code",
   "execution_count": 23,
   "id": "870ff07f",
   "metadata": {
    "hidden": true,
    "scrolled": false
   },
   "outputs": [
    {
     "data": {
      "text/html": [
       "<table class=\"simpletable\">\n",
       "<caption>OLS Regression Results</caption>\n",
       "<tr>\n",
       "  <th>Dep. Variable:</th>     <td>deaths_per_100k</td> <th>  R-squared:         </th> <td>   0.001</td>\n",
       "</tr>\n",
       "<tr>\n",
       "  <th>Model:</th>                   <td>OLS</td>       <th>  Adj. R-squared:    </th> <td>  -0.002</td>\n",
       "</tr>\n",
       "<tr>\n",
       "  <th>Method:</th>             <td>Least Squares</td>  <th>  F-statistic:       </th> <td>  0.2121</td>\n",
       "</tr>\n",
       "<tr>\n",
       "  <th>Date:</th>             <td>Fri, 26 Nov 2021</td> <th>  Prob (F-statistic):</th>  <td> 0.645</td> \n",
       "</tr>\n",
       "<tr>\n",
       "  <th>Time:</th>                 <td>11:12:29</td>     <th>  Log-Likelihood:    </th> <td> -568.16</td>\n",
       "</tr>\n",
       "<tr>\n",
       "  <th>No. Observations:</th>      <td>   400</td>      <th>  AIC:               </th> <td>   1140.</td>\n",
       "</tr>\n",
       "<tr>\n",
       "  <th>Df Residuals:</th>          <td>   398</td>      <th>  BIC:               </th> <td>   1148.</td>\n",
       "</tr>\n",
       "<tr>\n",
       "  <th>Df Model:</th>              <td>     1</td>      <th>                     </th>     <td> </td>   \n",
       "</tr>\n",
       "<tr>\n",
       "  <th>Covariance Type:</th>      <td>nonrobust</td>    <th>                     </th>     <td> </td>   \n",
       "</tr>\n",
       "</table>\n",
       "<table class=\"simpletable\">\n",
       "<tr>\n",
       "        <td></td>           <th>coef</th>     <th>std err</th>      <th>t</th>      <th>P>|t|</th>  <th>[0.025</th>    <th>0.975]</th>  \n",
       "</tr>\n",
       "<tr>\n",
       "  <th>Intercept</th>     <td>    0.2348</td> <td>    0.051</td> <td>    4.560</td> <td> 0.000</td> <td>    0.134</td> <td>    0.336</td>\n",
       "</tr>\n",
       "<tr>\n",
       "  <th>NO_annualMean</th> <td>   -0.0214</td> <td>    0.046</td> <td>   -0.461</td> <td> 0.645</td> <td>   -0.113</td> <td>    0.070</td>\n",
       "</tr>\n",
       "</table>\n",
       "<table class=\"simpletable\">\n",
       "<tr>\n",
       "  <th>Omnibus:</th>       <td>150.597</td> <th>  Durbin-Watson:     </th> <td>   2.111</td> \n",
       "</tr>\n",
       "<tr>\n",
       "  <th>Prob(Omnibus):</th> <td> 0.000</td>  <th>  Jarque-Bera (JB):  </th> <td> 505.003</td> \n",
       "</tr>\n",
       "<tr>\n",
       "  <th>Skew:</th>          <td> 1.724</td>  <th>  Prob(JB):          </th> <td>2.19e-110</td>\n",
       "</tr>\n",
       "<tr>\n",
       "  <th>Kurtosis:</th>      <td> 7.291</td>  <th>  Cond. No.          </th> <td>    1.28</td> \n",
       "</tr>\n",
       "</table><br/><br/>Notes:<br/>[1] Standard Errors assume that the covariance matrix of the errors is correctly specified."
      ],
      "text/plain": [
       "<class 'statsmodels.iolib.summary.Summary'>\n",
       "\"\"\"\n",
       "                            OLS Regression Results                            \n",
       "==============================================================================\n",
       "Dep. Variable:        deaths_per_100k   R-squared:                       0.001\n",
       "Model:                            OLS   Adj. R-squared:                 -0.002\n",
       "Method:                 Least Squares   F-statistic:                    0.2121\n",
       "Date:                Fri, 26 Nov 2021   Prob (F-statistic):              0.645\n",
       "Time:                        11:12:29   Log-Likelihood:                -568.16\n",
       "No. Observations:                 400   AIC:                             1140.\n",
       "Df Residuals:                     398   BIC:                             1148.\n",
       "Df Model:                           1                                         \n",
       "Covariance Type:            nonrobust                                         \n",
       "=================================================================================\n",
       "                    coef    std err          t      P>|t|      [0.025      0.975]\n",
       "---------------------------------------------------------------------------------\n",
       "Intercept         0.2348      0.051      4.560      0.000       0.134       0.336\n",
       "NO_annualMean    -0.0214      0.046     -0.461      0.645      -0.113       0.070\n",
       "==============================================================================\n",
       "Omnibus:                      150.597   Durbin-Watson:                   2.111\n",
       "Prob(Omnibus):                  0.000   Jarque-Bera (JB):              505.003\n",
       "Skew:                           1.724   Prob(JB):                    2.19e-110\n",
       "Kurtosis:                       7.291   Cond. No.                         1.28\n",
       "==============================================================================\n",
       "\n",
       "Notes:\n",
       "[1] Standard Errors assume that the covariance matrix of the errors is correctly specified.\n",
       "\"\"\""
      ]
     },
     "execution_count": 23,
     "metadata": {},
     "output_type": "execute_result"
    }
   ],
   "source": [
    "model = smf.ols(formula = 'deaths_per_100k ~ NO_annualMean', data = df_covid_AP_2019).fit()\n",
    "model.summary()"
   ]
  },
  {
   "cell_type": "code",
   "execution_count": 24,
   "id": "99980233",
   "metadata": {
    "hidden": true
   },
   "outputs": [
    {
     "data": {
      "text/plain": [
       "1.0014711804123115"
      ]
     },
     "execution_count": 24,
     "metadata": {},
     "output_type": "execute_result"
    }
   ],
   "source": [
    "RMSE = np.sqrt((model.resid**2).mean())\n",
    "RMSE"
   ]
  },
  {
   "cell_type": "markdown",
   "id": "78f63145",
   "metadata": {
    "hidden": true
   },
   "source": [
    "### Ozon"
   ]
  },
  {
   "cell_type": "code",
   "execution_count": 25,
   "id": "ef47b7a5",
   "metadata": {
    "hidden": true,
    "scrolled": false
   },
   "outputs": [
    {
     "data": {
      "text/html": [
       "<table class=\"simpletable\">\n",
       "<caption>OLS Regression Results</caption>\n",
       "<tr>\n",
       "  <th>Dep. Variable:</th>     <td>deaths_per_100k</td> <th>  R-squared:         </th> <td>   0.015</td>\n",
       "</tr>\n",
       "<tr>\n",
       "  <th>Model:</th>                   <td>OLS</td>       <th>  Adj. R-squared:    </th> <td>   0.012</td>\n",
       "</tr>\n",
       "<tr>\n",
       "  <th>Method:</th>             <td>Least Squares</td>  <th>  F-statistic:       </th> <td>   5.893</td>\n",
       "</tr>\n",
       "<tr>\n",
       "  <th>Date:</th>             <td>Fri, 26 Nov 2021</td> <th>  Prob (F-statistic):</th>  <td>0.0156</td> \n",
       "</tr>\n",
       "<tr>\n",
       "  <th>Time:</th>                 <td>11:12:29</td>     <th>  Log-Likelihood:    </th> <td> -565.33</td>\n",
       "</tr>\n",
       "<tr>\n",
       "  <th>No. Observations:</th>      <td>   400</td>      <th>  AIC:               </th> <td>   1135.</td>\n",
       "</tr>\n",
       "<tr>\n",
       "  <th>Df Residuals:</th>          <td>   398</td>      <th>  BIC:               </th> <td>   1143.</td>\n",
       "</tr>\n",
       "<tr>\n",
       "  <th>Df Model:</th>              <td>     1</td>      <th>                     </th>     <td> </td>   \n",
       "</tr>\n",
       "<tr>\n",
       "  <th>Covariance Type:</th>      <td>nonrobust</td>    <th>                     </th>     <td> </td>   \n",
       "</tr>\n",
       "</table>\n",
       "<table class=\"simpletable\">\n",
       "<tr>\n",
       "        <td></td>           <th>coef</th>     <th>std err</th>      <th>t</th>      <th>P>|t|</th>  <th>[0.025</th>    <th>0.975]</th>  \n",
       "</tr>\n",
       "<tr>\n",
       "  <th>Intercept</th>     <td>    0.2188</td> <td>    0.051</td> <td>    4.322</td> <td> 0.000</td> <td>    0.119</td> <td>    0.318</td>\n",
       "</tr>\n",
       "<tr>\n",
       "  <th>O3_annualMean</th> <td>    0.0747</td> <td>    0.031</td> <td>    2.427</td> <td> 0.016</td> <td>    0.014</td> <td>    0.135</td>\n",
       "</tr>\n",
       "</table>\n",
       "<table class=\"simpletable\">\n",
       "<tr>\n",
       "  <th>Omnibus:</th>       <td>141.073</td> <th>  Durbin-Watson:     </th> <td>   2.112</td>\n",
       "</tr>\n",
       "<tr>\n",
       "  <th>Prob(Omnibus):</th> <td> 0.000</td>  <th>  Jarque-Bera (JB):  </th> <td> 447.758</td>\n",
       "</tr>\n",
       "<tr>\n",
       "  <th>Skew:</th>          <td> 1.627</td>  <th>  Prob(JB):          </th> <td>5.90e-98</td>\n",
       "</tr>\n",
       "<tr>\n",
       "  <th>Kurtosis:</th>      <td> 7.034</td>  <th>  Cond. No.          </th> <td>    1.70</td>\n",
       "</tr>\n",
       "</table><br/><br/>Notes:<br/>[1] Standard Errors assume that the covariance matrix of the errors is correctly specified."
      ],
      "text/plain": [
       "<class 'statsmodels.iolib.summary.Summary'>\n",
       "\"\"\"\n",
       "                            OLS Regression Results                            \n",
       "==============================================================================\n",
       "Dep. Variable:        deaths_per_100k   R-squared:                       0.015\n",
       "Model:                            OLS   Adj. R-squared:                  0.012\n",
       "Method:                 Least Squares   F-statistic:                     5.893\n",
       "Date:                Fri, 26 Nov 2021   Prob (F-statistic):             0.0156\n",
       "Time:                        11:12:29   Log-Likelihood:                -565.33\n",
       "No. Observations:                 400   AIC:                             1135.\n",
       "Df Residuals:                     398   BIC:                             1143.\n",
       "Df Model:                           1                                         \n",
       "Covariance Type:            nonrobust                                         \n",
       "=================================================================================\n",
       "                    coef    std err          t      P>|t|      [0.025      0.975]\n",
       "---------------------------------------------------------------------------------\n",
       "Intercept         0.2188      0.051      4.322      0.000       0.119       0.318\n",
       "O3_annualMean     0.0747      0.031      2.427      0.016       0.014       0.135\n",
       "==============================================================================\n",
       "Omnibus:                      141.073   Durbin-Watson:                   2.112\n",
       "Prob(Omnibus):                  0.000   Jarque-Bera (JB):              447.758\n",
       "Skew:                           1.627   Prob(JB):                     5.90e-98\n",
       "Kurtosis:                       7.034   Cond. No.                         1.70\n",
       "==============================================================================\n",
       "\n",
       "Notes:\n",
       "[1] Standard Errors assume that the covariance matrix of the errors is correctly specified.\n",
       "\"\"\""
      ]
     },
     "execution_count": 25,
     "metadata": {},
     "output_type": "execute_result"
    }
   ],
   "source": [
    "model = smf.ols(formula = 'deaths_per_100k ~ O3_annualMean', data = df_covid_AP_2019).fit()\n",
    "model.summary()"
   ]
  },
  {
   "cell_type": "code",
   "execution_count": 26,
   "id": "daf7bbfb",
   "metadata": {
    "hidden": true
   },
   "outputs": [
    {
     "data": {
      "text/plain": [
       "0.9944036748745454"
      ]
     },
     "execution_count": 26,
     "metadata": {},
     "output_type": "execute_result"
    }
   ],
   "source": [
    "RMSE = np.sqrt((model.resid**2).mean())\n",
    "RMSE"
   ]
  },
  {
   "cell_type": "markdown",
   "id": "0134a019",
   "metadata": {
    "hidden": true
   },
   "source": [
    "### PM2.5"
   ]
  },
  {
   "cell_type": "code",
   "execution_count": 27,
   "id": "356c7131",
   "metadata": {
    "hidden": true,
    "scrolled": false
   },
   "outputs": [
    {
     "data": {
      "text/html": [
       "<table class=\"simpletable\">\n",
       "<caption>OLS Regression Results</caption>\n",
       "<tr>\n",
       "  <th>Dep. Variable:</th>     <td>deaths_per_100k</td> <th>  R-squared:         </th> <td>   0.001</td>\n",
       "</tr>\n",
       "<tr>\n",
       "  <th>Model:</th>                   <td>OLS</td>       <th>  Adj. R-squared:    </th> <td>  -0.001</td>\n",
       "</tr>\n",
       "<tr>\n",
       "  <th>Method:</th>             <td>Least Squares</td>  <th>  F-statistic:       </th> <td>  0.5195</td>\n",
       "</tr>\n",
       "<tr>\n",
       "  <th>Date:</th>             <td>Fri, 26 Nov 2021</td> <th>  Prob (F-statistic):</th>  <td> 0.471</td> \n",
       "</tr>\n",
       "<tr>\n",
       "  <th>Time:</th>                 <td>11:12:29</td>     <th>  Log-Likelihood:    </th> <td> -568.01</td>\n",
       "</tr>\n",
       "<tr>\n",
       "  <th>No. Observations:</th>      <td>   400</td>      <th>  AIC:               </th> <td>   1140.</td>\n",
       "</tr>\n",
       "<tr>\n",
       "  <th>Df Residuals:</th>          <td>   398</td>      <th>  BIC:               </th> <td>   1148.</td>\n",
       "</tr>\n",
       "<tr>\n",
       "  <th>Df Model:</th>              <td>     1</td>      <th>                     </th>     <td> </td>   \n",
       "</tr>\n",
       "<tr>\n",
       "  <th>Covariance Type:</th>      <td>nonrobust</td>    <th>                     </th>     <td> </td>   \n",
       "</tr>\n",
       "</table>\n",
       "<table class=\"simpletable\">\n",
       "<tr>\n",
       "          <td></td>            <th>coef</th>     <th>std err</th>      <th>t</th>      <th>P>|t|</th>  <th>[0.025</th>    <th>0.975]</th>  \n",
       "</tr>\n",
       "<tr>\n",
       "  <th>Intercept</th>        <td>    0.2499</td> <td>    0.052</td> <td>    4.806</td> <td> 0.000</td> <td>    0.148</td> <td>    0.352</td>\n",
       "</tr>\n",
       "<tr>\n",
       "  <th>PM2_5_annualMean</th> <td>    0.0171</td> <td>    0.024</td> <td>    0.721</td> <td> 0.471</td> <td>   -0.030</td> <td>    0.064</td>\n",
       "</tr>\n",
       "</table>\n",
       "<table class=\"simpletable\">\n",
       "<tr>\n",
       "  <th>Omnibus:</th>       <td>150.330</td> <th>  Durbin-Watson:     </th> <td>   2.116</td> \n",
       "</tr>\n",
       "<tr>\n",
       "  <th>Prob(Omnibus):</th> <td> 0.000</td>  <th>  Jarque-Bera (JB):  </th> <td> 503.425</td> \n",
       "</tr>\n",
       "<tr>\n",
       "  <th>Skew:</th>          <td> 1.721</td>  <th>  Prob(JB):          </th> <td>4.81e-110</td>\n",
       "</tr>\n",
       "<tr>\n",
       "  <th>Kurtosis:</th>      <td> 7.285</td>  <th>  Cond. No.          </th> <td>    2.31</td> \n",
       "</tr>\n",
       "</table><br/><br/>Notes:<br/>[1] Standard Errors assume that the covariance matrix of the errors is correctly specified."
      ],
      "text/plain": [
       "<class 'statsmodels.iolib.summary.Summary'>\n",
       "\"\"\"\n",
       "                            OLS Regression Results                            \n",
       "==============================================================================\n",
       "Dep. Variable:        deaths_per_100k   R-squared:                       0.001\n",
       "Model:                            OLS   Adj. R-squared:                 -0.001\n",
       "Method:                 Least Squares   F-statistic:                    0.5195\n",
       "Date:                Fri, 26 Nov 2021   Prob (F-statistic):              0.471\n",
       "Time:                        11:12:29   Log-Likelihood:                -568.01\n",
       "No. Observations:                 400   AIC:                             1140.\n",
       "Df Residuals:                     398   BIC:                             1148.\n",
       "Df Model:                           1                                         \n",
       "Covariance Type:            nonrobust                                         \n",
       "====================================================================================\n",
       "                       coef    std err          t      P>|t|      [0.025      0.975]\n",
       "------------------------------------------------------------------------------------\n",
       "Intercept            0.2499      0.052      4.806      0.000       0.148       0.352\n",
       "PM2_5_annualMean     0.0171      0.024      0.721      0.471      -0.030       0.064\n",
       "==============================================================================\n",
       "Omnibus:                      150.330   Durbin-Watson:                   2.116\n",
       "Prob(Omnibus):                  0.000   Jarque-Bera (JB):              503.425\n",
       "Skew:                           1.721   Prob(JB):                    4.81e-110\n",
       "Kurtosis:                       7.285   Cond. No.                         2.31\n",
       "==============================================================================\n",
       "\n",
       "Notes:\n",
       "[1] Standard Errors assume that the covariance matrix of the errors is correctly specified.\n",
       "\"\"\""
      ]
     },
     "execution_count": 27,
     "metadata": {},
     "output_type": "execute_result"
    }
   ],
   "source": [
    "model = smf.ols(formula = 'deaths_per_100k ~ PM2_5_annualMean', data = df_covid_AP_2019).fit()\n",
    "model.summary()"
   ]
  },
  {
   "cell_type": "code",
   "execution_count": 28,
   "id": "e5d01cc4",
   "metadata": {
    "hidden": true
   },
   "outputs": [
    {
     "data": {
      "text/plain": [
       "1.0010848709133817"
      ]
     },
     "execution_count": 28,
     "metadata": {},
     "output_type": "execute_result"
    }
   ],
   "source": [
    "RMSE = np.sqrt((model.resid**2).mean())\n",
    "RMSE"
   ]
  },
  {
   "cell_type": "markdown",
   "id": "a142b5af",
   "metadata": {
    "hidden": true
   },
   "source": [
    "### PM10"
   ]
  },
  {
   "cell_type": "code",
   "execution_count": 29,
   "id": "fb23f2cc",
   "metadata": {
    "hidden": true,
    "scrolled": true
   },
   "outputs": [
    {
     "data": {
      "text/html": [
       "<table class=\"simpletable\">\n",
       "<caption>OLS Regression Results</caption>\n",
       "<tr>\n",
       "  <th>Dep. Variable:</th>     <td>deaths_per_100k</td> <th>  R-squared:         </th> <td>   0.003</td>\n",
       "</tr>\n",
       "<tr>\n",
       "  <th>Model:</th>                   <td>OLS</td>       <th>  Adj. R-squared:    </th> <td>   0.001</td>\n",
       "</tr>\n",
       "<tr>\n",
       "  <th>Method:</th>             <td>Least Squares</td>  <th>  F-statistic:       </th> <td>   1.210</td>\n",
       "</tr>\n",
       "<tr>\n",
       "  <th>Date:</th>             <td>Fri, 26 Nov 2021</td> <th>  Prob (F-statistic):</th>  <td> 0.272</td> \n",
       "</tr>\n",
       "<tr>\n",
       "  <th>Time:</th>                 <td>11:12:29</td>     <th>  Log-Likelihood:    </th> <td> -567.66</td>\n",
       "</tr>\n",
       "<tr>\n",
       "  <th>No. Observations:</th>      <td>   400</td>      <th>  AIC:               </th> <td>   1139.</td>\n",
       "</tr>\n",
       "<tr>\n",
       "  <th>Df Residuals:</th>          <td>   398</td>      <th>  BIC:               </th> <td>   1147.</td>\n",
       "</tr>\n",
       "<tr>\n",
       "  <th>Df Model:</th>              <td>     1</td>      <th>                     </th>     <td> </td>   \n",
       "</tr>\n",
       "<tr>\n",
       "  <th>Covariance Type:</th>      <td>nonrobust</td>    <th>                     </th>     <td> </td>   \n",
       "</tr>\n",
       "</table>\n",
       "<table class=\"simpletable\">\n",
       "<tr>\n",
       "         <td></td>            <th>coef</th>     <th>std err</th>      <th>t</th>      <th>P>|t|</th>  <th>[0.025</th>    <th>0.975]</th>  \n",
       "</tr>\n",
       "<tr>\n",
       "  <th>Intercept</th>       <td>    0.2240</td> <td>    0.052</td> <td>    4.287</td> <td> 0.000</td> <td>    0.121</td> <td>    0.327</td>\n",
       "</tr>\n",
       "<tr>\n",
       "  <th>PM10_annualMean</th> <td>   -0.0564</td> <td>    0.051</td> <td>   -1.100</td> <td> 0.272</td> <td>   -0.157</td> <td>    0.044</td>\n",
       "</tr>\n",
       "</table>\n",
       "<table class=\"simpletable\">\n",
       "<tr>\n",
       "  <th>Omnibus:</th>       <td>152.501</td> <th>  Durbin-Watson:     </th> <td>   2.111</td> \n",
       "</tr>\n",
       "<tr>\n",
       "  <th>Prob(Omnibus):</th> <td> 0.000</td>  <th>  Jarque-Bera (JB):  </th> <td> 525.876</td> \n",
       "</tr>\n",
       "<tr>\n",
       "  <th>Skew:</th>          <td> 1.734</td>  <th>  Prob(JB):          </th> <td>6.42e-115</td>\n",
       "</tr>\n",
       "<tr>\n",
       "  <th>Kurtosis:</th>      <td> 7.418</td>  <th>  Cond. No.          </th> <td>    1.34</td> \n",
       "</tr>\n",
       "</table><br/><br/>Notes:<br/>[1] Standard Errors assume that the covariance matrix of the errors is correctly specified."
      ],
      "text/plain": [
       "<class 'statsmodels.iolib.summary.Summary'>\n",
       "\"\"\"\n",
       "                            OLS Regression Results                            \n",
       "==============================================================================\n",
       "Dep. Variable:        deaths_per_100k   R-squared:                       0.003\n",
       "Model:                            OLS   Adj. R-squared:                  0.001\n",
       "Method:                 Least Squares   F-statistic:                     1.210\n",
       "Date:                Fri, 26 Nov 2021   Prob (F-statistic):              0.272\n",
       "Time:                        11:12:29   Log-Likelihood:                -567.66\n",
       "No. Observations:                 400   AIC:                             1139.\n",
       "Df Residuals:                     398   BIC:                             1147.\n",
       "Df Model:                           1                                         \n",
       "Covariance Type:            nonrobust                                         \n",
       "===================================================================================\n",
       "                      coef    std err          t      P>|t|      [0.025      0.975]\n",
       "-----------------------------------------------------------------------------------\n",
       "Intercept           0.2240      0.052      4.287      0.000       0.121       0.327\n",
       "PM10_annualMean    -0.0564      0.051     -1.100      0.272      -0.157       0.044\n",
       "==============================================================================\n",
       "Omnibus:                      152.501   Durbin-Watson:                   2.111\n",
       "Prob(Omnibus):                  0.000   Jarque-Bera (JB):              525.876\n",
       "Skew:                           1.734   Prob(JB):                    6.42e-115\n",
       "Kurtosis:                       7.418   Cond. No.                         1.34\n",
       "==============================================================================\n",
       "\n",
       "Notes:\n",
       "[1] Standard Errors assume that the covariance matrix of the errors is correctly specified.\n",
       "\"\"\""
      ]
     },
     "execution_count": 29,
     "metadata": {},
     "output_type": "execute_result"
    }
   ],
   "source": [
    "model = smf.ols(formula = 'deaths_per_100k ~ PM10_annualMean', data = df_covid_AP_2019).fit()\n",
    "model.summary()"
   ]
  },
  {
   "cell_type": "code",
   "execution_count": 30,
   "id": "703256e9",
   "metadata": {
    "hidden": true
   },
   "outputs": [
    {
     "data": {
      "text/plain": [
       "1.000219336166327"
      ]
     },
     "execution_count": 30,
     "metadata": {},
     "output_type": "execute_result"
    }
   ],
   "source": [
    "RMSE = np.sqrt((model.resid**2).mean())\n",
    "RMSE"
   ]
  },
  {
   "cell_type": "markdown",
   "id": "1e39d698",
   "metadata": {
    "heading_collapsed": true
   },
   "source": [
    "## Multivariate linear regression"
   ]
  },
  {
   "cell_type": "code",
   "execution_count": 31,
   "id": "0edb4eba",
   "metadata": {
    "hidden": true,
    "scrolled": false
   },
   "outputs": [
    {
     "data": {
      "text/html": [
       "<table class=\"simpletable\">\n",
       "<caption>OLS Regression Results</caption>\n",
       "<tr>\n",
       "  <th>Dep. Variable:</th>     <td>deaths_per_100k</td> <th>  R-squared:         </th> <td>   0.357</td>\n",
       "</tr>\n",
       "<tr>\n",
       "  <th>Model:</th>                   <td>OLS</td>       <th>  Adj. R-squared:    </th> <td>   0.348</td>\n",
       "</tr>\n",
       "<tr>\n",
       "  <th>Method:</th>             <td>Least Squares</td>  <th>  F-statistic:       </th> <td>   36.42</td>\n",
       "</tr>\n",
       "<tr>\n",
       "  <th>Date:</th>             <td>Fri, 26 Nov 2021</td> <th>  Prob (F-statistic):</th> <td>4.73e-35</td>\n",
       "</tr>\n",
       "<tr>\n",
       "  <th>Time:</th>                 <td>11:12:29</td>     <th>  Log-Likelihood:    </th> <td> -479.84</td>\n",
       "</tr>\n",
       "<tr>\n",
       "  <th>No. Observations:</th>      <td>   400</td>      <th>  AIC:               </th> <td>   973.7</td>\n",
       "</tr>\n",
       "<tr>\n",
       "  <th>Df Residuals:</th>          <td>   393</td>      <th>  BIC:               </th> <td>   1002.</td>\n",
       "</tr>\n",
       "<tr>\n",
       "  <th>Df Model:</th>              <td>     6</td>      <th>                     </th>     <td> </td>   \n",
       "</tr>\n",
       "<tr>\n",
       "  <th>Covariance Type:</th>      <td>nonrobust</td>    <th>                     </th>     <td> </td>   \n",
       "</tr>\n",
       "</table>\n",
       "<table class=\"simpletable\">\n",
       "<tr>\n",
       "           <td></td>             <th>coef</th>     <th>std err</th>      <th>t</th>      <th>P>|t|</th>  <th>[0.025</th>    <th>0.975]</th>  \n",
       "</tr>\n",
       "<tr>\n",
       "  <th>Intercept</th>          <td>    0.4059</td> <td>    0.049</td> <td>    8.240</td> <td> 0.000</td> <td>    0.309</td> <td>    0.503</td>\n",
       "</tr>\n",
       "<tr>\n",
       "  <th>NO2_annualMean</th>     <td>    0.0457</td> <td>    0.051</td> <td>    0.899</td> <td> 0.369</td> <td>   -0.054</td> <td>    0.146</td>\n",
       "</tr>\n",
       "<tr>\n",
       "  <th>O3_annualMean</th>      <td>    0.0620</td> <td>    0.036</td> <td>    1.735</td> <td> 0.084</td> <td>   -0.008</td> <td>    0.132</td>\n",
       "</tr>\n",
       "<tr>\n",
       "  <th>PM10_annualMean</th>    <td>    0.0322</td> <td>    0.058</td> <td>    0.553</td> <td> 0.580</td> <td>   -0.082</td> <td>    0.147</td>\n",
       "</tr>\n",
       "<tr>\n",
       "  <th>PM2_5_annualMean</th>   <td>    0.0542</td> <td>    0.022</td> <td>    2.502</td> <td> 0.013</td> <td>    0.012</td> <td>    0.097</td>\n",
       "</tr>\n",
       "<tr>\n",
       "  <th>Fully_vaccinated</th>   <td>   -0.6429</td> <td>    0.045</td> <td>  -14.335</td> <td> 0.000</td> <td>   -0.731</td> <td>   -0.555</td>\n",
       "</tr>\n",
       "<tr>\n",
       "  <th>Population_density</th> <td>    0.0493</td> <td>    0.037</td> <td>    1.339</td> <td> 0.181</td> <td>   -0.023</td> <td>    0.122</td>\n",
       "</tr>\n",
       "</table>\n",
       "<table class=\"simpletable\">\n",
       "<tr>\n",
       "  <th>Omnibus:</th>       <td>89.348</td> <th>  Durbin-Watson:     </th> <td>   1.953</td>\n",
       "</tr>\n",
       "<tr>\n",
       "  <th>Prob(Omnibus):</th> <td> 0.000</td> <th>  Jarque-Bera (JB):  </th> <td> 204.400</td>\n",
       "</tr>\n",
       "<tr>\n",
       "  <th>Skew:</th>          <td> 1.129</td> <th>  Prob(JB):          </th> <td>4.12e-45</td>\n",
       "</tr>\n",
       "<tr>\n",
       "  <th>Kurtosis:</th>      <td> 5.676</td> <th>  Cond. No.          </th> <td>    4.03</td>\n",
       "</tr>\n",
       "</table><br/><br/>Notes:<br/>[1] Standard Errors assume that the covariance matrix of the errors is correctly specified."
      ],
      "text/plain": [
       "<class 'statsmodels.iolib.summary.Summary'>\n",
       "\"\"\"\n",
       "                            OLS Regression Results                            \n",
       "==============================================================================\n",
       "Dep. Variable:        deaths_per_100k   R-squared:                       0.357\n",
       "Model:                            OLS   Adj. R-squared:                  0.348\n",
       "Method:                 Least Squares   F-statistic:                     36.42\n",
       "Date:                Fri, 26 Nov 2021   Prob (F-statistic):           4.73e-35\n",
       "Time:                        11:12:29   Log-Likelihood:                -479.84\n",
       "No. Observations:                 400   AIC:                             973.7\n",
       "Df Residuals:                     393   BIC:                             1002.\n",
       "Df Model:                           6                                         \n",
       "Covariance Type:            nonrobust                                         \n",
       "======================================================================================\n",
       "                         coef    std err          t      P>|t|      [0.025      0.975]\n",
       "--------------------------------------------------------------------------------------\n",
       "Intercept              0.4059      0.049      8.240      0.000       0.309       0.503\n",
       "NO2_annualMean         0.0457      0.051      0.899      0.369      -0.054       0.146\n",
       "O3_annualMean          0.0620      0.036      1.735      0.084      -0.008       0.132\n",
       "PM10_annualMean        0.0322      0.058      0.553      0.580      -0.082       0.147\n",
       "PM2_5_annualMean       0.0542      0.022      2.502      0.013       0.012       0.097\n",
       "Fully_vaccinated      -0.6429      0.045    -14.335      0.000      -0.731      -0.555\n",
       "Population_density     0.0493      0.037      1.339      0.181      -0.023       0.122\n",
       "==============================================================================\n",
       "Omnibus:                       89.348   Durbin-Watson:                   1.953\n",
       "Prob(Omnibus):                  0.000   Jarque-Bera (JB):              204.400\n",
       "Skew:                           1.129   Prob(JB):                     4.12e-45\n",
       "Kurtosis:                       5.676   Cond. No.                         4.03\n",
       "==============================================================================\n",
       "\n",
       "Notes:\n",
       "[1] Standard Errors assume that the covariance matrix of the errors is correctly specified.\n",
       "\"\"\""
      ]
     },
     "execution_count": 31,
     "metadata": {},
     "output_type": "execute_result"
    }
   ],
   "source": [
    "model = smf.ols(formula = 'deaths_per_100k ~ NO2_annualMean + O3_annualMean + PM10_annualMean + PM2_5_annualMean + Fully_vaccinated + Population_density', data = df_covid_AP_2019).fit()\n",
    "model.summary()"
   ]
  },
  {
   "cell_type": "code",
   "execution_count": 32,
   "id": "3d512ded",
   "metadata": {
    "hidden": true
   },
   "outputs": [
    {
     "data": {
      "text/plain": [
       "0.8030557330039754"
      ]
     },
     "execution_count": 32,
     "metadata": {},
     "output_type": "execute_result"
    }
   ],
   "source": [
    "RMSE = np.sqrt((model.resid**2).mean())\n",
    "RMSE"
   ]
  },
  {
   "cell_type": "markdown",
   "id": "b8f962ef",
   "metadata": {
    "heading_collapsed": true
   },
   "source": [
    "# OLS: cases per 100k"
   ]
  },
  {
   "cell_type": "markdown",
   "id": "578bca96",
   "metadata": {
    "heading_collapsed": true,
    "hidden": true
   },
   "source": [
    "## Univariate linear regression"
   ]
  },
  {
   "cell_type": "markdown",
   "id": "123f8012",
   "metadata": {
    "hidden": true
   },
   "source": [
    "### Vaccination status"
   ]
  },
  {
   "cell_type": "code",
   "execution_count": 33,
   "id": "47c9bdcb",
   "metadata": {
    "hidden": true,
    "scrolled": false
   },
   "outputs": [
    {
     "data": {
      "text/html": [
       "<table class=\"simpletable\">\n",
       "<caption>OLS Regression Results</caption>\n",
       "<tr>\n",
       "  <th>Dep. Variable:</th>     <td>cases_per_100k</td>  <th>  R-squared:         </th> <td>   0.241</td>\n",
       "</tr>\n",
       "<tr>\n",
       "  <th>Model:</th>                   <td>OLS</td>       <th>  Adj. R-squared:    </th> <td>   0.239</td>\n",
       "</tr>\n",
       "<tr>\n",
       "  <th>Method:</th>             <td>Least Squares</td>  <th>  F-statistic:       </th> <td>   126.5</td>\n",
       "</tr>\n",
       "<tr>\n",
       "  <th>Date:</th>             <td>Fri, 26 Nov 2021</td> <th>  Prob (F-statistic):</th> <td>1.15e-25</td>\n",
       "</tr>\n",
       "<tr>\n",
       "  <th>Time:</th>                 <td>11:12:29</td>     <th>  Log-Likelihood:    </th> <td> -441.09</td>\n",
       "</tr>\n",
       "<tr>\n",
       "  <th>No. Observations:</th>      <td>   400</td>      <th>  AIC:               </th> <td>   886.2</td>\n",
       "</tr>\n",
       "<tr>\n",
       "  <th>Df Residuals:</th>          <td>   398</td>      <th>  BIC:               </th> <td>   894.2</td>\n",
       "</tr>\n",
       "<tr>\n",
       "  <th>Df Model:</th>              <td>     1</td>      <th>                     </th>     <td> </td>   \n",
       "</tr>\n",
       "<tr>\n",
       "  <th>Covariance Type:</th>      <td>nonrobust</td>    <th>                     </th>     <td> </td>   \n",
       "</tr>\n",
       "</table>\n",
       "<table class=\"simpletable\">\n",
       "<tr>\n",
       "          <td></td>            <th>coef</th>     <th>std err</th>      <th>t</th>      <th>P>|t|</th>  <th>[0.025</th>    <th>0.975]</th>  \n",
       "</tr>\n",
       "<tr>\n",
       "  <th>Intercept</th>        <td>    0.1749</td> <td>    0.038</td> <td>    4.619</td> <td> 0.000</td> <td>    0.100</td> <td>    0.249</td>\n",
       "</tr>\n",
       "<tr>\n",
       "  <th>Fully_vaccinated</th> <td>   -0.4334</td> <td>    0.039</td> <td>  -11.246</td> <td> 0.000</td> <td>   -0.509</td> <td>   -0.358</td>\n",
       "</tr>\n",
       "</table>\n",
       "<table class=\"simpletable\">\n",
       "<tr>\n",
       "  <th>Omnibus:</th>       <td> 9.286</td> <th>  Durbin-Watson:     </th> <td>   1.865</td>\n",
       "</tr>\n",
       "<tr>\n",
       "  <th>Prob(Omnibus):</th> <td> 0.010</td> <th>  Jarque-Bera (JB):  </th> <td>   6.798</td>\n",
       "</tr>\n",
       "<tr>\n",
       "  <th>Skew:</th>          <td> 0.203</td> <th>  Prob(JB):          </th> <td>  0.0334</td>\n",
       "</tr>\n",
       "<tr>\n",
       "  <th>Kurtosis:</th>      <td> 2.507</td> <th>  Cond. No.          </th> <td>    1.31</td>\n",
       "</tr>\n",
       "</table><br/><br/>Notes:<br/>[1] Standard Errors assume that the covariance matrix of the errors is correctly specified."
      ],
      "text/plain": [
       "<class 'statsmodels.iolib.summary.Summary'>\n",
       "\"\"\"\n",
       "                            OLS Regression Results                            \n",
       "==============================================================================\n",
       "Dep. Variable:         cases_per_100k   R-squared:                       0.241\n",
       "Model:                            OLS   Adj. R-squared:                  0.239\n",
       "Method:                 Least Squares   F-statistic:                     126.5\n",
       "Date:                Fri, 26 Nov 2021   Prob (F-statistic):           1.15e-25\n",
       "Time:                        11:12:29   Log-Likelihood:                -441.09\n",
       "No. Observations:                 400   AIC:                             886.2\n",
       "Df Residuals:                     398   BIC:                             894.2\n",
       "Df Model:                           1                                         \n",
       "Covariance Type:            nonrobust                                         \n",
       "====================================================================================\n",
       "                       coef    std err          t      P>|t|      [0.025      0.975]\n",
       "------------------------------------------------------------------------------------\n",
       "Intercept            0.1749      0.038      4.619      0.000       0.100       0.249\n",
       "Fully_vaccinated    -0.4334      0.039    -11.246      0.000      -0.509      -0.358\n",
       "==============================================================================\n",
       "Omnibus:                        9.286   Durbin-Watson:                   1.865\n",
       "Prob(Omnibus):                  0.010   Jarque-Bera (JB):                6.798\n",
       "Skew:                           0.203   Prob(JB):                       0.0334\n",
       "Kurtosis:                       2.507   Cond. No.                         1.31\n",
       "==============================================================================\n",
       "\n",
       "Notes:\n",
       "[1] Standard Errors assume that the covariance matrix of the errors is correctly specified.\n",
       "\"\"\""
      ]
     },
     "execution_count": 33,
     "metadata": {},
     "output_type": "execute_result"
    }
   ],
   "source": [
    "model = smf.ols(formula = 'cases_per_100k ~ Fully_vaccinated', data = df_covid_AP_2019).fit()\n",
    "model.summary()"
   ]
  },
  {
   "cell_type": "code",
   "execution_count": 34,
   "id": "bdb66d2e",
   "metadata": {
    "hidden": true
   },
   "outputs": [
    {
     "data": {
      "text/plain": [
       "0.7289095065444727"
      ]
     },
     "execution_count": 34,
     "metadata": {},
     "output_type": "execute_result"
    }
   ],
   "source": [
    "RMSE = np.sqrt((model.resid**2).mean())\n",
    "RMSE"
   ]
  },
  {
   "cell_type": "markdown",
   "id": "73c6c642",
   "metadata": {
    "hidden": true
   },
   "source": [
    "### Population density"
   ]
  },
  {
   "cell_type": "code",
   "execution_count": 35,
   "id": "b611e7ef",
   "metadata": {
    "hidden": true,
    "scrolled": true
   },
   "outputs": [
    {
     "data": {
      "text/html": [
       "<table class=\"simpletable\">\n",
       "<caption>OLS Regression Results</caption>\n",
       "<tr>\n",
       "  <th>Dep. Variable:</th>     <td>cases_per_100k</td>  <th>  R-squared:         </th> <td>   0.010</td>\n",
       "</tr>\n",
       "<tr>\n",
       "  <th>Model:</th>                   <td>OLS</td>       <th>  Adj. R-squared:    </th> <td>   0.008</td>\n",
       "</tr>\n",
       "<tr>\n",
       "  <th>Method:</th>             <td>Least Squares</td>  <th>  F-statistic:       </th> <td>   4.040</td>\n",
       "</tr>\n",
       "<tr>\n",
       "  <th>Date:</th>             <td>Fri, 26 Nov 2021</td> <th>  Prob (F-statistic):</th>  <td>0.0451</td> \n",
       "</tr>\n",
       "<tr>\n",
       "  <th>Time:</th>                 <td>11:12:29</td>     <th>  Log-Likelihood:    </th> <td> -494.26</td>\n",
       "</tr>\n",
       "<tr>\n",
       "  <th>No. Observations:</th>      <td>   400</td>      <th>  AIC:               </th> <td>   992.5</td>\n",
       "</tr>\n",
       "<tr>\n",
       "  <th>Df Residuals:</th>          <td>   398</td>      <th>  BIC:               </th> <td>   1000.</td>\n",
       "</tr>\n",
       "<tr>\n",
       "  <th>Df Model:</th>              <td>     1</td>      <th>                     </th>     <td> </td>   \n",
       "</tr>\n",
       "<tr>\n",
       "  <th>Covariance Type:</th>      <td>nonrobust</td>    <th>                     </th>     <td> </td>   \n",
       "</tr>\n",
       "</table>\n",
       "<table class=\"simpletable\">\n",
       "<tr>\n",
       "           <td></td>             <th>coef</th>     <th>std err</th>      <th>t</th>      <th>P>|t|</th>  <th>[0.025</th>    <th>0.975]</th>  \n",
       "</tr>\n",
       "<tr>\n",
       "  <th>Intercept</th>          <td>    0.0233</td> <td>    0.046</td> <td>    0.505</td> <td> 0.614</td> <td>   -0.068</td> <td>    0.114</td>\n",
       "</tr>\n",
       "<tr>\n",
       "  <th>Population_density</th> <td>    0.0660</td> <td>    0.033</td> <td>    2.010</td> <td> 0.045</td> <td>    0.001</td> <td>    0.131</td>\n",
       "</tr>\n",
       "</table>\n",
       "<table class=\"simpletable\">\n",
       "<tr>\n",
       "  <th>Omnibus:</th>       <td>19.867</td> <th>  Durbin-Watson:     </th> <td>   1.980</td>\n",
       "</tr>\n",
       "<tr>\n",
       "  <th>Prob(Omnibus):</th> <td> 0.000</td> <th>  Jarque-Bera (JB):  </th> <td>  21.482</td>\n",
       "</tr>\n",
       "<tr>\n",
       "  <th>Skew:</th>          <td> 0.532</td> <th>  Prob(JB):          </th> <td>2.16e-05</td>\n",
       "</tr>\n",
       "<tr>\n",
       "  <th>Kurtosis:</th>      <td> 3.397</td> <th>  Cond. No.          </th> <td>    1.79</td>\n",
       "</tr>\n",
       "</table><br/><br/>Notes:<br/>[1] Standard Errors assume that the covariance matrix of the errors is correctly specified."
      ],
      "text/plain": [
       "<class 'statsmodels.iolib.summary.Summary'>\n",
       "\"\"\"\n",
       "                            OLS Regression Results                            \n",
       "==============================================================================\n",
       "Dep. Variable:         cases_per_100k   R-squared:                       0.010\n",
       "Model:                            OLS   Adj. R-squared:                  0.008\n",
       "Method:                 Least Squares   F-statistic:                     4.040\n",
       "Date:                Fri, 26 Nov 2021   Prob (F-statistic):             0.0451\n",
       "Time:                        11:12:29   Log-Likelihood:                -494.26\n",
       "No. Observations:                 400   AIC:                             992.5\n",
       "Df Residuals:                     398   BIC:                             1000.\n",
       "Df Model:                           1                                         \n",
       "Covariance Type:            nonrobust                                         \n",
       "======================================================================================\n",
       "                         coef    std err          t      P>|t|      [0.025      0.975]\n",
       "--------------------------------------------------------------------------------------\n",
       "Intercept              0.0233      0.046      0.505      0.614      -0.068       0.114\n",
       "Population_density     0.0660      0.033      2.010      0.045       0.001       0.131\n",
       "==============================================================================\n",
       "Omnibus:                       19.867   Durbin-Watson:                   1.980\n",
       "Prob(Omnibus):                  0.000   Jarque-Bera (JB):               21.482\n",
       "Skew:                           0.532   Prob(JB):                     2.16e-05\n",
       "Kurtosis:                       3.397   Cond. No.                         1.79\n",
       "==============================================================================\n",
       "\n",
       "Notes:\n",
       "[1] Standard Errors assume that the covariance matrix of the errors is correctly specified.\n",
       "\"\"\""
      ]
     },
     "execution_count": 35,
     "metadata": {},
     "output_type": "execute_result"
    }
   ],
   "source": [
    "model = smf.ols(formula = 'cases_per_100k ~ Population_density', data = df_covid_AP_2019).fit()\n",
    "model.summary()"
   ]
  },
  {
   "cell_type": "code",
   "execution_count": 36,
   "id": "f0ae3c5c",
   "metadata": {
    "hidden": true
   },
   "outputs": [
    {
     "data": {
      "text/plain": [
       "0.8325225709089548"
      ]
     },
     "execution_count": 36,
     "metadata": {},
     "output_type": "execute_result"
    }
   ],
   "source": [
    "RMSE = np.sqrt((model.resid**2).mean())\n",
    "RMSE"
   ]
  },
  {
   "cell_type": "markdown",
   "id": "5e6df055",
   "metadata": {
    "hidden": true
   },
   "source": [
    "### NO2"
   ]
  },
  {
   "cell_type": "code",
   "execution_count": 37,
   "id": "802530fe",
   "metadata": {
    "hidden": true,
    "scrolled": false
   },
   "outputs": [
    {
     "data": {
      "text/html": [
       "<table class=\"simpletable\">\n",
       "<caption>OLS Regression Results</caption>\n",
       "<tr>\n",
       "  <th>Dep. Variable:</th>     <td>cases_per_100k</td>  <th>  R-squared:         </th> <td>   0.040</td>\n",
       "</tr>\n",
       "<tr>\n",
       "  <th>Model:</th>                   <td>OLS</td>       <th>  Adj. R-squared:    </th> <td>   0.038</td>\n",
       "</tr>\n",
       "<tr>\n",
       "  <th>Method:</th>             <td>Least Squares</td>  <th>  F-statistic:       </th> <td>   16.55</td>\n",
       "</tr>\n",
       "<tr>\n",
       "  <th>Date:</th>             <td>Fri, 26 Nov 2021</td> <th>  Prob (F-statistic):</th> <td>5.71e-05</td>\n",
       "</tr>\n",
       "<tr>\n",
       "  <th>Time:</th>                 <td>11:12:29</td>     <th>  Log-Likelihood:    </th> <td> -488.13</td>\n",
       "</tr>\n",
       "<tr>\n",
       "  <th>No. Observations:</th>      <td>   400</td>      <th>  AIC:               </th> <td>   980.3</td>\n",
       "</tr>\n",
       "<tr>\n",
       "  <th>Df Residuals:</th>          <td>   398</td>      <th>  BIC:               </th> <td>   988.2</td>\n",
       "</tr>\n",
       "<tr>\n",
       "  <th>Df Model:</th>              <td>     1</td>      <th>                     </th>     <td> </td>   \n",
       "</tr>\n",
       "<tr>\n",
       "  <th>Covariance Type:</th>      <td>nonrobust</td>    <th>                     </th>     <td> </td>   \n",
       "</tr>\n",
       "</table>\n",
       "<table class=\"simpletable\">\n",
       "<tr>\n",
       "         <td></td>           <th>coef</th>     <th>std err</th>      <th>t</th>      <th>P>|t|</th>  <th>[0.025</th>    <th>0.975]</th>  \n",
       "</tr>\n",
       "<tr>\n",
       "  <th>Intercept</th>      <td>    0.0844</td> <td>    0.041</td> <td>    2.037</td> <td> 0.042</td> <td>    0.003</td> <td>    0.166</td>\n",
       "</tr>\n",
       "<tr>\n",
       "  <th>NO2_annualMean</th> <td>    0.1267</td> <td>    0.031</td> <td>    4.069</td> <td> 0.000</td> <td>    0.065</td> <td>    0.188</td>\n",
       "</tr>\n",
       "</table>\n",
       "<table class=\"simpletable\">\n",
       "<tr>\n",
       "  <th>Omnibus:</th>       <td>32.343</td> <th>  Durbin-Watson:     </th> <td>   1.979</td>\n",
       "</tr>\n",
       "<tr>\n",
       "  <th>Prob(Omnibus):</th> <td> 0.000</td> <th>  Jarque-Bera (JB):  </th> <td>  38.625</td>\n",
       "</tr>\n",
       "<tr>\n",
       "  <th>Skew:</th>          <td> 0.684</td> <th>  Prob(JB):          </th> <td>4.10e-09</td>\n",
       "</tr>\n",
       "<tr>\n",
       "  <th>Kurtosis:</th>      <td> 3.669</td> <th>  Cond. No.          </th> <td>    1.37</td>\n",
       "</tr>\n",
       "</table><br/><br/>Notes:<br/>[1] Standard Errors assume that the covariance matrix of the errors is correctly specified."
      ],
      "text/plain": [
       "<class 'statsmodels.iolib.summary.Summary'>\n",
       "\"\"\"\n",
       "                            OLS Regression Results                            \n",
       "==============================================================================\n",
       "Dep. Variable:         cases_per_100k   R-squared:                       0.040\n",
       "Model:                            OLS   Adj. R-squared:                  0.038\n",
       "Method:                 Least Squares   F-statistic:                     16.55\n",
       "Date:                Fri, 26 Nov 2021   Prob (F-statistic):           5.71e-05\n",
       "Time:                        11:12:29   Log-Likelihood:                -488.13\n",
       "No. Observations:                 400   AIC:                             980.3\n",
       "Df Residuals:                     398   BIC:                             988.2\n",
       "Df Model:                           1                                         \n",
       "Covariance Type:            nonrobust                                         \n",
       "==================================================================================\n",
       "                     coef    std err          t      P>|t|      [0.025      0.975]\n",
       "----------------------------------------------------------------------------------\n",
       "Intercept          0.0844      0.041      2.037      0.042       0.003       0.166\n",
       "NO2_annualMean     0.1267      0.031      4.069      0.000       0.065       0.188\n",
       "==============================================================================\n",
       "Omnibus:                       32.343   Durbin-Watson:                   1.979\n",
       "Prob(Omnibus):                  0.000   Jarque-Bera (JB):               38.625\n",
       "Skew:                           0.684   Prob(JB):                     4.10e-09\n",
       "Kurtosis:                       3.669   Cond. No.                         1.37\n",
       "==============================================================================\n",
       "\n",
       "Notes:\n",
       "[1] Standard Errors assume that the covariance matrix of the errors is correctly specified.\n",
       "\"\"\""
      ]
     },
     "execution_count": 37,
     "metadata": {},
     "output_type": "execute_result"
    }
   ],
   "source": [
    "model = smf.ols(formula = 'cases_per_100k ~ NO2_annualMean', data = df_covid_AP_2019).fit()\n",
    "model.summary()"
   ]
  },
  {
   "cell_type": "code",
   "execution_count": 38,
   "id": "0adb579d",
   "metadata": {
    "hidden": true
   },
   "outputs": [
    {
     "data": {
      "text/plain": [
       "0.819861836471156"
      ]
     },
     "execution_count": 38,
     "metadata": {},
     "output_type": "execute_result"
    }
   ],
   "source": [
    "RMSE = np.sqrt((model.resid**2).mean())\n",
    "RMSE"
   ]
  },
  {
   "cell_type": "markdown",
   "id": "fe5452bd",
   "metadata": {
    "hidden": true
   },
   "source": [
    "### NO "
   ]
  },
  {
   "cell_type": "code",
   "execution_count": 39,
   "id": "ef790c16",
   "metadata": {
    "hidden": true,
    "scrolled": false
   },
   "outputs": [
    {
     "data": {
      "text/html": [
       "<table class=\"simpletable\">\n",
       "<caption>OLS Regression Results</caption>\n",
       "<tr>\n",
       "  <th>Dep. Variable:</th>     <td>cases_per_100k</td>  <th>  R-squared:         </th> <td>   0.040</td>\n",
       "</tr>\n",
       "<tr>\n",
       "  <th>Model:</th>                   <td>OLS</td>       <th>  Adj. R-squared:    </th> <td>   0.038</td>\n",
       "</tr>\n",
       "<tr>\n",
       "  <th>Method:</th>             <td>Least Squares</td>  <th>  F-statistic:       </th> <td>   16.74</td>\n",
       "</tr>\n",
       "<tr>\n",
       "  <th>Date:</th>             <td>Fri, 26 Nov 2021</td> <th>  Prob (F-statistic):</th> <td>5.18e-05</td>\n",
       "</tr>\n",
       "<tr>\n",
       "  <th>Time:</th>                 <td>11:12:29</td>     <th>  Log-Likelihood:    </th> <td> -488.04</td>\n",
       "</tr>\n",
       "<tr>\n",
       "  <th>No. Observations:</th>      <td>   400</td>      <th>  AIC:               </th> <td>   980.1</td>\n",
       "</tr>\n",
       "<tr>\n",
       "  <th>Df Residuals:</th>          <td>   398</td>      <th>  BIC:               </th> <td>   988.1</td>\n",
       "</tr>\n",
       "<tr>\n",
       "  <th>Df Model:</th>              <td>     1</td>      <th>                     </th>     <td> </td>   \n",
       "</tr>\n",
       "<tr>\n",
       "  <th>Covariance Type:</th>      <td>nonrobust</td>    <th>                     </th>     <td> </td>   \n",
       "</tr>\n",
       "</table>\n",
       "<table class=\"simpletable\">\n",
       "<tr>\n",
       "        <td></td>           <th>coef</th>     <th>std err</th>      <th>t</th>      <th>P>|t|</th>  <th>[0.025</th>    <th>0.975]</th>  \n",
       "</tr>\n",
       "<tr>\n",
       "  <th>Intercept</th>     <td>    0.1017</td> <td>    0.042</td> <td>    2.414</td> <td> 0.016</td> <td>    0.019</td> <td>    0.185</td>\n",
       "</tr>\n",
       "<tr>\n",
       "  <th>NO_annualMean</th> <td>    0.1556</td> <td>    0.038</td> <td>    4.092</td> <td> 0.000</td> <td>    0.081</td> <td>    0.230</td>\n",
       "</tr>\n",
       "</table>\n",
       "<table class=\"simpletable\">\n",
       "<tr>\n",
       "  <th>Omnibus:</th>       <td>28.026</td> <th>  Durbin-Watson:     </th> <td>   1.979</td>\n",
       "</tr>\n",
       "<tr>\n",
       "  <th>Prob(Omnibus):</th> <td> 0.000</td> <th>  Jarque-Bera (JB):  </th> <td>  32.628</td>\n",
       "</tr>\n",
       "<tr>\n",
       "  <th>Skew:</th>          <td> 0.625</td> <th>  Prob(JB):          </th> <td>8.22e-08</td>\n",
       "</tr>\n",
       "<tr>\n",
       "  <th>Kurtosis:</th>      <td> 3.630</td> <th>  Cond. No.          </th> <td>    1.28</td>\n",
       "</tr>\n",
       "</table><br/><br/>Notes:<br/>[1] Standard Errors assume that the covariance matrix of the errors is correctly specified."
      ],
      "text/plain": [
       "<class 'statsmodels.iolib.summary.Summary'>\n",
       "\"\"\"\n",
       "                            OLS Regression Results                            \n",
       "==============================================================================\n",
       "Dep. Variable:         cases_per_100k   R-squared:                       0.040\n",
       "Model:                            OLS   Adj. R-squared:                  0.038\n",
       "Method:                 Least Squares   F-statistic:                     16.74\n",
       "Date:                Fri, 26 Nov 2021   Prob (F-statistic):           5.18e-05\n",
       "Time:                        11:12:29   Log-Likelihood:                -488.04\n",
       "No. Observations:                 400   AIC:                             980.1\n",
       "Df Residuals:                     398   BIC:                             988.1\n",
       "Df Model:                           1                                         \n",
       "Covariance Type:            nonrobust                                         \n",
       "=================================================================================\n",
       "                    coef    std err          t      P>|t|      [0.025      0.975]\n",
       "---------------------------------------------------------------------------------\n",
       "Intercept         0.1017      0.042      2.414      0.016       0.019       0.185\n",
       "NO_annualMean     0.1556      0.038      4.092      0.000       0.081       0.230\n",
       "==============================================================================\n",
       "Omnibus:                       28.026   Durbin-Watson:                   1.979\n",
       "Prob(Omnibus):                  0.000   Jarque-Bera (JB):               32.628\n",
       "Skew:                           0.625   Prob(JB):                     8.22e-08\n",
       "Kurtosis:                       3.630   Cond. No.                         1.28\n",
       "==============================================================================\n",
       "\n",
       "Notes:\n",
       "[1] Standard Errors assume that the covariance matrix of the errors is correctly specified.\n",
       "\"\"\""
      ]
     },
     "execution_count": 39,
     "metadata": {},
     "output_type": "execute_result"
    }
   ],
   "source": [
    "model = smf.ols(formula = 'cases_per_100k ~ NO_annualMean', data = df_covid_AP_2019).fit()\n",
    "model.summary()"
   ]
  },
  {
   "cell_type": "code",
   "execution_count": 40,
   "id": "2d2055c8",
   "metadata": {
    "hidden": true
   },
   "outputs": [
    {
     "data": {
      "text/plain": [
       "0.8196723460155986"
      ]
     },
     "execution_count": 40,
     "metadata": {},
     "output_type": "execute_result"
    }
   ],
   "source": [
    "RMSE = np.sqrt((model.resid**2).mean())\n",
    "RMSE"
   ]
  },
  {
   "cell_type": "markdown",
   "id": "9e5036e0",
   "metadata": {
    "hidden": true
   },
   "source": [
    "### Ozon"
   ]
  },
  {
   "cell_type": "code",
   "execution_count": 41,
   "id": "29970bc1",
   "metadata": {
    "hidden": true,
    "scrolled": false
   },
   "outputs": [
    {
     "data": {
      "text/html": [
       "<table class=\"simpletable\">\n",
       "<caption>OLS Regression Results</caption>\n",
       "<tr>\n",
       "  <th>Dep. Variable:</th>     <td>cases_per_100k</td>  <th>  R-squared:         </th> <td>   0.000</td>\n",
       "</tr>\n",
       "<tr>\n",
       "  <th>Model:</th>                   <td>OLS</td>       <th>  Adj. R-squared:    </th> <td>  -0.002</td>\n",
       "</tr>\n",
       "<tr>\n",
       "  <th>Method:</th>             <td>Least Squares</td>  <th>  F-statistic:       </th> <td>0.009209</td>\n",
       "</tr>\n",
       "<tr>\n",
       "  <th>Date:</th>             <td>Fri, 26 Nov 2021</td> <th>  Prob (F-statistic):</th>  <td> 0.924</td> \n",
       "</tr>\n",
       "<tr>\n",
       "  <th>Time:</th>                 <td>11:12:29</td>     <th>  Log-Likelihood:    </th> <td> -496.27</td>\n",
       "</tr>\n",
       "<tr>\n",
       "  <th>No. Observations:</th>      <td>   400</td>      <th>  AIC:               </th> <td>   996.5</td>\n",
       "</tr>\n",
       "<tr>\n",
       "  <th>Df Residuals:</th>          <td>   398</td>      <th>  BIC:               </th> <td>   1005.</td>\n",
       "</tr>\n",
       "<tr>\n",
       "  <th>Df Model:</th>              <td>     1</td>      <th>                     </th>     <td> </td>   \n",
       "</tr>\n",
       "<tr>\n",
       "  <th>Covariance Type:</th>      <td>nonrobust</td>    <th>                     </th>     <td> </td>   \n",
       "</tr>\n",
       "</table>\n",
       "<table class=\"simpletable\">\n",
       "<tr>\n",
       "        <td></td>           <th>coef</th>     <th>std err</th>      <th>t</th>      <th>P>|t|</th>  <th>[0.025</th>    <th>0.975]</th>  \n",
       "</tr>\n",
       "<tr>\n",
       "  <th>Intercept</th>     <td>    0.0640</td> <td>    0.043</td> <td>    1.503</td> <td> 0.134</td> <td>   -0.020</td> <td>    0.148</td>\n",
       "</tr>\n",
       "<tr>\n",
       "  <th>O3_annualMean</th> <td>   -0.0025</td> <td>    0.026</td> <td>   -0.096</td> <td> 0.924</td> <td>   -0.053</td> <td>    0.048</td>\n",
       "</tr>\n",
       "</table>\n",
       "<table class=\"simpletable\">\n",
       "<tr>\n",
       "  <th>Omnibus:</th>       <td>14.642</td> <th>  Durbin-Watson:     </th> <td>   1.963</td>\n",
       "</tr>\n",
       "<tr>\n",
       "  <th>Prob(Omnibus):</th> <td> 0.001</td> <th>  Jarque-Bera (JB):  </th> <td>  15.206</td>\n",
       "</tr>\n",
       "<tr>\n",
       "  <th>Skew:</th>          <td> 0.458</td> <th>  Prob(JB):          </th> <td>0.000499</td>\n",
       "</tr>\n",
       "<tr>\n",
       "  <th>Kurtosis:</th>      <td> 3.268</td> <th>  Cond. No.          </th> <td>    1.70</td>\n",
       "</tr>\n",
       "</table><br/><br/>Notes:<br/>[1] Standard Errors assume that the covariance matrix of the errors is correctly specified."
      ],
      "text/plain": [
       "<class 'statsmodels.iolib.summary.Summary'>\n",
       "\"\"\"\n",
       "                            OLS Regression Results                            \n",
       "==============================================================================\n",
       "Dep. Variable:         cases_per_100k   R-squared:                       0.000\n",
       "Model:                            OLS   Adj. R-squared:                 -0.002\n",
       "Method:                 Least Squares   F-statistic:                  0.009209\n",
       "Date:                Fri, 26 Nov 2021   Prob (F-statistic):              0.924\n",
       "Time:                        11:12:29   Log-Likelihood:                -496.27\n",
       "No. Observations:                 400   AIC:                             996.5\n",
       "Df Residuals:                     398   BIC:                             1005.\n",
       "Df Model:                           1                                         \n",
       "Covariance Type:            nonrobust                                         \n",
       "=================================================================================\n",
       "                    coef    std err          t      P>|t|      [0.025      0.975]\n",
       "---------------------------------------------------------------------------------\n",
       "Intercept         0.0640      0.043      1.503      0.134      -0.020       0.148\n",
       "O3_annualMean    -0.0025      0.026     -0.096      0.924      -0.053       0.048\n",
       "==============================================================================\n",
       "Omnibus:                       14.642   Durbin-Watson:                   1.963\n",
       "Prob(Omnibus):                  0.001   Jarque-Bera (JB):               15.206\n",
       "Skew:                           0.458   Prob(JB):                     0.000499\n",
       "Kurtosis:                       3.268   Cond. No.                         1.70\n",
       "==============================================================================\n",
       "\n",
       "Notes:\n",
       "[1] Standard Errors assume that the covariance matrix of the errors is correctly specified.\n",
       "\"\"\""
      ]
     },
     "execution_count": 41,
     "metadata": {},
     "output_type": "execute_result"
    }
   ],
   "source": [
    "model = smf.ols(formula = 'cases_per_100k ~ O3_annualMean', data = df_covid_AP_2019).fit()\n",
    "model.summary()"
   ]
  },
  {
   "cell_type": "code",
   "execution_count": 42,
   "id": "23833ec4",
   "metadata": {
    "hidden": true
   },
   "outputs": [
    {
     "data": {
      "text/plain": [
       "0.836727980915822"
      ]
     },
     "execution_count": 42,
     "metadata": {},
     "output_type": "execute_result"
    }
   ],
   "source": [
    "RMSE = np.sqrt((model.resid**2).mean())\n",
    "RMSE"
   ]
  },
  {
   "cell_type": "markdown",
   "id": "bd11e93a",
   "metadata": {
    "hidden": true
   },
   "source": [
    "### PM2.5"
   ]
  },
  {
   "cell_type": "code",
   "execution_count": 43,
   "id": "293f3b08",
   "metadata": {
    "hidden": true,
    "scrolled": false
   },
   "outputs": [
    {
     "data": {
      "text/html": [
       "<table class=\"simpletable\">\n",
       "<caption>OLS Regression Results</caption>\n",
       "<tr>\n",
       "  <th>Dep. Variable:</th>     <td>cases_per_100k</td>  <th>  R-squared:         </th> <td>   0.005</td>\n",
       "</tr>\n",
       "<tr>\n",
       "  <th>Model:</th>                   <td>OLS</td>       <th>  Adj. R-squared:    </th> <td>   0.002</td>\n",
       "</tr>\n",
       "<tr>\n",
       "  <th>Method:</th>             <td>Least Squares</td>  <th>  F-statistic:       </th> <td>   1.947</td>\n",
       "</tr>\n",
       "<tr>\n",
       "  <th>Date:</th>             <td>Fri, 26 Nov 2021</td> <th>  Prob (F-statistic):</th>  <td> 0.164</td> \n",
       "</tr>\n",
       "<tr>\n",
       "  <th>Time:</th>                 <td>11:12:29</td>     <th>  Log-Likelihood:    </th> <td> -495.30</td>\n",
       "</tr>\n",
       "<tr>\n",
       "  <th>No. Observations:</th>      <td>   400</td>      <th>  AIC:               </th> <td>   994.6</td>\n",
       "</tr>\n",
       "<tr>\n",
       "  <th>Df Residuals:</th>          <td>   398</td>      <th>  BIC:               </th> <td>   1003.</td>\n",
       "</tr>\n",
       "<tr>\n",
       "  <th>Df Model:</th>              <td>     1</td>      <th>                     </th>     <td> </td>   \n",
       "</tr>\n",
       "<tr>\n",
       "  <th>Covariance Type:</th>      <td>nonrobust</td>    <th>                     </th>     <td> </td>   \n",
       "</tr>\n",
       "</table>\n",
       "<table class=\"simpletable\">\n",
       "<tr>\n",
       "          <td></td>            <th>coef</th>     <th>std err</th>      <th>t</th>      <th>P>|t|</th>  <th>[0.025</th>    <th>0.975]</th>  \n",
       "</tr>\n",
       "<tr>\n",
       "  <th>Intercept</th>        <td>    0.0792</td> <td>    0.043</td> <td>    1.826</td> <td> 0.069</td> <td>   -0.006</td> <td>    0.164</td>\n",
       "</tr>\n",
       "<tr>\n",
       "  <th>PM2_5_annualMean</th> <td>    0.0277</td> <td>    0.020</td> <td>    1.395</td> <td> 0.164</td> <td>   -0.011</td> <td>    0.067</td>\n",
       "</tr>\n",
       "</table>\n",
       "<table class=\"simpletable\">\n",
       "<tr>\n",
       "  <th>Omnibus:</th>       <td>13.223</td> <th>  Durbin-Watson:     </th> <td>   1.978</td>\n",
       "</tr>\n",
       "<tr>\n",
       "  <th>Prob(Omnibus):</th> <td> 0.001</td> <th>  Jarque-Bera (JB):  </th> <td>  13.595</td>\n",
       "</tr>\n",
       "<tr>\n",
       "  <th>Skew:</th>          <td> 0.437</td> <th>  Prob(JB):          </th> <td> 0.00112</td>\n",
       "</tr>\n",
       "<tr>\n",
       "  <th>Kurtosis:</th>      <td> 3.230</td> <th>  Cond. No.          </th> <td>    2.31</td>\n",
       "</tr>\n",
       "</table><br/><br/>Notes:<br/>[1] Standard Errors assume that the covariance matrix of the errors is correctly specified."
      ],
      "text/plain": [
       "<class 'statsmodels.iolib.summary.Summary'>\n",
       "\"\"\"\n",
       "                            OLS Regression Results                            \n",
       "==============================================================================\n",
       "Dep. Variable:         cases_per_100k   R-squared:                       0.005\n",
       "Model:                            OLS   Adj. R-squared:                  0.002\n",
       "Method:                 Least Squares   F-statistic:                     1.947\n",
       "Date:                Fri, 26 Nov 2021   Prob (F-statistic):              0.164\n",
       "Time:                        11:12:29   Log-Likelihood:                -495.30\n",
       "No. Observations:                 400   AIC:                             994.6\n",
       "Df Residuals:                     398   BIC:                             1003.\n",
       "Df Model:                           1                                         \n",
       "Covariance Type:            nonrobust                                         \n",
       "====================================================================================\n",
       "                       coef    std err          t      P>|t|      [0.025      0.975]\n",
       "------------------------------------------------------------------------------------\n",
       "Intercept            0.0792      0.043      1.826      0.069      -0.006       0.164\n",
       "PM2_5_annualMean     0.0277      0.020      1.395      0.164      -0.011       0.067\n",
       "==============================================================================\n",
       "Omnibus:                       13.223   Durbin-Watson:                   1.978\n",
       "Prob(Omnibus):                  0.001   Jarque-Bera (JB):               13.595\n",
       "Skew:                           0.437   Prob(JB):                      0.00112\n",
       "Kurtosis:                       3.230   Cond. No.                         2.31\n",
       "==============================================================================\n",
       "\n",
       "Notes:\n",
       "[1] Standard Errors assume that the covariance matrix of the errors is correctly specified.\n",
       "\"\"\""
      ]
     },
     "execution_count": 43,
     "metadata": {},
     "output_type": "execute_result"
    }
   ],
   "source": [
    "model = smf.ols(formula = 'cases_per_100k ~ PM2_5_annualMean', data = df_covid_AP_2019).fit()\n",
    "model.summary()"
   ]
  },
  {
   "cell_type": "code",
   "execution_count": 44,
   "id": "531e58a6",
   "metadata": {
    "hidden": true
   },
   "outputs": [
    {
     "data": {
      "text/plain": [
       "0.8346986783678119"
      ]
     },
     "execution_count": 44,
     "metadata": {},
     "output_type": "execute_result"
    }
   ],
   "source": [
    "RMSE = np.sqrt((model.resid**2).mean())\n",
    "RMSE"
   ]
  },
  {
   "cell_type": "markdown",
   "id": "8333e51e",
   "metadata": {
    "hidden": true
   },
   "source": [
    "### PM10"
   ]
  },
  {
   "cell_type": "code",
   "execution_count": 45,
   "id": "51e3b91c",
   "metadata": {
    "hidden": true,
    "scrolled": true
   },
   "outputs": [
    {
     "data": {
      "text/html": [
       "<table class=\"simpletable\">\n",
       "<caption>OLS Regression Results</caption>\n",
       "<tr>\n",
       "  <th>Dep. Variable:</th>     <td>cases_per_100k</td>  <th>  R-squared:         </th> <td>   0.004</td>\n",
       "</tr>\n",
       "<tr>\n",
       "  <th>Model:</th>                   <td>OLS</td>       <th>  Adj. R-squared:    </th> <td>   0.001</td>\n",
       "</tr>\n",
       "<tr>\n",
       "  <th>Method:</th>             <td>Least Squares</td>  <th>  F-statistic:       </th> <td>   1.540</td>\n",
       "</tr>\n",
       "<tr>\n",
       "  <th>Date:</th>             <td>Fri, 26 Nov 2021</td> <th>  Prob (F-statistic):</th>  <td> 0.215</td> \n",
       "</tr>\n",
       "<tr>\n",
       "  <th>Time:</th>                 <td>11:12:29</td>     <th>  Log-Likelihood:    </th> <td> -495.50</td>\n",
       "</tr>\n",
       "<tr>\n",
       "  <th>No. Observations:</th>      <td>   400</td>      <th>  AIC:               </th> <td>   995.0</td>\n",
       "</tr>\n",
       "<tr>\n",
       "  <th>Df Residuals:</th>          <td>   398</td>      <th>  BIC:               </th> <td>   1003.</td>\n",
       "</tr>\n",
       "<tr>\n",
       "  <th>Df Model:</th>              <td>     1</td>      <th>                     </th>     <td> </td>   \n",
       "</tr>\n",
       "<tr>\n",
       "  <th>Covariance Type:</th>      <td>nonrobust</td>    <th>                     </th>     <td> </td>   \n",
       "</tr>\n",
       "</table>\n",
       "<table class=\"simpletable\">\n",
       "<tr>\n",
       "         <td></td>            <th>coef</th>     <th>std err</th>      <th>t</th>      <th>P>|t|</th>  <th>[0.025</th>    <th>0.975]</th>  \n",
       "</tr>\n",
       "<tr>\n",
       "  <th>Intercept</th>       <td>    0.0785</td> <td>    0.044</td> <td>    1.800</td> <td> 0.073</td> <td>   -0.007</td> <td>    0.164</td>\n",
       "</tr>\n",
       "<tr>\n",
       "  <th>PM10_annualMean</th> <td>    0.0532</td> <td>    0.043</td> <td>    1.241</td> <td> 0.215</td> <td>   -0.031</td> <td>    0.137</td>\n",
       "</tr>\n",
       "</table>\n",
       "<table class=\"simpletable\">\n",
       "<tr>\n",
       "  <th>Omnibus:</th>       <td>15.420</td> <th>  Durbin-Watson:     </th> <td>   1.964</td>\n",
       "</tr>\n",
       "<tr>\n",
       "  <th>Prob(Omnibus):</th> <td> 0.000</td> <th>  Jarque-Bera (JB):  </th> <td>  16.121</td>\n",
       "</tr>\n",
       "<tr>\n",
       "  <th>Skew:</th>          <td> 0.465</td> <th>  Prob(JB):          </th> <td>0.000316</td>\n",
       "</tr>\n",
       "<tr>\n",
       "  <th>Kurtosis:</th>      <td> 3.317</td> <th>  Cond. No.          </th> <td>    1.34</td>\n",
       "</tr>\n",
       "</table><br/><br/>Notes:<br/>[1] Standard Errors assume that the covariance matrix of the errors is correctly specified."
      ],
      "text/plain": [
       "<class 'statsmodels.iolib.summary.Summary'>\n",
       "\"\"\"\n",
       "                            OLS Regression Results                            \n",
       "==============================================================================\n",
       "Dep. Variable:         cases_per_100k   R-squared:                       0.004\n",
       "Model:                            OLS   Adj. R-squared:                  0.001\n",
       "Method:                 Least Squares   F-statistic:                     1.540\n",
       "Date:                Fri, 26 Nov 2021   Prob (F-statistic):              0.215\n",
       "Time:                        11:12:29   Log-Likelihood:                -495.50\n",
       "No. Observations:                 400   AIC:                             995.0\n",
       "Df Residuals:                     398   BIC:                             1003.\n",
       "Df Model:                           1                                         \n",
       "Covariance Type:            nonrobust                                         \n",
       "===================================================================================\n",
       "                      coef    std err          t      P>|t|      [0.025      0.975]\n",
       "-----------------------------------------------------------------------------------\n",
       "Intercept           0.0785      0.044      1.800      0.073      -0.007       0.164\n",
       "PM10_annualMean     0.0532      0.043      1.241      0.215      -0.031       0.137\n",
       "==============================================================================\n",
       "Omnibus:                       15.420   Durbin-Watson:                   1.964\n",
       "Prob(Omnibus):                  0.000   Jarque-Bera (JB):               16.121\n",
       "Skew:                           0.465   Prob(JB):                     0.000316\n",
       "Kurtosis:                       3.317   Cond. No.                         1.34\n",
       "==============================================================================\n",
       "\n",
       "Notes:\n",
       "[1] Standard Errors assume that the covariance matrix of the errors is correctly specified.\n",
       "\"\"\""
      ]
     },
     "execution_count": 45,
     "metadata": {},
     "output_type": "execute_result"
    }
   ],
   "source": [
    "model = smf.ols(formula = 'cases_per_100k ~ PM10_annualMean', data = df_covid_AP_2019).fit()\n",
    "model.summary()"
   ]
  },
  {
   "cell_type": "code",
   "execution_count": 46,
   "id": "b7a4d49c",
   "metadata": {
    "hidden": true
   },
   "outputs": [
    {
     "data": {
      "text/plain": [
       "0.8351230200768954"
      ]
     },
     "execution_count": 46,
     "metadata": {},
     "output_type": "execute_result"
    }
   ],
   "source": [
    "RMSE = np.sqrt((model.resid**2).mean())\n",
    "RMSE"
   ]
  },
  {
   "cell_type": "markdown",
   "id": "0c1ad01b",
   "metadata": {
    "hidden": true
   },
   "source": [
    "## Multivariate linear regression"
   ]
  },
  {
   "cell_type": "code",
   "execution_count": 47,
   "id": "e5f7eebb",
   "metadata": {
    "hidden": true,
    "scrolled": false
   },
   "outputs": [
    {
     "data": {
      "text/html": [
       "<table class=\"simpletable\">\n",
       "<caption>OLS Regression Results</caption>\n",
       "<tr>\n",
       "  <th>Dep. Variable:</th>     <td>cases_per_100k</td>  <th>  R-squared:         </th> <td>   0.377</td>\n",
       "</tr>\n",
       "<tr>\n",
       "  <th>Model:</th>                   <td>OLS</td>       <th>  Adj. R-squared:    </th> <td>   0.367</td>\n",
       "</tr>\n",
       "<tr>\n",
       "  <th>Method:</th>             <td>Least Squares</td>  <th>  F-statistic:       </th> <td>   39.56</td>\n",
       "</tr>\n",
       "<tr>\n",
       "  <th>Date:</th>             <td>Fri, 26 Nov 2021</td> <th>  Prob (F-statistic):</th> <td>1.34e-37</td>\n",
       "</tr>\n",
       "<tr>\n",
       "  <th>Time:</th>                 <td>11:12:29</td>     <th>  Log-Likelihood:    </th> <td> -401.77</td>\n",
       "</tr>\n",
       "<tr>\n",
       "  <th>No. Observations:</th>      <td>   400</td>      <th>  AIC:               </th> <td>   817.5</td>\n",
       "</tr>\n",
       "<tr>\n",
       "  <th>Df Residuals:</th>          <td>   393</td>      <th>  BIC:               </th> <td>   845.5</td>\n",
       "</tr>\n",
       "<tr>\n",
       "  <th>Df Model:</th>              <td>     6</td>      <th>                     </th>     <td> </td>   \n",
       "</tr>\n",
       "<tr>\n",
       "  <th>Covariance Type:</th>      <td>nonrobust</td>    <th>                     </th>     <td> </td>   \n",
       "</tr>\n",
       "</table>\n",
       "<table class=\"simpletable\">\n",
       "<tr>\n",
       "           <td></td>             <th>coef</th>     <th>std err</th>      <th>t</th>      <th>P>|t|</th>  <th>[0.025</th>    <th>0.975]</th>  \n",
       "</tr>\n",
       "<tr>\n",
       "  <th>Intercept</th>          <td>    0.1770</td> <td>    0.041</td> <td>    4.369</td> <td> 0.000</td> <td>    0.097</td> <td>    0.257</td>\n",
       "</tr>\n",
       "<tr>\n",
       "  <th>NO2_annualMean</th>     <td>    0.2468</td> <td>    0.042</td> <td>    5.903</td> <td> 0.000</td> <td>    0.165</td> <td>    0.329</td>\n",
       "</tr>\n",
       "<tr>\n",
       "  <th>O3_annualMean</th>      <td>    0.1062</td> <td>    0.029</td> <td>    3.613</td> <td> 0.000</td> <td>    0.048</td> <td>    0.164</td>\n",
       "</tr>\n",
       "<tr>\n",
       "  <th>PM10_annualMean</th>    <td>   -0.0008</td> <td>    0.048</td> <td>   -0.016</td> <td> 0.987</td> <td>   -0.095</td> <td>    0.093</td>\n",
       "</tr>\n",
       "<tr>\n",
       "  <th>PM2_5_annualMean</th>   <td>    0.0353</td> <td>    0.018</td> <td>    1.984</td> <td> 0.048</td> <td>    0.000</td> <td>    0.070</td>\n",
       "</tr>\n",
       "<tr>\n",
       "  <th>Fully_vaccinated</th>   <td>   -0.5063</td> <td>    0.037</td> <td>  -13.723</td> <td> 0.000</td> <td>   -0.579</td> <td>   -0.434</td>\n",
       "</tr>\n",
       "<tr>\n",
       "  <th>Population_density</th> <td>    0.0781</td> <td>    0.030</td> <td>    2.577</td> <td> 0.010</td> <td>    0.019</td> <td>    0.138</td>\n",
       "</tr>\n",
       "</table>\n",
       "<table class=\"simpletable\">\n",
       "<tr>\n",
       "  <th>Omnibus:</th>       <td> 8.669</td> <th>  Durbin-Watson:     </th> <td>   1.873</td>\n",
       "</tr>\n",
       "<tr>\n",
       "  <th>Prob(Omnibus):</th> <td> 0.013</td> <th>  Jarque-Bera (JB):  </th> <td>   8.625</td>\n",
       "</tr>\n",
       "<tr>\n",
       "  <th>Skew:</th>          <td> 0.352</td> <th>  Prob(JB):          </th> <td>  0.0134</td>\n",
       "</tr>\n",
       "<tr>\n",
       "  <th>Kurtosis:</th>      <td> 3.147</td> <th>  Cond. No.          </th> <td>    4.03</td>\n",
       "</tr>\n",
       "</table><br/><br/>Notes:<br/>[1] Standard Errors assume that the covariance matrix of the errors is correctly specified."
      ],
      "text/plain": [
       "<class 'statsmodels.iolib.summary.Summary'>\n",
       "\"\"\"\n",
       "                            OLS Regression Results                            \n",
       "==============================================================================\n",
       "Dep. Variable:         cases_per_100k   R-squared:                       0.377\n",
       "Model:                            OLS   Adj. R-squared:                  0.367\n",
       "Method:                 Least Squares   F-statistic:                     39.56\n",
       "Date:                Fri, 26 Nov 2021   Prob (F-statistic):           1.34e-37\n",
       "Time:                        11:12:29   Log-Likelihood:                -401.77\n",
       "No. Observations:                 400   AIC:                             817.5\n",
       "Df Residuals:                     393   BIC:                             845.5\n",
       "Df Model:                           6                                         \n",
       "Covariance Type:            nonrobust                                         \n",
       "======================================================================================\n",
       "                         coef    std err          t      P>|t|      [0.025      0.975]\n",
       "--------------------------------------------------------------------------------------\n",
       "Intercept              0.1770      0.041      4.369      0.000       0.097       0.257\n",
       "NO2_annualMean         0.2468      0.042      5.903      0.000       0.165       0.329\n",
       "O3_annualMean          0.1062      0.029      3.613      0.000       0.048       0.164\n",
       "PM10_annualMean       -0.0008      0.048     -0.016      0.987      -0.095       0.093\n",
       "PM2_5_annualMean       0.0353      0.018      1.984      0.048       0.000       0.070\n",
       "Fully_vaccinated      -0.5063      0.037    -13.723      0.000      -0.579      -0.434\n",
       "Population_density     0.0781      0.030      2.577      0.010       0.019       0.138\n",
       "==============================================================================\n",
       "Omnibus:                        8.669   Durbin-Watson:                   1.873\n",
       "Prob(Omnibus):                  0.013   Jarque-Bera (JB):                8.625\n",
       "Skew:                           0.352   Prob(JB):                       0.0134\n",
       "Kurtosis:                       3.147   Cond. No.                         4.03\n",
       "==============================================================================\n",
       "\n",
       "Notes:\n",
       "[1] Standard Errors assume that the covariance matrix of the errors is correctly specified.\n",
       "\"\"\""
      ]
     },
     "execution_count": 47,
     "metadata": {},
     "output_type": "execute_result"
    }
   ],
   "source": [
    "model = smf.ols(formula = 'cases_per_100k ~ NO2_annualMean + O3_annualMean + PM10_annualMean + PM2_5_annualMean + Fully_vaccinated + Population_density', data = df_covid_AP_2019).fit()\n",
    "model.summary()"
   ]
  },
  {
   "cell_type": "code",
   "execution_count": 48,
   "id": "c376b3ef",
   "metadata": {
    "hidden": true
   },
   "outputs": [
    {
     "data": {
      "text/html": [
       "<table class=\"simpletable\">\n",
       "<caption>OLS Regression Results</caption>\n",
       "<tr>\n",
       "  <th>Dep. Variable:</th>     <td>cases_per_100k</td>  <th>  R-squared:         </th> <td>   0.450</td>\n",
       "</tr>\n",
       "<tr>\n",
       "  <th>Model:</th>                   <td>OLS</td>       <th>  Adj. R-squared:    </th> <td>   0.432</td>\n",
       "</tr>\n",
       "<tr>\n",
       "  <th>Method:</th>             <td>Least Squares</td>  <th>  F-statistic:       </th> <td>   24.33</td>\n",
       "</tr>\n",
       "<tr>\n",
       "  <th>Date:</th>             <td>Fri, 26 Nov 2021</td> <th>  Prob (F-statistic):</th> <td>1.25e-42</td>\n",
       "</tr>\n",
       "<tr>\n",
       "  <th>Time:</th>                 <td>11:12:30</td>     <th>  Log-Likelihood:    </th> <td> -376.58</td>\n",
       "</tr>\n",
       "<tr>\n",
       "  <th>No. Observations:</th>      <td>   400</td>      <th>  AIC:               </th> <td>   781.2</td>\n",
       "</tr>\n",
       "<tr>\n",
       "  <th>Df Residuals:</th>          <td>   386</td>      <th>  BIC:               </th> <td>   837.0</td>\n",
       "</tr>\n",
       "<tr>\n",
       "  <th>Df Model:</th>              <td>    13</td>      <th>                     </th>     <td> </td>   \n",
       "</tr>\n",
       "<tr>\n",
       "  <th>Covariance Type:</th>      <td>nonrobust</td>    <th>                     </th>     <td> </td>   \n",
       "</tr>\n",
       "</table>\n",
       "<table class=\"simpletable\">\n",
       "<tr>\n",
       "            <td></td>               <th>coef</th>     <th>std err</th>      <th>t</th>      <th>P>|t|</th>  <th>[0.025</th>    <th>0.975]</th>  \n",
       "</tr>\n",
       "<tr>\n",
       "  <th>Intercept</th>             <td>    0.1542</td> <td>    0.044</td> <td>    3.532</td> <td> 0.000</td> <td>    0.068</td> <td>    0.240</td>\n",
       "</tr>\n",
       "<tr>\n",
       "  <th>NO2_annualMean</th>        <td>    0.1644</td> <td>    0.066</td> <td>    2.473</td> <td> 0.014</td> <td>    0.034</td> <td>    0.295</td>\n",
       "</tr>\n",
       "<tr>\n",
       "  <th>NO2_hrOver200</th>         <td>    0.0819</td> <td>    0.096</td> <td>    0.856</td> <td> 0.392</td> <td>   -0.106</td> <td>    0.270</td>\n",
       "</tr>\n",
       "<tr>\n",
       "  <th>NO_annualMean</th>         <td>    0.0659</td> <td>    0.065</td> <td>    1.008</td> <td> 0.314</td> <td>   -0.063</td> <td>    0.194</td>\n",
       "</tr>\n",
       "<tr>\n",
       "  <th>O3_annualMean</th>         <td>   -0.0651</td> <td>    0.049</td> <td>   -1.317</td> <td> 0.188</td> <td>   -0.162</td> <td>    0.032</td>\n",
       "</tr>\n",
       "<tr>\n",
       "  <th>O3_daysOver120</th>        <td>    0.0700</td> <td>    0.037</td> <td>    1.886</td> <td> 0.060</td> <td>   -0.003</td> <td>    0.143</td>\n",
       "</tr>\n",
       "<tr>\n",
       "  <th>O3_dailyMaxAnnualMean</th> <td>    0.2177</td> <td>    0.051</td> <td>    4.239</td> <td> 0.000</td> <td>    0.117</td> <td>    0.319</td>\n",
       "</tr>\n",
       "<tr>\n",
       "  <th>O3_dailyHourlyMax</th>     <td>   -0.0698</td> <td>    0.020</td> <td>   -3.517</td> <td> 0.000</td> <td>   -0.109</td> <td>   -0.031</td>\n",
       "</tr>\n",
       "<tr>\n",
       "  <th>O3_daily8HrMax</th>        <td>    0.0361</td> <td>    0.021</td> <td>    1.750</td> <td> 0.081</td> <td>   -0.004</td> <td>    0.077</td>\n",
       "</tr>\n",
       "<tr>\n",
       "  <th>PM10_annualMean</th>       <td>    0.0102</td> <td>    0.068</td> <td>    0.151</td> <td> 0.880</td> <td>   -0.123</td> <td>    0.143</td>\n",
       "</tr>\n",
       "<tr>\n",
       "  <th>PM10_daysOver50</th>       <td>   -0.0220</td> <td>    0.108</td> <td>   -0.203</td> <td> 0.839</td> <td>   -0.235</td> <td>    0.191</td>\n",
       "</tr>\n",
       "<tr>\n",
       "  <th>PM2_5_annualMean</th>      <td>    0.0422</td> <td>    0.017</td> <td>    2.430</td> <td> 0.016</td> <td>    0.008</td> <td>    0.076</td>\n",
       "</tr>\n",
       "<tr>\n",
       "  <th>Fully_vaccinated</th>      <td>   -0.4145</td> <td>    0.039</td> <td>  -10.733</td> <td> 0.000</td> <td>   -0.490</td> <td>   -0.339</td>\n",
       "</tr>\n",
       "<tr>\n",
       "  <th>Population_density</th>    <td>    0.1063</td> <td>    0.030</td> <td>    3.534</td> <td> 0.000</td> <td>    0.047</td> <td>    0.165</td>\n",
       "</tr>\n",
       "</table>\n",
       "<table class=\"simpletable\">\n",
       "<tr>\n",
       "  <th>Omnibus:</th>       <td> 7.006</td> <th>  Durbin-Watson:     </th> <td>   1.838</td>\n",
       "</tr>\n",
       "<tr>\n",
       "  <th>Prob(Omnibus):</th> <td> 0.030</td> <th>  Jarque-Bera (JB):  </th> <td>   6.889</td>\n",
       "</tr>\n",
       "<tr>\n",
       "  <th>Skew:</th>          <td> 0.316</td> <th>  Prob(JB):          </th> <td>  0.0319</td>\n",
       "</tr>\n",
       "<tr>\n",
       "  <th>Kurtosis:</th>      <td> 3.116</td> <th>  Cond. No.          </th> <td>    27.9</td>\n",
       "</tr>\n",
       "</table><br/><br/>Notes:<br/>[1] Standard Errors assume that the covariance matrix of the errors is correctly specified."
      ],
      "text/plain": [
       "<class 'statsmodels.iolib.summary.Summary'>\n",
       "\"\"\"\n",
       "                            OLS Regression Results                            \n",
       "==============================================================================\n",
       "Dep. Variable:         cases_per_100k   R-squared:                       0.450\n",
       "Model:                            OLS   Adj. R-squared:                  0.432\n",
       "Method:                 Least Squares   F-statistic:                     24.33\n",
       "Date:                Fri, 26 Nov 2021   Prob (F-statistic):           1.25e-42\n",
       "Time:                        11:12:30   Log-Likelihood:                -376.58\n",
       "No. Observations:                 400   AIC:                             781.2\n",
       "Df Residuals:                     386   BIC:                             837.0\n",
       "Df Model:                          13                                         \n",
       "Covariance Type:            nonrobust                                         \n",
       "=========================================================================================\n",
       "                            coef    std err          t      P>|t|      [0.025      0.975]\n",
       "-----------------------------------------------------------------------------------------\n",
       "Intercept                 0.1542      0.044      3.532      0.000       0.068       0.240\n",
       "NO2_annualMean            0.1644      0.066      2.473      0.014       0.034       0.295\n",
       "NO2_hrOver200             0.0819      0.096      0.856      0.392      -0.106       0.270\n",
       "NO_annualMean             0.0659      0.065      1.008      0.314      -0.063       0.194\n",
       "O3_annualMean            -0.0651      0.049     -1.317      0.188      -0.162       0.032\n",
       "O3_daysOver120            0.0700      0.037      1.886      0.060      -0.003       0.143\n",
       "O3_dailyMaxAnnualMean     0.2177      0.051      4.239      0.000       0.117       0.319\n",
       "O3_dailyHourlyMax        -0.0698      0.020     -3.517      0.000      -0.109      -0.031\n",
       "O3_daily8HrMax            0.0361      0.021      1.750      0.081      -0.004       0.077\n",
       "PM10_annualMean           0.0102      0.068      0.151      0.880      -0.123       0.143\n",
       "PM10_daysOver50          -0.0220      0.108     -0.203      0.839      -0.235       0.191\n",
       "PM2_5_annualMean          0.0422      0.017      2.430      0.016       0.008       0.076\n",
       "Fully_vaccinated         -0.4145      0.039    -10.733      0.000      -0.490      -0.339\n",
       "Population_density        0.1063      0.030      3.534      0.000       0.047       0.165\n",
       "==============================================================================\n",
       "Omnibus:                        7.006   Durbin-Watson:                   1.838\n",
       "Prob(Omnibus):                  0.030   Jarque-Bera (JB):                6.889\n",
       "Skew:                           0.316   Prob(JB):                       0.0319\n",
       "Kurtosis:                       3.116   Cond. No.                         27.9\n",
       "==============================================================================\n",
       "\n",
       "Notes:\n",
       "[1] Standard Errors assume that the covariance matrix of the errors is correctly specified.\n",
       "\"\"\""
      ]
     },
     "execution_count": 48,
     "metadata": {},
     "output_type": "execute_result"
    }
   ],
   "source": [
    "model = smf.ols(formula = 'cases_per_100k ~ NO2_annualMean + NO2_hrOver200 + NO_annualMean + O3_annualMean + O3_daysOver120 + O3_dailyMaxAnnualMean + O3_dailyHourlyMax + O3_daily8HrMax + PM10_annualMean + PM10_daysOver50 + PM2_5_annualMean + Fully_vaccinated + Population_density', data = df_covid_AP_2019).fit()\n",
    "model.summary()"
   ]
  },
  {
   "cell_type": "code",
   "execution_count": 49,
   "id": "561f1e40",
   "metadata": {
    "hidden": true
   },
   "outputs": [
    {
     "data": {
      "text/plain": [
       "0.620346365222002"
      ]
     },
     "execution_count": 49,
     "metadata": {},
     "output_type": "execute_result"
    }
   ],
   "source": [
    "RMSE = np.sqrt((model.resid**2).mean())\n",
    "RMSE"
   ]
  },
  {
   "cell_type": "markdown",
   "id": "4b429982",
   "metadata": {},
   "source": [
    "# Feature and target definition"
   ]
  },
  {
   "cell_type": "code",
   "execution_count": 50,
   "id": "dd0558ff",
   "metadata": {},
   "outputs": [],
   "source": [
    "X = df_covid_AP_2019[['NO2_annualMean', 'NO_annualMean', 'O3_annualMean', 'PM10_annualMean','PM2_5_annualMean', 'Fully_vaccinated', 'Population_density']]\n",
    "y_mort = df_covid_AP_2019[['deaths_per_100k']]\n",
    "y_cases = df_covid_AP_2019[['cases_per_100k']]"
   ]
  },
  {
   "cell_type": "markdown",
   "id": "405314fe",
   "metadata": {},
   "source": [
    "# Linear Regression"
   ]
  },
  {
   "cell_type": "code",
   "execution_count": 66,
   "id": "9db07915",
   "metadata": {},
   "outputs": [],
   "source": [
    "from sklearn.linear_model import LinearRegression\n",
    "from sklearn.model_selection import cross_validate"
   ]
  },
  {
   "cell_type": "markdown",
   "id": "fb4d426b",
   "metadata": {},
   "source": [
    "## Deaths per 100k"
   ]
  },
  {
   "cell_type": "code",
   "execution_count": 74,
   "id": "e0a4e434",
   "metadata": {},
   "outputs": [
    {
     "data": {
      "text/html": [
       "<div>\n",
       "<style scoped>\n",
       "    .dataframe tbody tr th:only-of-type {\n",
       "        vertical-align: middle;\n",
       "    }\n",
       "\n",
       "    .dataframe tbody tr th {\n",
       "        vertical-align: top;\n",
       "    }\n",
       "\n",
       "    .dataframe thead th {\n",
       "        text-align: right;\n",
       "    }\n",
       "</style>\n",
       "<table border=\"1\" class=\"dataframe\">\n",
       "  <thead>\n",
       "    <tr style=\"text-align: right;\">\n",
       "      <th></th>\n",
       "      <th>fit_time</th>\n",
       "      <th>score_time</th>\n",
       "      <th>test_max_error</th>\n",
       "      <th>test_r2</th>\n",
       "      <th>test_neg_mean_absolute_error</th>\n",
       "      <th>test_neg_mean_squared_error</th>\n",
       "    </tr>\n",
       "  </thead>\n",
       "  <tbody>\n",
       "    <tr>\n",
       "      <th>0</th>\n",
       "      <td>0.005504</td>\n",
       "      <td>0.011871</td>\n",
       "      <td>-2.016108</td>\n",
       "      <td>0.193436</td>\n",
       "      <td>-0.615593</td>\n",
       "      <td>-0.582070</td>\n",
       "    </tr>\n",
       "    <tr>\n",
       "      <th>1</th>\n",
       "      <td>0.007264</td>\n",
       "      <td>0.010662</td>\n",
       "      <td>-3.683081</td>\n",
       "      <td>0.347386</td>\n",
       "      <td>-0.630179</td>\n",
       "      <td>-0.940507</td>\n",
       "    </tr>\n",
       "    <tr>\n",
       "      <th>2</th>\n",
       "      <td>0.003639</td>\n",
       "      <td>0.008018</td>\n",
       "      <td>-3.570054</td>\n",
       "      <td>0.428807</td>\n",
       "      <td>-0.542697</td>\n",
       "      <td>-0.544238</td>\n",
       "    </tr>\n",
       "    <tr>\n",
       "      <th>3</th>\n",
       "      <td>0.003944</td>\n",
       "      <td>0.006890</td>\n",
       "      <td>-2.812669</td>\n",
       "      <td>0.198450</td>\n",
       "      <td>-0.621295</td>\n",
       "      <td>-0.632235</td>\n",
       "    </tr>\n",
       "    <tr>\n",
       "      <th>4</th>\n",
       "      <td>0.003939</td>\n",
       "      <td>0.007617</td>\n",
       "      <td>-2.583551</td>\n",
       "      <td>0.313479</td>\n",
       "      <td>-0.663370</td>\n",
       "      <td>-0.708411</td>\n",
       "    </tr>\n",
       "  </tbody>\n",
       "</table>\n",
       "</div>"
      ],
      "text/plain": [
       "   fit_time  score_time  test_max_error   test_r2  \\\n",
       "0  0.005504    0.011871       -2.016108  0.193436   \n",
       "1  0.007264    0.010662       -3.683081  0.347386   \n",
       "2  0.003639    0.008018       -3.570054  0.428807   \n",
       "3  0.003944    0.006890       -2.812669  0.198450   \n",
       "4  0.003939    0.007617       -2.583551  0.313479   \n",
       "\n",
       "   test_neg_mean_absolute_error  test_neg_mean_squared_error  \n",
       "0                     -0.615593                    -0.582070  \n",
       "1                     -0.630179                    -0.940507  \n",
       "2                     -0.542697                    -0.544238  \n",
       "3                     -0.621295                    -0.632235  \n",
       "4                     -0.663370                    -0.708411  "
      ]
     },
     "execution_count": 74,
     "metadata": {},
     "output_type": "execute_result"
    }
   ],
   "source": [
    "linreg = LinearRegression()\n",
    "cv_results_death = cross_validate(linreg, X, y_mort, cv=5, \n",
    "                            scoring=['max_error',\n",
    "                                     'r2', \n",
    "                                     'neg_mean_absolute_error',\n",
    "                                     'neg_mean_squared_error'])\n",
    "\n",
    "pd.DataFrame(cv_results_death)"
   ]
  },
  {
   "cell_type": "code",
   "execution_count": 72,
   "id": "58b24d63",
   "metadata": {},
   "outputs": [
    {
     "data": {
      "text/plain": [
       "0.2963115501916264"
      ]
     },
     "execution_count": 72,
     "metadata": {},
     "output_type": "execute_result"
    }
   ],
   "source": [
    "cv_results_death['test_r2'].mean()"
   ]
  },
  {
   "cell_type": "markdown",
   "id": "104df559",
   "metadata": {},
   "source": [
    "## Cases per 100k"
   ]
  },
  {
   "cell_type": "code",
   "execution_count": 73,
   "id": "1987ec16",
   "metadata": {},
   "outputs": [
    {
     "data": {
      "text/plain": [
       "0.31753722560808173"
      ]
     },
     "execution_count": 73,
     "metadata": {},
     "output_type": "execute_result"
    }
   ],
   "source": [
    "linreg = LinearRegression()\n",
    "cv_results_cases = cross_validate(linreg, X, y_cases, cv=5, \n",
    "                            scoring=['max_error',\n",
    "                                     'r2', \n",
    "                                     'neg_mean_absolute_error',\n",
    "                                     'neg_mean_squared_error'])\n",
    "\n",
    "cv_results_cases['test_r2'].mean()"
   ]
  },
  {
   "cell_type": "markdown",
   "id": "9562998f",
   "metadata": {},
   "source": [
    "# KNN"
   ]
  },
  {
   "cell_type": "markdown",
   "id": "7c2ad9bf",
   "metadata": {},
   "source": [
    "## Cases per 100k"
   ]
  },
  {
   "cell_type": "code",
   "execution_count": 54,
   "id": "71c75c9f",
   "metadata": {},
   "outputs": [
    {
     "data": {
      "text/plain": [
       "0.7892056006784937"
      ]
     },
     "execution_count": 54,
     "metadata": {},
     "output_type": "execute_result"
    }
   ],
   "source": [
    "from sklearn.neighbors import KNeighborsRegressor\n",
    "\n",
    "# Instanciate model\n",
    "neigh = KNeighborsRegressor(n_neighbors=2)\n",
    "neigh.fit(X, y_cases)\n",
    "neigh.score(X, y_cases)"
   ]
  },
  {
   "cell_type": "markdown",
   "id": "bcd8aee5",
   "metadata": {
    "heading_collapsed": true
   },
   "source": [
    "## Deaths per 100k"
   ]
  },
  {
   "cell_type": "code",
   "execution_count": 55,
   "id": "812ecd44",
   "metadata": {
    "hidden": true
   },
   "outputs": [
    {
     "data": {
      "text/plain": [
       "0.7309186858567673"
      ]
     },
     "execution_count": 55,
     "metadata": {},
     "output_type": "execute_result"
    }
   ],
   "source": [
    "# Instanciate model\n",
    "neigh = KNeighborsRegressor(n_neighbors=2)\n",
    "neigh.fit(X, y_mort)\n",
    "neigh.score(X, y_mort)"
   ]
  },
  {
   "cell_type": "markdown",
   "id": "66c24622",
   "metadata": {
    "heading_collapsed": true
   },
   "source": [
    "# Radius Neighbors Regressor"
   ]
  },
  {
   "cell_type": "code",
   "execution_count": 56,
   "id": "8dcf61a2",
   "metadata": {
    "hidden": true
   },
   "outputs": [],
   "source": [
    "from sklearn.neighbors import RadiusNeighborsRegressor"
   ]
  },
  {
   "cell_type": "markdown",
   "id": "ddacb591",
   "metadata": {
    "hidden": true
   },
   "source": [
    "## Deaths per 100k"
   ]
  },
  {
   "cell_type": "code",
   "execution_count": 57,
   "id": "f036d5b9",
   "metadata": {
    "hidden": true
   },
   "outputs": [
    {
     "data": {
      "text/plain": [
       "0.7628928774847563"
      ]
     },
     "execution_count": 57,
     "metadata": {},
     "output_type": "execute_result"
    }
   ],
   "source": [
    "RadNeigh = RadiusNeighborsRegressor(radius=1.0).fit(X,y_mort)\n",
    "RadNeigh.score(X,y_mort)"
   ]
  },
  {
   "cell_type": "markdown",
   "id": "9a793650",
   "metadata": {
    "heading_collapsed": true,
    "hidden": true
   },
   "source": [
    "## Cases per 100k"
   ]
  },
  {
   "cell_type": "code",
   "execution_count": 58,
   "id": "24346709",
   "metadata": {
    "hidden": true
   },
   "outputs": [
    {
     "data": {
      "text/plain": [
       "0.755605009604216"
      ]
     },
     "execution_count": 58,
     "metadata": {},
     "output_type": "execute_result"
    }
   ],
   "source": [
    "RadNeigh = RadiusNeighborsRegressor(radius=1.0).fit(X,y_cases)\n",
    "RadNeigh.score(X,y_cases)"
   ]
  },
  {
   "cell_type": "markdown",
   "id": "a76833e3",
   "metadata": {},
   "source": [
    "# Support Vector Regression"
   ]
  },
  {
   "cell_type": "markdown",
   "id": "25931253",
   "metadata": {
    "heading_collapsed": true
   },
   "source": [
    "## deaths per 100k"
   ]
  },
  {
   "cell_type": "code",
   "execution_count": 59,
   "id": "0d33c742",
   "metadata": {
    "hidden": true,
    "scrolled": true
   },
   "outputs": [
    {
     "name": "stderr",
     "output_type": "stream",
     "text": [
      "/home/curi/.pyenv/versions/3.8.12/envs/lung_pollution/lib/python3.8/site-packages/sklearn/utils/validation.py:985: DataConversionWarning: A column-vector y was passed when a 1d array was expected. Please change the shape of y to (n_samples, ), for example using ravel().\n",
      "  y = column_or_1d(y, warn=True)\n"
     ]
    },
    {
     "data": {
      "text/plain": [
       "0.4897788825186674"
      ]
     },
     "execution_count": 59,
     "metadata": {},
     "output_type": "execute_result"
    }
   ],
   "source": [
    "from sklearn.svm import SVR\n",
    "\n",
    "SVR = SVR()\n",
    "SVR.fit(X,y_mort)\n",
    "SVR.score(X,y_mort)\n"
   ]
  },
  {
   "cell_type": "markdown",
   "id": "2e50205f",
   "metadata": {},
   "source": [
    "## cases per 100k"
   ]
  },
  {
   "cell_type": "code",
   "execution_count": 60,
   "id": "eaabe8e7",
   "metadata": {},
   "outputs": [
    {
     "name": "stderr",
     "output_type": "stream",
     "text": [
      "/home/curi/.pyenv/versions/3.8.12/envs/lung_pollution/lib/python3.8/site-packages/sklearn/utils/validation.py:985: DataConversionWarning: A column-vector y was passed when a 1d array was expected. Please change the shape of y to (n_samples, ), for example using ravel().\n",
      "  y = column_or_1d(y, warn=True)\n"
     ]
    },
    {
     "data": {
      "text/plain": [
       "0.5402629328825226"
      ]
     },
     "execution_count": 60,
     "metadata": {},
     "output_type": "execute_result"
    }
   ],
   "source": [
    "from sklearn.svm import SVR\n",
    "\n",
    "# Instanciate model\n",
    "SVR = SVR()\n",
    "SVR.fit(X,y_cases)\n",
    "SVR.score(X,y_cases)"
   ]
  },
  {
   "cell_type": "code",
   "execution_count": null,
   "id": "023f2f5e",
   "metadata": {},
   "outputs": [],
   "source": []
  }
 ],
 "metadata": {
  "kernelspec": {
   "display_name": "Python 3 (ipykernel)",
   "language": "python",
   "name": "python3"
  },
  "language_info": {
   "codemirror_mode": {
    "name": "ipython",
    "version": 3
   },
   "file_extension": ".py",
   "mimetype": "text/x-python",
   "name": "python",
   "nbconvert_exporter": "python",
   "pygments_lexer": "ipython3",
   "version": "3.8.12"
  },
  "toc": {
   "base_numbering": 1,
   "nav_menu": {},
   "number_sections": true,
   "sideBar": true,
   "skip_h1_title": false,
   "title_cell": "Table of Contents",
   "title_sidebar": "Contents",
   "toc_cell": false,
   "toc_position": {},
   "toc_section_display": true,
   "toc_window_display": false
  }
 },
 "nbformat": 4,
 "nbformat_minor": 5
}
