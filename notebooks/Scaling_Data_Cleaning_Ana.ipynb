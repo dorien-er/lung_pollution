{
 "cells": [
  {
   "cell_type": "markdown",
   "id": "ee09d732",
   "metadata": {},
   "source": [
    "# Load the merged dataset"
   ]
  },
  {
   "cell_type": "code",
   "execution_count": 80,
   "id": "a80e4e53",
   "metadata": {},
   "outputs": [],
   "source": [
    "import matplotlib.pyplot as plt"
   ]
  },
  {
   "cell_type": "code",
   "execution_count": 2,
   "id": "901905c3",
   "metadata": {},
   "outputs": [
    {
     "data": {
      "text/plain": [
       "(4000, 22)"
      ]
     },
     "execution_count": 2,
     "metadata": {},
     "output_type": "execute_result"
    }
   ],
   "source": [
    "import pandas as pd\n",
    "\n",
    "data_merged = pd.read_csv('../lung_pollution/data/covid_pollution_clean.csv')\n",
    "\n",
    "data_merged.shape"
   ]
  },
  {
   "cell_type": "code",
   "execution_count": 3,
   "id": "a9f6f48c",
   "metadata": {},
   "outputs": [
    {
     "data": {
      "text/html": [
       "<div>\n",
       "<style scoped>\n",
       "    .dataframe tbody tr th:only-of-type {\n",
       "        vertical-align: middle;\n",
       "    }\n",
       "\n",
       "    .dataframe tbody tr th {\n",
       "        vertical-align: top;\n",
       "    }\n",
       "\n",
       "    .dataframe thead th {\n",
       "        text-align: right;\n",
       "    }\n",
       "</style>\n",
       "<table border=\"1\" class=\"dataframe\">\n",
       "  <thead>\n",
       "    <tr style=\"text-align: right;\">\n",
       "      <th></th>\n",
       "      <th>Unnamed: 0</th>\n",
       "      <th>county</th>\n",
       "      <th>year</th>\n",
       "      <th>NO2_annualMean</th>\n",
       "      <th>NO2_hrOver200</th>\n",
       "      <th>NO_annualMean</th>\n",
       "      <th>O3_annualMean</th>\n",
       "      <th>O3_daysOver120</th>\n",
       "      <th>O3_dailyMaxAnnualMean</th>\n",
       "      <th>O3_dailyHourlyMax</th>\n",
       "      <th>...</th>\n",
       "      <th>PM10_daysOver50</th>\n",
       "      <th>PM2.5_annualMean</th>\n",
       "      <th>BL</th>\n",
       "      <th>EWZ</th>\n",
       "      <th>Shape__Area</th>\n",
       "      <th>death_rate</th>\n",
       "      <th>cases</th>\n",
       "      <th>deaths</th>\n",
       "      <th>cases_per_100k</th>\n",
       "      <th>deaths_per_100k</th>\n",
       "    </tr>\n",
       "  </thead>\n",
       "  <tbody>\n",
       "    <tr>\n",
       "      <th>0</th>\n",
       "      <td>0</td>\n",
       "      <td>Berlin</td>\n",
       "      <td>2010</td>\n",
       "      <td>21.33097</td>\n",
       "      <td>0.0</td>\n",
       "      <td>4.689645</td>\n",
       "      <td>48.14162</td>\n",
       "      <td>1.321674</td>\n",
       "      <td>75.383964</td>\n",
       "      <td>179.320467</td>\n",
       "      <td>...</td>\n",
       "      <td>30.28571</td>\n",
       "      <td>20.56858</td>\n",
       "      <td>Berlin</td>\n",
       "      <td>259169</td>\n",
       "      <td>8.933202e+08</td>\n",
       "      <td>1.591636</td>\n",
       "      <td>242813</td>\n",
       "      <td>3759</td>\n",
       "      <td>6640.688066</td>\n",
       "      <td>103.703091</td>\n",
       "    </tr>\n",
       "    <tr>\n",
       "      <th>1</th>\n",
       "      <td>1</td>\n",
       "      <td>Berlin</td>\n",
       "      <td>2011</td>\n",
       "      <td>21.10792</td>\n",
       "      <td>0.0</td>\n",
       "      <td>5.591758</td>\n",
       "      <td>46.78272</td>\n",
       "      <td>1.405013</td>\n",
       "      <td>75.515257</td>\n",
       "      <td>179.361973</td>\n",
       "      <td>...</td>\n",
       "      <td>25.57143</td>\n",
       "      <td>20.17655</td>\n",
       "      <td>Berlin</td>\n",
       "      <td>259169</td>\n",
       "      <td>8.933202e+08</td>\n",
       "      <td>1.591636</td>\n",
       "      <td>242813</td>\n",
       "      <td>3759</td>\n",
       "      <td>6640.688066</td>\n",
       "      <td>103.703091</td>\n",
       "    </tr>\n",
       "    <tr>\n",
       "      <th>2</th>\n",
       "      <td>2</td>\n",
       "      <td>Berlin</td>\n",
       "      <td>2012</td>\n",
       "      <td>20.65600</td>\n",
       "      <td>0.0</td>\n",
       "      <td>5.372472</td>\n",
       "      <td>45.26885</td>\n",
       "      <td>1.513209</td>\n",
       "      <td>75.685711</td>\n",
       "      <td>179.415858</td>\n",
       "      <td>...</td>\n",
       "      <td>11.00000</td>\n",
       "      <td>17.18541</td>\n",
       "      <td>Berlin</td>\n",
       "      <td>259169</td>\n",
       "      <td>8.933202e+08</td>\n",
       "      <td>1.591636</td>\n",
       "      <td>242813</td>\n",
       "      <td>3759</td>\n",
       "      <td>6640.688066</td>\n",
       "      <td>103.703091</td>\n",
       "    </tr>\n",
       "    <tr>\n",
       "      <th>3</th>\n",
       "      <td>3</td>\n",
       "      <td>Berlin</td>\n",
       "      <td>2013</td>\n",
       "      <td>19.16632</td>\n",
       "      <td>0.0</td>\n",
       "      <td>4.376160</td>\n",
       "      <td>47.91164</td>\n",
       "      <td>0.142857</td>\n",
       "      <td>73.145140</td>\n",
       "      <td>171.855700</td>\n",
       "      <td>...</td>\n",
       "      <td>13.00000</td>\n",
       "      <td>15.83933</td>\n",
       "      <td>Berlin</td>\n",
       "      <td>259169</td>\n",
       "      <td>8.933202e+08</td>\n",
       "      <td>1.591636</td>\n",
       "      <td>242813</td>\n",
       "      <td>3759</td>\n",
       "      <td>6640.688066</td>\n",
       "      <td>103.703091</td>\n",
       "    </tr>\n",
       "    <tr>\n",
       "      <th>4</th>\n",
       "      <td>4</td>\n",
       "      <td>Berlin</td>\n",
       "      <td>2014</td>\n",
       "      <td>20.46666</td>\n",
       "      <td>0.0</td>\n",
       "      <td>15.755060</td>\n",
       "      <td>47.80345</td>\n",
       "      <td>0.000000</td>\n",
       "      <td>71.659810</td>\n",
       "      <td>181.968600</td>\n",
       "      <td>...</td>\n",
       "      <td>22.00000</td>\n",
       "      <td>19.77463</td>\n",
       "      <td>Berlin</td>\n",
       "      <td>259169</td>\n",
       "      <td>8.933202e+08</td>\n",
       "      <td>1.591636</td>\n",
       "      <td>242813</td>\n",
       "      <td>3759</td>\n",
       "      <td>6640.688066</td>\n",
       "      <td>103.703091</td>\n",
       "    </tr>\n",
       "  </tbody>\n",
       "</table>\n",
       "<p>5 rows × 22 columns</p>\n",
       "</div>"
      ],
      "text/plain": [
       "   Unnamed: 0  county  year  NO2_annualMean  NO2_hrOver200  NO_annualMean  \\\n",
       "0           0  Berlin  2010        21.33097            0.0       4.689645   \n",
       "1           1  Berlin  2011        21.10792            0.0       5.591758   \n",
       "2           2  Berlin  2012        20.65600            0.0       5.372472   \n",
       "3           3  Berlin  2013        19.16632            0.0       4.376160   \n",
       "4           4  Berlin  2014        20.46666            0.0      15.755060   \n",
       "\n",
       "   O3_annualMean  O3_daysOver120  O3_dailyMaxAnnualMean  O3_dailyHourlyMax  \\\n",
       "0       48.14162        1.321674              75.383964         179.320467   \n",
       "1       46.78272        1.405013              75.515257         179.361973   \n",
       "2       45.26885        1.513209              75.685711         179.415858   \n",
       "3       47.91164        0.142857              73.145140         171.855700   \n",
       "4       47.80345        0.000000              71.659810         181.968600   \n",
       "\n",
       "   ...  PM10_daysOver50  PM2.5_annualMean      BL     EWZ   Shape__Area  \\\n",
       "0  ...         30.28571          20.56858  Berlin  259169  8.933202e+08   \n",
       "1  ...         25.57143          20.17655  Berlin  259169  8.933202e+08   \n",
       "2  ...         11.00000          17.18541  Berlin  259169  8.933202e+08   \n",
       "3  ...         13.00000          15.83933  Berlin  259169  8.933202e+08   \n",
       "4  ...         22.00000          19.77463  Berlin  259169  8.933202e+08   \n",
       "\n",
       "   death_rate   cases  deaths  cases_per_100k  deaths_per_100k  \n",
       "0    1.591636  242813    3759     6640.688066       103.703091  \n",
       "1    1.591636  242813    3759     6640.688066       103.703091  \n",
       "2    1.591636  242813    3759     6640.688066       103.703091  \n",
       "3    1.591636  242813    3759     6640.688066       103.703091  \n",
       "4    1.591636  242813    3759     6640.688066       103.703091  \n",
       "\n",
       "[5 rows x 22 columns]"
      ]
     },
     "execution_count": 3,
     "metadata": {},
     "output_type": "execute_result"
    }
   ],
   "source": [
    "data_merged.head()"
   ]
  },
  {
   "cell_type": "markdown",
   "id": "18c3639d",
   "metadata": {},
   "source": [
    "There are no nulls in the data"
   ]
  },
  {
   "cell_type": "code",
   "execution_count": 75,
   "id": "4e61d784",
   "metadata": {},
   "outputs": [],
   "source": [
    "data_merged = data_merged.rename(columns={'PM2.5_annualMean': 'PM2_5_annualMean'})"
   ]
  },
  {
   "cell_type": "markdown",
   "id": "adadb5ca",
   "metadata": {},
   "source": [
    "# Detecting Outliers"
   ]
  },
  {
   "cell_type": "markdown",
   "id": "a68fbab5",
   "metadata": {},
   "source": [
    "## NO2 Annual Mean"
   ]
  },
  {
   "cell_type": "code",
   "execution_count": 10,
   "id": "6025ec37",
   "metadata": {
    "scrolled": true
   },
   "outputs": [
    {
     "data": {
      "text/plain": [
       "<AxesSubplot:>"
      ]
     },
     "execution_count": 10,
     "metadata": {},
     "output_type": "execute_result"
    },
    {
     "data": {
      "image/png": "[encoded data removed]",
      "text/plain": [
       "<Figure size 432x288 with 1 Axes>"
      ]
     },
     "metadata": {
      "needs_background": "light"
     },
     "output_type": "display_data"
    }
   ],
   "source": [
    "data_merged[['NO2_annualMean']].boxplot()"
   ]
  },
  {
   "cell_type": "markdown",
   "id": "cf2e5df2",
   "metadata": {},
   "source": [
    "I wouldn't do anything about it, since these values are possible in the reality"
   ]
  },
  {
   "cell_type": "code",
   "execution_count": 83,
   "id": "ce6dc83e",
   "metadata": {},
   "outputs": [
    {
     "data": {
      "image/png": "[encoded data removed]",
      "text/plain": [
       "<Figure size 432x288 with 1 Axes>"
      ]
     },
     "metadata": {
      "needs_background": "light"
     },
     "output_type": "display_data"
    }
   ],
   "source": [
    "plt.hist(data_merged['NO2_annualMean']);"
   ]
  },
  {
   "cell_type": "markdown",
   "id": "e882c6c9",
   "metadata": {},
   "source": [
    "## NO2: hours over 200"
   ]
  },
  {
   "cell_type": "code",
   "execution_count": 23,
   "id": "93ae8b5b",
   "metadata": {},
   "outputs": [
    {
     "name": "stdout",
     "output_type": "stream",
     "text": [
      "0.0\n",
      "2.0\n",
      "0.009051628605752872\n"
     ]
    }
   ],
   "source": [
    "print(data_merged.NO2_hrOver200.unique().min())\n",
    "print(data_merged.NO2_hrOver200.unique().max())\n",
    "print(data_merged.NO2_hrOver200.unique().mean())"
   ]
  },
  {
   "cell_type": "code",
   "execution_count": 84,
   "id": "407c8ca2",
   "metadata": {},
   "outputs": [
    {
     "data": {
      "image/png": "[encoded data removed]",
      "text/plain": [
       "<Figure size 432x288 with 1 Axes>"
      ]
     },
     "metadata": {
      "needs_background": "light"
     },
     "output_type": "display_data"
    }
   ],
   "source": [
    "plt.hist(data_merged['NO2_hrOver200']);"
   ]
  },
  {
   "cell_type": "markdown",
   "id": "9f8100b2",
   "metadata": {},
   "source": [
    "## NO_annualMean"
   ]
  },
  {
   "cell_type": "code",
   "execution_count": 25,
   "id": "d260dde1",
   "metadata": {},
   "outputs": [
    {
     "data": {
      "text/plain": [
       "<AxesSubplot:>"
      ]
     },
     "execution_count": 25,
     "metadata": {},
     "output_type": "execute_result"
    },
    {
     "data": {
      "image/png": "[encoded data removed]",
      "text/plain": [
       "<Figure size 432x288 with 1 Axes>"
      ]
     },
     "metadata": {
      "needs_background": "light"
     },
     "output_type": "display_data"
    }
   ],
   "source": [
    "data_merged[['NO_annualMean']].boxplot()"
   ]
  },
  {
   "cell_type": "code",
   "execution_count": 85,
   "id": "af8dc485",
   "metadata": {},
   "outputs": [
    {
     "data": {
      "image/png": "[encoded data removed]",
      "text/plain": [
       "<Figure size 432x288 with 1 Axes>"
      ]
     },
     "metadata": {
      "needs_background": "light"
     },
     "output_type": "display_data"
    }
   ],
   "source": [
    "plt.hist(data_merged['NO_annualMean']);"
   ]
  },
  {
   "cell_type": "code",
   "execution_count": 27,
   "id": "3a83a06c",
   "metadata": {},
   "outputs": [
    {
     "data": {
      "text/plain": [
       "62.09627"
      ]
     },
     "execution_count": 27,
     "metadata": {},
     "output_type": "execute_result"
    }
   ],
   "source": [
    "data_merged.NO_annualMean.max()"
   ]
  },
  {
   "cell_type": "code",
   "execution_count": 74,
   "id": "3b91f48e",
   "metadata": {},
   "outputs": [
    {
     "data": {
      "text/html": [
       "<div>\n",
       "<style scoped>\n",
       "    .dataframe tbody tr th:only-of-type {\n",
       "        vertical-align: middle;\n",
       "    }\n",
       "\n",
       "    .dataframe tbody tr th {\n",
       "        vertical-align: top;\n",
       "    }\n",
       "\n",
       "    .dataframe thead th {\n",
       "        text-align: right;\n",
       "    }\n",
       "</style>\n",
       "<table border=\"1\" class=\"dataframe\">\n",
       "  <thead>\n",
       "    <tr style=\"text-align: right;\">\n",
       "      <th></th>\n",
       "      <th>Unnamed: 0</th>\n",
       "      <th>county</th>\n",
       "      <th>year</th>\n",
       "      <th>NO2_annualMean</th>\n",
       "      <th>NO2_hrOver200</th>\n",
       "      <th>NO_annualMean</th>\n",
       "      <th>O3_annualMean</th>\n",
       "      <th>O3_daysOver120</th>\n",
       "      <th>O3_dailyMaxAnnualMean</th>\n",
       "      <th>O3_dailyHourlyMax</th>\n",
       "      <th>...</th>\n",
       "      <th>PM10_daysOver50</th>\n",
       "      <th>PM2.5_annualMean</th>\n",
       "      <th>BL</th>\n",
       "      <th>EWZ</th>\n",
       "      <th>Shape__Area</th>\n",
       "      <th>death_rate</th>\n",
       "      <th>cases</th>\n",
       "      <th>deaths</th>\n",
       "      <th>cases_per_100k</th>\n",
       "      <th>deaths_per_100k</th>\n",
       "    </tr>\n",
       "  </thead>\n",
       "  <tbody>\n",
       "    <tr>\n",
       "      <th>2389</th>\n",
       "      <td>2389</td>\n",
       "      <td>LK Siegen-Wittgenstein</td>\n",
       "      <td>2019</td>\n",
       "      <td>4.056616</td>\n",
       "      <td>0.0</td>\n",
       "      <td>-0.945949</td>\n",
       "      <td>69.115190</td>\n",
       "      <td>17.000000</td>\n",
       "      <td>85.480130</td>\n",
       "      <td>201.974000</td>\n",
       "      <td>...</td>\n",
       "      <td>1.000000</td>\n",
       "      <td>12.275886</td>\n",
       "      <td>Nordrhein-Westfalen</td>\n",
       "      <td>275491</td>\n",
       "      <td>1.133230e+09</td>\n",
       "      <td>1.226839</td>\n",
       "      <td>15813</td>\n",
       "      <td>194</td>\n",
       "      <td>5739.933428</td>\n",
       "      <td>70.419723</td>\n",
       "    </tr>\n",
       "    <tr>\n",
       "      <th>2381</th>\n",
       "      <td>2381</td>\n",
       "      <td>LK Siegen-Wittgenstein</td>\n",
       "      <td>2011</td>\n",
       "      <td>4.721723</td>\n",
       "      <td>0.0</td>\n",
       "      <td>-0.048492</td>\n",
       "      <td>61.474710</td>\n",
       "      <td>0.688322</td>\n",
       "      <td>74.386172</td>\n",
       "      <td>179.005037</td>\n",
       "      <td>...</td>\n",
       "      <td>0.000000</td>\n",
       "      <td>13.299298</td>\n",
       "      <td>Nordrhein-Westfalen</td>\n",
       "      <td>275491</td>\n",
       "      <td>1.133230e+09</td>\n",
       "      <td>1.226839</td>\n",
       "      <td>15813</td>\n",
       "      <td>194</td>\n",
       "      <td>5739.933428</td>\n",
       "      <td>70.419723</td>\n",
       "    </tr>\n",
       "    <tr>\n",
       "      <th>2380</th>\n",
       "      <td>2380</td>\n",
       "      <td>LK Siegen-Wittgenstein</td>\n",
       "      <td>2010</td>\n",
       "      <td>5.249165</td>\n",
       "      <td>0.0</td>\n",
       "      <td>0.004320</td>\n",
       "      <td>63.525510</td>\n",
       "      <td>0.668655</td>\n",
       "      <td>74.355187</td>\n",
       "      <td>178.995242</td>\n",
       "      <td>...</td>\n",
       "      <td>0.000000</td>\n",
       "      <td>13.269376</td>\n",
       "      <td>Nordrhein-Westfalen</td>\n",
       "      <td>275491</td>\n",
       "      <td>1.133230e+09</td>\n",
       "      <td>1.226839</td>\n",
       "      <td>15813</td>\n",
       "      <td>194</td>\n",
       "      <td>5739.933428</td>\n",
       "      <td>70.419723</td>\n",
       "    </tr>\n",
       "    <tr>\n",
       "      <th>323</th>\n",
       "      <td>323</td>\n",
       "      <td>LK Breisgau-Hochschwarzwald</td>\n",
       "      <td>2013</td>\n",
       "      <td>2.516423</td>\n",
       "      <td>0.0</td>\n",
       "      <td>0.301613</td>\n",
       "      <td>68.855390</td>\n",
       "      <td>17.000000</td>\n",
       "      <td>89.523750</td>\n",
       "      <td>186.266700</td>\n",
       "      <td>...</td>\n",
       "      <td>3.666667</td>\n",
       "      <td>6.578736</td>\n",
       "      <td>Baden-Württemberg</td>\n",
       "      <td>264867</td>\n",
       "      <td>1.376032e+09</td>\n",
       "      <td>1.643115</td>\n",
       "      <td>12172</td>\n",
       "      <td>200</td>\n",
       "      <td>4595.513975</td>\n",
       "      <td>75.509595</td>\n",
       "    </tr>\n",
       "    <tr>\n",
       "      <th>1750</th>\n",
       "      <td>1750</td>\n",
       "      <td>LK Oberhavel</td>\n",
       "      <td>2010</td>\n",
       "      <td>5.278123</td>\n",
       "      <td>0.0</td>\n",
       "      <td>0.318192</td>\n",
       "      <td>56.115360</td>\n",
       "      <td>1.430661</td>\n",
       "      <td>75.555663</td>\n",
       "      <td>179.374746</td>\n",
       "      <td>...</td>\n",
       "      <td>11.000000</td>\n",
       "      <td>11.496330</td>\n",
       "      <td>Brandenburg</td>\n",
       "      <td>214234</td>\n",
       "      <td>1.810087e+09</td>\n",
       "      <td>2.957864</td>\n",
       "      <td>10751</td>\n",
       "      <td>318</td>\n",
       "      <td>5018.344427</td>\n",
       "      <td>148.435823</td>\n",
       "    </tr>\n",
       "    <tr>\n",
       "      <th>...</th>\n",
       "      <td>...</td>\n",
       "      <td>...</td>\n",
       "      <td>...</td>\n",
       "      <td>...</td>\n",
       "      <td>...</td>\n",
       "      <td>...</td>\n",
       "      <td>...</td>\n",
       "      <td>...</td>\n",
       "      <td>...</td>\n",
       "      <td>...</td>\n",
       "      <td>...</td>\n",
       "      <td>...</td>\n",
       "      <td>...</td>\n",
       "      <td>...</td>\n",
       "      <td>...</td>\n",
       "      <td>...</td>\n",
       "      <td>...</td>\n",
       "      <td>...</td>\n",
       "      <td>...</td>\n",
       "      <td>...</td>\n",
       "      <td>...</td>\n",
       "    </tr>\n",
       "    <tr>\n",
       "      <th>3297</th>\n",
       "      <td>3297</td>\n",
       "      <td>SK Gelsenkirchen</td>\n",
       "      <td>2017</td>\n",
       "      <td>29.549040</td>\n",
       "      <td>0.0</td>\n",
       "      <td>50.813440</td>\n",
       "      <td>50.076474</td>\n",
       "      <td>1.295424</td>\n",
       "      <td>75.342609</td>\n",
       "      <td>179.307394</td>\n",
       "      <td>...</td>\n",
       "      <td>5.000000</td>\n",
       "      <td>17.951330</td>\n",
       "      <td>Nordrhein-Westfalen</td>\n",
       "      <td>259105</td>\n",
       "      <td>1.052658e+08</td>\n",
       "      <td>2.208835</td>\n",
       "      <td>19920</td>\n",
       "      <td>440</td>\n",
       "      <td>7688.002933</td>\n",
       "      <td>169.815326</td>\n",
       "    </tr>\n",
       "    <tr>\n",
       "      <th>3295</th>\n",
       "      <td>3295</td>\n",
       "      <td>SK Gelsenkirchen</td>\n",
       "      <td>2015</td>\n",
       "      <td>29.613750</td>\n",
       "      <td>0.0</td>\n",
       "      <td>51.794220</td>\n",
       "      <td>49.822400</td>\n",
       "      <td>1.191779</td>\n",
       "      <td>75.179324</td>\n",
       "      <td>179.255775</td>\n",
       "      <td>...</td>\n",
       "      <td>7.000000</td>\n",
       "      <td>16.580440</td>\n",
       "      <td>Nordrhein-Westfalen</td>\n",
       "      <td>259105</td>\n",
       "      <td>1.052658e+08</td>\n",
       "      <td>2.208835</td>\n",
       "      <td>19920</td>\n",
       "      <td>440</td>\n",
       "      <td>7688.002933</td>\n",
       "      <td>169.815326</td>\n",
       "    </tr>\n",
       "    <tr>\n",
       "      <th>3294</th>\n",
       "      <td>3294</td>\n",
       "      <td>SK Gelsenkirchen</td>\n",
       "      <td>2014</td>\n",
       "      <td>29.900460</td>\n",
       "      <td>0.0</td>\n",
       "      <td>54.724420</td>\n",
       "      <td>49.479214</td>\n",
       "      <td>1.051781</td>\n",
       "      <td>74.958771</td>\n",
       "      <td>179.186052</td>\n",
       "      <td>...</td>\n",
       "      <td>5.000000</td>\n",
       "      <td>18.084380</td>\n",
       "      <td>Nordrhein-Westfalen</td>\n",
       "      <td>259105</td>\n",
       "      <td>1.052658e+08</td>\n",
       "      <td>2.208835</td>\n",
       "      <td>19920</td>\n",
       "      <td>440</td>\n",
       "      <td>7688.002933</td>\n",
       "      <td>169.815326</td>\n",
       "    </tr>\n",
       "    <tr>\n",
       "      <th>3298</th>\n",
       "      <td>3298</td>\n",
       "      <td>SK Gelsenkirchen</td>\n",
       "      <td>2018</td>\n",
       "      <td>28.866170</td>\n",
       "      <td>0.0</td>\n",
       "      <td>58.366340</td>\n",
       "      <td>50.860955</td>\n",
       "      <td>1.615440</td>\n",
       "      <td>75.846766</td>\n",
       "      <td>179.466772</td>\n",
       "      <td>...</td>\n",
       "      <td>4.000000</td>\n",
       "      <td>18.190020</td>\n",
       "      <td>Nordrhein-Westfalen</td>\n",
       "      <td>259105</td>\n",
       "      <td>1.052658e+08</td>\n",
       "      <td>2.208835</td>\n",
       "      <td>19920</td>\n",
       "      <td>440</td>\n",
       "      <td>7688.002933</td>\n",
       "      <td>169.815326</td>\n",
       "    </tr>\n",
       "    <tr>\n",
       "      <th>3296</th>\n",
       "      <td>3296</td>\n",
       "      <td>SK Gelsenkirchen</td>\n",
       "      <td>2016</td>\n",
       "      <td>30.466780</td>\n",
       "      <td>0.0</td>\n",
       "      <td>62.096270</td>\n",
       "      <td>49.509021</td>\n",
       "      <td>1.063941</td>\n",
       "      <td>74.977927</td>\n",
       "      <td>179.192107</td>\n",
       "      <td>...</td>\n",
       "      <td>5.000000</td>\n",
       "      <td>16.599540</td>\n",
       "      <td>Nordrhein-Westfalen</td>\n",
       "      <td>259105</td>\n",
       "      <td>1.052658e+08</td>\n",
       "      <td>2.208835</td>\n",
       "      <td>19920</td>\n",
       "      <td>440</td>\n",
       "      <td>7688.002933</td>\n",
       "      <td>169.815326</td>\n",
       "    </tr>\n",
       "  </tbody>\n",
       "</table>\n",
       "<p>4000 rows × 22 columns</p>\n",
       "</div>"
      ],
      "text/plain": [
       "      Unnamed: 0                       county  year  NO2_annualMean  \\\n",
       "2389        2389       LK Siegen-Wittgenstein  2019        4.056616   \n",
       "2381        2381       LK Siegen-Wittgenstein  2011        4.721723   \n",
       "2380        2380       LK Siegen-Wittgenstein  2010        5.249165   \n",
       "323          323  LK Breisgau-Hochschwarzwald  2013        2.516423   \n",
       "1750        1750                 LK Oberhavel  2010        5.278123   \n",
       "...          ...                          ...   ...             ...   \n",
       "3297        3297             SK Gelsenkirchen  2017       29.549040   \n",
       "3295        3295             SK Gelsenkirchen  2015       29.613750   \n",
       "3294        3294             SK Gelsenkirchen  2014       29.900460   \n",
       "3298        3298             SK Gelsenkirchen  2018       28.866170   \n",
       "3296        3296             SK Gelsenkirchen  2016       30.466780   \n",
       "\n",
       "      NO2_hrOver200  NO_annualMean  O3_annualMean  O3_daysOver120  \\\n",
       "2389            0.0      -0.945949      69.115190       17.000000   \n",
       "2381            0.0      -0.048492      61.474710        0.688322   \n",
       "2380            0.0       0.004320      63.525510        0.668655   \n",
       "323             0.0       0.301613      68.855390       17.000000   \n",
       "1750            0.0       0.318192      56.115360        1.430661   \n",
       "...             ...            ...            ...             ...   \n",
       "3297            0.0      50.813440      50.076474        1.295424   \n",
       "3295            0.0      51.794220      49.822400        1.191779   \n",
       "3294            0.0      54.724420      49.479214        1.051781   \n",
       "3298            0.0      58.366340      50.860955        1.615440   \n",
       "3296            0.0      62.096270      49.509021        1.063941   \n",
       "\n",
       "      O3_dailyMaxAnnualMean  O3_dailyHourlyMax  ...  PM10_daysOver50  \\\n",
       "2389              85.480130         201.974000  ...         1.000000   \n",
       "2381              74.386172         179.005037  ...         0.000000   \n",
       "2380              74.355187         178.995242  ...         0.000000   \n",
       "323               89.523750         186.266700  ...         3.666667   \n",
       "1750              75.555663         179.374746  ...        11.000000   \n",
       "...                     ...                ...  ...              ...   \n",
       "3297              75.342609         179.307394  ...         5.000000   \n",
       "3295              75.179324         179.255775  ...         7.000000   \n",
       "3294              74.958771         179.186052  ...         5.000000   \n",
       "3298              75.846766         179.466772  ...         4.000000   \n",
       "3296              74.977927         179.192107  ...         5.000000   \n",
       "\n",
       "      PM2.5_annualMean                   BL     EWZ   Shape__Area  death_rate  \\\n",
       "2389         12.275886  Nordrhein-Westfalen  275491  1.133230e+09    1.226839   \n",
       "2381         13.299298  Nordrhein-Westfalen  275491  1.133230e+09    1.226839   \n",
       "2380         13.269376  Nordrhein-Westfalen  275491  1.133230e+09    1.226839   \n",
       "323           6.578736    Baden-Württemberg  264867  1.376032e+09    1.643115   \n",
       "1750         11.496330          Brandenburg  214234  1.810087e+09    2.957864   \n",
       "...                ...                  ...     ...           ...         ...   \n",
       "3297         17.951330  Nordrhein-Westfalen  259105  1.052658e+08    2.208835   \n",
       "3295         16.580440  Nordrhein-Westfalen  259105  1.052658e+08    2.208835   \n",
       "3294         18.084380  Nordrhein-Westfalen  259105  1.052658e+08    2.208835   \n",
       "3298         18.190020  Nordrhein-Westfalen  259105  1.052658e+08    2.208835   \n",
       "3296         16.599540  Nordrhein-Westfalen  259105  1.052658e+08    2.208835   \n",
       "\n",
       "      cases  deaths  cases_per_100k  deaths_per_100k  \n",
       "2389  15813     194     5739.933428        70.419723  \n",
       "2381  15813     194     5739.933428        70.419723  \n",
       "2380  15813     194     5739.933428        70.419723  \n",
       "323   12172     200     4595.513975        75.509595  \n",
       "1750  10751     318     5018.344427       148.435823  \n",
       "...     ...     ...             ...              ...  \n",
       "3297  19920     440     7688.002933       169.815326  \n",
       "3295  19920     440     7688.002933       169.815326  \n",
       "3294  19920     440     7688.002933       169.815326  \n",
       "3298  19920     440     7688.002933       169.815326  \n",
       "3296  19920     440     7688.002933       169.815326  \n",
       "\n",
       "[4000 rows x 22 columns]"
      ]
     },
     "execution_count": 74,
     "metadata": {},
     "output_type": "execute_result"
    }
   ],
   "source": [
    "data_merged.sort_values(by=['NO_annualMean'], ascending=True)"
   ]
  },
  {
   "cell_type": "code",
   "execution_count": 26,
   "id": "1c6ce909",
   "metadata": {},
   "outputs": [
    {
     "data": {
      "text/plain": [
       "-0.9459491"
      ]
     },
     "execution_count": 26,
     "metadata": {},
     "output_type": "execute_result"
    }
   ],
   "source": [
    "data_merged.NO_annualMean.min()"
   ]
  },
  {
   "cell_type": "markdown",
   "id": "b70b6a47",
   "metadata": {},
   "source": [
    "!!!! Data to look further into"
   ]
  },
  {
   "cell_type": "code",
   "execution_count": 78,
   "id": "1b14d7c5",
   "metadata": {},
   "outputs": [],
   "source": [
    "data_merged['NO_annualMean'] = data_merged['NO_annualMean'].apply(lambda x : x if x > 0 else 0)"
   ]
  },
  {
   "cell_type": "code",
   "execution_count": 79,
   "id": "8e91a92a",
   "metadata": {},
   "outputs": [
    {
     "data": {
      "text/plain": [
       "0.0"
      ]
     },
     "execution_count": 79,
     "metadata": {},
     "output_type": "execute_result"
    }
   ],
   "source": [
    "data_merged.NO_annualMean.min()"
   ]
  },
  {
   "cell_type": "markdown",
   "id": "ce001435",
   "metadata": {},
   "source": [
    "## O3 annual Mean"
   ]
  },
  {
   "cell_type": "code",
   "execution_count": 29,
   "id": "394d5f18",
   "metadata": {},
   "outputs": [
    {
     "data": {
      "text/plain": [
       "<AxesSubplot:>"
      ]
     },
     "execution_count": 29,
     "metadata": {},
     "output_type": "execute_result"
    },
    {
     "data": {
      "image/png": "[encoded data removed]",
      "text/plain": [
       "<Figure size 432x288 with 1 Axes>"
      ]
     },
     "metadata": {
      "needs_background": "light"
     },
     "output_type": "display_data"
    }
   ],
   "source": [
    "data_merged[['O3_annualMean']].boxplot()"
   ]
  },
  {
   "cell_type": "code",
   "execution_count": 32,
   "id": "cae8878b",
   "metadata": {},
   "outputs": [
    {
     "name": "stdout",
     "output_type": "stream",
     "text": [
      "24.68885\n",
      "83.99883\n"
     ]
    }
   ],
   "source": [
    "print(data_merged.O3_annualMean.min())\n",
    "print(data_merged.O3_annualMean.max())"
   ]
  },
  {
   "cell_type": "code",
   "execution_count": 86,
   "id": "6967a49f",
   "metadata": {},
   "outputs": [
    {
     "data": {
      "image/png": "[encoded data removed]",
      "text/plain": [
       "<Figure size 432x288 with 1 Axes>"
      ]
     },
     "metadata": {
      "needs_background": "light"
     },
     "output_type": "display_data"
    }
   ],
   "source": [
    "plt.hist(data_merged['O3_annualMean']);"
   ]
  },
  {
   "cell_type": "markdown",
   "id": "967e23c9",
   "metadata": {},
   "source": [
    "## O3 daysOver120"
   ]
  },
  {
   "cell_type": "code",
   "execution_count": 35,
   "id": "f22fc624",
   "metadata": {},
   "outputs": [
    {
     "data": {
      "text/plain": [
       "<AxesSubplot:>"
      ]
     },
     "execution_count": 35,
     "metadata": {},
     "output_type": "execute_result"
    },
    {
     "data": {
      "image/png": "[encoded data removed]",
      "text/plain": [
       "<Figure size 432x288 with 1 Axes>"
      ]
     },
     "metadata": {
      "needs_background": "light"
     },
     "output_type": "display_data"
    }
   ],
   "source": [
    "data_merged[['O3_daysOver120']].boxplot()"
   ]
  },
  {
   "cell_type": "code",
   "execution_count": 36,
   "id": "1810fb79",
   "metadata": {},
   "outputs": [
    {
     "name": "stdout",
     "output_type": "stream",
     "text": [
      "0.0\n",
      "45.0\n"
     ]
    }
   ],
   "source": [
    "print(data_merged.O3_daysOver120.min())\n",
    "print(data_merged.O3_daysOver120.max())"
   ]
  },
  {
   "cell_type": "code",
   "execution_count": 87,
   "id": "1f1fea85",
   "metadata": {},
   "outputs": [
    {
     "data": {
      "image/png": "[encoded data removed]",
      "text/plain": [
       "<Figure size 432x288 with 1 Axes>"
      ]
     },
     "metadata": {
      "needs_background": "light"
     },
     "output_type": "display_data"
    }
   ],
   "source": [
    "plt.hist(data_merged['O3_daysOver120']);"
   ]
  },
  {
   "cell_type": "markdown",
   "id": "4adea9a9",
   "metadata": {},
   "source": [
    "## O3 dailyMaxAnnualMean"
   ]
  },
  {
   "cell_type": "code",
   "execution_count": 37,
   "id": "cb2632be",
   "metadata": {},
   "outputs": [
    {
     "data": {
      "text/plain": [
       "<AxesSubplot:>"
      ]
     },
     "execution_count": 37,
     "metadata": {},
     "output_type": "execute_result"
    },
    {
     "data": {
      "image/png": "[encoded data removed]",
      "text/plain": [
       "<Figure size 432x288 with 1 Axes>"
      ]
     },
     "metadata": {
      "needs_background": "light"
     },
     "output_type": "display_data"
    }
   ],
   "source": [
    "data_merged[['O3_dailyMaxAnnualMean']].boxplot()"
   ]
  },
  {
   "cell_type": "code",
   "execution_count": 38,
   "id": "aab3c122",
   "metadata": {
    "scrolled": true
   },
   "outputs": [
    {
     "name": "stdout",
     "output_type": "stream",
     "text": [
      "53.9256\n",
      "100.2454\n"
     ]
    }
   ],
   "source": [
    "print(data_merged.O3_dailyMaxAnnualMean.min())\n",
    "print(data_merged.O3_dailyMaxAnnualMean.max())"
   ]
  },
  {
   "cell_type": "code",
   "execution_count": 88,
   "id": "d0369224",
   "metadata": {},
   "outputs": [
    {
     "data": {
      "image/png": "[encoded data removed]",
      "text/plain": [
       "<Figure size 432x288 with 1 Axes>"
      ]
     },
     "metadata": {
      "needs_background": "light"
     },
     "output_type": "display_data"
    }
   ],
   "source": [
    "plt.hist(data_merged['O3_dailyMaxAnnualMean']);"
   ]
  },
  {
   "cell_type": "markdown",
   "id": "4acff111",
   "metadata": {},
   "source": [
    "## O3 dailyHourlyMax"
   ]
  },
  {
   "cell_type": "code",
   "execution_count": 40,
   "id": "7c1d1fbd",
   "metadata": {},
   "outputs": [
    {
     "data": {
      "text/plain": [
       "<AxesSubplot:>"
      ]
     },
     "execution_count": 40,
     "metadata": {},
     "output_type": "execute_result"
    },
    {
     "data": {
      "image/png": "[encoded data removed]",
      "text/plain": [
       "<Figure size 432x288 with 1 Axes>"
      ]
     },
     "metadata": {
      "needs_background": "light"
     },
     "output_type": "display_data"
    }
   ],
   "source": [
    "data_merged[['O3_dailyHourlyMax']].boxplot()"
   ]
  },
  {
   "cell_type": "code",
   "execution_count": 41,
   "id": "cea87e25",
   "metadata": {
    "scrolled": true
   },
   "outputs": [
    {
     "name": "stdout",
     "output_type": "stream",
     "text": [
      "76.08353\n",
      "313.6\n"
     ]
    }
   ],
   "source": [
    "print(data_merged.O3_dailyHourlyMax.min())\n",
    "print(data_merged.O3_dailyHourlyMax.max())"
   ]
  },
  {
   "cell_type": "code",
   "execution_count": 89,
   "id": "26b2c4c2",
   "metadata": {},
   "outputs": [
    {
     "data": {
      "image/png": "[encoded data removed]",
      "text/plain": [
       "<Figure size 432x288 with 1 Axes>"
      ]
     },
     "metadata": {
      "needs_background": "light"
     },
     "output_type": "display_data"
    }
   ],
   "source": [
    "plt.hist(data_merged['O3_dailyHourlyMax']);"
   ]
  },
  {
   "cell_type": "markdown",
   "id": "3b4e043e",
   "metadata": {},
   "source": [
    "## PM10 annual Mean"
   ]
  },
  {
   "cell_type": "code",
   "execution_count": 48,
   "id": "8dc6249a",
   "metadata": {},
   "outputs": [
    {
     "data": {
      "text/plain": [
       "<AxesSubplot:>"
      ]
     },
     "execution_count": 48,
     "metadata": {},
     "output_type": "execute_result"
    },
    {
     "data": {
      "image/png": "[encoded data removed]",
      "text/plain": [
       "<Figure size 432x288 with 1 Axes>"
      ]
     },
     "metadata": {
      "needs_background": "light"
     },
     "output_type": "display_data"
    }
   ],
   "source": [
    "data_merged[['PM10_annualMean']].boxplot()"
   ]
  },
  {
   "cell_type": "code",
   "execution_count": 49,
   "id": "4d8d5b94",
   "metadata": {
    "scrolled": true
   },
   "outputs": [
    {
     "name": "stdout",
     "output_type": "stream",
     "text": [
      "4.169562\n",
      "29.80406\n"
     ]
    }
   ],
   "source": [
    "print(data_merged.PM10_annualMean.min())\n",
    "print(data_merged.PM10_annualMean.max())"
   ]
  },
  {
   "cell_type": "code",
   "execution_count": 90,
   "id": "19aedcf4",
   "metadata": {},
   "outputs": [
    {
     "data": {
      "image/png": "[encoded data removed]",
      "text/plain": [
       "<Figure size 432x288 with 1 Axes>"
      ]
     },
     "metadata": {
      "needs_background": "light"
     },
     "output_type": "display_data"
    }
   ],
   "source": [
    "plt.hist(data_merged['PM10_annualMean']);"
   ]
  },
  {
   "cell_type": "markdown",
   "id": "544b4bdf",
   "metadata": {},
   "source": [
    "## PM10 days Over 50"
   ]
  },
  {
   "cell_type": "code",
   "execution_count": 44,
   "id": "c62d24dc",
   "metadata": {},
   "outputs": [
    {
     "data": {
      "text/plain": [
       "<AxesSubplot:>"
      ]
     },
     "execution_count": 44,
     "metadata": {},
     "output_type": "execute_result"
    },
    {
     "data": {
      "image/png": "[encoded data removed]",
      "text/plain": [
       "<Figure size 432x288 with 1 Axes>"
      ]
     },
     "metadata": {
      "needs_background": "light"
     },
     "output_type": "display_data"
    }
   ],
   "source": [
    "data_merged[['PM10_daysOver50']].boxplot()"
   ]
  },
  {
   "cell_type": "code",
   "execution_count": 45,
   "id": "3d98ae85",
   "metadata": {
    "scrolled": true
   },
   "outputs": [
    {
     "name": "stdout",
     "output_type": "stream",
     "text": [
      "0.0\n",
      "45.0\n"
     ]
    }
   ],
   "source": [
    "print(data_merged.PM10_daysOver50.min())\n",
    "print(data_merged.PM10_daysOver50.max())"
   ]
  },
  {
   "cell_type": "code",
   "execution_count": 91,
   "id": "56bba01e",
   "metadata": {},
   "outputs": [
    {
     "data": {
      "image/png": "[encoded data removed]",
      "text/plain": [
       "<Figure size 432x288 with 1 Axes>"
      ]
     },
     "metadata": {
      "needs_background": "light"
     },
     "output_type": "display_data"
    }
   ],
   "source": [
    "plt.hist(data_merged['PM10_daysOver50']);"
   ]
  },
  {
   "cell_type": "markdown",
   "id": "a9ab7f6c",
   "metadata": {},
   "source": [
    "## PM2.5 annual Mean"
   ]
  },
  {
   "cell_type": "code",
   "execution_count": 76,
   "id": "cccd9c78",
   "metadata": {},
   "outputs": [
    {
     "data": {
      "text/plain": [
       "<AxesSubplot:>"
      ]
     },
     "execution_count": 76,
     "metadata": {},
     "output_type": "execute_result"
    },
    {
     "data": {
      "image/png": "[encoded data removed]",
      "text/plain": [
       "<Figure size 432x288 with 1 Axes>"
      ]
     },
     "metadata": {
      "needs_background": "light"
     },
     "output_type": "display_data"
    }
   ],
   "source": [
    "data_merged[['PM2_5_annualMean']].boxplot()"
   ]
  },
  {
   "cell_type": "code",
   "execution_count": 77,
   "id": "5411444d",
   "metadata": {
    "scrolled": true
   },
   "outputs": [
    {
     "name": "stdout",
     "output_type": "stream",
     "text": [
      "5.254934\n",
      "29.59881\n"
     ]
    }
   ],
   "source": [
    "print(data_merged.PM2_5_annualMean.min())\n",
    "print(data_merged.PM2_5_annualMean.max())"
   ]
  },
  {
   "cell_type": "code",
   "execution_count": 92,
   "id": "96f76df3",
   "metadata": {},
   "outputs": [
    {
     "data": {
      "image/png": "[encoded data removed]",
      "text/plain": [
       "<Figure size 432x288 with 1 Axes>"
      ]
     },
     "metadata": {
      "needs_background": "light"
     },
     "output_type": "display_data"
    }
   ],
   "source": [
    "plt.hist(data_merged['PM2_5_annualMean']);"
   ]
  },
  {
   "cell_type": "markdown",
   "id": "fb7f05a7",
   "metadata": {},
   "source": [
    "## Death rate"
   ]
  },
  {
   "cell_type": "code",
   "execution_count": 56,
   "id": "59c9557d",
   "metadata": {},
   "outputs": [
    {
     "data": {
      "text/plain": [
       "<AxesSubplot:>"
      ]
     },
     "execution_count": 56,
     "metadata": {},
     "output_type": "execute_result"
    },
    {
     "data": {
      "image/png": "[encoded data removed]",
      "text/plain": [
       "<Figure size 432x288 with 1 Axes>"
      ]
     },
     "metadata": {
      "needs_background": "light"
     },
     "output_type": "display_data"
    }
   ],
   "source": [
    "data_merged[['death_rate']].boxplot()"
   ]
  },
  {
   "cell_type": "code",
   "execution_count": 57,
   "id": "0232dffb",
   "metadata": {
    "scrolled": true
   },
   "outputs": [
    {
     "name": "stdout",
     "output_type": "stream",
     "text": [
      "0.78125\n",
      "4.46345198520898\n"
     ]
    }
   ],
   "source": [
    "print(data_merged.death_rate.min())\n",
    "print(data_merged.death_rate.max())"
   ]
  },
  {
   "cell_type": "code",
   "execution_count": 93,
   "id": "de084dc0",
   "metadata": {},
   "outputs": [
    {
     "data": {
      "image/png": "[encoded data removed]",
      "text/plain": [
       "<Figure size 432x288 with 1 Axes>"
      ]
     },
     "metadata": {
      "needs_background": "light"
     },
     "output_type": "display_data"
    }
   ],
   "source": [
    "plt.hist(data_merged['death_rate']);"
   ]
  },
  {
   "cell_type": "markdown",
   "id": "12673b89",
   "metadata": {},
   "source": [
    "## Cases"
   ]
  },
  {
   "cell_type": "code",
   "execution_count": 58,
   "id": "207d90b3",
   "metadata": {},
   "outputs": [
    {
     "data": {
      "text/plain": [
       "<AxesSubplot:>"
      ]
     },
     "execution_count": 58,
     "metadata": {},
     "output_type": "execute_result"
    },
    {
     "data": {
      "image/png": "[encoded data removed]",
      "text/plain": [
       "<Figure size 432x288 with 1 Axes>"
      ]
     },
     "metadata": {
      "needs_background": "light"
     },
     "output_type": "display_data"
    }
   ],
   "source": [
    "data_merged[['cases']].boxplot()"
   ]
  },
  {
   "cell_type": "code",
   "execution_count": 59,
   "id": "ff6121a3",
   "metadata": {
    "scrolled": true
   },
   "outputs": [
    {
     "name": "stdout",
     "output_type": "stream",
     "text": [
      "1152\n",
      "242813\n"
     ]
    }
   ],
   "source": [
    "print(data_merged.cases.min())\n",
    "print(data_merged.cases.max())"
   ]
  },
  {
   "cell_type": "code",
   "execution_count": 94,
   "id": "0a8c2f5d",
   "metadata": {},
   "outputs": [
    {
     "data": {
      "image/png": "[encoded data removed]",
      "text/plain": [
       "<Figure size 432x288 with 1 Axes>"
      ]
     },
     "metadata": {
      "needs_background": "light"
     },
     "output_type": "display_data"
    }
   ],
   "source": [
    "plt.hist(data_merged['cases']);"
   ]
  },
  {
   "cell_type": "markdown",
   "id": "d306ece9",
   "metadata": {},
   "source": [
    "## Cases per 100k"
   ]
  },
  {
   "cell_type": "code",
   "execution_count": 60,
   "id": "f89b8ba9",
   "metadata": {},
   "outputs": [
    {
     "data": {
      "text/plain": [
       "<AxesSubplot:>"
      ]
     },
     "execution_count": 60,
     "metadata": {},
     "output_type": "execute_result"
    },
    {
     "data": {
      "image/png": "[encoded data removed]",
      "text/plain": [
       "<Figure size 432x288 with 1 Axes>"
      ]
     },
     "metadata": {
      "needs_background": "light"
     },
     "output_type": "display_data"
    }
   ],
   "source": [
    "data_merged[['cases_per_100k']].boxplot()"
   ]
  },
  {
   "cell_type": "code",
   "execution_count": 61,
   "id": "3f8ee166",
   "metadata": {
    "scrolled": true
   },
   "outputs": [
    {
     "name": "stdout",
     "output_type": "stream",
     "text": [
      "1638.15296127651\n",
      "12268.7298330607\n"
     ]
    }
   ],
   "source": [
    "print(data_merged.cases_per_100k.min())\n",
    "print(data_merged.cases_per_100k.max())"
   ]
  },
  {
   "cell_type": "code",
   "execution_count": 95,
   "id": "d8c1c29f",
   "metadata": {},
   "outputs": [
    {
     "data": {
      "image/png": "[encoded data removed]",
      "text/plain": [
       "<Figure size 432x288 with 1 Axes>"
      ]
     },
     "metadata": {
      "needs_background": "light"
     },
     "output_type": "display_data"
    }
   ],
   "source": [
    "plt.hist(data_merged['cases_per_100k']);"
   ]
  },
  {
   "cell_type": "markdown",
   "id": "f260f943",
   "metadata": {},
   "source": [
    "## Deaths per 100k"
   ]
  },
  {
   "cell_type": "code",
   "execution_count": 63,
   "id": "987e58f4",
   "metadata": {},
   "outputs": [
    {
     "data": {
      "text/plain": [
       "<AxesSubplot:>"
      ]
     },
     "execution_count": 63,
     "metadata": {},
     "output_type": "execute_result"
    },
    {
     "data": {
      "image/png": "[encoded data removed]",
      "text/plain": [
       "<Figure size 432x288 with 1 Axes>"
      ]
     },
     "metadata": {
      "needs_background": "light"
     },
     "output_type": "display_data"
    }
   ],
   "source": [
    "data_merged[['deaths_per_100k']].boxplot()"
   ]
  },
  {
   "cell_type": "code",
   "execution_count": 62,
   "id": "a1d53639",
   "metadata": {
    "scrolled": true
   },
   "outputs": [
    {
     "name": "stdout",
     "output_type": "stream",
     "text": [
      "24.020526631849037\n",
      "476.9354800086208\n"
     ]
    }
   ],
   "source": [
    "print(data_merged.deaths_per_100k.min())\n",
    "print(data_merged.deaths_per_100k.max())"
   ]
  },
  {
   "cell_type": "code",
   "execution_count": 96,
   "id": "b72c14aa",
   "metadata": {},
   "outputs": [
    {
     "data": {
      "image/png": "[encoded data removed]",
      "text/plain": [
       "<Figure size 432x288 with 1 Axes>"
      ]
     },
     "metadata": {
      "needs_background": "light"
     },
     "output_type": "display_data"
    }
   ],
   "source": [
    "plt.hist(data_merged['deaths_per_100k']);"
   ]
  }
 ],
 "metadata": {
  "kernelspec": {
   "display_name": "Python 3 (ipykernel)",
   "language": "python",
   "name": "python3"
  },
  "language_info": {
   "codemirror_mode": {
    "name": "ipython",
    "version": 3
   },
   "file_extension": ".py",
   "mimetype": "text/x-python",
   "name": "python",
   "nbconvert_exporter": "python",
   "pygments_lexer": "ipython3",
   "version": "3.8.12"
  },
  "toc": {
   "base_numbering": 1,
   "nav_menu": {},
   "number_sections": true,
   "sideBar": true,
   "skip_h1_title": false,
   "title_cell": "Table of Contents",
   "title_sidebar": "Contents",
   "toc_cell": false,
   "toc_position": {},
   "toc_section_display": true,
   "toc_window_display": false
  }
 },
 "nbformat": 4,
 "nbformat_minor": 5
}
