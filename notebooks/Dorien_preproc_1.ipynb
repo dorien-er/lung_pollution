{
 "cells": [
  {
   "cell_type": "markdown",
   "id": "c16ec3f4",
   "metadata": {
    "heading_collapsed": true
   },
   "source": [
    "# Load Covid dataset"
   ]
  },
  {
   "cell_type": "markdown",
   "id": "80ad529a",
   "metadata": {
    "hidden": true
   },
   "source": [
    "## Load CSV"
   ]
  },
  {
   "cell_type": "code",
   "execution_count": 1,
   "id": "ebfcdd47",
   "metadata": {
    "hidden": true
   },
   "outputs": [
    {
     "data": {
      "text/plain": [
       "(411, 47)"
      ]
     },
     "execution_count": 1,
     "metadata": {},
     "output_type": "execute_result"
    }
   ],
   "source": [
    "import pandas as pd\n",
    "\n",
    "covid_data = pd.read_csv('../lung_pollution/data/RKI_corona_landskreise.csv')\n",
    "\n",
    "covid_data.shape"
   ]
  },
  {
   "cell_type": "code",
   "execution_count": 2,
   "id": "debf325f",
   "metadata": {
    "hidden": true,
    "scrolled": true
   },
   "outputs": [
    {
     "data": {
      "text/plain": [
       "Index(['OBJECTID', 'ADE', 'GF', 'BSG', 'RS', 'AGS', 'SDV_RS', 'GEN', 'BEZ',\n",
       "       'IBZ', 'BEM', 'NBD', 'SN_L', 'SN_R', 'SN_K', 'SN_V1', 'SN_V2', 'SN_G',\n",
       "       'FK_S3', 'NUTS', 'RS_0', 'AGS_0', 'WSK', 'EWZ', 'KFL', 'DEBKG_ID',\n",
       "       'Shape__Area', 'Shape__Length', 'death_rate', 'cases', 'deaths',\n",
       "       'cases_per_100k', 'cases_per_population', 'BL', 'BL_ID', 'county',\n",
       "       'last_update', 'cases7_per_100k', 'recovered', 'EWZ_BL',\n",
       "       'cases7_bl_per_100k', 'cases7_bl', 'death7_bl', 'cases7_lk',\n",
       "       'death7_lk', 'cases7_per_100k_txt', 'AdmUnitId'],\n",
       "      dtype='object')"
      ]
     },
     "execution_count": 2,
     "metadata": {},
     "output_type": "execute_result"
    }
   ],
   "source": [
    "covid_data.columns"
   ]
  },
  {
   "cell_type": "code",
   "execution_count": 3,
   "id": "cd6f9428",
   "metadata": {
    "hidden": true,
    "scrolled": true
   },
   "outputs": [
    {
     "data": {
      "text/html": [
       "<div>\n",
       "<style scoped>\n",
       "    .dataframe tbody tr th:only-of-type {\n",
       "        vertical-align: middle;\n",
       "    }\n",
       "\n",
       "    .dataframe tbody tr th {\n",
       "        vertical-align: top;\n",
       "    }\n",
       "\n",
       "    .dataframe thead th {\n",
       "        text-align: right;\n",
       "    }\n",
       "</style>\n",
       "<table border=\"1\" class=\"dataframe\">\n",
       "  <thead>\n",
       "    <tr style=\"text-align: right;\">\n",
       "      <th></th>\n",
       "      <th>BL</th>\n",
       "      <th>county</th>\n",
       "      <th>EWZ</th>\n",
       "      <th>Shape__Area</th>\n",
       "      <th>death_rate</th>\n",
       "      <th>cases</th>\n",
       "      <th>deaths</th>\n",
       "      <th>cases_per_100k</th>\n",
       "    </tr>\n",
       "  </thead>\n",
       "  <tbody>\n",
       "    <tr>\n",
       "      <th>0</th>\n",
       "      <td>Schleswig-Holstein</td>\n",
       "      <td>SK Flensburg</td>\n",
       "      <td>89934</td>\n",
       "      <td>4.918293e+07</td>\n",
       "      <td>1.223721</td>\n",
       "      <td>3187</td>\n",
       "      <td>39</td>\n",
       "      <td>3543.709832</td>\n",
       "    </tr>\n",
       "    <tr>\n",
       "      <th>1</th>\n",
       "      <td>Schleswig-Holstein</td>\n",
       "      <td>SK Kiel</td>\n",
       "      <td>246601</td>\n",
       "      <td>1.122314e+08</td>\n",
       "      <td>1.409469</td>\n",
       "      <td>8301</td>\n",
       "      <td>117</td>\n",
       "      <td>3366.166398</td>\n",
       "    </tr>\n",
       "    <tr>\n",
       "      <th>2</th>\n",
       "      <td>Schleswig-Holstein</td>\n",
       "      <td>SK Lübeck</td>\n",
       "      <td>215846</td>\n",
       "      <td>2.116771e+08</td>\n",
       "      <td>1.392355</td>\n",
       "      <td>7613</td>\n",
       "      <td>106</td>\n",
       "      <td>3527.051694</td>\n",
       "    </tr>\n",
       "    <tr>\n",
       "      <th>3</th>\n",
       "      <td>Schleswig-Holstein</td>\n",
       "      <td>SK Neumünster</td>\n",
       "      <td>79905</td>\n",
       "      <td>7.140224e+07</td>\n",
       "      <td>0.889996</td>\n",
       "      <td>2809</td>\n",
       "      <td>25</td>\n",
       "      <td>3515.424567</td>\n",
       "    </tr>\n",
       "    <tr>\n",
       "      <th>4</th>\n",
       "      <td>Schleswig-Holstein</td>\n",
       "      <td>LK Dithmarschen</td>\n",
       "      <td>133251</td>\n",
       "      <td>1.425511e+09</td>\n",
       "      <td>1.915323</td>\n",
       "      <td>2976</td>\n",
       "      <td>57</td>\n",
       "      <td>2233.379112</td>\n",
       "    </tr>\n",
       "  </tbody>\n",
       "</table>\n",
       "</div>"
      ],
      "text/plain": [
       "                   BL           county     EWZ   Shape__Area  death_rate  \\\n",
       "0  Schleswig-Holstein     SK Flensburg   89934  4.918293e+07    1.223721   \n",
       "1  Schleswig-Holstein          SK Kiel  246601  1.122314e+08    1.409469   \n",
       "2  Schleswig-Holstein        SK Lübeck  215846  2.116771e+08    1.392355   \n",
       "3  Schleswig-Holstein    SK Neumünster   79905  7.140224e+07    0.889996   \n",
       "4  Schleswig-Holstein  LK Dithmarschen  133251  1.425511e+09    1.915323   \n",
       "\n",
       "   cases  deaths  cases_per_100k  \n",
       "0   3187      39     3543.709832  \n",
       "1   8301     117     3366.166398  \n",
       "2   7613     106     3527.051694  \n",
       "3   2809      25     3515.424567  \n",
       "4   2976      57     2233.379112  "
      ]
     },
     "execution_count": 3,
     "metadata": {},
     "output_type": "execute_result"
    }
   ],
   "source": [
    "covid_data = covid_data[['BL','county','EWZ','Shape__Area', 'death_rate', 'cases', 'deaths','cases_per_100k']]\n",
    "covid_data.head()"
   ]
  },
  {
   "cell_type": "markdown",
   "id": "f52efc3e",
   "metadata": {
    "hidden": true
   },
   "source": [
    "## Feature engineering: create deaths/100k column"
   ]
  },
  {
   "cell_type": "code",
   "execution_count": 4,
   "id": "9e5b735d",
   "metadata": {
    "hidden": true
   },
   "outputs": [
    {
     "data": {
      "text/html": [
       "<div>\n",
       "<style scoped>\n",
       "    .dataframe tbody tr th:only-of-type {\n",
       "        vertical-align: middle;\n",
       "    }\n",
       "\n",
       "    .dataframe tbody tr th {\n",
       "        vertical-align: top;\n",
       "    }\n",
       "\n",
       "    .dataframe thead th {\n",
       "        text-align: right;\n",
       "    }\n",
       "</style>\n",
       "<table border=\"1\" class=\"dataframe\">\n",
       "  <thead>\n",
       "    <tr style=\"text-align: right;\">\n",
       "      <th></th>\n",
       "      <th>BL</th>\n",
       "      <th>county</th>\n",
       "      <th>EWZ</th>\n",
       "      <th>Shape__Area</th>\n",
       "      <th>death_rate</th>\n",
       "      <th>cases</th>\n",
       "      <th>deaths</th>\n",
       "      <th>cases_per_100k</th>\n",
       "      <th>deaths_per_100k</th>\n",
       "    </tr>\n",
       "  </thead>\n",
       "  <tbody>\n",
       "    <tr>\n",
       "      <th>0</th>\n",
       "      <td>Schleswig-Holstein</td>\n",
       "      <td>SK Flensburg</td>\n",
       "      <td>89934</td>\n",
       "      <td>4.918293e+07</td>\n",
       "      <td>1.223721</td>\n",
       "      <td>3187</td>\n",
       "      <td>39</td>\n",
       "      <td>3543.709832</td>\n",
       "      <td>43.365134</td>\n",
       "    </tr>\n",
       "    <tr>\n",
       "      <th>1</th>\n",
       "      <td>Schleswig-Holstein</td>\n",
       "      <td>SK Kiel</td>\n",
       "      <td>246601</td>\n",
       "      <td>1.122314e+08</td>\n",
       "      <td>1.409469</td>\n",
       "      <td>8301</td>\n",
       "      <td>117</td>\n",
       "      <td>3366.166398</td>\n",
       "      <td>47.445063</td>\n",
       "    </tr>\n",
       "    <tr>\n",
       "      <th>2</th>\n",
       "      <td>Schleswig-Holstein</td>\n",
       "      <td>SK Lübeck</td>\n",
       "      <td>215846</td>\n",
       "      <td>2.116771e+08</td>\n",
       "      <td>1.392355</td>\n",
       "      <td>7613</td>\n",
       "      <td>106</td>\n",
       "      <td>3527.051694</td>\n",
       "      <td>49.109087</td>\n",
       "    </tr>\n",
       "    <tr>\n",
       "      <th>3</th>\n",
       "      <td>Schleswig-Holstein</td>\n",
       "      <td>SK Neumünster</td>\n",
       "      <td>79905</td>\n",
       "      <td>7.140224e+07</td>\n",
       "      <td>0.889996</td>\n",
       "      <td>2809</td>\n",
       "      <td>25</td>\n",
       "      <td>3515.424567</td>\n",
       "      <td>31.287153</td>\n",
       "    </tr>\n",
       "    <tr>\n",
       "      <th>4</th>\n",
       "      <td>Schleswig-Holstein</td>\n",
       "      <td>LK Dithmarschen</td>\n",
       "      <td>133251</td>\n",
       "      <td>1.425511e+09</td>\n",
       "      <td>1.915323</td>\n",
       "      <td>2976</td>\n",
       "      <td>57</td>\n",
       "      <td>2233.379112</td>\n",
       "      <td>42.776414</td>\n",
       "    </tr>\n",
       "  </tbody>\n",
       "</table>\n",
       "</div>"
      ],
      "text/plain": [
       "                   BL           county     EWZ   Shape__Area  death_rate  \\\n",
       "0  Schleswig-Holstein     SK Flensburg   89934  4.918293e+07    1.223721   \n",
       "1  Schleswig-Holstein          SK Kiel  246601  1.122314e+08    1.409469   \n",
       "2  Schleswig-Holstein        SK Lübeck  215846  2.116771e+08    1.392355   \n",
       "3  Schleswig-Holstein    SK Neumünster   79905  7.140224e+07    0.889996   \n",
       "4  Schleswig-Holstein  LK Dithmarschen  133251  1.425511e+09    1.915323   \n",
       "\n",
       "   cases  deaths  cases_per_100k  deaths_per_100k  \n",
       "0   3187      39     3543.709832        43.365134  \n",
       "1   8301     117     3366.166398        47.445063  \n",
       "2   7613     106     3527.051694        49.109087  \n",
       "3   2809      25     3515.424567        31.287153  \n",
       "4   2976      57     2233.379112        42.776414  "
      ]
     },
     "execution_count": 4,
     "metadata": {},
     "output_type": "execute_result"
    }
   ],
   "source": [
    "covid_data['deaths_per_100k'] = covid_data['deaths']/covid_data['EWZ']*100_000\n",
    "covid_data.head()"
   ]
  },
  {
   "cell_type": "markdown",
   "id": "f7152abc",
   "metadata": {
    "hidden": true
   },
   "source": [
    "## Merge all Berlin 'counties' to one (to match APexpose)"
   ]
  },
  {
   "cell_type": "markdown",
   "id": "d92d8556",
   "metadata": {
    "hidden": true
   },
   "source": [
    "Covid dataset has 11 Berlin counties, but air pollution dataset only has 1 berlin county > \n",
    "collapse 11 berlin counties into one, taking into account whether to take the sum or the mean per numerical feature"
   ]
  },
  {
   "cell_type": "code",
   "execution_count": 5,
   "id": "75405767",
   "metadata": {
    "hidden": true,
    "scrolled": true
   },
   "outputs": [
    {
     "data": {
      "text/html": [
       "<div>\n",
       "<style scoped>\n",
       "    .dataframe tbody tr th:only-of-type {\n",
       "        vertical-align: middle;\n",
       "    }\n",
       "\n",
       "    .dataframe tbody tr th {\n",
       "        vertical-align: top;\n",
       "    }\n",
       "\n",
       "    .dataframe thead th {\n",
       "        text-align: right;\n",
       "    }\n",
       "</style>\n",
       "<table border=\"1\" class=\"dataframe\">\n",
       "  <thead>\n",
       "    <tr style=\"text-align: right;\">\n",
       "      <th></th>\n",
       "      <th>BL</th>\n",
       "      <th>county</th>\n",
       "      <th>EWZ</th>\n",
       "      <th>Shape__Area</th>\n",
       "      <th>death_rate</th>\n",
       "      <th>cases</th>\n",
       "      <th>deaths</th>\n",
       "      <th>cases_per_100k</th>\n",
       "      <th>deaths_per_100k</th>\n",
       "    </tr>\n",
       "  </thead>\n",
       "  <tbody>\n",
       "    <tr>\n",
       "      <th>399</th>\n",
       "      <td>Berlin</td>\n",
       "      <td>SK Berlin Reinickendorf</td>\n",
       "      <td>259169</td>\n",
       "      <td>8.943665e+07</td>\n",
       "      <td>1.618289</td>\n",
       "      <td>19465</td>\n",
       "      <td>315</td>\n",
       "      <td>7510.543313</td>\n",
       "      <td>121.542314</td>\n",
       "    </tr>\n",
       "    <tr>\n",
       "      <th>400</th>\n",
       "      <td>Berlin</td>\n",
       "      <td>SK Berlin Charlottenburg-Wilmersdorf</td>\n",
       "      <td>315393</td>\n",
       "      <td>6.477450e+07</td>\n",
       "      <td>1.568608</td>\n",
       "      <td>20464</td>\n",
       "      <td>321</td>\n",
       "      <td>6488.412869</td>\n",
       "      <td>101.777782</td>\n",
       "    </tr>\n",
       "    <tr>\n",
       "      <th>401</th>\n",
       "      <td>Berlin</td>\n",
       "      <td>SK Berlin Treptow-Köpenick</td>\n",
       "      <td>272429</td>\n",
       "      <td>1.680052e+08</td>\n",
       "      <td>1.689394</td>\n",
       "      <td>13200</td>\n",
       "      <td>223</td>\n",
       "      <td>4845.299142</td>\n",
       "      <td>81.856190</td>\n",
       "    </tr>\n",
       "    <tr>\n",
       "      <th>402</th>\n",
       "      <td>Berlin</td>\n",
       "      <td>SK Berlin Pankow</td>\n",
       "      <td>403607</td>\n",
       "      <td>1.033630e+08</td>\n",
       "      <td>1.068934</td>\n",
       "      <td>21049</td>\n",
       "      <td>225</td>\n",
       "      <td>5215.221738</td>\n",
       "      <td>55.747299</td>\n",
       "    </tr>\n",
       "    <tr>\n",
       "      <th>403</th>\n",
       "      <td>Berlin</td>\n",
       "      <td>SK Berlin Neukölln</td>\n",
       "      <td>318128</td>\n",
       "      <td>4.499687e+07</td>\n",
       "      <td>1.522467</td>\n",
       "      <td>28375</td>\n",
       "      <td>432</td>\n",
       "      <td>8919.365790</td>\n",
       "      <td>135.794397</td>\n",
       "    </tr>\n",
       "    <tr>\n",
       "      <th>404</th>\n",
       "      <td>Berlin</td>\n",
       "      <td>SK Berlin Lichtenberg</td>\n",
       "      <td>291622</td>\n",
       "      <td>5.219800e+07</td>\n",
       "      <td>1.697550</td>\n",
       "      <td>16082</td>\n",
       "      <td>273</td>\n",
       "      <td>5514.673104</td>\n",
       "      <td>93.614336</td>\n",
       "    </tr>\n",
       "    <tr>\n",
       "      <th>405</th>\n",
       "      <td>Berlin</td>\n",
       "      <td>SK Berlin Marzahn-Hellersdorf</td>\n",
       "      <td>273676</td>\n",
       "      <td>6.191477e+07</td>\n",
       "      <td>1.768566</td>\n",
       "      <td>14475</td>\n",
       "      <td>256</td>\n",
       "      <td>5289.100981</td>\n",
       "      <td>93.541268</td>\n",
       "    </tr>\n",
       "    <tr>\n",
       "      <th>406</th>\n",
       "      <td>Berlin</td>\n",
       "      <td>SK Berlin Spandau</td>\n",
       "      <td>238922</td>\n",
       "      <td>9.294042e+07</td>\n",
       "      <td>1.444666</td>\n",
       "      <td>18551</td>\n",
       "      <td>268</td>\n",
       "      <td>7764.458694</td>\n",
       "      <td>112.170499</td>\n",
       "    </tr>\n",
       "    <tr>\n",
       "      <th>407</th>\n",
       "      <td>Berlin</td>\n",
       "      <td>SK Berlin Steglitz-Zehlendorf</td>\n",
       "      <td>290866</td>\n",
       "      <td>1.026872e+08</td>\n",
       "      <td>2.656722</td>\n",
       "      <td>16223</td>\n",
       "      <td>431</td>\n",
       "      <td>5577.482415</td>\n",
       "      <td>148.178199</td>\n",
       "    </tr>\n",
       "    <tr>\n",
       "      <th>408</th>\n",
       "      <td>Berlin</td>\n",
       "      <td>SK Berlin Mitte</td>\n",
       "      <td>374232</td>\n",
       "      <td>3.945211e+07</td>\n",
       "      <td>1.156393</td>\n",
       "      <td>30353</td>\n",
       "      <td>351</td>\n",
       "      <td>8110.744137</td>\n",
       "      <td>93.792086</td>\n",
       "    </tr>\n",
       "    <tr>\n",
       "      <th>409</th>\n",
       "      <td>Berlin</td>\n",
       "      <td>SK Berlin Friedrichshain-Kreuzberg</td>\n",
       "      <td>278936</td>\n",
       "      <td>2.042866e+07</td>\n",
       "      <td>0.838055</td>\n",
       "      <td>21001</td>\n",
       "      <td>176</td>\n",
       "      <td>7528.967218</td>\n",
       "      <td>63.096911</td>\n",
       "    </tr>\n",
       "    <tr>\n",
       "      <th>410</th>\n",
       "      <td>Berlin</td>\n",
       "      <td>SK Berlin Tempelhof-Schöneberg</td>\n",
       "      <td>340483</td>\n",
       "      <td>5.312295e+07</td>\n",
       "      <td>2.069989</td>\n",
       "      <td>23575</td>\n",
       "      <td>488</td>\n",
       "      <td>6923.987394</td>\n",
       "      <td>143.325805</td>\n",
       "    </tr>\n",
       "  </tbody>\n",
       "</table>\n",
       "</div>"
      ],
      "text/plain": [
       "         BL                                county     EWZ   Shape__Area  \\\n",
       "399  Berlin               SK Berlin Reinickendorf  259169  8.943665e+07   \n",
       "400  Berlin  SK Berlin Charlottenburg-Wilmersdorf  315393  6.477450e+07   \n",
       "401  Berlin            SK Berlin Treptow-Köpenick  272429  1.680052e+08   \n",
       "402  Berlin                      SK Berlin Pankow  403607  1.033630e+08   \n",
       "403  Berlin                    SK Berlin Neukölln  318128  4.499687e+07   \n",
       "404  Berlin                 SK Berlin Lichtenberg  291622  5.219800e+07   \n",
       "405  Berlin         SK Berlin Marzahn-Hellersdorf  273676  6.191477e+07   \n",
       "406  Berlin                     SK Berlin Spandau  238922  9.294042e+07   \n",
       "407  Berlin         SK Berlin Steglitz-Zehlendorf  290866  1.026872e+08   \n",
       "408  Berlin                       SK Berlin Mitte  374232  3.945211e+07   \n",
       "409  Berlin    SK Berlin Friedrichshain-Kreuzberg  278936  2.042866e+07   \n",
       "410  Berlin        SK Berlin Tempelhof-Schöneberg  340483  5.312295e+07   \n",
       "\n",
       "     death_rate  cases  deaths  cases_per_100k  deaths_per_100k  \n",
       "399    1.618289  19465     315     7510.543313       121.542314  \n",
       "400    1.568608  20464     321     6488.412869       101.777782  \n",
       "401    1.689394  13200     223     4845.299142        81.856190  \n",
       "402    1.068934  21049     225     5215.221738        55.747299  \n",
       "403    1.522467  28375     432     8919.365790       135.794397  \n",
       "404    1.697550  16082     273     5514.673104        93.614336  \n",
       "405    1.768566  14475     256     5289.100981        93.541268  \n",
       "406    1.444666  18551     268     7764.458694       112.170499  \n",
       "407    2.656722  16223     431     5577.482415       148.178199  \n",
       "408    1.156393  30353     351     8110.744137        93.792086  \n",
       "409    0.838055  21001     176     7528.967218        63.096911  \n",
       "410    2.069989  23575     488     6923.987394       143.325805  "
      ]
     },
     "execution_count": 5,
     "metadata": {},
     "output_type": "execute_result"
    }
   ],
   "source": [
    "berlin = covid_data[covid_data[\"BL\"] == 'Berlin']\n",
    "berlin"
   ]
  },
  {
   "cell_type": "code",
   "execution_count": 6,
   "id": "41fc7404",
   "metadata": {
    "hidden": true,
    "scrolled": false
   },
   "outputs": [
    {
     "name": "stderr",
     "output_type": "stream",
     "text": [
      "/var/folders/py/ydbm54f573b1ymf9x65hf0mm0000gn/T/ipykernel_35622/360524747.py:1: SettingWithCopyWarning: \n",
      "A value is trying to be set on a copy of a slice from a DataFrame\n",
      "\n",
      "See the caveats in the documentation: https://pandas.pydata.org/pandas-docs/stable/user_guide/indexing.html#returning-a-view-versus-a-copy\n",
      "  covid_data['county'][399] = 'Berlin'\n"
     ]
    },
    {
     "data": {
      "text/plain": [
       "BL                          Berlin\n",
       "county                      Berlin\n",
       "EWZ                         259169\n",
       "Shape__Area        89436651.129883\n",
       "death_rate                1.618289\n",
       "cases                        19465\n",
       "deaths                         315\n",
       "cases_per_100k         7510.543313\n",
       "deaths_per_100k         121.542314\n",
       "Name: 399, dtype: object"
      ]
     },
     "execution_count": 6,
     "metadata": {},
     "output_type": "execute_result"
    }
   ],
   "source": [
    "covid_data['county'][399] = 'Berlin'\n",
    "covid_data.loc[399] "
   ]
  },
  {
   "cell_type": "code",
   "execution_count": 7,
   "id": "716f3c7d",
   "metadata": {
    "hidden": true,
    "scrolled": true
   },
   "outputs": [
    {
     "data": {
      "text/plain": [
       "Shape__Area    8.933202e+08\n",
       "cases          2.428130e+05\n",
       "deaths         3.759000e+03\n",
       "dtype: float64"
      ]
     },
     "execution_count": 7,
     "metadata": {},
     "output_type": "execute_result"
    }
   ],
   "source": [
    "berlin_sum = berlin[['Shape__Area', 'cases', 'deaths']].sum()\n",
    "berlin_sum"
   ]
  },
  {
   "cell_type": "code",
   "execution_count": 8,
   "id": "15ef3da4",
   "metadata": {
    "hidden": true
   },
   "outputs": [
    {
     "data": {
      "text/plain": [
       "death_rate            1.591636\n",
       "cases_per_100k     6640.688066\n",
       "deaths_per_100k     103.703091\n",
       "dtype: float64"
      ]
     },
     "execution_count": 8,
     "metadata": {},
     "output_type": "execute_result"
    }
   ],
   "source": [
    "berlin_average = berlin[['death_rate','cases_per_100k', 'deaths_per_100k']].mean()\n",
    "berlin_average"
   ]
  },
  {
   "cell_type": "code",
   "execution_count": 9,
   "id": "db3fd0d3",
   "metadata": {
    "hidden": true
   },
   "outputs": [
    {
     "name": "stderr",
     "output_type": "stream",
     "text": [
      "/var/folders/py/ydbm54f573b1ymf9x65hf0mm0000gn/T/ipykernel_35622/648295955.py:1: SettingWithCopyWarning: \n",
      "A value is trying to be set on a copy of a slice from a DataFrame\n",
      "\n",
      "See the caveats in the documentation: https://pandas.pydata.org/pandas-docs/stable/user_guide/indexing.html#returning-a-view-versus-a-copy\n",
      "  covid_data['cases'][399] = berlin_sum.cases\n",
      "/var/folders/py/ydbm54f573b1ymf9x65hf0mm0000gn/T/ipykernel_35622/648295955.py:2: SettingWithCopyWarning: \n",
      "A value is trying to be set on a copy of a slice from a DataFrame\n",
      "\n",
      "See the caveats in the documentation: https://pandas.pydata.org/pandas-docs/stable/user_guide/indexing.html#returning-a-view-versus-a-copy\n",
      "  covid_data['Shape__Area'][399] = berlin_sum.Shape__Area\n",
      "/var/folders/py/ydbm54f573b1ymf9x65hf0mm0000gn/T/ipykernel_35622/648295955.py:3: SettingWithCopyWarning: \n",
      "A value is trying to be set on a copy of a slice from a DataFrame\n",
      "\n",
      "See the caveats in the documentation: https://pandas.pydata.org/pandas-docs/stable/user_guide/indexing.html#returning-a-view-versus-a-copy\n",
      "  covid_data['deaths'][399] = berlin_sum.deaths\n"
     ]
    }
   ],
   "source": [
    "covid_data['cases'][399] = berlin_sum.cases\n",
    "covid_data['Shape__Area'][399] = berlin_sum.Shape__Area\n",
    "covid_data['deaths'][399] = berlin_sum.deaths"
   ]
  },
  {
   "cell_type": "code",
   "execution_count": 10,
   "id": "305b36bd",
   "metadata": {
    "hidden": true
   },
   "outputs": [
    {
     "name": "stderr",
     "output_type": "stream",
     "text": [
      "/var/folders/py/ydbm54f573b1ymf9x65hf0mm0000gn/T/ipykernel_35622/3332388361.py:1: SettingWithCopyWarning: \n",
      "A value is trying to be set on a copy of a slice from a DataFrame\n",
      "\n",
      "See the caveats in the documentation: https://pandas.pydata.org/pandas-docs/stable/user_guide/indexing.html#returning-a-view-versus-a-copy\n",
      "  covid_data['death_rate'][399] = berlin_average.death_rate\n",
      "/var/folders/py/ydbm54f573b1ymf9x65hf0mm0000gn/T/ipykernel_35622/3332388361.py:2: SettingWithCopyWarning: \n",
      "A value is trying to be set on a copy of a slice from a DataFrame\n",
      "\n",
      "See the caveats in the documentation: https://pandas.pydata.org/pandas-docs/stable/user_guide/indexing.html#returning-a-view-versus-a-copy\n",
      "  covid_data['cases_per_100k'][399] = berlin_average.cases_per_100k\n",
      "/var/folders/py/ydbm54f573b1ymf9x65hf0mm0000gn/T/ipykernel_35622/3332388361.py:3: SettingWithCopyWarning: \n",
      "A value is trying to be set on a copy of a slice from a DataFrame\n",
      "\n",
      "See the caveats in the documentation: https://pandas.pydata.org/pandas-docs/stable/user_guide/indexing.html#returning-a-view-versus-a-copy\n",
      "  covid_data['deaths_per_100k'][399] = berlin_average.deaths_per_100k\n"
     ]
    }
   ],
   "source": [
    "covid_data['death_rate'][399] = berlin_average.death_rate\n",
    "covid_data['cases_per_100k'][399] = berlin_average.cases_per_100k\n",
    "covid_data['deaths_per_100k'][399] = berlin_average.deaths_per_100k"
   ]
  },
  {
   "cell_type": "code",
   "execution_count": 11,
   "id": "d046f0a4",
   "metadata": {
    "hidden": true
   },
   "outputs": [],
   "source": [
    "covid_data.drop(index=[400,401,402,403,404,405,406,407,408,409,410], axis=0, inplace=True)"
   ]
  },
  {
   "cell_type": "code",
   "execution_count": 12,
   "id": "a7a37053",
   "metadata": {
    "hidden": true
   },
   "outputs": [
    {
     "data": {
      "text/plain": [
       "(400, 9)"
      ]
     },
     "execution_count": 12,
     "metadata": {},
     "output_type": "execute_result"
    }
   ],
   "source": [
    "covid_data.shape"
   ]
  },
  {
   "cell_type": "markdown",
   "id": "af3f5067",
   "metadata": {},
   "source": [
    "# Load APexpose air pollution dataset"
   ]
  },
  {
   "cell_type": "markdown",
   "id": "0ec6c5ed",
   "metadata": {},
   "source": [
    "## Load data"
   ]
  },
  {
   "cell_type": "code",
   "execution_count": 13,
   "id": "13f9f47d",
   "metadata": {},
   "outputs": [
    {
     "data": {
      "text/plain": [
       "{'encoding': 'Windows-1252', 'confidence': 0.717512331990768, 'language': ''}"
      ]
     },
     "execution_count": 13,
     "metadata": {},
     "output_type": "execute_result"
    }
   ],
   "source": [
    "import chardet\n",
    "with open(\"../lung_pollution/data/APexpose.csv\", 'rb') as rawdata:\n",
    "    result = chardet.detect(rawdata.read(100000))\n",
    "result"
   ]
  },
  {
   "cell_type": "code",
   "execution_count": 14,
   "id": "1791bf47",
   "metadata": {
    "scrolled": false
   },
   "outputs": [
    {
     "data": {
      "text/html": [
       "<div>\n",
       "<style scoped>\n",
       "    .dataframe tbody tr th:only-of-type {\n",
       "        vertical-align: middle;\n",
       "    }\n",
       "\n",
       "    .dataframe tbody tr th {\n",
       "        vertical-align: top;\n",
       "    }\n",
       "\n",
       "    .dataframe thead th {\n",
       "        text-align: right;\n",
       "    }\n",
       "</style>\n",
       "<table border=\"1\" class=\"dataframe\">\n",
       "  <thead>\n",
       "    <tr style=\"text-align: right;\">\n",
       "      <th></th>\n",
       "      <th>county</th>\n",
       "      <th>year</th>\n",
       "      <th>NO2_annualMean</th>\n",
       "      <th>NO2_hrOver200</th>\n",
       "      <th>NO_annualMean</th>\n",
       "      <th>O3_annualMean</th>\n",
       "      <th>O3_daysOver120</th>\n",
       "      <th>O3_dailyMaxAnnualMean</th>\n",
       "      <th>O3_dailyHourlyMax</th>\n",
       "      <th>O3_daily8HrMax</th>\n",
       "      <th>PM10_annualMean</th>\n",
       "      <th>PM10_daysOver50</th>\n",
       "      <th>PM2.5_annualMean</th>\n",
       "      <th>kreis_code</th>\n",
       "      <th>scenario</th>\n",
       "      <th>ISO_code</th>\n",
       "      <th>Kreis_Scluessel</th>\n",
       "      <th>Lon</th>\n",
       "      <th>Lat</th>\n",
       "    </tr>\n",
       "  </thead>\n",
       "  <tbody>\n",
       "    <tr>\n",
       "      <th>0</th>\n",
       "      <td>SK Freiburg i.Breisgau</td>\n",
       "      <td>2019</td>\n",
       "      <td>1575711</td>\n",
       "      <td>0.000000</td>\n",
       "      <td>6600048</td>\n",
       "      <td>554519</td>\n",
       "      <td>6</td>\n",
       "      <td>8370603</td>\n",
       "      <td>218.5</td>\n",
       "      <td>206925</td>\n",
       "      <td>1247323</td>\n",
       "      <td>2</td>\n",
       "      <td>8984028</td>\n",
       "      <td>12</td>\n",
       "      <td>remote</td>\n",
       "      <td>DE.BW.FB</td>\n",
       "      <td>8311</td>\n",
       "      <td>781.807.596.196.695</td>\n",
       "      <td>479.925.229.956.189</td>\n",
       "    </tr>\n",
       "    <tr>\n",
       "      <th>1</th>\n",
       "      <td>LK Dillingen a.d.Donau</td>\n",
       "      <td>2019</td>\n",
       "      <td>1,89533E+14</td>\n",
       "      <td>0.004595</td>\n",
       "      <td>9,5195E+14</td>\n",
       "      <td>5,5639E+14</td>\n",
       "      <td>3,80237E+14</td>\n",
       "      <td>7,88278E+14</td>\n",
       "      <td>1,80314E+14</td>\n",
       "      <td>1,63814E+14</td>\n",
       "      <td>1,72883E+14</td>\n",
       "      <td>5,36691E+14</td>\n",
       "      <td>1,29524E+14</td>\n",
       "      <td>68</td>\n",
       "      <td>remote</td>\n",
       "      <td>DE.BY.DD</td>\n",
       "      <td>9773</td>\n",
       "      <td>105.277.641.680.394</td>\n",
       "      <td>485.964.037.973.776</td>\n",
       "    </tr>\n",
       "    <tr>\n",
       "      <th>2</th>\n",
       "      <td>SK NŸrnberg</td>\n",
       "      <td>2019</td>\n",
       "      <td>2538007</td>\n",
       "      <td>0.000000</td>\n",
       "      <td>1251538</td>\n",
       "      <td>4532018</td>\n",
       "      <td>0</td>\n",
       "      <td>7369548</td>\n",
       "      <td>160.34</td>\n",
       "      <td>1556725</td>\n",
       "      <td>1,53677E+14</td>\n",
       "      <td>4,89558E+14</td>\n",
       "      <td>1151754</td>\n",
       "      <td>107</td>\n",
       "      <td>remote</td>\n",
       "      <td>DE.BY.NR</td>\n",
       "      <td>9564</td>\n",
       "      <td>110.827.553.425.797</td>\n",
       "      <td>494.362.114.486.059</td>\n",
       "    </tr>\n",
       "    <tr>\n",
       "      <th>3</th>\n",
       "      <td>LK Neumarkt i.d.OPf.</td>\n",
       "      <td>2019</td>\n",
       "      <td>1,57092E+14</td>\n",
       "      <td>0.003532</td>\n",
       "      <td>8,1766E+14</td>\n",
       "      <td>5,20949E+14</td>\n",
       "      <td>2,18259E+14</td>\n",
       "      <td>7,65906E+14</td>\n",
       "      <td>1,79684E+14</td>\n",
       "      <td>1,62613E+14</td>\n",
       "      <td>1,60922E+14</td>\n",
       "      <td>4,89558E+14</td>\n",
       "      <td>1,22698E+14</td>\n",
       "      <td>110</td>\n",
       "      <td>remote</td>\n",
       "      <td>DE.BY.NO</td>\n",
       "      <td>9373</td>\n",
       "      <td>115.665.579.196.823</td>\n",
       "      <td>492.159.614.099.495</td>\n",
       "    </tr>\n",
       "    <tr>\n",
       "      <th>4</th>\n",
       "      <td>SK Rosenheim</td>\n",
       "      <td>2019</td>\n",
       "      <td>1,75246E+14</td>\n",
       "      <td>0.004127</td>\n",
       "      <td>8,68246E+14</td>\n",
       "      <td>5,25933E+14</td>\n",
       "      <td>2,41035E+14</td>\n",
       "      <td>7,69051E+14</td>\n",
       "      <td>1,79773E+14</td>\n",
       "      <td>1,62782E+14</td>\n",
       "      <td>1,64141E+14</td>\n",
       "      <td>4,89558E+14</td>\n",
       "      <td>1,24855E+14</td>\n",
       "      <td>122</td>\n",
       "      <td>remote</td>\n",
       "      <td>DE.BY.RH</td>\n",
       "      <td>9163</td>\n",
       "      <td>121.087.247.510.606</td>\n",
       "      <td>478.443.777.181.448</td>\n",
       "    </tr>\n",
       "  </tbody>\n",
       "</table>\n",
       "</div>"
      ],
      "text/plain": [
       "                   county  year NO2_annualMean  NO2_hrOver200 NO_annualMean  \\\n",
       "0  SK Freiburg i.Breisgau  2019        1575711       0.000000       6600048   \n",
       "1  LK Dillingen a.d.Donau  2019    1,89533E+14       0.004595    9,5195E+14   \n",
       "2             SK NŸrnberg  2019        2538007       0.000000       1251538   \n",
       "3    LK Neumarkt i.d.OPf.  2019    1,57092E+14       0.003532    8,1766E+14   \n",
       "4            SK Rosenheim  2019    1,75246E+14       0.004127   8,68246E+14   \n",
       "\n",
       "  O3_annualMean O3_daysOver120 O3_dailyMaxAnnualMean O3_dailyHourlyMax  \\\n",
       "0        554519              6               8370603             218.5   \n",
       "1    5,5639E+14    3,80237E+14           7,88278E+14       1,80314E+14   \n",
       "2       4532018              0               7369548            160.34   \n",
       "3   5,20949E+14    2,18259E+14           7,65906E+14       1,79684E+14   \n",
       "4   5,25933E+14    2,41035E+14           7,69051E+14       1,79773E+14   \n",
       "\n",
       "  O3_daily8HrMax PM10_annualMean PM10_daysOver50 PM2.5_annualMean  kreis_code  \\\n",
       "0         206925         1247323               2          8984028          12   \n",
       "1    1,63814E+14     1,72883E+14     5,36691E+14      1,29524E+14          68   \n",
       "2        1556725     1,53677E+14     4,89558E+14          1151754         107   \n",
       "3    1,62613E+14     1,60922E+14     4,89558E+14      1,22698E+14         110   \n",
       "4    1,62782E+14     1,64141E+14     4,89558E+14      1,24855E+14         122   \n",
       "\n",
       "  scenario  ISO_code  Kreis_Scluessel                  Lon  \\\n",
       "0   remote  DE.BW.FB             8311  781.807.596.196.695   \n",
       "1   remote  DE.BY.DD             9773  105.277.641.680.394   \n",
       "2   remote  DE.BY.NR             9564  110.827.553.425.797   \n",
       "3   remote  DE.BY.NO             9373  115.665.579.196.823   \n",
       "4   remote  DE.BY.RH             9163  121.087.247.510.606   \n",
       "\n",
       "                   Lat  \n",
       "0  479.925.229.956.189  \n",
       "1  485.964.037.973.776  \n",
       "2  494.362.114.486.059  \n",
       "3  492.159.614.099.495  \n",
       "4  478.443.777.181.448  "
      ]
     },
     "execution_count": 14,
     "metadata": {},
     "output_type": "execute_result"
    }
   ],
   "source": [
    "import pandas as pd \n",
    "pollution_data = pd.read_csv(\"../raw_data/APexpose.csv\",\n",
    "                             sep=';',\n",
    "                             decimal='.',\n",
    "                            encoding = 'Windows-1252' # needed special encoder to be able to read csv\n",
    "                            )\n",
    "pollution_data.head()"
   ]
  },
  {
   "cell_type": "markdown",
   "id": "68d755d3",
   "metadata": {},
   "source": [
    "!!!!!!! Take care of hour/day format\n",
    "\n",
    "!!!!!!! Check per pollutant which feature is most interesting\n",
    "\n",
    "!!!!!!! PM10_daysOver50: check out exponent 14 (could be imputation error)"
   ]
  },
  {
   "cell_type": "code",
   "execution_count": 15,
   "id": "a8d33dd8",
   "metadata": {},
   "outputs": [
    {
     "data": {
      "text/plain": [
       "(12060, 19)"
      ]
     },
     "execution_count": 15,
     "metadata": {},
     "output_type": "execute_result"
    }
   ],
   "source": [
    "pollution_data.shape"
   ]
  },
  {
   "cell_type": "markdown",
   "id": "0767a6bf",
   "metadata": {},
   "source": [
    "## Clean AP expose county column to match Covid dataset"
   ]
  },
  {
   "cell_type": "code",
   "execution_count": 16,
   "id": "41541c93",
   "metadata": {},
   "outputs": [],
   "source": [
    "## Some funny characters present in county names of APExpose dataset\n",
    "## Replace those characters with equivalent German character to match Covid dataset and be able to merge\n",
    "\n",
    "pollution_data['county'] = pollution_data['county'].apply(lambda x: x.replace('Ÿ','ü'))\n",
    "pollution_data['county'] = pollution_data['county'].apply(lambda x: x.replace('š','ö'))\n",
    "pollution_data['county'] = pollution_data['county'].apply(lambda x: x.replace('§','ß'))\n",
    "pollution_data['county'] = pollution_data['county'].apply(lambda x: x.replace('Š','ä'))"
   ]
  },
  {
   "cell_type": "markdown",
   "id": "905ed7f4",
   "metadata": {},
   "source": [
    "!!!!!!!!! Save as UTF-8 encoded file instead"
   ]
  },
  {
   "cell_type": "markdown",
   "id": "fff36030",
   "metadata": {},
   "source": [
    "## Convert columns to floats "
   ]
  },
  {
   "cell_type": "code",
   "execution_count": 17,
   "id": "655d9e4a",
   "metadata": {},
   "outputs": [
    {
     "data": {
      "text/plain": [
       "county                    object\n",
       "year                       int64\n",
       "NO2_annualMean            object\n",
       "NO2_hrOver200            float64\n",
       "NO_annualMean             object\n",
       "O3_annualMean             object\n",
       "O3_daysOver120            object\n",
       "O3_dailyMaxAnnualMean     object\n",
       "O3_dailyHourlyMax         object\n",
       "O3_daily8HrMax            object\n",
       "PM10_annualMean           object\n",
       "PM10_daysOver50           object\n",
       "PM2.5_annualMean          object\n",
       "kreis_code                 int64\n",
       "scenario                  object\n",
       "ISO_code                  object\n",
       "Kreis_Scluessel            int64\n",
       "Lon                       object\n",
       "Lat                       object\n",
       "dtype: object"
      ]
     },
     "execution_count": 17,
     "metadata": {},
     "output_type": "execute_result"
    }
   ],
   "source": [
    "## some numerical features are recognized as object > convert to floats\n",
    "pollution_data.dtypes"
   ]
  },
  {
   "cell_type": "code",
   "execution_count": 18,
   "id": "a1913e7a",
   "metadata": {},
   "outputs": [
    {
     "data": {
      "text/html": [
       "<div>\n",
       "<style scoped>\n",
       "    .dataframe tbody tr th:only-of-type {\n",
       "        vertical-align: middle;\n",
       "    }\n",
       "\n",
       "    .dataframe tbody tr th {\n",
       "        vertical-align: top;\n",
       "    }\n",
       "\n",
       "    .dataframe thead th {\n",
       "        text-align: right;\n",
       "    }\n",
       "</style>\n",
       "<table border=\"1\" class=\"dataframe\">\n",
       "  <thead>\n",
       "    <tr style=\"text-align: right;\">\n",
       "      <th></th>\n",
       "      <th>NO2_annualMean</th>\n",
       "      <th>NO_annualMean</th>\n",
       "      <th>O3_annualMean</th>\n",
       "      <th>O3_daysOver120</th>\n",
       "      <th>O3_dailyMaxAnnualMean</th>\n",
       "      <th>O3_dailyHourlyMax</th>\n",
       "      <th>O3_daily8HrMax</th>\n",
       "      <th>PM10_annualMean</th>\n",
       "      <th>PM10_daysOver50</th>\n",
       "      <th>PM2.5_annualMean</th>\n",
       "    </tr>\n",
       "  </thead>\n",
       "  <tbody>\n",
       "    <tr>\n",
       "      <th>0</th>\n",
       "      <td>1575711</td>\n",
       "      <td>6600048</td>\n",
       "      <td>554519</td>\n",
       "      <td>6</td>\n",
       "      <td>8370603</td>\n",
       "      <td>218.5</td>\n",
       "      <td>206925</td>\n",
       "      <td>1247323</td>\n",
       "      <td>2</td>\n",
       "      <td>8984028</td>\n",
       "    </tr>\n",
       "    <tr>\n",
       "      <th>1</th>\n",
       "      <td>1.89533E+14</td>\n",
       "      <td>9.5195E+14</td>\n",
       "      <td>5.5639E+14</td>\n",
       "      <td>3.80237E+14</td>\n",
       "      <td>7.88278E+14</td>\n",
       "      <td>1.80314E+14</td>\n",
       "      <td>1.63814E+14</td>\n",
       "      <td>1.72883E+14</td>\n",
       "      <td>5.36691E+14</td>\n",
       "      <td>1.29524E+14</td>\n",
       "    </tr>\n",
       "    <tr>\n",
       "      <th>2</th>\n",
       "      <td>2538007</td>\n",
       "      <td>1251538</td>\n",
       "      <td>4532018</td>\n",
       "      <td>0</td>\n",
       "      <td>7369548</td>\n",
       "      <td>160.34</td>\n",
       "      <td>1556725</td>\n",
       "      <td>1.53677E+14</td>\n",
       "      <td>4.89558E+14</td>\n",
       "      <td>1151754</td>\n",
       "    </tr>\n",
       "    <tr>\n",
       "      <th>3</th>\n",
       "      <td>1.57092E+14</td>\n",
       "      <td>8.1766E+14</td>\n",
       "      <td>5.20949E+14</td>\n",
       "      <td>2.18259E+14</td>\n",
       "      <td>7.65906E+14</td>\n",
       "      <td>1.79684E+14</td>\n",
       "      <td>1.62613E+14</td>\n",
       "      <td>1.60922E+14</td>\n",
       "      <td>4.89558E+14</td>\n",
       "      <td>1.22698E+14</td>\n",
       "    </tr>\n",
       "    <tr>\n",
       "      <th>4</th>\n",
       "      <td>1.75246E+14</td>\n",
       "      <td>8.68246E+14</td>\n",
       "      <td>5.25933E+14</td>\n",
       "      <td>2.41035E+14</td>\n",
       "      <td>7.69051E+14</td>\n",
       "      <td>1.79773E+14</td>\n",
       "      <td>1.62782E+14</td>\n",
       "      <td>1.64141E+14</td>\n",
       "      <td>4.89558E+14</td>\n",
       "      <td>1.24855E+14</td>\n",
       "    </tr>\n",
       "    <tr>\n",
       "      <th>...</th>\n",
       "      <td>...</td>\n",
       "      <td>...</td>\n",
       "      <td>...</td>\n",
       "      <td>...</td>\n",
       "      <td>...</td>\n",
       "      <td>...</td>\n",
       "      <td>...</td>\n",
       "      <td>...</td>\n",
       "      <td>...</td>\n",
       "      <td>...</td>\n",
       "    </tr>\n",
       "    <tr>\n",
       "      <th>12055</th>\n",
       "      <td>1.62945E+14</td>\n",
       "      <td>1.00408E+14</td>\n",
       "      <td>4.83182E+14</td>\n",
       "      <td>0.475016480031872</td>\n",
       "      <td>7.41372E+14</td>\n",
       "      <td>1.78878E+14</td>\n",
       "      <td>1.61199E+14</td>\n",
       "      <td>1.69622E+14</td>\n",
       "      <td>8.22521E+14</td>\n",
       "      <td>1.27782E+14</td>\n",
       "    </tr>\n",
       "    <tr>\n",
       "      <th>12056</th>\n",
       "      <td>1.55135E+14</td>\n",
       "      <td>8.85344E+14</td>\n",
       "      <td>4198194</td>\n",
       "      <td>0</td>\n",
       "      <td>539256</td>\n",
       "      <td>7608353</td>\n",
       "      <td>7190579</td>\n",
       "      <td>1.73673E+14</td>\n",
       "      <td>8.19956E+14</td>\n",
       "      <td>1.30136E+14</td>\n",
       "    </tr>\n",
       "    <tr>\n",
       "      <th>12057</th>\n",
       "      <td>1.75476E+14</td>\n",
       "      <td>9.02635E+14</td>\n",
       "      <td>5.1264E+14</td>\n",
       "      <td>1.81105E+14</td>\n",
       "      <td>7.60073E+14</td>\n",
       "      <td>1.79476E+14</td>\n",
       "      <td>1.62269E+14</td>\n",
       "      <td>1.78348E+14</td>\n",
       "      <td>7.28954E+14</td>\n",
       "      <td>1.33293E+14</td>\n",
       "    </tr>\n",
       "    <tr>\n",
       "      <th>12058</th>\n",
       "      <td>1317742</td>\n",
       "      <td>7047741</td>\n",
       "      <td>5017721</td>\n",
       "      <td>2</td>\n",
       "      <td>7453781</td>\n",
       "      <td>1670885</td>\n",
       "      <td>161277</td>\n",
       "      <td>2275303</td>\n",
       "      <td>15</td>\n",
       "      <td>1.39323E+14</td>\n",
       "    </tr>\n",
       "    <tr>\n",
       "      <th>12059</th>\n",
       "      <td>1645816</td>\n",
       "      <td>1745612</td>\n",
       "      <td>4755796</td>\n",
       "      <td>0</td>\n",
       "      <td>7493859</td>\n",
       "      <td>1529368</td>\n",
       "      <td>1436465</td>\n",
       "      <td>1911005</td>\n",
       "      <td>14</td>\n",
       "      <td>1541466</td>\n",
       "    </tr>\n",
       "  </tbody>\n",
       "</table>\n",
       "<p>12060 rows × 10 columns</p>\n",
       "</div>"
      ],
      "text/plain": [
       "      NO2_annualMean NO_annualMean O3_annualMean     O3_daysOver120  \\\n",
       "0            1575711       6600048        554519                  6   \n",
       "1        1.89533E+14    9.5195E+14    5.5639E+14        3.80237E+14   \n",
       "2            2538007       1251538       4532018                  0   \n",
       "3        1.57092E+14    8.1766E+14   5.20949E+14        2.18259E+14   \n",
       "4        1.75246E+14   8.68246E+14   5.25933E+14        2.41035E+14   \n",
       "...              ...           ...           ...                ...   \n",
       "12055    1.62945E+14   1.00408E+14   4.83182E+14  0.475016480031872   \n",
       "12056    1.55135E+14   8.85344E+14       4198194                  0   \n",
       "12057    1.75476E+14   9.02635E+14    5.1264E+14        1.81105E+14   \n",
       "12058        1317742       7047741       5017721                  2   \n",
       "12059        1645816       1745612       4755796                  0   \n",
       "\n",
       "      O3_dailyMaxAnnualMean O3_dailyHourlyMax O3_daily8HrMax PM10_annualMean  \\\n",
       "0                   8370603             218.5         206925         1247323   \n",
       "1               7.88278E+14       1.80314E+14    1.63814E+14     1.72883E+14   \n",
       "2                   7369548            160.34        1556725     1.53677E+14   \n",
       "3               7.65906E+14       1.79684E+14    1.62613E+14     1.60922E+14   \n",
       "4               7.69051E+14       1.79773E+14    1.62782E+14     1.64141E+14   \n",
       "...                     ...               ...            ...             ...   \n",
       "12055           7.41372E+14       1.78878E+14    1.61199E+14     1.69622E+14   \n",
       "12056                539256           7608353        7190579     1.73673E+14   \n",
       "12057           7.60073E+14       1.79476E+14    1.62269E+14     1.78348E+14   \n",
       "12058               7453781           1670885         161277         2275303   \n",
       "12059               7493859           1529368        1436465         1911005   \n",
       "\n",
       "      PM10_daysOver50 PM2.5_annualMean  \n",
       "0                   2          8984028  \n",
       "1         5.36691E+14      1.29524E+14  \n",
       "2         4.89558E+14          1151754  \n",
       "3         4.89558E+14      1.22698E+14  \n",
       "4         4.89558E+14      1.24855E+14  \n",
       "...               ...              ...  \n",
       "12055     8.22521E+14      1.27782E+14  \n",
       "12056     8.19956E+14      1.30136E+14  \n",
       "12057     7.28954E+14      1.33293E+14  \n",
       "12058              15      1.39323E+14  \n",
       "12059              14          1541466  \n",
       "\n",
       "[12060 rows x 10 columns]"
      ]
     },
     "execution_count": 18,
     "metadata": {},
     "output_type": "execute_result"
    }
   ],
   "source": [
    "## Conversion to numerical feature only works if decimals are dots instead of comma > replace all commas with a dot\n",
    "\n",
    "for column in ['NO2_annualMean', 'NO_annualMean','O3_annualMean', 'O3_daysOver120', 'O3_dailyMaxAnnualMean','O3_dailyHourlyMax', 'O3_daily8HrMax', 'PM10_annualMean','PM10_daysOver50', 'PM2.5_annualMean']:\n",
    "    pollution_data[column] = pollution_data[column].apply(lambda x: x.replace(',','.'))\n",
    "pollution_data[['NO2_annualMean', 'NO_annualMean',\n",
    "       'O3_annualMean', 'O3_daysOver120', 'O3_dailyMaxAnnualMean',\n",
    "       'O3_dailyHourlyMax', 'O3_daily8HrMax', 'PM10_annualMean',\n",
    "       'PM10_daysOver50', 'PM2.5_annualMean']]"
   ]
  },
  {
   "cell_type": "code",
   "execution_count": 19,
   "id": "03803566",
   "metadata": {},
   "outputs": [],
   "source": [
    "#Convert to float\n",
    "for column in ['NO2_annualMean', 'NO_annualMean','O3_annualMean', 'O3_daysOver120', 'O3_dailyMaxAnnualMean','O3_dailyHourlyMax', 'O3_daily8HrMax', 'PM10_annualMean','PM10_daysOver50', 'PM2.5_annualMean']:\n",
    "    pollution_data[column] = pollution_data[column].apply(lambda x: float(x))"
   ]
  },
  {
   "cell_type": "code",
   "execution_count": 20,
   "id": "604877aa",
   "metadata": {},
   "outputs": [
    {
     "data": {
      "text/plain": [
       "county                    object\n",
       "year                       int64\n",
       "NO2_annualMean           float64\n",
       "NO2_hrOver200            float64\n",
       "NO_annualMean            float64\n",
       "O3_annualMean            float64\n",
       "O3_daysOver120           float64\n",
       "O3_dailyMaxAnnualMean    float64\n",
       "O3_dailyHourlyMax        float64\n",
       "O3_daily8HrMax           float64\n",
       "PM10_annualMean          float64\n",
       "PM10_daysOver50          float64\n",
       "PM2.5_annualMean         float64\n",
       "kreis_code                 int64\n",
       "scenario                  object\n",
       "ISO_code                  object\n",
       "Kreis_Scluessel            int64\n",
       "Lon                       object\n",
       "Lat                       object\n",
       "dtype: object"
      ]
     },
     "execution_count": 20,
     "metadata": {},
     "output_type": "execute_result"
    }
   ],
   "source": [
    "#Check datatypes\n",
    "pollution_data.dtypes"
   ]
  },
  {
   "cell_type": "markdown",
   "id": "fcd8a657",
   "metadata": {},
   "source": [
    "## Drop counties present in APexpore but not Covid\n",
    "\n",
    "Eisenach, Osterode am Harz present in AP dataset but not in Covid dataset (because they were merged with another county after 2019): drop those rows for all time points"
   ]
  },
  {
   "cell_type": "code",
   "execution_count": 21,
   "id": "a832d244",
   "metadata": {},
   "outputs": [
    {
     "data": {
      "text/plain": [
       "(12060, 19)"
      ]
     },
     "execution_count": 21,
     "metadata": {},
     "output_type": "execute_result"
    }
   ],
   "source": [
    "pollution_data.shape"
   ]
  },
  {
   "cell_type": "code",
   "execution_count": 22,
   "id": "02bc963f",
   "metadata": {
    "scrolled": true
   },
   "outputs": [
    {
     "data": {
      "text/plain": [
       "(12030, 19)"
      ]
     },
     "execution_count": 22,
     "metadata": {},
     "output_type": "execute_result"
    }
   ],
   "source": [
    "pollution_data = pollution_data[pollution_data.county != 'Eisenach']\n",
    "pollution_data.shape"
   ]
  },
  {
   "cell_type": "code",
   "execution_count": 23,
   "id": "44463e52",
   "metadata": {},
   "outputs": [
    {
     "data": {
      "text/plain": [
       "(12000, 19)"
      ]
     },
     "execution_count": 23,
     "metadata": {},
     "output_type": "execute_result"
    }
   ],
   "source": [
    "pollution_data = pollution_data[pollution_data.county != 'Osterode am Harz']\n",
    "pollution_data.shape\n"
   ]
  },
  {
   "cell_type": "markdown",
   "id": "93899b49",
   "metadata": {},
   "source": [
    "!!!!!!!! Merge instead of dropping"
   ]
  },
  {
   "cell_type": "code",
   "execution_count": 24,
   "id": "458093fa",
   "metadata": {},
   "outputs": [],
   "source": [
    "# air pollution data set is not organized chronologically > to extract air pollution data in chronological order, we loop over a list that indicates the correct order\n",
    "time_point_order = [12,13,14, 15,16,17, 9,10,11, 3,4,5, 27,28,29, 6,7,8, 21,22,23, 18,19,20, 24,25,26, 0,1,2]\n",
    "time_point_order = [i*400 for i in time_point_order] ## 400 counties total, so multiply number by 400 to get data for 1 county over time"
   ]
  },
  {
   "cell_type": "code",
   "execution_count": 25,
   "id": "4e8c3423",
   "metadata": {},
   "outputs": [],
   "source": [
    "# df.sort_values(['county','year']) \n",
    "# inplace=True or assign to dataframe and check result"
   ]
  },
  {
   "cell_type": "code",
   "execution_count": 26,
   "id": "0c7b0e3f",
   "metadata": {},
   "outputs": [],
   "source": [
    "# Retrieve data for one county (in this case number 300) and extract measurements of PM2.5 over time\n",
    "\n",
    "temporal_time_points = [pollution_data['PM2.5_annualMean'][300+i] for i in time_point_order]"
   ]
  },
  {
   "cell_type": "code",
   "execution_count": 27,
   "id": "187471e7",
   "metadata": {},
   "outputs": [
    {
     "data": {
      "text/plain": [
       "[<matplotlib.lines.Line2D at 0x113b6f6a0>]"
      ]
     },
     "execution_count": 27,
     "metadata": {},
     "output_type": "execute_result"
    },
    {
     "data": {
      "image/png": "[encoded data removed]",
      "text/plain": [
       "<Figure size 432x288 with 1 Axes>"
      ]
     },
     "metadata": {
      "needs_background": "light"
     },
     "output_type": "display_data"
    }
   ],
   "source": [
    "import matplotlib.pyplot as plt\n",
    "plt.plot(temporal_time_points)"
   ]
  },
  {
   "cell_type": "markdown",
   "id": "4a7c53fe",
   "metadata": {},
   "source": [
    "PROBLEM: HUGE variation in order of mangnitude for different measurements - the low ones are probably imputed > needs to be fixed!"
   ]
  },
  {
   "cell_type": "markdown",
   "id": "78a5fe15",
   "metadata": {},
   "source": [
    "# Merge APexpose and Covid datasets"
   ]
  },
  {
   "cell_type": "code",
   "execution_count": 28,
   "id": "f91c5f04",
   "metadata": {
    "scrolled": true
   },
   "outputs": [
    {
     "data": {
      "text/html": [
       "<div>\n",
       "<style scoped>\n",
       "    .dataframe tbody tr th:only-of-type {\n",
       "        vertical-align: middle;\n",
       "    }\n",
       "\n",
       "    .dataframe tbody tr th {\n",
       "        vertical-align: top;\n",
       "    }\n",
       "\n",
       "    .dataframe thead th {\n",
       "        text-align: right;\n",
       "    }\n",
       "</style>\n",
       "<table border=\"1\" class=\"dataframe\">\n",
       "  <thead>\n",
       "    <tr style=\"text-align: right;\">\n",
       "      <th></th>\n",
       "      <th>county</th>\n",
       "      <th>year</th>\n",
       "      <th>NO2_annualMean</th>\n",
       "      <th>NO2_hrOver200</th>\n",
       "      <th>NO_annualMean</th>\n",
       "      <th>O3_annualMean</th>\n",
       "      <th>O3_daysOver120</th>\n",
       "      <th>O3_dailyMaxAnnualMean</th>\n",
       "      <th>O3_dailyHourlyMax</th>\n",
       "      <th>O3_daily8HrMax</th>\n",
       "      <th>...</th>\n",
       "      <th>Lon</th>\n",
       "      <th>Lat</th>\n",
       "      <th>BL</th>\n",
       "      <th>EWZ</th>\n",
       "      <th>Shape__Area</th>\n",
       "      <th>death_rate</th>\n",
       "      <th>cases</th>\n",
       "      <th>deaths</th>\n",
       "      <th>cases_per_100k</th>\n",
       "      <th>deaths_per_100k</th>\n",
       "    </tr>\n",
       "  </thead>\n",
       "  <tbody>\n",
       "    <tr>\n",
       "      <th>0</th>\n",
       "      <td>SK Freiburg i.Breisgau</td>\n",
       "      <td>2019</td>\n",
       "      <td>1.575711e+06</td>\n",
       "      <td>0.000000</td>\n",
       "      <td>6.600048e+06</td>\n",
       "      <td>554519.0</td>\n",
       "      <td>6.0</td>\n",
       "      <td>8370603.0</td>\n",
       "      <td>218.5</td>\n",
       "      <td>206925.0</td>\n",
       "      <td>...</td>\n",
       "      <td>781.807.596.196.695</td>\n",
       "      <td>479.925.229.956.189</td>\n",
       "      <td>Baden-Württemberg</td>\n",
       "      <td>230940</td>\n",
       "      <td>1.541063e+08</td>\n",
       "      <td>1.606712</td>\n",
       "      <td>11203</td>\n",
       "      <td>180</td>\n",
       "      <td>4851.043561</td>\n",
       "      <td>77.942323</td>\n",
       "    </tr>\n",
       "    <tr>\n",
       "      <th>1</th>\n",
       "      <td>SK Freiburg i.Breisgau</td>\n",
       "      <td>2019</td>\n",
       "      <td>1.575711e+06</td>\n",
       "      <td>0.000000</td>\n",
       "      <td>6.600048e+06</td>\n",
       "      <td>554519.0</td>\n",
       "      <td>6.0</td>\n",
       "      <td>8370603.0</td>\n",
       "      <td>218.5</td>\n",
       "      <td>206925.0</td>\n",
       "      <td>...</td>\n",
       "      <td>781.807.596.196.695</td>\n",
       "      <td>479.925.229.956.189</td>\n",
       "      <td>Baden-Württemberg</td>\n",
       "      <td>230940</td>\n",
       "      <td>1.541063e+08</td>\n",
       "      <td>1.606712</td>\n",
       "      <td>11203</td>\n",
       "      <td>180</td>\n",
       "      <td>4851.043561</td>\n",
       "      <td>77.942323</td>\n",
       "    </tr>\n",
       "    <tr>\n",
       "      <th>2</th>\n",
       "      <td>SK Freiburg i.Breisgau</td>\n",
       "      <td>2019</td>\n",
       "      <td>1.575711e+06</td>\n",
       "      <td>0.000000</td>\n",
       "      <td>6.600048e+06</td>\n",
       "      <td>554519.0</td>\n",
       "      <td>6.0</td>\n",
       "      <td>8370603.0</td>\n",
       "      <td>218.5</td>\n",
       "      <td>206925.0</td>\n",
       "      <td>...</td>\n",
       "      <td>781.807.596.196.695</td>\n",
       "      <td>479.925.229.956.189</td>\n",
       "      <td>Baden-Württemberg</td>\n",
       "      <td>230940</td>\n",
       "      <td>1.541063e+08</td>\n",
       "      <td>1.606712</td>\n",
       "      <td>11203</td>\n",
       "      <td>180</td>\n",
       "      <td>4851.043561</td>\n",
       "      <td>77.942323</td>\n",
       "    </tr>\n",
       "    <tr>\n",
       "      <th>3</th>\n",
       "      <td>SK Freiburg i.Breisgau</td>\n",
       "      <td>2013</td>\n",
       "      <td>1.490030e+13</td>\n",
       "      <td>0.003266</td>\n",
       "      <td>8.714800e+13</td>\n",
       "      <td>4839038.0</td>\n",
       "      <td>1.0</td>\n",
       "      <td>7672329.0</td>\n",
       "      <td>180.0</td>\n",
       "      <td>167125.0</td>\n",
       "      <td>...</td>\n",
       "      <td>781.807.596.196.695</td>\n",
       "      <td>479.925.229.956.189</td>\n",
       "      <td>Baden-Württemberg</td>\n",
       "      <td>230940</td>\n",
       "      <td>1.541063e+08</td>\n",
       "      <td>1.606712</td>\n",
       "      <td>11203</td>\n",
       "      <td>180</td>\n",
       "      <td>4851.043561</td>\n",
       "      <td>77.942323</td>\n",
       "    </tr>\n",
       "    <tr>\n",
       "      <th>4</th>\n",
       "      <td>SK Freiburg i.Breisgau</td>\n",
       "      <td>2013</td>\n",
       "      <td>1.547840e+14</td>\n",
       "      <td>0.005519</td>\n",
       "      <td>9.045150e+14</td>\n",
       "      <td>4839038.0</td>\n",
       "      <td>1.0</td>\n",
       "      <td>7672329.0</td>\n",
       "      <td>180.0</td>\n",
       "      <td>167125.0</td>\n",
       "      <td>...</td>\n",
       "      <td>781.807.596.196.695</td>\n",
       "      <td>479.925.229.956.189</td>\n",
       "      <td>Baden-Württemberg</td>\n",
       "      <td>230940</td>\n",
       "      <td>1.541063e+08</td>\n",
       "      <td>1.606712</td>\n",
       "      <td>11203</td>\n",
       "      <td>180</td>\n",
       "      <td>4851.043561</td>\n",
       "      <td>77.942323</td>\n",
       "    </tr>\n",
       "    <tr>\n",
       "      <th>...</th>\n",
       "      <td>...</td>\n",
       "      <td>...</td>\n",
       "      <td>...</td>\n",
       "      <td>...</td>\n",
       "      <td>...</td>\n",
       "      <td>...</td>\n",
       "      <td>...</td>\n",
       "      <td>...</td>\n",
       "      <td>...</td>\n",
       "      <td>...</td>\n",
       "      <td>...</td>\n",
       "      <td>...</td>\n",
       "      <td>...</td>\n",
       "      <td>...</td>\n",
       "      <td>...</td>\n",
       "      <td>...</td>\n",
       "      <td>...</td>\n",
       "      <td>...</td>\n",
       "      <td>...</td>\n",
       "      <td>...</td>\n",
       "      <td>...</td>\n",
       "    </tr>\n",
       "    <tr>\n",
       "      <th>11995</th>\n",
       "      <td>LK Greiz</td>\n",
       "      <td>2018</td>\n",
       "      <td>1.785670e+05</td>\n",
       "      <td>0.000000</td>\n",
       "      <td>1.502605e+06</td>\n",
       "      <td>5203447.0</td>\n",
       "      <td>0.0</td>\n",
       "      <td>8555937.0</td>\n",
       "      <td>1701013.0</td>\n",
       "      <td>1553521.0</td>\n",
       "      <td>...</td>\n",
       "      <td>120.740.705.738.675</td>\n",
       "      <td>507.484.595.537.929</td>\n",
       "      <td>Thüringen</td>\n",
       "      <td>96668</td>\n",
       "      <td>8.465426e+08</td>\n",
       "      <td>2.504856</td>\n",
       "      <td>9781</td>\n",
       "      <td>245</td>\n",
       "      <td>10118.136302</td>\n",
       "      <td>253.444780</td>\n",
       "    </tr>\n",
       "    <tr>\n",
       "      <th>11996</th>\n",
       "      <td>LK Greiz</td>\n",
       "      <td>2018</td>\n",
       "      <td>1.785670e+05</td>\n",
       "      <td>0.000000</td>\n",
       "      <td>1.502605e+06</td>\n",
       "      <td>5203447.0</td>\n",
       "      <td>0.0</td>\n",
       "      <td>8555937.0</td>\n",
       "      <td>1701013.0</td>\n",
       "      <td>1553521.0</td>\n",
       "      <td>...</td>\n",
       "      <td>120.740.705.738.675</td>\n",
       "      <td>507.484.595.537.929</td>\n",
       "      <td>Thüringen</td>\n",
       "      <td>96668</td>\n",
       "      <td>8.465426e+08</td>\n",
       "      <td>2.504856</td>\n",
       "      <td>9781</td>\n",
       "      <td>245</td>\n",
       "      <td>10118.136302</td>\n",
       "      <td>253.444780</td>\n",
       "    </tr>\n",
       "    <tr>\n",
       "      <th>11997</th>\n",
       "      <td>LK Greiz</td>\n",
       "      <td>2014</td>\n",
       "      <td>1.645816e+06</td>\n",
       "      <td>0.000000</td>\n",
       "      <td>1.745612e+06</td>\n",
       "      <td>4755796.0</td>\n",
       "      <td>0.0</td>\n",
       "      <td>7493859.0</td>\n",
       "      <td>1529368.0</td>\n",
       "      <td>1436465.0</td>\n",
       "      <td>...</td>\n",
       "      <td>120.740.705.738.675</td>\n",
       "      <td>507.484.595.537.929</td>\n",
       "      <td>Thüringen</td>\n",
       "      <td>96668</td>\n",
       "      <td>8.465426e+08</td>\n",
       "      <td>2.504856</td>\n",
       "      <td>9781</td>\n",
       "      <td>245</td>\n",
       "      <td>10118.136302</td>\n",
       "      <td>253.444780</td>\n",
       "    </tr>\n",
       "    <tr>\n",
       "      <th>11998</th>\n",
       "      <td>LK Greiz</td>\n",
       "      <td>2014</td>\n",
       "      <td>1.645816e+06</td>\n",
       "      <td>0.000000</td>\n",
       "      <td>1.745612e+06</td>\n",
       "      <td>4755796.0</td>\n",
       "      <td>0.0</td>\n",
       "      <td>7493859.0</td>\n",
       "      <td>1529368.0</td>\n",
       "      <td>1436465.0</td>\n",
       "      <td>...</td>\n",
       "      <td>120.740.705.738.675</td>\n",
       "      <td>507.484.595.537.929</td>\n",
       "      <td>Thüringen</td>\n",
       "      <td>96668</td>\n",
       "      <td>8.465426e+08</td>\n",
       "      <td>2.504856</td>\n",
       "      <td>9781</td>\n",
       "      <td>245</td>\n",
       "      <td>10118.136302</td>\n",
       "      <td>253.444780</td>\n",
       "    </tr>\n",
       "    <tr>\n",
       "      <th>11999</th>\n",
       "      <td>LK Greiz</td>\n",
       "      <td>2014</td>\n",
       "      <td>1.645816e+06</td>\n",
       "      <td>0.000000</td>\n",
       "      <td>1.745612e+06</td>\n",
       "      <td>4755796.0</td>\n",
       "      <td>0.0</td>\n",
       "      <td>7493859.0</td>\n",
       "      <td>1529368.0</td>\n",
       "      <td>1436465.0</td>\n",
       "      <td>...</td>\n",
       "      <td>120.740.705.738.675</td>\n",
       "      <td>507.484.595.537.929</td>\n",
       "      <td>Thüringen</td>\n",
       "      <td>96668</td>\n",
       "      <td>8.465426e+08</td>\n",
       "      <td>2.504856</td>\n",
       "      <td>9781</td>\n",
       "      <td>245</td>\n",
       "      <td>10118.136302</td>\n",
       "      <td>253.444780</td>\n",
       "    </tr>\n",
       "  </tbody>\n",
       "</table>\n",
       "<p>12000 rows × 27 columns</p>\n",
       "</div>"
      ],
      "text/plain": [
       "                       county  year  NO2_annualMean  NO2_hrOver200  \\\n",
       "0      SK Freiburg i.Breisgau  2019    1.575711e+06       0.000000   \n",
       "1      SK Freiburg i.Breisgau  2019    1.575711e+06       0.000000   \n",
       "2      SK Freiburg i.Breisgau  2019    1.575711e+06       0.000000   \n",
       "3      SK Freiburg i.Breisgau  2013    1.490030e+13       0.003266   \n",
       "4      SK Freiburg i.Breisgau  2013    1.547840e+14       0.005519   \n",
       "...                       ...   ...             ...            ...   \n",
       "11995                LK Greiz  2018    1.785670e+05       0.000000   \n",
       "11996                LK Greiz  2018    1.785670e+05       0.000000   \n",
       "11997                LK Greiz  2014    1.645816e+06       0.000000   \n",
       "11998                LK Greiz  2014    1.645816e+06       0.000000   \n",
       "11999                LK Greiz  2014    1.645816e+06       0.000000   \n",
       "\n",
       "       NO_annualMean  O3_annualMean  O3_daysOver120  O3_dailyMaxAnnualMean  \\\n",
       "0       6.600048e+06       554519.0             6.0              8370603.0   \n",
       "1       6.600048e+06       554519.0             6.0              8370603.0   \n",
       "2       6.600048e+06       554519.0             6.0              8370603.0   \n",
       "3       8.714800e+13      4839038.0             1.0              7672329.0   \n",
       "4       9.045150e+14      4839038.0             1.0              7672329.0   \n",
       "...              ...            ...             ...                    ...   \n",
       "11995   1.502605e+06      5203447.0             0.0              8555937.0   \n",
       "11996   1.502605e+06      5203447.0             0.0              8555937.0   \n",
       "11997   1.745612e+06      4755796.0             0.0              7493859.0   \n",
       "11998   1.745612e+06      4755796.0             0.0              7493859.0   \n",
       "11999   1.745612e+06      4755796.0             0.0              7493859.0   \n",
       "\n",
       "       O3_dailyHourlyMax  O3_daily8HrMax  ...                  Lon  \\\n",
       "0                  218.5        206925.0  ...  781.807.596.196.695   \n",
       "1                  218.5        206925.0  ...  781.807.596.196.695   \n",
       "2                  218.5        206925.0  ...  781.807.596.196.695   \n",
       "3                  180.0        167125.0  ...  781.807.596.196.695   \n",
       "4                  180.0        167125.0  ...  781.807.596.196.695   \n",
       "...                  ...             ...  ...                  ...   \n",
       "11995          1701013.0       1553521.0  ...  120.740.705.738.675   \n",
       "11996          1701013.0       1553521.0  ...  120.740.705.738.675   \n",
       "11997          1529368.0       1436465.0  ...  120.740.705.738.675   \n",
       "11998          1529368.0       1436465.0  ...  120.740.705.738.675   \n",
       "11999          1529368.0       1436465.0  ...  120.740.705.738.675   \n",
       "\n",
       "                       Lat                 BL     EWZ   Shape__Area  \\\n",
       "0      479.925.229.956.189  Baden-Württemberg  230940  1.541063e+08   \n",
       "1      479.925.229.956.189  Baden-Württemberg  230940  1.541063e+08   \n",
       "2      479.925.229.956.189  Baden-Württemberg  230940  1.541063e+08   \n",
       "3      479.925.229.956.189  Baden-Württemberg  230940  1.541063e+08   \n",
       "4      479.925.229.956.189  Baden-Württemberg  230940  1.541063e+08   \n",
       "...                    ...                ...     ...           ...   \n",
       "11995  507.484.595.537.929          Thüringen   96668  8.465426e+08   \n",
       "11996  507.484.595.537.929          Thüringen   96668  8.465426e+08   \n",
       "11997  507.484.595.537.929          Thüringen   96668  8.465426e+08   \n",
       "11998  507.484.595.537.929          Thüringen   96668  8.465426e+08   \n",
       "11999  507.484.595.537.929          Thüringen   96668  8.465426e+08   \n",
       "\n",
       "      death_rate  cases deaths cases_per_100k deaths_per_100k  \n",
       "0       1.606712  11203    180    4851.043561       77.942323  \n",
       "1       1.606712  11203    180    4851.043561       77.942323  \n",
       "2       1.606712  11203    180    4851.043561       77.942323  \n",
       "3       1.606712  11203    180    4851.043561       77.942323  \n",
       "4       1.606712  11203    180    4851.043561       77.942323  \n",
       "...          ...    ...    ...            ...             ...  \n",
       "11995   2.504856   9781    245   10118.136302      253.444780  \n",
       "11996   2.504856   9781    245   10118.136302      253.444780  \n",
       "11997   2.504856   9781    245   10118.136302      253.444780  \n",
       "11998   2.504856   9781    245   10118.136302      253.444780  \n",
       "11999   2.504856   9781    245   10118.136302      253.444780  \n",
       "\n",
       "[12000 rows x 27 columns]"
      ]
     },
     "execution_count": 28,
     "metadata": {},
     "output_type": "execute_result"
    }
   ],
   "source": [
    "merge_df = pollution_data.merge(covid_data, how='inner', on='county')\n",
    "merge_df"
   ]
  },
  {
   "cell_type": "code",
   "execution_count": 31,
   "id": "4c221eba",
   "metadata": {
    "scrolled": true
   },
   "outputs": [
    {
     "data": {
      "text/plain": [
       "Lon    781.807.596.196.695\n",
       "Lat    479.925.229.956.189\n",
       "Name: 0, dtype: object"
      ]
     },
     "execution_count": 31,
     "metadata": {},
     "output_type": "execute_result"
    }
   ],
   "source": [
    "merge_df.iloc[0][['Lon', 'Lat']]"
   ]
  },
  {
   "cell_type": "markdown",
   "id": "38211837",
   "metadata": {},
   "source": [
    "!!!!!! Lon and Lat is not what we need - merge from Chris dataset"
   ]
  },
  {
   "cell_type": "code",
   "execution_count": 32,
   "id": "dfa8c198",
   "metadata": {
    "scrolled": true
   },
   "outputs": [
    {
     "data": {
      "text/plain": [
       "Index(['county', 'year', 'NO2_annualMean', 'NO2_hrOver200', 'NO_annualMean',\n",
       "       'O3_annualMean', 'O3_daysOver120', 'O3_dailyMaxAnnualMean',\n",
       "       'O3_dailyHourlyMax', 'O3_daily8HrMax', 'PM10_annualMean',\n",
       "       'PM10_daysOver50', 'PM2.5_annualMean', 'kreis_code', 'scenario',\n",
       "       'ISO_code', 'Kreis_Scluessel', 'Lon', 'Lat', 'BL', 'EWZ', 'Shape__Area',\n",
       "       'death_rate', 'cases', 'deaths', 'cases_per_100k', 'deaths_per_100k'],\n",
       "      dtype='object')"
      ]
     },
     "execution_count": 32,
     "metadata": {},
     "output_type": "execute_result"
    }
   ],
   "source": [
    "merge_df.columns"
   ]
  },
  {
   "cell_type": "code",
   "execution_count": 33,
   "id": "d0f3463e",
   "metadata": {},
   "outputs": [
    {
     "data": {
      "text/plain": [
       "county                    object\n",
       "year                       int64\n",
       "NO2_annualMean           float64\n",
       "NO2_hrOver200            float64\n",
       "NO_annualMean            float64\n",
       "O3_annualMean            float64\n",
       "O3_daysOver120           float64\n",
       "O3_dailyMaxAnnualMean    float64\n",
       "O3_dailyHourlyMax        float64\n",
       "O3_daily8HrMax           float64\n",
       "PM10_annualMean          float64\n",
       "PM10_daysOver50          float64\n",
       "PM2.5_annualMean         float64\n",
       "kreis_code                 int64\n",
       "scenario                  object\n",
       "ISO_code                  object\n",
       "Kreis_Scluessel            int64\n",
       "Lon                       object\n",
       "Lat                       object\n",
       "BL                        object\n",
       "EWZ                        int64\n",
       "Shape__Area              float64\n",
       "death_rate               float64\n",
       "cases                      int64\n",
       "deaths                     int64\n",
       "cases_per_100k           float64\n",
       "deaths_per_100k          float64\n",
       "dtype: object"
      ]
     },
     "execution_count": 33,
     "metadata": {},
     "output_type": "execute_result"
    }
   ],
   "source": [
    "merge_df.dtypes"
   ]
  },
  {
   "cell_type": "markdown",
   "id": "0f5bafdb",
   "metadata": {},
   "source": [
    "# Covid & Air pollution - quick correlation check"
   ]
  },
  {
   "cell_type": "code",
   "execution_count": 46,
   "id": "cd3a7710",
   "metadata": {},
   "outputs": [],
   "source": [
    "# keep useful features only\n",
    "merge_df = merge_df.iloc[0:400][['county', 'NO2_annualMean', 'NO2_hrOver200', 'NO_annualMean',\n",
    "       'O3_annualMean', 'O3_daysOver120', 'O3_dailyMaxAnnualMean',\n",
    "       'O3_dailyHourlyMax', 'O3_daily8HrMax', 'PM10_annualMean',\n",
    "       'PM10_daysOver50', 'PM2_5_annualMean', 'cases_per_100k','deaths_per_100k']]"
   ]
  },
  {
   "cell_type": "code",
   "execution_count": 35,
   "id": "a05fb72a",
   "metadata": {},
   "outputs": [],
   "source": [
    "merge_df = merge_df.rename(columns={'PM2.5_annualMean': 'PM2_5_annualMean'})"
   ]
  },
  {
   "cell_type": "code",
   "execution_count": 36,
   "id": "9f636477",
   "metadata": {},
   "outputs": [],
   "source": [
    "#numerical features\n",
    "num_fact = ['NO2_annualMean', 'NO2_hrOver200', 'NO_annualMean',\n",
    "       'O3_annualMean', 'O3_daysOver120', 'O3_dailyMaxAnnualMean',\n",
    "       'O3_dailyHourlyMax', 'O3_daily8HrMax', 'PM10_annualMean',\n",
    "       'PM10_daysOver50', 'PM2_5_annualMean']"
   ]
  },
  {
   "cell_type": "code",
   "execution_count": 47,
   "id": "2d787f8b",
   "metadata": {},
   "outputs": [
    {
     "data": {
      "image/png": "[encoded data removed]",
      "text/plain": [
       "<Figure size 1080x1080 with 11 Axes>"
      ]
     },
     "metadata": {
      "needs_background": "light"
     },
     "output_type": "display_data"
    }
   ],
   "source": [
    "#check distribution of numerical features \n",
    "\n",
    "import matplotlib.pyplot as plt\n",
    "import seaborn as sns\n",
    "\n",
    "plt.figure(figsize=(15,15))\n",
    "\n",
    "for i, feature in enumerate(num_fact):\n",
    "    # First subplot\n",
    "    plt.subplot(4,3,i+1)\n",
    "    sns.histplot(merge_df[feature])\n",
    "    # Global figure methods\n",
    "plt.suptitle('Feature distributions')\n",
    "plt.show()"
   ]
  },
  {
   "cell_type": "code",
   "execution_count": 48,
   "id": "c3e74ef2",
   "metadata": {
    "scrolled": true
   },
   "outputs": [
    {
     "data": {
      "image/png": "[encoded data removed]",
      "text/plain": [
       "<Figure size 720x216 with 2 Axes>"
      ]
     },
     "metadata": {
      "needs_background": "light"
     },
     "output_type": "display_data"
    }
   ],
   "source": [
    "# Start a figure\n",
    "plt.figure(figsize=(10,3))\n",
    "# First subplot\n",
    "plt.subplot(1,2,1)\n",
    "plt.scatter(merge_df['NO2_hrOver200'], merge_df['deaths_per_100k'])\n",
    "plt.xlabel(\"NO2 #hours over 200\")\n",
    "plt.ylabel(\"deaths per 100K\")\n",
    "plt.title('unfiltered')\n",
    "# Second subplot\n",
    "plt.subplot(1,2,2) \n",
    "x = merge_df[merge_df['NO2_hrOver200']>0.001]\n",
    "plt.scatter(x['NO2_hrOver200'], x['deaths_per_100k'])\n",
    "plt.xlabel(\"NO2 #hours over 200\")\n",
    "plt.ylabel(\"deaths per 100K\")\n",
    "plt.title(\"filtered\")\n",
    "# Global figure methods\n",
    "plt.suptitle('NO2_hrOver200')\n",
    "plt.show()"
   ]
  },
  {
   "cell_type": "markdown",
   "id": "b0e067a3",
   "metadata": {},
   "source": [
    "PROBLEM: for each pollutant, about half of the counties don't have measurement station and instead impute values - they cluster around 0, we might want to find a better way of imputing or dropping those data"
   ]
  },
  {
   "cell_type": "code",
   "execution_count": 49,
   "id": "04c8444c",
   "metadata": {},
   "outputs": [],
   "source": [
    "import statsmodels.formula.api as smf"
   ]
  },
  {
   "cell_type": "code",
   "execution_count": 50,
   "id": "88f78239",
   "metadata": {},
   "outputs": [],
   "source": [
    "model = smf.ols(formula = 'deaths_per_100k ~ NO2_hrOver200', data = x).fit()"
   ]
  },
  {
   "cell_type": "code",
   "execution_count": 51,
   "id": "dd191a9a",
   "metadata": {},
   "outputs": [
    {
     "data": {
      "text/html": [
       "<table class=\"simpletable\">\n",
       "<caption>OLS Regression Results</caption>\n",
       "<tr>\n",
       "  <th>Dep. Variable:</th>     <td>deaths_per_100k</td> <th>  R-squared:         </th> <td>   0.173</td>\n",
       "</tr>\n",
       "<tr>\n",
       "  <th>Model:</th>                   <td>OLS</td>       <th>  Adj. R-squared:    </th> <td>   0.169</td>\n",
       "</tr>\n",
       "<tr>\n",
       "  <th>Method:</th>             <td>Least Squares</td>  <th>  F-statistic:       </th> <td>   47.98</td>\n",
       "</tr>\n",
       "<tr>\n",
       "  <th>Date:</th>             <td>Tue, 23 Nov 2021</td> <th>  Prob (F-statistic):</th> <td>4.27e-11</td>\n",
       "</tr>\n",
       "<tr>\n",
       "  <th>Time:</th>                 <td>10:13:53</td>     <th>  Log-Likelihood:    </th> <td> -1153.2</td>\n",
       "</tr>\n",
       "<tr>\n",
       "  <th>No. Observations:</th>      <td>   232</td>      <th>  AIC:               </th> <td>   2310.</td>\n",
       "</tr>\n",
       "<tr>\n",
       "  <th>Df Residuals:</th>          <td>   230</td>      <th>  BIC:               </th> <td>   2317.</td>\n",
       "</tr>\n",
       "<tr>\n",
       "  <th>Df Model:</th>              <td>     1</td>      <th>                     </th>     <td> </td>   \n",
       "</tr>\n",
       "<tr>\n",
       "  <th>Covariance Type:</th>      <td>nonrobust</td>    <th>                     </th>     <td> </td>   \n",
       "</tr>\n",
       "</table>\n",
       "<table class=\"simpletable\">\n",
       "<tr>\n",
       "        <td></td>           <th>coef</th>     <th>std err</th>      <th>t</th>      <th>P>|t|</th>  <th>[0.025</th>    <th>0.975]</th>  \n",
       "</tr>\n",
       "<tr>\n",
       "  <th>Intercept</th>     <td>   52.9743</td> <td>    7.058</td> <td>    7.505</td> <td> 0.000</td> <td>   39.067</td> <td>   66.882</td>\n",
       "</tr>\n",
       "<tr>\n",
       "  <th>NO2_hrOver200</th> <td> 8321.7989</td> <td> 1201.394</td> <td>    6.927</td> <td> 0.000</td> <td> 5954.654</td> <td> 1.07e+04</td>\n",
       "</tr>\n",
       "</table>\n",
       "<table class=\"simpletable\">\n",
       "<tr>\n",
       "  <th>Omnibus:</th>       <td>28.379</td> <th>  Durbin-Watson:     </th> <td>   0.376</td>\n",
       "</tr>\n",
       "<tr>\n",
       "  <th>Prob(Omnibus):</th> <td> 0.000</td> <th>  Jarque-Bera (JB):  </th> <td>  35.761</td>\n",
       "</tr>\n",
       "<tr>\n",
       "  <th>Skew:</th>          <td> 0.843</td> <th>  Prob(JB):          </th> <td>1.72e-08</td>\n",
       "</tr>\n",
       "<tr>\n",
       "  <th>Kurtosis:</th>      <td> 3.924</td> <th>  Cond. No.          </th> <td>    522.</td>\n",
       "</tr>\n",
       "</table><br/><br/>Notes:<br/>[1] Standard Errors assume that the covariance matrix of the errors is correctly specified."
      ],
      "text/plain": [
       "<class 'statsmodels.iolib.summary.Summary'>\n",
       "\"\"\"\n",
       "                            OLS Regression Results                            \n",
       "==============================================================================\n",
       "Dep. Variable:        deaths_per_100k   R-squared:                       0.173\n",
       "Model:                            OLS   Adj. R-squared:                  0.169\n",
       "Method:                 Least Squares   F-statistic:                     47.98\n",
       "Date:                Tue, 23 Nov 2021   Prob (F-statistic):           4.27e-11\n",
       "Time:                        10:13:53   Log-Likelihood:                -1153.2\n",
       "No. Observations:                 232   AIC:                             2310.\n",
       "Df Residuals:                     230   BIC:                             2317.\n",
       "Df Model:                           1                                         \n",
       "Covariance Type:            nonrobust                                         \n",
       "=================================================================================\n",
       "                    coef    std err          t      P>|t|      [0.025      0.975]\n",
       "---------------------------------------------------------------------------------\n",
       "Intercept        52.9743      7.058      7.505      0.000      39.067      66.882\n",
       "NO2_hrOver200  8321.7989   1201.394      6.927      0.000    5954.654    1.07e+04\n",
       "==============================================================================\n",
       "Omnibus:                       28.379   Durbin-Watson:                   0.376\n",
       "Prob(Omnibus):                  0.000   Jarque-Bera (JB):               35.761\n",
       "Skew:                           0.843   Prob(JB):                     1.72e-08\n",
       "Kurtosis:                       3.924   Cond. No.                         522.\n",
       "==============================================================================\n",
       "\n",
       "Notes:\n",
       "[1] Standard Errors assume that the covariance matrix of the errors is correctly specified.\n",
       "\"\"\""
      ]
     },
     "execution_count": 51,
     "metadata": {},
     "output_type": "execute_result"
    }
   ],
   "source": [
    "model.summary()"
   ]
  },
  {
   "cell_type": "code",
   "execution_count": 52,
   "id": "9c921fd3",
   "metadata": {},
   "outputs": [
    {
     "data": {
      "image/png": "[encoded data removed]",
      "text/plain": [
       "<Figure size 720x216 with 2 Axes>"
      ]
     },
     "metadata": {
      "needs_background": "light"
     },
     "output_type": "display_data"
    }
   ],
   "source": [
    "# Start a figure\n",
    "plt.figure(figsize=(10,3))\n",
    "# First subplot\n",
    "plt.subplot(1,2,1)\n",
    "plt.scatter(merge_df['PM2_5_annualMean'], merge_df['deaths_per_100k'])\n",
    "plt.xlabel(\"PM2_5_annualMean\")\n",
    "plt.ylabel(\"deaths per 100K\")\n",
    "plt.title('unfiltered')\n",
    "# Second subplot\n",
    "plt.subplot(1,2,2) \n",
    "x = merge_df[merge_df['PM2_5_annualMean']>10**14]\n",
    "plt.scatter(x['PM2_5_annualMean'], x['deaths_per_100k'])\n",
    "plt.xlabel(\"PM2_5_annualMean\")\n",
    "plt.ylabel(\"deaths per 100K\")\n",
    "plt.title(\"filtered\")\n",
    "# Global figure methods\n",
    "plt.suptitle('PM2_5_annualMean')\n",
    "plt.show()"
   ]
  },
  {
   "cell_type": "code",
   "execution_count": 53,
   "id": "ac71652a",
   "metadata": {},
   "outputs": [],
   "source": [
    "model = smf.ols(formula = 'deaths_per_100k ~ PM2_5_annualMean', data = x).fit()"
   ]
  },
  {
   "cell_type": "code",
   "execution_count": 54,
   "id": "f60861fd",
   "metadata": {},
   "outputs": [
    {
     "data": {
      "text/html": [
       "<table class=\"simpletable\">\n",
       "<caption>OLS Regression Results</caption>\n",
       "<tr>\n",
       "  <th>Dep. Variable:</th>     <td>deaths_per_100k</td> <th>  R-squared:         </th> <td>   0.174</td>\n",
       "</tr>\n",
       "<tr>\n",
       "  <th>Model:</th>                   <td>OLS</td>       <th>  Adj. R-squared:    </th> <td>   0.174</td>\n",
       "</tr>\n",
       "<tr>\n",
       "  <th>Method:</th>             <td>Least Squares</td>  <th>  F-statistic:       </th> <td>     nan</td>\n",
       "</tr>\n",
       "<tr>\n",
       "  <th>Date:</th>             <td>Tue, 23 Nov 2021</td> <th>  Prob (F-statistic):</th>  <td>   nan</td> \n",
       "</tr>\n",
       "<tr>\n",
       "  <th>Time:</th>                 <td>10:14:06</td>     <th>  Log-Likelihood:    </th> <td> -1192.5</td>\n",
       "</tr>\n",
       "<tr>\n",
       "  <th>No. Observations:</th>      <td>   252</td>      <th>  AIC:               </th> <td>   2387.</td>\n",
       "</tr>\n",
       "<tr>\n",
       "  <th>Df Residuals:</th>          <td>   251</td>      <th>  BIC:               </th> <td>   2390.</td>\n",
       "</tr>\n",
       "<tr>\n",
       "  <th>Df Model:</th>              <td>     0</td>      <th>                     </th>     <td> </td>   \n",
       "</tr>\n",
       "<tr>\n",
       "  <th>Covariance Type:</th>      <td>nonrobust</td>    <th>                     </th>     <td> </td>   \n",
       "</tr>\n",
       "</table>\n",
       "<table class=\"simpletable\">\n",
       "<tr>\n",
       "          <td></td>            <th>coef</th>     <th>std err</th>      <th>t</th>      <th>P>|t|</th>  <th>[0.025</th>    <th>0.975]</th>  \n",
       "</tr>\n",
       "<tr>\n",
       "  <th>Intercept</th>        <td> 5.902e-27</td> <td> 1.04e-28</td> <td>   56.791</td> <td> 0.000</td> <td>  5.7e-27</td> <td> 6.11e-27</td>\n",
       "</tr>\n",
       "<tr>\n",
       "  <th>PM2_5_annualMean</th> <td> 7.628e-13</td> <td> 1.34e-14</td> <td>   56.791</td> <td> 0.000</td> <td> 7.36e-13</td> <td> 7.89e-13</td>\n",
       "</tr>\n",
       "</table>\n",
       "<table class=\"simpletable\">\n",
       "<tr>\n",
       "  <th>Omnibus:</th>       <td>89.822</td> <th>  Durbin-Watson:     </th> <td>   0.044</td>\n",
       "</tr>\n",
       "<tr>\n",
       "  <th>Prob(Omnibus):</th> <td> 0.000</td> <th>  Jarque-Bera (JB):  </th> <td>  14.667</td>\n",
       "</tr>\n",
       "<tr>\n",
       "  <th>Skew:</th>          <td>-0.163</td> <th>  Prob(JB):          </th> <td>0.000653</td>\n",
       "</tr>\n",
       "<tr>\n",
       "  <th>Kurtosis:</th>      <td> 1.864</td> <th>  Cond. No.          </th> <td>2.78e+15</td>\n",
       "</tr>\n",
       "</table><br/><br/>Notes:<br/>[1] Standard Errors assume that the covariance matrix of the errors is correctly specified.<br/>[2] The condition number is large, 2.78e+15. This might indicate that there are<br/>strong multicollinearity or other numerical problems."
      ],
      "text/plain": [
       "<class 'statsmodels.iolib.summary.Summary'>\n",
       "\"\"\"\n",
       "                            OLS Regression Results                            \n",
       "==============================================================================\n",
       "Dep. Variable:        deaths_per_100k   R-squared:                       0.174\n",
       "Model:                            OLS   Adj. R-squared:                  0.174\n",
       "Method:                 Least Squares   F-statistic:                       nan\n",
       "Date:                Tue, 23 Nov 2021   Prob (F-statistic):                nan\n",
       "Time:                        10:14:06   Log-Likelihood:                -1192.5\n",
       "No. Observations:                 252   AIC:                             2387.\n",
       "Df Residuals:                     251   BIC:                             2390.\n",
       "Df Model:                           0                                         \n",
       "Covariance Type:            nonrobust                                         \n",
       "====================================================================================\n",
       "                       coef    std err          t      P>|t|      [0.025      0.975]\n",
       "------------------------------------------------------------------------------------\n",
       "Intercept         5.902e-27   1.04e-28     56.791      0.000     5.7e-27    6.11e-27\n",
       "PM2_5_annualMean  7.628e-13   1.34e-14     56.791      0.000    7.36e-13    7.89e-13\n",
       "==============================================================================\n",
       "Omnibus:                       89.822   Durbin-Watson:                   0.044\n",
       "Prob(Omnibus):                  0.000   Jarque-Bera (JB):               14.667\n",
       "Skew:                          -0.163   Prob(JB):                     0.000653\n",
       "Kurtosis:                       1.864   Cond. No.                     2.78e+15\n",
       "==============================================================================\n",
       "\n",
       "Notes:\n",
       "[1] Standard Errors assume that the covariance matrix of the errors is correctly specified.\n",
       "[2] The condition number is large, 2.78e+15. This might indicate that there are\n",
       "strong multicollinearity or other numerical problems.\n",
       "\"\"\""
      ]
     },
     "execution_count": 54,
     "metadata": {},
     "output_type": "execute_result"
    }
   ],
   "source": [
    "model.summary()"
   ]
  },
  {
   "cell_type": "code",
   "execution_count": null,
   "id": "d0075fd2",
   "metadata": {},
   "outputs": [],
   "source": []
  }
 ],
 "metadata": {
  "kernelspec": {
   "display_name": "Python 3 (ipykernel)",
   "language": "python",
   "name": "python3"
  },
  "language_info": {
   "codemirror_mode": {
    "name": "ipython",
    "version": 3
   },
   "file_extension": ".py",
   "mimetype": "text/x-python",
   "name": "python",
   "nbconvert_exporter": "python",
   "pygments_lexer": "ipython3",
   "version": "3.8.12"
  },
  "toc": {
   "base_numbering": 1,
   "nav_menu": {},
   "number_sections": true,
   "sideBar": true,
   "skip_h1_title": false,
   "title_cell": "Table of Contents",
   "title_sidebar": "Contents",
   "toc_cell": false,
   "toc_position": {},
   "toc_section_display": true,
   "toc_window_display": false
  }
 },
 "nbformat": 4,
 "nbformat_minor": 5
}
