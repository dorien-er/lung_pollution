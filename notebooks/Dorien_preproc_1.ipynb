{
 "cells": [
  {
   "cell_type": "markdown",
   "id": "c16ec3f4",
   "metadata": {
    "heading_collapsed": true
   },
   "source": [
    "# Load Covid dataset"
   ]
  },
  {
   "cell_type": "markdown",
   "id": "80ad529a",
   "metadata": {
    "heading_collapsed": true,
    "hidden": true
   },
   "source": [
    "## Load CSV"
   ]
  },
  {
   "cell_type": "code",
   "execution_count": 1,
   "id": "ebfcdd47",
   "metadata": {
    "hidden": true
   },
   "outputs": [
    {
     "data": {
      "text/plain": [
       "(411, 47)"
      ]
     },
     "execution_count": 1,
     "metadata": {},
     "output_type": "execute_result"
    }
   ],
   "source": [
    "import pandas as pd\n",
    "\n",
    "covid_data = pd.read_csv('../lung_pollution/data/RKI_corona_landskreise.csv')\n",
    "\n",
    "covid_data.shape"
   ]
  },
  {
   "cell_type": "code",
   "execution_count": 2,
   "id": "debf325f",
   "metadata": {
    "hidden": true,
    "scrolled": true
   },
   "outputs": [
    {
     "data": {
      "text/plain": [
       "Index(['OBJECTID', 'ADE', 'GF', 'BSG', 'RS', 'AGS', 'SDV_RS', 'GEN', 'BEZ',\n",
       "       'IBZ', 'BEM', 'NBD', 'SN_L', 'SN_R', 'SN_K', 'SN_V1', 'SN_V2', 'SN_G',\n",
       "       'FK_S3', 'NUTS', 'RS_0', 'AGS_0', 'WSK', 'EWZ', 'KFL', 'DEBKG_ID',\n",
       "       'Shape__Area', 'Shape__Length', 'death_rate', 'cases', 'deaths',\n",
       "       'cases_per_100k', 'cases_per_population', 'BL', 'BL_ID', 'county',\n",
       "       'last_update', 'cases7_per_100k', 'recovered', 'EWZ_BL',\n",
       "       'cases7_bl_per_100k', 'cases7_bl', 'death7_bl', 'cases7_lk',\n",
       "       'death7_lk', 'cases7_per_100k_txt', 'AdmUnitId'],\n",
       "      dtype='object')"
      ]
     },
     "execution_count": 2,
     "metadata": {},
     "output_type": "execute_result"
    }
   ],
   "source": [
    "covid_data.columns"
   ]
  },
  {
   "cell_type": "code",
   "execution_count": 3,
   "id": "cd6f9428",
   "metadata": {
    "hidden": true,
    "scrolled": true
   },
   "outputs": [
    {
     "data": {
      "text/html": [
       "<div>\n",
       "<style scoped>\n",
       "    .dataframe tbody tr th:only-of-type {\n",
       "        vertical-align: middle;\n",
       "    }\n",
       "\n",
       "    .dataframe tbody tr th {\n",
       "        vertical-align: top;\n",
       "    }\n",
       "\n",
       "    .dataframe thead th {\n",
       "        text-align: right;\n",
       "    }\n",
       "</style>\n",
       "<table border=\"1\" class=\"dataframe\">\n",
       "  <thead>\n",
       "    <tr style=\"text-align: right;\">\n",
       "      <th></th>\n",
       "      <th>BL</th>\n",
       "      <th>county</th>\n",
       "      <th>EWZ</th>\n",
       "      <th>Shape__Area</th>\n",
       "      <th>death_rate</th>\n",
       "      <th>cases</th>\n",
       "      <th>deaths</th>\n",
       "      <th>cases_per_100k</th>\n",
       "    </tr>\n",
       "  </thead>\n",
       "  <tbody>\n",
       "    <tr>\n",
       "      <th>0</th>\n",
       "      <td>Schleswig-Holstein</td>\n",
       "      <td>SK Flensburg</td>\n",
       "      <td>89934</td>\n",
       "      <td>4.918293e+07</td>\n",
       "      <td>1.223721</td>\n",
       "      <td>3187</td>\n",
       "      <td>39</td>\n",
       "      <td>3543.709832</td>\n",
       "    </tr>\n",
       "    <tr>\n",
       "      <th>1</th>\n",
       "      <td>Schleswig-Holstein</td>\n",
       "      <td>SK Kiel</td>\n",
       "      <td>246601</td>\n",
       "      <td>1.122314e+08</td>\n",
       "      <td>1.409469</td>\n",
       "      <td>8301</td>\n",
       "      <td>117</td>\n",
       "      <td>3366.166398</td>\n",
       "    </tr>\n",
       "    <tr>\n",
       "      <th>2</th>\n",
       "      <td>Schleswig-Holstein</td>\n",
       "      <td>SK Lübeck</td>\n",
       "      <td>215846</td>\n",
       "      <td>2.116771e+08</td>\n",
       "      <td>1.392355</td>\n",
       "      <td>7613</td>\n",
       "      <td>106</td>\n",
       "      <td>3527.051694</td>\n",
       "    </tr>\n",
       "    <tr>\n",
       "      <th>3</th>\n",
       "      <td>Schleswig-Holstein</td>\n",
       "      <td>SK Neumünster</td>\n",
       "      <td>79905</td>\n",
       "      <td>7.140224e+07</td>\n",
       "      <td>0.889996</td>\n",
       "      <td>2809</td>\n",
       "      <td>25</td>\n",
       "      <td>3515.424567</td>\n",
       "    </tr>\n",
       "    <tr>\n",
       "      <th>4</th>\n",
       "      <td>Schleswig-Holstein</td>\n",
       "      <td>LK Dithmarschen</td>\n",
       "      <td>133251</td>\n",
       "      <td>1.425511e+09</td>\n",
       "      <td>1.915323</td>\n",
       "      <td>2976</td>\n",
       "      <td>57</td>\n",
       "      <td>2233.379112</td>\n",
       "    </tr>\n",
       "  </tbody>\n",
       "</table>\n",
       "</div>"
      ],
      "text/plain": [
       "                   BL           county     EWZ   Shape__Area  death_rate  \\\n",
       "0  Schleswig-Holstein     SK Flensburg   89934  4.918293e+07    1.223721   \n",
       "1  Schleswig-Holstein          SK Kiel  246601  1.122314e+08    1.409469   \n",
       "2  Schleswig-Holstein        SK Lübeck  215846  2.116771e+08    1.392355   \n",
       "3  Schleswig-Holstein    SK Neumünster   79905  7.140224e+07    0.889996   \n",
       "4  Schleswig-Holstein  LK Dithmarschen  133251  1.425511e+09    1.915323   \n",
       "\n",
       "   cases  deaths  cases_per_100k  \n",
       "0   3187      39     3543.709832  \n",
       "1   8301     117     3366.166398  \n",
       "2   7613     106     3527.051694  \n",
       "3   2809      25     3515.424567  \n",
       "4   2976      57     2233.379112  "
      ]
     },
     "execution_count": 3,
     "metadata": {},
     "output_type": "execute_result"
    }
   ],
   "source": [
    "covid_data = covid_data[['BL','county','EWZ','Shape__Area', 'death_rate', 'cases', 'deaths','cases_per_100k']]\n",
    "covid_data.head()"
   ]
  },
  {
   "cell_type": "markdown",
   "id": "f52efc3e",
   "metadata": {
    "heading_collapsed": true,
    "hidden": true
   },
   "source": [
    "## Feature engineering: create deaths/100k column"
   ]
  },
  {
   "cell_type": "code",
   "execution_count": 4,
   "id": "9e5b735d",
   "metadata": {
    "hidden": true
   },
   "outputs": [
    {
     "data": {
      "text/html": [
       "<div>\n",
       "<style scoped>\n",
       "    .dataframe tbody tr th:only-of-type {\n",
       "        vertical-align: middle;\n",
       "    }\n",
       "\n",
       "    .dataframe tbody tr th {\n",
       "        vertical-align: top;\n",
       "    }\n",
       "\n",
       "    .dataframe thead th {\n",
       "        text-align: right;\n",
       "    }\n",
       "</style>\n",
       "<table border=\"1\" class=\"dataframe\">\n",
       "  <thead>\n",
       "    <tr style=\"text-align: right;\">\n",
       "      <th></th>\n",
       "      <th>BL</th>\n",
       "      <th>county</th>\n",
       "      <th>EWZ</th>\n",
       "      <th>Shape__Area</th>\n",
       "      <th>death_rate</th>\n",
       "      <th>cases</th>\n",
       "      <th>deaths</th>\n",
       "      <th>cases_per_100k</th>\n",
       "      <th>deaths_per_100k</th>\n",
       "    </tr>\n",
       "  </thead>\n",
       "  <tbody>\n",
       "    <tr>\n",
       "      <th>0</th>\n",
       "      <td>Schleswig-Holstein</td>\n",
       "      <td>SK Flensburg</td>\n",
       "      <td>89934</td>\n",
       "      <td>4.918293e+07</td>\n",
       "      <td>1.223721</td>\n",
       "      <td>3187</td>\n",
       "      <td>39</td>\n",
       "      <td>3543.709832</td>\n",
       "      <td>43.365134</td>\n",
       "    </tr>\n",
       "    <tr>\n",
       "      <th>1</th>\n",
       "      <td>Schleswig-Holstein</td>\n",
       "      <td>SK Kiel</td>\n",
       "      <td>246601</td>\n",
       "      <td>1.122314e+08</td>\n",
       "      <td>1.409469</td>\n",
       "      <td>8301</td>\n",
       "      <td>117</td>\n",
       "      <td>3366.166398</td>\n",
       "      <td>47.445063</td>\n",
       "    </tr>\n",
       "    <tr>\n",
       "      <th>2</th>\n",
       "      <td>Schleswig-Holstein</td>\n",
       "      <td>SK Lübeck</td>\n",
       "      <td>215846</td>\n",
       "      <td>2.116771e+08</td>\n",
       "      <td>1.392355</td>\n",
       "      <td>7613</td>\n",
       "      <td>106</td>\n",
       "      <td>3527.051694</td>\n",
       "      <td>49.109087</td>\n",
       "    </tr>\n",
       "    <tr>\n",
       "      <th>3</th>\n",
       "      <td>Schleswig-Holstein</td>\n",
       "      <td>SK Neumünster</td>\n",
       "      <td>79905</td>\n",
       "      <td>7.140224e+07</td>\n",
       "      <td>0.889996</td>\n",
       "      <td>2809</td>\n",
       "      <td>25</td>\n",
       "      <td>3515.424567</td>\n",
       "      <td>31.287153</td>\n",
       "    </tr>\n",
       "    <tr>\n",
       "      <th>4</th>\n",
       "      <td>Schleswig-Holstein</td>\n",
       "      <td>LK Dithmarschen</td>\n",
       "      <td>133251</td>\n",
       "      <td>1.425511e+09</td>\n",
       "      <td>1.915323</td>\n",
       "      <td>2976</td>\n",
       "      <td>57</td>\n",
       "      <td>2233.379112</td>\n",
       "      <td>42.776414</td>\n",
       "    </tr>\n",
       "  </tbody>\n",
       "</table>\n",
       "</div>"
      ],
      "text/plain": [
       "                   BL           county     EWZ   Shape__Area  death_rate  \\\n",
       "0  Schleswig-Holstein     SK Flensburg   89934  4.918293e+07    1.223721   \n",
       "1  Schleswig-Holstein          SK Kiel  246601  1.122314e+08    1.409469   \n",
       "2  Schleswig-Holstein        SK Lübeck  215846  2.116771e+08    1.392355   \n",
       "3  Schleswig-Holstein    SK Neumünster   79905  7.140224e+07    0.889996   \n",
       "4  Schleswig-Holstein  LK Dithmarschen  133251  1.425511e+09    1.915323   \n",
       "\n",
       "   cases  deaths  cases_per_100k  deaths_per_100k  \n",
       "0   3187      39     3543.709832        43.365134  \n",
       "1   8301     117     3366.166398        47.445063  \n",
       "2   7613     106     3527.051694        49.109087  \n",
       "3   2809      25     3515.424567        31.287153  \n",
       "4   2976      57     2233.379112        42.776414  "
      ]
     },
     "execution_count": 4,
     "metadata": {},
     "output_type": "execute_result"
    }
   ],
   "source": [
    "covid_data['deaths_per_100k'] = covid_data['deaths']/covid_data['EWZ']*100_000\n",
    "covid_data.head()"
   ]
  },
  {
   "cell_type": "markdown",
   "id": "f7152abc",
   "metadata": {
    "heading_collapsed": true,
    "hidden": true
   },
   "source": [
    "## Merge all Berlin 'counties' to one (to match APexpose)"
   ]
  },
  {
   "cell_type": "markdown",
   "id": "d92d8556",
   "metadata": {
    "hidden": true
   },
   "source": [
    "Covid dataset has 11 Berlin counties, but air pollution dataset only has 1 berlin county > \n",
    "collapse 11 berlin counties into one, taking into account whether to take the sum or the mean per numerical feature"
   ]
  },
  {
   "cell_type": "code",
   "execution_count": 5,
   "id": "75405767",
   "metadata": {
    "hidden": true,
    "scrolled": true
   },
   "outputs": [
    {
     "data": {
      "text/html": [
       "<div>\n",
       "<style scoped>\n",
       "    .dataframe tbody tr th:only-of-type {\n",
       "        vertical-align: middle;\n",
       "    }\n",
       "\n",
       "    .dataframe tbody tr th {\n",
       "        vertical-align: top;\n",
       "    }\n",
       "\n",
       "    .dataframe thead th {\n",
       "        text-align: right;\n",
       "    }\n",
       "</style>\n",
       "<table border=\"1\" class=\"dataframe\">\n",
       "  <thead>\n",
       "    <tr style=\"text-align: right;\">\n",
       "      <th></th>\n",
       "      <th>BL</th>\n",
       "      <th>county</th>\n",
       "      <th>EWZ</th>\n",
       "      <th>Shape__Area</th>\n",
       "      <th>death_rate</th>\n",
       "      <th>cases</th>\n",
       "      <th>deaths</th>\n",
       "      <th>cases_per_100k</th>\n",
       "      <th>deaths_per_100k</th>\n",
       "    </tr>\n",
       "  </thead>\n",
       "  <tbody>\n",
       "    <tr>\n",
       "      <th>399</th>\n",
       "      <td>Berlin</td>\n",
       "      <td>SK Berlin Reinickendorf</td>\n",
       "      <td>259169</td>\n",
       "      <td>8.943665e+07</td>\n",
       "      <td>1.618289</td>\n",
       "      <td>19465</td>\n",
       "      <td>315</td>\n",
       "      <td>7510.543313</td>\n",
       "      <td>121.542314</td>\n",
       "    </tr>\n",
       "    <tr>\n",
       "      <th>400</th>\n",
       "      <td>Berlin</td>\n",
       "      <td>SK Berlin Charlottenburg-Wilmersdorf</td>\n",
       "      <td>315393</td>\n",
       "      <td>6.477450e+07</td>\n",
       "      <td>1.568608</td>\n",
       "      <td>20464</td>\n",
       "      <td>321</td>\n",
       "      <td>6488.412869</td>\n",
       "      <td>101.777782</td>\n",
       "    </tr>\n",
       "    <tr>\n",
       "      <th>401</th>\n",
       "      <td>Berlin</td>\n",
       "      <td>SK Berlin Treptow-Köpenick</td>\n",
       "      <td>272429</td>\n",
       "      <td>1.680052e+08</td>\n",
       "      <td>1.689394</td>\n",
       "      <td>13200</td>\n",
       "      <td>223</td>\n",
       "      <td>4845.299142</td>\n",
       "      <td>81.856190</td>\n",
       "    </tr>\n",
       "    <tr>\n",
       "      <th>402</th>\n",
       "      <td>Berlin</td>\n",
       "      <td>SK Berlin Pankow</td>\n",
       "      <td>403607</td>\n",
       "      <td>1.033630e+08</td>\n",
       "      <td>1.068934</td>\n",
       "      <td>21049</td>\n",
       "      <td>225</td>\n",
       "      <td>5215.221738</td>\n",
       "      <td>55.747299</td>\n",
       "    </tr>\n",
       "    <tr>\n",
       "      <th>403</th>\n",
       "      <td>Berlin</td>\n",
       "      <td>SK Berlin Neukölln</td>\n",
       "      <td>318128</td>\n",
       "      <td>4.499687e+07</td>\n",
       "      <td>1.522467</td>\n",
       "      <td>28375</td>\n",
       "      <td>432</td>\n",
       "      <td>8919.365790</td>\n",
       "      <td>135.794397</td>\n",
       "    </tr>\n",
       "    <tr>\n",
       "      <th>404</th>\n",
       "      <td>Berlin</td>\n",
       "      <td>SK Berlin Lichtenberg</td>\n",
       "      <td>291622</td>\n",
       "      <td>5.219800e+07</td>\n",
       "      <td>1.697550</td>\n",
       "      <td>16082</td>\n",
       "      <td>273</td>\n",
       "      <td>5514.673104</td>\n",
       "      <td>93.614336</td>\n",
       "    </tr>\n",
       "    <tr>\n",
       "      <th>405</th>\n",
       "      <td>Berlin</td>\n",
       "      <td>SK Berlin Marzahn-Hellersdorf</td>\n",
       "      <td>273676</td>\n",
       "      <td>6.191477e+07</td>\n",
       "      <td>1.768566</td>\n",
       "      <td>14475</td>\n",
       "      <td>256</td>\n",
       "      <td>5289.100981</td>\n",
       "      <td>93.541268</td>\n",
       "    </tr>\n",
       "    <tr>\n",
       "      <th>406</th>\n",
       "      <td>Berlin</td>\n",
       "      <td>SK Berlin Spandau</td>\n",
       "      <td>238922</td>\n",
       "      <td>9.294042e+07</td>\n",
       "      <td>1.444666</td>\n",
       "      <td>18551</td>\n",
       "      <td>268</td>\n",
       "      <td>7764.458694</td>\n",
       "      <td>112.170499</td>\n",
       "    </tr>\n",
       "    <tr>\n",
       "      <th>407</th>\n",
       "      <td>Berlin</td>\n",
       "      <td>SK Berlin Steglitz-Zehlendorf</td>\n",
       "      <td>290866</td>\n",
       "      <td>1.026872e+08</td>\n",
       "      <td>2.656722</td>\n",
       "      <td>16223</td>\n",
       "      <td>431</td>\n",
       "      <td>5577.482415</td>\n",
       "      <td>148.178199</td>\n",
       "    </tr>\n",
       "    <tr>\n",
       "      <th>408</th>\n",
       "      <td>Berlin</td>\n",
       "      <td>SK Berlin Mitte</td>\n",
       "      <td>374232</td>\n",
       "      <td>3.945211e+07</td>\n",
       "      <td>1.156393</td>\n",
       "      <td>30353</td>\n",
       "      <td>351</td>\n",
       "      <td>8110.744137</td>\n",
       "      <td>93.792086</td>\n",
       "    </tr>\n",
       "    <tr>\n",
       "      <th>409</th>\n",
       "      <td>Berlin</td>\n",
       "      <td>SK Berlin Friedrichshain-Kreuzberg</td>\n",
       "      <td>278936</td>\n",
       "      <td>2.042866e+07</td>\n",
       "      <td>0.838055</td>\n",
       "      <td>21001</td>\n",
       "      <td>176</td>\n",
       "      <td>7528.967218</td>\n",
       "      <td>63.096911</td>\n",
       "    </tr>\n",
       "    <tr>\n",
       "      <th>410</th>\n",
       "      <td>Berlin</td>\n",
       "      <td>SK Berlin Tempelhof-Schöneberg</td>\n",
       "      <td>340483</td>\n",
       "      <td>5.312295e+07</td>\n",
       "      <td>2.069989</td>\n",
       "      <td>23575</td>\n",
       "      <td>488</td>\n",
       "      <td>6923.987394</td>\n",
       "      <td>143.325805</td>\n",
       "    </tr>\n",
       "  </tbody>\n",
       "</table>\n",
       "</div>"
      ],
      "text/plain": [
       "         BL                                county     EWZ   Shape__Area  \\\n",
       "399  Berlin               SK Berlin Reinickendorf  259169  8.943665e+07   \n",
       "400  Berlin  SK Berlin Charlottenburg-Wilmersdorf  315393  6.477450e+07   \n",
       "401  Berlin            SK Berlin Treptow-Köpenick  272429  1.680052e+08   \n",
       "402  Berlin                      SK Berlin Pankow  403607  1.033630e+08   \n",
       "403  Berlin                    SK Berlin Neukölln  318128  4.499687e+07   \n",
       "404  Berlin                 SK Berlin Lichtenberg  291622  5.219800e+07   \n",
       "405  Berlin         SK Berlin Marzahn-Hellersdorf  273676  6.191477e+07   \n",
       "406  Berlin                     SK Berlin Spandau  238922  9.294042e+07   \n",
       "407  Berlin         SK Berlin Steglitz-Zehlendorf  290866  1.026872e+08   \n",
       "408  Berlin                       SK Berlin Mitte  374232  3.945211e+07   \n",
       "409  Berlin    SK Berlin Friedrichshain-Kreuzberg  278936  2.042866e+07   \n",
       "410  Berlin        SK Berlin Tempelhof-Schöneberg  340483  5.312295e+07   \n",
       "\n",
       "     death_rate  cases  deaths  cases_per_100k  deaths_per_100k  \n",
       "399    1.618289  19465     315     7510.543313       121.542314  \n",
       "400    1.568608  20464     321     6488.412869       101.777782  \n",
       "401    1.689394  13200     223     4845.299142        81.856190  \n",
       "402    1.068934  21049     225     5215.221738        55.747299  \n",
       "403    1.522467  28375     432     8919.365790       135.794397  \n",
       "404    1.697550  16082     273     5514.673104        93.614336  \n",
       "405    1.768566  14475     256     5289.100981        93.541268  \n",
       "406    1.444666  18551     268     7764.458694       112.170499  \n",
       "407    2.656722  16223     431     5577.482415       148.178199  \n",
       "408    1.156393  30353     351     8110.744137        93.792086  \n",
       "409    0.838055  21001     176     7528.967218        63.096911  \n",
       "410    2.069989  23575     488     6923.987394       143.325805  "
      ]
     },
     "execution_count": 5,
     "metadata": {},
     "output_type": "execute_result"
    }
   ],
   "source": [
    "berlin = covid_data[covid_data[\"BL\"] == 'Berlin']\n",
    "berlin"
   ]
  },
  {
   "cell_type": "code",
   "execution_count": 6,
   "id": "41fc7404",
   "metadata": {
    "hidden": true,
    "scrolled": false
   },
   "outputs": [
    {
     "name": "stderr",
     "output_type": "stream",
     "text": [
      "/var/folders/py/ydbm54f573b1ymf9x65hf0mm0000gn/T/ipykernel_38137/360524747.py:1: SettingWithCopyWarning: \n",
      "A value is trying to be set on a copy of a slice from a DataFrame\n",
      "\n",
      "See the caveats in the documentation: https://pandas.pydata.org/pandas-docs/stable/user_guide/indexing.html#returning-a-view-versus-a-copy\n",
      "  covid_data['county'][399] = 'Berlin'\n"
     ]
    },
    {
     "data": {
      "text/plain": [
       "BL                          Berlin\n",
       "county                      Berlin\n",
       "EWZ                         259169\n",
       "Shape__Area        89436651.129883\n",
       "death_rate                1.618289\n",
       "cases                        19465\n",
       "deaths                         315\n",
       "cases_per_100k         7510.543313\n",
       "deaths_per_100k         121.542314\n",
       "Name: 399, dtype: object"
      ]
     },
     "execution_count": 6,
     "metadata": {},
     "output_type": "execute_result"
    }
   ],
   "source": [
    "covid_data['county'][399] = 'Berlin'\n",
    "covid_data.loc[399] "
   ]
  },
  {
   "cell_type": "code",
   "execution_count": 7,
   "id": "716f3c7d",
   "metadata": {
    "hidden": true,
    "scrolled": true
   },
   "outputs": [
    {
     "data": {
      "text/plain": [
       "Shape__Area    8.933202e+08\n",
       "cases          2.428130e+05\n",
       "deaths         3.759000e+03\n",
       "dtype: float64"
      ]
     },
     "execution_count": 7,
     "metadata": {},
     "output_type": "execute_result"
    }
   ],
   "source": [
    "berlin_sum = berlin[['Shape__Area', 'cases', 'deaths']].sum()\n",
    "berlin_sum"
   ]
  },
  {
   "cell_type": "code",
   "execution_count": 8,
   "id": "15ef3da4",
   "metadata": {
    "hidden": true
   },
   "outputs": [
    {
     "data": {
      "text/plain": [
       "death_rate            1.591636\n",
       "cases_per_100k     6640.688066\n",
       "deaths_per_100k     103.703091\n",
       "dtype: float64"
      ]
     },
     "execution_count": 8,
     "metadata": {},
     "output_type": "execute_result"
    }
   ],
   "source": [
    "berlin_average = berlin[['death_rate','cases_per_100k', 'deaths_per_100k']].mean()\n",
    "berlin_average"
   ]
  },
  {
   "cell_type": "code",
   "execution_count": 9,
   "id": "db3fd0d3",
   "metadata": {
    "hidden": true
   },
   "outputs": [
    {
     "name": "stderr",
     "output_type": "stream",
     "text": [
      "/var/folders/py/ydbm54f573b1ymf9x65hf0mm0000gn/T/ipykernel_38137/648295955.py:1: SettingWithCopyWarning: \n",
      "A value is trying to be set on a copy of a slice from a DataFrame\n",
      "\n",
      "See the caveats in the documentation: https://pandas.pydata.org/pandas-docs/stable/user_guide/indexing.html#returning-a-view-versus-a-copy\n",
      "  covid_data['cases'][399] = berlin_sum.cases\n",
      "/var/folders/py/ydbm54f573b1ymf9x65hf0mm0000gn/T/ipykernel_38137/648295955.py:2: SettingWithCopyWarning: \n",
      "A value is trying to be set on a copy of a slice from a DataFrame\n",
      "\n",
      "See the caveats in the documentation: https://pandas.pydata.org/pandas-docs/stable/user_guide/indexing.html#returning-a-view-versus-a-copy\n",
      "  covid_data['Shape__Area'][399] = berlin_sum.Shape__Area\n",
      "/var/folders/py/ydbm54f573b1ymf9x65hf0mm0000gn/T/ipykernel_38137/648295955.py:3: SettingWithCopyWarning: \n",
      "A value is trying to be set on a copy of a slice from a DataFrame\n",
      "\n",
      "See the caveats in the documentation: https://pandas.pydata.org/pandas-docs/stable/user_guide/indexing.html#returning-a-view-versus-a-copy\n",
      "  covid_data['deaths'][399] = berlin_sum.deaths\n"
     ]
    }
   ],
   "source": [
    "covid_data['cases'][399] = berlin_sum.cases\n",
    "covid_data['Shape__Area'][399] = berlin_sum.Shape__Area\n",
    "covid_data['deaths'][399] = berlin_sum.deaths"
   ]
  },
  {
   "cell_type": "code",
   "execution_count": 10,
   "id": "305b36bd",
   "metadata": {
    "hidden": true
   },
   "outputs": [
    {
     "name": "stderr",
     "output_type": "stream",
     "text": [
      "/var/folders/py/ydbm54f573b1ymf9x65hf0mm0000gn/T/ipykernel_38137/3332388361.py:1: SettingWithCopyWarning: \n",
      "A value is trying to be set on a copy of a slice from a DataFrame\n",
      "\n",
      "See the caveats in the documentation: https://pandas.pydata.org/pandas-docs/stable/user_guide/indexing.html#returning-a-view-versus-a-copy\n",
      "  covid_data['death_rate'][399] = berlin_average.death_rate\n",
      "/var/folders/py/ydbm54f573b1ymf9x65hf0mm0000gn/T/ipykernel_38137/3332388361.py:2: SettingWithCopyWarning: \n",
      "A value is trying to be set on a copy of a slice from a DataFrame\n",
      "\n",
      "See the caveats in the documentation: https://pandas.pydata.org/pandas-docs/stable/user_guide/indexing.html#returning-a-view-versus-a-copy\n",
      "  covid_data['cases_per_100k'][399] = berlin_average.cases_per_100k\n",
      "/var/folders/py/ydbm54f573b1ymf9x65hf0mm0000gn/T/ipykernel_38137/3332388361.py:3: SettingWithCopyWarning: \n",
      "A value is trying to be set on a copy of a slice from a DataFrame\n",
      "\n",
      "See the caveats in the documentation: https://pandas.pydata.org/pandas-docs/stable/user_guide/indexing.html#returning-a-view-versus-a-copy\n",
      "  covid_data['deaths_per_100k'][399] = berlin_average.deaths_per_100k\n"
     ]
    }
   ],
   "source": [
    "covid_data['death_rate'][399] = berlin_average.death_rate\n",
    "covid_data['cases_per_100k'][399] = berlin_average.cases_per_100k\n",
    "covid_data['deaths_per_100k'][399] = berlin_average.deaths_per_100k"
   ]
  },
  {
   "cell_type": "code",
   "execution_count": 11,
   "id": "d046f0a4",
   "metadata": {
    "hidden": true
   },
   "outputs": [],
   "source": [
    "covid_data.drop(index=[400,401,402,403,404,405,406,407,408,409,410], axis=0, inplace=True)"
   ]
  },
  {
   "cell_type": "code",
   "execution_count": 12,
   "id": "a7a37053",
   "metadata": {
    "hidden": true
   },
   "outputs": [
    {
     "data": {
      "text/plain": [
       "(400, 9)"
      ]
     },
     "execution_count": 12,
     "metadata": {},
     "output_type": "execute_result"
    }
   ],
   "source": [
    "covid_data.shape"
   ]
  },
  {
   "cell_type": "markdown",
   "id": "af3f5067",
   "metadata": {},
   "source": [
    "# Load APexpose air pollution dataset"
   ]
  },
  {
   "cell_type": "markdown",
   "id": "0ec6c5ed",
   "metadata": {},
   "source": [
    "## Load data"
   ]
  },
  {
   "cell_type": "code",
   "execution_count": 13,
   "id": "13f9f47d",
   "metadata": {},
   "outputs": [
    {
     "data": {
      "text/plain": [
       "{'encoding': 'Windows-1252', 'confidence': 0.717512331990768, 'language': ''}"
      ]
     },
     "execution_count": 13,
     "metadata": {},
     "output_type": "execute_result"
    }
   ],
   "source": [
    "import chardet\n",
    "with open(\"../lung_pollution/data/APexpose.csv\", 'rb') as rawdata:\n",
    "    result = chardet.detect(rawdata.read(100000))\n",
    "result"
   ]
  },
  {
   "cell_type": "code",
   "execution_count": 14,
   "id": "1791bf47",
   "metadata": {
    "scrolled": true
   },
   "outputs": [
    {
     "data": {
      "text/html": [
       "<div>\n",
       "<style scoped>\n",
       "    .dataframe tbody tr th:only-of-type {\n",
       "        vertical-align: middle;\n",
       "    }\n",
       "\n",
       "    .dataframe tbody tr th {\n",
       "        vertical-align: top;\n",
       "    }\n",
       "\n",
       "    .dataframe thead th {\n",
       "        text-align: right;\n",
       "    }\n",
       "</style>\n",
       "<table border=\"1\" class=\"dataframe\">\n",
       "  <thead>\n",
       "    <tr style=\"text-align: right;\">\n",
       "      <th></th>\n",
       "      <th>county</th>\n",
       "      <th>year</th>\n",
       "      <th>NO2_annualMean</th>\n",
       "      <th>NO2_hrOver200</th>\n",
       "      <th>NO_annualMean</th>\n",
       "      <th>O3_annualMean</th>\n",
       "      <th>O3_daysOver120</th>\n",
       "      <th>O3_dailyMaxAnnualMean</th>\n",
       "      <th>O3_dailyHourlyMax</th>\n",
       "      <th>O3_daily8HrMax</th>\n",
       "      <th>PM10_annualMean</th>\n",
       "      <th>PM10_daysOver50</th>\n",
       "      <th>PM2.5_annualMean</th>\n",
       "      <th>kreis_code</th>\n",
       "      <th>scenario</th>\n",
       "      <th>ISO_code</th>\n",
       "      <th>Kreis_Scluessel</th>\n",
       "      <th>Lon</th>\n",
       "      <th>Lat</th>\n",
       "    </tr>\n",
       "  </thead>\n",
       "  <tbody>\n",
       "    <tr>\n",
       "      <th>0</th>\n",
       "      <td>SK Freiburg i.Breisgau</td>\n",
       "      <td>2019</td>\n",
       "      <td>1575711</td>\n",
       "      <td>0.000000</td>\n",
       "      <td>6600048</td>\n",
       "      <td>554519</td>\n",
       "      <td>6</td>\n",
       "      <td>8370603</td>\n",
       "      <td>218.5</td>\n",
       "      <td>206925</td>\n",
       "      <td>1247323</td>\n",
       "      <td>2</td>\n",
       "      <td>8984028</td>\n",
       "      <td>12</td>\n",
       "      <td>remote</td>\n",
       "      <td>DE.BW.FB</td>\n",
       "      <td>8311</td>\n",
       "      <td>781.807.596.196.695</td>\n",
       "      <td>479.925.229.956.189</td>\n",
       "    </tr>\n",
       "    <tr>\n",
       "      <th>1</th>\n",
       "      <td>LK Dillingen a.d.Donau</td>\n",
       "      <td>2019</td>\n",
       "      <td>1,89533E+14</td>\n",
       "      <td>0.004595</td>\n",
       "      <td>9,5195E+14</td>\n",
       "      <td>5,5639E+14</td>\n",
       "      <td>3,80237E+14</td>\n",
       "      <td>7,88278E+14</td>\n",
       "      <td>1,80314E+14</td>\n",
       "      <td>1,63814E+14</td>\n",
       "      <td>1,72883E+14</td>\n",
       "      <td>5,36691E+14</td>\n",
       "      <td>1,29524E+14</td>\n",
       "      <td>68</td>\n",
       "      <td>remote</td>\n",
       "      <td>DE.BY.DD</td>\n",
       "      <td>9773</td>\n",
       "      <td>105.277.641.680.394</td>\n",
       "      <td>485.964.037.973.776</td>\n",
       "    </tr>\n",
       "    <tr>\n",
       "      <th>2</th>\n",
       "      <td>SK NŸrnberg</td>\n",
       "      <td>2019</td>\n",
       "      <td>2538007</td>\n",
       "      <td>0.000000</td>\n",
       "      <td>1251538</td>\n",
       "      <td>4532018</td>\n",
       "      <td>0</td>\n",
       "      <td>7369548</td>\n",
       "      <td>160.34</td>\n",
       "      <td>1556725</td>\n",
       "      <td>1,53677E+14</td>\n",
       "      <td>4,89558E+14</td>\n",
       "      <td>1151754</td>\n",
       "      <td>107</td>\n",
       "      <td>remote</td>\n",
       "      <td>DE.BY.NR</td>\n",
       "      <td>9564</td>\n",
       "      <td>110.827.553.425.797</td>\n",
       "      <td>494.362.114.486.059</td>\n",
       "    </tr>\n",
       "    <tr>\n",
       "      <th>3</th>\n",
       "      <td>LK Neumarkt i.d.OPf.</td>\n",
       "      <td>2019</td>\n",
       "      <td>1,57092E+14</td>\n",
       "      <td>0.003532</td>\n",
       "      <td>8,1766E+14</td>\n",
       "      <td>5,20949E+14</td>\n",
       "      <td>2,18259E+14</td>\n",
       "      <td>7,65906E+14</td>\n",
       "      <td>1,79684E+14</td>\n",
       "      <td>1,62613E+14</td>\n",
       "      <td>1,60922E+14</td>\n",
       "      <td>4,89558E+14</td>\n",
       "      <td>1,22698E+14</td>\n",
       "      <td>110</td>\n",
       "      <td>remote</td>\n",
       "      <td>DE.BY.NO</td>\n",
       "      <td>9373</td>\n",
       "      <td>115.665.579.196.823</td>\n",
       "      <td>492.159.614.099.495</td>\n",
       "    </tr>\n",
       "    <tr>\n",
       "      <th>4</th>\n",
       "      <td>SK Rosenheim</td>\n",
       "      <td>2019</td>\n",
       "      <td>1,75246E+14</td>\n",
       "      <td>0.004127</td>\n",
       "      <td>8,68246E+14</td>\n",
       "      <td>5,25933E+14</td>\n",
       "      <td>2,41035E+14</td>\n",
       "      <td>7,69051E+14</td>\n",
       "      <td>1,79773E+14</td>\n",
       "      <td>1,62782E+14</td>\n",
       "      <td>1,64141E+14</td>\n",
       "      <td>4,89558E+14</td>\n",
       "      <td>1,24855E+14</td>\n",
       "      <td>122</td>\n",
       "      <td>remote</td>\n",
       "      <td>DE.BY.RH</td>\n",
       "      <td>9163</td>\n",
       "      <td>121.087.247.510.606</td>\n",
       "      <td>478.443.777.181.448</td>\n",
       "    </tr>\n",
       "  </tbody>\n",
       "</table>\n",
       "</div>"
      ],
      "text/plain": [
       "                   county  year NO2_annualMean  NO2_hrOver200 NO_annualMean  \\\n",
       "0  SK Freiburg i.Breisgau  2019        1575711       0.000000       6600048   \n",
       "1  LK Dillingen a.d.Donau  2019    1,89533E+14       0.004595    9,5195E+14   \n",
       "2             SK NŸrnberg  2019        2538007       0.000000       1251538   \n",
       "3    LK Neumarkt i.d.OPf.  2019    1,57092E+14       0.003532    8,1766E+14   \n",
       "4            SK Rosenheim  2019    1,75246E+14       0.004127   8,68246E+14   \n",
       "\n",
       "  O3_annualMean O3_daysOver120 O3_dailyMaxAnnualMean O3_dailyHourlyMax  \\\n",
       "0        554519              6               8370603             218.5   \n",
       "1    5,5639E+14    3,80237E+14           7,88278E+14       1,80314E+14   \n",
       "2       4532018              0               7369548            160.34   \n",
       "3   5,20949E+14    2,18259E+14           7,65906E+14       1,79684E+14   \n",
       "4   5,25933E+14    2,41035E+14           7,69051E+14       1,79773E+14   \n",
       "\n",
       "  O3_daily8HrMax PM10_annualMean PM10_daysOver50 PM2.5_annualMean  kreis_code  \\\n",
       "0         206925         1247323               2          8984028          12   \n",
       "1    1,63814E+14     1,72883E+14     5,36691E+14      1,29524E+14          68   \n",
       "2        1556725     1,53677E+14     4,89558E+14          1151754         107   \n",
       "3    1,62613E+14     1,60922E+14     4,89558E+14      1,22698E+14         110   \n",
       "4    1,62782E+14     1,64141E+14     4,89558E+14      1,24855E+14         122   \n",
       "\n",
       "  scenario  ISO_code  Kreis_Scluessel                  Lon  \\\n",
       "0   remote  DE.BW.FB             8311  781.807.596.196.695   \n",
       "1   remote  DE.BY.DD             9773  105.277.641.680.394   \n",
       "2   remote  DE.BY.NR             9564  110.827.553.425.797   \n",
       "3   remote  DE.BY.NO             9373  115.665.579.196.823   \n",
       "4   remote  DE.BY.RH             9163  121.087.247.510.606   \n",
       "\n",
       "                   Lat  \n",
       "0  479.925.229.956.189  \n",
       "1  485.964.037.973.776  \n",
       "2  494.362.114.486.059  \n",
       "3  492.159.614.099.495  \n",
       "4  478.443.777.181.448  "
      ]
     },
     "execution_count": 14,
     "metadata": {},
     "output_type": "execute_result"
    }
   ],
   "source": [
    "import pandas as pd \n",
    "pollution_data = pd.read_csv(\"../raw_data/APexpose.csv\",\n",
    "                             sep=';',\n",
    "                             decimal='.',\n",
    "                            encoding = 'Windows-1252' # needed special encoder to be able to read csv\n",
    "                            )\n",
    "pollution_data.head()"
   ]
  },
  {
   "cell_type": "markdown",
   "id": "68d755d3",
   "metadata": {},
   "source": [
    "!!!!!!! Take care of hour/day format\n",
    "\n",
    "!!!!!!! Check per pollutant which feature is most interesting\n",
    "\n",
    "!!!!!!! PM10_daysOver50: check out exponent 14 (could be imputation error)"
   ]
  },
  {
   "cell_type": "markdown",
   "id": "e780b22e",
   "metadata": {
    "heading_collapsed": true
   },
   "source": [
    "## Keep only 'average' scenario (combines remote and rural)"
   ]
  },
  {
   "cell_type": "code",
   "execution_count": 15,
   "id": "a8d33dd8",
   "metadata": {
    "hidden": true
   },
   "outputs": [
    {
     "data": {
      "text/plain": [
       "(12060, 19)"
      ]
     },
     "execution_count": 15,
     "metadata": {},
     "output_type": "execute_result"
    }
   ],
   "source": [
    "pollution_data.shape"
   ]
  },
  {
   "cell_type": "code",
   "execution_count": 34,
   "id": "d685c661",
   "metadata": {
    "hidden": true
   },
   "outputs": [
    {
     "data": {
      "text/plain": [
       "(4020, 19)"
      ]
     },
     "execution_count": 34,
     "metadata": {},
     "output_type": "execute_result"
    }
   ],
   "source": [
    "pollution_data = pollution_data[pollution_data.scenario == 'average']\n",
    "pollution_data.shape"
   ]
  },
  {
   "cell_type": "markdown",
   "id": "e1c1c4be",
   "metadata": {},
   "source": [
    "## Keep relevant features only and sort by year"
   ]
  },
  {
   "cell_type": "code",
   "execution_count": 36,
   "id": "4af2848c",
   "metadata": {},
   "outputs": [
    {
     "data": {
      "text/plain": [
       "Index(['county', 'year', 'NO2_annualMean', 'NO2_hrOver200', 'NO_annualMean',\n",
       "       'O3_annualMean', 'O3_daysOver120', 'O3_dailyMaxAnnualMean',\n",
       "       'O3_dailyHourlyMax', 'O3_daily8HrMax', 'PM10_annualMean',\n",
       "       'PM10_daysOver50', 'PM2.5_annualMean', 'kreis_code', 'scenario',\n",
       "       'ISO_code', 'Kreis_Scluessel', 'Lon', 'Lat'],\n",
       "      dtype='object')"
      ]
     },
     "execution_count": 36,
     "metadata": {},
     "output_type": "execute_result"
    }
   ],
   "source": [
    "pollution_data.columns"
   ]
  },
  {
   "cell_type": "code",
   "execution_count": 39,
   "id": "75ca83bd",
   "metadata": {},
   "outputs": [],
   "source": [
    "pollution_data = pollution_data[['county', 'year', 'NO2_annualMean', 'NO2_hrOver200', 'NO_annualMean',\n",
    "       'O3_annualMean', 'O3_daysOver120', 'O3_dailyMaxAnnualMean',\n",
    "       'O3_dailyHourlyMax', 'O3_daily8HrMax', 'PM10_annualMean',\n",
    "       'PM10_daysOver50', 'PM2.5_annualMean']]"
   ]
  },
  {
   "cell_type": "code",
   "execution_count": 51,
   "id": "a7ec252d",
   "metadata": {},
   "outputs": [
    {
     "data": {
      "text/html": [
       "<div>\n",
       "<style scoped>\n",
       "    .dataframe tbody tr th:only-of-type {\n",
       "        vertical-align: middle;\n",
       "    }\n",
       "\n",
       "    .dataframe tbody tr th {\n",
       "        vertical-align: top;\n",
       "    }\n",
       "\n",
       "    .dataframe thead th {\n",
       "        text-align: right;\n",
       "    }\n",
       "</style>\n",
       "<table border=\"1\" class=\"dataframe\">\n",
       "  <thead>\n",
       "    <tr style=\"text-align: right;\">\n",
       "      <th></th>\n",
       "      <th>county</th>\n",
       "      <th>year</th>\n",
       "      <th>NO2_annualMean</th>\n",
       "      <th>NO2_hrOver200</th>\n",
       "      <th>NO_annualMean</th>\n",
       "      <th>O3_annualMean</th>\n",
       "      <th>O3_daysOver120</th>\n",
       "      <th>O3_dailyMaxAnnualMean</th>\n",
       "      <th>O3_dailyHourlyMax</th>\n",
       "      <th>O3_daily8HrMax</th>\n",
       "      <th>PM10_annualMean</th>\n",
       "      <th>PM10_daysOver50</th>\n",
       "      <th>PM2.5_annualMean</th>\n",
       "    </tr>\n",
       "  </thead>\n",
       "  <tbody>\n",
       "    <tr>\n",
       "      <th>0</th>\n",
       "      <td>LK Greiz</td>\n",
       "      <td>2010</td>\n",
       "      <td>2.018928e+06</td>\n",
       "      <td>0.000000</td>\n",
       "      <td>6.925885e+06</td>\n",
       "      <td>4.277167e+06</td>\n",
       "      <td>1.682240e+14</td>\n",
       "      <td>7.595200e+13</td>\n",
       "      <td>1.795000e+14</td>\n",
       "      <td>1.622330e+14</td>\n",
       "      <td>2.428754e+06</td>\n",
       "      <td>2.200000e+01</td>\n",
       "      <td>1.850711e+06</td>\n",
       "    </tr>\n",
       "    <tr>\n",
       "      <th>1</th>\n",
       "      <td>LK Meißen</td>\n",
       "      <td>2010</td>\n",
       "      <td>1.686850e+05</td>\n",
       "      <td>0.000000</td>\n",
       "      <td>2.267045e+06</td>\n",
       "      <td>5.699750e+05</td>\n",
       "      <td>1.876270e+14</td>\n",
       "      <td>7.625770e+13</td>\n",
       "      <td>1.795970e+14</td>\n",
       "      <td>1.624050e+14</td>\n",
       "      <td>2.100458e+06</td>\n",
       "      <td>1.500000e+01</td>\n",
       "      <td>1.456280e+14</td>\n",
       "    </tr>\n",
       "    <tr>\n",
       "      <th>2</th>\n",
       "      <td>LK Erzgebirgskreis</td>\n",
       "      <td>2010</td>\n",
       "      <td>2.632646e+06</td>\n",
       "      <td>0.000000</td>\n",
       "      <td>1.539638e+06</td>\n",
       "      <td>6.527074e+06</td>\n",
       "      <td>1.627180e+14</td>\n",
       "      <td>7.586530e+14</td>\n",
       "      <td>1.794730e+14</td>\n",
       "      <td>1.621840e+14</td>\n",
       "      <td>1.183374e+06</td>\n",
       "      <td>4.000000e+00</td>\n",
       "      <td>1.381360e+14</td>\n",
       "    </tr>\n",
       "    <tr>\n",
       "      <th>3</th>\n",
       "      <td>LK Soest</td>\n",
       "      <td>2010</td>\n",
       "      <td>1.672297e+06</td>\n",
       "      <td>0.000000</td>\n",
       "      <td>2.669429e+06</td>\n",
       "      <td>4.640918e+06</td>\n",
       "      <td>1.836630e+14</td>\n",
       "      <td>7.619520e+14</td>\n",
       "      <td>1.795770e+14</td>\n",
       "      <td>1.623690e+14</td>\n",
       "      <td>2.017380e+14</td>\n",
       "      <td>7.341610e+14</td>\n",
       "      <td>1.733668e+06</td>\n",
       "    </tr>\n",
       "    <tr>\n",
       "      <th>4</th>\n",
       "      <td>LK Paderborn</td>\n",
       "      <td>2010</td>\n",
       "      <td>2.083220e+14</td>\n",
       "      <td>0.008416</td>\n",
       "      <td>1.150920e+14</td>\n",
       "      <td>5.119120e+14</td>\n",
       "      <td>1.750170e+14</td>\n",
       "      <td>7.605900e+14</td>\n",
       "      <td>1.795340e+14</td>\n",
       "      <td>1.622930e+14</td>\n",
       "      <td>1.918450e+13</td>\n",
       "      <td>5.856160e+14</td>\n",
       "      <td>1.402790e+14</td>\n",
       "    </tr>\n",
       "    <tr>\n",
       "      <th>...</th>\n",
       "      <td>...</td>\n",
       "      <td>...</td>\n",
       "      <td>...</td>\n",
       "      <td>...</td>\n",
       "      <td>...</td>\n",
       "      <td>...</td>\n",
       "      <td>...</td>\n",
       "      <td>...</td>\n",
       "      <td>...</td>\n",
       "      <td>...</td>\n",
       "      <td>...</td>\n",
       "      <td>...</td>\n",
       "      <td>...</td>\n",
       "    </tr>\n",
       "    <tr>\n",
       "      <th>4015</th>\n",
       "      <td>SK Wilhelmshaven</td>\n",
       "      <td>2019</td>\n",
       "      <td>1.063162e+06</td>\n",
       "      <td>0.000000</td>\n",
       "      <td>2.342970e+05</td>\n",
       "      <td>5.436061e+06</td>\n",
       "      <td>0.000000e+00</td>\n",
       "      <td>7.448256e+06</td>\n",
       "      <td>1.840300e+02</td>\n",
       "      <td>1.618688e+06</td>\n",
       "      <td>1.462606e+06</td>\n",
       "      <td>1.000000e+00</td>\n",
       "      <td>9.138880e+05</td>\n",
       "    </tr>\n",
       "    <tr>\n",
       "      <th>4016</th>\n",
       "      <td>SK Rosenheim</td>\n",
       "      <td>2019</td>\n",
       "      <td>1.800770e+14</td>\n",
       "      <td>0.006888</td>\n",
       "      <td>9.011510e+14</td>\n",
       "      <td>5.184070e+14</td>\n",
       "      <td>2.015130e+14</td>\n",
       "      <td>7.647640e+14</td>\n",
       "      <td>1.796660e+13</td>\n",
       "      <td>1.625280e+14</td>\n",
       "      <td>1.651930e+13</td>\n",
       "      <td>5.035500e+13</td>\n",
       "      <td>1.249710e+14</td>\n",
       "    </tr>\n",
       "    <tr>\n",
       "      <th>4017</th>\n",
       "      <td>LK Neumarkt i.d.OPf.</td>\n",
       "      <td>2019</td>\n",
       "      <td>1.625810e+14</td>\n",
       "      <td>0.005941</td>\n",
       "      <td>8.485150e+14</td>\n",
       "      <td>5.140760e+12</td>\n",
       "      <td>1.838440e+14</td>\n",
       "      <td>7.619810e+14</td>\n",
       "      <td>1.795780e+14</td>\n",
       "      <td>1.623710e+14</td>\n",
       "      <td>1.618470e+14</td>\n",
       "      <td>5.035500e+13</td>\n",
       "      <td>1.227020e+14</td>\n",
       "    </tr>\n",
       "    <tr>\n",
       "      <th>4018</th>\n",
       "      <td>SK Amberg</td>\n",
       "      <td>2019</td>\n",
       "      <td>1.577080e+14</td>\n",
       "      <td>0.005677</td>\n",
       "      <td>8.186720e+14</td>\n",
       "      <td>5.195000e+14</td>\n",
       "      <td>2.059690e+14</td>\n",
       "      <td>7.654670e+14</td>\n",
       "      <td>1.796880e+14</td>\n",
       "      <td>1.625670e+14</td>\n",
       "      <td>1.619050e+14</td>\n",
       "      <td>5.035500e+13</td>\n",
       "      <td>1.226390e+14</td>\n",
       "    </tr>\n",
       "    <tr>\n",
       "      <th>4019</th>\n",
       "      <td>SK Freiburg i.Breisgau</td>\n",
       "      <td>2019</td>\n",
       "      <td>1.575711e+06</td>\n",
       "      <td>0.000000</td>\n",
       "      <td>6.600048e+06</td>\n",
       "      <td>5.545190e+05</td>\n",
       "      <td>6.000000e+00</td>\n",
       "      <td>8.370603e+06</td>\n",
       "      <td>2.185000e+02</td>\n",
       "      <td>2.069250e+05</td>\n",
       "      <td>1.247323e+06</td>\n",
       "      <td>2.000000e+00</td>\n",
       "      <td>8.984028e+06</td>\n",
       "    </tr>\n",
       "  </tbody>\n",
       "</table>\n",
       "<p>4020 rows × 13 columns</p>\n",
       "</div>"
      ],
      "text/plain": [
       "                      county  year  NO2_annualMean  NO2_hrOver200  \\\n",
       "0                   LK Greiz  2010    2.018928e+06       0.000000   \n",
       "1                  LK Meißen  2010    1.686850e+05       0.000000   \n",
       "2         LK Erzgebirgskreis  2010    2.632646e+06       0.000000   \n",
       "3                   LK Soest  2010    1.672297e+06       0.000000   \n",
       "4               LK Paderborn  2010    2.083220e+14       0.008416   \n",
       "...                      ...   ...             ...            ...   \n",
       "4015        SK Wilhelmshaven  2019    1.063162e+06       0.000000   \n",
       "4016            SK Rosenheim  2019    1.800770e+14       0.006888   \n",
       "4017    LK Neumarkt i.d.OPf.  2019    1.625810e+14       0.005941   \n",
       "4018               SK Amberg  2019    1.577080e+14       0.005677   \n",
       "4019  SK Freiburg i.Breisgau  2019    1.575711e+06       0.000000   \n",
       "\n",
       "      NO_annualMean  O3_annualMean  O3_daysOver120  O3_dailyMaxAnnualMean  \\\n",
       "0      6.925885e+06   4.277167e+06    1.682240e+14           7.595200e+13   \n",
       "1      2.267045e+06   5.699750e+05    1.876270e+14           7.625770e+13   \n",
       "2      1.539638e+06   6.527074e+06    1.627180e+14           7.586530e+14   \n",
       "3      2.669429e+06   4.640918e+06    1.836630e+14           7.619520e+14   \n",
       "4      1.150920e+14   5.119120e+14    1.750170e+14           7.605900e+14   \n",
       "...             ...            ...             ...                    ...   \n",
       "4015   2.342970e+05   5.436061e+06    0.000000e+00           7.448256e+06   \n",
       "4016   9.011510e+14   5.184070e+14    2.015130e+14           7.647640e+14   \n",
       "4017   8.485150e+14   5.140760e+12    1.838440e+14           7.619810e+14   \n",
       "4018   8.186720e+14   5.195000e+14    2.059690e+14           7.654670e+14   \n",
       "4019   6.600048e+06   5.545190e+05    6.000000e+00           8.370603e+06   \n",
       "\n",
       "      O3_dailyHourlyMax  O3_daily8HrMax  PM10_annualMean  PM10_daysOver50  \\\n",
       "0          1.795000e+14    1.622330e+14     2.428754e+06     2.200000e+01   \n",
       "1          1.795970e+14    1.624050e+14     2.100458e+06     1.500000e+01   \n",
       "2          1.794730e+14    1.621840e+14     1.183374e+06     4.000000e+00   \n",
       "3          1.795770e+14    1.623690e+14     2.017380e+14     7.341610e+14   \n",
       "4          1.795340e+14    1.622930e+14     1.918450e+13     5.856160e+14   \n",
       "...                 ...             ...              ...              ...   \n",
       "4015       1.840300e+02    1.618688e+06     1.462606e+06     1.000000e+00   \n",
       "4016       1.796660e+13    1.625280e+14     1.651930e+13     5.035500e+13   \n",
       "4017       1.795780e+14    1.623710e+14     1.618470e+14     5.035500e+13   \n",
       "4018       1.796880e+14    1.625670e+14     1.619050e+14     5.035500e+13   \n",
       "4019       2.185000e+02    2.069250e+05     1.247323e+06     2.000000e+00   \n",
       "\n",
       "      PM2.5_annualMean  \n",
       "0         1.850711e+06  \n",
       "1         1.456280e+14  \n",
       "2         1.381360e+14  \n",
       "3         1.733668e+06  \n",
       "4         1.402790e+14  \n",
       "...                ...  \n",
       "4015      9.138880e+05  \n",
       "4016      1.249710e+14  \n",
       "4017      1.227020e+14  \n",
       "4018      1.226390e+14  \n",
       "4019      8.984028e+06  \n",
       "\n",
       "[4020 rows x 13 columns]"
      ]
     },
     "execution_count": 51,
     "metadata": {},
     "output_type": "execute_result"
    }
   ],
   "source": [
    "pollution_data.sort_values('year', \n",
    "                      axis=0, \n",
    "                      ascending=True,\n",
    "                          inplace=True,\n",
    "                      ignore_index=True)\n",
    "pollution_data"
   ]
  },
  {
   "cell_type": "markdown",
   "id": "0767a6bf",
   "metadata": {
    "heading_collapsed": true
   },
   "source": [
    "## Clean AP expose county name column to match Covid dataset"
   ]
  },
  {
   "cell_type": "code",
   "execution_count": 52,
   "id": "41541c93",
   "metadata": {
    "hidden": true
   },
   "outputs": [],
   "source": [
    "## Some funny characters present in county names of APExpose dataset\n",
    "## Replace those characters with equivalent German character to match Covid dataset and be able to merge\n",
    "\n",
    "pollution_data['county'] = pollution_data['county'].apply(lambda x: x.replace('Ÿ','ü'))\n",
    "pollution_data['county'] = pollution_data['county'].apply(lambda x: x.replace('š','ö'))\n",
    "pollution_data['county'] = pollution_data['county'].apply(lambda x: x.replace('§','ß'))\n",
    "pollution_data['county'] = pollution_data['county'].apply(lambda x: x.replace('Š','ä'))"
   ]
  },
  {
   "cell_type": "markdown",
   "id": "905ed7f4",
   "metadata": {
    "hidden": true
   },
   "source": [
    "!!!!!!!!! Save as UTF-8 encoded file instead"
   ]
  },
  {
   "cell_type": "markdown",
   "id": "fff36030",
   "metadata": {
    "heading_collapsed": true
   },
   "source": [
    "## Convert columns to floats "
   ]
  },
  {
   "cell_type": "code",
   "execution_count": 53,
   "id": "655d9e4a",
   "metadata": {
    "hidden": true
   },
   "outputs": [
    {
     "data": {
      "text/plain": [
       "county                    object\n",
       "year                       int64\n",
       "NO2_annualMean           float64\n",
       "NO2_hrOver200            float64\n",
       "NO_annualMean            float64\n",
       "O3_annualMean            float64\n",
       "O3_daysOver120           float64\n",
       "O3_dailyMaxAnnualMean    float64\n",
       "O3_dailyHourlyMax        float64\n",
       "O3_daily8HrMax           float64\n",
       "PM10_annualMean          float64\n",
       "PM10_daysOver50          float64\n",
       "PM2.5_annualMean         float64\n",
       "dtype: object"
      ]
     },
     "execution_count": 53,
     "metadata": {},
     "output_type": "execute_result"
    }
   ],
   "source": [
    "## some numerical features are recognized as object > convert to floats\n",
    "pollution_data.dtypes"
   ]
  },
  {
   "cell_type": "code",
   "execution_count": 54,
   "id": "a1913e7a",
   "metadata": {
    "collapsed": true,
    "hidden": true
   },
   "outputs": [
    {
     "ename": "AttributeError",
     "evalue": "'float' object has no attribute 'replace'",
     "output_type": "error",
     "traceback": [
      "\u001b[0;31m---------------------------------------------------------------------------\u001b[0m",
      "\u001b[0;31mAttributeError\u001b[0m                            Traceback (most recent call last)",
      "\u001b[0;32m/var/folders/py/ydbm54f573b1ymf9x65hf0mm0000gn/T/ipykernel_38137/1440491333.py\u001b[0m in \u001b[0;36m<module>\u001b[0;34m\u001b[0m\n\u001b[1;32m      2\u001b[0m \u001b[0;34m\u001b[0m\u001b[0m\n\u001b[1;32m      3\u001b[0m \u001b[0;32mfor\u001b[0m \u001b[0mcolumn\u001b[0m \u001b[0;32min\u001b[0m \u001b[0;34m[\u001b[0m\u001b[0;34m'NO2_annualMean'\u001b[0m\u001b[0;34m,\u001b[0m \u001b[0;34m'NO_annualMean'\u001b[0m\u001b[0;34m,\u001b[0m\u001b[0;34m'O3_annualMean'\u001b[0m\u001b[0;34m,\u001b[0m \u001b[0;34m'O3_daysOver120'\u001b[0m\u001b[0;34m,\u001b[0m \u001b[0;34m'O3_dailyMaxAnnualMean'\u001b[0m\u001b[0;34m,\u001b[0m\u001b[0;34m'O3_dailyHourlyMax'\u001b[0m\u001b[0;34m,\u001b[0m \u001b[0;34m'O3_daily8HrMax'\u001b[0m\u001b[0;34m,\u001b[0m \u001b[0;34m'PM10_annualMean'\u001b[0m\u001b[0;34m,\u001b[0m\u001b[0;34m'PM10_daysOver50'\u001b[0m\u001b[0;34m,\u001b[0m \u001b[0;34m'PM2.5_annualMean'\u001b[0m\u001b[0;34m]\u001b[0m\u001b[0;34m:\u001b[0m\u001b[0;34m\u001b[0m\u001b[0;34m\u001b[0m\u001b[0m\n\u001b[0;32m----> 4\u001b[0;31m     \u001b[0mpollution_data\u001b[0m\u001b[0;34m[\u001b[0m\u001b[0mcolumn\u001b[0m\u001b[0;34m]\u001b[0m \u001b[0;34m=\u001b[0m \u001b[0mpollution_data\u001b[0m\u001b[0;34m[\u001b[0m\u001b[0mcolumn\u001b[0m\u001b[0;34m]\u001b[0m\u001b[0;34m.\u001b[0m\u001b[0mapply\u001b[0m\u001b[0;34m(\u001b[0m\u001b[0;32mlambda\u001b[0m \u001b[0mx\u001b[0m\u001b[0;34m:\u001b[0m \u001b[0mx\u001b[0m\u001b[0;34m.\u001b[0m\u001b[0mreplace\u001b[0m\u001b[0;34m(\u001b[0m\u001b[0;34m','\u001b[0m\u001b[0;34m,\u001b[0m\u001b[0;34m'.'\u001b[0m\u001b[0;34m)\u001b[0m\u001b[0;34m)\u001b[0m\u001b[0;34m\u001b[0m\u001b[0;34m\u001b[0m\u001b[0m\n\u001b[0m\u001b[1;32m      5\u001b[0m pollution_data[['NO2_annualMean', 'NO_annualMean',\n\u001b[1;32m      6\u001b[0m        \u001b[0;34m'O3_annualMean'\u001b[0m\u001b[0;34m,\u001b[0m \u001b[0;34m'O3_daysOver120'\u001b[0m\u001b[0;34m,\u001b[0m \u001b[0;34m'O3_dailyMaxAnnualMean'\u001b[0m\u001b[0;34m,\u001b[0m\u001b[0;34m\u001b[0m\u001b[0;34m\u001b[0m\u001b[0m\n",
      "\u001b[0;32m~/.pyenv/versions/3.8.12/envs/lung_pollution/lib/python3.8/site-packages/pandas/core/series.py\u001b[0m in \u001b[0;36mapply\u001b[0;34m(self, func, convert_dtype, args, **kwargs)\u001b[0m\n\u001b[1;32m   4355\u001b[0m         \u001b[0mdtype\u001b[0m\u001b[0;34m:\u001b[0m \u001b[0mfloat64\u001b[0m\u001b[0;34m\u001b[0m\u001b[0;34m\u001b[0m\u001b[0m\n\u001b[1;32m   4356\u001b[0m         \"\"\"\n\u001b[0;32m-> 4357\u001b[0;31m         \u001b[0;32mreturn\u001b[0m \u001b[0mSeriesApply\u001b[0m\u001b[0;34m(\u001b[0m\u001b[0mself\u001b[0m\u001b[0;34m,\u001b[0m \u001b[0mfunc\u001b[0m\u001b[0;34m,\u001b[0m \u001b[0mconvert_dtype\u001b[0m\u001b[0;34m,\u001b[0m \u001b[0margs\u001b[0m\u001b[0;34m,\u001b[0m \u001b[0mkwargs\u001b[0m\u001b[0;34m)\u001b[0m\u001b[0;34m.\u001b[0m\u001b[0mapply\u001b[0m\u001b[0;34m(\u001b[0m\u001b[0;34m)\u001b[0m\u001b[0;34m\u001b[0m\u001b[0;34m\u001b[0m\u001b[0m\n\u001b[0m\u001b[1;32m   4358\u001b[0m \u001b[0;34m\u001b[0m\u001b[0m\n\u001b[1;32m   4359\u001b[0m     def _reduce(\n",
      "\u001b[0;32m~/.pyenv/versions/3.8.12/envs/lung_pollution/lib/python3.8/site-packages/pandas/core/apply.py\u001b[0m in \u001b[0;36mapply\u001b[0;34m(self)\u001b[0m\n\u001b[1;32m   1041\u001b[0m             \u001b[0;32mreturn\u001b[0m \u001b[0mself\u001b[0m\u001b[0;34m.\u001b[0m\u001b[0mapply_str\u001b[0m\u001b[0;34m(\u001b[0m\u001b[0;34m)\u001b[0m\u001b[0;34m\u001b[0m\u001b[0;34m\u001b[0m\u001b[0m\n\u001b[1;32m   1042\u001b[0m \u001b[0;34m\u001b[0m\u001b[0m\n\u001b[0;32m-> 1043\u001b[0;31m         \u001b[0;32mreturn\u001b[0m \u001b[0mself\u001b[0m\u001b[0;34m.\u001b[0m\u001b[0mapply_standard\u001b[0m\u001b[0;34m(\u001b[0m\u001b[0;34m)\u001b[0m\u001b[0;34m\u001b[0m\u001b[0;34m\u001b[0m\u001b[0m\n\u001b[0m\u001b[1;32m   1044\u001b[0m \u001b[0;34m\u001b[0m\u001b[0m\n\u001b[1;32m   1045\u001b[0m     \u001b[0;32mdef\u001b[0m \u001b[0magg\u001b[0m\u001b[0;34m(\u001b[0m\u001b[0mself\u001b[0m\u001b[0;34m)\u001b[0m\u001b[0;34m:\u001b[0m\u001b[0;34m\u001b[0m\u001b[0;34m\u001b[0m\u001b[0m\n",
      "\u001b[0;32m~/.pyenv/versions/3.8.12/envs/lung_pollution/lib/python3.8/site-packages/pandas/core/apply.py\u001b[0m in \u001b[0;36mapply_standard\u001b[0;34m(self)\u001b[0m\n\u001b[1;32m   1096\u001b[0m                 \u001b[0;31m# List[Union[Callable[..., Any], str]]]]]\"; expected\u001b[0m\u001b[0;34m\u001b[0m\u001b[0;34m\u001b[0m\u001b[0;34m\u001b[0m\u001b[0m\n\u001b[1;32m   1097\u001b[0m                 \u001b[0;31m# \"Callable[[Any], Any]\"\u001b[0m\u001b[0;34m\u001b[0m\u001b[0;34m\u001b[0m\u001b[0;34m\u001b[0m\u001b[0m\n\u001b[0;32m-> 1098\u001b[0;31m                 mapped = lib.map_infer(\n\u001b[0m\u001b[1;32m   1099\u001b[0m                     \u001b[0mvalues\u001b[0m\u001b[0;34m,\u001b[0m\u001b[0;34m\u001b[0m\u001b[0;34m\u001b[0m\u001b[0m\n\u001b[1;32m   1100\u001b[0m                     \u001b[0mf\u001b[0m\u001b[0;34m,\u001b[0m  \u001b[0;31m# type: ignore[arg-type]\u001b[0m\u001b[0;34m\u001b[0m\u001b[0;34m\u001b[0m\u001b[0m\n",
      "\u001b[0;32m~/.pyenv/versions/3.8.12/envs/lung_pollution/lib/python3.8/site-packages/pandas/_libs/lib.pyx\u001b[0m in \u001b[0;36mpandas._libs.lib.map_infer\u001b[0;34m()\u001b[0m\n",
      "\u001b[0;32m/var/folders/py/ydbm54f573b1ymf9x65hf0mm0000gn/T/ipykernel_38137/1440491333.py\u001b[0m in \u001b[0;36m<lambda>\u001b[0;34m(x)\u001b[0m\n\u001b[1;32m      2\u001b[0m \u001b[0;34m\u001b[0m\u001b[0m\n\u001b[1;32m      3\u001b[0m \u001b[0;32mfor\u001b[0m \u001b[0mcolumn\u001b[0m \u001b[0;32min\u001b[0m \u001b[0;34m[\u001b[0m\u001b[0;34m'NO2_annualMean'\u001b[0m\u001b[0;34m,\u001b[0m \u001b[0;34m'NO_annualMean'\u001b[0m\u001b[0;34m,\u001b[0m\u001b[0;34m'O3_annualMean'\u001b[0m\u001b[0;34m,\u001b[0m \u001b[0;34m'O3_daysOver120'\u001b[0m\u001b[0;34m,\u001b[0m \u001b[0;34m'O3_dailyMaxAnnualMean'\u001b[0m\u001b[0;34m,\u001b[0m\u001b[0;34m'O3_dailyHourlyMax'\u001b[0m\u001b[0;34m,\u001b[0m \u001b[0;34m'O3_daily8HrMax'\u001b[0m\u001b[0;34m,\u001b[0m \u001b[0;34m'PM10_annualMean'\u001b[0m\u001b[0;34m,\u001b[0m\u001b[0;34m'PM10_daysOver50'\u001b[0m\u001b[0;34m,\u001b[0m \u001b[0;34m'PM2.5_annualMean'\u001b[0m\u001b[0;34m]\u001b[0m\u001b[0;34m:\u001b[0m\u001b[0;34m\u001b[0m\u001b[0;34m\u001b[0m\u001b[0m\n\u001b[0;32m----> 4\u001b[0;31m     \u001b[0mpollution_data\u001b[0m\u001b[0;34m[\u001b[0m\u001b[0mcolumn\u001b[0m\u001b[0;34m]\u001b[0m \u001b[0;34m=\u001b[0m \u001b[0mpollution_data\u001b[0m\u001b[0;34m[\u001b[0m\u001b[0mcolumn\u001b[0m\u001b[0;34m]\u001b[0m\u001b[0;34m.\u001b[0m\u001b[0mapply\u001b[0m\u001b[0;34m(\u001b[0m\u001b[0;32mlambda\u001b[0m \u001b[0mx\u001b[0m\u001b[0;34m:\u001b[0m \u001b[0mx\u001b[0m\u001b[0;34m.\u001b[0m\u001b[0mreplace\u001b[0m\u001b[0;34m(\u001b[0m\u001b[0;34m','\u001b[0m\u001b[0;34m,\u001b[0m\u001b[0;34m'.'\u001b[0m\u001b[0;34m)\u001b[0m\u001b[0;34m)\u001b[0m\u001b[0;34m\u001b[0m\u001b[0;34m\u001b[0m\u001b[0m\n\u001b[0m\u001b[1;32m      5\u001b[0m pollution_data[['NO2_annualMean', 'NO_annualMean',\n\u001b[1;32m      6\u001b[0m        \u001b[0;34m'O3_annualMean'\u001b[0m\u001b[0;34m,\u001b[0m \u001b[0;34m'O3_daysOver120'\u001b[0m\u001b[0;34m,\u001b[0m \u001b[0;34m'O3_dailyMaxAnnualMean'\u001b[0m\u001b[0;34m,\u001b[0m\u001b[0;34m\u001b[0m\u001b[0;34m\u001b[0m\u001b[0m\n",
      "\u001b[0;31mAttributeError\u001b[0m: 'float' object has no attribute 'replace'"
     ]
    }
   ],
   "source": [
    "## Conversion to numerical feature only works if decimals are dots instead of comma > replace all commas with a dot\n",
    "\n",
    "for column in ['NO2_annualMean', 'NO_annualMean','O3_annualMean', 'O3_daysOver120', 'O3_dailyMaxAnnualMean','O3_dailyHourlyMax', 'O3_daily8HrMax', 'PM10_annualMean','PM10_daysOver50', 'PM2.5_annualMean']:\n",
    "    pollution_data[column] = pollution_data[column].apply(lambda x: x.replace(',','.'))\n",
    "pollution_data[['NO2_annualMean', 'NO_annualMean',\n",
    "       'O3_annualMean', 'O3_daysOver120', 'O3_dailyMaxAnnualMean',\n",
    "       'O3_dailyHourlyMax', 'O3_daily8HrMax', 'PM10_annualMean',\n",
    "       'PM10_daysOver50', 'PM2.5_annualMean']]"
   ]
  },
  {
   "cell_type": "code",
   "execution_count": 19,
   "id": "03803566",
   "metadata": {
    "hidden": true
   },
   "outputs": [],
   "source": [
    "#Convert to float\n",
    "for column in ['NO2_annualMean', 'NO_annualMean','O3_annualMean', 'O3_daysOver120', 'O3_dailyMaxAnnualMean','O3_dailyHourlyMax', 'O3_daily8HrMax', 'PM10_annualMean','PM10_daysOver50', 'PM2.5_annualMean']:\n",
    "    pollution_data[column] = pollution_data[column].apply(lambda x: float(x))"
   ]
  },
  {
   "cell_type": "code",
   "execution_count": 55,
   "id": "604877aa",
   "metadata": {
    "hidden": true
   },
   "outputs": [
    {
     "data": {
      "text/plain": [
       "county                    object\n",
       "year                       int64\n",
       "NO2_annualMean           float64\n",
       "NO2_hrOver200            float64\n",
       "NO_annualMean            float64\n",
       "O3_annualMean            float64\n",
       "O3_daysOver120           float64\n",
       "O3_dailyMaxAnnualMean    float64\n",
       "O3_dailyHourlyMax        float64\n",
       "O3_daily8HrMax           float64\n",
       "PM10_annualMean          float64\n",
       "PM10_daysOver50          float64\n",
       "PM2.5_annualMean         float64\n",
       "dtype: object"
      ]
     },
     "execution_count": 55,
     "metadata": {},
     "output_type": "execute_result"
    }
   ],
   "source": [
    "#Check datatypes\n",
    "pollution_data.dtypes"
   ]
  },
  {
   "cell_type": "markdown",
   "id": "fcd8a657",
   "metadata": {},
   "source": [
    "## Merge counties present in APexpore but not Covid\n",
    "\n",
    "Eisenach (wartburgkreis), Osterode am Harz (Göttingen) present in AP dataset but not in Covid dataset (because they were merged with another county after 2019): drop those rows for all time points"
   ]
  },
  {
   "cell_type": "code",
   "execution_count": 56,
   "id": "a832d244",
   "metadata": {},
   "outputs": [
    {
     "data": {
      "text/plain": [
       "(4020, 13)"
      ]
     },
     "execution_count": 56,
     "metadata": {},
     "output_type": "execute_result"
    }
   ],
   "source": [
    "pollution_data.shape"
   ]
  },
  {
   "cell_type": "code",
   "execution_count": 57,
   "id": "ae47e5bb",
   "metadata": {},
   "outputs": [],
   "source": [
    "Eisenach = pollution_data[pollution_data.county == 'Eisenach']"
   ]
  },
  {
   "cell_type": "code",
   "execution_count": 72,
   "id": "58689d40",
   "metadata": {},
   "outputs": [],
   "source": [
    "Wartburgkreis = pollution_data[pollution_data.county == 'LK Wartburgkreis']"
   ]
  },
  {
   "cell_type": "code",
   "execution_count": 73,
   "id": "9fb6fc13",
   "metadata": {},
   "outputs": [],
   "source": [
    "Wartburgkreis_merge = pd.concat(\n",
    "    [Eisenach,Wartburgkreis],\n",
    "    axis=0,\n",
    "    ignore_index=True,\n",
    ")"
   ]
  },
  {
   "cell_type": "code",
   "execution_count": 78,
   "id": "c8856757",
   "metadata": {
    "scrolled": false
   },
   "outputs": [
    {
     "data": {
      "text/plain": [
       "Index(['county', 'year', 'NO2_annualMean', 'NO2_hrOver200', 'NO_annualMean',\n",
       "       'O3_annualMean', 'O3_daysOver120', 'O3_dailyMaxAnnualMean',\n",
       "       'O3_dailyHourlyMax', 'O3_daily8HrMax', 'PM10_annualMean',\n",
       "       'PM10_daysOver50', 'PM2.5_annualMean'],\n",
       "      dtype='object')"
      ]
     },
     "execution_count": 78,
     "metadata": {},
     "output_type": "execute_result"
    }
   ],
   "source": [
    "Wartburgkreis_merge.sort_values('year', \n",
    "                      axis=0, \n",
    "                      ascending=True,\n",
    "                          inplace=True,\n",
    "                      ignore_index=True)\n",
    "Wartburgkreis_merge.columns"
   ]
  },
  {
   "cell_type": "code",
   "execution_count": 82,
   "id": "220349bc",
   "metadata": {},
   "outputs": [
    {
     "data": {
      "text/html": [
       "<div>\n",
       "<style scoped>\n",
       "    .dataframe tbody tr th:only-of-type {\n",
       "        vertical-align: middle;\n",
       "    }\n",
       "\n",
       "    .dataframe tbody tr th {\n",
       "        vertical-align: top;\n",
       "    }\n",
       "\n",
       "    .dataframe thead th {\n",
       "        text-align: right;\n",
       "    }\n",
       "</style>\n",
       "<table border=\"1\" class=\"dataframe\">\n",
       "  <thead>\n",
       "    <tr style=\"text-align: right;\">\n",
       "      <th></th>\n",
       "      <th>county</th>\n",
       "      <th>year</th>\n",
       "      <th>NO2_annualMean</th>\n",
       "      <th>NO2_hrOver200</th>\n",
       "      <th>NO_annualMean</th>\n",
       "      <th>O3_annualMean</th>\n",
       "      <th>O3_daysOver120</th>\n",
       "      <th>O3_dailyMaxAnnualMean</th>\n",
       "      <th>O3_dailyHourlyMax</th>\n",
       "      <th>O3_daily8HrMax</th>\n",
       "      <th>PM10_annualMean</th>\n",
       "      <th>PM10_daysOver50</th>\n",
       "      <th>PM2.5_annualMean</th>\n",
       "    </tr>\n",
       "  </thead>\n",
       "  <tbody>\n",
       "    <tr>\n",
       "      <th>0</th>\n",
       "      <td>Eisenach</td>\n",
       "      <td>2010</td>\n",
       "      <td>1.955313e+06</td>\n",
       "      <td>0.000000</td>\n",
       "      <td>5.159791e+06</td>\n",
       "      <td>4.659175e+06</td>\n",
       "      <td>9.917384e-01</td>\n",
       "      <td>7.486420e+14</td>\n",
       "      <td>1.791560e+14</td>\n",
       "      <td>1.616200e+14</td>\n",
       "      <td>2.347870e+05</td>\n",
       "      <td>2.500000e+01</td>\n",
       "      <td>1.297480e+14</td>\n",
       "    </tr>\n",
       "    <tr>\n",
       "      <th>1</th>\n",
       "      <td>LK Wartburgkreis</td>\n",
       "      <td>2010</td>\n",
       "      <td>1.711520e+13</td>\n",
       "      <td>0.006405</td>\n",
       "      <td>1.009760e+14</td>\n",
       "      <td>4.884410e+14</td>\n",
       "      <td>7.926890e-01</td>\n",
       "      <td>7.455060e+14</td>\n",
       "      <td>1.790570e+14</td>\n",
       "      <td>1.614430e+13</td>\n",
       "      <td>1.708930e+14</td>\n",
       "      <td>5.035500e+13</td>\n",
       "      <td>1.281600e+14</td>\n",
       "    </tr>\n",
       "    <tr>\n",
       "      <th>2</th>\n",
       "      <td>Eisenach</td>\n",
       "      <td>2011</td>\n",
       "      <td>1.764411e+06</td>\n",
       "      <td>0.000000</td>\n",
       "      <td>6.108865e+06</td>\n",
       "      <td>4.483597e+06</td>\n",
       "      <td>1.032190e+14</td>\n",
       "      <td>7.492790e+14</td>\n",
       "      <td>1.791760e+14</td>\n",
       "      <td>1.616560e+14</td>\n",
       "      <td>2.188526e+06</td>\n",
       "      <td>2.300000e+01</td>\n",
       "      <td>1.307690e+14</td>\n",
       "    </tr>\n",
       "    <tr>\n",
       "      <th>3</th>\n",
       "      <td>LK Wartburgkreis</td>\n",
       "      <td>2011</td>\n",
       "      <td>1.723100e+14</td>\n",
       "      <td>0.006468</td>\n",
       "      <td>1.074490e+14</td>\n",
       "      <td>4.896230e+13</td>\n",
       "      <td>8.408995e-01</td>\n",
       "      <td>7.462650e+14</td>\n",
       "      <td>1.790810e+14</td>\n",
       "      <td>1.614860e+14</td>\n",
       "      <td>1.724940e+14</td>\n",
       "      <td>6.957310e+14</td>\n",
       "      <td>1.289890e+14</td>\n",
       "    </tr>\n",
       "    <tr>\n",
       "      <th>4</th>\n",
       "      <td>Eisenach</td>\n",
       "      <td>2012</td>\n",
       "      <td>1.711277e+06</td>\n",
       "      <td>0.000000</td>\n",
       "      <td>4.944831e+06</td>\n",
       "      <td>4.610036e+06</td>\n",
       "      <td>1.121990e+14</td>\n",
       "      <td>7.506940e+14</td>\n",
       "      <td>1.792210e+14</td>\n",
       "      <td>1.617350e+14</td>\n",
       "      <td>1.712788e+06</td>\n",
       "      <td>1.200000e+01</td>\n",
       "      <td>1.294710e+14</td>\n",
       "    </tr>\n",
       "    <tr>\n",
       "      <th>5</th>\n",
       "      <td>LK Wartburgkreis</td>\n",
       "      <td>2012</td>\n",
       "      <td>1.685780e+14</td>\n",
       "      <td>0.006266</td>\n",
       "      <td>9.595440e+14</td>\n",
       "      <td>4.917650e+14</td>\n",
       "      <td>9.283005e-01</td>\n",
       "      <td>7.476420e+14</td>\n",
       "      <td>1.791250e+14</td>\n",
       "      <td>1.615640e+14</td>\n",
       "      <td>1.704520e+14</td>\n",
       "      <td>6.201120e+14</td>\n",
       "      <td>1.277710e+14</td>\n",
       "    </tr>\n",
       "    <tr>\n",
       "      <th>6</th>\n",
       "      <td>Eisenach</td>\n",
       "      <td>2013</td>\n",
       "      <td>1.611027e+06</td>\n",
       "      <td>0.000000</td>\n",
       "      <td>9.055490e+14</td>\n",
       "      <td>4.646493e+06</td>\n",
       "      <td>0.000000e+00</td>\n",
       "      <td>7.129420e+05</td>\n",
       "      <td>1.494350e+05</td>\n",
       "      <td>1.351949e+06</td>\n",
       "      <td>1.879899e+06</td>\n",
       "      <td>1.200000e+01</td>\n",
       "      <td>1.279280e+14</td>\n",
       "    </tr>\n",
       "    <tr>\n",
       "      <th>7</th>\n",
       "      <td>LK Wartburgkreis</td>\n",
       "      <td>2013</td>\n",
       "      <td>1.659690e+14</td>\n",
       "      <td>0.006125</td>\n",
       "      <td>8.967950e+14</td>\n",
       "      <td>4.923560e+14</td>\n",
       "      <td>9.524044e-01</td>\n",
       "      <td>7.480220e+14</td>\n",
       "      <td>1.791370e+14</td>\n",
       "      <td>1.615850e+14</td>\n",
       "      <td>1.679110e+14</td>\n",
       "      <td>5.569320e+14</td>\n",
       "      <td>1.263730e+14</td>\n",
       "    </tr>\n",
       "    <tr>\n",
       "      <th>8</th>\n",
       "      <td>Eisenach</td>\n",
       "      <td>2014</td>\n",
       "      <td>1.678938e+06</td>\n",
       "      <td>0.000000</td>\n",
       "      <td>1.495335e+06</td>\n",
       "      <td>4.635543e+06</td>\n",
       "      <td>0.000000e+00</td>\n",
       "      <td>6.944509e+06</td>\n",
       "      <td>1.483027e+06</td>\n",
       "      <td>1.411733e+06</td>\n",
       "      <td>1.830367e+06</td>\n",
       "      <td>1.200000e+01</td>\n",
       "      <td>1.301900e+13</td>\n",
       "    </tr>\n",
       "    <tr>\n",
       "      <th>9</th>\n",
       "      <td>LK Wartburgkreis</td>\n",
       "      <td>2014</td>\n",
       "      <td>1.691190e+13</td>\n",
       "      <td>0.006295</td>\n",
       "      <td>9.508910e+14</td>\n",
       "      <td>4.907210e+14</td>\n",
       "      <td>8.856943e-01</td>\n",
       "      <td>7.469710e+14</td>\n",
       "      <td>1.791030e+14</td>\n",
       "      <td>1.615260e+14</td>\n",
       "      <td>1.714170e+14</td>\n",
       "      <td>7.251260e+14</td>\n",
       "      <td>1.283860e+14</td>\n",
       "    </tr>\n",
       "    <tr>\n",
       "      <th>10</th>\n",
       "      <td>Eisenach</td>\n",
       "      <td>2015</td>\n",
       "      <td>1.630668e+06</td>\n",
       "      <td>0.000000</td>\n",
       "      <td>1.556880e+05</td>\n",
       "      <td>5.260748e+06</td>\n",
       "      <td>0.000000e+00</td>\n",
       "      <td>7.472203e+06</td>\n",
       "      <td>1.774610e+05</td>\n",
       "      <td>1.634692e+06</td>\n",
       "      <td>1.632920e+05</td>\n",
       "      <td>1.000000e+01</td>\n",
       "      <td>1.270870e+14</td>\n",
       "    </tr>\n",
       "    <tr>\n",
       "      <th>11</th>\n",
       "      <td>LK Wartburgkreis</td>\n",
       "      <td>2015</td>\n",
       "      <td>1.646470e+14</td>\n",
       "      <td>0.006053</td>\n",
       "      <td>9.075710e+14</td>\n",
       "      <td>4.943930e+14</td>\n",
       "      <td>1.035510e+14</td>\n",
       "      <td>7.493310e+14</td>\n",
       "      <td>1.791780e+14</td>\n",
       "      <td>1.616590e+14</td>\n",
       "      <td>1.668240e+14</td>\n",
       "      <td>5.035500e+13</td>\n",
       "      <td>1.255540e+14</td>\n",
       "    </tr>\n",
       "    <tr>\n",
       "      <th>12</th>\n",
       "      <td>Eisenach</td>\n",
       "      <td>2016</td>\n",
       "      <td>1.597630e+05</td>\n",
       "      <td>0.000000</td>\n",
       "      <td>1.559770e+05</td>\n",
       "      <td>4.821870e+05</td>\n",
       "      <td>0.000000e+00</td>\n",
       "      <td>7.123770e+05</td>\n",
       "      <td>1.688044e+06</td>\n",
       "      <td>1.564070e+05</td>\n",
       "      <td>1.499049e+06</td>\n",
       "      <td>4.000000e+00</td>\n",
       "      <td>1.276130e+14</td>\n",
       "    </tr>\n",
       "    <tr>\n",
       "      <th>13</th>\n",
       "      <td>LK Wartburgkreis</td>\n",
       "      <td>2016</td>\n",
       "      <td>1.666030e+14</td>\n",
       "      <td>0.006159</td>\n",
       "      <td>9.299530e+14</td>\n",
       "      <td>4.905160e+14</td>\n",
       "      <td>8.773372e-01</td>\n",
       "      <td>7.468390e+14</td>\n",
       "      <td>1.790990e+14</td>\n",
       "      <td>1.615180e+14</td>\n",
       "      <td>1.674520e+13</td>\n",
       "      <td>6.103140e+14</td>\n",
       "      <td>1.259760e+14</td>\n",
       "    </tr>\n",
       "    <tr>\n",
       "      <th>14</th>\n",
       "      <td>LK Wartburgkreis</td>\n",
       "      <td>2017</td>\n",
       "      <td>1.642610e+14</td>\n",
       "      <td>0.006032</td>\n",
       "      <td>9.264730e+14</td>\n",
       "      <td>4.948200e+14</td>\n",
       "      <td>1.052900e+13</td>\n",
       "      <td>7.496050e+14</td>\n",
       "      <td>1.791870e+14</td>\n",
       "      <td>1.616740e+14</td>\n",
       "      <td>1.686330e+14</td>\n",
       "      <td>6.636960e+14</td>\n",
       "      <td>1.265000e+14</td>\n",
       "    </tr>\n",
       "    <tr>\n",
       "      <th>15</th>\n",
       "      <td>Eisenach</td>\n",
       "      <td>2017</td>\n",
       "      <td>1.553616e+06</td>\n",
       "      <td>0.000000</td>\n",
       "      <td>1.628352e+06</td>\n",
       "      <td>4.957700e+04</td>\n",
       "      <td>0.000000e+00</td>\n",
       "      <td>7.159043e+06</td>\n",
       "      <td>1.673428e+06</td>\n",
       "      <td>1.558347e+06</td>\n",
       "      <td>1.465602e+06</td>\n",
       "      <td>8.000000e+00</td>\n",
       "      <td>1.282420e+14</td>\n",
       "    </tr>\n",
       "    <tr>\n",
       "      <th>16</th>\n",
       "      <td>LK Wartburgkreis</td>\n",
       "      <td>2018</td>\n",
       "      <td>1.636820e+14</td>\n",
       "      <td>0.006001</td>\n",
       "      <td>9.151990e+14</td>\n",
       "      <td>4.989390e+14</td>\n",
       "      <td>1.220940e+14</td>\n",
       "      <td>7.522530e+14</td>\n",
       "      <td>1.792700e+14</td>\n",
       "      <td>1.618230e+14</td>\n",
       "      <td>1.673030e+14</td>\n",
       "      <td>6.005160e+14</td>\n",
       "      <td>1.259750e+14</td>\n",
       "    </tr>\n",
       "    <tr>\n",
       "      <th>17</th>\n",
       "      <td>Eisenach</td>\n",
       "      <td>2018</td>\n",
       "      <td>1.527315e+06</td>\n",
       "      <td>0.000000</td>\n",
       "      <td>1.606074e+06</td>\n",
       "      <td>5.426374e+06</td>\n",
       "      <td>0.000000e+00</td>\n",
       "      <td>7.935047e+06</td>\n",
       "      <td>1.700844e+06</td>\n",
       "      <td>1.619206e+06</td>\n",
       "      <td>1.675011e+06</td>\n",
       "      <td>6.000000e+00</td>\n",
       "      <td>1.276730e+14</td>\n",
       "    </tr>\n",
       "    <tr>\n",
       "      <th>18</th>\n",
       "      <td>Eisenach</td>\n",
       "      <td>2019</td>\n",
       "      <td>1.293100e+04</td>\n",
       "      <td>0.000000</td>\n",
       "      <td>5.219805e+06</td>\n",
       "      <td>4.960639e+06</td>\n",
       "      <td>0.000000e+00</td>\n",
       "      <td>7.507331e+06</td>\n",
       "      <td>1.644556e+06</td>\n",
       "      <td>1.512760e+05</td>\n",
       "      <td>1.363856e+06</td>\n",
       "      <td>1.000000e+00</td>\n",
       "      <td>1.233800e+14</td>\n",
       "    </tr>\n",
       "    <tr>\n",
       "      <th>19</th>\n",
       "      <td>LK Wartburgkreis</td>\n",
       "      <td>2019</td>\n",
       "      <td>1.606130e+14</td>\n",
       "      <td>0.005835</td>\n",
       "      <td>9.108470e+14</td>\n",
       "      <td>5.012020e+14</td>\n",
       "      <td>1.313250e+14</td>\n",
       "      <td>7.537070e+14</td>\n",
       "      <td>1.793160e+14</td>\n",
       "      <td>1.619050e+13</td>\n",
       "      <td>1.611330e+14</td>\n",
       "      <td>5.133490e+14</td>\n",
       "      <td>1.220410e+14</td>\n",
       "    </tr>\n",
       "  </tbody>\n",
       "</table>\n",
       "</div>"
      ],
      "text/plain": [
       "              county  year  NO2_annualMean  NO2_hrOver200  NO_annualMean  \\\n",
       "0           Eisenach  2010    1.955313e+06       0.000000   5.159791e+06   \n",
       "1   LK Wartburgkreis  2010    1.711520e+13       0.006405   1.009760e+14   \n",
       "2           Eisenach  2011    1.764411e+06       0.000000   6.108865e+06   \n",
       "3   LK Wartburgkreis  2011    1.723100e+14       0.006468   1.074490e+14   \n",
       "4           Eisenach  2012    1.711277e+06       0.000000   4.944831e+06   \n",
       "5   LK Wartburgkreis  2012    1.685780e+14       0.006266   9.595440e+14   \n",
       "6           Eisenach  2013    1.611027e+06       0.000000   9.055490e+14   \n",
       "7   LK Wartburgkreis  2013    1.659690e+14       0.006125   8.967950e+14   \n",
       "8           Eisenach  2014    1.678938e+06       0.000000   1.495335e+06   \n",
       "9   LK Wartburgkreis  2014    1.691190e+13       0.006295   9.508910e+14   \n",
       "10          Eisenach  2015    1.630668e+06       0.000000   1.556880e+05   \n",
       "11  LK Wartburgkreis  2015    1.646470e+14       0.006053   9.075710e+14   \n",
       "12          Eisenach  2016    1.597630e+05       0.000000   1.559770e+05   \n",
       "13  LK Wartburgkreis  2016    1.666030e+14       0.006159   9.299530e+14   \n",
       "14  LK Wartburgkreis  2017    1.642610e+14       0.006032   9.264730e+14   \n",
       "15          Eisenach  2017    1.553616e+06       0.000000   1.628352e+06   \n",
       "16  LK Wartburgkreis  2018    1.636820e+14       0.006001   9.151990e+14   \n",
       "17          Eisenach  2018    1.527315e+06       0.000000   1.606074e+06   \n",
       "18          Eisenach  2019    1.293100e+04       0.000000   5.219805e+06   \n",
       "19  LK Wartburgkreis  2019    1.606130e+14       0.005835   9.108470e+14   \n",
       "\n",
       "    O3_annualMean  O3_daysOver120  O3_dailyMaxAnnualMean  O3_dailyHourlyMax  \\\n",
       "0    4.659175e+06    9.917384e-01           7.486420e+14       1.791560e+14   \n",
       "1    4.884410e+14    7.926890e-01           7.455060e+14       1.790570e+14   \n",
       "2    4.483597e+06    1.032190e+14           7.492790e+14       1.791760e+14   \n",
       "3    4.896230e+13    8.408995e-01           7.462650e+14       1.790810e+14   \n",
       "4    4.610036e+06    1.121990e+14           7.506940e+14       1.792210e+14   \n",
       "5    4.917650e+14    9.283005e-01           7.476420e+14       1.791250e+14   \n",
       "6    4.646493e+06    0.000000e+00           7.129420e+05       1.494350e+05   \n",
       "7    4.923560e+14    9.524044e-01           7.480220e+14       1.791370e+14   \n",
       "8    4.635543e+06    0.000000e+00           6.944509e+06       1.483027e+06   \n",
       "9    4.907210e+14    8.856943e-01           7.469710e+14       1.791030e+14   \n",
       "10   5.260748e+06    0.000000e+00           7.472203e+06       1.774610e+05   \n",
       "11   4.943930e+14    1.035510e+14           7.493310e+14       1.791780e+14   \n",
       "12   4.821870e+05    0.000000e+00           7.123770e+05       1.688044e+06   \n",
       "13   4.905160e+14    8.773372e-01           7.468390e+14       1.790990e+14   \n",
       "14   4.948200e+14    1.052900e+13           7.496050e+14       1.791870e+14   \n",
       "15   4.957700e+04    0.000000e+00           7.159043e+06       1.673428e+06   \n",
       "16   4.989390e+14    1.220940e+14           7.522530e+14       1.792700e+14   \n",
       "17   5.426374e+06    0.000000e+00           7.935047e+06       1.700844e+06   \n",
       "18   4.960639e+06    0.000000e+00           7.507331e+06       1.644556e+06   \n",
       "19   5.012020e+14    1.313250e+14           7.537070e+14       1.793160e+14   \n",
       "\n",
       "    O3_daily8HrMax  PM10_annualMean  PM10_daysOver50  PM2.5_annualMean  \n",
       "0     1.616200e+14     2.347870e+05     2.500000e+01      1.297480e+14  \n",
       "1     1.614430e+13     1.708930e+14     5.035500e+13      1.281600e+14  \n",
       "2     1.616560e+14     2.188526e+06     2.300000e+01      1.307690e+14  \n",
       "3     1.614860e+14     1.724940e+14     6.957310e+14      1.289890e+14  \n",
       "4     1.617350e+14     1.712788e+06     1.200000e+01      1.294710e+14  \n",
       "5     1.615640e+14     1.704520e+14     6.201120e+14      1.277710e+14  \n",
       "6     1.351949e+06     1.879899e+06     1.200000e+01      1.279280e+14  \n",
       "7     1.615850e+14     1.679110e+14     5.569320e+14      1.263730e+14  \n",
       "8     1.411733e+06     1.830367e+06     1.200000e+01      1.301900e+13  \n",
       "9     1.615260e+14     1.714170e+14     7.251260e+14      1.283860e+14  \n",
       "10    1.634692e+06     1.632920e+05     1.000000e+01      1.270870e+14  \n",
       "11    1.616590e+14     1.668240e+14     5.035500e+13      1.255540e+14  \n",
       "12    1.564070e+05     1.499049e+06     4.000000e+00      1.276130e+14  \n",
       "13    1.615180e+14     1.674520e+13     6.103140e+14      1.259760e+14  \n",
       "14    1.616740e+14     1.686330e+14     6.636960e+14      1.265000e+14  \n",
       "15    1.558347e+06     1.465602e+06     8.000000e+00      1.282420e+14  \n",
       "16    1.618230e+14     1.673030e+14     6.005160e+14      1.259750e+14  \n",
       "17    1.619206e+06     1.675011e+06     6.000000e+00      1.276730e+14  \n",
       "18    1.512760e+05     1.363856e+06     1.000000e+00      1.233800e+14  \n",
       "19    1.619050e+13     1.611330e+14     5.133490e+14      1.220410e+14  "
      ]
     },
     "execution_count": 82,
     "metadata": {},
     "output_type": "execute_result"
    }
   ],
   "source": [
    "Wartburgkreis_merge"
   ]
  },
  {
   "cell_type": "code",
   "execution_count": 81,
   "id": "6ba5e7c1",
   "metadata": {},
   "outputs": [
    {
     "name": "stderr",
     "output_type": "stream",
     "text": [
      "/var/folders/py/ydbm54f573b1ymf9x65hf0mm0000gn/T/ipykernel_38137/3502989865.py:1: FutureWarning: Indexing with multiple keys (implicitly converted to a tuple of keys) will be deprecated, use a list instead.\n",
      "  Wartburgkreis_merge.groupby(['year'])['NO2_annualMean', 'NO2_hrOver200', 'NO_annualMean',\n"
     ]
    },
    {
     "data": {
      "text/html": [
       "<div>\n",
       "<style scoped>\n",
       "    .dataframe tbody tr th:only-of-type {\n",
       "        vertical-align: middle;\n",
       "    }\n",
       "\n",
       "    .dataframe tbody tr th {\n",
       "        vertical-align: top;\n",
       "    }\n",
       "\n",
       "    .dataframe thead th {\n",
       "        text-align: right;\n",
       "    }\n",
       "</style>\n",
       "<table border=\"1\" class=\"dataframe\">\n",
       "  <thead>\n",
       "    <tr style=\"text-align: right;\">\n",
       "      <th></th>\n",
       "      <th>NO2_annualMean</th>\n",
       "      <th>NO2_hrOver200</th>\n",
       "      <th>NO_annualMean</th>\n",
       "      <th>O3_annualMean</th>\n",
       "      <th>O3_daysOver120</th>\n",
       "      <th>O3_dailyMaxAnnualMean</th>\n",
       "      <th>O3_dailyHourlyMax</th>\n",
       "      <th>O3_daily8HrMax</th>\n",
       "      <th>PM10_annualMean</th>\n",
       "      <th>PM10_daysOver50</th>\n",
       "      <th>PM2.5_annualMean</th>\n",
       "    </tr>\n",
       "    <tr>\n",
       "      <th>year</th>\n",
       "      <th></th>\n",
       "      <th></th>\n",
       "      <th></th>\n",
       "      <th></th>\n",
       "      <th></th>\n",
       "      <th></th>\n",
       "      <th></th>\n",
       "      <th></th>\n",
       "      <th></th>\n",
       "      <th></th>\n",
       "      <th></th>\n",
       "    </tr>\n",
       "  </thead>\n",
       "  <tbody>\n",
       "    <tr>\n",
       "      <th>2010</th>\n",
       "      <td>8.557601e+12</td>\n",
       "      <td>0.003202</td>\n",
       "      <td>5.048800e+13</td>\n",
       "      <td>2.442205e+14</td>\n",
       "      <td>8.922137e-01</td>\n",
       "      <td>7.470740e+14</td>\n",
       "      <td>1.791065e+14</td>\n",
       "      <td>8.888215e+13</td>\n",
       "      <td>8.544650e+13</td>\n",
       "      <td>2.517750e+13</td>\n",
       "      <td>1.289540e+14</td>\n",
       "    </tr>\n",
       "    <tr>\n",
       "      <th>2011</th>\n",
       "      <td>8.615500e+13</td>\n",
       "      <td>0.003234</td>\n",
       "      <td>5.372450e+13</td>\n",
       "      <td>2.448115e+13</td>\n",
       "      <td>5.160950e+13</td>\n",
       "      <td>7.477720e+14</td>\n",
       "      <td>1.791285e+14</td>\n",
       "      <td>1.615710e+14</td>\n",
       "      <td>8.624700e+13</td>\n",
       "      <td>3.478655e+14</td>\n",
       "      <td>1.298790e+14</td>\n",
       "    </tr>\n",
       "    <tr>\n",
       "      <th>2012</th>\n",
       "      <td>8.428900e+13</td>\n",
       "      <td>0.003133</td>\n",
       "      <td>4.797720e+14</td>\n",
       "      <td>2.458825e+14</td>\n",
       "      <td>5.609950e+13</td>\n",
       "      <td>7.491680e+14</td>\n",
       "      <td>1.791730e+14</td>\n",
       "      <td>1.616495e+14</td>\n",
       "      <td>8.522600e+13</td>\n",
       "      <td>3.100560e+14</td>\n",
       "      <td>1.286210e+14</td>\n",
       "    </tr>\n",
       "    <tr>\n",
       "      <th>2013</th>\n",
       "      <td>8.298450e+13</td>\n",
       "      <td>0.003062</td>\n",
       "      <td>9.011720e+14</td>\n",
       "      <td>2.461780e+14</td>\n",
       "      <td>4.762022e-01</td>\n",
       "      <td>3.740110e+14</td>\n",
       "      <td>8.956850e+13</td>\n",
       "      <td>8.079250e+13</td>\n",
       "      <td>8.395550e+13</td>\n",
       "      <td>2.784660e+14</td>\n",
       "      <td>1.271505e+14</td>\n",
       "    </tr>\n",
       "    <tr>\n",
       "      <th>2014</th>\n",
       "      <td>8.455951e+12</td>\n",
       "      <td>0.003147</td>\n",
       "      <td>4.754455e+14</td>\n",
       "      <td>2.453605e+14</td>\n",
       "      <td>4.428472e-01</td>\n",
       "      <td>3.734855e+14</td>\n",
       "      <td>8.955150e+13</td>\n",
       "      <td>8.076300e+13</td>\n",
       "      <td>8.570850e+13</td>\n",
       "      <td>3.625630e+14</td>\n",
       "      <td>7.070250e+13</td>\n",
       "    </tr>\n",
       "    <tr>\n",
       "      <th>2015</th>\n",
       "      <td>8.232350e+13</td>\n",
       "      <td>0.003026</td>\n",
       "      <td>4.537855e+14</td>\n",
       "      <td>2.471965e+14</td>\n",
       "      <td>5.177550e+13</td>\n",
       "      <td>3.746655e+14</td>\n",
       "      <td>8.958900e+13</td>\n",
       "      <td>8.082950e+13</td>\n",
       "      <td>8.341200e+13</td>\n",
       "      <td>2.517750e+13</td>\n",
       "      <td>1.263205e+14</td>\n",
       "    </tr>\n",
       "    <tr>\n",
       "      <th>2016</th>\n",
       "      <td>8.330150e+13</td>\n",
       "      <td>0.003079</td>\n",
       "      <td>4.649765e+14</td>\n",
       "      <td>2.452580e+14</td>\n",
       "      <td>4.386686e-01</td>\n",
       "      <td>3.734195e+14</td>\n",
       "      <td>8.954950e+13</td>\n",
       "      <td>8.075900e+13</td>\n",
       "      <td>8.372601e+12</td>\n",
       "      <td>3.051570e+14</td>\n",
       "      <td>1.267945e+14</td>\n",
       "    </tr>\n",
       "    <tr>\n",
       "      <th>2017</th>\n",
       "      <td>8.213050e+13</td>\n",
       "      <td>0.003016</td>\n",
       "      <td>4.632365e+14</td>\n",
       "      <td>2.474100e+14</td>\n",
       "      <td>5.264500e+12</td>\n",
       "      <td>3.748025e+14</td>\n",
       "      <td>8.959350e+13</td>\n",
       "      <td>8.083700e+13</td>\n",
       "      <td>8.431650e+13</td>\n",
       "      <td>3.318480e+14</td>\n",
       "      <td>1.273710e+14</td>\n",
       "    </tr>\n",
       "    <tr>\n",
       "      <th>2018</th>\n",
       "      <td>8.184100e+13</td>\n",
       "      <td>0.003000</td>\n",
       "      <td>4.575995e+14</td>\n",
       "      <td>2.494695e+14</td>\n",
       "      <td>6.104700e+13</td>\n",
       "      <td>3.761265e+14</td>\n",
       "      <td>8.963500e+13</td>\n",
       "      <td>8.091150e+13</td>\n",
       "      <td>8.365150e+13</td>\n",
       "      <td>3.002580e+14</td>\n",
       "      <td>1.268240e+14</td>\n",
       "    </tr>\n",
       "    <tr>\n",
       "      <th>2019</th>\n",
       "      <td>8.030650e+13</td>\n",
       "      <td>0.002917</td>\n",
       "      <td>4.554235e+14</td>\n",
       "      <td>2.506010e+14</td>\n",
       "      <td>6.566250e+13</td>\n",
       "      <td>3.768535e+14</td>\n",
       "      <td>8.965800e+13</td>\n",
       "      <td>8.095250e+12</td>\n",
       "      <td>8.056650e+13</td>\n",
       "      <td>2.566745e+14</td>\n",
       "      <td>1.227105e+14</td>\n",
       "    </tr>\n",
       "  </tbody>\n",
       "</table>\n",
       "</div>"
      ],
      "text/plain": [
       "      NO2_annualMean  NO2_hrOver200  NO_annualMean  O3_annualMean  \\\n",
       "year                                                                \n",
       "2010    8.557601e+12       0.003202   5.048800e+13   2.442205e+14   \n",
       "2011    8.615500e+13       0.003234   5.372450e+13   2.448115e+13   \n",
       "2012    8.428900e+13       0.003133   4.797720e+14   2.458825e+14   \n",
       "2013    8.298450e+13       0.003062   9.011720e+14   2.461780e+14   \n",
       "2014    8.455951e+12       0.003147   4.754455e+14   2.453605e+14   \n",
       "2015    8.232350e+13       0.003026   4.537855e+14   2.471965e+14   \n",
       "2016    8.330150e+13       0.003079   4.649765e+14   2.452580e+14   \n",
       "2017    8.213050e+13       0.003016   4.632365e+14   2.474100e+14   \n",
       "2018    8.184100e+13       0.003000   4.575995e+14   2.494695e+14   \n",
       "2019    8.030650e+13       0.002917   4.554235e+14   2.506010e+14   \n",
       "\n",
       "      O3_daysOver120  O3_dailyMaxAnnualMean  O3_dailyHourlyMax  \\\n",
       "year                                                             \n",
       "2010    8.922137e-01           7.470740e+14       1.791065e+14   \n",
       "2011    5.160950e+13           7.477720e+14       1.791285e+14   \n",
       "2012    5.609950e+13           7.491680e+14       1.791730e+14   \n",
       "2013    4.762022e-01           3.740110e+14       8.956850e+13   \n",
       "2014    4.428472e-01           3.734855e+14       8.955150e+13   \n",
       "2015    5.177550e+13           3.746655e+14       8.958900e+13   \n",
       "2016    4.386686e-01           3.734195e+14       8.954950e+13   \n",
       "2017    5.264500e+12           3.748025e+14       8.959350e+13   \n",
       "2018    6.104700e+13           3.761265e+14       8.963500e+13   \n",
       "2019    6.566250e+13           3.768535e+14       8.965800e+13   \n",
       "\n",
       "      O3_daily8HrMax  PM10_annualMean  PM10_daysOver50  PM2.5_annualMean  \n",
       "year                                                                      \n",
       "2010    8.888215e+13     8.544650e+13     2.517750e+13      1.289540e+14  \n",
       "2011    1.615710e+14     8.624700e+13     3.478655e+14      1.298790e+14  \n",
       "2012    1.616495e+14     8.522600e+13     3.100560e+14      1.286210e+14  \n",
       "2013    8.079250e+13     8.395550e+13     2.784660e+14      1.271505e+14  \n",
       "2014    8.076300e+13     8.570850e+13     3.625630e+14      7.070250e+13  \n",
       "2015    8.082950e+13     8.341200e+13     2.517750e+13      1.263205e+14  \n",
       "2016    8.075900e+13     8.372601e+12     3.051570e+14      1.267945e+14  \n",
       "2017    8.083700e+13     8.431650e+13     3.318480e+14      1.273710e+14  \n",
       "2018    8.091150e+13     8.365150e+13     3.002580e+14      1.268240e+14  \n",
       "2019    8.095250e+12     8.056650e+13     2.566745e+14      1.227105e+14  "
      ]
     },
     "execution_count": 81,
     "metadata": {},
     "output_type": "execute_result"
    }
   ],
   "source": [
    "Wartburgkreis_merge.groupby(['year'])['NO2_annualMean', 'NO2_hrOver200', 'NO_annualMean',\n",
    "       'O3_annualMean', 'O3_daysOver120', 'O3_dailyMaxAnnualMean',\n",
    "       'O3_dailyHourlyMax', 'O3_daily8HrMax', 'PM10_annualMean',\n",
    "       'PM10_daysOver50', 'PM2.5_annualMean'].mean()\n"
   ]
  },
  {
   "cell_type": "code",
   "execution_count": 59,
   "id": "ee01f51b",
   "metadata": {},
   "outputs": [],
   "source": [
    "Osterode = pollution_data[pollution_data.county == 'Osterode am Harz']"
   ]
  },
  {
   "cell_type": "code",
   "execution_count": 60,
   "id": "6cc7d438",
   "metadata": {},
   "outputs": [],
   "source": [
    "Gottingen = pollution_data[pollution_data.county == 'LK Göttingen']"
   ]
  },
  {
   "cell_type": "code",
   "execution_count": null,
   "id": "02bc963f",
   "metadata": {
    "scrolled": true
   },
   "outputs": [],
   "source": [
    "#pollution_data = pollution_data[pollution_data.county != 'Eisenach']\n",
    "#pollution_data.shape"
   ]
  },
  {
   "cell_type": "code",
   "execution_count": null,
   "id": "44463e52",
   "metadata": {},
   "outputs": [],
   "source": [
    "#pollution_data = pollution_data[pollution_data.county != 'Osterode am Harz']\n",
    "#pollution_data.shape"
   ]
  },
  {
   "cell_type": "markdown",
   "id": "93899b49",
   "metadata": {},
   "source": [
    "!!!!!!!! Merge instead of dropping"
   ]
  },
  {
   "cell_type": "code",
   "execution_count": null,
   "id": "458093fa",
   "metadata": {},
   "outputs": [],
   "source": [
    "# air pollution data set is not organized chronologically > to extract air pollution data in chronological order, we loop over a list that indicates the correct order\n",
    "time_point_order = [12,13,14, 15,16,17, 9,10,11, 3,4,5, 27,28,29, 6,7,8, 21,22,23, 18,19,20, 24,25,26, 0,1,2]\n",
    "time_point_order = [i*400 for i in time_point_order] ## 400 counties total, so multiply number by 400 to get data for 1 county over time"
   ]
  },
  {
   "cell_type": "code",
   "execution_count": null,
   "id": "4e8c3423",
   "metadata": {},
   "outputs": [],
   "source": [
    "# df.sort_values(['county','year']) \n",
    "# inplace=True or assign to dataframe and check result"
   ]
  },
  {
   "cell_type": "code",
   "execution_count": null,
   "id": "0c7b0e3f",
   "metadata": {},
   "outputs": [],
   "source": [
    "# Retrieve data for one county (in this case number 300) and extract measurements of PM2.5 over time\n",
    "\n",
    "temporal_time_points = [pollution_data['PM2.5_annualMean'][399+i] for i in time_point_order]"
   ]
  },
  {
   "cell_type": "code",
   "execution_count": null,
   "id": "187471e7",
   "metadata": {},
   "outputs": [],
   "source": [
    "import matplotlib.pyplot as plt\n",
    "plt.plot(temporal_time_points)"
   ]
  },
  {
   "cell_type": "markdown",
   "id": "4a7c53fe",
   "metadata": {},
   "source": [
    "PROBLEM: HUGE variation in order of mangnitude for different measurements - the low ones are probably imputed > needs to be fixed!"
   ]
  },
  {
   "cell_type": "markdown",
   "id": "78a5fe15",
   "metadata": {
    "heading_collapsed": true
   },
   "source": [
    "# Merge APexpose and Covid datasets"
   ]
  },
  {
   "cell_type": "code",
   "execution_count": null,
   "id": "f91c5f04",
   "metadata": {
    "hidden": true,
    "scrolled": true
   },
   "outputs": [],
   "source": [
    "merge_df = pollution_data.merge(covid_data, on='county')\n",
    "merge_df"
   ]
  },
  {
   "cell_type": "markdown",
   "id": "38211837",
   "metadata": {
    "hidden": true
   },
   "source": [
    "!!!!!! Lon and Lat is not what we need - merge from Chris dataset"
   ]
  },
  {
   "cell_type": "code",
   "execution_count": null,
   "id": "a05fb72a",
   "metadata": {
    "hidden": true
   },
   "outputs": [],
   "source": [
    "merge_df = merge_df.rename(columns={'PM2.5_annualMean': 'PM2_5_annualMean'})"
   ]
  },
  {
   "cell_type": "code",
   "execution_count": null,
   "id": "dfa8c198",
   "metadata": {
    "hidden": true,
    "scrolled": true
   },
   "outputs": [],
   "source": [
    "merge_df.columns"
   ]
  },
  {
   "cell_type": "code",
   "execution_count": null,
   "id": "d0f3463e",
   "metadata": {
    "hidden": true
   },
   "outputs": [],
   "source": [
    "merge_df.dtypes"
   ]
  },
  {
   "cell_type": "markdown",
   "id": "0f5bafdb",
   "metadata": {
    "heading_collapsed": true
   },
   "source": [
    "# Covid & Air pollution - quick correlation check"
   ]
  },
  {
   "cell_type": "code",
   "execution_count": null,
   "id": "cd3a7710",
   "metadata": {
    "hidden": true
   },
   "outputs": [],
   "source": [
    "# keep useful features only\n",
    "features_latest_timepoint = merge_df.iloc[0:399][['county', 'NO2_annualMean', 'NO2_hrOver200', 'NO_annualMean',\n",
    "       'O3_annualMean', 'O3_daysOver120', 'O3_dailyMaxAnnualMean',\n",
    "       'O3_dailyHourlyMax', 'O3_daily8HrMax', 'PM10_annualMean',\n",
    "       'PM10_daysOver50', 'PM2_5_annualMean']]"
   ]
  },
  {
   "cell_type": "code",
   "execution_count": null,
   "id": "c5902fde",
   "metadata": {
    "hidden": true
   },
   "outputs": [],
   "source": [
    "targets_latest_timepoint = merge_df.iloc[0:399][['cases_per_100k', 'deaths_per_100k', 'deaths', 'cases']]"
   ]
  },
  {
   "cell_type": "code",
   "execution_count": null,
   "id": "9f636477",
   "metadata": {
    "hidden": true
   },
   "outputs": [],
   "source": [
    "#numerical features\n",
    "feature_list = ['NO2_annualMean', 'NO2_hrOver200', 'NO_annualMean',\n",
    "       'O3_annualMean', 'O3_daysOver120', 'O3_dailyMaxAnnualMean',\n",
    "       'O3_dailyHourlyMax', 'O3_daily8HrMax', 'PM10_annualMean',\n",
    "       'PM10_daysOver50', 'PM2_5_annualMean']"
   ]
  },
  {
   "cell_type": "code",
   "execution_count": null,
   "id": "74091e0c",
   "metadata": {
    "hidden": true
   },
   "outputs": [],
   "source": [
    "target_list = ['cases_per_100k', 'deaths_per_100k', 'deaths', 'cases']"
   ]
  },
  {
   "cell_type": "code",
   "execution_count": null,
   "id": "2d787f8b",
   "metadata": {
    "hidden": true,
    "scrolled": true
   },
   "outputs": [],
   "source": [
    "#check distribution of numerical features \n",
    "\n",
    "import matplotlib.pyplot as plt\n",
    "import seaborn as sns\n",
    "\n",
    "plt.figure(figsize=(15,15))\n",
    "\n",
    "for i, feature in enumerate(feature_list):\n",
    "    # First subplot\n",
    "    plt.subplot(4,3,i+1)\n",
    "    sns.histplot(features_latest_timepoint[feature])\n",
    "    # Global figure methods\n",
    "plt.suptitle('Feature distributions')\n",
    "plt.show()"
   ]
  },
  {
   "cell_type": "code",
   "execution_count": null,
   "id": "022b57ce",
   "metadata": {
    "hidden": true
   },
   "outputs": [],
   "source": [
    "#check distribution of targets\n",
    "\n",
    "import matplotlib.pyplot as plt\n",
    "import seaborn as sns\n",
    "\n",
    "plt.figure(figsize=(15,15))\n",
    "\n",
    "for i, feature in enumerate(target_list):\n",
    "    # First subplot\n",
    "    plt.subplot(4,3,i+1)\n",
    "    sns.histplot(targets_latest_timepoint[feature])\n",
    "    # Global figure methods\n",
    "plt.suptitle('Feature distributions')\n",
    "plt.show()"
   ]
  },
  {
   "cell_type": "code",
   "execution_count": null,
   "id": "c3e74ef2",
   "metadata": {
    "hidden": true,
    "scrolled": false
   },
   "outputs": [],
   "source": [
    "# Start a figure\n",
    "plt.figure(figsize=(10,3))\n",
    "# First subplot\n",
    "plt.subplot(1,2,1)\n",
    "plt.scatter(merge_df['NO2_annualMean'], merge_df['deaths_per_100k'])\n",
    "plt.xlabel(\"NO2_annualMean\")\n",
    "plt.ylabel(\"deaths per 100K\")\n",
    "plt.title('unfiltered')\n",
    "# Second subplot\n",
    "plt.subplot(1,2,2) \n",
    "x = merge_df[merge_df['NO2_annualMean']>0.3*10**14]\n",
    "x = x[x['NO2_annualMean']<0.3*10**15]\n",
    "plt.scatter(x['NO2_annualMean'], x['deaths_per_100k'])\n",
    "plt.xlabel(\"NO2_annualMean\")\n",
    "plt.ylabel(\"deaths per 100K\")\n",
    "plt.title(\"filtered\")\n",
    "# Global figure methods\n",
    "plt.suptitle('NO2_annualMean')\n",
    "plt.show()"
   ]
  },
  {
   "cell_type": "markdown",
   "id": "b0e067a3",
   "metadata": {
    "hidden": true
   },
   "source": [
    "PROBLEM: for each pollutant, about half of the counties don't have measurement station and instead impute values - they cluster around 0, we might want to find a better way of imputing or dropping those data"
   ]
  },
  {
   "cell_type": "code",
   "execution_count": null,
   "id": "04c8444c",
   "metadata": {
    "hidden": true
   },
   "outputs": [],
   "source": [
    "import statsmodels.formula.api as smf"
   ]
  },
  {
   "cell_type": "code",
   "execution_count": null,
   "id": "88f78239",
   "metadata": {
    "hidden": true
   },
   "outputs": [],
   "source": [
    "model = smf.ols(formula = 'deaths_per_100k ~ NO2_hrOver200', data = x).fit()"
   ]
  },
  {
   "cell_type": "code",
   "execution_count": null,
   "id": "dd191a9a",
   "metadata": {
    "hidden": true
   },
   "outputs": [],
   "source": [
    "model.summary()"
   ]
  },
  {
   "cell_type": "code",
   "execution_count": null,
   "id": "9c921fd3",
   "metadata": {
    "hidden": true
   },
   "outputs": [],
   "source": [
    "# Start a figure\n",
    "plt.figure(figsize=(10,3))\n",
    "# First subplot\n",
    "plt.subplot(1,2,1)\n",
    "plt.scatter(merge_df['PM2_5_annualMean'], merge_df['deaths_per_100k'])\n",
    "plt.xlabel(\"PM2_5_annualMean\")\n",
    "plt.ylabel(\"deaths per 100K\")\n",
    "plt.title('unfiltered')\n",
    "# Second subplot\n",
    "plt.subplot(1,2,2) \n",
    "x = merge_df[merge_df['PM2_5_annualMean']>10**14]\n",
    "x = x[x['deaths_per_100k']<1200]\n",
    "plt.scatter(x['PM2_5_annualMean'], x['deaths_per_100k'])\n",
    "plt.xlabel(\"PM2_5_annualMean\")\n",
    "plt.ylabel(\"deaths per 100K\")\n",
    "plt.title(\"filtered\")\n",
    "# Global figure methods\n",
    "plt.suptitle('PM2_5_annualMean')\n",
    "plt.show()"
   ]
  },
  {
   "cell_type": "code",
   "execution_count": null,
   "id": "ac71652a",
   "metadata": {
    "hidden": true
   },
   "outputs": [],
   "source": [
    "model = smf.ols(formula = 'deaths_per_100k ~ PM2_5_annualMean', data = x).fit()"
   ]
  },
  {
   "cell_type": "code",
   "execution_count": null,
   "id": "f60861fd",
   "metadata": {
    "hidden": true
   },
   "outputs": [],
   "source": [
    "model.summary()"
   ]
  },
  {
   "cell_type": "code",
   "execution_count": null,
   "id": "d0075fd2",
   "metadata": {
    "hidden": true
   },
   "outputs": [],
   "source": []
  },
  {
   "cell_type": "code",
   "execution_count": null,
   "id": "83550fb0",
   "metadata": {
    "hidden": true
   },
   "outputs": [],
   "source": []
  }
 ],
 "metadata": {
  "kernelspec": {
   "display_name": "Python 3 (ipykernel)",
   "language": "python",
   "name": "python3"
  },
  "language_info": {
   "codemirror_mode": {
    "name": "ipython",
    "version": 3
   },
   "file_extension": ".py",
   "mimetype": "text/x-python",
   "name": "python",
   "nbconvert_exporter": "python",
   "pygments_lexer": "ipython3",
   "version": "3.8.12"
  },
  "toc": {
   "base_numbering": 1,
   "nav_menu": {},
   "number_sections": true,
   "sideBar": true,
   "skip_h1_title": false,
   "title_cell": "Table of Contents",
   "title_sidebar": "Contents",
   "toc_cell": false,
   "toc_position": {},
   "toc_section_display": true,
   "toc_window_display": false
  }
 },
 "nbformat": 4,
 "nbformat_minor": 5
}
