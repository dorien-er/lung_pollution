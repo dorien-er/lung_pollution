{
 "cells": [
  {
   "cell_type": "code",
   "execution_count": 33,
   "id": "2b30299b",
   "metadata": {},
   "outputs": [
    {
     "name": "stdout",
     "output_type": "stream",
     "text": [
      "API call success\n"
     ]
    },
    {
     "data": {
      "text/plain": [
       "(200, 5251.669763655302, {'prediction': 5251.669763655302})"
      ]
     },
     "execution_count": 33,
     "metadata": {},
     "output_type": "execute_result"
    }
   ],
   "source": [
    "import requests\n",
    "\n",
    "# fill the parameters for the prediction\n",
    "params = dict(\n",
    "  NO=10.7315438,\n",
    "  NO2=20,\n",
    "  PM2_5=16,\n",
    "  O3=49,\n",
    "  vax=1,\n",
    "  density=290.1188026\n",
    ")\n",
    "\n",
    "# URL\n",
    "lung_pollution_api_url = \"https://lung-pollution-mkutgm5w2a-ew.a.run.app/predict\"\n",
    "\n",
    "# retrieve the response\n",
    "response = requests.get(\n",
    "    lung_pollution_api_url,\n",
    "    params=params\n",
    ")\n",
    "\n",
    "if response.status_code == 200:\n",
    "    print(\"API call success\")\n",
    "else:\n",
    "    print(\"API call error\")\n",
    "\n",
    "response.status_code, response.json().get(\"prediction\", \"no prediction\"), response.json()"
   ]
  },
  {
   "cell_type": "code",
   "execution_count": 4,
   "id": "be2fe033",
   "metadata": {},
   "outputs": [
    {
     "ename": "SyntaxError",
     "evalue": "invalid syntax (417955359.py, line 8)",
     "output_type": "error",
     "traceback": [
      "\u001b[0;36m  File \u001b[0;32m\"/var/folders/py/ydbm54f573b1ymf9x65hf0mm0000gn/T/ipykernel_18536/417955359.py\"\u001b[0;36m, line \u001b[0;32m8\u001b[0m\n\u001b[0;31m    )4812.52116826199\u001b[0m\n\u001b[0m     ^\u001b[0m\n\u001b[0;31mSyntaxError\u001b[0m\u001b[0;31m:\u001b[0m invalid syntax\n"
     ]
    }
   ],
   "source": [
    "params = dict(\n",
    "  NO=10.7315438,\n",
    "  NO2=20.026733,\n",
    "  PM2_5=16.65255207,\n",
    "  O3=49.340399,\n",
    "  vax=0.68,\n",
    "  density=290.1188026\n",
    ")\n",
    "\n",
    "5387.4349966792031"
   ]
  },
  {
   "cell_type": "code",
   "execution_count": null,
   "id": "0746077a",
   "metadata": {},
   "outputs": [],
   "source": [
    "import requests\n",
    "\n",
    "# fill the parameters for the prediction\n",
    "params = dict(\n",
    "  NO=10.7315438,\n",
    "  NO2=40,\n",
    "  PM2_5=5,\n",
    "  O3=40,\n",
    "  vax=1,\n",
    "  density=2900.1188026\n",
    ")\n",
    "\n",
    "# URL\n",
    "lung_pollution_api_url = \"https://lung-pollution-mkutgm5w2a-ew.a.run.app/predict\"\n",
    "\n",
    "# retrieve the response\n",
    "response = requests.get(\n",
    "    lung_pollution_api_url,\n",
    "    params=params\n",
    ")\n",
    "\n",
    "if response.status_code == 200:\n",
    "    print(\"API call success\")\n",
    "else:\n",
    "    print(\"API call error\")\n",
    "\n",
    "response.status_code, response.json().get(\"prediction\", \"no prediction\"), response.json()"
   ]
  }
 ],
 "metadata": {
  "kernelspec": {
   "display_name": "Python 3 (ipykernel)",
   "language": "python",
   "name": "python3"
  },
  "language_info": {
   "codemirror_mode": {
    "name": "ipython",
    "version": 3
   },
   "file_extension": ".py",
   "mimetype": "text/x-python",
   "name": "python",
   "nbconvert_exporter": "python",
   "pygments_lexer": "ipython3",
   "version": "3.8.12"
  },
  "toc": {
   "base_numbering": 1,
   "nav_menu": {},
   "number_sections": true,
   "sideBar": true,
   "skip_h1_title": false,
   "title_cell": "Table of Contents",
   "title_sidebar": "Contents",
   "toc_cell": false,
   "toc_position": {},
   "toc_section_display": true,
   "toc_window_display": false
  }
 },
 "nbformat": 4,
 "nbformat_minor": 5
}
