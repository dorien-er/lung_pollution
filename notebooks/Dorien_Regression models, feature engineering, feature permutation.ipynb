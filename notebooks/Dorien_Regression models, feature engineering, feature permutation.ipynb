{
 "cells": [
  {
   "cell_type": "markdown",
   "id": "129d16d5",
   "metadata": {},
   "source": [
    "# Load data and keep 2019 timepoint"
   ]
  },
  {
   "cell_type": "code",
   "execution_count": 19,
   "id": "2527b250",
   "metadata": {},
   "outputs": [],
   "source": [
    "import pandas as pd\n",
    "\n",
    "df_covid_AP = pd.read_csv('../lung_pollution/data/covid_pollution_clean02.csv')\n",
    "\n",
    "df_covid_AP.drop(columns=['Unnamed: 0'], inplace = True)\n",
    "df_covid_AP = df_covid_AP.rename(columns={\"PM2.5_annualMean\": \"PM2_5_annualMean\", \"Fully vaccinated\": \"Fully_vaccinated\", \"Population density\": \"Population_density\"})"
   ]
  },
  {
   "cell_type": "code",
   "execution_count": 20,
   "id": "07dcdb9b",
   "metadata": {},
   "outputs": [
    {
     "data": {
      "text/plain": [
       "(4000, 23)"
      ]
     },
     "execution_count": 20,
     "metadata": {},
     "output_type": "execute_result"
    }
   ],
   "source": [
    "df_covid_AP.shape"
   ]
  },
  {
   "cell_type": "code",
   "execution_count": 21,
   "id": "2f0326f2",
   "metadata": {
    "scrolled": false
   },
   "outputs": [
    {
     "data": {
      "text/plain": [
       "Index(['county', 'year', 'NO2_annualMean', 'NO2_hrOver200', 'NO_annualMean',\n",
       "       'O3_annualMean', 'O3_daysOver120', 'O3_dailyMaxAnnualMean',\n",
       "       'O3_dailyHourlyMax', 'O3_daily8HrMax', 'PM10_annualMean',\n",
       "       'PM10_daysOver50', 'PM2_5_annualMean', 'BL', 'EWZ', 'Shape__Area',\n",
       "       'death_rate', 'cases', 'deaths', 'cases_per_100k', 'deaths_per_100k',\n",
       "       'fully_vaccinated', 'Population_density'],\n",
       "      dtype='object')"
      ]
     },
     "execution_count": 21,
     "metadata": {},
     "output_type": "execute_result"
    }
   ],
   "source": [
    "df_covid_AP.columns"
   ]
  },
  {
   "cell_type": "code",
   "execution_count": 22,
   "id": "bf73a653",
   "metadata": {},
   "outputs": [],
   "source": [
    "df_covid_AP.sort_values(['year'], axis=0, ascending=False,inplace=True,ignore_index=True)\n",
    "df_covid_AP_2019 = df_covid_AP[0:400]"
   ]
  },
  {
   "cell_type": "markdown",
   "id": "7e7e095c",
   "metadata": {},
   "source": [
    "# Feature Engineering"
   ]
  },
  {
   "cell_type": "code",
   "execution_count": 37,
   "id": "175df5ef",
   "metadata": {},
   "outputs": [
    {
     "data": {
      "text/plain": [
       "(400, 9)"
      ]
     },
     "execution_count": 37,
     "metadata": {},
     "output_type": "execute_result"
    }
   ],
   "source": [
    "df_num = df_covid_AP_2019[['NO2_annualMean','NO_annualMean',\n",
    "       'O3_daily8HrMax', 'PM10_annualMean',\n",
    "       'PM2_5_annualMean', 'fully_vaccinated', 'Population_density', 'cases_per_100k', 'deaths_per_100k'\n",
    "       ]]\n",
    "df_num.shape"
   ]
  },
  {
   "cell_type": "code",
   "execution_count": 38,
   "id": "dee81554",
   "metadata": {
    "scrolled": true
   },
   "outputs": [
    {
     "data": {
      "text/plain": [
       "(400, 12)"
      ]
     },
     "execution_count": 38,
     "metadata": {},
     "output_type": "execute_result"
    }
   ],
   "source": [
    "import numpy as np\n",
    "df_num[['lnNO2']] = np.log(df_num[['NO2_annualMean']])\n",
    "#df_num[['lnNO']] = np.log(df_num[['NO_annualMean']])\n",
    "df_num[['lnO3']] = np.log(df_num[['O3_daily8HrMax']])\n",
    "df_num[['lnPM2_5']] = np.log(df_num[['PM2_5_annualMean']])\n",
    "df_num.shape"
   ]
  },
  {
   "cell_type": "code",
   "execution_count": 51,
   "id": "c6a8b43f",
   "metadata": {},
   "outputs": [
    {
     "data": {
      "text/plain": [
       "pandas.core.series.Series"
      ]
     },
     "execution_count": 51,
     "metadata": {},
     "output_type": "execute_result"
    }
   ],
   "source": [
    "AP = df_num['NO2_annualMean'] * df_num['NO_annualMean'] * df_num['O3_daily8HrMax'] * df_num['PM2_5_annualMean']\n",
    "type(AP)"
   ]
  },
  {
   "cell_type": "code",
   "execution_count": 52,
   "id": "910c8555",
   "metadata": {
    "scrolled": true
   },
   "outputs": [],
   "source": [
    "df_num = df_num.assign(AirPollution=AP.values)\n"
   ]
  },
  {
   "cell_type": "code",
   "execution_count": 54,
   "id": "f910991f",
   "metadata": {
    "scrolled": true
   },
   "outputs": [
    {
     "data": {
      "text/plain": [
       "Index(['NO2_annualMean', 'NO_annualMean', 'O3_daily8HrMax', 'PM10_annualMean',\n",
       "       'PM2_5_annualMean', 'fully_vaccinated', 'Population_density',\n",
       "       'cases_per_100k', 'deaths_per_100k', 'lnNO2', 'lnO3', 'lnPM2_5',\n",
       "       'AirPollution'],\n",
       "      dtype='object')"
      ]
     },
     "execution_count": 54,
     "metadata": {},
     "output_type": "execute_result"
    }
   ],
   "source": [
    "df_num.columns"
   ]
  },
  {
   "cell_type": "code",
   "execution_count": 71,
   "id": "cd65704a",
   "metadata": {},
   "outputs": [],
   "source": [
    "X = df_num[['NO2_annualMean', 'NO_annualMean', 'O3_daily8HrMax', 'PM10_annualMean',\n",
    "       'PM2_5_annualMean', 'fully_vaccinated', 'Population_density',\n",
    "       'lnNO2', 'lnO3', 'lnPM2_5',\n",
    "       'AirPollution']]\n",
    "y_cases = df_num[['cases_per_100k']]\n",
    "y_mort = df_num[['deaths_per_100k']]\n",
    "X_columns = X.columns"
   ]
  },
  {
   "cell_type": "markdown",
   "id": "9878b7bc",
   "metadata": {},
   "source": [
    "# StandardScale features"
   ]
  },
  {
   "cell_type": "code",
   "execution_count": 58,
   "id": "04aae347",
   "metadata": {},
   "outputs": [],
   "source": [
    "from sklearn.preprocessing import StandardScaler\n",
    "\n",
    "scaler = StandardScaler()  # Instanciate Standard Scaler\n",
    "\n",
    "scaler.fit(X)  # Fit scaler to feature\n",
    "X = scaler.transform(X)  #Scale\n",
    "\n",
    "X = pd.DataFrame(X, columns = X_columns)"
   ]
  },
  {
   "cell_type": "code",
   "execution_count": 59,
   "id": "b5eef0ff",
   "metadata": {},
   "outputs": [
    {
     "data": {
      "text/html": [
       "<div>\n",
       "<style scoped>\n",
       "    .dataframe tbody tr th:only-of-type {\n",
       "        vertical-align: middle;\n",
       "    }\n",
       "\n",
       "    .dataframe tbody tr th {\n",
       "        vertical-align: top;\n",
       "    }\n",
       "\n",
       "    .dataframe thead th {\n",
       "        text-align: right;\n",
       "    }\n",
       "</style>\n",
       "<table border=\"1\" class=\"dataframe\">\n",
       "  <thead>\n",
       "    <tr style=\"text-align: right;\">\n",
       "      <th></th>\n",
       "      <th>NO2_annualMean</th>\n",
       "      <th>NO_annualMean</th>\n",
       "      <th>O3_daily8HrMax</th>\n",
       "      <th>PM10_annualMean</th>\n",
       "      <th>PM2_5_annualMean</th>\n",
       "      <th>fully_vaccinated</th>\n",
       "      <th>Population_density</th>\n",
       "      <th>lnNO2</th>\n",
       "      <th>lnO3</th>\n",
       "      <th>lnPM2_5</th>\n",
       "      <th>AirPollution</th>\n",
       "    </tr>\n",
       "  </thead>\n",
       "  <tbody>\n",
       "    <tr>\n",
       "      <th>0</th>\n",
       "      <td>-1.543452</td>\n",
       "      <td>-1.904518</td>\n",
       "      <td>0.355193</td>\n",
       "      <td>-2.651268</td>\n",
       "      <td>0.379834</td>\n",
       "      <td>1.210982</td>\n",
       "      <td>0.379764</td>\n",
       "      <td>-1.502957</td>\n",
       "      <td>0.415398</td>\n",
       "      <td>0.390503</td>\n",
       "      <td>-1.295998</td>\n",
       "    </tr>\n",
       "    <tr>\n",
       "      <th>1</th>\n",
       "      <td>0.086284</td>\n",
       "      <td>0.144845</td>\n",
       "      <td>-0.253036</td>\n",
       "      <td>0.546586</td>\n",
       "      <td>0.352804</td>\n",
       "      <td>0.754841</td>\n",
       "      <td>-0.609937</td>\n",
       "      <td>0.223277</td>\n",
       "      <td>-0.233804</td>\n",
       "      <td>0.367320</td>\n",
       "      <td>-0.035529</td>\n",
       "    </tr>\n",
       "    <tr>\n",
       "      <th>2</th>\n",
       "      <td>0.391001</td>\n",
       "      <td>0.497396</td>\n",
       "      <td>-0.271276</td>\n",
       "      <td>0.602552</td>\n",
       "      <td>0.405665</td>\n",
       "      <td>1.210982</td>\n",
       "      <td>-0.480630</td>\n",
       "      <td>0.451890</td>\n",
       "      <td>-0.253784</td>\n",
       "      <td>0.412594</td>\n",
       "      <td>0.314654</td>\n",
       "    </tr>\n",
       "    <tr>\n",
       "      <th>3</th>\n",
       "      <td>0.147208</td>\n",
       "      <td>0.190353</td>\n",
       "      <td>-0.275140</td>\n",
       "      <td>0.422992</td>\n",
       "      <td>0.322643</td>\n",
       "      <td>-0.271475</td>\n",
       "      <td>-0.585807</td>\n",
       "      <td>0.270557</td>\n",
       "      <td>-0.258020</td>\n",
       "      <td>0.341371</td>\n",
       "      <td>0.008075</td>\n",
       "    </tr>\n",
       "    <tr>\n",
       "      <th>4</th>\n",
       "      <td>0.145654</td>\n",
       "      <td>0.178550</td>\n",
       "      <td>-0.236657</td>\n",
       "      <td>0.701807</td>\n",
       "      <td>0.496464</td>\n",
       "      <td>0.754841</td>\n",
       "      <td>-0.400735</td>\n",
       "      <td>0.269361</td>\n",
       "      <td>-0.215890</td>\n",
       "      <td>0.489758</td>\n",
       "      <td>0.030883</td>\n",
       "    </tr>\n",
       "    <tr>\n",
       "      <th>...</th>\n",
       "      <td>...</td>\n",
       "      <td>...</td>\n",
       "      <td>...</td>\n",
       "      <td>...</td>\n",
       "      <td>...</td>\n",
       "      <td>...</td>\n",
       "      <td>...</td>\n",
       "      <td>...</td>\n",
       "      <td>...</td>\n",
       "      <td>...</td>\n",
       "      <td>...</td>\n",
       "    </tr>\n",
       "    <tr>\n",
       "      <th>395</th>\n",
       "      <td>1.174326</td>\n",
       "      <td>0.379261</td>\n",
       "      <td>1.747835</td>\n",
       "      <td>1.806261</td>\n",
       "      <td>-0.090587</td>\n",
       "      <td>0.156157</td>\n",
       "      <td>2.456629</td>\n",
       "      <td>0.963754</td>\n",
       "      <td>1.789906</td>\n",
       "      <td>-0.023044</td>\n",
       "      <td>0.780286</td>\n",
       "    </tr>\n",
       "    <tr>\n",
       "      <th>396</th>\n",
       "      <td>-2.215943</td>\n",
       "      <td>-1.854675</td>\n",
       "      <td>-0.764862</td>\n",
       "      <td>-0.606853</td>\n",
       "      <td>-1.244245</td>\n",
       "      <td>-0.214457</td>\n",
       "      <td>-0.679160</td>\n",
       "      <td>-2.746695</td>\n",
       "      <td>-0.806443</td>\n",
       "      <td>-1.139947</td>\n",
       "      <td>-1.323401</td>\n",
       "    </tr>\n",
       "    <tr>\n",
       "      <th>397</th>\n",
       "      <td>-0.014089</td>\n",
       "      <td>0.109886</td>\n",
       "      <td>-0.252577</td>\n",
       "      <td>0.515375</td>\n",
       "      <td>0.313210</td>\n",
       "      <td>1.496070</td>\n",
       "      <td>0.858517</td>\n",
       "      <td>0.143533</td>\n",
       "      <td>-0.233302</td>\n",
       "      <td>0.333237</td>\n",
       "      <td>-0.099529</td>\n",
       "    </tr>\n",
       "    <tr>\n",
       "      <th>398</th>\n",
       "      <td>-0.046273</td>\n",
       "      <td>-0.018334</td>\n",
       "      <td>-0.234994</td>\n",
       "      <td>0.615920</td>\n",
       "      <td>0.439916</td>\n",
       "      <td>-1.582879</td>\n",
       "      <td>-0.713592</td>\n",
       "      <td>0.117457</td>\n",
       "      <td>-0.214072</td>\n",
       "      <td>0.441790</td>\n",
       "      <td>-0.165847</td>\n",
       "    </tr>\n",
       "    <tr>\n",
       "      <th>399</th>\n",
       "      <td>0.277883</td>\n",
       "      <td>0.379281</td>\n",
       "      <td>-0.261992</td>\n",
       "      <td>0.317194</td>\n",
       "      <td>0.224699</td>\n",
       "      <td>-0.271475</td>\n",
       "      <td>-0.517478</td>\n",
       "      <td>0.369262</td>\n",
       "      <td>-0.243610</td>\n",
       "      <td>0.256509</td>\n",
       "      <td>0.161115</td>\n",
       "    </tr>\n",
       "  </tbody>\n",
       "</table>\n",
       "<p>400 rows × 11 columns</p>\n",
       "</div>"
      ],
      "text/plain": [
       "     NO2_annualMean  NO_annualMean  O3_daily8HrMax  PM10_annualMean  \\\n",
       "0         -1.543452      -1.904518        0.355193        -2.651268   \n",
       "1          0.086284       0.144845       -0.253036         0.546586   \n",
       "2          0.391001       0.497396       -0.271276         0.602552   \n",
       "3          0.147208       0.190353       -0.275140         0.422992   \n",
       "4          0.145654       0.178550       -0.236657         0.701807   \n",
       "..              ...            ...             ...              ...   \n",
       "395        1.174326       0.379261        1.747835         1.806261   \n",
       "396       -2.215943      -1.854675       -0.764862        -0.606853   \n",
       "397       -0.014089       0.109886       -0.252577         0.515375   \n",
       "398       -0.046273      -0.018334       -0.234994         0.615920   \n",
       "399        0.277883       0.379281       -0.261992         0.317194   \n",
       "\n",
       "     PM2_5_annualMean  fully_vaccinated  Population_density     lnNO2  \\\n",
       "0            0.379834          1.210982            0.379764 -1.502957   \n",
       "1            0.352804          0.754841           -0.609937  0.223277   \n",
       "2            0.405665          1.210982           -0.480630  0.451890   \n",
       "3            0.322643         -0.271475           -0.585807  0.270557   \n",
       "4            0.496464          0.754841           -0.400735  0.269361   \n",
       "..                ...               ...                 ...       ...   \n",
       "395         -0.090587          0.156157            2.456629  0.963754   \n",
       "396         -1.244245         -0.214457           -0.679160 -2.746695   \n",
       "397          0.313210          1.496070            0.858517  0.143533   \n",
       "398          0.439916         -1.582879           -0.713592  0.117457   \n",
       "399          0.224699         -0.271475           -0.517478  0.369262   \n",
       "\n",
       "         lnO3   lnPM2_5  AirPollution  \n",
       "0    0.415398  0.390503     -1.295998  \n",
       "1   -0.233804  0.367320     -0.035529  \n",
       "2   -0.253784  0.412594      0.314654  \n",
       "3   -0.258020  0.341371      0.008075  \n",
       "4   -0.215890  0.489758      0.030883  \n",
       "..        ...       ...           ...  \n",
       "395  1.789906 -0.023044      0.780286  \n",
       "396 -0.806443 -1.139947     -1.323401  \n",
       "397 -0.233302  0.333237     -0.099529  \n",
       "398 -0.214072  0.441790     -0.165847  \n",
       "399 -0.243610  0.256509      0.161115  \n",
       "\n",
       "[400 rows x 11 columns]"
      ]
     },
     "execution_count": 59,
     "metadata": {},
     "output_type": "execute_result"
    }
   ],
   "source": [
    "X"
   ]
  },
  {
   "cell_type": "markdown",
   "id": "55a9c40b",
   "metadata": {},
   "source": [
    "# Analyze distribution of features and targets"
   ]
  },
  {
   "cell_type": "code",
   "execution_count": 68,
   "id": "9f16d7e7",
   "metadata": {},
   "outputs": [
    {
     "data": {
      "text/plain": [
       "Index(['NO2_annualMean', 'NO_annualMean', 'O3_daily8HrMax', 'PM10_annualMean',\n",
       "       'PM2_5_annualMean', 'fully_vaccinated', 'Population_density', 'lnNO2',\n",
       "       'lnO3', 'lnPM2_5', 'AirPollution'],\n",
       "      dtype='object')"
      ]
     },
     "execution_count": 68,
     "metadata": {},
     "output_type": "execute_result"
    }
   ],
   "source": [
    "X_columns"
   ]
  },
  {
   "cell_type": "code",
   "execution_count": 69,
   "id": "2c258597",
   "metadata": {},
   "outputs": [],
   "source": [
    "#numerical features\n",
    "feature_list = ['NO2_annualMean', 'NO_annualMean', 'O3_daily8HrMax', 'PM10_annualMean',\n",
    "       'PM2_5_annualMean', 'fully_vaccinated', 'Population_density', 'lnNO2',\n",
    "       'lnO3', 'lnPM2_5', 'AirPollution']"
   ]
  },
  {
   "cell_type": "code",
   "execution_count": 70,
   "id": "8573725d",
   "metadata": {
    "scrolled": true
   },
   "outputs": [
    {
     "data": {
      "image/png": "[encoded data removed]",
      "text/plain": [
       "<Figure size 1080x1440 with 11 Axes>"
      ]
     },
     "metadata": {
      "needs_background": "light"
     },
     "output_type": "display_data"
    }
   ],
   "source": [
    "#check distribution of numerical features \n",
    "\n",
    "import matplotlib.pyplot as plt\n",
    "import seaborn as sns\n",
    "\n",
    "plt.figure(figsize=(15,20))\n",
    "\n",
    "for i, feature in enumerate(feature_list):\n",
    "    # First subplot\n",
    "    plt.subplot(4,3,i+1)\n",
    "    sns.histplot(X[feature])\n",
    "    # Global figure methods\n",
    "plt.suptitle('Feature distributions')\n",
    "plt.show()"
   ]
  },
  {
   "cell_type": "code",
   "execution_count": 20,
   "id": "73d91dc1",
   "metadata": {},
   "outputs": [
    {
     "data": {
      "image/png": "[encoded data removed]",
      "text/plain": [
       "<Figure size 1080x288 with 2 Axes>"
      ]
     },
     "metadata": {
      "needs_background": "light"
     },
     "output_type": "display_data"
    }
   ],
   "source": [
    "#check distribution of targets\n",
    "\n",
    "import matplotlib.pyplot as plt\n",
    "import seaborn as sns\n",
    "\n",
    "plt.figure(figsize=(15,4))\n",
    "\n",
    "for i, feature in enumerate(target_list):\n",
    "    # First subplot\n",
    "    plt.subplot(1,2,i+1)\n",
    "    sns.histplot(df_covid_AP_2019[feature])\n",
    "    # Global figure methods\n",
    "plt.suptitle('Feature distributions')\n",
    "plt.show()"
   ]
  },
  {
   "cell_type": "markdown",
   "id": "07a47d63",
   "metadata": {},
   "source": [
    "# Visual analysis of feature-target correlation"
   ]
  },
  {
   "cell_type": "markdown",
   "id": "fb8b8b74",
   "metadata": {},
   "source": [
    "## Target: deaths per 100k"
   ]
  },
  {
   "cell_type": "code",
   "execution_count": 66,
   "id": "1e26357d",
   "metadata": {},
   "outputs": [],
   "source": [
    "import matplotlib.pyplot as plt\n",
    "import seaborn as sns"
   ]
  },
  {
   "cell_type": "code",
   "execution_count": 73,
   "id": "c54ae0b9",
   "metadata": {
    "scrolled": true
   },
   "outputs": [
    {
     "name": "stderr",
     "output_type": "stream",
     "text": [
      "/Users/dorienroosen/.pyenv/versions/3.8.12/envs/lung_pollution/lib/python3.8/site-packages/seaborn/_decorators.py:36: FutureWarning: Pass the following variables as keyword args: x, y. From version 0.12, the only valid positional argument will be `data`, and passing other arguments without an explicit keyword will result in an error or misinterpretation.\n",
      "  warnings.warn(\n",
      "/Users/dorienroosen/.pyenv/versions/3.8.12/envs/lung_pollution/lib/python3.8/site-packages/seaborn/_decorators.py:36: FutureWarning: Pass the following variables as keyword args: x, y. From version 0.12, the only valid positional argument will be `data`, and passing other arguments without an explicit keyword will result in an error or misinterpretation.\n",
      "  warnings.warn(\n",
      "/Users/dorienroosen/.pyenv/versions/3.8.12/envs/lung_pollution/lib/python3.8/site-packages/seaborn/_decorators.py:36: FutureWarning: Pass the following variables as keyword args: x, y. From version 0.12, the only valid positional argument will be `data`, and passing other arguments without an explicit keyword will result in an error or misinterpretation.\n",
      "  warnings.warn(\n",
      "/Users/dorienroosen/.pyenv/versions/3.8.12/envs/lung_pollution/lib/python3.8/site-packages/seaborn/_decorators.py:36: FutureWarning: Pass the following variables as keyword args: x, y. From version 0.12, the only valid positional argument will be `data`, and passing other arguments without an explicit keyword will result in an error or misinterpretation.\n",
      "  warnings.warn(\n",
      "/Users/dorienroosen/.pyenv/versions/3.8.12/envs/lung_pollution/lib/python3.8/site-packages/seaborn/_decorators.py:36: FutureWarning: Pass the following variables as keyword args: x, y. From version 0.12, the only valid positional argument will be `data`, and passing other arguments without an explicit keyword will result in an error or misinterpretation.\n",
      "  warnings.warn(\n",
      "/Users/dorienroosen/.pyenv/versions/3.8.12/envs/lung_pollution/lib/python3.8/site-packages/seaborn/_decorators.py:36: FutureWarning: Pass the following variables as keyword args: x, y. From version 0.12, the only valid positional argument will be `data`, and passing other arguments without an explicit keyword will result in an error or misinterpretation.\n",
      "  warnings.warn(\n",
      "/Users/dorienroosen/.pyenv/versions/3.8.12/envs/lung_pollution/lib/python3.8/site-packages/seaborn/_decorators.py:36: FutureWarning: Pass the following variables as keyword args: x, y. From version 0.12, the only valid positional argument will be `data`, and passing other arguments without an explicit keyword will result in an error or misinterpretation.\n",
      "  warnings.warn(\n",
      "/Users/dorienroosen/.pyenv/versions/3.8.12/envs/lung_pollution/lib/python3.8/site-packages/seaborn/_decorators.py:36: FutureWarning: Pass the following variables as keyword args: x, y. From version 0.12, the only valid positional argument will be `data`, and passing other arguments without an explicit keyword will result in an error or misinterpretation.\n",
      "  warnings.warn(\n",
      "/Users/dorienroosen/.pyenv/versions/3.8.12/envs/lung_pollution/lib/python3.8/site-packages/seaborn/_decorators.py:36: FutureWarning: Pass the following variables as keyword args: x, y. From version 0.12, the only valid positional argument will be `data`, and passing other arguments without an explicit keyword will result in an error or misinterpretation.\n",
      "  warnings.warn(\n",
      "/Users/dorienroosen/.pyenv/versions/3.8.12/envs/lung_pollution/lib/python3.8/site-packages/seaborn/_decorators.py:36: FutureWarning: Pass the following variables as keyword args: x, y. From version 0.12, the only valid positional argument will be `data`, and passing other arguments without an explicit keyword will result in an error or misinterpretation.\n",
      "  warnings.warn(\n",
      "/Users/dorienroosen/.pyenv/versions/3.8.12/envs/lung_pollution/lib/python3.8/site-packages/seaborn/_decorators.py:36: FutureWarning: Pass the following variables as keyword args: x, y. From version 0.12, the only valid positional argument will be `data`, and passing other arguments without an explicit keyword will result in an error or misinterpretation.\n",
      "  warnings.warn(\n"
     ]
    },
    {
     "data": {
      "image/png": "[encoded data removed]",
      "text/plain": [
       "<Figure size 1080x1440 with 11 Axes>"
      ]
     },
     "metadata": {
      "needs_background": "light"
     },
     "output_type": "display_data"
    }
   ],
   "source": [
    "# First subplot\n",
    "plt.figure(figsize=(15,20))\n",
    "\n",
    "for i, feature in enumerate(X_columns):\n",
    "    # First subplot\n",
    "    plt.subplot(4,3,i+1)\n",
    "    sns.regplot(X[feature], y_mort)\n",
    "    plt.xlabel(feature)\n",
    "    plt.ylabel(\"deaths per 100K\")\n",
    "    # Global figure methods\n",
    "plt.show()"
   ]
  },
  {
   "cell_type": "markdown",
   "id": "7f201091",
   "metadata": {},
   "source": [
    "## Target: cases per 100k"
   ]
  },
  {
   "cell_type": "code",
   "execution_count": 74,
   "id": "d7faf66d",
   "metadata": {
    "scrolled": true
   },
   "outputs": [
    {
     "name": "stderr",
     "output_type": "stream",
     "text": [
      "/Users/dorienroosen/.pyenv/versions/3.8.12/envs/lung_pollution/lib/python3.8/site-packages/seaborn/_decorators.py:36: FutureWarning: Pass the following variables as keyword args: x, y. From version 0.12, the only valid positional argument will be `data`, and passing other arguments without an explicit keyword will result in an error or misinterpretation.\n",
      "  warnings.warn(\n",
      "/Users/dorienroosen/.pyenv/versions/3.8.12/envs/lung_pollution/lib/python3.8/site-packages/seaborn/_decorators.py:36: FutureWarning: Pass the following variables as keyword args: x, y. From version 0.12, the only valid positional argument will be `data`, and passing other arguments without an explicit keyword will result in an error or misinterpretation.\n",
      "  warnings.warn(\n",
      "/Users/dorienroosen/.pyenv/versions/3.8.12/envs/lung_pollution/lib/python3.8/site-packages/seaborn/_decorators.py:36: FutureWarning: Pass the following variables as keyword args: x, y. From version 0.12, the only valid positional argument will be `data`, and passing other arguments without an explicit keyword will result in an error or misinterpretation.\n",
      "  warnings.warn(\n",
      "/Users/dorienroosen/.pyenv/versions/3.8.12/envs/lung_pollution/lib/python3.8/site-packages/seaborn/_decorators.py:36: FutureWarning: Pass the following variables as keyword args: x, y. From version 0.12, the only valid positional argument will be `data`, and passing other arguments without an explicit keyword will result in an error or misinterpretation.\n",
      "  warnings.warn(\n",
      "/Users/dorienroosen/.pyenv/versions/3.8.12/envs/lung_pollution/lib/python3.8/site-packages/seaborn/_decorators.py:36: FutureWarning: Pass the following variables as keyword args: x, y. From version 0.12, the only valid positional argument will be `data`, and passing other arguments without an explicit keyword will result in an error or misinterpretation.\n",
      "  warnings.warn(\n",
      "/Users/dorienroosen/.pyenv/versions/3.8.12/envs/lung_pollution/lib/python3.8/site-packages/seaborn/_decorators.py:36: FutureWarning: Pass the following variables as keyword args: x, y. From version 0.12, the only valid positional argument will be `data`, and passing other arguments without an explicit keyword will result in an error or misinterpretation.\n",
      "  warnings.warn(\n",
      "/Users/dorienroosen/.pyenv/versions/3.8.12/envs/lung_pollution/lib/python3.8/site-packages/seaborn/_decorators.py:36: FutureWarning: Pass the following variables as keyword args: x, y. From version 0.12, the only valid positional argument will be `data`, and passing other arguments without an explicit keyword will result in an error or misinterpretation.\n",
      "  warnings.warn(\n",
      "/Users/dorienroosen/.pyenv/versions/3.8.12/envs/lung_pollution/lib/python3.8/site-packages/seaborn/_decorators.py:36: FutureWarning: Pass the following variables as keyword args: x, y. From version 0.12, the only valid positional argument will be `data`, and passing other arguments without an explicit keyword will result in an error or misinterpretation.\n",
      "  warnings.warn(\n",
      "/Users/dorienroosen/.pyenv/versions/3.8.12/envs/lung_pollution/lib/python3.8/site-packages/seaborn/_decorators.py:36: FutureWarning: Pass the following variables as keyword args: x, y. From version 0.12, the only valid positional argument will be `data`, and passing other arguments without an explicit keyword will result in an error or misinterpretation.\n",
      "  warnings.warn(\n",
      "/Users/dorienroosen/.pyenv/versions/3.8.12/envs/lung_pollution/lib/python3.8/site-packages/seaborn/_decorators.py:36: FutureWarning: Pass the following variables as keyword args: x, y. From version 0.12, the only valid positional argument will be `data`, and passing other arguments without an explicit keyword will result in an error or misinterpretation.\n",
      "  warnings.warn(\n",
      "/Users/dorienroosen/.pyenv/versions/3.8.12/envs/lung_pollution/lib/python3.8/site-packages/seaborn/_decorators.py:36: FutureWarning: Pass the following variables as keyword args: x, y. From version 0.12, the only valid positional argument will be `data`, and passing other arguments without an explicit keyword will result in an error or misinterpretation.\n",
      "  warnings.warn(\n"
     ]
    },
    {
     "data": {
      "image/png": "[encoded data removed]",
      "text/plain": [
       "<Figure size 1080x1440 with 11 Axes>"
      ]
     },
     "metadata": {
      "needs_background": "light"
     },
     "output_type": "display_data"
    }
   ],
   "source": [
    "# First subplot\n",
    "plt.figure(figsize=(15,20))\n",
    "\n",
    "for i, feature in enumerate(feature_list):\n",
    "    # First subplot\n",
    "    plt.subplot(4,3,i+1)\n",
    "    sns.regplot(X[feature], y_cases)\n",
    "    plt.xlabel(feature)\n",
    "    plt.ylabel(\"cases per 100K\")\n",
    "    # Global figure methods\n",
    "plt.show()"
   ]
  },
  {
   "cell_type": "markdown",
   "id": "e77be932",
   "metadata": {},
   "source": [
    "## Correlation plot"
   ]
  },
  {
   "cell_type": "code",
   "execution_count": 75,
   "id": "8d36122f",
   "metadata": {},
   "outputs": [
    {
     "data": {
      "text/plain": [
       "Index(['NO2_annualMean', 'NO_annualMean', 'O3_daily8HrMax', 'PM10_annualMean',\n",
       "       'PM2_5_annualMean', 'fully_vaccinated', 'Population_density', 'lnNO2',\n",
       "       'lnO3', 'lnPM2_5', 'AirPollution'],\n",
       "      dtype='object')"
      ]
     },
     "execution_count": 75,
     "metadata": {},
     "output_type": "execute_result"
    }
   ],
   "source": [
    "X_columns"
   ]
  },
  {
   "cell_type": "code",
   "execution_count": 77,
   "id": "6af2b1e8",
   "metadata": {
    "scrolled": true
   },
   "outputs": [
    {
     "data": {
      "text/plain": [
       "<AxesSubplot:>"
      ]
     },
     "execution_count": 77,
     "metadata": {},
     "output_type": "execute_result"
    },
    {
     "data": {
      "image/png": "[encoded data removed]",
      "text/plain": [
       "<Figure size 720x720 with 2 Axes>"
      ]
     },
     "metadata": {
      "needs_background": "light"
     },
     "output_type": "display_data"
    }
   ],
   "source": [
    "import seaborn as sns\n",
    "plt.figure(figsize = (10,10))\n",
    "\n",
    "sns.heatmap(X[['NO2_annualMean', 'NO_annualMean', 'O3_daily8HrMax', 'PM10_annualMean',\n",
    "       'PM2_5_annualMean', 'fully_vaccinated', 'Population_density', 'lnNO2',\n",
    "       'lnO3', 'lnPM2_5', 'AirPollution']].corr(), \n",
    "            cmap='coolwarm', \n",
    "            annot = True, \n",
    "            annot_kws={\"size\": 10})"
   ]
  },
  {
   "cell_type": "code",
   "execution_count": 78,
   "id": "72265fff",
   "metadata": {
    "scrolled": true
   },
   "outputs": [
    {
     "data": {
      "text/html": [
       "<div>\n",
       "<style scoped>\n",
       "    .dataframe tbody tr th:only-of-type {\n",
       "        vertical-align: middle;\n",
       "    }\n",
       "\n",
       "    .dataframe tbody tr th {\n",
       "        vertical-align: top;\n",
       "    }\n",
       "\n",
       "    .dataframe thead th {\n",
       "        text-align: right;\n",
       "    }\n",
       "</style>\n",
       "<table border=\"1\" class=\"dataframe\">\n",
       "  <thead>\n",
       "    <tr style=\"text-align: right;\">\n",
       "      <th></th>\n",
       "      <th>NO2_annualMean</th>\n",
       "      <th>NO_annualMean</th>\n",
       "      <th>O3_daily8HrMax</th>\n",
       "      <th>PM10_annualMean</th>\n",
       "      <th>PM2_5_annualMean</th>\n",
       "      <th>fully_vaccinated</th>\n",
       "      <th>Population_density</th>\n",
       "      <th>lnNO2</th>\n",
       "      <th>lnO3</th>\n",
       "      <th>lnPM2_5</th>\n",
       "      <th>AirPollution</th>\n",
       "    </tr>\n",
       "  </thead>\n",
       "  <tbody>\n",
       "    <tr>\n",
       "      <th>NO2_annualMean</th>\n",
       "      <td>1.000000</td>\n",
       "      <td>0.862425</td>\n",
       "      <td>0.146795</td>\n",
       "      <td>0.610912</td>\n",
       "      <td>0.259602</td>\n",
       "      <td>0.210495</td>\n",
       "      <td>0.436260</td>\n",
       "      <td>0.960156</td>\n",
       "      <td>0.144281</td>\n",
       "      <td>0.275386</td>\n",
       "      <td>0.861656</td>\n",
       "    </tr>\n",
       "    <tr>\n",
       "      <th>NO_annualMean</th>\n",
       "      <td>0.862425</td>\n",
       "      <td>1.000000</td>\n",
       "      <td>-0.025597</td>\n",
       "      <td>0.581974</td>\n",
       "      <td>0.280956</td>\n",
       "      <td>0.178809</td>\n",
       "      <td>0.295168</td>\n",
       "      <td>0.827828</td>\n",
       "      <td>-0.028743</td>\n",
       "      <td>0.296108</td>\n",
       "      <td>0.912619</td>\n",
       "    </tr>\n",
       "    <tr>\n",
       "      <th>O3_daily8HrMax</th>\n",
       "      <td>0.146795</td>\n",
       "      <td>-0.025597</td>\n",
       "      <td>1.000000</td>\n",
       "      <td>-0.062021</td>\n",
       "      <td>-0.043136</td>\n",
       "      <td>0.092072</td>\n",
       "      <td>0.159191</td>\n",
       "      <td>0.088680</td>\n",
       "      <td>0.996858</td>\n",
       "      <td>-0.065281</td>\n",
       "      <td>0.211059</td>\n",
       "    </tr>\n",
       "    <tr>\n",
       "      <th>PM10_annualMean</th>\n",
       "      <td>0.610912</td>\n",
       "      <td>0.581974</td>\n",
       "      <td>-0.062021</td>\n",
       "      <td>1.000000</td>\n",
       "      <td>0.436387</td>\n",
       "      <td>0.211284</td>\n",
       "      <td>0.132580</td>\n",
       "      <td>0.646126</td>\n",
       "      <td>-0.064484</td>\n",
       "      <td>0.450509</td>\n",
       "      <td>0.527248</td>\n",
       "    </tr>\n",
       "    <tr>\n",
       "      <th>PM2_5_annualMean</th>\n",
       "      <td>0.259602</td>\n",
       "      <td>0.280956</td>\n",
       "      <td>-0.043136</td>\n",
       "      <td>0.436387</td>\n",
       "      <td>1.000000</td>\n",
       "      <td>0.148221</td>\n",
       "      <td>-0.024332</td>\n",
       "      <td>0.281394</td>\n",
       "      <td>-0.049681</td>\n",
       "      <td>0.987469</td>\n",
       "      <td>0.313701</td>\n",
       "    </tr>\n",
       "    <tr>\n",
       "      <th>fully_vaccinated</th>\n",
       "      <td>0.210495</td>\n",
       "      <td>0.178809</td>\n",
       "      <td>0.092072</td>\n",
       "      <td>0.211284</td>\n",
       "      <td>0.148221</td>\n",
       "      <td>1.000000</td>\n",
       "      <td>0.222453</td>\n",
       "      <td>0.191973</td>\n",
       "      <td>0.084646</td>\n",
       "      <td>0.137087</td>\n",
       "      <td>0.204457</td>\n",
       "    </tr>\n",
       "    <tr>\n",
       "      <th>Population_density</th>\n",
       "      <td>0.436260</td>\n",
       "      <td>0.295168</td>\n",
       "      <td>0.159191</td>\n",
       "      <td>0.132580</td>\n",
       "      <td>-0.024332</td>\n",
       "      <td>0.222453</td>\n",
       "      <td>1.000000</td>\n",
       "      <td>0.364943</td>\n",
       "      <td>0.160064</td>\n",
       "      <td>-0.012022</td>\n",
       "      <td>0.359205</td>\n",
       "    </tr>\n",
       "    <tr>\n",
       "      <th>lnNO2</th>\n",
       "      <td>0.960156</td>\n",
       "      <td>0.827828</td>\n",
       "      <td>0.088680</td>\n",
       "      <td>0.646126</td>\n",
       "      <td>0.281394</td>\n",
       "      <td>0.191973</td>\n",
       "      <td>0.364943</td>\n",
       "      <td>1.000000</td>\n",
       "      <td>0.087007</td>\n",
       "      <td>0.304145</td>\n",
       "      <td>0.754546</td>\n",
       "    </tr>\n",
       "    <tr>\n",
       "      <th>lnO3</th>\n",
       "      <td>0.144281</td>\n",
       "      <td>-0.028743</td>\n",
       "      <td>0.996858</td>\n",
       "      <td>-0.064484</td>\n",
       "      <td>-0.049681</td>\n",
       "      <td>0.084646</td>\n",
       "      <td>0.160064</td>\n",
       "      <td>0.087007</td>\n",
       "      <td>1.000000</td>\n",
       "      <td>-0.070145</td>\n",
       "      <td>0.204238</td>\n",
       "    </tr>\n",
       "    <tr>\n",
       "      <th>lnPM2_5</th>\n",
       "      <td>0.275386</td>\n",
       "      <td>0.296108</td>\n",
       "      <td>-0.065281</td>\n",
       "      <td>0.450509</td>\n",
       "      <td>0.987469</td>\n",
       "      <td>0.137087</td>\n",
       "      <td>-0.012022</td>\n",
       "      <td>0.304145</td>\n",
       "      <td>-0.070145</td>\n",
       "      <td>1.000000</td>\n",
       "      <td>0.308646</td>\n",
       "    </tr>\n",
       "    <tr>\n",
       "      <th>AirPollution</th>\n",
       "      <td>0.861656</td>\n",
       "      <td>0.912619</td>\n",
       "      <td>0.211059</td>\n",
       "      <td>0.527248</td>\n",
       "      <td>0.313701</td>\n",
       "      <td>0.204457</td>\n",
       "      <td>0.359205</td>\n",
       "      <td>0.754546</td>\n",
       "      <td>0.204238</td>\n",
       "      <td>0.308646</td>\n",
       "      <td>1.000000</td>\n",
       "    </tr>\n",
       "  </tbody>\n",
       "</table>\n",
       "</div>"
      ],
      "text/plain": [
       "                    NO2_annualMean  NO_annualMean  O3_daily8HrMax  \\\n",
       "NO2_annualMean            1.000000       0.862425        0.146795   \n",
       "NO_annualMean             0.862425       1.000000       -0.025597   \n",
       "O3_daily8HrMax            0.146795      -0.025597        1.000000   \n",
       "PM10_annualMean           0.610912       0.581974       -0.062021   \n",
       "PM2_5_annualMean          0.259602       0.280956       -0.043136   \n",
       "fully_vaccinated          0.210495       0.178809        0.092072   \n",
       "Population_density        0.436260       0.295168        0.159191   \n",
       "lnNO2                     0.960156       0.827828        0.088680   \n",
       "lnO3                      0.144281      -0.028743        0.996858   \n",
       "lnPM2_5                   0.275386       0.296108       -0.065281   \n",
       "AirPollution              0.861656       0.912619        0.211059   \n",
       "\n",
       "                    PM10_annualMean  PM2_5_annualMean  fully_vaccinated  \\\n",
       "NO2_annualMean             0.610912          0.259602          0.210495   \n",
       "NO_annualMean              0.581974          0.280956          0.178809   \n",
       "O3_daily8HrMax            -0.062021         -0.043136          0.092072   \n",
       "PM10_annualMean            1.000000          0.436387          0.211284   \n",
       "PM2_5_annualMean           0.436387          1.000000          0.148221   \n",
       "fully_vaccinated           0.211284          0.148221          1.000000   \n",
       "Population_density         0.132580         -0.024332          0.222453   \n",
       "lnNO2                      0.646126          0.281394          0.191973   \n",
       "lnO3                      -0.064484         -0.049681          0.084646   \n",
       "lnPM2_5                    0.450509          0.987469          0.137087   \n",
       "AirPollution               0.527248          0.313701          0.204457   \n",
       "\n",
       "                    Population_density     lnNO2      lnO3   lnPM2_5  \\\n",
       "NO2_annualMean                0.436260  0.960156  0.144281  0.275386   \n",
       "NO_annualMean                 0.295168  0.827828 -0.028743  0.296108   \n",
       "O3_daily8HrMax                0.159191  0.088680  0.996858 -0.065281   \n",
       "PM10_annualMean               0.132580  0.646126 -0.064484  0.450509   \n",
       "PM2_5_annualMean             -0.024332  0.281394 -0.049681  0.987469   \n",
       "fully_vaccinated              0.222453  0.191973  0.084646  0.137087   \n",
       "Population_density            1.000000  0.364943  0.160064 -0.012022   \n",
       "lnNO2                         0.364943  1.000000  0.087007  0.304145   \n",
       "lnO3                          0.160064  0.087007  1.000000 -0.070145   \n",
       "lnPM2_5                      -0.012022  0.304145 -0.070145  1.000000   \n",
       "AirPollution                  0.359205  0.754546  0.204238  0.308646   \n",
       "\n",
       "                    AirPollution  \n",
       "NO2_annualMean          0.861656  \n",
       "NO_annualMean           0.912619  \n",
       "O3_daily8HrMax          0.211059  \n",
       "PM10_annualMean         0.527248  \n",
       "PM2_5_annualMean        0.313701  \n",
       "fully_vaccinated        0.204457  \n",
       "Population_density      0.359205  \n",
       "lnNO2                   0.754546  \n",
       "lnO3                    0.204238  \n",
       "lnPM2_5                 0.308646  \n",
       "AirPollution            1.000000  "
      ]
     },
     "execution_count": 78,
     "metadata": {},
     "output_type": "execute_result"
    }
   ],
   "source": [
    "X[['NO2_annualMean', 'NO_annualMean', 'O3_daily8HrMax', 'PM10_annualMean',\n",
    "       'PM2_5_annualMean', 'fully_vaccinated', 'Population_density', 'lnNO2',\n",
    "       'lnO3', 'lnPM2_5', 'AirPollution']].corr()"
   ]
  },
  {
   "cell_type": "markdown",
   "id": "8bf71f68",
   "metadata": {},
   "source": [
    "## VIF analysis"
   ]
  },
  {
   "cell_type": "code",
   "execution_count": 79,
   "id": "956b9a92",
   "metadata": {},
   "outputs": [],
   "source": [
    "from statsmodels.stats.outliers_influence import variance_inflation_factor as vif"
   ]
  },
  {
   "cell_type": "code",
   "execution_count": 80,
   "id": "02bd14dc",
   "metadata": {},
   "outputs": [],
   "source": [
    "vif_df = X[['NO2_annualMean', 'NO_annualMean', 'O3_daily8HrMax', 'PM10_annualMean',\n",
    "       'PM2_5_annualMean', 'fully_vaccinated', 'Population_density', 'lnNO2',\n",
    "       'lnO3', 'lnPM2_5', 'AirPollution']]"
   ]
  },
  {
   "cell_type": "code",
   "execution_count": 81,
   "id": "4cdcead7",
   "metadata": {},
   "outputs": [
    {
     "data": {
      "text/html": [
       "<div>\n",
       "<style scoped>\n",
       "    .dataframe tbody tr th:only-of-type {\n",
       "        vertical-align: middle;\n",
       "    }\n",
       "\n",
       "    .dataframe tbody tr th {\n",
       "        vertical-align: top;\n",
       "    }\n",
       "\n",
       "    .dataframe thead th {\n",
       "        text-align: right;\n",
       "    }\n",
       "</style>\n",
       "<table border=\"1\" class=\"dataframe\">\n",
       "  <thead>\n",
       "    <tr style=\"text-align: right;\">\n",
       "      <th></th>\n",
       "      <th>vif_index</th>\n",
       "      <th>features</th>\n",
       "    </tr>\n",
       "  </thead>\n",
       "  <tbody>\n",
       "    <tr>\n",
       "      <th>0</th>\n",
       "      <td>518.488588</td>\n",
       "      <td>NO2_annualMean</td>\n",
       "    </tr>\n",
       "    <tr>\n",
       "      <th>1</th>\n",
       "      <td>89.175774</td>\n",
       "      <td>NO_annualMean</td>\n",
       "    </tr>\n",
       "    <tr>\n",
       "      <th>2</th>\n",
       "      <td>651.152941</td>\n",
       "      <td>O3_daily8HrMax</td>\n",
       "    </tr>\n",
       "    <tr>\n",
       "      <th>3</th>\n",
       "      <td>128.022075</td>\n",
       "      <td>PM10_annualMean</td>\n",
       "    </tr>\n",
       "    <tr>\n",
       "      <th>4</th>\n",
       "      <td>3720.939498</td>\n",
       "      <td>PM2_5_annualMean</td>\n",
       "    </tr>\n",
       "    <tr>\n",
       "      <th>5</th>\n",
       "      <td>408.588642</td>\n",
       "      <td>fully_vaccinated</td>\n",
       "    </tr>\n",
       "    <tr>\n",
       "      <th>6</th>\n",
       "      <td>2.256098</td>\n",
       "      <td>Population_density</td>\n",
       "    </tr>\n",
       "    <tr>\n",
       "      <th>7</th>\n",
       "      <td>1696.293574</td>\n",
       "      <td>lnNO2</td>\n",
       "    </tr>\n",
       "    <tr>\n",
       "      <th>8</th>\n",
       "      <td>9463.893121</td>\n",
       "      <td>lnO3</td>\n",
       "    </tr>\n",
       "    <tr>\n",
       "      <th>9</th>\n",
       "      <td>17798.316993</td>\n",
       "      <td>lnPM2_5</td>\n",
       "    </tr>\n",
       "    <tr>\n",
       "      <th>10</th>\n",
       "      <td>63.141271</td>\n",
       "      <td>AirPollution</td>\n",
       "    </tr>\n",
       "  </tbody>\n",
       "</table>\n",
       "</div>"
      ],
      "text/plain": [
       "       vif_index            features\n",
       "0     518.488588      NO2_annualMean\n",
       "1      89.175774       NO_annualMean\n",
       "2     651.152941      O3_daily8HrMax\n",
       "3     128.022075     PM10_annualMean\n",
       "4    3720.939498    PM2_5_annualMean\n",
       "5     408.588642    fully_vaccinated\n",
       "6       2.256098  Population_density\n",
       "7    1696.293574               lnNO2\n",
       "8    9463.893121                lnO3\n",
       "9   17798.316993             lnPM2_5\n",
       "10     63.141271        AirPollution"
      ]
     },
     "execution_count": 81,
     "metadata": {},
     "output_type": "execute_result"
    }
   ],
   "source": [
    "df = pd.DataFrame()\n",
    "df[\"vif_index\"] = [vif(vif_df.values, i) for i in range(vif_df.shape[1])]\n",
    "df[\"features\"] = vif_df.columns\n",
    "df"
   ]
  },
  {
   "cell_type": "markdown",
   "id": "49abb620",
   "metadata": {
    "heading_collapsed": true
   },
   "source": [
    "# OLS: deaths per 100k"
   ]
  },
  {
   "cell_type": "markdown",
   "id": "134f51c6",
   "metadata": {
    "heading_collapsed": true,
    "hidden": true
   },
   "source": [
    "## Univariate linear regression"
   ]
  },
  {
   "cell_type": "code",
   "execution_count": 16,
   "id": "f769eccd",
   "metadata": {
    "hidden": true
   },
   "outputs": [],
   "source": [
    "import statsmodels.formula.api as smf"
   ]
  },
  {
   "cell_type": "markdown",
   "id": "b2da6de5",
   "metadata": {
    "hidden": true
   },
   "source": [
    "### Vaccination status"
   ]
  },
  {
   "cell_type": "code",
   "execution_count": 17,
   "id": "475c16e0",
   "metadata": {
    "hidden": true,
    "scrolled": false
   },
   "outputs": [
    {
     "data": {
      "text/html": [
       "<table class=\"simpletable\">\n",
       "<caption>OLS Regression Results</caption>\n",
       "<tr>\n",
       "  <th>Dep. Variable:</th>     <td>deaths_per_100k</td> <th>  R-squared:         </th> <td>   0.333</td>\n",
       "</tr>\n",
       "<tr>\n",
       "  <th>Model:</th>                   <td>OLS</td>       <th>  Adj. R-squared:    </th> <td>   0.331</td>\n",
       "</tr>\n",
       "<tr>\n",
       "  <th>Method:</th>             <td>Least Squares</td>  <th>  F-statistic:       </th> <td>   198.8</td>\n",
       "</tr>\n",
       "<tr>\n",
       "  <th>Date:</th>             <td>Thu, 25 Nov 2021</td> <th>  Prob (F-statistic):</th> <td>6.67e-37</td>\n",
       "</tr>\n",
       "<tr>\n",
       "  <th>Time:</th>                 <td>15:52:47</td>     <th>  Log-Likelihood:    </th> <td> -487.24</td>\n",
       "</tr>\n",
       "<tr>\n",
       "  <th>No. Observations:</th>      <td>   400</td>      <th>  AIC:               </th> <td>   978.5</td>\n",
       "</tr>\n",
       "<tr>\n",
       "  <th>Df Residuals:</th>          <td>   398</td>      <th>  BIC:               </th> <td>   986.5</td>\n",
       "</tr>\n",
       "<tr>\n",
       "  <th>Df Model:</th>              <td>     1</td>      <th>                     </th>     <td> </td>   \n",
       "</tr>\n",
       "<tr>\n",
       "  <th>Covariance Type:</th>      <td>nonrobust</td>    <th>                     </th>     <td> </td>   \n",
       "</tr>\n",
       "</table>\n",
       "<table class=\"simpletable\">\n",
       "<tr>\n",
       "          <td></td>            <th>coef</th>     <th>std err</th>      <th>t</th>      <th>P>|t|</th>  <th>[0.025</th>    <th>0.975]</th>  \n",
       "</tr>\n",
       "<tr>\n",
       "  <th>Intercept</th>        <td>    0.3971</td> <td>    0.042</td> <td>    9.345</td> <td> 0.000</td> <td>    0.314</td> <td>    0.481</td>\n",
       "</tr>\n",
       "<tr>\n",
       "  <th>Fully_vaccinated</th> <td>   -0.6099</td> <td>    0.043</td> <td>  -14.100</td> <td> 0.000</td> <td>   -0.695</td> <td>   -0.525</td>\n",
       "</tr>\n",
       "</table>\n",
       "<table class=\"simpletable\">\n",
       "<tr>\n",
       "  <th>Omnibus:</th>       <td>93.260</td> <th>  Durbin-Watson:     </th> <td>   1.958</td>\n",
       "</tr>\n",
       "<tr>\n",
       "  <th>Prob(Omnibus):</th> <td> 0.000</td> <th>  Jarque-Bera (JB):  </th> <td> 207.962</td>\n",
       "</tr>\n",
       "<tr>\n",
       "  <th>Skew:</th>          <td> 1.190</td> <th>  Prob(JB):          </th> <td>6.94e-46</td>\n",
       "</tr>\n",
       "<tr>\n",
       "  <th>Kurtosis:</th>      <td> 5.611</td> <th>  Cond. No.          </th> <td>    1.31</td>\n",
       "</tr>\n",
       "</table><br/><br/>Notes:<br/>[1] Standard Errors assume that the covariance matrix of the errors is correctly specified."
      ],
      "text/plain": [
       "<class 'statsmodels.iolib.summary.Summary'>\n",
       "\"\"\"\n",
       "                            OLS Regression Results                            \n",
       "==============================================================================\n",
       "Dep. Variable:        deaths_per_100k   R-squared:                       0.333\n",
       "Model:                            OLS   Adj. R-squared:                  0.331\n",
       "Method:                 Least Squares   F-statistic:                     198.8\n",
       "Date:                Thu, 25 Nov 2021   Prob (F-statistic):           6.67e-37\n",
       "Time:                        15:52:47   Log-Likelihood:                -487.24\n",
       "No. Observations:                 400   AIC:                             978.5\n",
       "Df Residuals:                     398   BIC:                             986.5\n",
       "Df Model:                           1                                         \n",
       "Covariance Type:            nonrobust                                         \n",
       "====================================================================================\n",
       "                       coef    std err          t      P>|t|      [0.025      0.975]\n",
       "------------------------------------------------------------------------------------\n",
       "Intercept            0.3971      0.042      9.345      0.000       0.314       0.481\n",
       "Fully_vaccinated    -0.6099      0.043    -14.100      0.000      -0.695      -0.525\n",
       "==============================================================================\n",
       "Omnibus:                       93.260   Durbin-Watson:                   1.958\n",
       "Prob(Omnibus):                  0.000   Jarque-Bera (JB):              207.962\n",
       "Skew:                           1.190   Prob(JB):                     6.94e-46\n",
       "Kurtosis:                       5.611   Cond. No.                         1.31\n",
       "==============================================================================\n",
       "\n",
       "Notes:\n",
       "[1] Standard Errors assume that the covariance matrix of the errors is correctly specified.\n",
       "\"\"\""
      ]
     },
     "execution_count": 17,
     "metadata": {},
     "output_type": "execute_result"
    }
   ],
   "source": [
    "model = smf.ols(formula = 'deaths_per_100k ~ Fully_vaccinated', data = df_covid_AP_2019).fit()\n",
    "model.summary()"
   ]
  },
  {
   "cell_type": "code",
   "execution_count": 18,
   "id": "8fa32bc3",
   "metadata": {
    "hidden": true
   },
   "outputs": [
    {
     "data": {
      "text/plain": [
       "0.8180470229308339"
      ]
     },
     "execution_count": 18,
     "metadata": {},
     "output_type": "execute_result"
    }
   ],
   "source": [
    "import numpy as np\n",
    "RMSE = np.sqrt((model.resid**2).mean())\n",
    "RMSE"
   ]
  },
  {
   "cell_type": "markdown",
   "id": "42f6f69d",
   "metadata": {
    "hidden": true
   },
   "source": [
    "### Population density"
   ]
  },
  {
   "cell_type": "code",
   "execution_count": 19,
   "id": "aa96bf1f",
   "metadata": {
    "hidden": true,
    "scrolled": false
   },
   "outputs": [
    {
     "data": {
      "text/html": [
       "<table class=\"simpletable\">\n",
       "<caption>OLS Regression Results</caption>\n",
       "<tr>\n",
       "  <th>Dep. Variable:</th>     <td>deaths_per_100k</td> <th>  R-squared:         </th> <td>   0.005</td>\n",
       "</tr>\n",
       "<tr>\n",
       "  <th>Model:</th>                   <td>OLS</td>       <th>  Adj. R-squared:    </th> <td>   0.003</td>\n",
       "</tr>\n",
       "<tr>\n",
       "  <th>Method:</th>             <td>Least Squares</td>  <th>  F-statistic:       </th> <td>   2.166</td>\n",
       "</tr>\n",
       "<tr>\n",
       "  <th>Date:</th>             <td>Thu, 25 Nov 2021</td> <th>  Prob (F-statistic):</th>  <td> 0.142</td> \n",
       "</tr>\n",
       "<tr>\n",
       "  <th>Time:</th>                 <td>15:52:47</td>     <th>  Log-Likelihood:    </th> <td> -567.18</td>\n",
       "</tr>\n",
       "<tr>\n",
       "  <th>No. Observations:</th>      <td>   400</td>      <th>  AIC:               </th> <td>   1138.</td>\n",
       "</tr>\n",
       "<tr>\n",
       "  <th>Df Residuals:</th>          <td>   398</td>      <th>  BIC:               </th> <td>   1146.</td>\n",
       "</tr>\n",
       "<tr>\n",
       "  <th>Df Model:</th>              <td>     1</td>      <th>                     </th>     <td> </td>   \n",
       "</tr>\n",
       "<tr>\n",
       "  <th>Covariance Type:</th>      <td>nonrobust</td>    <th>                     </th>     <td> </td>   \n",
       "</tr>\n",
       "</table>\n",
       "<table class=\"simpletable\">\n",
       "<tr>\n",
       "           <td></td>             <th>coef</th>     <th>std err</th>      <th>t</th>      <th>P>|t|</th>  <th>[0.025</th>    <th>0.975]</th>  \n",
       "</tr>\n",
       "<tr>\n",
       "  <th>Intercept</th>          <td>    0.2752</td> <td>    0.055</td> <td>    4.961</td> <td> 0.000</td> <td>    0.166</td> <td>    0.384</td>\n",
       "</tr>\n",
       "<tr>\n",
       "  <th>Population_density</th> <td>   -0.0580</td> <td>    0.039</td> <td>   -1.472</td> <td> 0.142</td> <td>   -0.135</td> <td>    0.019</td>\n",
       "</tr>\n",
       "</table>\n",
       "<table class=\"simpletable\">\n",
       "<tr>\n",
       "  <th>Omnibus:</th>       <td>147.676</td> <th>  Durbin-Watson:     </th> <td>   2.097</td> \n",
       "</tr>\n",
       "<tr>\n",
       "  <th>Prob(Omnibus):</th> <td> 0.000</td>  <th>  Jarque-Bera (JB):  </th> <td> 483.709</td> \n",
       "</tr>\n",
       "<tr>\n",
       "  <th>Skew:</th>          <td> 1.697</td>  <th>  Prob(JB):          </th> <td>9.20e-106</td>\n",
       "</tr>\n",
       "<tr>\n",
       "  <th>Kurtosis:</th>      <td> 7.183</td>  <th>  Cond. No.          </th> <td>    1.79</td> \n",
       "</tr>\n",
       "</table><br/><br/>Notes:<br/>[1] Standard Errors assume that the covariance matrix of the errors is correctly specified."
      ],
      "text/plain": [
       "<class 'statsmodels.iolib.summary.Summary'>\n",
       "\"\"\"\n",
       "                            OLS Regression Results                            \n",
       "==============================================================================\n",
       "Dep. Variable:        deaths_per_100k   R-squared:                       0.005\n",
       "Model:                            OLS   Adj. R-squared:                  0.003\n",
       "Method:                 Least Squares   F-statistic:                     2.166\n",
       "Date:                Thu, 25 Nov 2021   Prob (F-statistic):              0.142\n",
       "Time:                        15:52:47   Log-Likelihood:                -567.18\n",
       "No. Observations:                 400   AIC:                             1138.\n",
       "Df Residuals:                     398   BIC:                             1146.\n",
       "Df Model:                           1                                         \n",
       "Covariance Type:            nonrobust                                         \n",
       "======================================================================================\n",
       "                         coef    std err          t      P>|t|      [0.025      0.975]\n",
       "--------------------------------------------------------------------------------------\n",
       "Intercept              0.2752      0.055      4.961      0.000       0.166       0.384\n",
       "Population_density    -0.0580      0.039     -1.472      0.142      -0.135       0.019\n",
       "==============================================================================\n",
       "Omnibus:                      147.676   Durbin-Watson:                   2.097\n",
       "Prob(Omnibus):                  0.000   Jarque-Bera (JB):              483.709\n",
       "Skew:                           1.697   Prob(JB):                    9.20e-106\n",
       "Kurtosis:                       7.183   Cond. No.                         1.79\n",
       "==============================================================================\n",
       "\n",
       "Notes:\n",
       "[1] Standard Errors assume that the covariance matrix of the errors is correctly specified.\n",
       "\"\"\""
      ]
     },
     "execution_count": 19,
     "metadata": {},
     "output_type": "execute_result"
    }
   ],
   "source": [
    "model = smf.ols(formula = 'deaths_per_100k ~ Population_density', data = df_covid_AP_2019).fit()\n",
    "model.summary()"
   ]
  },
  {
   "cell_type": "code",
   "execution_count": 20,
   "id": "64b84013",
   "metadata": {
    "hidden": true
   },
   "outputs": [
    {
     "data": {
      "text/plain": [
       "0.9990231363697876"
      ]
     },
     "execution_count": 20,
     "metadata": {},
     "output_type": "execute_result"
    }
   ],
   "source": [
    "RMSE = np.sqrt((model.resid**2).mean())\n",
    "RMSE"
   ]
  },
  {
   "cell_type": "markdown",
   "id": "a7bfd8ad",
   "metadata": {
    "hidden": true
   },
   "source": [
    "### NO2"
   ]
  },
  {
   "cell_type": "code",
   "execution_count": 21,
   "id": "69d8f0fa",
   "metadata": {
    "hidden": true,
    "scrolled": false
   },
   "outputs": [
    {
     "data": {
      "text/html": [
       "<table class=\"simpletable\">\n",
       "<caption>OLS Regression Results</caption>\n",
       "<tr>\n",
       "  <th>Dep. Variable:</th>     <td>deaths_per_100k</td> <th>  R-squared:         </th> <td>   0.004</td>\n",
       "</tr>\n",
       "<tr>\n",
       "  <th>Model:</th>                   <td>OLS</td>       <th>  Adj. R-squared:    </th> <td>   0.001</td>\n",
       "</tr>\n",
       "<tr>\n",
       "  <th>Method:</th>             <td>Least Squares</td>  <th>  F-statistic:       </th> <td>   1.513</td>\n",
       "</tr>\n",
       "<tr>\n",
       "  <th>Date:</th>             <td>Thu, 25 Nov 2021</td> <th>  Prob (F-statistic):</th>  <td> 0.219</td> \n",
       "</tr>\n",
       "<tr>\n",
       "  <th>Time:</th>                 <td>15:52:47</td>     <th>  Log-Likelihood:    </th> <td> -567.51</td>\n",
       "</tr>\n",
       "<tr>\n",
       "  <th>No. Observations:</th>      <td>   400</td>      <th>  AIC:               </th> <td>   1139.</td>\n",
       "</tr>\n",
       "<tr>\n",
       "  <th>Df Residuals:</th>          <td>   398</td>      <th>  BIC:               </th> <td>   1147.</td>\n",
       "</tr>\n",
       "<tr>\n",
       "  <th>Df Model:</th>              <td>     1</td>      <th>                     </th>     <td> </td>   \n",
       "</tr>\n",
       "<tr>\n",
       "  <th>Covariance Type:</th>      <td>nonrobust</td>    <th>                     </th>     <td> </td>   \n",
       "</tr>\n",
       "</table>\n",
       "<table class=\"simpletable\">\n",
       "<tr>\n",
       "         <td></td>           <th>coef</th>     <th>std err</th>      <th>t</th>      <th>P>|t|</th>  <th>[0.025</th>    <th>0.975]</th>  \n",
       "</tr>\n",
       "<tr>\n",
       "  <th>Intercept</th>      <td>    0.2323</td> <td>    0.051</td> <td>    4.600</td> <td> 0.000</td> <td>    0.133</td> <td>    0.332</td>\n",
       "</tr>\n",
       "<tr>\n",
       "  <th>NO2_annualMean</th> <td>   -0.0467</td> <td>    0.038</td> <td>   -1.230</td> <td> 0.219</td> <td>   -0.121</td> <td>    0.028</td>\n",
       "</tr>\n",
       "</table>\n",
       "<table class=\"simpletable\">\n",
       "<tr>\n",
       "  <th>Omnibus:</th>       <td>146.022</td> <th>  Durbin-Watson:     </th> <td>   2.111</td> \n",
       "</tr>\n",
       "<tr>\n",
       "  <th>Prob(Omnibus):</th> <td> 0.000</td>  <th>  Jarque-Bera (JB):  </th> <td> 474.285</td> \n",
       "</tr>\n",
       "<tr>\n",
       "  <th>Skew:</th>          <td> 1.680</td>  <th>  Prob(JB):          </th> <td>1.02e-103</td>\n",
       "</tr>\n",
       "<tr>\n",
       "  <th>Kurtosis:</th>      <td> 7.143</td>  <th>  Cond. No.          </th> <td>    1.37</td> \n",
       "</tr>\n",
       "</table><br/><br/>Notes:<br/>[1] Standard Errors assume that the covariance matrix of the errors is correctly specified."
      ],
      "text/plain": [
       "<class 'statsmodels.iolib.summary.Summary'>\n",
       "\"\"\"\n",
       "                            OLS Regression Results                            \n",
       "==============================================================================\n",
       "Dep. Variable:        deaths_per_100k   R-squared:                       0.004\n",
       "Model:                            OLS   Adj. R-squared:                  0.001\n",
       "Method:                 Least Squares   F-statistic:                     1.513\n",
       "Date:                Thu, 25 Nov 2021   Prob (F-statistic):              0.219\n",
       "Time:                        15:52:47   Log-Likelihood:                -567.51\n",
       "No. Observations:                 400   AIC:                             1139.\n",
       "Df Residuals:                     398   BIC:                             1147.\n",
       "Df Model:                           1                                         \n",
       "Covariance Type:            nonrobust                                         \n",
       "==================================================================================\n",
       "                     coef    std err          t      P>|t|      [0.025      0.975]\n",
       "----------------------------------------------------------------------------------\n",
       "Intercept          0.2323      0.051      4.600      0.000       0.133       0.332\n",
       "NO2_annualMean    -0.0467      0.038     -1.230      0.219      -0.121       0.028\n",
       "==============================================================================\n",
       "Omnibus:                      146.022   Durbin-Watson:                   2.111\n",
       "Prob(Omnibus):                  0.000   Jarque-Bera (JB):              474.285\n",
       "Skew:                           1.680   Prob(JB):                    1.02e-103\n",
       "Kurtosis:                       7.143   Cond. No.                         1.37\n",
       "==============================================================================\n",
       "\n",
       "Notes:\n",
       "[1] Standard Errors assume that the covariance matrix of the errors is correctly specified.\n",
       "\"\"\""
      ]
     },
     "execution_count": 21,
     "metadata": {},
     "output_type": "execute_result"
    }
   ],
   "source": [
    "model = smf.ols(formula = 'deaths_per_100k ~ NO2_annualMean', data = df_covid_AP_2019).fit()\n",
    "model.summary()"
   ]
  },
  {
   "cell_type": "code",
   "execution_count": 22,
   "id": "f91ef61a",
   "metadata": {
    "hidden": true
   },
   "outputs": [
    {
     "data": {
      "text/plain": [
       "0.9998399120304602"
      ]
     },
     "execution_count": 22,
     "metadata": {},
     "output_type": "execute_result"
    }
   ],
   "source": [
    "RMSE = np.sqrt((model.resid**2).mean())\n",
    "RMSE"
   ]
  },
  {
   "cell_type": "markdown",
   "id": "4a3a81ec",
   "metadata": {
    "hidden": true
   },
   "source": [
    "### NO "
   ]
  },
  {
   "cell_type": "code",
   "execution_count": 23,
   "id": "870ff07f",
   "metadata": {
    "hidden": true,
    "scrolled": false
   },
   "outputs": [
    {
     "data": {
      "text/html": [
       "<table class=\"simpletable\">\n",
       "<caption>OLS Regression Results</caption>\n",
       "<tr>\n",
       "  <th>Dep. Variable:</th>     <td>deaths_per_100k</td> <th>  R-squared:         </th> <td>   0.001</td>\n",
       "</tr>\n",
       "<tr>\n",
       "  <th>Model:</th>                   <td>OLS</td>       <th>  Adj. R-squared:    </th> <td>  -0.002</td>\n",
       "</tr>\n",
       "<tr>\n",
       "  <th>Method:</th>             <td>Least Squares</td>  <th>  F-statistic:       </th> <td>  0.2121</td>\n",
       "</tr>\n",
       "<tr>\n",
       "  <th>Date:</th>             <td>Thu, 25 Nov 2021</td> <th>  Prob (F-statistic):</th>  <td> 0.645</td> \n",
       "</tr>\n",
       "<tr>\n",
       "  <th>Time:</th>                 <td>15:52:47</td>     <th>  Log-Likelihood:    </th> <td> -568.16</td>\n",
       "</tr>\n",
       "<tr>\n",
       "  <th>No. Observations:</th>      <td>   400</td>      <th>  AIC:               </th> <td>   1140.</td>\n",
       "</tr>\n",
       "<tr>\n",
       "  <th>Df Residuals:</th>          <td>   398</td>      <th>  BIC:               </th> <td>   1148.</td>\n",
       "</tr>\n",
       "<tr>\n",
       "  <th>Df Model:</th>              <td>     1</td>      <th>                     </th>     <td> </td>   \n",
       "</tr>\n",
       "<tr>\n",
       "  <th>Covariance Type:</th>      <td>nonrobust</td>    <th>                     </th>     <td> </td>   \n",
       "</tr>\n",
       "</table>\n",
       "<table class=\"simpletable\">\n",
       "<tr>\n",
       "        <td></td>           <th>coef</th>     <th>std err</th>      <th>t</th>      <th>P>|t|</th>  <th>[0.025</th>    <th>0.975]</th>  \n",
       "</tr>\n",
       "<tr>\n",
       "  <th>Intercept</th>     <td>    0.2348</td> <td>    0.051</td> <td>    4.560</td> <td> 0.000</td> <td>    0.134</td> <td>    0.336</td>\n",
       "</tr>\n",
       "<tr>\n",
       "  <th>NO_annualMean</th> <td>   -0.0214</td> <td>    0.046</td> <td>   -0.461</td> <td> 0.645</td> <td>   -0.113</td> <td>    0.070</td>\n",
       "</tr>\n",
       "</table>\n",
       "<table class=\"simpletable\">\n",
       "<tr>\n",
       "  <th>Omnibus:</th>       <td>150.597</td> <th>  Durbin-Watson:     </th> <td>   2.111</td> \n",
       "</tr>\n",
       "<tr>\n",
       "  <th>Prob(Omnibus):</th> <td> 0.000</td>  <th>  Jarque-Bera (JB):  </th> <td> 505.003</td> \n",
       "</tr>\n",
       "<tr>\n",
       "  <th>Skew:</th>          <td> 1.724</td>  <th>  Prob(JB):          </th> <td>2.19e-110</td>\n",
       "</tr>\n",
       "<tr>\n",
       "  <th>Kurtosis:</th>      <td> 7.291</td>  <th>  Cond. No.          </th> <td>    1.28</td> \n",
       "</tr>\n",
       "</table><br/><br/>Notes:<br/>[1] Standard Errors assume that the covariance matrix of the errors is correctly specified."
      ],
      "text/plain": [
       "<class 'statsmodels.iolib.summary.Summary'>\n",
       "\"\"\"\n",
       "                            OLS Regression Results                            \n",
       "==============================================================================\n",
       "Dep. Variable:        deaths_per_100k   R-squared:                       0.001\n",
       "Model:                            OLS   Adj. R-squared:                 -0.002\n",
       "Method:                 Least Squares   F-statistic:                    0.2121\n",
       "Date:                Thu, 25 Nov 2021   Prob (F-statistic):              0.645\n",
       "Time:                        15:52:47   Log-Likelihood:                -568.16\n",
       "No. Observations:                 400   AIC:                             1140.\n",
       "Df Residuals:                     398   BIC:                             1148.\n",
       "Df Model:                           1                                         \n",
       "Covariance Type:            nonrobust                                         \n",
       "=================================================================================\n",
       "                    coef    std err          t      P>|t|      [0.025      0.975]\n",
       "---------------------------------------------------------------------------------\n",
       "Intercept         0.2348      0.051      4.560      0.000       0.134       0.336\n",
       "NO_annualMean    -0.0214      0.046     -0.461      0.645      -0.113       0.070\n",
       "==============================================================================\n",
       "Omnibus:                      150.597   Durbin-Watson:                   2.111\n",
       "Prob(Omnibus):                  0.000   Jarque-Bera (JB):              505.003\n",
       "Skew:                           1.724   Prob(JB):                    2.19e-110\n",
       "Kurtosis:                       7.291   Cond. No.                         1.28\n",
       "==============================================================================\n",
       "\n",
       "Notes:\n",
       "[1] Standard Errors assume that the covariance matrix of the errors is correctly specified.\n",
       "\"\"\""
      ]
     },
     "execution_count": 23,
     "metadata": {},
     "output_type": "execute_result"
    }
   ],
   "source": [
    "model = smf.ols(formula = 'deaths_per_100k ~ NO_annualMean', data = df_covid_AP_2019).fit()\n",
    "model.summary()"
   ]
  },
  {
   "cell_type": "code",
   "execution_count": 24,
   "id": "99980233",
   "metadata": {
    "hidden": true
   },
   "outputs": [
    {
     "data": {
      "text/plain": [
       "1.0014711804123115"
      ]
     },
     "execution_count": 24,
     "metadata": {},
     "output_type": "execute_result"
    }
   ],
   "source": [
    "RMSE = np.sqrt((model.resid**2).mean())\n",
    "RMSE"
   ]
  },
  {
   "cell_type": "markdown",
   "id": "78f63145",
   "metadata": {
    "hidden": true
   },
   "source": [
    "### Ozon"
   ]
  },
  {
   "cell_type": "code",
   "execution_count": 25,
   "id": "ef47b7a5",
   "metadata": {
    "hidden": true,
    "scrolled": false
   },
   "outputs": [
    {
     "data": {
      "text/html": [
       "<table class=\"simpletable\">\n",
       "<caption>OLS Regression Results</caption>\n",
       "<tr>\n",
       "  <th>Dep. Variable:</th>     <td>deaths_per_100k</td> <th>  R-squared:         </th> <td>   0.015</td>\n",
       "</tr>\n",
       "<tr>\n",
       "  <th>Model:</th>                   <td>OLS</td>       <th>  Adj. R-squared:    </th> <td>   0.012</td>\n",
       "</tr>\n",
       "<tr>\n",
       "  <th>Method:</th>             <td>Least Squares</td>  <th>  F-statistic:       </th> <td>   5.893</td>\n",
       "</tr>\n",
       "<tr>\n",
       "  <th>Date:</th>             <td>Thu, 25 Nov 2021</td> <th>  Prob (F-statistic):</th>  <td>0.0156</td> \n",
       "</tr>\n",
       "<tr>\n",
       "  <th>Time:</th>                 <td>15:52:47</td>     <th>  Log-Likelihood:    </th> <td> -565.33</td>\n",
       "</tr>\n",
       "<tr>\n",
       "  <th>No. Observations:</th>      <td>   400</td>      <th>  AIC:               </th> <td>   1135.</td>\n",
       "</tr>\n",
       "<tr>\n",
       "  <th>Df Residuals:</th>          <td>   398</td>      <th>  BIC:               </th> <td>   1143.</td>\n",
       "</tr>\n",
       "<tr>\n",
       "  <th>Df Model:</th>              <td>     1</td>      <th>                     </th>     <td> </td>   \n",
       "</tr>\n",
       "<tr>\n",
       "  <th>Covariance Type:</th>      <td>nonrobust</td>    <th>                     </th>     <td> </td>   \n",
       "</tr>\n",
       "</table>\n",
       "<table class=\"simpletable\">\n",
       "<tr>\n",
       "        <td></td>           <th>coef</th>     <th>std err</th>      <th>t</th>      <th>P>|t|</th>  <th>[0.025</th>    <th>0.975]</th>  \n",
       "</tr>\n",
       "<tr>\n",
       "  <th>Intercept</th>     <td>    0.2188</td> <td>    0.051</td> <td>    4.322</td> <td> 0.000</td> <td>    0.119</td> <td>    0.318</td>\n",
       "</tr>\n",
       "<tr>\n",
       "  <th>O3_annualMean</th> <td>    0.0747</td> <td>    0.031</td> <td>    2.427</td> <td> 0.016</td> <td>    0.014</td> <td>    0.135</td>\n",
       "</tr>\n",
       "</table>\n",
       "<table class=\"simpletable\">\n",
       "<tr>\n",
       "  <th>Omnibus:</th>       <td>141.073</td> <th>  Durbin-Watson:     </th> <td>   2.112</td>\n",
       "</tr>\n",
       "<tr>\n",
       "  <th>Prob(Omnibus):</th> <td> 0.000</td>  <th>  Jarque-Bera (JB):  </th> <td> 447.758</td>\n",
       "</tr>\n",
       "<tr>\n",
       "  <th>Skew:</th>          <td> 1.627</td>  <th>  Prob(JB):          </th> <td>5.90e-98</td>\n",
       "</tr>\n",
       "<tr>\n",
       "  <th>Kurtosis:</th>      <td> 7.034</td>  <th>  Cond. No.          </th> <td>    1.70</td>\n",
       "</tr>\n",
       "</table><br/><br/>Notes:<br/>[1] Standard Errors assume that the covariance matrix of the errors is correctly specified."
      ],
      "text/plain": [
       "<class 'statsmodels.iolib.summary.Summary'>\n",
       "\"\"\"\n",
       "                            OLS Regression Results                            \n",
       "==============================================================================\n",
       "Dep. Variable:        deaths_per_100k   R-squared:                       0.015\n",
       "Model:                            OLS   Adj. R-squared:                  0.012\n",
       "Method:                 Least Squares   F-statistic:                     5.893\n",
       "Date:                Thu, 25 Nov 2021   Prob (F-statistic):             0.0156\n",
       "Time:                        15:52:47   Log-Likelihood:                -565.33\n",
       "No. Observations:                 400   AIC:                             1135.\n",
       "Df Residuals:                     398   BIC:                             1143.\n",
       "Df Model:                           1                                         \n",
       "Covariance Type:            nonrobust                                         \n",
       "=================================================================================\n",
       "                    coef    std err          t      P>|t|      [0.025      0.975]\n",
       "---------------------------------------------------------------------------------\n",
       "Intercept         0.2188      0.051      4.322      0.000       0.119       0.318\n",
       "O3_annualMean     0.0747      0.031      2.427      0.016       0.014       0.135\n",
       "==============================================================================\n",
       "Omnibus:                      141.073   Durbin-Watson:                   2.112\n",
       "Prob(Omnibus):                  0.000   Jarque-Bera (JB):              447.758\n",
       "Skew:                           1.627   Prob(JB):                     5.90e-98\n",
       "Kurtosis:                       7.034   Cond. No.                         1.70\n",
       "==============================================================================\n",
       "\n",
       "Notes:\n",
       "[1] Standard Errors assume that the covariance matrix of the errors is correctly specified.\n",
       "\"\"\""
      ]
     },
     "execution_count": 25,
     "metadata": {},
     "output_type": "execute_result"
    }
   ],
   "source": [
    "model = smf.ols(formula = 'deaths_per_100k ~ O3_annualMean', data = df_covid_AP_2019).fit()\n",
    "model.summary()"
   ]
  },
  {
   "cell_type": "code",
   "execution_count": 26,
   "id": "daf7bbfb",
   "metadata": {
    "hidden": true
   },
   "outputs": [
    {
     "data": {
      "text/plain": [
       "0.9944036748745454"
      ]
     },
     "execution_count": 26,
     "metadata": {},
     "output_type": "execute_result"
    }
   ],
   "source": [
    "RMSE = np.sqrt((model.resid**2).mean())\n",
    "RMSE"
   ]
  },
  {
   "cell_type": "markdown",
   "id": "0134a019",
   "metadata": {
    "hidden": true
   },
   "source": [
    "### PM2.5"
   ]
  },
  {
   "cell_type": "code",
   "execution_count": 27,
   "id": "356c7131",
   "metadata": {
    "hidden": true,
    "scrolled": false
   },
   "outputs": [
    {
     "data": {
      "text/html": [
       "<table class=\"simpletable\">\n",
       "<caption>OLS Regression Results</caption>\n",
       "<tr>\n",
       "  <th>Dep. Variable:</th>     <td>deaths_per_100k</td> <th>  R-squared:         </th> <td>   0.001</td>\n",
       "</tr>\n",
       "<tr>\n",
       "  <th>Model:</th>                   <td>OLS</td>       <th>  Adj. R-squared:    </th> <td>  -0.001</td>\n",
       "</tr>\n",
       "<tr>\n",
       "  <th>Method:</th>             <td>Least Squares</td>  <th>  F-statistic:       </th> <td>  0.5195</td>\n",
       "</tr>\n",
       "<tr>\n",
       "  <th>Date:</th>             <td>Thu, 25 Nov 2021</td> <th>  Prob (F-statistic):</th>  <td> 0.471</td> \n",
       "</tr>\n",
       "<tr>\n",
       "  <th>Time:</th>                 <td>15:52:47</td>     <th>  Log-Likelihood:    </th> <td> -568.01</td>\n",
       "</tr>\n",
       "<tr>\n",
       "  <th>No. Observations:</th>      <td>   400</td>      <th>  AIC:               </th> <td>   1140.</td>\n",
       "</tr>\n",
       "<tr>\n",
       "  <th>Df Residuals:</th>          <td>   398</td>      <th>  BIC:               </th> <td>   1148.</td>\n",
       "</tr>\n",
       "<tr>\n",
       "  <th>Df Model:</th>              <td>     1</td>      <th>                     </th>     <td> </td>   \n",
       "</tr>\n",
       "<tr>\n",
       "  <th>Covariance Type:</th>      <td>nonrobust</td>    <th>                     </th>     <td> </td>   \n",
       "</tr>\n",
       "</table>\n",
       "<table class=\"simpletable\">\n",
       "<tr>\n",
       "          <td></td>            <th>coef</th>     <th>std err</th>      <th>t</th>      <th>P>|t|</th>  <th>[0.025</th>    <th>0.975]</th>  \n",
       "</tr>\n",
       "<tr>\n",
       "  <th>Intercept</th>        <td>    0.2499</td> <td>    0.052</td> <td>    4.806</td> <td> 0.000</td> <td>    0.148</td> <td>    0.352</td>\n",
       "</tr>\n",
       "<tr>\n",
       "  <th>PM2_5_annualMean</th> <td>    0.0171</td> <td>    0.024</td> <td>    0.721</td> <td> 0.471</td> <td>   -0.030</td> <td>    0.064</td>\n",
       "</tr>\n",
       "</table>\n",
       "<table class=\"simpletable\">\n",
       "<tr>\n",
       "  <th>Omnibus:</th>       <td>150.330</td> <th>  Durbin-Watson:     </th> <td>   2.116</td> \n",
       "</tr>\n",
       "<tr>\n",
       "  <th>Prob(Omnibus):</th> <td> 0.000</td>  <th>  Jarque-Bera (JB):  </th> <td> 503.425</td> \n",
       "</tr>\n",
       "<tr>\n",
       "  <th>Skew:</th>          <td> 1.721</td>  <th>  Prob(JB):          </th> <td>4.81e-110</td>\n",
       "</tr>\n",
       "<tr>\n",
       "  <th>Kurtosis:</th>      <td> 7.285</td>  <th>  Cond. No.          </th> <td>    2.31</td> \n",
       "</tr>\n",
       "</table><br/><br/>Notes:<br/>[1] Standard Errors assume that the covariance matrix of the errors is correctly specified."
      ],
      "text/plain": [
       "<class 'statsmodels.iolib.summary.Summary'>\n",
       "\"\"\"\n",
       "                            OLS Regression Results                            \n",
       "==============================================================================\n",
       "Dep. Variable:        deaths_per_100k   R-squared:                       0.001\n",
       "Model:                            OLS   Adj. R-squared:                 -0.001\n",
       "Method:                 Least Squares   F-statistic:                    0.5195\n",
       "Date:                Thu, 25 Nov 2021   Prob (F-statistic):              0.471\n",
       "Time:                        15:52:47   Log-Likelihood:                -568.01\n",
       "No. Observations:                 400   AIC:                             1140.\n",
       "Df Residuals:                     398   BIC:                             1148.\n",
       "Df Model:                           1                                         \n",
       "Covariance Type:            nonrobust                                         \n",
       "====================================================================================\n",
       "                       coef    std err          t      P>|t|      [0.025      0.975]\n",
       "------------------------------------------------------------------------------------\n",
       "Intercept            0.2499      0.052      4.806      0.000       0.148       0.352\n",
       "PM2_5_annualMean     0.0171      0.024      0.721      0.471      -0.030       0.064\n",
       "==============================================================================\n",
       "Omnibus:                      150.330   Durbin-Watson:                   2.116\n",
       "Prob(Omnibus):                  0.000   Jarque-Bera (JB):              503.425\n",
       "Skew:                           1.721   Prob(JB):                    4.81e-110\n",
       "Kurtosis:                       7.285   Cond. No.                         2.31\n",
       "==============================================================================\n",
       "\n",
       "Notes:\n",
       "[1] Standard Errors assume that the covariance matrix of the errors is correctly specified.\n",
       "\"\"\""
      ]
     },
     "execution_count": 27,
     "metadata": {},
     "output_type": "execute_result"
    }
   ],
   "source": [
    "model = smf.ols(formula = 'deaths_per_100k ~ PM2_5_annualMean', data = df_covid_AP_2019).fit()\n",
    "model.summary()"
   ]
  },
  {
   "cell_type": "code",
   "execution_count": 28,
   "id": "e5d01cc4",
   "metadata": {
    "hidden": true
   },
   "outputs": [
    {
     "data": {
      "text/plain": [
       "1.0010848709133817"
      ]
     },
     "execution_count": 28,
     "metadata": {},
     "output_type": "execute_result"
    }
   ],
   "source": [
    "RMSE = np.sqrt((model.resid**2).mean())\n",
    "RMSE"
   ]
  },
  {
   "cell_type": "markdown",
   "id": "a142b5af",
   "metadata": {
    "hidden": true
   },
   "source": [
    "### PM10"
   ]
  },
  {
   "cell_type": "code",
   "execution_count": 29,
   "id": "fb23f2cc",
   "metadata": {
    "hidden": true,
    "scrolled": true
   },
   "outputs": [
    {
     "data": {
      "text/html": [
       "<table class=\"simpletable\">\n",
       "<caption>OLS Regression Results</caption>\n",
       "<tr>\n",
       "  <th>Dep. Variable:</th>     <td>deaths_per_100k</td> <th>  R-squared:         </th> <td>   0.003</td>\n",
       "</tr>\n",
       "<tr>\n",
       "  <th>Model:</th>                   <td>OLS</td>       <th>  Adj. R-squared:    </th> <td>   0.001</td>\n",
       "</tr>\n",
       "<tr>\n",
       "  <th>Method:</th>             <td>Least Squares</td>  <th>  F-statistic:       </th> <td>   1.210</td>\n",
       "</tr>\n",
       "<tr>\n",
       "  <th>Date:</th>             <td>Thu, 25 Nov 2021</td> <th>  Prob (F-statistic):</th>  <td> 0.272</td> \n",
       "</tr>\n",
       "<tr>\n",
       "  <th>Time:</th>                 <td>15:52:47</td>     <th>  Log-Likelihood:    </th> <td> -567.66</td>\n",
       "</tr>\n",
       "<tr>\n",
       "  <th>No. Observations:</th>      <td>   400</td>      <th>  AIC:               </th> <td>   1139.</td>\n",
       "</tr>\n",
       "<tr>\n",
       "  <th>Df Residuals:</th>          <td>   398</td>      <th>  BIC:               </th> <td>   1147.</td>\n",
       "</tr>\n",
       "<tr>\n",
       "  <th>Df Model:</th>              <td>     1</td>      <th>                     </th>     <td> </td>   \n",
       "</tr>\n",
       "<tr>\n",
       "  <th>Covariance Type:</th>      <td>nonrobust</td>    <th>                     </th>     <td> </td>   \n",
       "</tr>\n",
       "</table>\n",
       "<table class=\"simpletable\">\n",
       "<tr>\n",
       "         <td></td>            <th>coef</th>     <th>std err</th>      <th>t</th>      <th>P>|t|</th>  <th>[0.025</th>    <th>0.975]</th>  \n",
       "</tr>\n",
       "<tr>\n",
       "  <th>Intercept</th>       <td>    0.2240</td> <td>    0.052</td> <td>    4.287</td> <td> 0.000</td> <td>    0.121</td> <td>    0.327</td>\n",
       "</tr>\n",
       "<tr>\n",
       "  <th>PM10_annualMean</th> <td>   -0.0564</td> <td>    0.051</td> <td>   -1.100</td> <td> 0.272</td> <td>   -0.157</td> <td>    0.044</td>\n",
       "</tr>\n",
       "</table>\n",
       "<table class=\"simpletable\">\n",
       "<tr>\n",
       "  <th>Omnibus:</th>       <td>152.501</td> <th>  Durbin-Watson:     </th> <td>   2.111</td> \n",
       "</tr>\n",
       "<tr>\n",
       "  <th>Prob(Omnibus):</th> <td> 0.000</td>  <th>  Jarque-Bera (JB):  </th> <td> 525.876</td> \n",
       "</tr>\n",
       "<tr>\n",
       "  <th>Skew:</th>          <td> 1.734</td>  <th>  Prob(JB):          </th> <td>6.42e-115</td>\n",
       "</tr>\n",
       "<tr>\n",
       "  <th>Kurtosis:</th>      <td> 7.418</td>  <th>  Cond. No.          </th> <td>    1.34</td> \n",
       "</tr>\n",
       "</table><br/><br/>Notes:<br/>[1] Standard Errors assume that the covariance matrix of the errors is correctly specified."
      ],
      "text/plain": [
       "<class 'statsmodels.iolib.summary.Summary'>\n",
       "\"\"\"\n",
       "                            OLS Regression Results                            \n",
       "==============================================================================\n",
       "Dep. Variable:        deaths_per_100k   R-squared:                       0.003\n",
       "Model:                            OLS   Adj. R-squared:                  0.001\n",
       "Method:                 Least Squares   F-statistic:                     1.210\n",
       "Date:                Thu, 25 Nov 2021   Prob (F-statistic):              0.272\n",
       "Time:                        15:52:47   Log-Likelihood:                -567.66\n",
       "No. Observations:                 400   AIC:                             1139.\n",
       "Df Residuals:                     398   BIC:                             1147.\n",
       "Df Model:                           1                                         \n",
       "Covariance Type:            nonrobust                                         \n",
       "===================================================================================\n",
       "                      coef    std err          t      P>|t|      [0.025      0.975]\n",
       "-----------------------------------------------------------------------------------\n",
       "Intercept           0.2240      0.052      4.287      0.000       0.121       0.327\n",
       "PM10_annualMean    -0.0564      0.051     -1.100      0.272      -0.157       0.044\n",
       "==============================================================================\n",
       "Omnibus:                      152.501   Durbin-Watson:                   2.111\n",
       "Prob(Omnibus):                  0.000   Jarque-Bera (JB):              525.876\n",
       "Skew:                           1.734   Prob(JB):                    6.42e-115\n",
       "Kurtosis:                       7.418   Cond. No.                         1.34\n",
       "==============================================================================\n",
       "\n",
       "Notes:\n",
       "[1] Standard Errors assume that the covariance matrix of the errors is correctly specified.\n",
       "\"\"\""
      ]
     },
     "execution_count": 29,
     "metadata": {},
     "output_type": "execute_result"
    }
   ],
   "source": [
    "model = smf.ols(formula = 'deaths_per_100k ~ PM10_annualMean', data = df_covid_AP_2019).fit()\n",
    "model.summary()"
   ]
  },
  {
   "cell_type": "code",
   "execution_count": 30,
   "id": "703256e9",
   "metadata": {
    "hidden": true
   },
   "outputs": [
    {
     "data": {
      "text/plain": [
       "1.000219336166327"
      ]
     },
     "execution_count": 30,
     "metadata": {},
     "output_type": "execute_result"
    }
   ],
   "source": [
    "RMSE = np.sqrt((model.resid**2).mean())\n",
    "RMSE"
   ]
  },
  {
   "cell_type": "markdown",
   "id": "1e39d698",
   "metadata": {
    "hidden": true
   },
   "source": [
    "## Multivariate linear regression"
   ]
  },
  {
   "cell_type": "code",
   "execution_count": 72,
   "id": "0edb4eba",
   "metadata": {
    "hidden": true,
    "scrolled": false
   },
   "outputs": [
    {
     "data": {
      "text/html": [
       "<table class=\"simpletable\">\n",
       "<caption>OLS Regression Results</caption>\n",
       "<tr>\n",
       "  <th>Dep. Variable:</th>     <td>deaths_per_100k</td> <th>  R-squared:         </th> <td>   0.360</td>\n",
       "</tr>\n",
       "<tr>\n",
       "  <th>Model:</th>                   <td>OLS</td>       <th>  Adj. R-squared:    </th> <td>   0.349</td>\n",
       "</tr>\n",
       "<tr>\n",
       "  <th>Method:</th>             <td>Least Squares</td>  <th>  F-statistic:       </th> <td>   31.51</td>\n",
       "</tr>\n",
       "<tr>\n",
       "  <th>Date:</th>             <td>Thu, 25 Nov 2021</td> <th>  Prob (F-statistic):</th> <td>1.32e-34</td>\n",
       "</tr>\n",
       "<tr>\n",
       "  <th>Time:</th>                 <td>16:14:46</td>     <th>  Log-Likelihood:    </th> <td> -478.99</td>\n",
       "</tr>\n",
       "<tr>\n",
       "  <th>No. Observations:</th>      <td>   400</td>      <th>  AIC:               </th> <td>   974.0</td>\n",
       "</tr>\n",
       "<tr>\n",
       "  <th>Df Residuals:</th>          <td>   392</td>      <th>  BIC:               </th> <td>   1006.</td>\n",
       "</tr>\n",
       "<tr>\n",
       "  <th>Df Model:</th>              <td>     7</td>      <th>                     </th>     <td> </td>   \n",
       "</tr>\n",
       "<tr>\n",
       "  <th>Covariance Type:</th>      <td>nonrobust</td>    <th>                     </th>     <td> </td>   \n",
       "</tr>\n",
       "</table>\n",
       "<table class=\"simpletable\">\n",
       "<tr>\n",
       "           <td></td>             <th>coef</th>     <th>std err</th>      <th>t</th>      <th>P>|t|</th>  <th>[0.025</th>    <th>0.975]</th>  \n",
       "</tr>\n",
       "<tr>\n",
       "  <th>Intercept</th>          <td>    0.4116</td> <td>    0.049</td> <td>    8.329</td> <td> 0.000</td> <td>    0.314</td> <td>    0.509</td>\n",
       "</tr>\n",
       "<tr>\n",
       "  <th>NO2_annualMean</th>     <td>   -0.0228</td> <td>    0.073</td> <td>   -0.311</td> <td> 0.756</td> <td>   -0.167</td> <td>    0.121</td>\n",
       "</tr>\n",
       "<tr>\n",
       "  <th>NO_annualMean</th>      <td>    0.0983</td> <td>    0.076</td> <td>    1.295</td> <td> 0.196</td> <td>   -0.051</td> <td>    0.248</td>\n",
       "</tr>\n",
       "<tr>\n",
       "  <th>O3_annualMean</th>      <td>    0.0627</td> <td>    0.036</td> <td>    1.758</td> <td> 0.080</td> <td>   -0.007</td> <td>    0.133</td>\n",
       "</tr>\n",
       "<tr>\n",
       "  <th>PM10_annualMean</th>    <td>    0.0263</td> <td>    0.058</td> <td>    0.452</td> <td> 0.652</td> <td>   -0.088</td> <td>    0.141</td>\n",
       "</tr>\n",
       "<tr>\n",
       "  <th>PM2_5_annualMean</th>   <td>    0.0526</td> <td>    0.022</td> <td>    2.425</td> <td> 0.016</td> <td>    0.010</td> <td>    0.095</td>\n",
       "</tr>\n",
       "<tr>\n",
       "  <th>Fully_vaccinated</th>   <td>   -0.6428</td> <td>    0.045</td> <td>  -14.346</td> <td> 0.000</td> <td>   -0.731</td> <td>   -0.555</td>\n",
       "</tr>\n",
       "<tr>\n",
       "  <th>Population_density</th> <td>    0.0565</td> <td>    0.037</td> <td>    1.517</td> <td> 0.130</td> <td>   -0.017</td> <td>    0.130</td>\n",
       "</tr>\n",
       "</table>\n",
       "<table class=\"simpletable\">\n",
       "<tr>\n",
       "  <th>Omnibus:</th>       <td>91.540</td> <th>  Durbin-Watson:     </th> <td>   1.953</td>\n",
       "</tr>\n",
       "<tr>\n",
       "  <th>Prob(Omnibus):</th> <td> 0.000</td> <th>  Jarque-Bera (JB):  </th> <td> 215.404</td>\n",
       "</tr>\n",
       "<tr>\n",
       "  <th>Skew:</th>          <td> 1.144</td> <th>  Prob(JB):          </th> <td>1.68e-47</td>\n",
       "</tr>\n",
       "<tr>\n",
       "  <th>Kurtosis:</th>      <td> 5.773</td> <th>  Cond. No.          </th> <td>    6.32</td>\n",
       "</tr>\n",
       "</table><br/><br/>Notes:<br/>[1] Standard Errors assume that the covariance matrix of the errors is correctly specified."
      ],
      "text/plain": [
       "<class 'statsmodels.iolib.summary.Summary'>\n",
       "\"\"\"\n",
       "                            OLS Regression Results                            \n",
       "==============================================================================\n",
       "Dep. Variable:        deaths_per_100k   R-squared:                       0.360\n",
       "Model:                            OLS   Adj. R-squared:                  0.349\n",
       "Method:                 Least Squares   F-statistic:                     31.51\n",
       "Date:                Thu, 25 Nov 2021   Prob (F-statistic):           1.32e-34\n",
       "Time:                        16:14:46   Log-Likelihood:                -478.99\n",
       "No. Observations:                 400   AIC:                             974.0\n",
       "Df Residuals:                     392   BIC:                             1006.\n",
       "Df Model:                           7                                         \n",
       "Covariance Type:            nonrobust                                         \n",
       "======================================================================================\n",
       "                         coef    std err          t      P>|t|      [0.025      0.975]\n",
       "--------------------------------------------------------------------------------------\n",
       "Intercept              0.4116      0.049      8.329      0.000       0.314       0.509\n",
       "NO2_annualMean        -0.0228      0.073     -0.311      0.756      -0.167       0.121\n",
       "NO_annualMean          0.0983      0.076      1.295      0.196      -0.051       0.248\n",
       "O3_annualMean          0.0627      0.036      1.758      0.080      -0.007       0.133\n",
       "PM10_annualMean        0.0263      0.058      0.452      0.652      -0.088       0.141\n",
       "PM2_5_annualMean       0.0526      0.022      2.425      0.016       0.010       0.095\n",
       "Fully_vaccinated      -0.6428      0.045    -14.346      0.000      -0.731      -0.555\n",
       "Population_density     0.0565      0.037      1.517      0.130      -0.017       0.130\n",
       "==============================================================================\n",
       "Omnibus:                       91.540   Durbin-Watson:                   1.953\n",
       "Prob(Omnibus):                  0.000   Jarque-Bera (JB):              215.404\n",
       "Skew:                           1.144   Prob(JB):                     1.68e-47\n",
       "Kurtosis:                       5.773   Cond. No.                         6.32\n",
       "==============================================================================\n",
       "\n",
       "Notes:\n",
       "[1] Standard Errors assume that the covariance matrix of the errors is correctly specified.\n",
       "\"\"\""
      ]
     },
     "execution_count": 72,
     "metadata": {},
     "output_type": "execute_result"
    }
   ],
   "source": [
    "model = smf.ols(formula = 'deaths_per_100k ~ NO2_annualMean + NO_annualMean + O3_annualMean + PM10_annualMean + PM2_5_annualMean + Fully_vaccinated + Population_density', data = df_covid_AP_2019).fit()\n",
    "model.summary()"
   ]
  },
  {
   "cell_type": "code",
   "execution_count": 62,
   "id": "3d512ded",
   "metadata": {
    "hidden": true
   },
   "outputs": [
    {
     "data": {
      "text/plain": [
       "0.8013431616309021"
      ]
     },
     "execution_count": 62,
     "metadata": {},
     "output_type": "execute_result"
    }
   ],
   "source": [
    "RMSE = np.sqrt((model.resid**2).mean())\n",
    "RMSE"
   ]
  },
  {
   "cell_type": "markdown",
   "id": "b8f962ef",
   "metadata": {
    "heading_collapsed": true
   },
   "source": [
    "# OLS: cases per 100k"
   ]
  },
  {
   "cell_type": "markdown",
   "id": "578bca96",
   "metadata": {
    "heading_collapsed": true,
    "hidden": true
   },
   "source": [
    "## Univariate linear regression"
   ]
  },
  {
   "cell_type": "markdown",
   "id": "123f8012",
   "metadata": {
    "hidden": true
   },
   "source": [
    "### Vaccination status"
   ]
  },
  {
   "cell_type": "code",
   "execution_count": 33,
   "id": "47c9bdcb",
   "metadata": {
    "hidden": true,
    "scrolled": false
   },
   "outputs": [
    {
     "data": {
      "text/html": [
       "<table class=\"simpletable\">\n",
       "<caption>OLS Regression Results</caption>\n",
       "<tr>\n",
       "  <th>Dep. Variable:</th>     <td>cases_per_100k</td>  <th>  R-squared:         </th> <td>   0.241</td>\n",
       "</tr>\n",
       "<tr>\n",
       "  <th>Model:</th>                   <td>OLS</td>       <th>  Adj. R-squared:    </th> <td>   0.239</td>\n",
       "</tr>\n",
       "<tr>\n",
       "  <th>Method:</th>             <td>Least Squares</td>  <th>  F-statistic:       </th> <td>   126.5</td>\n",
       "</tr>\n",
       "<tr>\n",
       "  <th>Date:</th>             <td>Thu, 25 Nov 2021</td> <th>  Prob (F-statistic):</th> <td>1.15e-25</td>\n",
       "</tr>\n",
       "<tr>\n",
       "  <th>Time:</th>                 <td>15:52:47</td>     <th>  Log-Likelihood:    </th> <td> -441.09</td>\n",
       "</tr>\n",
       "<tr>\n",
       "  <th>No. Observations:</th>      <td>   400</td>      <th>  AIC:               </th> <td>   886.2</td>\n",
       "</tr>\n",
       "<tr>\n",
       "  <th>Df Residuals:</th>          <td>   398</td>      <th>  BIC:               </th> <td>   894.2</td>\n",
       "</tr>\n",
       "<tr>\n",
       "  <th>Df Model:</th>              <td>     1</td>      <th>                     </th>     <td> </td>   \n",
       "</tr>\n",
       "<tr>\n",
       "  <th>Covariance Type:</th>      <td>nonrobust</td>    <th>                     </th>     <td> </td>   \n",
       "</tr>\n",
       "</table>\n",
       "<table class=\"simpletable\">\n",
       "<tr>\n",
       "          <td></td>            <th>coef</th>     <th>std err</th>      <th>t</th>      <th>P>|t|</th>  <th>[0.025</th>    <th>0.975]</th>  \n",
       "</tr>\n",
       "<tr>\n",
       "  <th>Intercept</th>        <td>    0.1749</td> <td>    0.038</td> <td>    4.619</td> <td> 0.000</td> <td>    0.100</td> <td>    0.249</td>\n",
       "</tr>\n",
       "<tr>\n",
       "  <th>Fully_vaccinated</th> <td>   -0.4334</td> <td>    0.039</td> <td>  -11.246</td> <td> 0.000</td> <td>   -0.509</td> <td>   -0.358</td>\n",
       "</tr>\n",
       "</table>\n",
       "<table class=\"simpletable\">\n",
       "<tr>\n",
       "  <th>Omnibus:</th>       <td> 9.286</td> <th>  Durbin-Watson:     </th> <td>   1.865</td>\n",
       "</tr>\n",
       "<tr>\n",
       "  <th>Prob(Omnibus):</th> <td> 0.010</td> <th>  Jarque-Bera (JB):  </th> <td>   6.798</td>\n",
       "</tr>\n",
       "<tr>\n",
       "  <th>Skew:</th>          <td> 0.203</td> <th>  Prob(JB):          </th> <td>  0.0334</td>\n",
       "</tr>\n",
       "<tr>\n",
       "  <th>Kurtosis:</th>      <td> 2.507</td> <th>  Cond. No.          </th> <td>    1.31</td>\n",
       "</tr>\n",
       "</table><br/><br/>Notes:<br/>[1] Standard Errors assume that the covariance matrix of the errors is correctly specified."
      ],
      "text/plain": [
       "<class 'statsmodels.iolib.summary.Summary'>\n",
       "\"\"\"\n",
       "                            OLS Regression Results                            \n",
       "==============================================================================\n",
       "Dep. Variable:         cases_per_100k   R-squared:                       0.241\n",
       "Model:                            OLS   Adj. R-squared:                  0.239\n",
       "Method:                 Least Squares   F-statistic:                     126.5\n",
       "Date:                Thu, 25 Nov 2021   Prob (F-statistic):           1.15e-25\n",
       "Time:                        15:52:47   Log-Likelihood:                -441.09\n",
       "No. Observations:                 400   AIC:                             886.2\n",
       "Df Residuals:                     398   BIC:                             894.2\n",
       "Df Model:                           1                                         \n",
       "Covariance Type:            nonrobust                                         \n",
       "====================================================================================\n",
       "                       coef    std err          t      P>|t|      [0.025      0.975]\n",
       "------------------------------------------------------------------------------------\n",
       "Intercept            0.1749      0.038      4.619      0.000       0.100       0.249\n",
       "Fully_vaccinated    -0.4334      0.039    -11.246      0.000      -0.509      -0.358\n",
       "==============================================================================\n",
       "Omnibus:                        9.286   Durbin-Watson:                   1.865\n",
       "Prob(Omnibus):                  0.010   Jarque-Bera (JB):                6.798\n",
       "Skew:                           0.203   Prob(JB):                       0.0334\n",
       "Kurtosis:                       2.507   Cond. No.                         1.31\n",
       "==============================================================================\n",
       "\n",
       "Notes:\n",
       "[1] Standard Errors assume that the covariance matrix of the errors is correctly specified.\n",
       "\"\"\""
      ]
     },
     "execution_count": 33,
     "metadata": {},
     "output_type": "execute_result"
    }
   ],
   "source": [
    "model = smf.ols(formula = 'cases_per_100k ~ Fully_vaccinated', data = df_covid_AP_2019).fit()\n",
    "model.summary()"
   ]
  },
  {
   "cell_type": "code",
   "execution_count": 34,
   "id": "bdb66d2e",
   "metadata": {
    "hidden": true
   },
   "outputs": [
    {
     "data": {
      "text/plain": [
       "0.7289095065444727"
      ]
     },
     "execution_count": 34,
     "metadata": {},
     "output_type": "execute_result"
    }
   ],
   "source": [
    "RMSE = np.sqrt((model.resid**2).mean())\n",
    "RMSE"
   ]
  },
  {
   "cell_type": "markdown",
   "id": "73c6c642",
   "metadata": {
    "hidden": true
   },
   "source": [
    "### Population density"
   ]
  },
  {
   "cell_type": "code",
   "execution_count": 35,
   "id": "b611e7ef",
   "metadata": {
    "hidden": true,
    "scrolled": true
   },
   "outputs": [
    {
     "data": {
      "text/html": [
       "<table class=\"simpletable\">\n",
       "<caption>OLS Regression Results</caption>\n",
       "<tr>\n",
       "  <th>Dep. Variable:</th>     <td>cases_per_100k</td>  <th>  R-squared:         </th> <td>   0.010</td>\n",
       "</tr>\n",
       "<tr>\n",
       "  <th>Model:</th>                   <td>OLS</td>       <th>  Adj. R-squared:    </th> <td>   0.008</td>\n",
       "</tr>\n",
       "<tr>\n",
       "  <th>Method:</th>             <td>Least Squares</td>  <th>  F-statistic:       </th> <td>   4.040</td>\n",
       "</tr>\n",
       "<tr>\n",
       "  <th>Date:</th>             <td>Thu, 25 Nov 2021</td> <th>  Prob (F-statistic):</th>  <td>0.0451</td> \n",
       "</tr>\n",
       "<tr>\n",
       "  <th>Time:</th>                 <td>15:52:47</td>     <th>  Log-Likelihood:    </th> <td> -494.26</td>\n",
       "</tr>\n",
       "<tr>\n",
       "  <th>No. Observations:</th>      <td>   400</td>      <th>  AIC:               </th> <td>   992.5</td>\n",
       "</tr>\n",
       "<tr>\n",
       "  <th>Df Residuals:</th>          <td>   398</td>      <th>  BIC:               </th> <td>   1000.</td>\n",
       "</tr>\n",
       "<tr>\n",
       "  <th>Df Model:</th>              <td>     1</td>      <th>                     </th>     <td> </td>   \n",
       "</tr>\n",
       "<tr>\n",
       "  <th>Covariance Type:</th>      <td>nonrobust</td>    <th>                     </th>     <td> </td>   \n",
       "</tr>\n",
       "</table>\n",
       "<table class=\"simpletable\">\n",
       "<tr>\n",
       "           <td></td>             <th>coef</th>     <th>std err</th>      <th>t</th>      <th>P>|t|</th>  <th>[0.025</th>    <th>0.975]</th>  \n",
       "</tr>\n",
       "<tr>\n",
       "  <th>Intercept</th>          <td>    0.0233</td> <td>    0.046</td> <td>    0.505</td> <td> 0.614</td> <td>   -0.068</td> <td>    0.114</td>\n",
       "</tr>\n",
       "<tr>\n",
       "  <th>Population_density</th> <td>    0.0660</td> <td>    0.033</td> <td>    2.010</td> <td> 0.045</td> <td>    0.001</td> <td>    0.131</td>\n",
       "</tr>\n",
       "</table>\n",
       "<table class=\"simpletable\">\n",
       "<tr>\n",
       "  <th>Omnibus:</th>       <td>19.867</td> <th>  Durbin-Watson:     </th> <td>   1.980</td>\n",
       "</tr>\n",
       "<tr>\n",
       "  <th>Prob(Omnibus):</th> <td> 0.000</td> <th>  Jarque-Bera (JB):  </th> <td>  21.482</td>\n",
       "</tr>\n",
       "<tr>\n",
       "  <th>Skew:</th>          <td> 0.532</td> <th>  Prob(JB):          </th> <td>2.16e-05</td>\n",
       "</tr>\n",
       "<tr>\n",
       "  <th>Kurtosis:</th>      <td> 3.397</td> <th>  Cond. No.          </th> <td>    1.79</td>\n",
       "</tr>\n",
       "</table><br/><br/>Notes:<br/>[1] Standard Errors assume that the covariance matrix of the errors is correctly specified."
      ],
      "text/plain": [
       "<class 'statsmodels.iolib.summary.Summary'>\n",
       "\"\"\"\n",
       "                            OLS Regression Results                            \n",
       "==============================================================================\n",
       "Dep. Variable:         cases_per_100k   R-squared:                       0.010\n",
       "Model:                            OLS   Adj. R-squared:                  0.008\n",
       "Method:                 Least Squares   F-statistic:                     4.040\n",
       "Date:                Thu, 25 Nov 2021   Prob (F-statistic):             0.0451\n",
       "Time:                        15:52:47   Log-Likelihood:                -494.26\n",
       "No. Observations:                 400   AIC:                             992.5\n",
       "Df Residuals:                     398   BIC:                             1000.\n",
       "Df Model:                           1                                         \n",
       "Covariance Type:            nonrobust                                         \n",
       "======================================================================================\n",
       "                         coef    std err          t      P>|t|      [0.025      0.975]\n",
       "--------------------------------------------------------------------------------------\n",
       "Intercept              0.0233      0.046      0.505      0.614      -0.068       0.114\n",
       "Population_density     0.0660      0.033      2.010      0.045       0.001       0.131\n",
       "==============================================================================\n",
       "Omnibus:                       19.867   Durbin-Watson:                   1.980\n",
       "Prob(Omnibus):                  0.000   Jarque-Bera (JB):               21.482\n",
       "Skew:                           0.532   Prob(JB):                     2.16e-05\n",
       "Kurtosis:                       3.397   Cond. No.                         1.79\n",
       "==============================================================================\n",
       "\n",
       "Notes:\n",
       "[1] Standard Errors assume that the covariance matrix of the errors is correctly specified.\n",
       "\"\"\""
      ]
     },
     "execution_count": 35,
     "metadata": {},
     "output_type": "execute_result"
    }
   ],
   "source": [
    "model = smf.ols(formula = 'cases_per_100k ~ Population_density', data = df_covid_AP_2019).fit()\n",
    "model.summary()"
   ]
  },
  {
   "cell_type": "code",
   "execution_count": 36,
   "id": "f0ae3c5c",
   "metadata": {
    "hidden": true
   },
   "outputs": [
    {
     "data": {
      "text/plain": [
       "0.8325225709089548"
      ]
     },
     "execution_count": 36,
     "metadata": {},
     "output_type": "execute_result"
    }
   ],
   "source": [
    "RMSE = np.sqrt((model.resid**2).mean())\n",
    "RMSE"
   ]
  },
  {
   "cell_type": "markdown",
   "id": "5e6df055",
   "metadata": {
    "hidden": true
   },
   "source": [
    "### NO2"
   ]
  },
  {
   "cell_type": "code",
   "execution_count": 37,
   "id": "802530fe",
   "metadata": {
    "hidden": true,
    "scrolled": false
   },
   "outputs": [
    {
     "data": {
      "text/html": [
       "<table class=\"simpletable\">\n",
       "<caption>OLS Regression Results</caption>\n",
       "<tr>\n",
       "  <th>Dep. Variable:</th>     <td>cases_per_100k</td>  <th>  R-squared:         </th> <td>   0.040</td>\n",
       "</tr>\n",
       "<tr>\n",
       "  <th>Model:</th>                   <td>OLS</td>       <th>  Adj. R-squared:    </th> <td>   0.038</td>\n",
       "</tr>\n",
       "<tr>\n",
       "  <th>Method:</th>             <td>Least Squares</td>  <th>  F-statistic:       </th> <td>   16.55</td>\n",
       "</tr>\n",
       "<tr>\n",
       "  <th>Date:</th>             <td>Thu, 25 Nov 2021</td> <th>  Prob (F-statistic):</th> <td>5.71e-05</td>\n",
       "</tr>\n",
       "<tr>\n",
       "  <th>Time:</th>                 <td>15:52:47</td>     <th>  Log-Likelihood:    </th> <td> -488.13</td>\n",
       "</tr>\n",
       "<tr>\n",
       "  <th>No. Observations:</th>      <td>   400</td>      <th>  AIC:               </th> <td>   980.3</td>\n",
       "</tr>\n",
       "<tr>\n",
       "  <th>Df Residuals:</th>          <td>   398</td>      <th>  BIC:               </th> <td>   988.2</td>\n",
       "</tr>\n",
       "<tr>\n",
       "  <th>Df Model:</th>              <td>     1</td>      <th>                     </th>     <td> </td>   \n",
       "</tr>\n",
       "<tr>\n",
       "  <th>Covariance Type:</th>      <td>nonrobust</td>    <th>                     </th>     <td> </td>   \n",
       "</tr>\n",
       "</table>\n",
       "<table class=\"simpletable\">\n",
       "<tr>\n",
       "         <td></td>           <th>coef</th>     <th>std err</th>      <th>t</th>      <th>P>|t|</th>  <th>[0.025</th>    <th>0.975]</th>  \n",
       "</tr>\n",
       "<tr>\n",
       "  <th>Intercept</th>      <td>    0.0844</td> <td>    0.041</td> <td>    2.037</td> <td> 0.042</td> <td>    0.003</td> <td>    0.166</td>\n",
       "</tr>\n",
       "<tr>\n",
       "  <th>NO2_annualMean</th> <td>    0.1267</td> <td>    0.031</td> <td>    4.069</td> <td> 0.000</td> <td>    0.065</td> <td>    0.188</td>\n",
       "</tr>\n",
       "</table>\n",
       "<table class=\"simpletable\">\n",
       "<tr>\n",
       "  <th>Omnibus:</th>       <td>32.343</td> <th>  Durbin-Watson:     </th> <td>   1.979</td>\n",
       "</tr>\n",
       "<tr>\n",
       "  <th>Prob(Omnibus):</th> <td> 0.000</td> <th>  Jarque-Bera (JB):  </th> <td>  38.625</td>\n",
       "</tr>\n",
       "<tr>\n",
       "  <th>Skew:</th>          <td> 0.684</td> <th>  Prob(JB):          </th> <td>4.10e-09</td>\n",
       "</tr>\n",
       "<tr>\n",
       "  <th>Kurtosis:</th>      <td> 3.669</td> <th>  Cond. No.          </th> <td>    1.37</td>\n",
       "</tr>\n",
       "</table><br/><br/>Notes:<br/>[1] Standard Errors assume that the covariance matrix of the errors is correctly specified."
      ],
      "text/plain": [
       "<class 'statsmodels.iolib.summary.Summary'>\n",
       "\"\"\"\n",
       "                            OLS Regression Results                            \n",
       "==============================================================================\n",
       "Dep. Variable:         cases_per_100k   R-squared:                       0.040\n",
       "Model:                            OLS   Adj. R-squared:                  0.038\n",
       "Method:                 Least Squares   F-statistic:                     16.55\n",
       "Date:                Thu, 25 Nov 2021   Prob (F-statistic):           5.71e-05\n",
       "Time:                        15:52:47   Log-Likelihood:                -488.13\n",
       "No. Observations:                 400   AIC:                             980.3\n",
       "Df Residuals:                     398   BIC:                             988.2\n",
       "Df Model:                           1                                         \n",
       "Covariance Type:            nonrobust                                         \n",
       "==================================================================================\n",
       "                     coef    std err          t      P>|t|      [0.025      0.975]\n",
       "----------------------------------------------------------------------------------\n",
       "Intercept          0.0844      0.041      2.037      0.042       0.003       0.166\n",
       "NO2_annualMean     0.1267      0.031      4.069      0.000       0.065       0.188\n",
       "==============================================================================\n",
       "Omnibus:                       32.343   Durbin-Watson:                   1.979\n",
       "Prob(Omnibus):                  0.000   Jarque-Bera (JB):               38.625\n",
       "Skew:                           0.684   Prob(JB):                     4.10e-09\n",
       "Kurtosis:                       3.669   Cond. No.                         1.37\n",
       "==============================================================================\n",
       "\n",
       "Notes:\n",
       "[1] Standard Errors assume that the covariance matrix of the errors is correctly specified.\n",
       "\"\"\""
      ]
     },
     "execution_count": 37,
     "metadata": {},
     "output_type": "execute_result"
    }
   ],
   "source": [
    "model = smf.ols(formula = 'cases_per_100k ~ NO2_annualMean', data = df_covid_AP_2019).fit()\n",
    "model.summary()"
   ]
  },
  {
   "cell_type": "code",
   "execution_count": 38,
   "id": "0adb579d",
   "metadata": {
    "hidden": true
   },
   "outputs": [
    {
     "data": {
      "text/plain": [
       "0.819861836471156"
      ]
     },
     "execution_count": 38,
     "metadata": {},
     "output_type": "execute_result"
    }
   ],
   "source": [
    "RMSE = np.sqrt((model.resid**2).mean())\n",
    "RMSE"
   ]
  },
  {
   "cell_type": "markdown",
   "id": "fe5452bd",
   "metadata": {
    "hidden": true
   },
   "source": [
    "### NO "
   ]
  },
  {
   "cell_type": "code",
   "execution_count": 39,
   "id": "ef790c16",
   "metadata": {
    "hidden": true,
    "scrolled": false
   },
   "outputs": [
    {
     "data": {
      "text/html": [
       "<table class=\"simpletable\">\n",
       "<caption>OLS Regression Results</caption>\n",
       "<tr>\n",
       "  <th>Dep. Variable:</th>     <td>cases_per_100k</td>  <th>  R-squared:         </th> <td>   0.040</td>\n",
       "</tr>\n",
       "<tr>\n",
       "  <th>Model:</th>                   <td>OLS</td>       <th>  Adj. R-squared:    </th> <td>   0.038</td>\n",
       "</tr>\n",
       "<tr>\n",
       "  <th>Method:</th>             <td>Least Squares</td>  <th>  F-statistic:       </th> <td>   16.74</td>\n",
       "</tr>\n",
       "<tr>\n",
       "  <th>Date:</th>             <td>Thu, 25 Nov 2021</td> <th>  Prob (F-statistic):</th> <td>5.18e-05</td>\n",
       "</tr>\n",
       "<tr>\n",
       "  <th>Time:</th>                 <td>15:52:47</td>     <th>  Log-Likelihood:    </th> <td> -488.04</td>\n",
       "</tr>\n",
       "<tr>\n",
       "  <th>No. Observations:</th>      <td>   400</td>      <th>  AIC:               </th> <td>   980.1</td>\n",
       "</tr>\n",
       "<tr>\n",
       "  <th>Df Residuals:</th>          <td>   398</td>      <th>  BIC:               </th> <td>   988.1</td>\n",
       "</tr>\n",
       "<tr>\n",
       "  <th>Df Model:</th>              <td>     1</td>      <th>                     </th>     <td> </td>   \n",
       "</tr>\n",
       "<tr>\n",
       "  <th>Covariance Type:</th>      <td>nonrobust</td>    <th>                     </th>     <td> </td>   \n",
       "</tr>\n",
       "</table>\n",
       "<table class=\"simpletable\">\n",
       "<tr>\n",
       "        <td></td>           <th>coef</th>     <th>std err</th>      <th>t</th>      <th>P>|t|</th>  <th>[0.025</th>    <th>0.975]</th>  \n",
       "</tr>\n",
       "<tr>\n",
       "  <th>Intercept</th>     <td>    0.1017</td> <td>    0.042</td> <td>    2.414</td> <td> 0.016</td> <td>    0.019</td> <td>    0.185</td>\n",
       "</tr>\n",
       "<tr>\n",
       "  <th>NO_annualMean</th> <td>    0.1556</td> <td>    0.038</td> <td>    4.092</td> <td> 0.000</td> <td>    0.081</td> <td>    0.230</td>\n",
       "</tr>\n",
       "</table>\n",
       "<table class=\"simpletable\">\n",
       "<tr>\n",
       "  <th>Omnibus:</th>       <td>28.026</td> <th>  Durbin-Watson:     </th> <td>   1.979</td>\n",
       "</tr>\n",
       "<tr>\n",
       "  <th>Prob(Omnibus):</th> <td> 0.000</td> <th>  Jarque-Bera (JB):  </th> <td>  32.628</td>\n",
       "</tr>\n",
       "<tr>\n",
       "  <th>Skew:</th>          <td> 0.625</td> <th>  Prob(JB):          </th> <td>8.22e-08</td>\n",
       "</tr>\n",
       "<tr>\n",
       "  <th>Kurtosis:</th>      <td> 3.630</td> <th>  Cond. No.          </th> <td>    1.28</td>\n",
       "</tr>\n",
       "</table><br/><br/>Notes:<br/>[1] Standard Errors assume that the covariance matrix of the errors is correctly specified."
      ],
      "text/plain": [
       "<class 'statsmodels.iolib.summary.Summary'>\n",
       "\"\"\"\n",
       "                            OLS Regression Results                            \n",
       "==============================================================================\n",
       "Dep. Variable:         cases_per_100k   R-squared:                       0.040\n",
       "Model:                            OLS   Adj. R-squared:                  0.038\n",
       "Method:                 Least Squares   F-statistic:                     16.74\n",
       "Date:                Thu, 25 Nov 2021   Prob (F-statistic):           5.18e-05\n",
       "Time:                        15:52:47   Log-Likelihood:                -488.04\n",
       "No. Observations:                 400   AIC:                             980.1\n",
       "Df Residuals:                     398   BIC:                             988.1\n",
       "Df Model:                           1                                         \n",
       "Covariance Type:            nonrobust                                         \n",
       "=================================================================================\n",
       "                    coef    std err          t      P>|t|      [0.025      0.975]\n",
       "---------------------------------------------------------------------------------\n",
       "Intercept         0.1017      0.042      2.414      0.016       0.019       0.185\n",
       "NO_annualMean     0.1556      0.038      4.092      0.000       0.081       0.230\n",
       "==============================================================================\n",
       "Omnibus:                       28.026   Durbin-Watson:                   1.979\n",
       "Prob(Omnibus):                  0.000   Jarque-Bera (JB):               32.628\n",
       "Skew:                           0.625   Prob(JB):                     8.22e-08\n",
       "Kurtosis:                       3.630   Cond. No.                         1.28\n",
       "==============================================================================\n",
       "\n",
       "Notes:\n",
       "[1] Standard Errors assume that the covariance matrix of the errors is correctly specified.\n",
       "\"\"\""
      ]
     },
     "execution_count": 39,
     "metadata": {},
     "output_type": "execute_result"
    }
   ],
   "source": [
    "model = smf.ols(formula = 'cases_per_100k ~ NO_annualMean', data = df_covid_AP_2019).fit()\n",
    "model.summary()"
   ]
  },
  {
   "cell_type": "code",
   "execution_count": 40,
   "id": "2d2055c8",
   "metadata": {
    "hidden": true
   },
   "outputs": [
    {
     "data": {
      "text/plain": [
       "0.8196723460155986"
      ]
     },
     "execution_count": 40,
     "metadata": {},
     "output_type": "execute_result"
    }
   ],
   "source": [
    "RMSE = np.sqrt((model.resid**2).mean())\n",
    "RMSE"
   ]
  },
  {
   "cell_type": "markdown",
   "id": "9e5036e0",
   "metadata": {
    "hidden": true
   },
   "source": [
    "### Ozon"
   ]
  },
  {
   "cell_type": "code",
   "execution_count": 41,
   "id": "29970bc1",
   "metadata": {
    "hidden": true,
    "scrolled": false
   },
   "outputs": [
    {
     "data": {
      "text/html": [
       "<table class=\"simpletable\">\n",
       "<caption>OLS Regression Results</caption>\n",
       "<tr>\n",
       "  <th>Dep. Variable:</th>     <td>cases_per_100k</td>  <th>  R-squared:         </th> <td>   0.000</td>\n",
       "</tr>\n",
       "<tr>\n",
       "  <th>Model:</th>                   <td>OLS</td>       <th>  Adj. R-squared:    </th> <td>  -0.002</td>\n",
       "</tr>\n",
       "<tr>\n",
       "  <th>Method:</th>             <td>Least Squares</td>  <th>  F-statistic:       </th> <td>0.009209</td>\n",
       "</tr>\n",
       "<tr>\n",
       "  <th>Date:</th>             <td>Thu, 25 Nov 2021</td> <th>  Prob (F-statistic):</th>  <td> 0.924</td> \n",
       "</tr>\n",
       "<tr>\n",
       "  <th>Time:</th>                 <td>15:52:47</td>     <th>  Log-Likelihood:    </th> <td> -496.27</td>\n",
       "</tr>\n",
       "<tr>\n",
       "  <th>No. Observations:</th>      <td>   400</td>      <th>  AIC:               </th> <td>   996.5</td>\n",
       "</tr>\n",
       "<tr>\n",
       "  <th>Df Residuals:</th>          <td>   398</td>      <th>  BIC:               </th> <td>   1005.</td>\n",
       "</tr>\n",
       "<tr>\n",
       "  <th>Df Model:</th>              <td>     1</td>      <th>                     </th>     <td> </td>   \n",
       "</tr>\n",
       "<tr>\n",
       "  <th>Covariance Type:</th>      <td>nonrobust</td>    <th>                     </th>     <td> </td>   \n",
       "</tr>\n",
       "</table>\n",
       "<table class=\"simpletable\">\n",
       "<tr>\n",
       "        <td></td>           <th>coef</th>     <th>std err</th>      <th>t</th>      <th>P>|t|</th>  <th>[0.025</th>    <th>0.975]</th>  \n",
       "</tr>\n",
       "<tr>\n",
       "  <th>Intercept</th>     <td>    0.0640</td> <td>    0.043</td> <td>    1.503</td> <td> 0.134</td> <td>   -0.020</td> <td>    0.148</td>\n",
       "</tr>\n",
       "<tr>\n",
       "  <th>O3_annualMean</th> <td>   -0.0025</td> <td>    0.026</td> <td>   -0.096</td> <td> 0.924</td> <td>   -0.053</td> <td>    0.048</td>\n",
       "</tr>\n",
       "</table>\n",
       "<table class=\"simpletable\">\n",
       "<tr>\n",
       "  <th>Omnibus:</th>       <td>14.642</td> <th>  Durbin-Watson:     </th> <td>   1.963</td>\n",
       "</tr>\n",
       "<tr>\n",
       "  <th>Prob(Omnibus):</th> <td> 0.001</td> <th>  Jarque-Bera (JB):  </th> <td>  15.206</td>\n",
       "</tr>\n",
       "<tr>\n",
       "  <th>Skew:</th>          <td> 0.458</td> <th>  Prob(JB):          </th> <td>0.000499</td>\n",
       "</tr>\n",
       "<tr>\n",
       "  <th>Kurtosis:</th>      <td> 3.268</td> <th>  Cond. No.          </th> <td>    1.70</td>\n",
       "</tr>\n",
       "</table><br/><br/>Notes:<br/>[1] Standard Errors assume that the covariance matrix of the errors is correctly specified."
      ],
      "text/plain": [
       "<class 'statsmodels.iolib.summary.Summary'>\n",
       "\"\"\"\n",
       "                            OLS Regression Results                            \n",
       "==============================================================================\n",
       "Dep. Variable:         cases_per_100k   R-squared:                       0.000\n",
       "Model:                            OLS   Adj. R-squared:                 -0.002\n",
       "Method:                 Least Squares   F-statistic:                  0.009209\n",
       "Date:                Thu, 25 Nov 2021   Prob (F-statistic):              0.924\n",
       "Time:                        15:52:47   Log-Likelihood:                -496.27\n",
       "No. Observations:                 400   AIC:                             996.5\n",
       "Df Residuals:                     398   BIC:                             1005.\n",
       "Df Model:                           1                                         \n",
       "Covariance Type:            nonrobust                                         \n",
       "=================================================================================\n",
       "                    coef    std err          t      P>|t|      [0.025      0.975]\n",
       "---------------------------------------------------------------------------------\n",
       "Intercept         0.0640      0.043      1.503      0.134      -0.020       0.148\n",
       "O3_annualMean    -0.0025      0.026     -0.096      0.924      -0.053       0.048\n",
       "==============================================================================\n",
       "Omnibus:                       14.642   Durbin-Watson:                   1.963\n",
       "Prob(Omnibus):                  0.001   Jarque-Bera (JB):               15.206\n",
       "Skew:                           0.458   Prob(JB):                     0.000499\n",
       "Kurtosis:                       3.268   Cond. No.                         1.70\n",
       "==============================================================================\n",
       "\n",
       "Notes:\n",
       "[1] Standard Errors assume that the covariance matrix of the errors is correctly specified.\n",
       "\"\"\""
      ]
     },
     "execution_count": 41,
     "metadata": {},
     "output_type": "execute_result"
    }
   ],
   "source": [
    "model = smf.ols(formula = 'cases_per_100k ~ O3_annualMean', data = df_covid_AP_2019).fit()\n",
    "model.summary()"
   ]
  },
  {
   "cell_type": "code",
   "execution_count": 42,
   "id": "23833ec4",
   "metadata": {
    "hidden": true
   },
   "outputs": [
    {
     "data": {
      "text/plain": [
       "0.836727980915822"
      ]
     },
     "execution_count": 42,
     "metadata": {},
     "output_type": "execute_result"
    }
   ],
   "source": [
    "RMSE = np.sqrt((model.resid**2).mean())\n",
    "RMSE"
   ]
  },
  {
   "cell_type": "markdown",
   "id": "bd11e93a",
   "metadata": {
    "hidden": true
   },
   "source": [
    "### PM2.5"
   ]
  },
  {
   "cell_type": "code",
   "execution_count": 43,
   "id": "293f3b08",
   "metadata": {
    "hidden": true,
    "scrolled": false
   },
   "outputs": [
    {
     "data": {
      "text/html": [
       "<table class=\"simpletable\">\n",
       "<caption>OLS Regression Results</caption>\n",
       "<tr>\n",
       "  <th>Dep. Variable:</th>     <td>cases_per_100k</td>  <th>  R-squared:         </th> <td>   0.005</td>\n",
       "</tr>\n",
       "<tr>\n",
       "  <th>Model:</th>                   <td>OLS</td>       <th>  Adj. R-squared:    </th> <td>   0.002</td>\n",
       "</tr>\n",
       "<tr>\n",
       "  <th>Method:</th>             <td>Least Squares</td>  <th>  F-statistic:       </th> <td>   1.947</td>\n",
       "</tr>\n",
       "<tr>\n",
       "  <th>Date:</th>             <td>Thu, 25 Nov 2021</td> <th>  Prob (F-statistic):</th>  <td> 0.164</td> \n",
       "</tr>\n",
       "<tr>\n",
       "  <th>Time:</th>                 <td>15:52:47</td>     <th>  Log-Likelihood:    </th> <td> -495.30</td>\n",
       "</tr>\n",
       "<tr>\n",
       "  <th>No. Observations:</th>      <td>   400</td>      <th>  AIC:               </th> <td>   994.6</td>\n",
       "</tr>\n",
       "<tr>\n",
       "  <th>Df Residuals:</th>          <td>   398</td>      <th>  BIC:               </th> <td>   1003.</td>\n",
       "</tr>\n",
       "<tr>\n",
       "  <th>Df Model:</th>              <td>     1</td>      <th>                     </th>     <td> </td>   \n",
       "</tr>\n",
       "<tr>\n",
       "  <th>Covariance Type:</th>      <td>nonrobust</td>    <th>                     </th>     <td> </td>   \n",
       "</tr>\n",
       "</table>\n",
       "<table class=\"simpletable\">\n",
       "<tr>\n",
       "          <td></td>            <th>coef</th>     <th>std err</th>      <th>t</th>      <th>P>|t|</th>  <th>[0.025</th>    <th>0.975]</th>  \n",
       "</tr>\n",
       "<tr>\n",
       "  <th>Intercept</th>        <td>    0.0792</td> <td>    0.043</td> <td>    1.826</td> <td> 0.069</td> <td>   -0.006</td> <td>    0.164</td>\n",
       "</tr>\n",
       "<tr>\n",
       "  <th>PM2_5_annualMean</th> <td>    0.0277</td> <td>    0.020</td> <td>    1.395</td> <td> 0.164</td> <td>   -0.011</td> <td>    0.067</td>\n",
       "</tr>\n",
       "</table>\n",
       "<table class=\"simpletable\">\n",
       "<tr>\n",
       "  <th>Omnibus:</th>       <td>13.223</td> <th>  Durbin-Watson:     </th> <td>   1.978</td>\n",
       "</tr>\n",
       "<tr>\n",
       "  <th>Prob(Omnibus):</th> <td> 0.001</td> <th>  Jarque-Bera (JB):  </th> <td>  13.595</td>\n",
       "</tr>\n",
       "<tr>\n",
       "  <th>Skew:</th>          <td> 0.437</td> <th>  Prob(JB):          </th> <td> 0.00112</td>\n",
       "</tr>\n",
       "<tr>\n",
       "  <th>Kurtosis:</th>      <td> 3.230</td> <th>  Cond. No.          </th> <td>    2.31</td>\n",
       "</tr>\n",
       "</table><br/><br/>Notes:<br/>[1] Standard Errors assume that the covariance matrix of the errors is correctly specified."
      ],
      "text/plain": [
       "<class 'statsmodels.iolib.summary.Summary'>\n",
       "\"\"\"\n",
       "                            OLS Regression Results                            \n",
       "==============================================================================\n",
       "Dep. Variable:         cases_per_100k   R-squared:                       0.005\n",
       "Model:                            OLS   Adj. R-squared:                  0.002\n",
       "Method:                 Least Squares   F-statistic:                     1.947\n",
       "Date:                Thu, 25 Nov 2021   Prob (F-statistic):              0.164\n",
       "Time:                        15:52:47   Log-Likelihood:                -495.30\n",
       "No. Observations:                 400   AIC:                             994.6\n",
       "Df Residuals:                     398   BIC:                             1003.\n",
       "Df Model:                           1                                         \n",
       "Covariance Type:            nonrobust                                         \n",
       "====================================================================================\n",
       "                       coef    std err          t      P>|t|      [0.025      0.975]\n",
       "------------------------------------------------------------------------------------\n",
       "Intercept            0.0792      0.043      1.826      0.069      -0.006       0.164\n",
       "PM2_5_annualMean     0.0277      0.020      1.395      0.164      -0.011       0.067\n",
       "==============================================================================\n",
       "Omnibus:                       13.223   Durbin-Watson:                   1.978\n",
       "Prob(Omnibus):                  0.001   Jarque-Bera (JB):               13.595\n",
       "Skew:                           0.437   Prob(JB):                      0.00112\n",
       "Kurtosis:                       3.230   Cond. No.                         2.31\n",
       "==============================================================================\n",
       "\n",
       "Notes:\n",
       "[1] Standard Errors assume that the covariance matrix of the errors is correctly specified.\n",
       "\"\"\""
      ]
     },
     "execution_count": 43,
     "metadata": {},
     "output_type": "execute_result"
    }
   ],
   "source": [
    "model = smf.ols(formula = 'cases_per_100k ~ PM2_5_annualMean', data = df_covid_AP_2019).fit()\n",
    "model.summary()"
   ]
  },
  {
   "cell_type": "code",
   "execution_count": 44,
   "id": "531e58a6",
   "metadata": {
    "hidden": true
   },
   "outputs": [
    {
     "data": {
      "text/plain": [
       "0.8346986783678119"
      ]
     },
     "execution_count": 44,
     "metadata": {},
     "output_type": "execute_result"
    }
   ],
   "source": [
    "RMSE = np.sqrt((model.resid**2).mean())\n",
    "RMSE"
   ]
  },
  {
   "cell_type": "markdown",
   "id": "8333e51e",
   "metadata": {
    "hidden": true
   },
   "source": [
    "### PM10"
   ]
  },
  {
   "cell_type": "code",
   "execution_count": 45,
   "id": "51e3b91c",
   "metadata": {
    "hidden": true,
    "scrolled": true
   },
   "outputs": [
    {
     "data": {
      "text/html": [
       "<table class=\"simpletable\">\n",
       "<caption>OLS Regression Results</caption>\n",
       "<tr>\n",
       "  <th>Dep. Variable:</th>     <td>cases_per_100k</td>  <th>  R-squared:         </th> <td>   0.004</td>\n",
       "</tr>\n",
       "<tr>\n",
       "  <th>Model:</th>                   <td>OLS</td>       <th>  Adj. R-squared:    </th> <td>   0.001</td>\n",
       "</tr>\n",
       "<tr>\n",
       "  <th>Method:</th>             <td>Least Squares</td>  <th>  F-statistic:       </th> <td>   1.540</td>\n",
       "</tr>\n",
       "<tr>\n",
       "  <th>Date:</th>             <td>Thu, 25 Nov 2021</td> <th>  Prob (F-statistic):</th>  <td> 0.215</td> \n",
       "</tr>\n",
       "<tr>\n",
       "  <th>Time:</th>                 <td>15:52:47</td>     <th>  Log-Likelihood:    </th> <td> -495.50</td>\n",
       "</tr>\n",
       "<tr>\n",
       "  <th>No. Observations:</th>      <td>   400</td>      <th>  AIC:               </th> <td>   995.0</td>\n",
       "</tr>\n",
       "<tr>\n",
       "  <th>Df Residuals:</th>          <td>   398</td>      <th>  BIC:               </th> <td>   1003.</td>\n",
       "</tr>\n",
       "<tr>\n",
       "  <th>Df Model:</th>              <td>     1</td>      <th>                     </th>     <td> </td>   \n",
       "</tr>\n",
       "<tr>\n",
       "  <th>Covariance Type:</th>      <td>nonrobust</td>    <th>                     </th>     <td> </td>   \n",
       "</tr>\n",
       "</table>\n",
       "<table class=\"simpletable\">\n",
       "<tr>\n",
       "         <td></td>            <th>coef</th>     <th>std err</th>      <th>t</th>      <th>P>|t|</th>  <th>[0.025</th>    <th>0.975]</th>  \n",
       "</tr>\n",
       "<tr>\n",
       "  <th>Intercept</th>       <td>    0.0785</td> <td>    0.044</td> <td>    1.800</td> <td> 0.073</td> <td>   -0.007</td> <td>    0.164</td>\n",
       "</tr>\n",
       "<tr>\n",
       "  <th>PM10_annualMean</th> <td>    0.0532</td> <td>    0.043</td> <td>    1.241</td> <td> 0.215</td> <td>   -0.031</td> <td>    0.137</td>\n",
       "</tr>\n",
       "</table>\n",
       "<table class=\"simpletable\">\n",
       "<tr>\n",
       "  <th>Omnibus:</th>       <td>15.420</td> <th>  Durbin-Watson:     </th> <td>   1.964</td>\n",
       "</tr>\n",
       "<tr>\n",
       "  <th>Prob(Omnibus):</th> <td> 0.000</td> <th>  Jarque-Bera (JB):  </th> <td>  16.121</td>\n",
       "</tr>\n",
       "<tr>\n",
       "  <th>Skew:</th>          <td> 0.465</td> <th>  Prob(JB):          </th> <td>0.000316</td>\n",
       "</tr>\n",
       "<tr>\n",
       "  <th>Kurtosis:</th>      <td> 3.317</td> <th>  Cond. No.          </th> <td>    1.34</td>\n",
       "</tr>\n",
       "</table><br/><br/>Notes:<br/>[1] Standard Errors assume that the covariance matrix of the errors is correctly specified."
      ],
      "text/plain": [
       "<class 'statsmodels.iolib.summary.Summary'>\n",
       "\"\"\"\n",
       "                            OLS Regression Results                            \n",
       "==============================================================================\n",
       "Dep. Variable:         cases_per_100k   R-squared:                       0.004\n",
       "Model:                            OLS   Adj. R-squared:                  0.001\n",
       "Method:                 Least Squares   F-statistic:                     1.540\n",
       "Date:                Thu, 25 Nov 2021   Prob (F-statistic):              0.215\n",
       "Time:                        15:52:47   Log-Likelihood:                -495.50\n",
       "No. Observations:                 400   AIC:                             995.0\n",
       "Df Residuals:                     398   BIC:                             1003.\n",
       "Df Model:                           1                                         \n",
       "Covariance Type:            nonrobust                                         \n",
       "===================================================================================\n",
       "                      coef    std err          t      P>|t|      [0.025      0.975]\n",
       "-----------------------------------------------------------------------------------\n",
       "Intercept           0.0785      0.044      1.800      0.073      -0.007       0.164\n",
       "PM10_annualMean     0.0532      0.043      1.241      0.215      -0.031       0.137\n",
       "==============================================================================\n",
       "Omnibus:                       15.420   Durbin-Watson:                   1.964\n",
       "Prob(Omnibus):                  0.000   Jarque-Bera (JB):               16.121\n",
       "Skew:                           0.465   Prob(JB):                     0.000316\n",
       "Kurtosis:                       3.317   Cond. No.                         1.34\n",
       "==============================================================================\n",
       "\n",
       "Notes:\n",
       "[1] Standard Errors assume that the covariance matrix of the errors is correctly specified.\n",
       "\"\"\""
      ]
     },
     "execution_count": 45,
     "metadata": {},
     "output_type": "execute_result"
    }
   ],
   "source": [
    "model = smf.ols(formula = 'cases_per_100k ~ PM10_annualMean', data = df_covid_AP_2019).fit()\n",
    "model.summary()"
   ]
  },
  {
   "cell_type": "code",
   "execution_count": 46,
   "id": "b7a4d49c",
   "metadata": {
    "hidden": true
   },
   "outputs": [
    {
     "data": {
      "text/plain": [
       "0.8351230200768954"
      ]
     },
     "execution_count": 46,
     "metadata": {},
     "output_type": "execute_result"
    }
   ],
   "source": [
    "RMSE = np.sqrt((model.resid**2).mean())\n",
    "RMSE"
   ]
  },
  {
   "cell_type": "markdown",
   "id": "0c1ad01b",
   "metadata": {
    "hidden": true
   },
   "source": [
    "## Multivariate linear regression"
   ]
  },
  {
   "cell_type": "code",
   "execution_count": 73,
   "id": "e5f7eebb",
   "metadata": {
    "hidden": true,
    "scrolled": false
   },
   "outputs": [
    {
     "data": {
      "text/html": [
       "<table class=\"simpletable\">\n",
       "<caption>OLS Regression Results</caption>\n",
       "<tr>\n",
       "  <th>Dep. Variable:</th>     <td>cases_per_100k</td>  <th>  R-squared:         </th> <td>   0.381</td>\n",
       "</tr>\n",
       "<tr>\n",
       "  <th>Model:</th>                   <td>OLS</td>       <th>  Adj. R-squared:    </th> <td>   0.370</td>\n",
       "</tr>\n",
       "<tr>\n",
       "  <th>Method:</th>             <td>Least Squares</td>  <th>  F-statistic:       </th> <td>   34.50</td>\n",
       "</tr>\n",
       "<tr>\n",
       "  <th>Date:</th>             <td>Thu, 25 Nov 2021</td> <th>  Prob (F-statistic):</th> <td>2.12e-37</td>\n",
       "</tr>\n",
       "<tr>\n",
       "  <th>Time:</th>                 <td>16:14:54</td>     <th>  Log-Likelihood:    </th> <td> -400.29</td>\n",
       "</tr>\n",
       "<tr>\n",
       "  <th>No. Observations:</th>      <td>   400</td>      <th>  AIC:               </th> <td>   816.6</td>\n",
       "</tr>\n",
       "<tr>\n",
       "  <th>Df Residuals:</th>          <td>   392</td>      <th>  BIC:               </th> <td>   848.5</td>\n",
       "</tr>\n",
       "<tr>\n",
       "  <th>Df Model:</th>              <td>     7</td>      <th>                     </th>     <td> </td>   \n",
       "</tr>\n",
       "<tr>\n",
       "  <th>Covariance Type:</th>      <td>nonrobust</td>    <th>                     </th>     <td> </td>   \n",
       "</tr>\n",
       "</table>\n",
       "<table class=\"simpletable\">\n",
       "<tr>\n",
       "           <td></td>             <th>coef</th>     <th>std err</th>      <th>t</th>      <th>P>|t|</th>  <th>[0.025</th>    <th>0.975]</th>  \n",
       "</tr>\n",
       "<tr>\n",
       "  <th>Intercept</th>          <td>    0.1832</td> <td>    0.041</td> <td>    4.515</td> <td> 0.000</td> <td>    0.103</td> <td>    0.263</td>\n",
       "</tr>\n",
       "<tr>\n",
       "  <th>NO2_annualMean</th>     <td>    0.1725</td> <td>    0.060</td> <td>    2.866</td> <td> 0.004</td> <td>    0.054</td> <td>    0.291</td>\n",
       "</tr>\n",
       "<tr>\n",
       "  <th>NO_annualMean</th>      <td>    0.1067</td> <td>    0.062</td> <td>    1.711</td> <td> 0.088</td> <td>   -0.016</td> <td>    0.229</td>\n",
       "</tr>\n",
       "<tr>\n",
       "  <th>O3_annualMean</th>      <td>    0.1070</td> <td>    0.029</td> <td>    3.650</td> <td> 0.000</td> <td>    0.049</td> <td>    0.165</td>\n",
       "</tr>\n",
       "<tr>\n",
       "  <th>PM10_annualMean</th>    <td>   -0.0071</td> <td>    0.048</td> <td>   -0.149</td> <td> 0.882</td> <td>   -0.101</td> <td>    0.087</td>\n",
       "</tr>\n",
       "<tr>\n",
       "  <th>PM2_5_annualMean</th>   <td>    0.0336</td> <td>    0.018</td> <td>    1.886</td> <td> 0.060</td> <td>   -0.001</td> <td>    0.069</td>\n",
       "</tr>\n",
       "<tr>\n",
       "  <th>Fully_vaccinated</th>   <td>   -0.5062</td> <td>    0.037</td> <td>  -13.755</td> <td> 0.000</td> <td>   -0.579</td> <td>   -0.434</td>\n",
       "</tr>\n",
       "<tr>\n",
       "  <th>Population_density</th> <td>    0.0859</td> <td>    0.031</td> <td>    2.809</td> <td> 0.005</td> <td>    0.026</td> <td>    0.146</td>\n",
       "</tr>\n",
       "</table>\n",
       "<table class=\"simpletable\">\n",
       "<tr>\n",
       "  <th>Omnibus:</th>       <td>10.789</td> <th>  Durbin-Watson:     </th> <td>   1.868</td>\n",
       "</tr>\n",
       "<tr>\n",
       "  <th>Prob(Omnibus):</th> <td> 0.005</td> <th>  Jarque-Bera (JB):  </th> <td>  10.895</td>\n",
       "</tr>\n",
       "<tr>\n",
       "  <th>Skew:</th>          <td> 0.393</td> <th>  Prob(JB):          </th> <td> 0.00431</td>\n",
       "</tr>\n",
       "<tr>\n",
       "  <th>Kurtosis:</th>      <td> 3.192</td> <th>  Cond. No.          </th> <td>    6.32</td>\n",
       "</tr>\n",
       "</table><br/><br/>Notes:<br/>[1] Standard Errors assume that the covariance matrix of the errors is correctly specified."
      ],
      "text/plain": [
       "<class 'statsmodels.iolib.summary.Summary'>\n",
       "\"\"\"\n",
       "                            OLS Regression Results                            \n",
       "==============================================================================\n",
       "Dep. Variable:         cases_per_100k   R-squared:                       0.381\n",
       "Model:                            OLS   Adj. R-squared:                  0.370\n",
       "Method:                 Least Squares   F-statistic:                     34.50\n",
       "Date:                Thu, 25 Nov 2021   Prob (F-statistic):           2.12e-37\n",
       "Time:                        16:14:54   Log-Likelihood:                -400.29\n",
       "No. Observations:                 400   AIC:                             816.6\n",
       "Df Residuals:                     392   BIC:                             848.5\n",
       "Df Model:                           7                                         \n",
       "Covariance Type:            nonrobust                                         \n",
       "======================================================================================\n",
       "                         coef    std err          t      P>|t|      [0.025      0.975]\n",
       "--------------------------------------------------------------------------------------\n",
       "Intercept              0.1832      0.041      4.515      0.000       0.103       0.263\n",
       "NO2_annualMean         0.1725      0.060      2.866      0.004       0.054       0.291\n",
       "NO_annualMean          0.1067      0.062      1.711      0.088      -0.016       0.229\n",
       "O3_annualMean          0.1070      0.029      3.650      0.000       0.049       0.165\n",
       "PM10_annualMean       -0.0071      0.048     -0.149      0.882      -0.101       0.087\n",
       "PM2_5_annualMean       0.0336      0.018      1.886      0.060      -0.001       0.069\n",
       "Fully_vaccinated      -0.5062      0.037    -13.755      0.000      -0.579      -0.434\n",
       "Population_density     0.0859      0.031      2.809      0.005       0.026       0.146\n",
       "==============================================================================\n",
       "Omnibus:                       10.789   Durbin-Watson:                   1.868\n",
       "Prob(Omnibus):                  0.005   Jarque-Bera (JB):               10.895\n",
       "Skew:                           0.393   Prob(JB):                      0.00431\n",
       "Kurtosis:                       3.192   Cond. No.                         6.32\n",
       "==============================================================================\n",
       "\n",
       "Notes:\n",
       "[1] Standard Errors assume that the covariance matrix of the errors is correctly specified.\n",
       "\"\"\""
      ]
     },
     "execution_count": 73,
     "metadata": {},
     "output_type": "execute_result"
    }
   ],
   "source": [
    "model = smf.ols(formula = 'cases_per_100k ~ NO2_annualMean + NO_annualMean + O3_annualMean + PM10_annualMean + PM2_5_annualMean + Fully_vaccinated + Population_density', data = df_covid_AP_2019).fit()\n",
    "model.summary()"
   ]
  },
  {
   "cell_type": "code",
   "execution_count": 48,
   "id": "c376b3ef",
   "metadata": {
    "hidden": true,
    "scrolled": true
   },
   "outputs": [
    {
     "data": {
      "text/html": [
       "<table class=\"simpletable\">\n",
       "<caption>OLS Regression Results</caption>\n",
       "<tr>\n",
       "  <th>Dep. Variable:</th>     <td>cases_per_100k</td>  <th>  R-squared:         </th> <td>   0.450</td>\n",
       "</tr>\n",
       "<tr>\n",
       "  <th>Model:</th>                   <td>OLS</td>       <th>  Adj. R-squared:    </th> <td>   0.432</td>\n",
       "</tr>\n",
       "<tr>\n",
       "  <th>Method:</th>             <td>Least Squares</td>  <th>  F-statistic:       </th> <td>   24.33</td>\n",
       "</tr>\n",
       "<tr>\n",
       "  <th>Date:</th>             <td>Thu, 25 Nov 2021</td> <th>  Prob (F-statistic):</th> <td>1.25e-42</td>\n",
       "</tr>\n",
       "<tr>\n",
       "  <th>Time:</th>                 <td>15:52:48</td>     <th>  Log-Likelihood:    </th> <td> -376.58</td>\n",
       "</tr>\n",
       "<tr>\n",
       "  <th>No. Observations:</th>      <td>   400</td>      <th>  AIC:               </th> <td>   781.2</td>\n",
       "</tr>\n",
       "<tr>\n",
       "  <th>Df Residuals:</th>          <td>   386</td>      <th>  BIC:               </th> <td>   837.0</td>\n",
       "</tr>\n",
       "<tr>\n",
       "  <th>Df Model:</th>              <td>    13</td>      <th>                     </th>     <td> </td>   \n",
       "</tr>\n",
       "<tr>\n",
       "  <th>Covariance Type:</th>      <td>nonrobust</td>    <th>                     </th>     <td> </td>   \n",
       "</tr>\n",
       "</table>\n",
       "<table class=\"simpletable\">\n",
       "<tr>\n",
       "            <td></td>               <th>coef</th>     <th>std err</th>      <th>t</th>      <th>P>|t|</th>  <th>[0.025</th>    <th>0.975]</th>  \n",
       "</tr>\n",
       "<tr>\n",
       "  <th>Intercept</th>             <td>    0.1542</td> <td>    0.044</td> <td>    3.532</td> <td> 0.000</td> <td>    0.068</td> <td>    0.240</td>\n",
       "</tr>\n",
       "<tr>\n",
       "  <th>NO2_annualMean</th>        <td>    0.1644</td> <td>    0.066</td> <td>    2.473</td> <td> 0.014</td> <td>    0.034</td> <td>    0.295</td>\n",
       "</tr>\n",
       "<tr>\n",
       "  <th>NO2_hrOver200</th>         <td>    0.0819</td> <td>    0.096</td> <td>    0.856</td> <td> 0.392</td> <td>   -0.106</td> <td>    0.270</td>\n",
       "</tr>\n",
       "<tr>\n",
       "  <th>NO_annualMean</th>         <td>    0.0659</td> <td>    0.065</td> <td>    1.008</td> <td> 0.314</td> <td>   -0.063</td> <td>    0.194</td>\n",
       "</tr>\n",
       "<tr>\n",
       "  <th>O3_annualMean</th>         <td>   -0.0651</td> <td>    0.049</td> <td>   -1.317</td> <td> 0.188</td> <td>   -0.162</td> <td>    0.032</td>\n",
       "</tr>\n",
       "<tr>\n",
       "  <th>O3_daysOver120</th>        <td>    0.0700</td> <td>    0.037</td> <td>    1.886</td> <td> 0.060</td> <td>   -0.003</td> <td>    0.143</td>\n",
       "</tr>\n",
       "<tr>\n",
       "  <th>O3_dailyMaxAnnualMean</th> <td>    0.2177</td> <td>    0.051</td> <td>    4.239</td> <td> 0.000</td> <td>    0.117</td> <td>    0.319</td>\n",
       "</tr>\n",
       "<tr>\n",
       "  <th>O3_dailyHourlyMax</th>     <td>   -0.0698</td> <td>    0.020</td> <td>   -3.517</td> <td> 0.000</td> <td>   -0.109</td> <td>   -0.031</td>\n",
       "</tr>\n",
       "<tr>\n",
       "  <th>O3_daily8HrMax</th>        <td>    0.0361</td> <td>    0.021</td> <td>    1.750</td> <td> 0.081</td> <td>   -0.004</td> <td>    0.077</td>\n",
       "</tr>\n",
       "<tr>\n",
       "  <th>PM10_annualMean</th>       <td>    0.0102</td> <td>    0.068</td> <td>    0.151</td> <td> 0.880</td> <td>   -0.123</td> <td>    0.143</td>\n",
       "</tr>\n",
       "<tr>\n",
       "  <th>PM10_daysOver50</th>       <td>   -0.0220</td> <td>    0.108</td> <td>   -0.203</td> <td> 0.839</td> <td>   -0.235</td> <td>    0.191</td>\n",
       "</tr>\n",
       "<tr>\n",
       "  <th>PM2_5_annualMean</th>      <td>    0.0422</td> <td>    0.017</td> <td>    2.430</td> <td> 0.016</td> <td>    0.008</td> <td>    0.076</td>\n",
       "</tr>\n",
       "<tr>\n",
       "  <th>Fully_vaccinated</th>      <td>   -0.4145</td> <td>    0.039</td> <td>  -10.733</td> <td> 0.000</td> <td>   -0.490</td> <td>   -0.339</td>\n",
       "</tr>\n",
       "<tr>\n",
       "  <th>Population_density</th>    <td>    0.1063</td> <td>    0.030</td> <td>    3.534</td> <td> 0.000</td> <td>    0.047</td> <td>    0.165</td>\n",
       "</tr>\n",
       "</table>\n",
       "<table class=\"simpletable\">\n",
       "<tr>\n",
       "  <th>Omnibus:</th>       <td> 7.006</td> <th>  Durbin-Watson:     </th> <td>   1.838</td>\n",
       "</tr>\n",
       "<tr>\n",
       "  <th>Prob(Omnibus):</th> <td> 0.030</td> <th>  Jarque-Bera (JB):  </th> <td>   6.889</td>\n",
       "</tr>\n",
       "<tr>\n",
       "  <th>Skew:</th>          <td> 0.316</td> <th>  Prob(JB):          </th> <td>  0.0319</td>\n",
       "</tr>\n",
       "<tr>\n",
       "  <th>Kurtosis:</th>      <td> 3.116</td> <th>  Cond. No.          </th> <td>    27.9</td>\n",
       "</tr>\n",
       "</table><br/><br/>Notes:<br/>[1] Standard Errors assume that the covariance matrix of the errors is correctly specified."
      ],
      "text/plain": [
       "<class 'statsmodels.iolib.summary.Summary'>\n",
       "\"\"\"\n",
       "                            OLS Regression Results                            \n",
       "==============================================================================\n",
       "Dep. Variable:         cases_per_100k   R-squared:                       0.450\n",
       "Model:                            OLS   Adj. R-squared:                  0.432\n",
       "Method:                 Least Squares   F-statistic:                     24.33\n",
       "Date:                Thu, 25 Nov 2021   Prob (F-statistic):           1.25e-42\n",
       "Time:                        15:52:48   Log-Likelihood:                -376.58\n",
       "No. Observations:                 400   AIC:                             781.2\n",
       "Df Residuals:                     386   BIC:                             837.0\n",
       "Df Model:                          13                                         \n",
       "Covariance Type:            nonrobust                                         \n",
       "=========================================================================================\n",
       "                            coef    std err          t      P>|t|      [0.025      0.975]\n",
       "-----------------------------------------------------------------------------------------\n",
       "Intercept                 0.1542      0.044      3.532      0.000       0.068       0.240\n",
       "NO2_annualMean            0.1644      0.066      2.473      0.014       0.034       0.295\n",
       "NO2_hrOver200             0.0819      0.096      0.856      0.392      -0.106       0.270\n",
       "NO_annualMean             0.0659      0.065      1.008      0.314      -0.063       0.194\n",
       "O3_annualMean            -0.0651      0.049     -1.317      0.188      -0.162       0.032\n",
       "O3_daysOver120            0.0700      0.037      1.886      0.060      -0.003       0.143\n",
       "O3_dailyMaxAnnualMean     0.2177      0.051      4.239      0.000       0.117       0.319\n",
       "O3_dailyHourlyMax        -0.0698      0.020     -3.517      0.000      -0.109      -0.031\n",
       "O3_daily8HrMax            0.0361      0.021      1.750      0.081      -0.004       0.077\n",
       "PM10_annualMean           0.0102      0.068      0.151      0.880      -0.123       0.143\n",
       "PM10_daysOver50          -0.0220      0.108     -0.203      0.839      -0.235       0.191\n",
       "PM2_5_annualMean          0.0422      0.017      2.430      0.016       0.008       0.076\n",
       "Fully_vaccinated         -0.4145      0.039    -10.733      0.000      -0.490      -0.339\n",
       "Population_density        0.1063      0.030      3.534      0.000       0.047       0.165\n",
       "==============================================================================\n",
       "Omnibus:                        7.006   Durbin-Watson:                   1.838\n",
       "Prob(Omnibus):                  0.030   Jarque-Bera (JB):                6.889\n",
       "Skew:                           0.316   Prob(JB):                       0.0319\n",
       "Kurtosis:                       3.116   Cond. No.                         27.9\n",
       "==============================================================================\n",
       "\n",
       "Notes:\n",
       "[1] Standard Errors assume that the covariance matrix of the errors is correctly specified.\n",
       "\"\"\""
      ]
     },
     "execution_count": 48,
     "metadata": {},
     "output_type": "execute_result"
    }
   ],
   "source": [
    "model = smf.ols(formula = 'cases_per_100k ~ NO2_annualMean + NO2_hrOver200 + NO_annualMean + O3_annualMean + O3_daysOver120 + O3_dailyMaxAnnualMean + O3_dailyHourlyMax + O3_daily8HrMax + PM10_annualMean + PM10_daysOver50 + PM2_5_annualMean + Fully_vaccinated + Population_density', data = df_covid_AP_2019).fit()\n",
    "model.summary()"
   ]
  },
  {
   "cell_type": "code",
   "execution_count": 78,
   "id": "a0dc0a83",
   "metadata": {
    "hidden": true
   },
   "outputs": [
    {
     "data": {
      "text/html": [
       "<div>\n",
       "<style scoped>\n",
       "    .dataframe tbody tr th:only-of-type {\n",
       "        vertical-align: middle;\n",
       "    }\n",
       "\n",
       "    .dataframe tbody tr th {\n",
       "        vertical-align: top;\n",
       "    }\n",
       "\n",
       "    .dataframe thead th {\n",
       "        text-align: right;\n",
       "    }\n",
       "</style>\n",
       "<table border=\"1\" class=\"dataframe\">\n",
       "  <thead>\n",
       "    <tr style=\"text-align: right;\">\n",
       "      <th></th>\n",
       "      <th>vif_index</th>\n",
       "      <th>features</th>\n",
       "    </tr>\n",
       "  </thead>\n",
       "  <tbody>\n",
       "    <tr>\n",
       "      <th>0</th>\n",
       "      <td>5.803394</td>\n",
       "      <td>NO2_annualMean</td>\n",
       "    </tr>\n",
       "    <tr>\n",
       "      <th>1</th>\n",
       "      <td>4.284519</td>\n",
       "      <td>NO_annualMean</td>\n",
       "    </tr>\n",
       "    <tr>\n",
       "      <th>2</th>\n",
       "      <td>2.086602</td>\n",
       "      <td>O3_annualMean</td>\n",
       "    </tr>\n",
       "    <tr>\n",
       "      <th>3</th>\n",
       "      <td>2.136186</td>\n",
       "      <td>PM10_annualMean</td>\n",
       "    </tr>\n",
       "    <tr>\n",
       "      <th>4</th>\n",
       "      <td>1.355404</td>\n",
       "      <td>PM2_5_annualMean</td>\n",
       "    </tr>\n",
       "    <tr>\n",
       "      <th>5</th>\n",
       "      <td>1.129409</td>\n",
       "      <td>Fully_vaccinated</td>\n",
       "    </tr>\n",
       "    <tr>\n",
       "      <th>6</th>\n",
       "      <td>1.441051</td>\n",
       "      <td>Population_density</td>\n",
       "    </tr>\n",
       "  </tbody>\n",
       "</table>\n",
       "</div>"
      ],
      "text/plain": [
       "   vif_index            features\n",
       "0   5.803394      NO2_annualMean\n",
       "1   4.284519       NO_annualMean\n",
       "2   2.086602       O3_annualMean\n",
       "3   2.136186     PM10_annualMean\n",
       "4   1.355404    PM2_5_annualMean\n",
       "5   1.129409    Fully_vaccinated\n",
       "6   1.441051  Population_density"
      ]
     },
     "execution_count": 78,
     "metadata": {},
     "output_type": "execute_result"
    }
   ],
   "source": [
    "from statsmodels.stats.outliers_influence import variance_inflation_factor as vif\n",
    "\n",
    "df = pd.DataFrame()\n",
    "df[\"vif_index\"] = [vif(X.values, i) for i in range(X.shape[1])]\n",
    "df[\"features\"] = X.columns\n",
    "df"
   ]
  },
  {
   "cell_type": "code",
   "execution_count": 49,
   "id": "561f1e40",
   "metadata": {
    "hidden": true
   },
   "outputs": [
    {
     "data": {
      "text/plain": [
       "0.620346365222002"
      ]
     },
     "execution_count": 49,
     "metadata": {},
     "output_type": "execute_result"
    }
   ],
   "source": [
    "RMSE = np.sqrt((model.resid**2).mean())\n",
    "RMSE"
   ]
  },
  {
   "cell_type": "markdown",
   "id": "4b429982",
   "metadata": {},
   "source": [
    "# Feature and target definition"
   ]
  },
  {
   "cell_type": "code",
   "execution_count": 9,
   "id": "dd0558ff",
   "metadata": {},
   "outputs": [],
   "source": [
    "X = df_covid_AP_2019[['NO2_annualMean', 'NO_annualMean', 'O3_annualMean', 'PM10_annualMean','PM2_5_annualMean', 'fully_vaccinated', 'Population_density']]\n",
    "y_mort = df_covid_AP_2019[['deaths_per_100k']]\n",
    "y_cases = df_covid_AP_2019[['cases_per_100k']]"
   ]
  },
  {
   "cell_type": "markdown",
   "id": "405314fe",
   "metadata": {},
   "source": [
    "# Linear Regression"
   ]
  },
  {
   "cell_type": "code",
   "execution_count": 83,
   "id": "9db07915",
   "metadata": {},
   "outputs": [],
   "source": [
    "from sklearn.linear_model import LinearRegression\n",
    "from sklearn.model_selection import cross_validate\n"
   ]
  },
  {
   "cell_type": "markdown",
   "id": "fb4d426b",
   "metadata": {
    "heading_collapsed": true
   },
   "source": [
    "## Deaths per 100k"
   ]
  },
  {
   "cell_type": "code",
   "execution_count": 52,
   "id": "e0a4e434",
   "metadata": {
    "hidden": true
   },
   "outputs": [
    {
     "data": {
      "text/plain": [
       "0.3600754417489197"
      ]
     },
     "execution_count": 52,
     "metadata": {},
     "output_type": "execute_result"
    }
   ],
   "source": [
    "linreg = LinearRegression().fit(X,y_mort)\n",
    "linreg.score(X, y_mort)"
   ]
  },
  {
   "cell_type": "markdown",
   "id": "104df559",
   "metadata": {},
   "source": [
    "## Cases per 100k"
   ]
  },
  {
   "cell_type": "code",
   "execution_count": 85,
   "id": "1987ec16",
   "metadata": {},
   "outputs": [
    {
     "name": "stdout",
     "output_type": "stream",
     "text": [
      "0.294274173442226\n",
      "0.3762585713016444\n"
     ]
    }
   ],
   "source": [
    "linreg = LinearRegression()\n",
    "cv_results = cross_validate(linreg, X, y_cases, cv=5, \n",
    "                            scoring='r2'\n",
    "                            )\n",
    "linreg = linreg.fit(X,y_cases)\n",
    "print(cv_results['test_score'].mean())\n",
    "print(linreg.score(X, y_cases))"
   ]
  },
  {
   "cell_type": "markdown",
   "id": "af9c0803",
   "metadata": {},
   "source": [
    "# Lasso, Ridge, LinReg, ElasticNet"
   ]
  },
  {
   "cell_type": "markdown",
   "id": "5610209a",
   "metadata": {},
   "source": [
    "## Cases per 100k"
   ]
  },
  {
   "cell_type": "code",
   "execution_count": 86,
   "id": "8be8fb98",
   "metadata": {
    "scrolled": true
   },
   "outputs": [
    {
     "name": "stdout",
     "output_type": "stream",
     "text": [
      "R2 LinReg:  0.3762585713016444 R2 generalize:  0.294274173442226\n",
      "R2 Ridge:  0.2258586054962467 R2 generalize:  0.15655720829964198\n",
      "R2 Lasso:  0.3728436527145883 R2 generalize:  0.29942542600484545\n",
      "R2 Elastic:  0.06799033422487699 R2 generalize:  0.025548257228471826\n"
     ]
    },
    {
     "data": {
      "text/html": [
       "<div>\n",
       "<style scoped>\n",
       "    .dataframe tbody tr th:only-of-type {\n",
       "        vertical-align: middle;\n",
       "    }\n",
       "\n",
       "    .dataframe tbody tr th {\n",
       "        vertical-align: top;\n",
       "    }\n",
       "\n",
       "    .dataframe thead th {\n",
       "        text-align: right;\n",
       "    }\n",
       "</style>\n",
       "<table border=\"1\" class=\"dataframe\">\n",
       "  <thead>\n",
       "    <tr style=\"text-align: right;\">\n",
       "      <th></th>\n",
       "      <th>coef_linreg</th>\n",
       "      <th>coef_ridge</th>\n",
       "      <th>coef_lasso</th>\n",
       "      <th>coef_elastic</th>\n",
       "    </tr>\n",
       "  </thead>\n",
       "  <tbody>\n",
       "    <tr>\n",
       "      <th>NO2_annualMean</th>\n",
       "      <td>333.546861</td>\n",
       "      <td>220.350023</td>\n",
       "      <td>298.675273</td>\n",
       "      <td>88.869248</td>\n",
       "    </tr>\n",
       "    <tr>\n",
       "      <th>NO_annualMean</th>\n",
       "      <td>176.760689</td>\n",
       "      <td>104.155259</td>\n",
       "      <td>298.675273</td>\n",
       "      <td>88.869248</td>\n",
       "    </tr>\n",
       "    <tr>\n",
       "      <th>O3_daily8HrMax</th>\n",
       "      <td>98.127729</td>\n",
       "      <td>-8.514178</td>\n",
       "      <td>298.675273</td>\n",
       "      <td>88.869248</td>\n",
       "    </tr>\n",
       "    <tr>\n",
       "      <th>PM10_annualMean</th>\n",
       "      <td>-26.277300</td>\n",
       "      <td>-98.126879</td>\n",
       "      <td>298.675273</td>\n",
       "      <td>88.869248</td>\n",
       "    </tr>\n",
       "    <tr>\n",
       "      <th>PM2_5_annualMean</th>\n",
       "      <td>217.366644</td>\n",
       "      <td>84.169450</td>\n",
       "      <td>298.675273</td>\n",
       "      <td>88.869248</td>\n",
       "    </tr>\n",
       "    <tr>\n",
       "      <th>fully_vaccinated</th>\n",
       "      <td>-32246.524507</td>\n",
       "      <td>-9812.399740</td>\n",
       "      <td>298.675273</td>\n",
       "      <td>88.869248</td>\n",
       "    </tr>\n",
       "    <tr>\n",
       "      <th>Population_density</th>\n",
       "      <td>0.333476</td>\n",
       "      <td>0.125683</td>\n",
       "      <td>298.675273</td>\n",
       "      <td>88.869248</td>\n",
       "    </tr>\n",
       "    <tr>\n",
       "      <th>lnNO2</th>\n",
       "      <td>-3080.833932</td>\n",
       "      <td>-1668.869760</td>\n",
       "      <td>298.675273</td>\n",
       "      <td>88.869248</td>\n",
       "    </tr>\n",
       "    <tr>\n",
       "      <th>lnO3</th>\n",
       "      <td>-17747.112642</td>\n",
       "      <td>-92.514754</td>\n",
       "      <td>298.675273</td>\n",
       "      <td>88.869248</td>\n",
       "    </tr>\n",
       "    <tr>\n",
       "      <th>lnPM2_5</th>\n",
       "      <td>-360.137483</td>\n",
       "      <td>361.870710</td>\n",
       "      <td>298.675273</td>\n",
       "      <td>88.869248</td>\n",
       "    </tr>\n",
       "    <tr>\n",
       "      <th>AirPollution</th>\n",
       "      <td>-0.003140</td>\n",
       "      <td>-0.001511</td>\n",
       "      <td>298.675273</td>\n",
       "      <td>88.869248</td>\n",
       "    </tr>\n",
       "  </tbody>\n",
       "</table>\n",
       "</div>"
      ],
      "text/plain": [
       "                     coef_linreg   coef_ridge  coef_lasso  coef_elastic\n",
       "NO2_annualMean        333.546861   220.350023  298.675273     88.869248\n",
       "NO_annualMean         176.760689   104.155259  298.675273     88.869248\n",
       "O3_daily8HrMax         98.127729    -8.514178  298.675273     88.869248\n",
       "PM10_annualMean       -26.277300   -98.126879  298.675273     88.869248\n",
       "PM2_5_annualMean      217.366644    84.169450  298.675273     88.869248\n",
       "fully_vaccinated   -32246.524507 -9812.399740  298.675273     88.869248\n",
       "Population_density      0.333476     0.125683  298.675273     88.869248\n",
       "lnNO2               -3080.833932 -1668.869760  298.675273     88.869248\n",
       "lnO3               -17747.112642   -92.514754  298.675273     88.869248\n",
       "lnPM2_5              -360.137483   361.870710  298.675273     88.869248\n",
       "AirPollution           -0.003140    -0.001511  298.675273     88.869248"
      ]
     },
     "execution_count": 86,
     "metadata": {},
     "output_type": "execute_result"
    }
   ],
   "source": [
    "from sklearn.linear_model import Ridge, Lasso, LinearRegression, ElasticNet\n",
    "\n",
    "linreg = LinearRegression()\n",
    "ridge = Ridge()\n",
    "lasso = Lasso()\n",
    "elastic = ElasticNet(alpha=0.2)\n",
    "    \n",
    "cv_results_linreg = cross_validate(linreg, X, y_cases, cv=5, \n",
    "                            scoring='r2'\n",
    "                            )\n",
    "cv_results_ridge = cross_validate(ridge, X, y_cases, cv=5, \n",
    "                            scoring='r2'\n",
    "                            )\n",
    "cv_results_lasso = cross_validate(lasso, X, y_cases, cv=5, \n",
    "                            scoring='r2'\n",
    "                            )\n",
    "cv_results_elastic = cross_validate(elastic, X, y_cases, cv=5, \n",
    "                            scoring='r2'\n",
    "                            )\n",
    "\n",
    "linreg = linreg.fit(X, y_cases)\n",
    "ridge = ridge.fit(X, y_cases)\n",
    "lasso = lasso.fit(X, y_cases)\n",
    "elastic = elastic.fit(X, y_cases)\n",
    "\n",
    "coefs = pd.DataFrame({\n",
    "    \"coef_linreg\": pd.Series(linreg.coef_[0], index = X.columns),\n",
    "    \"coef_ridge\": pd.Series(ridge.coef_[0], index = X.columns),\n",
    "    \"coef_lasso\": pd.Series(lasso.coef_[0], index= X.columns),\n",
    "    \"coef_elastic\": pd.Series(elastic.coef_[0], index= X.columns)})\\\n",
    "\n",
    "# coefs\\\n",
    "#     .applymap(lambda x: int(x))\\\n",
    "#     .style.applymap(lambda x: 'color: red' if x == 0 else 'color: black')\n",
    "\n",
    "print('R2 LinReg: ', linreg.score(X,y_cases), 'R2 generalize: ', cv_results_linreg['test_score'].mean())\n",
    "print('R2 Ridge: ', ridge.score(X,y_cases), 'R2 generalize: ', cv_results_ridge['test_score'].mean())\n",
    "print('R2 Lasso: ', lasso.score(X,y_cases), 'R2 generalize: ', cv_results_lasso['test_score'].mean())\n",
    "print('R2 Elastic: ', elastic.score(X,y_cases), 'R2 generalize: ', cv_results_elastic['test_score'].mean())\n",
    "\n",
    "#pd.Series(linreg.coef_[0], index = X.columns)\n",
    "coefs"
   ]
  },
  {
   "cell_type": "markdown",
   "id": "261a17db",
   "metadata": {},
   "source": [
    "## Deaths per 100k"
   ]
  },
  {
   "cell_type": "code",
   "execution_count": 89,
   "id": "490bd38f",
   "metadata": {},
   "outputs": [
    {
     "name": "stdout",
     "output_type": "stream",
     "text": [
      "R2 LinReg:  0.38406893566727995 R2 generalize:  0.294274173442226\n",
      "R2 Ridge:  0.21115460773726158 R2 generalize:  0.15655720829964198\n",
      "R2 Lasso:  0.17366610248181547 R2 generalize:  0.29942542600484545\n",
      "R2 Elastic:  0.04390071063102041 R2 generalize:  0.025548257228471826\n"
     ]
    },
    {
     "data": {
      "text/html": [
       "<div>\n",
       "<style scoped>\n",
       "    .dataframe tbody tr th:only-of-type {\n",
       "        vertical-align: middle;\n",
       "    }\n",
       "\n",
       "    .dataframe tbody tr th {\n",
       "        vertical-align: top;\n",
       "    }\n",
       "\n",
       "    .dataframe thead th {\n",
       "        text-align: right;\n",
       "    }\n",
       "</style>\n",
       "<table border=\"1\" class=\"dataframe\">\n",
       "  <thead>\n",
       "    <tr style=\"text-align: right;\">\n",
       "      <th></th>\n",
       "      <th>coef_linreg</th>\n",
       "      <th>coef_ridge</th>\n",
       "      <th>coef_lasso</th>\n",
       "      <th>coef_elastic</th>\n",
       "    </tr>\n",
       "  </thead>\n",
       "  <tbody>\n",
       "    <tr>\n",
       "      <th>NO2_annualMean</th>\n",
       "      <td>0.379952</td>\n",
       "      <td>-1.070313</td>\n",
       "      <td>-0.792455</td>\n",
       "      <td>-0.713867</td>\n",
       "    </tr>\n",
       "    <tr>\n",
       "      <th>NO_annualMean</th>\n",
       "      <td>-2.243493</td>\n",
       "      <td>-3.773031</td>\n",
       "      <td>-0.792455</td>\n",
       "      <td>-0.713867</td>\n",
       "    </tr>\n",
       "    <tr>\n",
       "      <th>O3_daily8HrMax</th>\n",
       "      <td>6.698704</td>\n",
       "      <td>-0.807855</td>\n",
       "      <td>-0.792455</td>\n",
       "      <td>-0.713867</td>\n",
       "    </tr>\n",
       "    <tr>\n",
       "      <th>PM10_annualMean</th>\n",
       "      <td>0.340749</td>\n",
       "      <td>-2.024984</td>\n",
       "      <td>-0.792455</td>\n",
       "      <td>-0.713867</td>\n",
       "    </tr>\n",
       "    <tr>\n",
       "      <th>PM2_5_annualMean</th>\n",
       "      <td>5.481836</td>\n",
       "      <td>1.799517</td>\n",
       "      <td>-0.792455</td>\n",
       "      <td>-0.713867</td>\n",
       "    </tr>\n",
       "    <tr>\n",
       "      <th>fully_vaccinated</th>\n",
       "      <td>-1191.321461</td>\n",
       "      <td>-360.201152</td>\n",
       "      <td>-0.792455</td>\n",
       "      <td>-0.713867</td>\n",
       "    </tr>\n",
       "    <tr>\n",
       "      <th>Population_density</th>\n",
       "      <td>0.006471</td>\n",
       "      <td>-0.001946</td>\n",
       "      <td>-0.792455</td>\n",
       "      <td>-0.713867</td>\n",
       "    </tr>\n",
       "    <tr>\n",
       "      <th>lnNO2</th>\n",
       "      <td>-15.269820</td>\n",
       "      <td>3.632085</td>\n",
       "      <td>-0.792455</td>\n",
       "      <td>-0.713867</td>\n",
       "    </tr>\n",
       "    <tr>\n",
       "      <th>lnO3</th>\n",
       "      <td>-1311.085577</td>\n",
       "      <td>-13.162248</td>\n",
       "      <td>-0.792455</td>\n",
       "      <td>-0.713867</td>\n",
       "    </tr>\n",
       "    <tr>\n",
       "      <th>lnPM2_5</th>\n",
       "      <td>-9.710641</td>\n",
       "      <td>10.471021</td>\n",
       "      <td>-0.792455</td>\n",
       "      <td>-0.713867</td>\n",
       "    </tr>\n",
       "    <tr>\n",
       "      <th>AirPollution</th>\n",
       "      <td>0.000069</td>\n",
       "      <td>0.000100</td>\n",
       "      <td>-0.792455</td>\n",
       "      <td>-0.713867</td>\n",
       "    </tr>\n",
       "  </tbody>\n",
       "</table>\n",
       "</div>"
      ],
      "text/plain": [
       "                    coef_linreg  coef_ridge  coef_lasso  coef_elastic\n",
       "NO2_annualMean         0.379952   -1.070313   -0.792455     -0.713867\n",
       "NO_annualMean         -2.243493   -3.773031   -0.792455     -0.713867\n",
       "O3_daily8HrMax         6.698704   -0.807855   -0.792455     -0.713867\n",
       "PM10_annualMean        0.340749   -2.024984   -0.792455     -0.713867\n",
       "PM2_5_annualMean       5.481836    1.799517   -0.792455     -0.713867\n",
       "fully_vaccinated   -1191.321461 -360.201152   -0.792455     -0.713867\n",
       "Population_density     0.006471   -0.001946   -0.792455     -0.713867\n",
       "lnNO2                -15.269820    3.632085   -0.792455     -0.713867\n",
       "lnO3               -1311.085577  -13.162248   -0.792455     -0.713867\n",
       "lnPM2_5               -9.710641   10.471021   -0.792455     -0.713867\n",
       "AirPollution           0.000069    0.000100   -0.792455     -0.713867"
      ]
     },
     "execution_count": 89,
     "metadata": {},
     "output_type": "execute_result"
    }
   ],
   "source": [
    "from sklearn.linear_model import Ridge, Lasso, LinearRegression, ElasticNet\n",
    "\n",
    "linreg = LinearRegression().fit(X, y_mort)\n",
    "ridge = Ridge().fit(X, y_mort)\n",
    "lasso = Lasso().fit(X, y_mort)\n",
    "elastic = ElasticNet(alpha=0.2).fit(X, y_mort)\n",
    "\n",
    "coefs = pd.DataFrame({\n",
    "    \"coef_linreg\": pd.Series(linreg.coef_[0], index = X.columns),\n",
    "    \"coef_ridge\": pd.Series(ridge.coef_[0], index = X.columns),\n",
    "    \"coef_lasso\": pd.Series(lasso.coef_[0], index= X.columns),\n",
    "    \"coef_elastic\": pd.Series(elastic.coef_[0], index= X.columns)})\\\n",
    "\n",
    "# coefs\\\n",
    "#     .applymap(lambda x: int(x))\\\n",
    "#     .style.applymap(lambda x: 'color: red' if x == 0 else 'color: black')\n",
    "\n",
    "print('R2 LinReg: ', linreg.score(X,y_mort), 'R2 generalize: ', cv_results_linreg['test_score'].mean())\n",
    "print('R2 Ridge: ', ridge.score(X,y_mort), 'R2 generalize: ', cv_results_ridge['test_score'].mean())\n",
    "print('R2 Lasso: ', lasso.score(X,y_mort), 'R2 generalize: ', cv_results_lasso['test_score'].mean())\n",
    "print('R2 Elastic: ', elastic.score(X,y_mort), 'R2 generalize: ', cv_results_elastic['test_score'].mean())\n",
    "#pd.Series(linreg.coef_[0], index = X.columns)\n",
    "coefs"
   ]
  },
  {
   "cell_type": "markdown",
   "id": "9562998f",
   "metadata": {},
   "source": [
    "# KNN"
   ]
  },
  {
   "cell_type": "markdown",
   "id": "7c2ad9bf",
   "metadata": {},
   "source": [
    "## Cases per 100k"
   ]
  },
  {
   "cell_type": "code",
   "execution_count": 90,
   "id": "71c75c9f",
   "metadata": {},
   "outputs": [
    {
     "name": "stdout",
     "output_type": "stream",
     "text": [
      "0.5295395919240375\n",
      "-0.30988546675806233\n"
     ]
    }
   ],
   "source": [
    "from sklearn.neighbors import KNeighborsRegressor\n",
    "\n",
    "# Instanciate model\n",
    "neigh = KNeighborsRegressor(n_neighbors=2)\n",
    "cv_results_neigh = cross_validate(neigh, X, y_cases, cv=5, \n",
    "                            scoring='r2'\n",
    "                            )\n",
    "neigh.fit(X, y_cases)\n",
    "print(neigh.score(X, y_cases))\n",
    "print(cv_results_neigh['test_score'].mean())"
   ]
  },
  {
   "cell_type": "markdown",
   "id": "bcd8aee5",
   "metadata": {},
   "source": [
    "## Deaths per 100k"
   ]
  },
  {
   "cell_type": "code",
   "execution_count": 91,
   "id": "812ecd44",
   "metadata": {},
   "outputs": [
    {
     "name": "stdout",
     "output_type": "stream",
     "text": [
      "0.49587069382260773\n",
      "-0.49825987050796083\n"
     ]
    }
   ],
   "source": [
    "from sklearn.neighbors import KNeighborsRegressor\n",
    "\n",
    "# Instanciate model\n",
    "neigh = KNeighborsRegressor(n_neighbors=2)\n",
    "cv_results_neigh = cross_validate(neigh, X, y_mort, cv=5, \n",
    "                            scoring='r2'\n",
    "                            )\n",
    "neigh.fit(X, y_mort)\n",
    "print(neigh.score(X, y_mort))\n",
    "print(cv_results_neigh['test_score'].mean())"
   ]
  },
  {
   "cell_type": "markdown",
   "id": "66c24622",
   "metadata": {
    "heading_collapsed": true
   },
   "source": [
    "# Radius Neighbors Regressor"
   ]
  },
  {
   "cell_type": "code",
   "execution_count": 92,
   "id": "8dcf61a2",
   "metadata": {
    "hidden": true
   },
   "outputs": [],
   "source": [
    "from sklearn.neighbors import RadiusNeighborsRegressor"
   ]
  },
  {
   "cell_type": "markdown",
   "id": "ddacb591",
   "metadata": {
    "hidden": true
   },
   "source": [
    "## Deaths per 100k"
   ]
  },
  {
   "cell_type": "code",
   "execution_count": 57,
   "id": "f036d5b9",
   "metadata": {
    "hidden": true
   },
   "outputs": [
    {
     "data": {
      "text/plain": [
       "0.7628928774847563"
      ]
     },
     "execution_count": 57,
     "metadata": {},
     "output_type": "execute_result"
    }
   ],
   "source": [
    "RadNeigh = RadiusNeighborsRegressor(radius=1.0).fit(X,y_mort)\n",
    "RadNeigh.score(X,y_mort)"
   ]
  },
  {
   "cell_type": "markdown",
   "id": "9a793650",
   "metadata": {
    "hidden": true
   },
   "source": [
    "## Cases per 100k"
   ]
  },
  {
   "cell_type": "code",
   "execution_count": 58,
   "id": "24346709",
   "metadata": {
    "hidden": true
   },
   "outputs": [
    {
     "data": {
      "text/plain": [
       "0.755605009604216"
      ]
     },
     "execution_count": 58,
     "metadata": {},
     "output_type": "execute_result"
    }
   ],
   "source": [
    "RadNeigh = RadiusNeighborsRegressor(radius=1.0).fit(X,y_cases)\n",
    "RadNeigh.score(X,y_cases)"
   ]
  },
  {
   "cell_type": "markdown",
   "id": "a76833e3",
   "metadata": {
    "heading_collapsed": true
   },
   "source": [
    "# Support Vector Regression"
   ]
  },
  {
   "cell_type": "markdown",
   "id": "25931253",
   "metadata": {
    "heading_collapsed": true,
    "hidden": true
   },
   "source": [
    "## deaths per 100k"
   ]
  },
  {
   "cell_type": "code",
   "execution_count": 59,
   "id": "0d33c742",
   "metadata": {
    "hidden": true,
    "scrolled": true
   },
   "outputs": [
    {
     "name": "stderr",
     "output_type": "stream",
     "text": [
      "/Users/dorienroosen/.pyenv/versions/3.8.12/envs/lung_pollution/lib/python3.8/site-packages/sklearn/utils/validation.py:985: DataConversionWarning: A column-vector y was passed when a 1d array was expected. Please change the shape of y to (n_samples, ), for example using ravel().\n",
      "  y = column_or_1d(y, warn=True)\n"
     ]
    },
    {
     "data": {
      "text/plain": [
       "0.4897788825186674"
      ]
     },
     "execution_count": 59,
     "metadata": {},
     "output_type": "execute_result"
    }
   ],
   "source": [
    "from sklearn.svm import SVR\n",
    "\n",
    "SVR = SVR()\n",
    "SVR.fit(X,y_mort)\n",
    "SVR.score(X,y_mort)\n"
   ]
  },
  {
   "cell_type": "markdown",
   "id": "2e50205f",
   "metadata": {
    "hidden": true
   },
   "source": [
    "## cases per 100k"
   ]
  },
  {
   "cell_type": "code",
   "execution_count": 60,
   "id": "eaabe8e7",
   "metadata": {
    "hidden": true
   },
   "outputs": [
    {
     "name": "stderr",
     "output_type": "stream",
     "text": [
      "/Users/dorienroosen/.pyenv/versions/3.8.12/envs/lung_pollution/lib/python3.8/site-packages/sklearn/utils/validation.py:985: DataConversionWarning: A column-vector y was passed when a 1d array was expected. Please change the shape of y to (n_samples, ), for example using ravel().\n",
      "  y = column_or_1d(y, warn=True)\n"
     ]
    },
    {
     "data": {
      "text/plain": [
       "0.5402629328825224"
      ]
     },
     "execution_count": 60,
     "metadata": {},
     "output_type": "execute_result"
    }
   ],
   "source": [
    "from sklearn.svm import SVR\n",
    "\n",
    "# Instanciate model\n",
    "SVR = SVR()\n",
    "SVR.fit(X,y_cases)\n",
    "SVR.score(X,y_cases)"
   ]
  },
  {
   "cell_type": "markdown",
   "id": "23aa6fe9",
   "metadata": {
    "heading_collapsed": true
   },
   "source": [
    "# AdaBoost, RandomForestRegressor, XGBoost\n"
   ]
  },
  {
   "cell_type": "markdown",
   "id": "c1711ab7",
   "metadata": {
    "heading_collapsed": true,
    "hidden": true
   },
   "source": [
    "## Cases per 100k"
   ]
  },
  {
   "cell_type": "code",
   "execution_count": 93,
   "id": "a78fa8f6",
   "metadata": {
    "hidden": true
   },
   "outputs": [
    {
     "name": "stderr",
     "output_type": "stream",
     "text": [
      "/Users/dorienroosen/.pyenv/versions/3.8.12/envs/lung_pollution/lib/python3.8/site-packages/sklearn/utils/validation.py:985: DataConversionWarning: A column-vector y was passed when a 1d array was expected. Please change the shape of y to (n_samples, ), for example using ravel().\n",
      "  y = column_or_1d(y, warn=True)\n",
      "/Users/dorienroosen/.pyenv/versions/3.8.12/envs/lung_pollution/lib/python3.8/site-packages/sklearn/utils/validation.py:985: DataConversionWarning: A column-vector y was passed when a 1d array was expected. Please change the shape of y to (n_samples, ), for example using ravel().\n",
      "  y = column_or_1d(y, warn=True)\n",
      "/Users/dorienroosen/.pyenv/versions/3.8.12/envs/lung_pollution/lib/python3.8/site-packages/sklearn/utils/validation.py:985: DataConversionWarning: A column-vector y was passed when a 1d array was expected. Please change the shape of y to (n_samples, ), for example using ravel().\n",
      "  y = column_or_1d(y, warn=True)\n",
      "/Users/dorienroosen/.pyenv/versions/3.8.12/envs/lung_pollution/lib/python3.8/site-packages/sklearn/utils/validation.py:985: DataConversionWarning: A column-vector y was passed when a 1d array was expected. Please change the shape of y to (n_samples, ), for example using ravel().\n",
      "  y = column_or_1d(y, warn=True)\n",
      "/Users/dorienroosen/.pyenv/versions/3.8.12/envs/lung_pollution/lib/python3.8/site-packages/sklearn/utils/validation.py:985: DataConversionWarning: A column-vector y was passed when a 1d array was expected. Please change the shape of y to (n_samples, ), for example using ravel().\n",
      "  y = column_or_1d(y, warn=True)\n",
      "/Users/dorienroosen/.pyenv/versions/3.8.12/envs/lung_pollution/lib/python3.8/site-packages/sklearn/model_selection/_validation.py:681: DataConversionWarning: A column-vector y was passed when a 1d array was expected. Please change the shape of y to (n_samples,), for example using ravel().\n",
      "  estimator.fit(X_train, y_train, **fit_params)\n",
      "/Users/dorienroosen/.pyenv/versions/3.8.12/envs/lung_pollution/lib/python3.8/site-packages/sklearn/model_selection/_validation.py:681: DataConversionWarning: A column-vector y was passed when a 1d array was expected. Please change the shape of y to (n_samples,), for example using ravel().\n",
      "  estimator.fit(X_train, y_train, **fit_params)\n",
      "/Users/dorienroosen/.pyenv/versions/3.8.12/envs/lung_pollution/lib/python3.8/site-packages/sklearn/model_selection/_validation.py:681: DataConversionWarning: A column-vector y was passed when a 1d array was expected. Please change the shape of y to (n_samples,), for example using ravel().\n",
      "  estimator.fit(X_train, y_train, **fit_params)\n",
      "/Users/dorienroosen/.pyenv/versions/3.8.12/envs/lung_pollution/lib/python3.8/site-packages/sklearn/model_selection/_validation.py:681: DataConversionWarning: A column-vector y was passed when a 1d array was expected. Please change the shape of y to (n_samples,), for example using ravel().\n",
      "  estimator.fit(X_train, y_train, **fit_params)\n",
      "/Users/dorienroosen/.pyenv/versions/3.8.12/envs/lung_pollution/lib/python3.8/site-packages/sklearn/model_selection/_validation.py:681: DataConversionWarning: A column-vector y was passed when a 1d array was expected. Please change the shape of y to (n_samples,), for example using ravel().\n",
      "  estimator.fit(X_train, y_train, **fit_params)\n",
      "/Users/dorienroosen/.pyenv/versions/3.8.12/envs/lung_pollution/lib/python3.8/site-packages/sklearn/utils/validation.py:985: DataConversionWarning: A column-vector y was passed when a 1d array was expected. Please change the shape of y to (n_samples, ), for example using ravel().\n",
      "  y = column_or_1d(y, warn=True)\n",
      "/var/folders/py/ydbm54f573b1ymf9x65hf0mm0000gn/T/ipykernel_90679/1835367526.py:19: DataConversionWarning: A column-vector y was passed when a 1d array was expected. Please change the shape of y to (n_samples,), for example using ravel().\n",
      "  forest.fit(X,y_cases)\n"
     ]
    },
    {
     "name": "stdout",
     "output_type": "stream",
     "text": [
      "R2 adaboost:  0.6218967041409942 0.4321606426083234\n",
      "R2 RandomForest:  0.9348537138658222 0.5009424223367912\n"
     ]
    }
   ],
   "source": [
    "from sklearn.ensemble import AdaBoostRegressor, RandomForestRegressor\n",
    "#from xgboost import XGBRegressor\n",
    "from sklearn.tree import DecisionTreeRegressor\n",
    "\n",
    "adaboost = AdaBoostRegressor(\n",
    "    DecisionTreeRegressor(max_depth=3),\n",
    "    n_estimators=50)\n",
    "forest = RandomForestRegressor(n_estimators=100)\n",
    "#xgbreg = XGBRegressor(max_depth=10, n_estimators=100, learning_rate=0.1)\n",
    "\n",
    "cv_results_adaboost = cross_validate(adaboost, X, y_cases, cv=5, \n",
    "                            scoring='r2'\n",
    "                            )\n",
    "cv_results_forest = cross_validate(forest, X, y_cases, cv=5, \n",
    "                            scoring='r2'\n",
    "                            )\n",
    "\n",
    "adaboost.fit(X,y_cases)\n",
    "forest.fit(X,y_cases)\n",
    "\n",
    "print('R2 adaboost: ', adaboost.score(X,y_cases), cv_results_adaboost['test_score'].mean())\n",
    "print('R2 RandomForest: ', forest.score(X,y_cases), cv_results_forest['test_score'].mean())\n",
    "#print('R2 XGBoost: ', xgbreg.score(X,y_cases))\n"
   ]
  },
  {
   "cell_type": "markdown",
   "id": "e3661b88",
   "metadata": {
    "hidden": true
   },
   "source": [
    "## Deaths per 100k"
   ]
  },
  {
   "cell_type": "code",
   "execution_count": 95,
   "id": "926db89c",
   "metadata": {
    "collapsed": true,
    "hidden": true
   },
   "outputs": [
    {
     "name": "stderr",
     "output_type": "stream",
     "text": [
      "/Users/dorienroosen/.pyenv/versions/3.8.12/envs/lung_pollution/lib/python3.8/site-packages/sklearn/utils/validation.py:985: DataConversionWarning: A column-vector y was passed when a 1d array was expected. Please change the shape of y to (n_samples, ), for example using ravel().\n",
      "  y = column_or_1d(y, warn=True)\n",
      "/Users/dorienroosen/.pyenv/versions/3.8.12/envs/lung_pollution/lib/python3.8/site-packages/sklearn/utils/validation.py:985: DataConversionWarning: A column-vector y was passed when a 1d array was expected. Please change the shape of y to (n_samples, ), for example using ravel().\n",
      "  y = column_or_1d(y, warn=True)\n",
      "/Users/dorienroosen/.pyenv/versions/3.8.12/envs/lung_pollution/lib/python3.8/site-packages/sklearn/utils/validation.py:985: DataConversionWarning: A column-vector y was passed when a 1d array was expected. Please change the shape of y to (n_samples, ), for example using ravel().\n",
      "  y = column_or_1d(y, warn=True)\n",
      "/Users/dorienroosen/.pyenv/versions/3.8.12/envs/lung_pollution/lib/python3.8/site-packages/sklearn/utils/validation.py:985: DataConversionWarning: A column-vector y was passed when a 1d array was expected. Please change the shape of y to (n_samples, ), for example using ravel().\n",
      "  y = column_or_1d(y, warn=True)\n",
      "/Users/dorienroosen/.pyenv/versions/3.8.12/envs/lung_pollution/lib/python3.8/site-packages/sklearn/utils/validation.py:985: DataConversionWarning: A column-vector y was passed when a 1d array was expected. Please change the shape of y to (n_samples, ), for example using ravel().\n",
      "  y = column_or_1d(y, warn=True)\n",
      "/Users/dorienroosen/.pyenv/versions/3.8.12/envs/lung_pollution/lib/python3.8/site-packages/sklearn/model_selection/_validation.py:681: DataConversionWarning: A column-vector y was passed when a 1d array was expected. Please change the shape of y to (n_samples,), for example using ravel().\n",
      "  estimator.fit(X_train, y_train, **fit_params)\n",
      "/Users/dorienroosen/.pyenv/versions/3.8.12/envs/lung_pollution/lib/python3.8/site-packages/sklearn/model_selection/_validation.py:681: DataConversionWarning: A column-vector y was passed when a 1d array was expected. Please change the shape of y to (n_samples,), for example using ravel().\n",
      "  estimator.fit(X_train, y_train, **fit_params)\n",
      "/Users/dorienroosen/.pyenv/versions/3.8.12/envs/lung_pollution/lib/python3.8/site-packages/sklearn/model_selection/_validation.py:681: DataConversionWarning: A column-vector y was passed when a 1d array was expected. Please change the shape of y to (n_samples,), for example using ravel().\n",
      "  estimator.fit(X_train, y_train, **fit_params)\n",
      "/Users/dorienroosen/.pyenv/versions/3.8.12/envs/lung_pollution/lib/python3.8/site-packages/sklearn/model_selection/_validation.py:681: DataConversionWarning: A column-vector y was passed when a 1d array was expected. Please change the shape of y to (n_samples,), for example using ravel().\n",
      "  estimator.fit(X_train, y_train, **fit_params)\n",
      "/Users/dorienroosen/.pyenv/versions/3.8.12/envs/lung_pollution/lib/python3.8/site-packages/sklearn/model_selection/_validation.py:681: DataConversionWarning: A column-vector y was passed when a 1d array was expected. Please change the shape of y to (n_samples,), for example using ravel().\n",
      "  estimator.fit(X_train, y_train, **fit_params)\n",
      "/Users/dorienroosen/.pyenv/versions/3.8.12/envs/lung_pollution/lib/python3.8/site-packages/sklearn/utils/validation.py:985: DataConversionWarning: A column-vector y was passed when a 1d array was expected. Please change the shape of y to (n_samples, ), for example using ravel().\n",
      "  y = column_or_1d(y, warn=True)\n",
      "/var/folders/py/ydbm54f573b1ymf9x65hf0mm0000gn/T/ipykernel_90679/2897510694.py:19: DataConversionWarning: A column-vector y was passed when a 1d array was expected. Please change the shape of y to (n_samples,), for example using ravel().\n",
      "  forest.fit(X,y_mort)\n"
     ]
    },
    {
     "name": "stdout",
     "output_type": "stream",
     "text": [
      "R2 adaboost:  0.623882720305807 0.37845614286076473\n",
      "R2 RandomForest:  0.9192157157172592 0.37763787553132777\n"
     ]
    }
   ],
   "source": [
    "from sklearn.ensemble import AdaBoostRegressor, RandomForestRegressor\n",
    "#from xgboost import XGBRegressor\n",
    "from sklearn.tree import DecisionTreeRegressor\n",
    "\n",
    "adaboost = AdaBoostRegressor(\n",
    "    DecisionTreeRegressor(max_depth=3),\n",
    "    n_estimators=50)\n",
    "forest = RandomForestRegressor(n_estimators=100)\n",
    "#xgbreg = XGBRegressor(max_depth=10, n_estimators=100, learning_rate=0.1)\n",
    "\n",
    "cv_results_adaboost = cross_validate(adaboost, X, y_mort, cv=5, \n",
    "                            scoring='r2'\n",
    "                            )\n",
    "cv_results_forest = cross_validate(forest, X, y_mort, cv=5, \n",
    "                            scoring='r2'\n",
    "                            )\n",
    "\n",
    "adaboost.fit(X,y_mort)\n",
    "forest.fit(X,y_mort)\n",
    "\n",
    "print('R2 adaboost: ', adaboost.score(X,y_mort), cv_results_adaboost['test_score'].mean())\n",
    "print('R2 RandomForest: ', forest.score(X,y_mort), cv_results_forest['test_score'].mean())\n",
    "#print('R2 XGBoost: ', xgbreg.score(X,y_cases))"
   ]
  },
  {
   "cell_type": "markdown",
   "id": "7166ad97",
   "metadata": {},
   "source": [
    "# GradientBoostingRegressor"
   ]
  },
  {
   "cell_type": "code",
   "execution_count": 97,
   "id": "6d4192b3",
   "metadata": {},
   "outputs": [
    {
     "name": "stderr",
     "output_type": "stream",
     "text": [
      "/Users/dorienroosen/.pyenv/versions/3.8.12/envs/lung_pollution/lib/python3.8/site-packages/sklearn/ensemble/_gb.py:494: DataConversionWarning: A column-vector y was passed when a 1d array was expected. Please change the shape of y to (n_samples, ), for example using ravel().\n",
      "  y = column_or_1d(y, warn=True)\n",
      "/Users/dorienroosen/.pyenv/versions/3.8.12/envs/lung_pollution/lib/python3.8/site-packages/sklearn/ensemble/_gb.py:494: DataConversionWarning: A column-vector y was passed when a 1d array was expected. Please change the shape of y to (n_samples, ), for example using ravel().\n",
      "  y = column_or_1d(y, warn=True)\n",
      "/Users/dorienroosen/.pyenv/versions/3.8.12/envs/lung_pollution/lib/python3.8/site-packages/sklearn/ensemble/_gb.py:494: DataConversionWarning: A column-vector y was passed when a 1d array was expected. Please change the shape of y to (n_samples, ), for example using ravel().\n",
      "  y = column_or_1d(y, warn=True)\n",
      "/Users/dorienroosen/.pyenv/versions/3.8.12/envs/lung_pollution/lib/python3.8/site-packages/sklearn/ensemble/_gb.py:494: DataConversionWarning: A column-vector y was passed when a 1d array was expected. Please change the shape of y to (n_samples, ), for example using ravel().\n",
      "  y = column_or_1d(y, warn=True)\n",
      "/Users/dorienroosen/.pyenv/versions/3.8.12/envs/lung_pollution/lib/python3.8/site-packages/sklearn/ensemble/_gb.py:494: DataConversionWarning: A column-vector y was passed when a 1d array was expected. Please change the shape of y to (n_samples, ), for example using ravel().\n",
      "  y = column_or_1d(y, warn=True)\n",
      "/Users/dorienroosen/.pyenv/versions/3.8.12/envs/lung_pollution/lib/python3.8/site-packages/sklearn/ensemble/_gb.py:494: DataConversionWarning: A column-vector y was passed when a 1d array was expected. Please change the shape of y to (n_samples, ), for example using ravel().\n",
      "  y = column_or_1d(y, warn=True)\n"
     ]
    },
    {
     "name": "stdout",
     "output_type": "stream",
     "text": [
      "R2 GBR:  0.8335997446874842 0.3160769846552437\n"
     ]
    }
   ],
   "source": [
    "from sklearn.ensemble import GradientBoostingRegressor\n",
    "GBR = GradientBoostingRegressor(\n",
    "    n_estimators=100, \n",
    "    learning_rate=0.1,\n",
    "    max_depth=3\n",
    ")\n",
    "\n",
    "cv_results_adaboost = cross_validate(GBR, X, y_mort, cv=5, \n",
    "                            scoring='r2'\n",
    "                            )\n",
    "\n",
    "\n",
    "GBR.fit(X,y_mort)\n",
    "\n",
    "print('R2 GBR: ', GBR.score(X,y_mort), cv_results_adaboost['test_score'].mean())\n"
   ]
  },
  {
   "cell_type": "code",
   "execution_count": null,
   "id": "d52f5a70",
   "metadata": {},
   "outputs": [],
   "source": []
  }
 ],
 "metadata": {
  "kernelspec": {
   "display_name": "Python 3 (ipykernel)",
   "language": "python",
   "name": "python3"
  },
  "language_info": {
   "codemirror_mode": {
    "name": "ipython",
    "version": 3
   },
   "file_extension": ".py",
   "mimetype": "text/x-python",
   "name": "python",
   "nbconvert_exporter": "python",
   "pygments_lexer": "ipython3",
   "version": "3.8.12"
  },
  "toc": {
   "base_numbering": 1,
   "nav_menu": {},
   "number_sections": true,
   "sideBar": true,
   "skip_h1_title": false,
   "title_cell": "Table of Contents",
   "title_sidebar": "Contents",
   "toc_cell": false,
   "toc_position": {},
   "toc_section_display": true,
   "toc_window_display": false
  }
 },
 "nbformat": 4,
 "nbformat_minor": 5
}
