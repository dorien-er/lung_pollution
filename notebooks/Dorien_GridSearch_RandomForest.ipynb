{
 "cells": [
  {
   "cell_type": "markdown",
   "id": "f2649a25",
   "metadata": {},
   "source": [
    "# Import data"
   ]
  },
  {
   "cell_type": "code",
   "execution_count": 6,
   "id": "50e58bee",
   "metadata": {},
   "outputs": [],
   "source": [
    "import pandas as pd\n",
    "\n",
    "df_covid_AP = pd.read_csv('../lung_pollution/data/covid_pollution_clean.csv')\n",
    "\n",
    "df_covid_AP.drop(columns=['Unnamed: 0', 'Unnamed: 0.1', 'Unnamed: 0.1.1'], inplace = True)\n",
    "df_covid_AP = df_covid_AP.rename(columns={\"PM2.5_annualMean\": \"PM2_5_annualMean\", \"Fully vaccinated\": \"Fully_vaccinated\", \"Population density\": \"Population_density\"})"
   ]
  },
  {
   "cell_type": "code",
   "execution_count": 7,
   "id": "9bea2f3a",
   "metadata": {},
   "outputs": [],
   "source": [
    "df_covid_AP.sort_values(['year'], axis=0, ascending=False,inplace=True,ignore_index=True)\n",
    "df_covid_AP_2019 = df_covid_AP[0:400]"
   ]
  },
  {
   "cell_type": "code",
   "execution_count": 8,
   "id": "5ef34f16",
   "metadata": {},
   "outputs": [],
   "source": [
    "X = df_covid_AP_2019[['NO2_annualMean', 'NO_annualMean', 'O3_annualMean', 'PM10_annualMean','PM2_5_annualMean', 'Fully_vaccinated', 'Population_density']]\n",
    "y = df_covid_AP_2019[['cases_per_100k']]"
   ]
  },
  {
   "cell_type": "markdown",
   "id": "4108eae7",
   "metadata": {},
   "source": [
    "# StandardScale"
   ]
  },
  {
   "cell_type": "code",
   "execution_count": 26,
   "id": "4034b0d6",
   "metadata": {},
   "outputs": [],
   "source": [
    "from sklearn.preprocessing import RobustScaler\n",
    "\n",
    "scaler = RobustScaler()  # Instanciate Robust Scaler\n",
    "\n",
    "scaler.fit(X)  # Fit scaler to feature\n",
    "scaled_num = scaler.transform(X)  #Scale\n",
    "X = pd.DataFrame(scaled_num, columns = X.columns)"
   ]
  },
  {
   "cell_type": "markdown",
   "id": "29b19af3",
   "metadata": {},
   "source": [
    "# GridSearch"
   ]
  },
  {
   "cell_type": "code",
   "execution_count": 35,
   "id": "ff8e7128",
   "metadata": {},
   "outputs": [
    {
     "name": "stderr",
     "output_type": "stream",
     "text": [
      "/Users/dorienroosen/.pyenv/versions/3.8.12/envs/lung_pollution/lib/python3.8/site-packages/sklearn/model_selection/_validation.py:372: FitFailedWarning: \n",
      "100 fits failed out of a total of 400.\n",
      "The score on these train-test partitions for these parameters will be set to nan.\n",
      "If these failures are not expected, you can try to debug them by setting error_score='raise'.\n",
      "\n",
      "Below are more details about the failures:\n",
      "--------------------------------------------------------------------------------\n",
      "100 fits failed with the following error:\n",
      "Traceback (most recent call last):\n",
      "  File \"/Users/dorienroosen/.pyenv/versions/3.8.12/envs/lung_pollution/lib/python3.8/site-packages/sklearn/model_selection/_validation.py\", line 681, in _fit_and_score\n",
      "    estimator.fit(X_train, y_train, **fit_params)\n",
      "  File \"/Users/dorienroosen/.pyenv/versions/3.8.12/envs/lung_pollution/lib/python3.8/site-packages/sklearn/ensemble/_forest.py\", line 442, in fit\n",
      "    trees = Parallel(\n",
      "  File \"/Users/dorienroosen/.pyenv/versions/3.8.12/envs/lung_pollution/lib/python3.8/site-packages/joblib/parallel.py\", line 1043, in __call__\n",
      "    if self.dispatch_one_batch(iterator):\n",
      "  File \"/Users/dorienroosen/.pyenv/versions/3.8.12/envs/lung_pollution/lib/python3.8/site-packages/joblib/parallel.py\", line 861, in dispatch_one_batch\n",
      "    self._dispatch(tasks)\n",
      "  File \"/Users/dorienroosen/.pyenv/versions/3.8.12/envs/lung_pollution/lib/python3.8/site-packages/joblib/parallel.py\", line 779, in _dispatch\n",
      "    job = self._backend.apply_async(batch, callback=cb)\n",
      "  File \"/Users/dorienroosen/.pyenv/versions/3.8.12/envs/lung_pollution/lib/python3.8/site-packages/joblib/_parallel_backends.py\", line 208, in apply_async\n",
      "    result = ImmediateResult(func)\n",
      "  File \"/Users/dorienroosen/.pyenv/versions/3.8.12/envs/lung_pollution/lib/python3.8/site-packages/joblib/_parallel_backends.py\", line 572, in __init__\n",
      "    self.results = batch()\n",
      "  File \"/Users/dorienroosen/.pyenv/versions/3.8.12/envs/lung_pollution/lib/python3.8/site-packages/joblib/parallel.py\", line 262, in __call__\n",
      "    return [func(*args, **kwargs)\n",
      "  File \"/Users/dorienroosen/.pyenv/versions/3.8.12/envs/lung_pollution/lib/python3.8/site-packages/joblib/parallel.py\", line 262, in <listcomp>\n",
      "    return [func(*args, **kwargs)\n",
      "  File \"/Users/dorienroosen/.pyenv/versions/3.8.12/envs/lung_pollution/lib/python3.8/site-packages/sklearn/utils/fixes.py\", line 211, in __call__\n",
      "    return self.function(*args, **kwargs)\n",
      "  File \"/Users/dorienroosen/.pyenv/versions/3.8.12/envs/lung_pollution/lib/python3.8/site-packages/sklearn/ensemble/_forest.py\", line 185, in _parallel_build_trees\n",
      "    tree.fit(X, y, sample_weight=curr_sample_weight, check_input=False)\n",
      "  File \"/Users/dorienroosen/.pyenv/versions/3.8.12/envs/lung_pollution/lib/python3.8/site-packages/sklearn/tree/_classes.py\", line 1315, in fit\n",
      "    super().fit(\n",
      "  File \"/Users/dorienroosen/.pyenv/versions/3.8.12/envs/lung_pollution/lib/python3.8/site-packages/sklearn/tree/_classes.py\", line 250, in fit\n",
      "    raise ValueError(\n",
      "ValueError: min_samples_split must be an integer greater than 1 or a float in (0.0, 1.0]; got the integer 1\n",
      "\n",
      "  warnings.warn(some_fits_failed_message, FitFailedWarning)\n",
      "/Users/dorienroosen/.pyenv/versions/3.8.12/envs/lung_pollution/lib/python3.8/site-packages/sklearn/model_selection/_search.py:969: UserWarning: One or more of the test scores are non-finite: [       nan        nan        nan        nan 0.49037386 0.48490225\n",
      " 0.48845741 0.48409701 0.47092411 0.49123821 0.48955707 0.48124946\n",
      " 0.4814998  0.48654345 0.49886807 0.48720508        nan        nan\n",
      "        nan        nan 0.48160057 0.48715066 0.4906803  0.49310925\n",
      " 0.49634264 0.4870641  0.48573282 0.49403378 0.49186827 0.49071016\n",
      " 0.48529355 0.48687142        nan        nan        nan        nan\n",
      " 0.49065271 0.49481416 0.49024242 0.48636754 0.47737691 0.48543741\n",
      " 0.48783158 0.49659996 0.47353921 0.47888329 0.4800754  0.48651967\n",
      "        nan        nan        nan        nan 0.43180713 0.43988019\n",
      " 0.43874827 0.43789134 0.42403666 0.43139483 0.43477921 0.44081414\n",
      " 0.43299467 0.43362157 0.43690013 0.43264619        nan        nan\n",
      "        nan        nan 0.41428994 0.41497734 0.41789759 0.42107331\n",
      " 0.41948563 0.41340535 0.4175423  0.41706832 0.41844417 0.41737332\n",
      " 0.42325814 0.41692366]\n",
      "  warnings.warn(\n",
      "/Users/dorienroosen/.pyenv/versions/3.8.12/envs/lung_pollution/lib/python3.8/site-packages/sklearn/model_selection/_search.py:926: DataConversionWarning: A column-vector y was passed when a 1d array was expected. Please change the shape of y to (n_samples,), for example using ravel().\n",
      "  self.best_estimator_.fit(X, y, **fit_params)\n"
     ]
    },
    {
     "data": {
      "text/plain": [
       "GridSearchCV(cv=5, estimator=RandomForestRegressor(), n_jobs=-1,\n",
       "             param_grid={'min_samples_leaf': [1, 2, 5, 10, 15],\n",
       "                         'min_samples_split': [1, 2, 5, 10],\n",
       "                         'n_estimators': [50, 100, 150, 200]},\n",
       "             scoring='r2')"
      ]
     },
     "execution_count": 35,
     "metadata": {},
     "output_type": "execute_result"
    }
   ],
   "source": [
    "from sklearn.ensemble import RandomForestRegressor\n",
    "from sklearn.model_selection import GridSearchCV\n",
    "\n",
    "model = RandomForestRegressor()\n",
    "\n",
    "# Hyperparameter Grid\n",
    "grid = {'n_estimators': [50, 100, 150, 200], \n",
    "       'min_samples_leaf': [1,2,5,10,15],\n",
    "       'min_samples_split': [1,2,5,10]}\n",
    "\n",
    "# Instanciate Grid Search\n",
    "search = GridSearchCV(model, grid, \n",
    "                           scoring = 'r2',\n",
    "                           cv = 5,\n",
    "                           n_jobs=-1 # paralellize computation\n",
    "                          ) \n",
    "# Fit data to Grid Search\n",
    "search.fit(X, y)"
   ]
  },
  {
   "cell_type": "code",
   "execution_count": 36,
   "id": "f89a31e9",
   "metadata": {},
   "outputs": [
    {
     "data": {
      "text/plain": [
       "0.49886807432626823"
      ]
     },
     "execution_count": 36,
     "metadata": {},
     "output_type": "execute_result"
    }
   ],
   "source": [
    "search.best_score_"
   ]
  },
  {
   "cell_type": "code",
   "execution_count": 37,
   "id": "86270e68",
   "metadata": {},
   "outputs": [
    {
     "data": {
      "text/plain": [
       "<bound method BaseSearchCV.score of GridSearchCV(cv=5, estimator=RandomForestRegressor(), n_jobs=-1,\n",
       "             param_grid={'min_samples_leaf': [1, 2, 5, 10, 15],\n",
       "                         'min_samples_split': [1, 2, 5, 10],\n",
       "                         'n_estimators': [50, 100, 150, 200]},\n",
       "             scoring='r2')>"
      ]
     },
     "execution_count": 37,
     "metadata": {},
     "output_type": "execute_result"
    }
   ],
   "source": [
    "search.score"
   ]
  },
  {
   "cell_type": "code",
   "execution_count": 38,
   "id": "db3cec34",
   "metadata": {},
   "outputs": [
    {
     "data": {
      "text/plain": [
       "{'min_samples_leaf': 1, 'min_samples_split': 10, 'n_estimators': 150}"
      ]
     },
     "execution_count": 38,
     "metadata": {},
     "output_type": "execute_result"
    }
   ],
   "source": [
    "search.best_params_"
   ]
  },
  {
   "cell_type": "code",
   "execution_count": 39,
   "id": "56f53b42",
   "metadata": {},
   "outputs": [
    {
     "data": {
      "text/plain": [
       "RandomForestRegressor(min_samples_split=10, n_estimators=150)"
      ]
     },
     "execution_count": 39,
     "metadata": {},
     "output_type": "execute_result"
    }
   ],
   "source": [
    "search.best_estimator_"
   ]
  },
  {
   "cell_type": "code",
   "execution_count": 40,
   "id": "8c1b8664",
   "metadata": {},
   "outputs": [
    {
     "name": "stderr",
     "output_type": "stream",
     "text": [
      "/var/folders/py/ydbm54f573b1ymf9x65hf0mm0000gn/T/ipykernel_81922/510206886.py:2: DataConversionWarning: A column-vector y was passed when a 1d array was expected. Please change the shape of y to (n_samples,), for example using ravel().\n",
      "  forest.fit(X,y)\n"
     ]
    },
    {
     "name": "stdout",
     "output_type": "stream",
     "text": [
      "R2 RandomForest:  0.9354043686514057\n"
     ]
    }
   ],
   "source": [
    "forest = RandomForestRegressor(min_samples_leaf= 1, min_samples_split = 2, n_estimators = 150)\n",
    "forest.fit(X,y)\n",
    "print('R2 RandomForest: ', forest.score(X,y))\n"
   ]
  },
  {
   "cell_type": "code",
   "execution_count": null,
   "id": "ba7eb908",
   "metadata": {},
   "outputs": [],
   "source": []
  }
 ],
 "metadata": {
  "kernelspec": {
   "display_name": "Python 3 (ipykernel)",
   "language": "python",
   "name": "python3"
  },
  "language_info": {
   "codemirror_mode": {
    "name": "ipython",
    "version": 3
   },
   "file_extension": ".py",
   "mimetype": "text/x-python",
   "name": "python",
   "nbconvert_exporter": "python",
   "pygments_lexer": "ipython3",
   "version": "3.8.12"
  },
  "toc": {
   "base_numbering": 1,
   "nav_menu": {},
   "number_sections": true,
   "sideBar": true,
   "skip_h1_title": false,
   "title_cell": "Table of Contents",
   "title_sidebar": "Contents",
   "toc_cell": false,
   "toc_position": {},
   "toc_section_display": true,
   "toc_window_display": false
  }
 },
 "nbformat": 4,
 "nbformat_minor": 5
}
