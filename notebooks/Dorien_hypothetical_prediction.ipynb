{
 "cells": [
  {
   "cell_type": "code",
   "execution_count": 10,
   "id": "a1d9977b",
   "metadata": {},
   "outputs": [],
   "source": [
    "import pandas as pd\n",
    "\n",
    "df_covid_AP = pd.read_csv('../lung_pollution/data/covid_pollution_clean.csv')\n",
    "\n",
    "df_covid_AP.drop(columns=['Unnamed: 0', 'Unnamed: 0.1', 'Unnamed: 0.1.1'], inplace = True)\n",
    "df_covid_AP = df_covid_AP.rename(columns={\"PM2.5_annualMean\": \"PM2_5_annualMean\", \"Fully vaccinated\": \"Fully_vaccinated\", \"Population density\": \"Population_density\"})"
   ]
  },
  {
   "cell_type": "code",
   "execution_count": 11,
   "id": "45426194",
   "metadata": {},
   "outputs": [
    {
     "data": {
      "text/plain": [
       "Index(['county', 'year', 'NO2_annualMean', 'NO2_hrOver200', 'NO_annualMean',\n",
       "       'O3_annualMean', 'O3_daysOver120', 'O3_dailyMaxAnnualMean',\n",
       "       'O3_dailyHourlyMax', 'O3_daily8HrMax', 'PM10_annualMean',\n",
       "       'PM10_daysOver50', 'PM2_5_annualMean', 'BL', 'EWZ', 'Shape__Area',\n",
       "       'death_rate', 'cases', 'deaths', 'cases_per_100k', 'deaths_per_100k',\n",
       "       'Fully_vaccinated', 'Population_density'],\n",
       "      dtype='object')"
      ]
     },
     "execution_count": 11,
     "metadata": {},
     "output_type": "execute_result"
    }
   ],
   "source": [
    "df_covid_AP.columns"
   ]
  },
  {
   "cell_type": "code",
   "execution_count": 12,
   "id": "c53b56da",
   "metadata": {},
   "outputs": [],
   "source": [
    "df_covid_AP.sort_values(['year'], axis=0, ascending=False,inplace=True,ignore_index=True)\n",
    "df_covid_AP_2019 = df_covid_AP[0:400]"
   ]
  },
  {
   "cell_type": "code",
   "execution_count": 13,
   "id": "af361c4b",
   "metadata": {},
   "outputs": [
    {
     "data": {
      "text/html": [
       "<div>\n",
       "<style scoped>\n",
       "    .dataframe tbody tr th:only-of-type {\n",
       "        vertical-align: middle;\n",
       "    }\n",
       "\n",
       "    .dataframe tbody tr th {\n",
       "        vertical-align: top;\n",
       "    }\n",
       "\n",
       "    .dataframe thead th {\n",
       "        text-align: right;\n",
       "    }\n",
       "</style>\n",
       "<table border=\"1\" class=\"dataframe\">\n",
       "  <thead>\n",
       "    <tr style=\"text-align: right;\">\n",
       "      <th></th>\n",
       "      <th>NO2_annualMean</th>\n",
       "      <th>NO_annualMean</th>\n",
       "      <th>O3_daily8HrMax</th>\n",
       "      <th>PM2_5_annualMean</th>\n",
       "      <th>Fully_vaccinated</th>\n",
       "      <th>Population_density</th>\n",
       "    </tr>\n",
       "  </thead>\n",
       "  <tbody>\n",
       "    <tr>\n",
       "      <th>0</th>\n",
       "      <td>8.702983</td>\n",
       "      <td>0.743928</td>\n",
       "      <td>170.913300</td>\n",
       "      <td>12.572421</td>\n",
       "      <td>0.715</td>\n",
       "      <td>789.975585</td>\n",
       "    </tr>\n",
       "    <tr>\n",
       "      <th>1</th>\n",
       "      <td>16.479730</td>\n",
       "      <td>8.244184</td>\n",
       "      <td>162.577275</td>\n",
       "      <td>12.535452</td>\n",
       "      <td>0.699</td>\n",
       "      <td>109.629819</td>\n",
       "    </tr>\n",
       "    <tr>\n",
       "      <th>2</th>\n",
       "      <td>17.933774</td>\n",
       "      <td>9.534453</td>\n",
       "      <td>162.327283</td>\n",
       "      <td>12.607750</td>\n",
       "      <td>0.715</td>\n",
       "      <td>198.518661</td>\n",
       "    </tr>\n",
       "    <tr>\n",
       "      <th>3</th>\n",
       "      <td>16.770445</td>\n",
       "      <td>8.410734</td>\n",
       "      <td>162.274333</td>\n",
       "      <td>12.494203</td>\n",
       "      <td>0.663</td>\n",
       "      <td>126.216795</td>\n",
       "    </tr>\n",
       "    <tr>\n",
       "      <th>4</th>\n",
       "      <td>16.763028</td>\n",
       "      <td>8.367538</td>\n",
       "      <td>162.801752</td>\n",
       "      <td>12.731934</td>\n",
       "      <td>0.699</td>\n",
       "      <td>253.440020</td>\n",
       "    </tr>\n",
       "  </tbody>\n",
       "</table>\n",
       "</div>"
      ],
      "text/plain": [
       "   NO2_annualMean  NO_annualMean  O3_daily8HrMax  PM2_5_annualMean  \\\n",
       "0        8.702983       0.743928      170.913300         12.572421   \n",
       "1       16.479730       8.244184      162.577275         12.535452   \n",
       "2       17.933774       9.534453      162.327283         12.607750   \n",
       "3       16.770445       8.410734      162.274333         12.494203   \n",
       "4       16.763028       8.367538      162.801752         12.731934   \n",
       "\n",
       "   Fully_vaccinated  Population_density  \n",
       "0             0.715          789.975585  \n",
       "1             0.699          109.629819  \n",
       "2             0.715          198.518661  \n",
       "3             0.663          126.216795  \n",
       "4             0.699          253.440020  "
      ]
     },
     "execution_count": 13,
     "metadata": {},
     "output_type": "execute_result"
    }
   ],
   "source": [
    "X_train = df_covid_AP_2019[['NO2_annualMean', 'NO_annualMean', 'O3_daily8HrMax','PM2_5_annualMean', 'Fully_vaccinated', 'Population_density']]\n",
    "X_test_poll = df_covid_AP_2019[['NO2_annualMean', 'NO_annualMean', 'O3_daily8HrMax', 'PM2_5_annualMean', 'Fully_vaccinated', 'Population_density']]\n",
    "X_test_vaxx = df_covid_AP_2019[['NO2_annualMean', 'NO_annualMean', 'O3_daily8HrMax', 'PM2_5_annualMean', 'Fully_vaccinated', 'Population_density']]\n",
    "y_train = df_covid_AP_2019[['cases_per_100k']]\n",
    "X_train.head()"
   ]
  },
  {
   "cell_type": "code",
   "execution_count": 14,
   "id": "5473a0fe",
   "metadata": {},
   "outputs": [],
   "source": [
    "from sklearn.preprocessing import StandardScaler\n",
    "\n",
    "scaler = StandardScaler()  # Instanciate Robust Scaler\n",
    "\n",
    "scaler.fit(X_train)  # Fit scaler to feature\n",
    "scaled_num = scaler.transform(X_train)  #Scale\n",
    "X_train = pd.DataFrame(scaled_num, columns = X_train.columns)"
   ]
  },
  {
   "cell_type": "code",
   "execution_count": 15,
   "id": "0092f444",
   "metadata": {},
   "outputs": [
    {
     "name": "stderr",
     "output_type": "stream",
     "text": [
      "/var/folders/py/ydbm54f573b1ymf9x65hf0mm0000gn/T/ipykernel_85767/3732284810.py:5: DataConversionWarning: A column-vector y was passed when a 1d array was expected. Please change the shape of y to (n_samples,), for example using ravel().\n",
      "  forest.fit(X_train,y_train)\n"
     ]
    },
    {
     "name": "stdout",
     "output_type": "stream",
     "text": [
      "R2 RandomForest:  0.8501802611440147\n"
     ]
    }
   ],
   "source": [
    "from sklearn.ensemble import  RandomForestRegressor\n",
    "\n",
    "forest = RandomForestRegressor(min_samples_leaf=3, min_samples_split=3, n_estimators=201)\n",
    "\n",
    "forest.fit(X_train,y_train)\n",
    "\n",
    "print('R2 RandomForest: ', forest.score(X_train,y_train))\n"
   ]
  },
  {
   "cell_type": "code",
   "execution_count": 16,
   "id": "18b5b73a",
   "metadata": {
    "scrolled": true
   },
   "outputs": [
    {
     "name": "stderr",
     "output_type": "stream",
     "text": [
      "/var/folders/py/ydbm54f573b1ymf9x65hf0mm0000gn/T/ipykernel_85767/3259262090.py:1: SettingWithCopyWarning: \n",
      "A value is trying to be set on a copy of a slice from a DataFrame.\n",
      "Try using .loc[row_indexer,col_indexer] = value instead\n",
      "\n",
      "See the caveats in the documentation: https://pandas.pydata.org/pandas-docs/stable/user_guide/indexing.html#returning-a-view-versus-a-copy\n",
      "  X_test_poll['PM2_5_annualMean'] = 5\n",
      "/var/folders/py/ydbm54f573b1ymf9x65hf0mm0000gn/T/ipykernel_85767/3259262090.py:2: SettingWithCopyWarning: \n",
      "A value is trying to be set on a copy of a slice from a DataFrame.\n",
      "Try using .loc[row_indexer,col_indexer] = value instead\n",
      "\n",
      "See the caveats in the documentation: https://pandas.pydata.org/pandas-docs/stable/user_guide/indexing.html#returning-a-view-versus-a-copy\n",
      "  X_test_poll['NO2_annualMean'] = 10\n",
      "/var/folders/py/ydbm54f573b1ymf9x65hf0mm0000gn/T/ipykernel_85767/3259262090.py:3: SettingWithCopyWarning: \n",
      "A value is trying to be set on a copy of a slice from a DataFrame.\n",
      "Try using .loc[row_indexer,col_indexer] = value instead\n",
      "\n",
      "See the caveats in the documentation: https://pandas.pydata.org/pandas-docs/stable/user_guide/indexing.html#returning-a-view-versus-a-copy\n",
      "  X_test_poll['O3_daily8HrMax'] = 100\n",
      "/var/folders/py/ydbm54f573b1ymf9x65hf0mm0000gn/T/ipykernel_85767/3259262090.py:4: SettingWithCopyWarning: \n",
      "A value is trying to be set on a copy of a slice from a DataFrame.\n",
      "Try using .loc[row_indexer,col_indexer] = value instead\n",
      "\n",
      "See the caveats in the documentation: https://pandas.pydata.org/pandas-docs/stable/user_guide/indexing.html#returning-a-view-versus-a-copy\n",
      "  X_test_vaxx['Fully_vaccinated'] = 1\n"
     ]
    },
    {
     "data": {
      "text/html": [
       "<div>\n",
       "<style scoped>\n",
       "    .dataframe tbody tr th:only-of-type {\n",
       "        vertical-align: middle;\n",
       "    }\n",
       "\n",
       "    .dataframe tbody tr th {\n",
       "        vertical-align: top;\n",
       "    }\n",
       "\n",
       "    .dataframe thead th {\n",
       "        text-align: right;\n",
       "    }\n",
       "</style>\n",
       "<table border=\"1\" class=\"dataframe\">\n",
       "  <thead>\n",
       "    <tr style=\"text-align: right;\">\n",
       "      <th></th>\n",
       "      <th>NO2_annualMean</th>\n",
       "      <th>NO_annualMean</th>\n",
       "      <th>O3_daily8HrMax</th>\n",
       "      <th>PM2_5_annualMean</th>\n",
       "      <th>Fully_vaccinated</th>\n",
       "      <th>Population_density</th>\n",
       "    </tr>\n",
       "  </thead>\n",
       "  <tbody>\n",
       "    <tr>\n",
       "      <th>0</th>\n",
       "      <td>10</td>\n",
       "      <td>0.743928</td>\n",
       "      <td>100</td>\n",
       "      <td>5</td>\n",
       "      <td>0.715</td>\n",
       "      <td>789.975585</td>\n",
       "    </tr>\n",
       "    <tr>\n",
       "      <th>1</th>\n",
       "      <td>10</td>\n",
       "      <td>8.244184</td>\n",
       "      <td>100</td>\n",
       "      <td>5</td>\n",
       "      <td>0.699</td>\n",
       "      <td>109.629819</td>\n",
       "    </tr>\n",
       "    <tr>\n",
       "      <th>2</th>\n",
       "      <td>10</td>\n",
       "      <td>9.534453</td>\n",
       "      <td>100</td>\n",
       "      <td>5</td>\n",
       "      <td>0.715</td>\n",
       "      <td>198.518661</td>\n",
       "    </tr>\n",
       "    <tr>\n",
       "      <th>3</th>\n",
       "      <td>10</td>\n",
       "      <td>8.410734</td>\n",
       "      <td>100</td>\n",
       "      <td>5</td>\n",
       "      <td>0.663</td>\n",
       "      <td>126.216795</td>\n",
       "    </tr>\n",
       "    <tr>\n",
       "      <th>4</th>\n",
       "      <td>10</td>\n",
       "      <td>8.367538</td>\n",
       "      <td>100</td>\n",
       "      <td>5</td>\n",
       "      <td>0.699</td>\n",
       "      <td>253.440020</td>\n",
       "    </tr>\n",
       "  </tbody>\n",
       "</table>\n",
       "</div>"
      ],
      "text/plain": [
       "   NO2_annualMean  NO_annualMean  O3_daily8HrMax  PM2_5_annualMean  \\\n",
       "0              10       0.743928             100                 5   \n",
       "1              10       8.244184             100                 5   \n",
       "2              10       9.534453             100                 5   \n",
       "3              10       8.410734             100                 5   \n",
       "4              10       8.367538             100                 5   \n",
       "\n",
       "   Fully_vaccinated  Population_density  \n",
       "0             0.715          789.975585  \n",
       "1             0.699          109.629819  \n",
       "2             0.715          198.518661  \n",
       "3             0.663          126.216795  \n",
       "4             0.699          253.440020  "
      ]
     },
     "execution_count": 16,
     "metadata": {},
     "output_type": "execute_result"
    }
   ],
   "source": [
    "X_test_poll['PM2_5_annualMean'] = 5\n",
    "X_test_poll['NO2_annualMean'] = 10\n",
    "X_test_poll['O3_daily8HrMax'] = 100\n",
    "X_test_vaxx['Fully_vaccinated'] = 1\n",
    "X_test_poll.head()"
   ]
  },
  {
   "cell_type": "code",
   "execution_count": 17,
   "id": "146df9e1",
   "metadata": {},
   "outputs": [
    {
     "data": {
      "text/html": [
       "<div>\n",
       "<style scoped>\n",
       "    .dataframe tbody tr th:only-of-type {\n",
       "        vertical-align: middle;\n",
       "    }\n",
       "\n",
       "    .dataframe tbody tr th {\n",
       "        vertical-align: top;\n",
       "    }\n",
       "\n",
       "    .dataframe thead th {\n",
       "        text-align: right;\n",
       "    }\n",
       "</style>\n",
       "<table border=\"1\" class=\"dataframe\">\n",
       "  <thead>\n",
       "    <tr style=\"text-align: right;\">\n",
       "      <th></th>\n",
       "      <th>NO2_annualMean</th>\n",
       "      <th>NO_annualMean</th>\n",
       "      <th>O3_daily8HrMax</th>\n",
       "      <th>PM2_5_annualMean</th>\n",
       "      <th>Fully_vaccinated</th>\n",
       "      <th>Population_density</th>\n",
       "    </tr>\n",
       "  </thead>\n",
       "  <tbody>\n",
       "    <tr>\n",
       "      <th>0</th>\n",
       "      <td>8.702983</td>\n",
       "      <td>0.743928</td>\n",
       "      <td>170.913300</td>\n",
       "      <td>12.572421</td>\n",
       "      <td>1</td>\n",
       "      <td>789.975585</td>\n",
       "    </tr>\n",
       "    <tr>\n",
       "      <th>1</th>\n",
       "      <td>16.479730</td>\n",
       "      <td>8.244184</td>\n",
       "      <td>162.577275</td>\n",
       "      <td>12.535452</td>\n",
       "      <td>1</td>\n",
       "      <td>109.629819</td>\n",
       "    </tr>\n",
       "    <tr>\n",
       "      <th>2</th>\n",
       "      <td>17.933774</td>\n",
       "      <td>9.534453</td>\n",
       "      <td>162.327283</td>\n",
       "      <td>12.607750</td>\n",
       "      <td>1</td>\n",
       "      <td>198.518661</td>\n",
       "    </tr>\n",
       "    <tr>\n",
       "      <th>3</th>\n",
       "      <td>16.770445</td>\n",
       "      <td>8.410734</td>\n",
       "      <td>162.274333</td>\n",
       "      <td>12.494203</td>\n",
       "      <td>1</td>\n",
       "      <td>126.216795</td>\n",
       "    </tr>\n",
       "    <tr>\n",
       "      <th>4</th>\n",
       "      <td>16.763028</td>\n",
       "      <td>8.367538</td>\n",
       "      <td>162.801752</td>\n",
       "      <td>12.731934</td>\n",
       "      <td>1</td>\n",
       "      <td>253.440020</td>\n",
       "    </tr>\n",
       "  </tbody>\n",
       "</table>\n",
       "</div>"
      ],
      "text/plain": [
       "   NO2_annualMean  NO_annualMean  O3_daily8HrMax  PM2_5_annualMean  \\\n",
       "0        8.702983       0.743928      170.913300         12.572421   \n",
       "1       16.479730       8.244184      162.577275         12.535452   \n",
       "2       17.933774       9.534453      162.327283         12.607750   \n",
       "3       16.770445       8.410734      162.274333         12.494203   \n",
       "4       16.763028       8.367538      162.801752         12.731934   \n",
       "\n",
       "   Fully_vaccinated  Population_density  \n",
       "0                 1          789.975585  \n",
       "1                 1          109.629819  \n",
       "2                 1          198.518661  \n",
       "3                 1          126.216795  \n",
       "4                 1          253.440020  "
      ]
     },
     "execution_count": 17,
     "metadata": {},
     "output_type": "execute_result"
    }
   ],
   "source": [
    "X_test_vaxx.head()"
   ]
  },
  {
   "cell_type": "code",
   "execution_count": 18,
   "id": "896fd69a",
   "metadata": {},
   "outputs": [],
   "source": [
    "scaled_test_poll = scaler.transform(X_test_poll)\n",
    "scaled_test_vaxx = scaler.transform(X_test_vaxx)"
   ]
  },
  {
   "cell_type": "code",
   "execution_count": 19,
   "id": "ef0e0506",
   "metadata": {},
   "outputs": [
    {
     "name": "stderr",
     "output_type": "stream",
     "text": [
      "/Users/dorienroosen/.pyenv/versions/3.8.12/envs/lung_pollution/lib/python3.8/site-packages/sklearn/base.py:445: UserWarning: X does not have valid feature names, but RandomForestRegressor was fitted with feature names\n",
      "  warnings.warn(\n",
      "/Users/dorienroosen/.pyenv/versions/3.8.12/envs/lung_pollution/lib/python3.8/site-packages/sklearn/base.py:445: UserWarning: X does not have valid feature names, but RandomForestRegressor was fitted with feature names\n",
      "  warnings.warn(\n"
     ]
    }
   ],
   "source": [
    "y_pred_poll = forest.predict(scaled_test_poll)\n",
    "y_pred_vaxx = forest.predict(scaled_test_vaxx)"
   ]
  },
  {
   "cell_type": "code",
   "execution_count": null,
   "id": "37752fcc",
   "metadata": {},
   "outputs": [],
   "source": []
  },
  {
   "cell_type": "code",
   "execution_count": 25,
   "id": "15ddf874",
   "metadata": {},
   "outputs": [
    {
     "name": "stderr",
     "output_type": "stream",
     "text": [
      "/var/folders/py/ydbm54f573b1ymf9x65hf0mm0000gn/T/ipykernel_85767/1536437811.py:3: SettingWithCopyWarning: \n",
      "A value is trying to be set on a copy of a slice from a DataFrame.\n",
      "Try using .loc[row_indexer,col_indexer] = value instead\n",
      "\n",
      "See the caveats in the documentation: https://pandas.pydata.org/pandas-docs/stable/user_guide/indexing.html#returning-a-view-versus-a-copy\n",
      "  X_test_poll['NO2_annualMean'] = 10\n"
     ]
    },
    {
     "data": {
      "text/html": [
       "<div>\n",
       "<style scoped>\n",
       "    .dataframe tbody tr th:only-of-type {\n",
       "        vertical-align: middle;\n",
       "    }\n",
       "\n",
       "    .dataframe tbody tr th {\n",
       "        vertical-align: top;\n",
       "    }\n",
       "\n",
       "    .dataframe thead th {\n",
       "        text-align: right;\n",
       "    }\n",
       "</style>\n",
       "<table border=\"1\" class=\"dataframe\">\n",
       "  <thead>\n",
       "    <tr style=\"text-align: right;\">\n",
       "      <th></th>\n",
       "      <th>NO2_annualMean</th>\n",
       "      <th>NO_annualMean</th>\n",
       "      <th>O3_daily8HrMax</th>\n",
       "      <th>PM2_5_annualMean</th>\n",
       "      <th>Fully_vaccinated</th>\n",
       "      <th>Population_density</th>\n",
       "    </tr>\n",
       "  </thead>\n",
       "  <tbody>\n",
       "    <tr>\n",
       "      <th>0</th>\n",
       "      <td>10</td>\n",
       "      <td>0.743928</td>\n",
       "      <td>170.913300</td>\n",
       "      <td>12.572421</td>\n",
       "      <td>0.715</td>\n",
       "      <td>789.975585</td>\n",
       "    </tr>\n",
       "    <tr>\n",
       "      <th>1</th>\n",
       "      <td>10</td>\n",
       "      <td>8.244184</td>\n",
       "      <td>162.577275</td>\n",
       "      <td>12.535452</td>\n",
       "      <td>0.699</td>\n",
       "      <td>109.629819</td>\n",
       "    </tr>\n",
       "    <tr>\n",
       "      <th>2</th>\n",
       "      <td>10</td>\n",
       "      <td>9.534453</td>\n",
       "      <td>162.327283</td>\n",
       "      <td>12.607750</td>\n",
       "      <td>0.715</td>\n",
       "      <td>198.518661</td>\n",
       "    </tr>\n",
       "    <tr>\n",
       "      <th>3</th>\n",
       "      <td>10</td>\n",
       "      <td>8.410734</td>\n",
       "      <td>162.274333</td>\n",
       "      <td>12.494203</td>\n",
       "      <td>0.663</td>\n",
       "      <td>126.216795</td>\n",
       "    </tr>\n",
       "    <tr>\n",
       "      <th>4</th>\n",
       "      <td>10</td>\n",
       "      <td>8.367538</td>\n",
       "      <td>162.801752</td>\n",
       "      <td>12.731934</td>\n",
       "      <td>0.699</td>\n",
       "      <td>253.440020</td>\n",
       "    </tr>\n",
       "  </tbody>\n",
       "</table>\n",
       "</div>"
      ],
      "text/plain": [
       "   NO2_annualMean  NO_annualMean  O3_daily8HrMax  PM2_5_annualMean  \\\n",
       "0              10       0.743928      170.913300         12.572421   \n",
       "1              10       8.244184      162.577275         12.535452   \n",
       "2              10       9.534453      162.327283         12.607750   \n",
       "3              10       8.410734      162.274333         12.494203   \n",
       "4              10       8.367538      162.801752         12.731934   \n",
       "\n",
       "   Fully_vaccinated  Population_density  \n",
       "0             0.715          789.975585  \n",
       "1             0.699          109.629819  \n",
       "2             0.715          198.518661  \n",
       "3             0.663          126.216795  \n",
       "4             0.699          253.440020  "
      ]
     },
     "execution_count": 25,
     "metadata": {},
     "output_type": "execute_result"
    }
   ],
   "source": [
    "X_test_poll = df_covid_AP_2019[['NO2_annualMean', 'NO_annualMean', 'O3_daily8HrMax', 'PM2_5_annualMean', 'Fully_vaccinated', 'Population_density']]\n",
    "#X_test_poll['PM2_5_annualMean'] = 5\n",
    "X_test_poll['NO2_annualMean'] = 10\n",
    "#X_test_poll['O3_daily8HrMax'] = 100\n",
    "#X_test_vaxx['Fully_vaccinated'] = 1\n",
    "X_test_poll.head()"
   ]
  },
  {
   "cell_type": "code",
   "execution_count": null,
   "id": "a4b524da",
   "metadata": {},
   "outputs": [],
   "source": []
  },
  {
   "cell_type": "code",
   "execution_count": 26,
   "id": "af9edd6f",
   "metadata": {
    "scrolled": true
   },
   "outputs": [
    {
     "data": {
      "text/plain": [
       "<AxesSubplot:ylabel='Count'>"
      ]
     },
     "execution_count": 26,
     "metadata": {},
     "output_type": "execute_result"
    },
    {
     "data": {
      "image/png": "[encoded data removed]",
      "text/plain": [
       "<Figure size 432x288 with 1 Axes>"
      ]
     },
     "metadata": {
      "needs_background": "light"
     },
     "output_type": "display_data"
    }
   ],
   "source": [
    "import matplotlib.pyplot as plt\n",
    "import seaborn as sns\n",
    "sns.histplot(y_pred_poll, color='red')\n",
    "sns.histplot(y_train, color='blue')"
   ]
  },
  {
   "cell_type": "code",
   "execution_count": 21,
   "id": "d7d9e5be",
   "metadata": {},
   "outputs": [
    {
     "data": {
      "text/plain": [
       "<AxesSubplot:ylabel='Count'>"
      ]
     },
     "execution_count": 21,
     "metadata": {},
     "output_type": "execute_result"
    },
    {
     "data": {
      "image/png": "[encoded data removed]",
      "text/plain": [
       "<Figure size 432x288 with 1 Axes>"
      ]
     },
     "metadata": {
      "needs_background": "light"
     },
     "output_type": "display_data"
    }
   ],
   "source": [
    "sns.histplot(y_train, color='blue')\n",
    "sns.histplot(y_pred_vaxx, color='green')"
   ]
  },
  {
   "cell_type": "code",
   "execution_count": null,
   "id": "bb772fc6",
   "metadata": {},
   "outputs": [],
   "source": []
  }
 ],
 "metadata": {
  "kernelspec": {
   "display_name": "Python 3 (ipykernel)",
   "language": "python",
   "name": "python3"
  },
  "language_info": {
   "codemirror_mode": {
    "name": "ipython",
    "version": 3
   },
   "file_extension": ".py",
   "mimetype": "text/x-python",
   "name": "python",
   "nbconvert_exporter": "python",
   "pygments_lexer": "ipython3",
   "version": "3.8.12"
  },
  "toc": {
   "base_numbering": 1,
   "nav_menu": {},
   "number_sections": true,
   "sideBar": true,
   "skip_h1_title": false,
   "title_cell": "Table of Contents",
   "title_sidebar": "Contents",
   "toc_cell": false,
   "toc_position": {},
   "toc_section_display": true,
   "toc_window_display": false
  }
 },
 "nbformat": 4,
 "nbformat_minor": 5
}
