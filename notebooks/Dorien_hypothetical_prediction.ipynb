{
 "cells": [
  {
   "cell_type": "code",
   "execution_count": 1,
   "id": "a1d9977b",
   "metadata": {},
   "outputs": [],
   "source": [
    "import pandas as pd\n",
    "\n",
    "df_covid_AP = pd.read_csv('../lung_pollution/data/covid_pollution_clean02.csv')\n",
    "\n",
    "df_covid_AP.drop(columns='Unnamed: 0', inplace = True)\n",
    "df_covid_AP = df_covid_AP.rename(columns={\"PM2.5_annualMean\": \"PM2_5_annualMean\", \"fully_vaccinated\": \"Fully_vaccinated\", \"Population density\": \"Population_density\"})"
   ]
  },
  {
   "cell_type": "code",
   "execution_count": 2,
   "id": "45426194",
   "metadata": {},
   "outputs": [
    {
     "data": {
      "text/plain": [
       "Index(['county', 'year', 'NO2_annualMean', 'NO2_hrOver200', 'NO_annualMean',\n",
       "       'O3_annualMean', 'O3_daysOver120', 'O3_dailyMaxAnnualMean',\n",
       "       'O3_dailyHourlyMax', 'O3_daily8HrMax', 'PM10_annualMean',\n",
       "       'PM10_daysOver50', 'PM2_5_annualMean', 'BL', 'EWZ', 'Shape__Area',\n",
       "       'death_rate', 'cases', 'deaths', 'cases_per_100k', 'deaths_per_100k',\n",
       "       'Fully_vaccinated', 'Population_density'],\n",
       "      dtype='object')"
      ]
     },
     "execution_count": 2,
     "metadata": {},
     "output_type": "execute_result"
    }
   ],
   "source": [
    "df_covid_AP.columns"
   ]
  },
  {
   "cell_type": "code",
   "execution_count": 3,
   "id": "c53b56da",
   "metadata": {},
   "outputs": [],
   "source": [
    "df_covid_AP.sort_values(['year'], axis=0, ascending=False,inplace=True,ignore_index=True)\n",
    "df_covid_AP_2019 = df_covid_AP[0:400]"
   ]
  },
  {
   "cell_type": "code",
   "execution_count": 4,
   "id": "5a2656fb",
   "metadata": {},
   "outputs": [],
   "source": [
    "import numpy as np"
   ]
  },
  {
   "cell_type": "code",
   "execution_count": 5,
   "id": "af361c4b",
   "metadata": {
    "scrolled": true
   },
   "outputs": [
    {
     "name": "stderr",
     "output_type": "stream",
     "text": [
      "/Users/dorienroosen/.pyenv/versions/3.8.12/envs/lung_pollution/lib/python3.8/site-packages/pandas/core/frame.py:3641: SettingWithCopyWarning: \n",
      "A value is trying to be set on a copy of a slice from a DataFrame.\n",
      "Try using .loc[row_indexer,col_indexer] = value instead\n",
      "\n",
      "See the caveats in the documentation: https://pandas.pydata.org/pandas-docs/stable/user_guide/indexing.html#returning-a-view-versus-a-copy\n",
      "  self[k1] = value[k2]\n"
     ]
    }
   ],
   "source": [
    "X_train = df_covid_AP_2019[['NO2_annualMean', 'NO_annualMean', 'O3_daily8HrMax','PM2_5_annualMean']]\n",
    "X_train[['lnNO2']] = np.log(np.round(X_train[['NO2_annualMean']], 2))\n",
    "X_train[['lnNO']] = np.log(np.round(X_train[['NO_annualMean']], 2))\n",
    "X_train[['lnO3']] = np.log(np.round(X_train[['O3_daily8HrMax']], 2))\n",
    "X_train[['lnPM2_5']] = np.log(np.round(X_train[['PM2_5_annualMean']], 2))\n",
    "y_train = df_covid_AP_2019[['cases_per_100k']]"
   ]
  },
  {
   "cell_type": "code",
   "execution_count": 6,
   "id": "dc7d6d3b",
   "metadata": {},
   "outputs": [
    {
     "data": {
      "text/plain": [
       "(400, 8)"
      ]
     },
     "execution_count": 6,
     "metadata": {},
     "output_type": "execute_result"
    }
   ],
   "source": [
    "X_train.shape"
   ]
  },
  {
   "cell_type": "code",
   "execution_count": 16,
   "id": "2f226eec",
   "metadata": {},
   "outputs": [
    {
     "data": {
      "text/html": [
       "<div>\n",
       "<style scoped>\n",
       "    .dataframe tbody tr th:only-of-type {\n",
       "        vertical-align: middle;\n",
       "    }\n",
       "\n",
       "    .dataframe tbody tr th {\n",
       "        vertical-align: top;\n",
       "    }\n",
       "\n",
       "    .dataframe thead th {\n",
       "        text-align: right;\n",
       "    }\n",
       "</style>\n",
       "<table border=\"1\" class=\"dataframe\">\n",
       "  <thead>\n",
       "    <tr style=\"text-align: right;\">\n",
       "      <th></th>\n",
       "      <th>lnNO2</th>\n",
       "      <th>lnO3</th>\n",
       "      <th>lnPM2_5</th>\n",
       "    </tr>\n",
       "  </thead>\n",
       "  <tbody>\n",
       "    <tr>\n",
       "      <th>count</th>\n",
       "      <td>400.000000</td>\n",
       "      <td>400.000000</td>\n",
       "      <td>400.000000</td>\n",
       "    </tr>\n",
       "    <tr>\n",
       "      <th>mean</th>\n",
       "      <td>2.719541</td>\n",
       "      <td>5.109161</td>\n",
       "      <td>2.481918</td>\n",
       "    </tr>\n",
       "    <tr>\n",
       "      <th>std</th>\n",
       "      <td>0.370334</td>\n",
       "      <td>0.077120</td>\n",
       "      <td>0.127173</td>\n",
       "    </tr>\n",
       "    <tr>\n",
       "      <th>min</th>\n",
       "      <td>1.026042</td>\n",
       "      <td>4.866996</td>\n",
       "      <td>1.719189</td>\n",
       "    </tr>\n",
       "    <tr>\n",
       "      <th>25%</th>\n",
       "      <td>2.666534</td>\n",
       "      <td>5.086902</td>\n",
       "      <td>2.486572</td>\n",
       "    </tr>\n",
       "    <tr>\n",
       "      <th>50%</th>\n",
       "      <td>2.813611</td>\n",
       "      <td>5.091139</td>\n",
       "      <td>2.519710</td>\n",
       "    </tr>\n",
       "    <tr>\n",
       "      <th>75%</th>\n",
       "      <td>2.890927</td>\n",
       "      <td>5.105021</td>\n",
       "      <td>2.539237</td>\n",
       "    </tr>\n",
       "    <tr>\n",
       "      <th>max</th>\n",
       "      <td>3.486457</td>\n",
       "      <td>5.519459</td>\n",
       "      <td>2.932260</td>\n",
       "    </tr>\n",
       "  </tbody>\n",
       "</table>\n",
       "</div>"
      ],
      "text/plain": [
       "            lnNO2        lnO3     lnPM2_5\n",
       "count  400.000000  400.000000  400.000000\n",
       "mean     2.719541    5.109161    2.481918\n",
       "std      0.370334    0.077120    0.127173\n",
       "min      1.026042    4.866996    1.719189\n",
       "25%      2.666534    5.086902    2.486572\n",
       "50%      2.813611    5.091139    2.519710\n",
       "75%      2.890927    5.105021    2.539237\n",
       "max      3.486457    5.519459    2.932260"
      ]
     },
     "execution_count": 16,
     "metadata": {},
     "output_type": "execute_result"
    }
   ],
   "source": [
    "X_train = X_train[['lnNO2','lnO3','lnPM2_5']]\n",
    "X_train.describe()"
   ]
  },
  {
   "cell_type": "code",
   "execution_count": 22,
   "id": "5473a0fe",
   "metadata": {
    "scrolled": true
   },
   "outputs": [],
   "source": [
    "from sklearn.preprocessing import StandardScaler\n",
    "\n",
    "scaler = StandardScaler()  # Instanciate Robust Scaler\n",
    "\n",
    "scaler.fit(X_train)  # Fit scaler to feature\n",
    "scaled_num = scaler.transform(X_train)  #Scale\n",
    "X_train = pd.DataFrame(scaled_num, columns = X_train.columns)"
   ]
  },
  {
   "cell_type": "code",
   "execution_count": 23,
   "id": "cfdb569d",
   "metadata": {},
   "outputs": [
    {
     "data": {
      "text/plain": [
       "lnNO2      True\n",
       "lnO3       True\n",
       "lnPM2_5    True\n",
       "dtype: bool"
      ]
     },
     "execution_count": 23,
     "metadata": {},
     "output_type": "execute_result"
    }
   ],
   "source": [
    "np.isfinite(X_train.all())"
   ]
  },
  {
   "cell_type": "code",
   "execution_count": 24,
   "id": "0092f444",
   "metadata": {},
   "outputs": [
    {
     "name": "stderr",
     "output_type": "stream",
     "text": [
      "/var/folders/py/ydbm54f573b1ymf9x65hf0mm0000gn/T/ipykernel_87568/3732284810.py:5: DataConversionWarning: A column-vector y was passed when a 1d array was expected. Please change the shape of y to (n_samples,), for example using ravel().\n",
      "  forest.fit(X_train,y_train)\n"
     ]
    },
    {
     "name": "stdout",
     "output_type": "stream",
     "text": [
      "R2 RandomForest:  0.6401193251978887\n"
     ]
    }
   ],
   "source": [
    "from sklearn.ensemble import  RandomForestRegressor\n",
    "\n",
    "forest = RandomForestRegressor(min_samples_leaf=3, min_samples_split=3, n_estimators=201)\n",
    "\n",
    "forest.fit(X_train,y_train)\n",
    "\n",
    "print('R2 RandomForest: ', forest.score(X_train,y_train))\n"
   ]
  },
  {
   "cell_type": "code",
   "execution_count": 28,
   "id": "f42baa8d",
   "metadata": {},
   "outputs": [],
   "source": [
    "import seaborn as sns"
   ]
  },
  {
   "cell_type": "code",
   "execution_count": 29,
   "id": "d7d9e5be",
   "metadata": {
    "collapsed": true
   },
   "outputs": [
    {
     "ename": "NameError",
     "evalue": "name 'y_pred_vaxx' is not defined",
     "output_type": "error",
     "traceback": [
      "\u001b[0;31m---------------------------------------------------------------------------\u001b[0m",
      "\u001b[0;31mNameError\u001b[0m                                 Traceback (most recent call last)",
      "\u001b[0;32m/var/folders/py/ydbm54f573b1ymf9x65hf0mm0000gn/T/ipykernel_87568/1860226413.py\u001b[0m in \u001b[0;36m<module>\u001b[0;34m\u001b[0m\n\u001b[1;32m      1\u001b[0m \u001b[0msns\u001b[0m\u001b[0;34m.\u001b[0m\u001b[0mhistplot\u001b[0m\u001b[0;34m(\u001b[0m\u001b[0my_train\u001b[0m\u001b[0;34m,\u001b[0m \u001b[0mcolor\u001b[0m\u001b[0;34m=\u001b[0m\u001b[0;34m'blue'\u001b[0m\u001b[0;34m)\u001b[0m\u001b[0;34m\u001b[0m\u001b[0;34m\u001b[0m\u001b[0m\n\u001b[0;32m----> 2\u001b[0;31m \u001b[0msns\u001b[0m\u001b[0;34m.\u001b[0m\u001b[0mhistplot\u001b[0m\u001b[0;34m(\u001b[0m\u001b[0my_pred_vaxx\u001b[0m\u001b[0;34m,\u001b[0m \u001b[0mcolor\u001b[0m\u001b[0;34m=\u001b[0m\u001b[0;34m'green'\u001b[0m\u001b[0;34m)\u001b[0m\u001b[0;34m\u001b[0m\u001b[0;34m\u001b[0m\u001b[0m\n\u001b[0m",
      "\u001b[0;31mNameError\u001b[0m: name 'y_pred_vaxx' is not defined"
     ]
    },
    {
     "data": {
      "image/png": "[encoded data removed]",
      "text/plain": [
       "<Figure size 432x288 with 1 Axes>"
      ]
     },
     "metadata": {
      "needs_background": "light"
     },
     "output_type": "display_data"
    }
   ],
   "source": [
    "sns.histplot(y_train, color='blue')\n",
    "sns.histplot(y_pred_vaxx, color='green')"
   ]
  },
  {
   "cell_type": "code",
   "execution_count": 30,
   "id": "bb772fc6",
   "metadata": {},
   "outputs": [
    {
     "ename": "KeyError",
     "evalue": "\"None of [Index(['lnNO2', 'lnO3', 'lnPM2_5'], dtype='object')] are in the [columns]\"",
     "output_type": "error",
     "traceback": [
      "\u001b[0;31m---------------------------------------------------------------------------\u001b[0m",
      "\u001b[0;31mKeyError\u001b[0m                                  Traceback (most recent call last)",
      "\u001b[0;32m/var/folders/py/ydbm54f573b1ymf9x65hf0mm0000gn/T/ipykernel_87568/3293061117.py\u001b[0m in \u001b[0;36m<module>\u001b[0;34m\u001b[0m\n\u001b[0;32m----> 1\u001b[0;31m \u001b[0mX_explore\u001b[0m \u001b[0;34m=\u001b[0m \u001b[0mdf_covid_AP_2019\u001b[0m\u001b[0;34m[\u001b[0m\u001b[0;34m[\u001b[0m\u001b[0;34m'lnNO2'\u001b[0m\u001b[0;34m,\u001b[0m\u001b[0;34m'lnO3'\u001b[0m\u001b[0;34m,\u001b[0m\u001b[0;34m'lnPM2_5'\u001b[0m\u001b[0;34m]\u001b[0m\u001b[0;34m]\u001b[0m\u001b[0;34m\u001b[0m\u001b[0;34m\u001b[0m\u001b[0m\n\u001b[0m\u001b[1;32m      2\u001b[0m \u001b[0mX_explore\u001b[0m\u001b[0;34m.\u001b[0m\u001b[0mhead\u001b[0m\u001b[0;34m(\u001b[0m\u001b[0;34m)\u001b[0m\u001b[0;34m\u001b[0m\u001b[0;34m\u001b[0m\u001b[0m\n",
      "\u001b[0;32m~/.pyenv/versions/3.8.12/envs/lung_pollution/lib/python3.8/site-packages/pandas/core/frame.py\u001b[0m in \u001b[0;36m__getitem__\u001b[0;34m(self, key)\u001b[0m\n\u001b[1;32m   3462\u001b[0m             \u001b[0;32mif\u001b[0m \u001b[0mis_iterator\u001b[0m\u001b[0;34m(\u001b[0m\u001b[0mkey\u001b[0m\u001b[0;34m)\u001b[0m\u001b[0;34m:\u001b[0m\u001b[0;34m\u001b[0m\u001b[0;34m\u001b[0m\u001b[0m\n\u001b[1;32m   3463\u001b[0m                 \u001b[0mkey\u001b[0m \u001b[0;34m=\u001b[0m \u001b[0mlist\u001b[0m\u001b[0;34m(\u001b[0m\u001b[0mkey\u001b[0m\u001b[0;34m)\u001b[0m\u001b[0;34m\u001b[0m\u001b[0;34m\u001b[0m\u001b[0m\n\u001b[0;32m-> 3464\u001b[0;31m             \u001b[0mindexer\u001b[0m \u001b[0;34m=\u001b[0m \u001b[0mself\u001b[0m\u001b[0;34m.\u001b[0m\u001b[0mloc\u001b[0m\u001b[0;34m.\u001b[0m\u001b[0m_get_listlike_indexer\u001b[0m\u001b[0;34m(\u001b[0m\u001b[0mkey\u001b[0m\u001b[0;34m,\u001b[0m \u001b[0maxis\u001b[0m\u001b[0;34m=\u001b[0m\u001b[0;36m1\u001b[0m\u001b[0;34m)\u001b[0m\u001b[0;34m[\u001b[0m\u001b[0;36m1\u001b[0m\u001b[0;34m]\u001b[0m\u001b[0;34m\u001b[0m\u001b[0;34m\u001b[0m\u001b[0m\n\u001b[0m\u001b[1;32m   3465\u001b[0m \u001b[0;34m\u001b[0m\u001b[0m\n\u001b[1;32m   3466\u001b[0m         \u001b[0;31m# take() does not accept boolean indexers\u001b[0m\u001b[0;34m\u001b[0m\u001b[0;34m\u001b[0m\u001b[0;34m\u001b[0m\u001b[0m\n",
      "\u001b[0;32m~/.pyenv/versions/3.8.12/envs/lung_pollution/lib/python3.8/site-packages/pandas/core/indexing.py\u001b[0m in \u001b[0;36m_get_listlike_indexer\u001b[0;34m(self, key, axis)\u001b[0m\n\u001b[1;32m   1312\u001b[0m             \u001b[0mkeyarr\u001b[0m\u001b[0;34m,\u001b[0m \u001b[0mindexer\u001b[0m\u001b[0;34m,\u001b[0m \u001b[0mnew_indexer\u001b[0m \u001b[0;34m=\u001b[0m \u001b[0max\u001b[0m\u001b[0;34m.\u001b[0m\u001b[0m_reindex_non_unique\u001b[0m\u001b[0;34m(\u001b[0m\u001b[0mkeyarr\u001b[0m\u001b[0;34m)\u001b[0m\u001b[0;34m\u001b[0m\u001b[0;34m\u001b[0m\u001b[0m\n\u001b[1;32m   1313\u001b[0m \u001b[0;34m\u001b[0m\u001b[0m\n\u001b[0;32m-> 1314\u001b[0;31m         \u001b[0mself\u001b[0m\u001b[0;34m.\u001b[0m\u001b[0m_validate_read_indexer\u001b[0m\u001b[0;34m(\u001b[0m\u001b[0mkeyarr\u001b[0m\u001b[0;34m,\u001b[0m \u001b[0mindexer\u001b[0m\u001b[0;34m,\u001b[0m \u001b[0maxis\u001b[0m\u001b[0;34m)\u001b[0m\u001b[0;34m\u001b[0m\u001b[0;34m\u001b[0m\u001b[0m\n\u001b[0m\u001b[1;32m   1315\u001b[0m \u001b[0;34m\u001b[0m\u001b[0m\n\u001b[1;32m   1316\u001b[0m         if needs_i8_conversion(ax.dtype) or isinstance(\n",
      "\u001b[0;32m~/.pyenv/versions/3.8.12/envs/lung_pollution/lib/python3.8/site-packages/pandas/core/indexing.py\u001b[0m in \u001b[0;36m_validate_read_indexer\u001b[0;34m(self, key, indexer, axis)\u001b[0m\n\u001b[1;32m   1372\u001b[0m                 \u001b[0;32mif\u001b[0m \u001b[0muse_interval_msg\u001b[0m\u001b[0;34m:\u001b[0m\u001b[0;34m\u001b[0m\u001b[0;34m\u001b[0m\u001b[0m\n\u001b[1;32m   1373\u001b[0m                     \u001b[0mkey\u001b[0m \u001b[0;34m=\u001b[0m \u001b[0mlist\u001b[0m\u001b[0;34m(\u001b[0m\u001b[0mkey\u001b[0m\u001b[0;34m)\u001b[0m\u001b[0;34m\u001b[0m\u001b[0;34m\u001b[0m\u001b[0m\n\u001b[0;32m-> 1374\u001b[0;31m                 \u001b[0;32mraise\u001b[0m \u001b[0mKeyError\u001b[0m\u001b[0;34m(\u001b[0m\u001b[0;34mf\"None of [{key}] are in the [{axis_name}]\"\u001b[0m\u001b[0;34m)\u001b[0m\u001b[0;34m\u001b[0m\u001b[0;34m\u001b[0m\u001b[0m\n\u001b[0m\u001b[1;32m   1375\u001b[0m \u001b[0;34m\u001b[0m\u001b[0m\n\u001b[1;32m   1376\u001b[0m             \u001b[0mnot_found\u001b[0m \u001b[0;34m=\u001b[0m \u001b[0mlist\u001b[0m\u001b[0;34m(\u001b[0m\u001b[0mensure_index\u001b[0m\u001b[0;34m(\u001b[0m\u001b[0mkey\u001b[0m\u001b[0;34m)\u001b[0m\u001b[0;34m[\u001b[0m\u001b[0mmissing_mask\u001b[0m\u001b[0;34m.\u001b[0m\u001b[0mnonzero\u001b[0m\u001b[0;34m(\u001b[0m\u001b[0;34m)\u001b[0m\u001b[0;34m[\u001b[0m\u001b[0;36m0\u001b[0m\u001b[0;34m]\u001b[0m\u001b[0;34m]\u001b[0m\u001b[0;34m.\u001b[0m\u001b[0munique\u001b[0m\u001b[0;34m(\u001b[0m\u001b[0;34m)\u001b[0m\u001b[0;34m)\u001b[0m\u001b[0;34m\u001b[0m\u001b[0;34m\u001b[0m\u001b[0m\n",
      "\u001b[0;31mKeyError\u001b[0m: \"None of [Index(['lnNO2', 'lnO3', 'lnPM2_5'], dtype='object')] are in the [columns]\""
     ]
    }
   ],
   "source": [
    "X_explore = df_covid_AP_2019[['lnNO2','lnO3','lnPM2_5']]\n",
    "X_explore.head()"
   ]
  },
  {
   "cell_type": "code",
   "execution_count": 27,
   "id": "0cb6b7e9",
   "metadata": {},
   "outputs": [
    {
     "data": {
      "text/plain": [
       "NO2_annualMean    0.622355\n",
       "dtype: float64"
      ]
     },
     "execution_count": 27,
     "metadata": {},
     "output_type": "execute_result"
    }
   ],
   "source": [
    "NO2mean = X_explore[['NO2_annualMean']].mean()\n",
    "NO2target = 10\n",
    "NO2_red = NO2target/NO2mean\n",
    "NO2_red"
   ]
  },
  {
   "cell_type": "code",
   "execution_count": null,
   "id": "1b8db7ec",
   "metadata": {},
   "outputs": [],
   "source": [
    "O3mean = X_explore[['O3_daily8HrMax']].mean()\n",
    "O3target = 100\n",
    "O3_red = O3target/O3mean\n",
    "O3_red"
   ]
  },
  {
   "cell_type": "code",
   "execution_count": null,
   "id": "6e0d46f4",
   "metadata": {},
   "outputs": [],
   "source": [
    "PM25mean = X_explore[['PM2_5_annualMean']].mean()\n",
    "PM25target = 5\n",
    "PM25_red = PM25target/PM25mean\n",
    "PM25_red"
   ]
  },
  {
   "cell_type": "code",
   "execution_count": null,
   "id": "80bf6539",
   "metadata": {},
   "outputs": [],
   "source": [
    "X_explore.head()"
   ]
  },
  {
   "cell_type": "code",
   "execution_count": null,
   "id": "b012734e",
   "metadata": {},
   "outputs": [],
   "source": [
    "X_explore[['NO2_annualMean']] = X_explore[['NO2_annualMean']] * 0.622355\n",
    "X_explore[['O3_daily8HrMax']] = X_explore[['O3_daily8HrMax']] * 0.602246\n",
    "X_explore[['PM2_5_annualMean']] = X_explore[['PM2_5_annualMean']] * 0.414837\n",
    "X_explore.head()"
   ]
  },
  {
   "cell_type": "code",
   "execution_count": null,
   "id": "5e6bdf4a",
   "metadata": {},
   "outputs": [],
   "source": [
    "scaled_test_explore = scaler.transform(X_explore)"
   ]
  },
  {
   "cell_type": "code",
   "execution_count": null,
   "id": "f02af2ff",
   "metadata": {},
   "outputs": [],
   "source": [
    "y_pred_explore = forest.predict(scaled_test_explore)"
   ]
  },
  {
   "cell_type": "code",
   "execution_count": null,
   "id": "39609aa2",
   "metadata": {},
   "outputs": [],
   "source": [
    "import matplotlib.pyplot as plt\n",
    "import seaborn as sns\n",
    "sns.histplot(y_pred_explore, color='red', binwidth = 666)\n",
    "sns.histplot(y_train, color='blue')"
   ]
  }
 ],
 "metadata": {
  "kernelspec": {
   "display_name": "Python 3 (ipykernel)",
   "language": "python",
   "name": "python3"
  },
  "language_info": {
   "codemirror_mode": {
    "name": "ipython",
    "version": 3
   },
   "file_extension": ".py",
   "mimetype": "text/x-python",
   "name": "python",
   "nbconvert_exporter": "python",
   "pygments_lexer": "ipython3",
   "version": "3.8.12"
  },
  "toc": {
   "base_numbering": 1,
   "nav_menu": {},
   "number_sections": true,
   "sideBar": true,
   "skip_h1_title": false,
   "title_cell": "Table of Contents",
   "title_sidebar": "Contents",
   "toc_cell": false,
   "toc_position": {},
   "toc_section_display": true,
   "toc_window_display": false
  }
 },
 "nbformat": 4,
 "nbformat_minor": 5
}
