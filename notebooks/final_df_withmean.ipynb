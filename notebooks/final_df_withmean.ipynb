{
 "cells": [
  {
   "cell_type": "code",
   "execution_count": null,
   "id": "6ccdf626",
   "metadata": {},
   "outputs": [],
   "source": [
    "import pandas as pd\n",
    "import numpy as np"
   ]
  },
  {
   "cell_type": "code",
   "execution_count": null,
   "id": "870abe76",
   "metadata": {},
   "outputs": [],
   "source": [
    "df_f = pd.read_csv('../lung_pollution/data/final_final.csv',error_bad_lines=False,delimiter=';',decimal=',' )"
   ]
  },
  {
   "cell_type": "code",
   "execution_count": null,
   "id": "922cd10c",
   "metadata": {},
   "outputs": [],
   "source": [
    "df_f.to_csv('../lung_pollution/data/finalfinal_counties.csv')"
   ]
  },
  {
   "cell_type": "code",
   "execution_count": null,
   "id": "2c66a2e7",
   "metadata": {},
   "outputs": [],
   "source": [
    "df_ff=pd.read_csv('../lung_pollution/data/finalfinal_counties.csv')"
   ]
  },
  {
   "cell_type": "code",
   "execution_count": null,
   "id": "246e0b18",
   "metadata": {},
   "outputs": [],
   "source": [
    "df_ff.head()"
   ]
  },
  {
   "cell_type": "code",
   "execution_count": null,
   "id": "f950b789",
   "metadata": {},
   "outputs": [],
   "source": [
    "df_ff.columns"
   ]
  },
  {
   "cell_type": "code",
   "execution_count": null,
   "id": "61805307",
   "metadata": {},
   "outputs": [],
   "source": [
    "# create new columns with mean values for every pollutants for every county"
   ]
  },
  {
   "cell_type": "code",
   "execution_count": 23,
   "id": "535d1606",
   "metadata": {},
   "outputs": [
    {
     "data": {
      "text/html": [
       "<div>\n",
       "<style scoped>\n",
       "    .dataframe tbody tr th:only-of-type {\n",
       "        vertical-align: middle;\n",
       "    }\n",
       "\n",
       "    .dataframe tbody tr th {\n",
       "        vertical-align: top;\n",
       "    }\n",
       "\n",
       "    .dataframe thead th {\n",
       "        text-align: right;\n",
       "    }\n",
       "</style>\n",
       "<table border=\"1\" class=\"dataframe\">\n",
       "  <thead>\n",
       "    <tr style=\"text-align: right;\">\n",
       "      <th></th>\n",
       "      <th>Unnamed: 0</th>\n",
       "      <th>Unnamed: 0.1</th>\n",
       "      <th>id</th>\n",
       "      <th>county_new</th>\n",
       "      <th>county</th>\n",
       "      <th>year</th>\n",
       "      <th>NO2_annualMean</th>\n",
       "      <th>NO2_hrOver200</th>\n",
       "      <th>NO_annualMean</th>\n",
       "      <th>O3_annualMean</th>\n",
       "      <th>...</th>\n",
       "      <th>deaths</th>\n",
       "      <th>cases_per_100k</th>\n",
       "      <th>deaths_per_100k</th>\n",
       "      <th>fully_vaccinated</th>\n",
       "      <th>Population_density</th>\n",
       "      <th>NO2_totMean</th>\n",
       "      <th>NO_totMean</th>\n",
       "      <th>O3_totMean</th>\n",
       "      <th>PM10_totMean</th>\n",
       "      <th>PM2_5_totMean</th>\n",
       "    </tr>\n",
       "  </thead>\n",
       "  <tbody>\n",
       "    <tr>\n",
       "      <th>0</th>\n",
       "      <td>0</td>\n",
       "      <td>0</td>\n",
       "      <td>157</td>\n",
       "      <td>Berlin</td>\n",
       "      <td>Berlin</td>\n",
       "      <td>2010</td>\n",
       "      <td>21.33097</td>\n",
       "      <td>0.0</td>\n",
       "      <td>4.689645</td>\n",
       "      <td>48.14162</td>\n",
       "      <td>...</td>\n",
       "      <td>3759</td>\n",
       "      <td>6640.688066</td>\n",
       "      <td>103.703091</td>\n",
       "      <td>0.688</td>\n",
       "      <td>290.118803</td>\n",
       "      <td>0.0</td>\n",
       "      <td>10.731544</td>\n",
       "      <td>49.340399</td>\n",
       "      <td>21.199402</td>\n",
       "      <td>16.652552</td>\n",
       "    </tr>\n",
       "    <tr>\n",
       "      <th>1</th>\n",
       "      <td>1</td>\n",
       "      <td>1</td>\n",
       "      <td>157</td>\n",
       "      <td>Berlin</td>\n",
       "      <td>Berlin</td>\n",
       "      <td>2011</td>\n",
       "      <td>21.10792</td>\n",
       "      <td>0.0</td>\n",
       "      <td>5.591758</td>\n",
       "      <td>46.78272</td>\n",
       "      <td>...</td>\n",
       "      <td>3759</td>\n",
       "      <td>6640.688066</td>\n",
       "      <td>103.703091</td>\n",
       "      <td>0.688</td>\n",
       "      <td>290.118803</td>\n",
       "      <td>0.0</td>\n",
       "      <td>10.731544</td>\n",
       "      <td>49.340399</td>\n",
       "      <td>21.199402</td>\n",
       "      <td>16.652552</td>\n",
       "    </tr>\n",
       "    <tr>\n",
       "      <th>2</th>\n",
       "      <td>2</td>\n",
       "      <td>2</td>\n",
       "      <td>157</td>\n",
       "      <td>Berlin</td>\n",
       "      <td>Berlin</td>\n",
       "      <td>2012</td>\n",
       "      <td>20.65600</td>\n",
       "      <td>0.0</td>\n",
       "      <td>5.372472</td>\n",
       "      <td>45.26885</td>\n",
       "      <td>...</td>\n",
       "      <td>3759</td>\n",
       "      <td>6640.688066</td>\n",
       "      <td>103.703091</td>\n",
       "      <td>0.688</td>\n",
       "      <td>290.118803</td>\n",
       "      <td>0.0</td>\n",
       "      <td>10.731544</td>\n",
       "      <td>49.340399</td>\n",
       "      <td>21.199402</td>\n",
       "      <td>16.652552</td>\n",
       "    </tr>\n",
       "    <tr>\n",
       "      <th>3</th>\n",
       "      <td>3</td>\n",
       "      <td>3</td>\n",
       "      <td>157</td>\n",
       "      <td>Berlin</td>\n",
       "      <td>Berlin</td>\n",
       "      <td>2013</td>\n",
       "      <td>19.16632</td>\n",
       "      <td>0.0</td>\n",
       "      <td>4.376160</td>\n",
       "      <td>47.91164</td>\n",
       "      <td>...</td>\n",
       "      <td>3759</td>\n",
       "      <td>6640.688066</td>\n",
       "      <td>103.703091</td>\n",
       "      <td>0.688</td>\n",
       "      <td>290.118803</td>\n",
       "      <td>0.0</td>\n",
       "      <td>10.731544</td>\n",
       "      <td>49.340399</td>\n",
       "      <td>21.199402</td>\n",
       "      <td>16.652552</td>\n",
       "    </tr>\n",
       "    <tr>\n",
       "      <th>4</th>\n",
       "      <td>4</td>\n",
       "      <td>4</td>\n",
       "      <td>157</td>\n",
       "      <td>Berlin</td>\n",
       "      <td>Berlin</td>\n",
       "      <td>2014</td>\n",
       "      <td>20.46666</td>\n",
       "      <td>0.0</td>\n",
       "      <td>15.755060</td>\n",
       "      <td>47.80345</td>\n",
       "      <td>...</td>\n",
       "      <td>3759</td>\n",
       "      <td>6640.688066</td>\n",
       "      <td>103.703091</td>\n",
       "      <td>0.688</td>\n",
       "      <td>290.118803</td>\n",
       "      <td>0.0</td>\n",
       "      <td>10.731544</td>\n",
       "      <td>49.340399</td>\n",
       "      <td>21.199402</td>\n",
       "      <td>16.652552</td>\n",
       "    </tr>\n",
       "  </tbody>\n",
       "</table>\n",
       "<p>5 rows × 32 columns</p>\n",
       "</div>"
      ],
      "text/plain": [
       "   Unnamed: 0  Unnamed: 0.1   id county_new  county  year  NO2_annualMean  \\\n",
       "0           0             0  157     Berlin  Berlin  2010        21.33097   \n",
       "1           1             1  157     Berlin  Berlin  2011        21.10792   \n",
       "2           2             2  157     Berlin  Berlin  2012        20.65600   \n",
       "3           3             3  157     Berlin  Berlin  2013        19.16632   \n",
       "4           4             4  157     Berlin  Berlin  2014        20.46666   \n",
       "\n",
       "   NO2_hrOver200  NO_annualMean  O3_annualMean  ...  deaths  cases_per_100k  \\\n",
       "0            0.0       4.689645       48.14162  ...    3759     6640.688066   \n",
       "1            0.0       5.591758       46.78272  ...    3759     6640.688066   \n",
       "2            0.0       5.372472       45.26885  ...    3759     6640.688066   \n",
       "3            0.0       4.376160       47.91164  ...    3759     6640.688066   \n",
       "4            0.0      15.755060       47.80345  ...    3759     6640.688066   \n",
       "\n",
       "   deaths_per_100k  fully_vaccinated  Population_density  NO2_totMean  \\\n",
       "0       103.703091             0.688          290.118803          0.0   \n",
       "1       103.703091             0.688          290.118803          0.0   \n",
       "2       103.703091             0.688          290.118803          0.0   \n",
       "3       103.703091             0.688          290.118803          0.0   \n",
       "4       103.703091             0.688          290.118803          0.0   \n",
       "\n",
       "   NO_totMean O3_totMean  PM10_totMean  PM2_5_totMean  \n",
       "0   10.731544  49.340399     21.199402      16.652552  \n",
       "1   10.731544  49.340399     21.199402      16.652552  \n",
       "2   10.731544  49.340399     21.199402      16.652552  \n",
       "3   10.731544  49.340399     21.199402      16.652552  \n",
       "4   10.731544  49.340399     21.199402      16.652552  \n",
       "\n",
       "[5 rows x 32 columns]"
      ]
     },
     "execution_count": 23,
     "metadata": {},
     "output_type": "execute_result"
    }
   ],
   "source": [
    "df_ff['NO2_totMean'] = np.zeros(df_ff.shape[0])\n",
    "df_ff.head()"
   ]
  },
  {
   "cell_type": "code",
   "execution_count": 24,
   "id": "7f8d4282",
   "metadata": {
    "scrolled": true
   },
   "outputs": [],
   "source": [
    "for county in df_ff['county'].unique():\n",
    "    a=df_ff[df_ff['county'].isin([county])]\n",
    "    inds =df_ff['county'].isin([county])\n",
    "    b = np.unique(a['NO2_annualMean'].mean())\n",
    "    df_ff.at[inds,'NO2_totMean']=b[0] \n",
    "\n",
    "     "
   ]
  },
  {
   "cell_type": "code",
   "execution_count": 25,
   "id": "98a3e94a",
   "metadata": {},
   "outputs": [],
   "source": [
    "## create it for the pthers"
   ]
  },
  {
   "cell_type": "code",
   "execution_count": 26,
   "id": "08864eaa",
   "metadata": {},
   "outputs": [],
   "source": [
    "df_ff['NO_totMean'] = np.zeros(df_ff.shape[0])"
   ]
  },
  {
   "cell_type": "code",
   "execution_count": 27,
   "id": "de75f3d8",
   "metadata": {},
   "outputs": [],
   "source": [
    "for county in df_ff['county'].unique():\n",
    "    a=df_ff[df_ff['county'].isin([county])]\n",
    "    inds =df_ff['county'].isin([county])\n",
    "    b = np.unique(a['NO_annualMean'].mean())\n",
    "    df_ff.at[inds,'NO_totMean']=b[0] \n"
   ]
  },
  {
   "cell_type": "code",
   "execution_count": 28,
   "id": "1acbe247",
   "metadata": {},
   "outputs": [],
   "source": [
    "df_ff['O3_totMean'] = np.zeros(df_ff.shape[0])"
   ]
  },
  {
   "cell_type": "code",
   "execution_count": 29,
   "id": "402268f6",
   "metadata": {},
   "outputs": [],
   "source": [
    "for county in df_ff['county'].unique():\n",
    "    a=df_ff[df_ff['county'].isin([county])]\n",
    "    inds =df_ff['county'].isin([county])\n",
    "    b = np.unique(a['O3_annualMean'].mean())\n",
    "    df_ff.at[inds,'O3_totMean']=b[0] "
   ]
  },
  {
   "cell_type": "code",
   "execution_count": 30,
   "id": "61cd6f0d",
   "metadata": {},
   "outputs": [],
   "source": [
    "df_ff['PM10_totMean'] = np.zeros(df_ff.shape[0])"
   ]
  },
  {
   "cell_type": "code",
   "execution_count": 31,
   "id": "f53bb45e",
   "metadata": {},
   "outputs": [],
   "source": [
    "for county in df_ff['county'].unique():\n",
    "    a=df_ff[df_ff['county'].isin([county])]\n",
    "    inds =df_ff['county'].isin([county])\n",
    "    b = np.unique(a['PM10_annualMean'].mean())\n",
    "    df_ff.at[inds,'PM10_totMean']=b[0]"
   ]
  },
  {
   "cell_type": "code",
   "execution_count": 32,
   "id": "56ab5e22",
   "metadata": {},
   "outputs": [],
   "source": [
    "\n",
    "df_ff['PM2_5_totMean'] = np.zeros(df_ff.shape[0])"
   ]
  },
  {
   "cell_type": "code",
   "execution_count": 33,
   "id": "8580b17c",
   "metadata": {},
   "outputs": [],
   "source": [
    "for county in df_ff['county'].unique():\n",
    "    a=df_ff[df_ff['county'].isin([county])]\n",
    "    inds =df_ff['county'].isin([county])\n",
    "    b = np.unique(a['PM2_5_annualMean'].mean())\n",
    "    df_ff.at[inds,'PM2_5_totMean']=b[0]"
   ]
  },
  {
   "cell_type": "code",
   "execution_count": 34,
   "id": "827a4b9f",
   "metadata": {},
   "outputs": [
    {
     "data": {
      "text/html": [
       "<div>\n",
       "<style scoped>\n",
       "    .dataframe tbody tr th:only-of-type {\n",
       "        vertical-align: middle;\n",
       "    }\n",
       "\n",
       "    .dataframe tbody tr th {\n",
       "        vertical-align: top;\n",
       "    }\n",
       "\n",
       "    .dataframe thead th {\n",
       "        text-align: right;\n",
       "    }\n",
       "</style>\n",
       "<table border=\"1\" class=\"dataframe\">\n",
       "  <thead>\n",
       "    <tr style=\"text-align: right;\">\n",
       "      <th></th>\n",
       "      <th>Unnamed: 0</th>\n",
       "      <th>Unnamed: 0.1</th>\n",
       "      <th>id</th>\n",
       "      <th>county_new</th>\n",
       "      <th>county</th>\n",
       "      <th>year</th>\n",
       "      <th>NO2_annualMean</th>\n",
       "      <th>NO2_hrOver200</th>\n",
       "      <th>NO_annualMean</th>\n",
       "      <th>O3_annualMean</th>\n",
       "      <th>...</th>\n",
       "      <th>deaths</th>\n",
       "      <th>cases_per_100k</th>\n",
       "      <th>deaths_per_100k</th>\n",
       "      <th>fully_vaccinated</th>\n",
       "      <th>Population_density</th>\n",
       "      <th>NO2_totMean</th>\n",
       "      <th>NO_totMean</th>\n",
       "      <th>O3_totMean</th>\n",
       "      <th>PM10_totMean</th>\n",
       "      <th>PM2_5_totMean</th>\n",
       "    </tr>\n",
       "  </thead>\n",
       "  <tbody>\n",
       "    <tr>\n",
       "      <th>0</th>\n",
       "      <td>0</td>\n",
       "      <td>0</td>\n",
       "      <td>157</td>\n",
       "      <td>Berlin</td>\n",
       "      <td>Berlin</td>\n",
       "      <td>2010</td>\n",
       "      <td>21.33097</td>\n",
       "      <td>0.0</td>\n",
       "      <td>4.689645</td>\n",
       "      <td>48.14162</td>\n",
       "      <td>...</td>\n",
       "      <td>3759</td>\n",
       "      <td>6640.688066</td>\n",
       "      <td>103.703091</td>\n",
       "      <td>0.688</td>\n",
       "      <td>290.118803</td>\n",
       "      <td>20.026733</td>\n",
       "      <td>10.731544</td>\n",
       "      <td>49.340399</td>\n",
       "      <td>21.199402</td>\n",
       "      <td>16.652552</td>\n",
       "    </tr>\n",
       "    <tr>\n",
       "      <th>1</th>\n",
       "      <td>1</td>\n",
       "      <td>1</td>\n",
       "      <td>157</td>\n",
       "      <td>Berlin</td>\n",
       "      <td>Berlin</td>\n",
       "      <td>2011</td>\n",
       "      <td>21.10792</td>\n",
       "      <td>0.0</td>\n",
       "      <td>5.591758</td>\n",
       "      <td>46.78272</td>\n",
       "      <td>...</td>\n",
       "      <td>3759</td>\n",
       "      <td>6640.688066</td>\n",
       "      <td>103.703091</td>\n",
       "      <td>0.688</td>\n",
       "      <td>290.118803</td>\n",
       "      <td>20.026733</td>\n",
       "      <td>10.731544</td>\n",
       "      <td>49.340399</td>\n",
       "      <td>21.199402</td>\n",
       "      <td>16.652552</td>\n",
       "    </tr>\n",
       "    <tr>\n",
       "      <th>2</th>\n",
       "      <td>2</td>\n",
       "      <td>2</td>\n",
       "      <td>157</td>\n",
       "      <td>Berlin</td>\n",
       "      <td>Berlin</td>\n",
       "      <td>2012</td>\n",
       "      <td>20.65600</td>\n",
       "      <td>0.0</td>\n",
       "      <td>5.372472</td>\n",
       "      <td>45.26885</td>\n",
       "      <td>...</td>\n",
       "      <td>3759</td>\n",
       "      <td>6640.688066</td>\n",
       "      <td>103.703091</td>\n",
       "      <td>0.688</td>\n",
       "      <td>290.118803</td>\n",
       "      <td>20.026733</td>\n",
       "      <td>10.731544</td>\n",
       "      <td>49.340399</td>\n",
       "      <td>21.199402</td>\n",
       "      <td>16.652552</td>\n",
       "    </tr>\n",
       "    <tr>\n",
       "      <th>3</th>\n",
       "      <td>3</td>\n",
       "      <td>3</td>\n",
       "      <td>157</td>\n",
       "      <td>Berlin</td>\n",
       "      <td>Berlin</td>\n",
       "      <td>2013</td>\n",
       "      <td>19.16632</td>\n",
       "      <td>0.0</td>\n",
       "      <td>4.376160</td>\n",
       "      <td>47.91164</td>\n",
       "      <td>...</td>\n",
       "      <td>3759</td>\n",
       "      <td>6640.688066</td>\n",
       "      <td>103.703091</td>\n",
       "      <td>0.688</td>\n",
       "      <td>290.118803</td>\n",
       "      <td>20.026733</td>\n",
       "      <td>10.731544</td>\n",
       "      <td>49.340399</td>\n",
       "      <td>21.199402</td>\n",
       "      <td>16.652552</td>\n",
       "    </tr>\n",
       "    <tr>\n",
       "      <th>4</th>\n",
       "      <td>4</td>\n",
       "      <td>4</td>\n",
       "      <td>157</td>\n",
       "      <td>Berlin</td>\n",
       "      <td>Berlin</td>\n",
       "      <td>2014</td>\n",
       "      <td>20.46666</td>\n",
       "      <td>0.0</td>\n",
       "      <td>15.755060</td>\n",
       "      <td>47.80345</td>\n",
       "      <td>...</td>\n",
       "      <td>3759</td>\n",
       "      <td>6640.688066</td>\n",
       "      <td>103.703091</td>\n",
       "      <td>0.688</td>\n",
       "      <td>290.118803</td>\n",
       "      <td>20.026733</td>\n",
       "      <td>10.731544</td>\n",
       "      <td>49.340399</td>\n",
       "      <td>21.199402</td>\n",
       "      <td>16.652552</td>\n",
       "    </tr>\n",
       "  </tbody>\n",
       "</table>\n",
       "<p>5 rows × 32 columns</p>\n",
       "</div>"
      ],
      "text/plain": [
       "   Unnamed: 0  Unnamed: 0.1   id county_new  county  year  NO2_annualMean  \\\n",
       "0           0             0  157     Berlin  Berlin  2010        21.33097   \n",
       "1           1             1  157     Berlin  Berlin  2011        21.10792   \n",
       "2           2             2  157     Berlin  Berlin  2012        20.65600   \n",
       "3           3             3  157     Berlin  Berlin  2013        19.16632   \n",
       "4           4             4  157     Berlin  Berlin  2014        20.46666   \n",
       "\n",
       "   NO2_hrOver200  NO_annualMean  O3_annualMean  ...  deaths  cases_per_100k  \\\n",
       "0            0.0       4.689645       48.14162  ...    3759     6640.688066   \n",
       "1            0.0       5.591758       46.78272  ...    3759     6640.688066   \n",
       "2            0.0       5.372472       45.26885  ...    3759     6640.688066   \n",
       "3            0.0       4.376160       47.91164  ...    3759     6640.688066   \n",
       "4            0.0      15.755060       47.80345  ...    3759     6640.688066   \n",
       "\n",
       "   deaths_per_100k  fully_vaccinated  Population_density  NO2_totMean  \\\n",
       "0       103.703091             0.688          290.118803    20.026733   \n",
       "1       103.703091             0.688          290.118803    20.026733   \n",
       "2       103.703091             0.688          290.118803    20.026733   \n",
       "3       103.703091             0.688          290.118803    20.026733   \n",
       "4       103.703091             0.688          290.118803    20.026733   \n",
       "\n",
       "   NO_totMean O3_totMean  PM10_totMean  PM2_5_totMean  \n",
       "0   10.731544  49.340399     21.199402      16.652552  \n",
       "1   10.731544  49.340399     21.199402      16.652552  \n",
       "2   10.731544  49.340399     21.199402      16.652552  \n",
       "3   10.731544  49.340399     21.199402      16.652552  \n",
       "4   10.731544  49.340399     21.199402      16.652552  \n",
       "\n",
       "[5 rows x 32 columns]"
      ]
     },
     "execution_count": 34,
     "metadata": {},
     "output_type": "execute_result"
    }
   ],
   "source": [
    "\n",
    "#df_ff.drop(df_ff['03_totMean'], axis=1, inplace=True)\n",
    "df_ff.head()"
   ]
  },
  {
   "cell_type": "code",
   "execution_count": 35,
   "id": "d4a3bf1f",
   "metadata": {},
   "outputs": [],
   "source": [
    "final_df = df_ff.copy() "
   ]
  },
  {
   "cell_type": "code",
   "execution_count": 36,
   "id": "7ee5af53",
   "metadata": {},
   "outputs": [],
   "source": [
    "final_df.to_csv('../lung_pollution/data/final_smean.csv')"
   ]
  },
  {
   "cell_type": "code",
   "execution_count": 37,
   "id": "6730722d",
   "metadata": {},
   "outputs": [
    {
     "ename": "KeyError",
     "evalue": "\"['Column1'] not found in axis\"",
     "output_type": "error",
     "traceback": [
      "\u001b[0;31m---------------------------------------------------------------------------\u001b[0m",
      "\u001b[0;31mKeyError\u001b[0m                                  Traceback (most recent call last)",
      "\u001b[0;32m/var/folders/yr/j4ck4znx5_d2k5hq16k_4bmr0000gn/T/ipykernel_73638/3901986950.py\u001b[0m in \u001b[0;36m<module>\u001b[0;34m\u001b[0m\n\u001b[0;32m----> 1\u001b[0;31m \u001b[0mfinal_df\u001b[0m\u001b[0;34m.\u001b[0m\u001b[0mdrop\u001b[0m\u001b[0;34m(\u001b[0m\u001b[0;34m[\u001b[0m\u001b[0;34m'Unnamed: 0'\u001b[0m\u001b[0;34m,\u001b[0m\u001b[0;34m'Unnamed: 0.1'\u001b[0m\u001b[0;34m,\u001b[0m\u001b[0;34m'Column1'\u001b[0m\u001b[0;34m]\u001b[0m\u001b[0;34m,\u001b[0m \u001b[0maxis\u001b[0m\u001b[0;34m=\u001b[0m\u001b[0;36m1\u001b[0m\u001b[0;34m,\u001b[0m\u001b[0minplace\u001b[0m\u001b[0;34m=\u001b[0m\u001b[0;32mTrue\u001b[0m\u001b[0;34m)\u001b[0m\u001b[0;34m\u001b[0m\u001b[0;34m\u001b[0m\u001b[0m\n\u001b[0m",
      "\u001b[0;32m~/.pyenv/versions/3.8.12/envs/lung_pollution/lib/python3.8/site-packages/pandas/util/_decorators.py\u001b[0m in \u001b[0;36mwrapper\u001b[0;34m(*args, **kwargs)\u001b[0m\n\u001b[1;32m    309\u001b[0m                     \u001b[0mstacklevel\u001b[0m\u001b[0;34m=\u001b[0m\u001b[0mstacklevel\u001b[0m\u001b[0;34m,\u001b[0m\u001b[0;34m\u001b[0m\u001b[0;34m\u001b[0m\u001b[0m\n\u001b[1;32m    310\u001b[0m                 )\n\u001b[0;32m--> 311\u001b[0;31m             \u001b[0;32mreturn\u001b[0m \u001b[0mfunc\u001b[0m\u001b[0;34m(\u001b[0m\u001b[0;34m*\u001b[0m\u001b[0margs\u001b[0m\u001b[0;34m,\u001b[0m \u001b[0;34m**\u001b[0m\u001b[0mkwargs\u001b[0m\u001b[0;34m)\u001b[0m\u001b[0;34m\u001b[0m\u001b[0;34m\u001b[0m\u001b[0m\n\u001b[0m\u001b[1;32m    312\u001b[0m \u001b[0;34m\u001b[0m\u001b[0m\n\u001b[1;32m    313\u001b[0m         \u001b[0;32mreturn\u001b[0m \u001b[0mwrapper\u001b[0m\u001b[0;34m\u001b[0m\u001b[0;34m\u001b[0m\u001b[0m\n",
      "\u001b[0;32m~/.pyenv/versions/3.8.12/envs/lung_pollution/lib/python3.8/site-packages/pandas/core/frame.py\u001b[0m in \u001b[0;36mdrop\u001b[0;34m(self, labels, axis, index, columns, level, inplace, errors)\u001b[0m\n\u001b[1;32m   4904\u001b[0m                 \u001b[0mweight\u001b[0m  \u001b[0;36m1.0\u001b[0m     \u001b[0;36m0.8\u001b[0m\u001b[0;34m\u001b[0m\u001b[0;34m\u001b[0m\u001b[0m\n\u001b[1;32m   4905\u001b[0m         \"\"\"\n\u001b[0;32m-> 4906\u001b[0;31m         return super().drop(\n\u001b[0m\u001b[1;32m   4907\u001b[0m             \u001b[0mlabels\u001b[0m\u001b[0;34m=\u001b[0m\u001b[0mlabels\u001b[0m\u001b[0;34m,\u001b[0m\u001b[0;34m\u001b[0m\u001b[0;34m\u001b[0m\u001b[0m\n\u001b[1;32m   4908\u001b[0m             \u001b[0maxis\u001b[0m\u001b[0;34m=\u001b[0m\u001b[0maxis\u001b[0m\u001b[0;34m,\u001b[0m\u001b[0;34m\u001b[0m\u001b[0;34m\u001b[0m\u001b[0m\n",
      "\u001b[0;32m~/.pyenv/versions/3.8.12/envs/lung_pollution/lib/python3.8/site-packages/pandas/core/generic.py\u001b[0m in \u001b[0;36mdrop\u001b[0;34m(self, labels, axis, index, columns, level, inplace, errors)\u001b[0m\n\u001b[1;32m   4148\u001b[0m         \u001b[0;32mfor\u001b[0m \u001b[0maxis\u001b[0m\u001b[0;34m,\u001b[0m \u001b[0mlabels\u001b[0m \u001b[0;32min\u001b[0m \u001b[0maxes\u001b[0m\u001b[0;34m.\u001b[0m\u001b[0mitems\u001b[0m\u001b[0;34m(\u001b[0m\u001b[0;34m)\u001b[0m\u001b[0;34m:\u001b[0m\u001b[0;34m\u001b[0m\u001b[0;34m\u001b[0m\u001b[0m\n\u001b[1;32m   4149\u001b[0m             \u001b[0;32mif\u001b[0m \u001b[0mlabels\u001b[0m \u001b[0;32mis\u001b[0m \u001b[0;32mnot\u001b[0m \u001b[0;32mNone\u001b[0m\u001b[0;34m:\u001b[0m\u001b[0;34m\u001b[0m\u001b[0;34m\u001b[0m\u001b[0m\n\u001b[0;32m-> 4150\u001b[0;31m                 \u001b[0mobj\u001b[0m \u001b[0;34m=\u001b[0m \u001b[0mobj\u001b[0m\u001b[0;34m.\u001b[0m\u001b[0m_drop_axis\u001b[0m\u001b[0;34m(\u001b[0m\u001b[0mlabels\u001b[0m\u001b[0;34m,\u001b[0m \u001b[0maxis\u001b[0m\u001b[0;34m,\u001b[0m \u001b[0mlevel\u001b[0m\u001b[0;34m=\u001b[0m\u001b[0mlevel\u001b[0m\u001b[0;34m,\u001b[0m \u001b[0merrors\u001b[0m\u001b[0;34m=\u001b[0m\u001b[0merrors\u001b[0m\u001b[0;34m)\u001b[0m\u001b[0;34m\u001b[0m\u001b[0;34m\u001b[0m\u001b[0m\n\u001b[0m\u001b[1;32m   4151\u001b[0m \u001b[0;34m\u001b[0m\u001b[0m\n\u001b[1;32m   4152\u001b[0m         \u001b[0;32mif\u001b[0m \u001b[0minplace\u001b[0m\u001b[0;34m:\u001b[0m\u001b[0;34m\u001b[0m\u001b[0;34m\u001b[0m\u001b[0m\n",
      "\u001b[0;32m~/.pyenv/versions/3.8.12/envs/lung_pollution/lib/python3.8/site-packages/pandas/core/generic.py\u001b[0m in \u001b[0;36m_drop_axis\u001b[0;34m(self, labels, axis, level, errors)\u001b[0m\n\u001b[1;32m   4183\u001b[0m                 \u001b[0mnew_axis\u001b[0m \u001b[0;34m=\u001b[0m \u001b[0maxis\u001b[0m\u001b[0;34m.\u001b[0m\u001b[0mdrop\u001b[0m\u001b[0;34m(\u001b[0m\u001b[0mlabels\u001b[0m\u001b[0;34m,\u001b[0m \u001b[0mlevel\u001b[0m\u001b[0;34m=\u001b[0m\u001b[0mlevel\u001b[0m\u001b[0;34m,\u001b[0m \u001b[0merrors\u001b[0m\u001b[0;34m=\u001b[0m\u001b[0merrors\u001b[0m\u001b[0;34m)\u001b[0m\u001b[0;34m\u001b[0m\u001b[0;34m\u001b[0m\u001b[0m\n\u001b[1;32m   4184\u001b[0m             \u001b[0;32melse\u001b[0m\u001b[0;34m:\u001b[0m\u001b[0;34m\u001b[0m\u001b[0;34m\u001b[0m\u001b[0m\n\u001b[0;32m-> 4185\u001b[0;31m                 \u001b[0mnew_axis\u001b[0m \u001b[0;34m=\u001b[0m \u001b[0maxis\u001b[0m\u001b[0;34m.\u001b[0m\u001b[0mdrop\u001b[0m\u001b[0;34m(\u001b[0m\u001b[0mlabels\u001b[0m\u001b[0;34m,\u001b[0m \u001b[0merrors\u001b[0m\u001b[0;34m=\u001b[0m\u001b[0merrors\u001b[0m\u001b[0;34m)\u001b[0m\u001b[0;34m\u001b[0m\u001b[0;34m\u001b[0m\u001b[0m\n\u001b[0m\u001b[1;32m   4186\u001b[0m             \u001b[0mresult\u001b[0m \u001b[0;34m=\u001b[0m \u001b[0mself\u001b[0m\u001b[0;34m.\u001b[0m\u001b[0mreindex\u001b[0m\u001b[0;34m(\u001b[0m\u001b[0;34m**\u001b[0m\u001b[0;34m{\u001b[0m\u001b[0maxis_name\u001b[0m\u001b[0;34m:\u001b[0m \u001b[0mnew_axis\u001b[0m\u001b[0;34m}\u001b[0m\u001b[0;34m)\u001b[0m\u001b[0;34m\u001b[0m\u001b[0;34m\u001b[0m\u001b[0m\n\u001b[1;32m   4187\u001b[0m \u001b[0;34m\u001b[0m\u001b[0m\n",
      "\u001b[0;32m~/.pyenv/versions/3.8.12/envs/lung_pollution/lib/python3.8/site-packages/pandas/core/indexes/base.py\u001b[0m in \u001b[0;36mdrop\u001b[0;34m(self, labels, errors)\u001b[0m\n\u001b[1;32m   6015\u001b[0m         \u001b[0;32mif\u001b[0m \u001b[0mmask\u001b[0m\u001b[0;34m.\u001b[0m\u001b[0many\u001b[0m\u001b[0;34m(\u001b[0m\u001b[0;34m)\u001b[0m\u001b[0;34m:\u001b[0m\u001b[0;34m\u001b[0m\u001b[0;34m\u001b[0m\u001b[0m\n\u001b[1;32m   6016\u001b[0m             \u001b[0;32mif\u001b[0m \u001b[0merrors\u001b[0m \u001b[0;34m!=\u001b[0m \u001b[0;34m\"ignore\"\u001b[0m\u001b[0;34m:\u001b[0m\u001b[0;34m\u001b[0m\u001b[0;34m\u001b[0m\u001b[0m\n\u001b[0;32m-> 6017\u001b[0;31m                 \u001b[0;32mraise\u001b[0m \u001b[0mKeyError\u001b[0m\u001b[0;34m(\u001b[0m\u001b[0;34mf\"{labels[mask]} not found in axis\"\u001b[0m\u001b[0;34m)\u001b[0m\u001b[0;34m\u001b[0m\u001b[0;34m\u001b[0m\u001b[0m\n\u001b[0m\u001b[1;32m   6018\u001b[0m             \u001b[0mindexer\u001b[0m \u001b[0;34m=\u001b[0m \u001b[0mindexer\u001b[0m\u001b[0;34m[\u001b[0m\u001b[0;34m~\u001b[0m\u001b[0mmask\u001b[0m\u001b[0;34m]\u001b[0m\u001b[0;34m\u001b[0m\u001b[0;34m\u001b[0m\u001b[0m\n\u001b[1;32m   6019\u001b[0m         \u001b[0;32mreturn\u001b[0m \u001b[0mself\u001b[0m\u001b[0;34m.\u001b[0m\u001b[0mdelete\u001b[0m\u001b[0;34m(\u001b[0m\u001b[0mindexer\u001b[0m\u001b[0;34m)\u001b[0m\u001b[0;34m\u001b[0m\u001b[0;34m\u001b[0m\u001b[0m\n",
      "\u001b[0;31mKeyError\u001b[0m: \"['Column1'] not found in axis\""
     ]
    }
   ],
   "source": [
    "final_df.drop(['Unnamed: 0','Unnamed: 0.1','Column1'], axis=1,inplace=True)"
   ]
  },
  {
   "cell_type": "code",
   "execution_count": null,
   "id": "18d540ca",
   "metadata": {},
   "outputs": [],
   "source": [
    "final_df.to_csv('../lung_pollution/data/final_mean_last.csv')"
   ]
  },
  {
   "cell_type": "code",
   "execution_count": null,
   "id": "7e81f878",
   "metadata": {},
   "outputs": [],
   "source": [
    "import matplotlib.pyplot as plt"
   ]
  },
  {
   "cell_type": "code",
   "execution_count": null,
   "id": "d1d417fd",
   "metadata": {},
   "outputs": [],
   "source": [
    "df_num = final_df[['NO2_totMean', 'NO2_hrOver200', 'NO_totMean',\n",
    "       'O3_totMean', 'O3_daysOver120', 'O3_dailyMaxAnnualMean',\n",
    "       'O3_dailyHourlyMax', 'O3_daily8HrMax', 'PM10_totMean',\n",
    "       'PM10_daysOver50', 'PM2_5_totMean', 'fully_vaccinated', 'Population_density', 'cases_per_100k', 'deaths_per_100k'\n",
    "       ]]\n",
    "\n"
   ]
  },
  {
   "cell_type": "code",
   "execution_count": null,
   "id": "32c449df",
   "metadata": {},
   "outputs": [],
   "source": [
    "from sklearn.preprocessing import RobustScaler\n",
    "\n",
    "r_scaler = RobustScaler()  # Instanciate Robust Scaler\n",
    "\n",
    "r_scaler.fit(df_num)  # Fit scaler to feature\n",
    "scaled_num = r_scaler.transform(df_num)  #Scale\n",
    "\n",
    "df_num = pd.DataFrame(scaled_num, columns = df_num.columns)\n",
    "\n"
   ]
  },
  {
   "cell_type": "code",
   "execution_count": null,
   "id": "f5011f9d",
   "metadata": {},
   "outputs": [],
   "source": [
    "target_list = ['cases_per_100k', 'deaths_per_100k']"
   ]
  },
  {
   "cell_type": "code",
   "execution_count": null,
   "id": "75247f30",
   "metadata": {},
   "outputs": [],
   "source": [
    "feature_list = ['NO2_totMean', 'NO2_hrOver200', 'NO_totMean',\n",
    "       'O3_totMean', 'O3_daysOver120', 'O3_dailyMaxAnnualMean',\n",
    "       'O3_dailyHourlyMax', 'O3_daily8HrMax', 'PM10_totMean',\n",
    "       'PM10_daysOver50', 'PM2_5_totMean', 'fully_vaccinated', 'Population_density']"
   ]
  },
  {
   "cell_type": "code",
   "execution_count": null,
   "id": "71ae3322",
   "metadata": {},
   "outputs": [],
   "source": [
    "\n",
    "import matplotlib.pyplot as plt\n",
    "import seaborn as sns\n",
    "\n",
    "plt.figure(figsize=(15,20))\n",
    "\n",
    "for i, feature in enumerate(feature_list):\n",
    "    # First subplot\n",
    "    plt.subplot(5,3,i+1)\n",
    "    sns.histplot(final_df[feature])\n",
    "    # Global figure methods\n",
    "plt.suptitle('Feature distributions')\n",
    "plt.show()"
   ]
  },
  {
   "cell_type": "code",
   "execution_count": null,
   "id": "d72d03c8",
   "metadata": {},
   "outputs": [],
   "source": [
    "from statsmodels.stats.outliers_influence import variance_inflation_factor as vif\n",
    "import statsmodels.formula.api as smf"
   ]
  },
  {
   "cell_type": "code",
   "execution_count": null,
   "id": "cd277b7b",
   "metadata": {},
   "outputs": [],
   "source": [
    "final_df.head()"
   ]
  },
  {
   "cell_type": "markdown",
   "id": "ce6a77e8",
   "metadata": {},
   "source": [
    "# OLS cases per 100k"
   ]
  },
  {
   "cell_type": "code",
   "execution_count": null,
   "id": "96a7ce25",
   "metadata": {},
   "outputs": [],
   "source": [
    "model = smf.ols(formula = 'cases_per_100k ~ NO2_totMean + NO_totMean + O3_totMean + PM10_totMean + PM2_5_totMean + fully_vaccinated + Population_density', data = final_df).fit()\n",
    "model.summary()\n"
   ]
  },
  {
   "cell_type": "code",
   "execution_count": null,
   "id": "ec313c07",
   "metadata": {
    "scrolled": true
   },
   "outputs": [],
   "source": [
    "RMSE = np.sqrt((model.resid**2).mean())\n",
    "RMSE"
   ]
  },
  {
   "cell_type": "markdown",
   "id": "262c3fbe",
   "metadata": {},
   "source": [
    "# Deaths per 100k OLS"
   ]
  },
  {
   "cell_type": "code",
   "execution_count": null,
   "id": "5efd0757",
   "metadata": {},
   "outputs": [],
   "source": [
    "model = smf.ols(formula = 'deaths_per_100k ~ NO2_totMean + NO_totMean + O3_totMean + PM10_totMean + PM2_5_totMean + fully_vaccinated + Population_density', data = final_df).fit()\n",
    "model.summary()"
   ]
  },
  {
   "cell_type": "code",
   "execution_count": null,
   "id": "a33b6c47",
   "metadata": {},
   "outputs": [],
   "source": [
    "RMSE = np.sqrt((model.resid**2).mean())\n",
    "RMSE"
   ]
  },
  {
   "cell_type": "markdown",
   "id": "10399478",
   "metadata": {},
   "source": [
    "# Feature permutation\n"
   ]
  },
  {
   "cell_type": "code",
   "execution_count": null,
   "id": "2b302c01",
   "metadata": {},
   "outputs": [],
   "source": [
    "X = final_df[['NO2_totMean', 'NO_totMean','O3_totMean', 'PM10_totMean','PM2_5_totMean', 'fully_vaccinated']]\n",
    "y_mort = final_df[['deaths_per_100k']]\n",
    "y_cases = final_df[['cases_per_100k']]"
   ]
  },
  {
   "cell_type": "code",
   "execution_count": null,
   "id": "d274f77a",
   "metadata": {},
   "outputs": [],
   "source": [
    "from sklearn.linear_model import LinearRegression"
   ]
  },
  {
   "cell_type": "code",
   "execution_count": null,
   "id": "3a3ad1af",
   "metadata": {
    "scrolled": false
   },
   "outputs": [],
   "source": [
    "linreg = LinearRegression().fit(X,y_mort)\n",
    "linreg.score(X, y_mort)"
   ]
  },
  {
   "cell_type": "markdown",
   "id": "f12fb243",
   "metadata": {},
   "source": [
    "## Cases  R2"
   ]
  },
  {
   "cell_type": "code",
   "execution_count": null,
   "id": "7a2b504c",
   "metadata": {},
   "outputs": [],
   "source": [
    "linreg = LinearRegression().fit(X,y_cases)\n",
    "linreg.score(X, y_cases)"
   ]
  },
  {
   "cell_type": "markdown",
   "id": "ec49e017",
   "metadata": {},
   "source": [
    "## Deaths R2"
   ]
  },
  {
   "cell_type": "code",
   "execution_count": null,
   "id": "7c1b389c",
   "metadata": {},
   "outputs": [],
   "source": [
    "linreg = LinearRegression().fit(X,y_mort)\n",
    "linreg.score(X, y_mort)"
   ]
  },
  {
   "cell_type": "markdown",
   "id": "1540a30d",
   "metadata": {},
   "source": [
    "## Lasso"
   ]
  },
  {
   "cell_type": "code",
   "execution_count": null,
   "id": "ba90eda5",
   "metadata": {},
   "outputs": [],
   "source": [
    "from sklearn.linear_model import Ridge, Lasso, LinearRegression, ElasticNet\n",
    "\n",
    "linreg = LinearRegression().fit(X, y_cases)\n",
    "ridge = Ridge().fit(X, y_cases)\n",
    "lasso = Lasso().fit(X, y_cases)\n",
    "elastic = ElasticNet(alpha=0.2).fit(X, y_cases)\n",
    "\n",
    "coefs = pd.DataFrame({\n",
    "    \"coef_linreg\": pd.Series(linreg.coef_[0], index = X.columns),\n",
    "    \"coef_ridge\": pd.Series(ridge.coef_[0], index = X.columns),\n",
    "    \"coef_lasso\": pd.Series(lasso.coef_[0], index= X.columns),\n",
    "    \"coef_elastic\": pd.Series(elastic.coef_[0], index= X.columns)})\\\n",
    "\n",
    "# coefs\\\n",
    "#     .applymap(lambda x: int(x))\\\n",
    "#     .style.applymap(lambda x: 'color: red' if x == 0 else 'color: black')\n",
    "\n",
    "print('R2 LinReg: ', linreg.score(X,y_cases))\n",
    "print('R2 Ridge: ', ridge.score(X,y_cases))\n",
    "print('R2 Lasso: ', lasso.score(X,y_cases))\n",
    "print('R2 Elastic: ', elastic.score(X,y_cases))\n",
    "\n",
    "#pd.Series(linreg.coef_[0], index = X.columns)\n",
    "coefs"
   ]
  },
  {
   "cell_type": "code",
   "execution_count": null,
   "id": "19d3a51d",
   "metadata": {},
   "outputs": [],
   "source": []
  },
  {
   "cell_type": "code",
   "execution_count": null,
   "id": "9951cc57",
   "metadata": {},
   "outputs": [],
   "source": [
    "from sklearn.neighbors import KNeighborsRegressor\n",
    "\n",
    "# Instanciate model\n",
    "neigh = KNeighborsRegressor(n_neighbors=2)\n",
    "neigh.fit(X, y_cases)\n",
    "neigh.score(X, y_cases)"
   ]
  },
  {
   "cell_type": "code",
   "execution_count": null,
   "id": "de51e131",
   "metadata": {},
   "outputs": [],
   "source": [
    "from sklearn.ensemble import AdaBoostRegressor, RandomForestRegressor\n",
    "#from xgboost import XGBRegressor\n",
    "from sklearn.tree import DecisionTreeRegressor\n",
    "\n",
    "adaboost = AdaBoostRegressor(\n",
    "    DecisionTreeRegressor(max_depth=3),\n",
    "    n_estimators=50)\n",
    "forest = RandomForestRegressor(n_estimators=100)\n",
    "#xgbreg = XGBRegressor(max_depth=10, n_estimators=100, learning_rate=0.1)\n",
    "\n",
    "adaboost.fit(X,y_cases)\n",
    "forest.fit(X,y_cases)\n",
    "\n",
    "print('R2 adaboost: ', adaboost.score(X,y_cases))\n",
    "print('R2 RandomForest: ', forest.score(X,y_cases))\n",
    "#print('R2 XGBoost: ', xgbreg.score(X,y_cases))\n"
   ]
  },
  {
   "cell_type": "code",
   "execution_count": null,
   "id": "6874a647",
   "metadata": {},
   "outputs": [],
   "source": [
    "import seaborn as sns\n",
    "plt.figure(figsize = (10,10))\n",
    "\n",
    "sns.heatmap([['', 'NO_totMean', 'O3_totMean', 'PM10_totMean','PM2_5_totMean', 'fully_vaccinated', 'Population_density', 'deaths_per_100k', 'cases_per_100k']].corr(), \n",
    "            cmap='coolwarm', \n",
    "            annot = True, \n",
    "            annot_kws={\"size\": 10})"
   ]
  },
  {
   "cell_type": "code",
   "execution_count": null,
   "id": "74636096",
   "metadata": {},
   "outputs": [],
   "source": []
  },
  {
   "cell_type": "code",
   "execution_count": null,
   "id": "e718bae2",
   "metadata": {},
   "outputs": [],
   "source": [
    "df_ff.drop()"
   ]
  },
  {
   "cell_type": "code",
   "execution_count": null,
   "id": "d6c83a23",
   "metadata": {},
   "outputs": [],
   "source": []
  },
  {
   "cell_type": "code",
   "execution_count": null,
   "id": "047b179d",
   "metadata": {},
   "outputs": [],
   "source": []
  },
  {
   "cell_type": "code",
   "execution_count": null,
   "id": "4dfb51ce",
   "metadata": {},
   "outputs": [],
   "source": []
  },
  {
   "cell_type": "code",
   "execution_count": null,
   "id": "301246b5",
   "metadata": {},
   "outputs": [],
   "source": []
  }
 ],
 "metadata": {
  "kernelspec": {
   "display_name": "Python 3 (ipykernel)",
   "language": "python",
   "name": "python3"
  },
  "language_info": {
   "codemirror_mode": {
    "name": "ipython",
    "version": 3
   },
   "file_extension": ".py",
   "mimetype": "text/x-python",
   "name": "python",
   "nbconvert_exporter": "python",
   "pygments_lexer": "ipython3",
   "version": "3.8.12"
  },
  "toc": {
   "base_numbering": 1,
   "nav_menu": {},
   "number_sections": true,
   "sideBar": true,
   "skip_h1_title": false,
   "title_cell": "Table of Contents",
   "title_sidebar": "Contents",
   "toc_cell": false,
   "toc_position": {},
   "toc_section_display": true,
   "toc_window_display": false
  }
 },
 "nbformat": 4,
 "nbformat_minor": 5
}
