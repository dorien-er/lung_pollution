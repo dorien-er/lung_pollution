{
 "cells": [
  {
   "cell_type": "markdown",
   "id": "c16ec3f4",
   "metadata": {
    "heading_collapsed": true
   },
   "source": [
    "# Load Covid dataset"
   ]
  },
  {
   "cell_type": "markdown",
   "id": "80ad529a",
   "metadata": {
    "heading_collapsed": true,
    "hidden": true
   },
   "source": [
    "## Load CSV"
   ]
  },
  {
   "cell_type": "code",
   "execution_count": 1,
   "id": "ebfcdd47",
   "metadata": {
    "hidden": true
   },
   "outputs": [
    {
     "data": {
      "text/plain": [
       "(411, 47)"
      ]
     },
     "execution_count": 1,
     "metadata": {},
     "output_type": "execute_result"
    }
   ],
   "source": [
    "import pandas as pd\n",
    "\n",
    "covid_data = pd.read_csv('../lung_pollution/data/RKI_corona_landskreise.csv')\n",
    "\n",
    "covid_data.shape"
   ]
  },
  {
   "cell_type": "code",
   "execution_count": 2,
   "id": "debf325f",
   "metadata": {
    "hidden": true,
    "scrolled": true
   },
   "outputs": [
    {
     "data": {
      "text/plain": [
       "Index(['OBJECTID', 'ADE', 'GF', 'BSG', 'RS', 'AGS', 'SDV_RS', 'GEN', 'BEZ',\n",
       "       'IBZ', 'BEM', 'NBD', 'SN_L', 'SN_R', 'SN_K', 'SN_V1', 'SN_V2', 'SN_G',\n",
       "       'FK_S3', 'NUTS', 'RS_0', 'AGS_0', 'WSK', 'EWZ', 'KFL', 'DEBKG_ID',\n",
       "       'Shape__Area', 'Shape__Length', 'death_rate', 'cases', 'deaths',\n",
       "       'cases_per_100k', 'cases_per_population', 'BL', 'BL_ID', 'county',\n",
       "       'last_update', 'cases7_per_100k', 'recovered', 'EWZ_BL',\n",
       "       'cases7_bl_per_100k', 'cases7_bl', 'death7_bl', 'cases7_lk',\n",
       "       'death7_lk', 'cases7_per_100k_txt', 'AdmUnitId'],\n",
       "      dtype='object')"
      ]
     },
     "execution_count": 2,
     "metadata": {},
     "output_type": "execute_result"
    }
   ],
   "source": [
    "covid_data.columns"
   ]
  },
  {
   "cell_type": "code",
   "execution_count": 3,
   "id": "cd6f9428",
   "metadata": {
    "hidden": true,
    "scrolled": true
   },
   "outputs": [
    {
     "data": {
      "text/html": [
       "<div>\n",
       "<style scoped>\n",
       "    .dataframe tbody tr th:only-of-type {\n",
       "        vertical-align: middle;\n",
       "    }\n",
       "\n",
       "    .dataframe tbody tr th {\n",
       "        vertical-align: top;\n",
       "    }\n",
       "\n",
       "    .dataframe thead th {\n",
       "        text-align: right;\n",
       "    }\n",
       "</style>\n",
       "<table border=\"1\" class=\"dataframe\">\n",
       "  <thead>\n",
       "    <tr style=\"text-align: right;\">\n",
       "      <th></th>\n",
       "      <th>BL</th>\n",
       "      <th>county</th>\n",
       "      <th>EWZ</th>\n",
       "      <th>Shape__Area</th>\n",
       "      <th>death_rate</th>\n",
       "      <th>cases</th>\n",
       "      <th>deaths</th>\n",
       "      <th>cases_per_100k</th>\n",
       "    </tr>\n",
       "  </thead>\n",
       "  <tbody>\n",
       "    <tr>\n",
       "      <th>0</th>\n",
       "      <td>Schleswig-Holstein</td>\n",
       "      <td>SK Flensburg</td>\n",
       "      <td>89934</td>\n",
       "      <td>4.918293e+07</td>\n",
       "      <td>1.223721</td>\n",
       "      <td>3187</td>\n",
       "      <td>39</td>\n",
       "      <td>3543.709832</td>\n",
       "    </tr>\n",
       "    <tr>\n",
       "      <th>1</th>\n",
       "      <td>Schleswig-Holstein</td>\n",
       "      <td>SK Kiel</td>\n",
       "      <td>246601</td>\n",
       "      <td>1.122314e+08</td>\n",
       "      <td>1.409469</td>\n",
       "      <td>8301</td>\n",
       "      <td>117</td>\n",
       "      <td>3366.166398</td>\n",
       "    </tr>\n",
       "    <tr>\n",
       "      <th>2</th>\n",
       "      <td>Schleswig-Holstein</td>\n",
       "      <td>SK Lübeck</td>\n",
       "      <td>215846</td>\n",
       "      <td>2.116771e+08</td>\n",
       "      <td>1.392355</td>\n",
       "      <td>7613</td>\n",
       "      <td>106</td>\n",
       "      <td>3527.051694</td>\n",
       "    </tr>\n",
       "    <tr>\n",
       "      <th>3</th>\n",
       "      <td>Schleswig-Holstein</td>\n",
       "      <td>SK Neumünster</td>\n",
       "      <td>79905</td>\n",
       "      <td>7.140224e+07</td>\n",
       "      <td>0.889996</td>\n",
       "      <td>2809</td>\n",
       "      <td>25</td>\n",
       "      <td>3515.424567</td>\n",
       "    </tr>\n",
       "    <tr>\n",
       "      <th>4</th>\n",
       "      <td>Schleswig-Holstein</td>\n",
       "      <td>LK Dithmarschen</td>\n",
       "      <td>133251</td>\n",
       "      <td>1.425511e+09</td>\n",
       "      <td>1.915323</td>\n",
       "      <td>2976</td>\n",
       "      <td>57</td>\n",
       "      <td>2233.379112</td>\n",
       "    </tr>\n",
       "  </tbody>\n",
       "</table>\n",
       "</div>"
      ],
      "text/plain": [
       "                   BL           county     EWZ   Shape__Area  death_rate  \\\n",
       "0  Schleswig-Holstein     SK Flensburg   89934  4.918293e+07    1.223721   \n",
       "1  Schleswig-Holstein          SK Kiel  246601  1.122314e+08    1.409469   \n",
       "2  Schleswig-Holstein        SK Lübeck  215846  2.116771e+08    1.392355   \n",
       "3  Schleswig-Holstein    SK Neumünster   79905  7.140224e+07    0.889996   \n",
       "4  Schleswig-Holstein  LK Dithmarschen  133251  1.425511e+09    1.915323   \n",
       "\n",
       "   cases  deaths  cases_per_100k  \n",
       "0   3187      39     3543.709832  \n",
       "1   8301     117     3366.166398  \n",
       "2   7613     106     3527.051694  \n",
       "3   2809      25     3515.424567  \n",
       "4   2976      57     2233.379112  "
      ]
     },
     "execution_count": 3,
     "metadata": {},
     "output_type": "execute_result"
    }
   ],
   "source": [
    "covid_data = covid_data[['BL','county','EWZ','Shape__Area', 'death_rate', 'cases', 'deaths','cases_per_100k']]\n",
    "covid_data.head()"
   ]
  },
  {
   "cell_type": "markdown",
   "id": "f52efc3e",
   "metadata": {
    "heading_collapsed": true,
    "hidden": true
   },
   "source": [
    "## Feature engineering: create deaths/100k column"
   ]
  },
  {
   "cell_type": "code",
   "execution_count": 4,
   "id": "9e5b735d",
   "metadata": {
    "hidden": true
   },
   "outputs": [
    {
     "data": {
      "text/html": [
       "<div>\n",
       "<style scoped>\n",
       "    .dataframe tbody tr th:only-of-type {\n",
       "        vertical-align: middle;\n",
       "    }\n",
       "\n",
       "    .dataframe tbody tr th {\n",
       "        vertical-align: top;\n",
       "    }\n",
       "\n",
       "    .dataframe thead th {\n",
       "        text-align: right;\n",
       "    }\n",
       "</style>\n",
       "<table border=\"1\" class=\"dataframe\">\n",
       "  <thead>\n",
       "    <tr style=\"text-align: right;\">\n",
       "      <th></th>\n",
       "      <th>BL</th>\n",
       "      <th>county</th>\n",
       "      <th>EWZ</th>\n",
       "      <th>Shape__Area</th>\n",
       "      <th>death_rate</th>\n",
       "      <th>cases</th>\n",
       "      <th>deaths</th>\n",
       "      <th>cases_per_100k</th>\n",
       "      <th>deaths_per_100k</th>\n",
       "    </tr>\n",
       "  </thead>\n",
       "  <tbody>\n",
       "    <tr>\n",
       "      <th>0</th>\n",
       "      <td>Schleswig-Holstein</td>\n",
       "      <td>SK Flensburg</td>\n",
       "      <td>89934</td>\n",
       "      <td>4.918293e+07</td>\n",
       "      <td>1.223721</td>\n",
       "      <td>3187</td>\n",
       "      <td>39</td>\n",
       "      <td>3543.709832</td>\n",
       "      <td>43.365134</td>\n",
       "    </tr>\n",
       "    <tr>\n",
       "      <th>1</th>\n",
       "      <td>Schleswig-Holstein</td>\n",
       "      <td>SK Kiel</td>\n",
       "      <td>246601</td>\n",
       "      <td>1.122314e+08</td>\n",
       "      <td>1.409469</td>\n",
       "      <td>8301</td>\n",
       "      <td>117</td>\n",
       "      <td>3366.166398</td>\n",
       "      <td>47.445063</td>\n",
       "    </tr>\n",
       "    <tr>\n",
       "      <th>2</th>\n",
       "      <td>Schleswig-Holstein</td>\n",
       "      <td>SK Lübeck</td>\n",
       "      <td>215846</td>\n",
       "      <td>2.116771e+08</td>\n",
       "      <td>1.392355</td>\n",
       "      <td>7613</td>\n",
       "      <td>106</td>\n",
       "      <td>3527.051694</td>\n",
       "      <td>49.109087</td>\n",
       "    </tr>\n",
       "    <tr>\n",
       "      <th>3</th>\n",
       "      <td>Schleswig-Holstein</td>\n",
       "      <td>SK Neumünster</td>\n",
       "      <td>79905</td>\n",
       "      <td>7.140224e+07</td>\n",
       "      <td>0.889996</td>\n",
       "      <td>2809</td>\n",
       "      <td>25</td>\n",
       "      <td>3515.424567</td>\n",
       "      <td>31.287153</td>\n",
       "    </tr>\n",
       "    <tr>\n",
       "      <th>4</th>\n",
       "      <td>Schleswig-Holstein</td>\n",
       "      <td>LK Dithmarschen</td>\n",
       "      <td>133251</td>\n",
       "      <td>1.425511e+09</td>\n",
       "      <td>1.915323</td>\n",
       "      <td>2976</td>\n",
       "      <td>57</td>\n",
       "      <td>2233.379112</td>\n",
       "      <td>42.776414</td>\n",
       "    </tr>\n",
       "  </tbody>\n",
       "</table>\n",
       "</div>"
      ],
      "text/plain": [
       "                   BL           county     EWZ   Shape__Area  death_rate  \\\n",
       "0  Schleswig-Holstein     SK Flensburg   89934  4.918293e+07    1.223721   \n",
       "1  Schleswig-Holstein          SK Kiel  246601  1.122314e+08    1.409469   \n",
       "2  Schleswig-Holstein        SK Lübeck  215846  2.116771e+08    1.392355   \n",
       "3  Schleswig-Holstein    SK Neumünster   79905  7.140224e+07    0.889996   \n",
       "4  Schleswig-Holstein  LK Dithmarschen  133251  1.425511e+09    1.915323   \n",
       "\n",
       "   cases  deaths  cases_per_100k  deaths_per_100k  \n",
       "0   3187      39     3543.709832        43.365134  \n",
       "1   8301     117     3366.166398        47.445063  \n",
       "2   7613     106     3527.051694        49.109087  \n",
       "3   2809      25     3515.424567        31.287153  \n",
       "4   2976      57     2233.379112        42.776414  "
      ]
     },
     "execution_count": 4,
     "metadata": {},
     "output_type": "execute_result"
    }
   ],
   "source": [
    "covid_data['deaths_per_100k'] = covid_data['deaths']/covid_data['EWZ']*100_000\n",
    "covid_data.head()"
   ]
  },
  {
   "cell_type": "markdown",
   "id": "f7152abc",
   "metadata": {
    "heading_collapsed": true,
    "hidden": true
   },
   "source": [
    "## Merge all Berlin 'counties' to one (to match APexpose)"
   ]
  },
  {
   "cell_type": "markdown",
   "id": "d92d8556",
   "metadata": {
    "hidden": true
   },
   "source": [
    "Covid dataset has 11 Berlin counties, but air pollution dataset only has 1 berlin county > \n",
    "collapse 11 berlin counties into one, taking into account whether to take the sum or the mean per numerical feature"
   ]
  },
  {
   "cell_type": "code",
   "execution_count": 5,
   "id": "75405767",
   "metadata": {
    "hidden": true,
    "scrolled": true
   },
   "outputs": [
    {
     "data": {
      "text/html": [
       "<div>\n",
       "<style scoped>\n",
       "    .dataframe tbody tr th:only-of-type {\n",
       "        vertical-align: middle;\n",
       "    }\n",
       "\n",
       "    .dataframe tbody tr th {\n",
       "        vertical-align: top;\n",
       "    }\n",
       "\n",
       "    .dataframe thead th {\n",
       "        text-align: right;\n",
       "    }\n",
       "</style>\n",
       "<table border=\"1\" class=\"dataframe\">\n",
       "  <thead>\n",
       "    <tr style=\"text-align: right;\">\n",
       "      <th></th>\n",
       "      <th>BL</th>\n",
       "      <th>county</th>\n",
       "      <th>EWZ</th>\n",
       "      <th>Shape__Area</th>\n",
       "      <th>death_rate</th>\n",
       "      <th>cases</th>\n",
       "      <th>deaths</th>\n",
       "      <th>cases_per_100k</th>\n",
       "      <th>deaths_per_100k</th>\n",
       "    </tr>\n",
       "  </thead>\n",
       "  <tbody>\n",
       "    <tr>\n",
       "      <th>399</th>\n",
       "      <td>Berlin</td>\n",
       "      <td>SK Berlin Reinickendorf</td>\n",
       "      <td>259169</td>\n",
       "      <td>8.943665e+07</td>\n",
       "      <td>1.618289</td>\n",
       "      <td>19465</td>\n",
       "      <td>315</td>\n",
       "      <td>7510.543313</td>\n",
       "      <td>121.542314</td>\n",
       "    </tr>\n",
       "    <tr>\n",
       "      <th>400</th>\n",
       "      <td>Berlin</td>\n",
       "      <td>SK Berlin Charlottenburg-Wilmersdorf</td>\n",
       "      <td>315393</td>\n",
       "      <td>6.477450e+07</td>\n",
       "      <td>1.568608</td>\n",
       "      <td>20464</td>\n",
       "      <td>321</td>\n",
       "      <td>6488.412869</td>\n",
       "      <td>101.777782</td>\n",
       "    </tr>\n",
       "    <tr>\n",
       "      <th>401</th>\n",
       "      <td>Berlin</td>\n",
       "      <td>SK Berlin Treptow-Köpenick</td>\n",
       "      <td>272429</td>\n",
       "      <td>1.680052e+08</td>\n",
       "      <td>1.689394</td>\n",
       "      <td>13200</td>\n",
       "      <td>223</td>\n",
       "      <td>4845.299142</td>\n",
       "      <td>81.856190</td>\n",
       "    </tr>\n",
       "    <tr>\n",
       "      <th>402</th>\n",
       "      <td>Berlin</td>\n",
       "      <td>SK Berlin Pankow</td>\n",
       "      <td>403607</td>\n",
       "      <td>1.033630e+08</td>\n",
       "      <td>1.068934</td>\n",
       "      <td>21049</td>\n",
       "      <td>225</td>\n",
       "      <td>5215.221738</td>\n",
       "      <td>55.747299</td>\n",
       "    </tr>\n",
       "    <tr>\n",
       "      <th>403</th>\n",
       "      <td>Berlin</td>\n",
       "      <td>SK Berlin Neukölln</td>\n",
       "      <td>318128</td>\n",
       "      <td>4.499687e+07</td>\n",
       "      <td>1.522467</td>\n",
       "      <td>28375</td>\n",
       "      <td>432</td>\n",
       "      <td>8919.365790</td>\n",
       "      <td>135.794397</td>\n",
       "    </tr>\n",
       "    <tr>\n",
       "      <th>404</th>\n",
       "      <td>Berlin</td>\n",
       "      <td>SK Berlin Lichtenberg</td>\n",
       "      <td>291622</td>\n",
       "      <td>5.219800e+07</td>\n",
       "      <td>1.697550</td>\n",
       "      <td>16082</td>\n",
       "      <td>273</td>\n",
       "      <td>5514.673104</td>\n",
       "      <td>93.614336</td>\n",
       "    </tr>\n",
       "    <tr>\n",
       "      <th>405</th>\n",
       "      <td>Berlin</td>\n",
       "      <td>SK Berlin Marzahn-Hellersdorf</td>\n",
       "      <td>273676</td>\n",
       "      <td>6.191477e+07</td>\n",
       "      <td>1.768566</td>\n",
       "      <td>14475</td>\n",
       "      <td>256</td>\n",
       "      <td>5289.100981</td>\n",
       "      <td>93.541268</td>\n",
       "    </tr>\n",
       "    <tr>\n",
       "      <th>406</th>\n",
       "      <td>Berlin</td>\n",
       "      <td>SK Berlin Spandau</td>\n",
       "      <td>238922</td>\n",
       "      <td>9.294042e+07</td>\n",
       "      <td>1.444666</td>\n",
       "      <td>18551</td>\n",
       "      <td>268</td>\n",
       "      <td>7764.458694</td>\n",
       "      <td>112.170499</td>\n",
       "    </tr>\n",
       "    <tr>\n",
       "      <th>407</th>\n",
       "      <td>Berlin</td>\n",
       "      <td>SK Berlin Steglitz-Zehlendorf</td>\n",
       "      <td>290866</td>\n",
       "      <td>1.026872e+08</td>\n",
       "      <td>2.656722</td>\n",
       "      <td>16223</td>\n",
       "      <td>431</td>\n",
       "      <td>5577.482415</td>\n",
       "      <td>148.178199</td>\n",
       "    </tr>\n",
       "    <tr>\n",
       "      <th>408</th>\n",
       "      <td>Berlin</td>\n",
       "      <td>SK Berlin Mitte</td>\n",
       "      <td>374232</td>\n",
       "      <td>3.945211e+07</td>\n",
       "      <td>1.156393</td>\n",
       "      <td>30353</td>\n",
       "      <td>351</td>\n",
       "      <td>8110.744137</td>\n",
       "      <td>93.792086</td>\n",
       "    </tr>\n",
       "    <tr>\n",
       "      <th>409</th>\n",
       "      <td>Berlin</td>\n",
       "      <td>SK Berlin Friedrichshain-Kreuzberg</td>\n",
       "      <td>278936</td>\n",
       "      <td>2.042866e+07</td>\n",
       "      <td>0.838055</td>\n",
       "      <td>21001</td>\n",
       "      <td>176</td>\n",
       "      <td>7528.967218</td>\n",
       "      <td>63.096911</td>\n",
       "    </tr>\n",
       "    <tr>\n",
       "      <th>410</th>\n",
       "      <td>Berlin</td>\n",
       "      <td>SK Berlin Tempelhof-Schöneberg</td>\n",
       "      <td>340483</td>\n",
       "      <td>5.312295e+07</td>\n",
       "      <td>2.069989</td>\n",
       "      <td>23575</td>\n",
       "      <td>488</td>\n",
       "      <td>6923.987394</td>\n",
       "      <td>143.325805</td>\n",
       "    </tr>\n",
       "  </tbody>\n",
       "</table>\n",
       "</div>"
      ],
      "text/plain": [
       "         BL                                county     EWZ   Shape__Area  \\\n",
       "399  Berlin               SK Berlin Reinickendorf  259169  8.943665e+07   \n",
       "400  Berlin  SK Berlin Charlottenburg-Wilmersdorf  315393  6.477450e+07   \n",
       "401  Berlin            SK Berlin Treptow-Köpenick  272429  1.680052e+08   \n",
       "402  Berlin                      SK Berlin Pankow  403607  1.033630e+08   \n",
       "403  Berlin                    SK Berlin Neukölln  318128  4.499687e+07   \n",
       "404  Berlin                 SK Berlin Lichtenberg  291622  5.219800e+07   \n",
       "405  Berlin         SK Berlin Marzahn-Hellersdorf  273676  6.191477e+07   \n",
       "406  Berlin                     SK Berlin Spandau  238922  9.294042e+07   \n",
       "407  Berlin         SK Berlin Steglitz-Zehlendorf  290866  1.026872e+08   \n",
       "408  Berlin                       SK Berlin Mitte  374232  3.945211e+07   \n",
       "409  Berlin    SK Berlin Friedrichshain-Kreuzberg  278936  2.042866e+07   \n",
       "410  Berlin        SK Berlin Tempelhof-Schöneberg  340483  5.312295e+07   \n",
       "\n",
       "     death_rate  cases  deaths  cases_per_100k  deaths_per_100k  \n",
       "399    1.618289  19465     315     7510.543313       121.542314  \n",
       "400    1.568608  20464     321     6488.412869       101.777782  \n",
       "401    1.689394  13200     223     4845.299142        81.856190  \n",
       "402    1.068934  21049     225     5215.221738        55.747299  \n",
       "403    1.522467  28375     432     8919.365790       135.794397  \n",
       "404    1.697550  16082     273     5514.673104        93.614336  \n",
       "405    1.768566  14475     256     5289.100981        93.541268  \n",
       "406    1.444666  18551     268     7764.458694       112.170499  \n",
       "407    2.656722  16223     431     5577.482415       148.178199  \n",
       "408    1.156393  30353     351     8110.744137        93.792086  \n",
       "409    0.838055  21001     176     7528.967218        63.096911  \n",
       "410    2.069989  23575     488     6923.987394       143.325805  "
      ]
     },
     "execution_count": 5,
     "metadata": {},
     "output_type": "execute_result"
    }
   ],
   "source": [
    "berlin = covid_data[covid_data[\"BL\"] == 'Berlin']\n",
    "berlin"
   ]
  },
  {
   "cell_type": "code",
   "execution_count": 6,
   "id": "41fc7404",
   "metadata": {
    "hidden": true,
    "scrolled": false
   },
   "outputs": [
    {
     "name": "stderr",
     "output_type": "stream",
     "text": [
      "/var/folders/py/ydbm54f573b1ymf9x65hf0mm0000gn/T/ipykernel_58719/360524747.py:1: SettingWithCopyWarning: \n",
      "A value is trying to be set on a copy of a slice from a DataFrame\n",
      "\n",
      "See the caveats in the documentation: https://pandas.pydata.org/pandas-docs/stable/user_guide/indexing.html#returning-a-view-versus-a-copy\n",
      "  covid_data['county'][399] = 'Berlin'\n"
     ]
    },
    {
     "data": {
      "text/plain": [
       "BL                          Berlin\n",
       "county                      Berlin\n",
       "EWZ                         259169\n",
       "Shape__Area        89436651.129883\n",
       "death_rate                1.618289\n",
       "cases                        19465\n",
       "deaths                         315\n",
       "cases_per_100k         7510.543313\n",
       "deaths_per_100k         121.542314\n",
       "Name: 399, dtype: object"
      ]
     },
     "execution_count": 6,
     "metadata": {},
     "output_type": "execute_result"
    }
   ],
   "source": [
    "covid_data['county'][399] = 'Berlin'\n",
    "covid_data.loc[399] "
   ]
  },
  {
   "cell_type": "code",
   "execution_count": 7,
   "id": "716f3c7d",
   "metadata": {
    "hidden": true,
    "scrolled": true
   },
   "outputs": [
    {
     "data": {
      "text/plain": [
       "Shape__Area    8.933202e+08\n",
       "cases          2.428130e+05\n",
       "deaths         3.759000e+03\n",
       "dtype: float64"
      ]
     },
     "execution_count": 7,
     "metadata": {},
     "output_type": "execute_result"
    }
   ],
   "source": [
    "berlin_sum = berlin[['Shape__Area', 'cases', 'deaths']].sum()\n",
    "berlin_sum"
   ]
  },
  {
   "cell_type": "code",
   "execution_count": 8,
   "id": "15ef3da4",
   "metadata": {
    "hidden": true
   },
   "outputs": [
    {
     "data": {
      "text/plain": [
       "death_rate            1.591636\n",
       "cases_per_100k     6640.688066\n",
       "deaths_per_100k     103.703091\n",
       "dtype: float64"
      ]
     },
     "execution_count": 8,
     "metadata": {},
     "output_type": "execute_result"
    }
   ],
   "source": [
    "berlin_average = berlin[['death_rate','cases_per_100k', 'deaths_per_100k']].mean()\n",
    "berlin_average"
   ]
  },
  {
   "cell_type": "code",
   "execution_count": 9,
   "id": "db3fd0d3",
   "metadata": {
    "hidden": true
   },
   "outputs": [
    {
     "name": "stderr",
     "output_type": "stream",
     "text": [
      "/var/folders/py/ydbm54f573b1ymf9x65hf0mm0000gn/T/ipykernel_58719/648295955.py:1: SettingWithCopyWarning: \n",
      "A value is trying to be set on a copy of a slice from a DataFrame\n",
      "\n",
      "See the caveats in the documentation: https://pandas.pydata.org/pandas-docs/stable/user_guide/indexing.html#returning-a-view-versus-a-copy\n",
      "  covid_data['cases'][399] = berlin_sum.cases\n",
      "/var/folders/py/ydbm54f573b1ymf9x65hf0mm0000gn/T/ipykernel_58719/648295955.py:2: SettingWithCopyWarning: \n",
      "A value is trying to be set on a copy of a slice from a DataFrame\n",
      "\n",
      "See the caveats in the documentation: https://pandas.pydata.org/pandas-docs/stable/user_guide/indexing.html#returning-a-view-versus-a-copy\n",
      "  covid_data['Shape__Area'][399] = berlin_sum.Shape__Area\n",
      "/var/folders/py/ydbm54f573b1ymf9x65hf0mm0000gn/T/ipykernel_58719/648295955.py:3: SettingWithCopyWarning: \n",
      "A value is trying to be set on a copy of a slice from a DataFrame\n",
      "\n",
      "See the caveats in the documentation: https://pandas.pydata.org/pandas-docs/stable/user_guide/indexing.html#returning-a-view-versus-a-copy\n",
      "  covid_data['deaths'][399] = berlin_sum.deaths\n"
     ]
    }
   ],
   "source": [
    "covid_data['cases'][399] = berlin_sum.cases\n",
    "covid_data['Shape__Area'][399] = berlin_sum.Shape__Area\n",
    "covid_data['deaths'][399] = berlin_sum.deaths"
   ]
  },
  {
   "cell_type": "code",
   "execution_count": 10,
   "id": "305b36bd",
   "metadata": {
    "hidden": true
   },
   "outputs": [
    {
     "name": "stderr",
     "output_type": "stream",
     "text": [
      "/var/folders/py/ydbm54f573b1ymf9x65hf0mm0000gn/T/ipykernel_58719/3332388361.py:1: SettingWithCopyWarning: \n",
      "A value is trying to be set on a copy of a slice from a DataFrame\n",
      "\n",
      "See the caveats in the documentation: https://pandas.pydata.org/pandas-docs/stable/user_guide/indexing.html#returning-a-view-versus-a-copy\n",
      "  covid_data['death_rate'][399] = berlin_average.death_rate\n",
      "/var/folders/py/ydbm54f573b1ymf9x65hf0mm0000gn/T/ipykernel_58719/3332388361.py:2: SettingWithCopyWarning: \n",
      "A value is trying to be set on a copy of a slice from a DataFrame\n",
      "\n",
      "See the caveats in the documentation: https://pandas.pydata.org/pandas-docs/stable/user_guide/indexing.html#returning-a-view-versus-a-copy\n",
      "  covid_data['cases_per_100k'][399] = berlin_average.cases_per_100k\n",
      "/var/folders/py/ydbm54f573b1ymf9x65hf0mm0000gn/T/ipykernel_58719/3332388361.py:3: SettingWithCopyWarning: \n",
      "A value is trying to be set on a copy of a slice from a DataFrame\n",
      "\n",
      "See the caveats in the documentation: https://pandas.pydata.org/pandas-docs/stable/user_guide/indexing.html#returning-a-view-versus-a-copy\n",
      "  covid_data['deaths_per_100k'][399] = berlin_average.deaths_per_100k\n"
     ]
    }
   ],
   "source": [
    "covid_data['death_rate'][399] = berlin_average.death_rate\n",
    "covid_data['cases_per_100k'][399] = berlin_average.cases_per_100k\n",
    "covid_data['deaths_per_100k'][399] = berlin_average.deaths_per_100k"
   ]
  },
  {
   "cell_type": "code",
   "execution_count": 11,
   "id": "d046f0a4",
   "metadata": {
    "hidden": true
   },
   "outputs": [],
   "source": [
    "covid_data.drop(index=[400,401,402,403,404,405,406,407,408,409,410], axis=0, inplace=True)"
   ]
  },
  {
   "cell_type": "code",
   "execution_count": 12,
   "id": "a7a37053",
   "metadata": {
    "hidden": true
   },
   "outputs": [
    {
     "data": {
      "text/plain": [
       "(400, 9)"
      ]
     },
     "execution_count": 12,
     "metadata": {},
     "output_type": "execute_result"
    }
   ],
   "source": [
    "covid_data.shape"
   ]
  },
  {
   "cell_type": "markdown",
   "id": "af3f5067",
   "metadata": {
    "heading_collapsed": true
   },
   "source": [
    "# Load APexpose air pollution dataset"
   ]
  },
  {
   "cell_type": "markdown",
   "id": "0ec6c5ed",
   "metadata": {
    "heading_collapsed": true,
    "hidden": true
   },
   "source": [
    "## Load data"
   ]
  },
  {
   "cell_type": "code",
   "execution_count": 13,
   "id": "4d83482b",
   "metadata": {
    "hidden": true
   },
   "outputs": [
    {
     "data": {
      "text/plain": [
       "{'encoding': 'Windows-1252', 'confidence': 0.717512331990768, 'language': ''}"
      ]
     },
     "execution_count": 13,
     "metadata": {},
     "output_type": "execute_result"
    }
   ],
   "source": [
    "import chardet\n",
    "with open(\"../lung_pollution/data/APExpose.csv\", 'rb') as rawdata:\n",
    "    result = chardet.detect(rawdata.read(100000))\n",
    "result"
   ]
  },
  {
   "cell_type": "code",
   "execution_count": 14,
   "id": "c33470f5",
   "metadata": {
    "hidden": true
   },
   "outputs": [
    {
     "data": {
      "text/html": [
       "<div>\n",
       "<style scoped>\n",
       "    .dataframe tbody tr th:only-of-type {\n",
       "        vertical-align: middle;\n",
       "    }\n",
       "\n",
       "    .dataframe tbody tr th {\n",
       "        vertical-align: top;\n",
       "    }\n",
       "\n",
       "    .dataframe thead th {\n",
       "        text-align: right;\n",
       "    }\n",
       "</style>\n",
       "<table border=\"1\" class=\"dataframe\">\n",
       "  <thead>\n",
       "    <tr style=\"text-align: right;\">\n",
       "      <th></th>\n",
       "      <th>county</th>\n",
       "    </tr>\n",
       "  </thead>\n",
       "  <tbody>\n",
       "    <tr>\n",
       "      <th>0</th>\n",
       "      <td>SK Freiburg i.Breisgau</td>\n",
       "    </tr>\n",
       "    <tr>\n",
       "      <th>1</th>\n",
       "      <td>LK Dillingen a.d.Donau</td>\n",
       "    </tr>\n",
       "    <tr>\n",
       "      <th>2</th>\n",
       "      <td>SK NŸrnberg</td>\n",
       "    </tr>\n",
       "    <tr>\n",
       "      <th>3</th>\n",
       "      <td>LK Neumarkt i.d.OPf.</td>\n",
       "    </tr>\n",
       "    <tr>\n",
       "      <th>4</th>\n",
       "      <td>SK Rosenheim</td>\n",
       "    </tr>\n",
       "    <tr>\n",
       "      <th>...</th>\n",
       "      <td>...</td>\n",
       "    </tr>\n",
       "    <tr>\n",
       "      <th>12055</th>\n",
       "      <td>LK Rhein-Pfalz-Kreis</td>\n",
       "    </tr>\n",
       "    <tr>\n",
       "      <th>12056</th>\n",
       "      <td>SK Trier</td>\n",
       "    </tr>\n",
       "    <tr>\n",
       "      <th>12057</th>\n",
       "      <td>LK Saalekreis</td>\n",
       "    </tr>\n",
       "    <tr>\n",
       "      <th>12058</th>\n",
       "      <td>LK Wittenberg</td>\n",
       "    </tr>\n",
       "    <tr>\n",
       "      <th>12059</th>\n",
       "      <td>LK Greiz</td>\n",
       "    </tr>\n",
       "  </tbody>\n",
       "</table>\n",
       "<p>12060 rows × 1 columns</p>\n",
       "</div>"
      ],
      "text/plain": [
       "                       county\n",
       "0      SK Freiburg i.Breisgau\n",
       "1      LK Dillingen a.d.Donau\n",
       "2                 SK NŸrnberg\n",
       "3        LK Neumarkt i.d.OPf.\n",
       "4                SK Rosenheim\n",
       "...                       ...\n",
       "12055    LK Rhein-Pfalz-Kreis\n",
       "12056                SK Trier\n",
       "12057           LK Saalekreis\n",
       "12058           LK Wittenberg\n",
       "12059                LK Greiz\n",
       "\n",
       "[12060 rows x 1 columns]"
      ]
     },
     "execution_count": 14,
     "metadata": {},
     "output_type": "execute_result"
    }
   ],
   "source": [
    "import pandas as pd\n",
    "county_names = pd.read_csv(\"../lung_pollution/data/APExpose.csv\",\n",
    "                             sep=';',\n",
    "                             decimal='.',\n",
    "                            encoding = 'Windows-1252') # needed special encoder to be able to read csv\n",
    "county_names = county_names[['county']]\n",
    "county_names"
   ]
  },
  {
   "cell_type": "code",
   "execution_count": 15,
   "id": "ad4aff43",
   "metadata": {
    "hidden": true
   },
   "outputs": [
    {
     "data": {
      "text/html": [
       "<div>\n",
       "<style scoped>\n",
       "    .dataframe tbody tr th:only-of-type {\n",
       "        vertical-align: middle;\n",
       "    }\n",
       "\n",
       "    .dataframe tbody tr th {\n",
       "        vertical-align: top;\n",
       "    }\n",
       "\n",
       "    .dataframe thead th {\n",
       "        text-align: right;\n",
       "    }\n",
       "</style>\n",
       "<table border=\"1\" class=\"dataframe\">\n",
       "  <thead>\n",
       "    <tr style=\"text-align: right;\">\n",
       "      <th></th>\n",
       "      <th>Unnamed: 0</th>\n",
       "      <th>kreis</th>\n",
       "      <th>year</th>\n",
       "      <th>NO2_annualMean</th>\n",
       "      <th>NO2_hrOver200</th>\n",
       "      <th>NO_annualMean</th>\n",
       "      <th>O3_annualMean</th>\n",
       "      <th>O3_daysOver120</th>\n",
       "      <th>O3_dailyMaxAnnualMean</th>\n",
       "      <th>O3_dailyHourlyMax</th>\n",
       "      <th>...</th>\n",
       "      <th>PM10_annualMean</th>\n",
       "      <th>PM10_daysOver50</th>\n",
       "      <th>PM2.5_annualMean</th>\n",
       "      <th>kreis_code</th>\n",
       "      <th>scenario</th>\n",
       "      <th>ISO_code</th>\n",
       "      <th>Kreis_Scluessel</th>\n",
       "      <th>Lon</th>\n",
       "      <th>Lat</th>\n",
       "      <th>county</th>\n",
       "    </tr>\n",
       "  </thead>\n",
       "  <tbody>\n",
       "    <tr>\n",
       "      <th>0</th>\n",
       "      <td>0</td>\n",
       "      <td>Freiburg im Breisgau</td>\n",
       "      <td>2019</td>\n",
       "      <td>15.757110</td>\n",
       "      <td>0.000000</td>\n",
       "      <td>6.600048</td>\n",
       "      <td>55.451900</td>\n",
       "      <td>6.000000</td>\n",
       "      <td>83.706030</td>\n",
       "      <td>218.500000</td>\n",
       "      <td>...</td>\n",
       "      <td>12.473230</td>\n",
       "      <td>2.000000</td>\n",
       "      <td>8.984028</td>\n",
       "      <td>12</td>\n",
       "      <td>remote</td>\n",
       "      <td>DE.BW.FB</td>\n",
       "      <td>8311</td>\n",
       "      <td>7.818076</td>\n",
       "      <td>47.992523</td>\n",
       "      <td>SK Freiburg i.Breisgau</td>\n",
       "    </tr>\n",
       "    <tr>\n",
       "      <th>1</th>\n",
       "      <td>1</td>\n",
       "      <td>Dillingen an der Donau</td>\n",
       "      <td>2019</td>\n",
       "      <td>18.953264</td>\n",
       "      <td>0.004595</td>\n",
       "      <td>9.519503</td>\n",
       "      <td>55.639033</td>\n",
       "      <td>3.802370</td>\n",
       "      <td>78.827799</td>\n",
       "      <td>180.314018</td>\n",
       "      <td>...</td>\n",
       "      <td>17.288283</td>\n",
       "      <td>5.366906</td>\n",
       "      <td>12.952426</td>\n",
       "      <td>68</td>\n",
       "      <td>remote</td>\n",
       "      <td>DE.BY.DD</td>\n",
       "      <td>9773</td>\n",
       "      <td>10.527764</td>\n",
       "      <td>48.596404</td>\n",
       "      <td>LK Dillingen a.d.Donau</td>\n",
       "    </tr>\n",
       "    <tr>\n",
       "      <th>2</th>\n",
       "      <td>2</td>\n",
       "      <td>NÃ¼rnberg</td>\n",
       "      <td>2019</td>\n",
       "      <td>25.380070</td>\n",
       "      <td>0.000000</td>\n",
       "      <td>12.515380</td>\n",
       "      <td>45.320180</td>\n",
       "      <td>0.000000</td>\n",
       "      <td>73.695480</td>\n",
       "      <td>160.340000</td>\n",
       "      <td>...</td>\n",
       "      <td>15.367712</td>\n",
       "      <td>4.895583</td>\n",
       "      <td>11.517540</td>\n",
       "      <td>107</td>\n",
       "      <td>remote</td>\n",
       "      <td>DE.BY.NR</td>\n",
       "      <td>9564</td>\n",
       "      <td>11.082755</td>\n",
       "      <td>49.436211</td>\n",
       "      <td>SK NŸrnberg</td>\n",
       "    </tr>\n",
       "    <tr>\n",
       "      <th>3</th>\n",
       "      <td>3</td>\n",
       "      <td>Neumarkt in der Oberpfalz</td>\n",
       "      <td>2019</td>\n",
       "      <td>15.709243</td>\n",
       "      <td>0.003532</td>\n",
       "      <td>8.176603</td>\n",
       "      <td>52.094916</td>\n",
       "      <td>2.182587</td>\n",
       "      <td>76.590555</td>\n",
       "      <td>179.684101</td>\n",
       "      <td>...</td>\n",
       "      <td>16.092153</td>\n",
       "      <td>4.895583</td>\n",
       "      <td>12.269832</td>\n",
       "      <td>110</td>\n",
       "      <td>remote</td>\n",
       "      <td>DE.BY.NO</td>\n",
       "      <td>9373</td>\n",
       "      <td>11.566558</td>\n",
       "      <td>49.215961</td>\n",
       "      <td>LK Neumarkt i.d.OPf.</td>\n",
       "    </tr>\n",
       "    <tr>\n",
       "      <th>4</th>\n",
       "      <td>4</td>\n",
       "      <td>Rosenheim</td>\n",
       "      <td>2019</td>\n",
       "      <td>17.524585</td>\n",
       "      <td>0.004127</td>\n",
       "      <td>8.682464</td>\n",
       "      <td>52.593257</td>\n",
       "      <td>2.410346</td>\n",
       "      <td>76.905136</td>\n",
       "      <td>179.772674</td>\n",
       "      <td>...</td>\n",
       "      <td>16.414083</td>\n",
       "      <td>4.895583</td>\n",
       "      <td>12.485468</td>\n",
       "      <td>122</td>\n",
       "      <td>remote</td>\n",
       "      <td>DE.BY.RH</td>\n",
       "      <td>9163</td>\n",
       "      <td>12.108725</td>\n",
       "      <td>47.844378</td>\n",
       "      <td>SK Rosenheim</td>\n",
       "    </tr>\n",
       "    <tr>\n",
       "      <th>...</th>\n",
       "      <td>...</td>\n",
       "      <td>...</td>\n",
       "      <td>...</td>\n",
       "      <td>...</td>\n",
       "      <td>...</td>\n",
       "      <td>...</td>\n",
       "      <td>...</td>\n",
       "      <td>...</td>\n",
       "      <td>...</td>\n",
       "      <td>...</td>\n",
       "      <td>...</td>\n",
       "      <td>...</td>\n",
       "      <td>...</td>\n",
       "      <td>...</td>\n",
       "      <td>...</td>\n",
       "      <td>...</td>\n",
       "      <td>...</td>\n",
       "      <td>...</td>\n",
       "      <td>...</td>\n",
       "      <td>...</td>\n",
       "      <td>...</td>\n",
       "    </tr>\n",
       "    <tr>\n",
       "      <th>12055</th>\n",
       "      <td>12055</td>\n",
       "      <td>Rhein-Pfalz-Kreis</td>\n",
       "      <td>2014</td>\n",
       "      <td>16.294522</td>\n",
       "      <td>0.005650</td>\n",
       "      <td>10.040756</td>\n",
       "      <td>48.318206</td>\n",
       "      <td>0.475016</td>\n",
       "      <td>74.137229</td>\n",
       "      <td>178.877820</td>\n",
       "      <td>...</td>\n",
       "      <td>16.962235</td>\n",
       "      <td>8.225207</td>\n",
       "      <td>12.778194</td>\n",
       "      <td>323</td>\n",
       "      <td>urban</td>\n",
       "      <td>DE.RP.RZ</td>\n",
       "      <td>7338</td>\n",
       "      <td>8.360681</td>\n",
       "      <td>49.416650</td>\n",
       "      <td>LK Rhein-Pfalz-Kreis</td>\n",
       "    </tr>\n",
       "    <tr>\n",
       "      <th>12056</th>\n",
       "      <td>12056</td>\n",
       "      <td>Trier</td>\n",
       "      <td>2014</td>\n",
       "      <td>15.513458</td>\n",
       "      <td>0.004825</td>\n",
       "      <td>8.853443</td>\n",
       "      <td>41.981940</td>\n",
       "      <td>0.000000</td>\n",
       "      <td>53.925600</td>\n",
       "      <td>76.083530</td>\n",
       "      <td>...</td>\n",
       "      <td>17.367278</td>\n",
       "      <td>8.199563</td>\n",
       "      <td>13.013627</td>\n",
       "      <td>328</td>\n",
       "      <td>urban</td>\n",
       "      <td>DE.RP.TI</td>\n",
       "      <td>7211</td>\n",
       "      <td>6.655051</td>\n",
       "      <td>49.762939</td>\n",
       "      <td>SK Trier</td>\n",
       "    </tr>\n",
       "    <tr>\n",
       "      <th>12057</th>\n",
       "      <td>12057</td>\n",
       "      <td>Saalekreis</td>\n",
       "      <td>2014</td>\n",
       "      <td>17.547591</td>\n",
       "      <td>0.006972</td>\n",
       "      <td>9.026354</td>\n",
       "      <td>51.263981</td>\n",
       "      <td>1.811047</td>\n",
       "      <td>76.007326</td>\n",
       "      <td>179.476220</td>\n",
       "      <td>...</td>\n",
       "      <td>17.834840</td>\n",
       "      <td>7.289535</td>\n",
       "      <td>13.329265</td>\n",
       "      <td>349</td>\n",
       "      <td>urban</td>\n",
       "      <td>DE.ST.SL</td>\n",
       "      <td>15088</td>\n",
       "      <td>11.865474</td>\n",
       "      <td>51.425671</td>\n",
       "      <td>LK Saalekreis</td>\n",
       "    </tr>\n",
       "    <tr>\n",
       "      <th>12058</th>\n",
       "      <td>12058</td>\n",
       "      <td>Wittenberg</td>\n",
       "      <td>2014</td>\n",
       "      <td>13.177420</td>\n",
       "      <td>0.000000</td>\n",
       "      <td>7.047741</td>\n",
       "      <td>50.177210</td>\n",
       "      <td>2.000000</td>\n",
       "      <td>74.537810</td>\n",
       "      <td>167.088500</td>\n",
       "      <td>...</td>\n",
       "      <td>22.753030</td>\n",
       "      <td>15.000000</td>\n",
       "      <td>13.932308</td>\n",
       "      <td>352</td>\n",
       "      <td>urban</td>\n",
       "      <td>DE.ST.WT</td>\n",
       "      <td>15091</td>\n",
       "      <td>12.701588</td>\n",
       "      <td>51.820140</td>\n",
       "      <td>LK Wittenberg</td>\n",
       "    </tr>\n",
       "    <tr>\n",
       "      <th>12059</th>\n",
       "      <td>12059</td>\n",
       "      <td>Greiz</td>\n",
       "      <td>2014</td>\n",
       "      <td>16.458160</td>\n",
       "      <td>0.000000</td>\n",
       "      <td>17.456120</td>\n",
       "      <td>47.557960</td>\n",
       "      <td>0.000000</td>\n",
       "      <td>74.938590</td>\n",
       "      <td>152.936800</td>\n",
       "      <td>...</td>\n",
       "      <td>19.110050</td>\n",
       "      <td>14.000000</td>\n",
       "      <td>15.414660</td>\n",
       "      <td>387</td>\n",
       "      <td>urban</td>\n",
       "      <td>DE.TH.GE</td>\n",
       "      <td>16076</td>\n",
       "      <td>12.074071</td>\n",
       "      <td>50.748460</td>\n",
       "      <td>LK Greiz</td>\n",
       "    </tr>\n",
       "  </tbody>\n",
       "</table>\n",
       "<p>12060 rows × 21 columns</p>\n",
       "</div>"
      ],
      "text/plain": [
       "       Unnamed: 0                      kreis  year  NO2_annualMean  \\\n",
       "0               0       Freiburg im Breisgau  2019       15.757110   \n",
       "1               1     Dillingen an der Donau  2019       18.953264   \n",
       "2               2                  NÃ¼rnberg  2019       25.380070   \n",
       "3               3  Neumarkt in der Oberpfalz  2019       15.709243   \n",
       "4               4                  Rosenheim  2019       17.524585   \n",
       "...           ...                        ...   ...             ...   \n",
       "12055       12055          Rhein-Pfalz-Kreis  2014       16.294522   \n",
       "12056       12056                      Trier  2014       15.513458   \n",
       "12057       12057                 Saalekreis  2014       17.547591   \n",
       "12058       12058                 Wittenberg  2014       13.177420   \n",
       "12059       12059                      Greiz  2014       16.458160   \n",
       "\n",
       "       NO2_hrOver200  NO_annualMean  O3_annualMean  O3_daysOver120  \\\n",
       "0           0.000000       6.600048      55.451900        6.000000   \n",
       "1           0.004595       9.519503      55.639033        3.802370   \n",
       "2           0.000000      12.515380      45.320180        0.000000   \n",
       "3           0.003532       8.176603      52.094916        2.182587   \n",
       "4           0.004127       8.682464      52.593257        2.410346   \n",
       "...              ...            ...            ...             ...   \n",
       "12055       0.005650      10.040756      48.318206        0.475016   \n",
       "12056       0.004825       8.853443      41.981940        0.000000   \n",
       "12057       0.006972       9.026354      51.263981        1.811047   \n",
       "12058       0.000000       7.047741      50.177210        2.000000   \n",
       "12059       0.000000      17.456120      47.557960        0.000000   \n",
       "\n",
       "       O3_dailyMaxAnnualMean  O3_dailyHourlyMax  ...  PM10_annualMean  \\\n",
       "0                  83.706030         218.500000  ...        12.473230   \n",
       "1                  78.827799         180.314018  ...        17.288283   \n",
       "2                  73.695480         160.340000  ...        15.367712   \n",
       "3                  76.590555         179.684101  ...        16.092153   \n",
       "4                  76.905136         179.772674  ...        16.414083   \n",
       "...                      ...                ...  ...              ...   \n",
       "12055              74.137229         178.877820  ...        16.962235   \n",
       "12056              53.925600          76.083530  ...        17.367278   \n",
       "12057              76.007326         179.476220  ...        17.834840   \n",
       "12058              74.537810         167.088500  ...        22.753030   \n",
       "12059              74.938590         152.936800  ...        19.110050   \n",
       "\n",
       "       PM10_daysOver50  PM2.5_annualMean  kreis_code  scenario  ISO_code  \\\n",
       "0             2.000000          8.984028          12    remote  DE.BW.FB   \n",
       "1             5.366906         12.952426          68    remote  DE.BY.DD   \n",
       "2             4.895583         11.517540         107    remote  DE.BY.NR   \n",
       "3             4.895583         12.269832         110    remote  DE.BY.NO   \n",
       "4             4.895583         12.485468         122    remote  DE.BY.RH   \n",
       "...                ...               ...         ...       ...       ...   \n",
       "12055         8.225207         12.778194         323     urban  DE.RP.RZ   \n",
       "12056         8.199563         13.013627         328     urban  DE.RP.TI   \n",
       "12057         7.289535         13.329265         349     urban  DE.ST.SL   \n",
       "12058        15.000000         13.932308         352     urban  DE.ST.WT   \n",
       "12059        14.000000         15.414660         387     urban  DE.TH.GE   \n",
       "\n",
       "      Kreis_Scluessel        Lon        Lat                  county  \n",
       "0                8311   7.818076  47.992523  SK Freiburg i.Breisgau  \n",
       "1                9773  10.527764  48.596404  LK Dillingen a.d.Donau  \n",
       "2                9564  11.082755  49.436211             SK NŸrnberg  \n",
       "3                9373  11.566558  49.215961    LK Neumarkt i.d.OPf.  \n",
       "4                9163  12.108725  47.844378            SK Rosenheim  \n",
       "...               ...        ...        ...                     ...  \n",
       "12055            7338   8.360681  49.416650    LK Rhein-Pfalz-Kreis  \n",
       "12056            7211   6.655051  49.762939                SK Trier  \n",
       "12057           15088  11.865474  51.425671           LK Saalekreis  \n",
       "12058           15091  12.701588  51.820140           LK Wittenberg  \n",
       "12059           16076  12.074071  50.748460                LK Greiz  \n",
       "\n",
       "[12060 rows x 21 columns]"
      ]
     },
     "execution_count": 15,
     "metadata": {},
     "output_type": "execute_result"
    }
   ],
   "source": [
    "pollution_data = pd.read_csv(\"../lung_pollution/data/pollution_data.csv\",\n",
    "                             sep=',',\n",
    "                             decimal='.',\n",
    "                            )\n",
    "pollution_data.head()\n",
    "pollution_data['county'] = county_names\n",
    "pollution_data"
   ]
  },
  {
   "cell_type": "code",
   "execution_count": 16,
   "id": "e7536d31",
   "metadata": {
    "hidden": true
   },
   "outputs": [],
   "source": [
    "pollution_data.drop(columns='Unnamed: 0', inplace=True)\n",
    "pollution_data.drop(columns='kreis', inplace=True)"
   ]
  },
  {
   "cell_type": "markdown",
   "id": "e780b22e",
   "metadata": {
    "heading_collapsed": true,
    "hidden": true
   },
   "source": [
    "## Keep only 'average' scenario (combines remote and rural)"
   ]
  },
  {
   "cell_type": "code",
   "execution_count": 17,
   "id": "a8d33dd8",
   "metadata": {
    "hidden": true
   },
   "outputs": [
    {
     "data": {
      "text/plain": [
       "(12060, 19)"
      ]
     },
     "execution_count": 17,
     "metadata": {},
     "output_type": "execute_result"
    }
   ],
   "source": [
    "pollution_data.shape"
   ]
  },
  {
   "cell_type": "code",
   "execution_count": 18,
   "id": "d685c661",
   "metadata": {
    "hidden": true
   },
   "outputs": [
    {
     "data": {
      "text/plain": [
       "(4020, 19)"
      ]
     },
     "execution_count": 18,
     "metadata": {},
     "output_type": "execute_result"
    }
   ],
   "source": [
    "pollution_data = pollution_data[pollution_data.scenario == 'average']\n",
    "pollution_data.shape"
   ]
  },
  {
   "cell_type": "markdown",
   "id": "e1c1c4be",
   "metadata": {
    "heading_collapsed": true,
    "hidden": true
   },
   "source": [
    "## Keep relevant features only and sort by year"
   ]
  },
  {
   "cell_type": "code",
   "execution_count": 19,
   "id": "4af2848c",
   "metadata": {
    "hidden": true
   },
   "outputs": [
    {
     "data": {
      "text/plain": [
       "Index(['year', 'NO2_annualMean', 'NO2_hrOver200', 'NO_annualMean',\n",
       "       'O3_annualMean', 'O3_daysOver120', 'O3_dailyMaxAnnualMean',\n",
       "       'O3_dailyHourlyMax', 'O3_daily8HrMax', 'PM10_annualMean',\n",
       "       'PM10_daysOver50', 'PM2.5_annualMean', 'kreis_code', 'scenario',\n",
       "       'ISO_code', 'Kreis_Scluessel', 'Lon', 'Lat', 'county'],\n",
       "      dtype='object')"
      ]
     },
     "execution_count": 19,
     "metadata": {},
     "output_type": "execute_result"
    }
   ],
   "source": [
    "pollution_data.columns"
   ]
  },
  {
   "cell_type": "code",
   "execution_count": 20,
   "id": "75ca83bd",
   "metadata": {
    "hidden": true
   },
   "outputs": [],
   "source": [
    "pollution_data = pollution_data[['county', 'year', 'NO2_annualMean', 'NO2_hrOver200', 'NO_annualMean',\n",
    "       'O3_annualMean', 'O3_daysOver120', 'O3_dailyMaxAnnualMean',\n",
    "       'O3_dailyHourlyMax', 'O3_daily8HrMax', 'PM10_annualMean',\n",
    "       'PM10_daysOver50', 'PM2.5_annualMean']]"
   ]
  },
  {
   "cell_type": "code",
   "execution_count": 21,
   "id": "a7ec252d",
   "metadata": {
    "hidden": true
   },
   "outputs": [
    {
     "data": {
      "text/html": [
       "<div>\n",
       "<style scoped>\n",
       "    .dataframe tbody tr th:only-of-type {\n",
       "        vertical-align: middle;\n",
       "    }\n",
       "\n",
       "    .dataframe tbody tr th {\n",
       "        vertical-align: top;\n",
       "    }\n",
       "\n",
       "    .dataframe thead th {\n",
       "        text-align: right;\n",
       "    }\n",
       "</style>\n",
       "<table border=\"1\" class=\"dataframe\">\n",
       "  <thead>\n",
       "    <tr style=\"text-align: right;\">\n",
       "      <th></th>\n",
       "      <th>county</th>\n",
       "      <th>year</th>\n",
       "      <th>NO2_annualMean</th>\n",
       "      <th>NO2_hrOver200</th>\n",
       "      <th>NO_annualMean</th>\n",
       "      <th>O3_annualMean</th>\n",
       "      <th>O3_daysOver120</th>\n",
       "      <th>O3_dailyMaxAnnualMean</th>\n",
       "      <th>O3_dailyHourlyMax</th>\n",
       "      <th>O3_daily8HrMax</th>\n",
       "      <th>PM10_annualMean</th>\n",
       "      <th>PM10_daysOver50</th>\n",
       "      <th>PM2.5_annualMean</th>\n",
       "    </tr>\n",
       "  </thead>\n",
       "  <tbody>\n",
       "    <tr>\n",
       "      <th>0</th>\n",
       "      <td>LK Greiz</td>\n",
       "      <td>2010</td>\n",
       "      <td>20.189280</td>\n",
       "      <td>0.000000</td>\n",
       "      <td>6.925885</td>\n",
       "      <td>42.771670</td>\n",
       "      <td>1.682244</td>\n",
       "      <td>75.952011</td>\n",
       "      <td>179.500043</td>\n",
       "      <td>162.232504</td>\n",
       "      <td>24.287540</td>\n",
       "      <td>22.000000</td>\n",
       "      <td>18.507110</td>\n",
       "    </tr>\n",
       "    <tr>\n",
       "      <th>1</th>\n",
       "      <td>LK Gro§-Gerau</td>\n",
       "      <td>2010</td>\n",
       "      <td>26.785240</td>\n",
       "      <td>0.000000</td>\n",
       "      <td>11.275620</td>\n",
       "      <td>40.695500</td>\n",
       "      <td>0.688502</td>\n",
       "      <td>74.386456</td>\n",
       "      <td>179.005127</td>\n",
       "      <td>161.350783</td>\n",
       "      <td>22.095010</td>\n",
       "      <td>3.000000</td>\n",
       "      <td>13.405547</td>\n",
       "    </tr>\n",
       "    <tr>\n",
       "      <th>2</th>\n",
       "      <td>LK Main-Taunus-Kreis</td>\n",
       "      <td>2010</td>\n",
       "      <td>18.270625</td>\n",
       "      <td>0.007030</td>\n",
       "      <td>12.659486</td>\n",
       "      <td>48.589364</td>\n",
       "      <td>0.688782</td>\n",
       "      <td>74.386896</td>\n",
       "      <td>179.005266</td>\n",
       "      <td>161.351032</td>\n",
       "      <td>17.935028</td>\n",
       "      <td>8.351986</td>\n",
       "      <td>13.320326</td>\n",
       "    </tr>\n",
       "    <tr>\n",
       "      <th>3</th>\n",
       "      <td>SK Schwerin</td>\n",
       "      <td>2010</td>\n",
       "      <td>16.688684</td>\n",
       "      <td>0.006174</td>\n",
       "      <td>8.444366</td>\n",
       "      <td>50.869312</td>\n",
       "      <td>1.618849</td>\n",
       "      <td>75.852137</td>\n",
       "      <td>179.468470</td>\n",
       "      <td>162.176255</td>\n",
       "      <td>17.479160</td>\n",
       "      <td>6.427313</td>\n",
       "      <td>13.012473</td>\n",
       "    </tr>\n",
       "    <tr>\n",
       "      <th>4</th>\n",
       "      <td>SK Braunschweig</td>\n",
       "      <td>2010</td>\n",
       "      <td>16.100240</td>\n",
       "      <td>0.000000</td>\n",
       "      <td>2.360461</td>\n",
       "      <td>50.885470</td>\n",
       "      <td>1.898947</td>\n",
       "      <td>76.293408</td>\n",
       "      <td>179.607968</td>\n",
       "      <td>162.424778</td>\n",
       "      <td>19.254090</td>\n",
       "      <td>15.000000</td>\n",
       "      <td>13.773945</td>\n",
       "    </tr>\n",
       "    <tr>\n",
       "      <th>...</th>\n",
       "      <td>...</td>\n",
       "      <td>...</td>\n",
       "      <td>...</td>\n",
       "      <td>...</td>\n",
       "      <td>...</td>\n",
       "      <td>...</td>\n",
       "      <td>...</td>\n",
       "      <td>...</td>\n",
       "      <td>...</td>\n",
       "      <td>...</td>\n",
       "      <td>...</td>\n",
       "      <td>...</td>\n",
       "      <td>...</td>\n",
       "    </tr>\n",
       "    <tr>\n",
       "      <th>4015</th>\n",
       "      <td>LK Offenbach</td>\n",
       "      <td>2019</td>\n",
       "      <td>16.879588</td>\n",
       "      <td>0.006277</td>\n",
       "      <td>9.627029</td>\n",
       "      <td>51.441394</td>\n",
       "      <td>1.852220</td>\n",
       "      <td>76.219794</td>\n",
       "      <td>179.584696</td>\n",
       "      <td>162.383319</td>\n",
       "      <td>16.609082</td>\n",
       "      <td>5.056900</td>\n",
       "      <td>12.486517</td>\n",
       "    </tr>\n",
       "    <tr>\n",
       "      <th>4016</th>\n",
       "      <td>LK Northeim</td>\n",
       "      <td>2019</td>\n",
       "      <td>7.093503</td>\n",
       "      <td>0.000000</td>\n",
       "      <td>0.496811</td>\n",
       "      <td>56.630960</td>\n",
       "      <td>3.000000</td>\n",
       "      <td>77.735580</td>\n",
       "      <td>189.064000</td>\n",
       "      <td>157.677300</td>\n",
       "      <td>11.345170</td>\n",
       "      <td>1.000000</td>\n",
       "      <td>12.755891</td>\n",
       "    </tr>\n",
       "    <tr>\n",
       "      <th>4017</th>\n",
       "      <td>LK WolfenbŸttel</td>\n",
       "      <td>2019</td>\n",
       "      <td>15.339071</td>\n",
       "      <td>0.005444</td>\n",
       "      <td>8.382882</td>\n",
       "      <td>49.753871</td>\n",
       "      <td>1.163823</td>\n",
       "      <td>75.135283</td>\n",
       "      <td>179.241852</td>\n",
       "      <td>161.772523</td>\n",
       "      <td>16.025205</td>\n",
       "      <td>5.035504</td>\n",
       "      <td>12.145846</td>\n",
       "    </tr>\n",
       "    <tr>\n",
       "      <th>4018</th>\n",
       "      <td>LK Sonneberg</td>\n",
       "      <td>2019</td>\n",
       "      <td>5.570615</td>\n",
       "      <td>0.000000</td>\n",
       "      <td>1.397936</td>\n",
       "      <td>68.816120</td>\n",
       "      <td>12.000000</td>\n",
       "      <td>84.569680</td>\n",
       "      <td>165.330000</td>\n",
       "      <td>157.675700</td>\n",
       "      <td>8.797225</td>\n",
       "      <td>1.000000</td>\n",
       "      <td>12.623563</td>\n",
       "    </tr>\n",
       "    <tr>\n",
       "      <th>4019</th>\n",
       "      <td>SK Freiburg i.Breisgau</td>\n",
       "      <td>2019</td>\n",
       "      <td>15.757110</td>\n",
       "      <td>0.000000</td>\n",
       "      <td>6.600048</td>\n",
       "      <td>55.451900</td>\n",
       "      <td>6.000000</td>\n",
       "      <td>83.706030</td>\n",
       "      <td>218.500000</td>\n",
       "      <td>206.925000</td>\n",
       "      <td>12.473230</td>\n",
       "      <td>2.000000</td>\n",
       "      <td>8.984028</td>\n",
       "    </tr>\n",
       "  </tbody>\n",
       "</table>\n",
       "<p>4020 rows × 13 columns</p>\n",
       "</div>"
      ],
      "text/plain": [
       "                      county  year  NO2_annualMean  NO2_hrOver200  \\\n",
       "0                   LK Greiz  2010       20.189280       0.000000   \n",
       "1              LK Gro§-Gerau  2010       26.785240       0.000000   \n",
       "2       LK Main-Taunus-Kreis  2010       18.270625       0.007030   \n",
       "3                SK Schwerin  2010       16.688684       0.006174   \n",
       "4            SK Braunschweig  2010       16.100240       0.000000   \n",
       "...                      ...   ...             ...            ...   \n",
       "4015            LK Offenbach  2019       16.879588       0.006277   \n",
       "4016             LK Northeim  2019        7.093503       0.000000   \n",
       "4017         LK WolfenbŸttel  2019       15.339071       0.005444   \n",
       "4018            LK Sonneberg  2019        5.570615       0.000000   \n",
       "4019  SK Freiburg i.Breisgau  2019       15.757110       0.000000   \n",
       "\n",
       "      NO_annualMean  O3_annualMean  O3_daysOver120  O3_dailyMaxAnnualMean  \\\n",
       "0          6.925885      42.771670        1.682244              75.952011   \n",
       "1         11.275620      40.695500        0.688502              74.386456   \n",
       "2         12.659486      48.589364        0.688782              74.386896   \n",
       "3          8.444366      50.869312        1.618849              75.852137   \n",
       "4          2.360461      50.885470        1.898947              76.293408   \n",
       "...             ...            ...             ...                    ...   \n",
       "4015       9.627029      51.441394        1.852220              76.219794   \n",
       "4016       0.496811      56.630960        3.000000              77.735580   \n",
       "4017       8.382882      49.753871        1.163823              75.135283   \n",
       "4018       1.397936      68.816120       12.000000              84.569680   \n",
       "4019       6.600048      55.451900        6.000000              83.706030   \n",
       "\n",
       "      O3_dailyHourlyMax  O3_daily8HrMax  PM10_annualMean  PM10_daysOver50  \\\n",
       "0            179.500043      162.232504        24.287540        22.000000   \n",
       "1            179.005127      161.350783        22.095010         3.000000   \n",
       "2            179.005266      161.351032        17.935028         8.351986   \n",
       "3            179.468470      162.176255        17.479160         6.427313   \n",
       "4            179.607968      162.424778        19.254090        15.000000   \n",
       "...                 ...             ...              ...              ...   \n",
       "4015         179.584696      162.383319        16.609082         5.056900   \n",
       "4016         189.064000      157.677300        11.345170         1.000000   \n",
       "4017         179.241852      161.772523        16.025205         5.035504   \n",
       "4018         165.330000      157.675700         8.797225         1.000000   \n",
       "4019         218.500000      206.925000        12.473230         2.000000   \n",
       "\n",
       "      PM2.5_annualMean  \n",
       "0            18.507110  \n",
       "1            13.405547  \n",
       "2            13.320326  \n",
       "3            13.012473  \n",
       "4            13.773945  \n",
       "...                ...  \n",
       "4015         12.486517  \n",
       "4016         12.755891  \n",
       "4017         12.145846  \n",
       "4018         12.623563  \n",
       "4019          8.984028  \n",
       "\n",
       "[4020 rows x 13 columns]"
      ]
     },
     "execution_count": 21,
     "metadata": {},
     "output_type": "execute_result"
    }
   ],
   "source": [
    "pollution_data.sort_values('year', axis=0, ascending=True,inplace=True,ignore_index=True)\n",
    "pollution_data"
   ]
  },
  {
   "cell_type": "markdown",
   "id": "0767a6bf",
   "metadata": {
    "heading_collapsed": true,
    "hidden": true
   },
   "source": [
    "## Clean AP expose county name column to match Covid dataset"
   ]
  },
  {
   "cell_type": "code",
   "execution_count": 22,
   "id": "41541c93",
   "metadata": {
    "hidden": true
   },
   "outputs": [],
   "source": [
    "## Some funny characters present in county names of APExpose dataset\n",
    "## Replace those characters with equivalent German character to match Covid dataset and be able to merge\n",
    "\n",
    "pollution_data['county'] = pollution_data['county'].apply(lambda x: x.replace('Ÿ','ü'))\n",
    "pollution_data['county'] = pollution_data['county'].apply(lambda x: x.replace('š','ö'))\n",
    "pollution_data['county'] = pollution_data['county'].apply(lambda x: x.replace('§','ß'))\n",
    "pollution_data['county'] = pollution_data['county'].apply(lambda x: x.replace('Š','ä'))"
   ]
  },
  {
   "cell_type": "code",
   "execution_count": 23,
   "id": "604877aa",
   "metadata": {
    "hidden": true,
    "scrolled": true
   },
   "outputs": [
    {
     "data": {
      "text/plain": [
       "county                    object\n",
       "year                       int64\n",
       "NO2_annualMean           float64\n",
       "NO2_hrOver200            float64\n",
       "NO_annualMean            float64\n",
       "O3_annualMean            float64\n",
       "O3_daysOver120           float64\n",
       "O3_dailyMaxAnnualMean    float64\n",
       "O3_dailyHourlyMax        float64\n",
       "O3_daily8HrMax           float64\n",
       "PM10_annualMean          float64\n",
       "PM10_daysOver50          float64\n",
       "PM2.5_annualMean         float64\n",
       "dtype: object"
      ]
     },
     "execution_count": 23,
     "metadata": {},
     "output_type": "execute_result"
    }
   ],
   "source": [
    "#Check datatypes\n",
    "pollution_data.dtypes"
   ]
  },
  {
   "cell_type": "markdown",
   "id": "fcd8a657",
   "metadata": {
    "heading_collapsed": true,
    "hidden": true
   },
   "source": [
    "## Drop counties present in APexpore but not Covid\n",
    "\n",
    "Eisenach (wartburgkreis), Osterode am Harz (Göttingen) present in AP dataset but not in Covid dataset (because they were merged with another county after 2019): drop those rows for all time points"
   ]
  },
  {
   "cell_type": "code",
   "execution_count": 24,
   "id": "a832d244",
   "metadata": {
    "hidden": true
   },
   "outputs": [
    {
     "data": {
      "text/plain": [
       "(4020, 13)"
      ]
     },
     "execution_count": 24,
     "metadata": {},
     "output_type": "execute_result"
    }
   ],
   "source": [
    "pollution_data.shape"
   ]
  },
  {
   "cell_type": "code",
   "execution_count": 25,
   "id": "02bc963f",
   "metadata": {
    "hidden": true,
    "scrolled": true
   },
   "outputs": [
    {
     "data": {
      "text/plain": [
       "(4010, 13)"
      ]
     },
     "execution_count": 25,
     "metadata": {},
     "output_type": "execute_result"
    }
   ],
   "source": [
    "pollution_data = pollution_data[pollution_data.county != 'Eisenach']\n",
    "pollution_data.shape"
   ]
  },
  {
   "cell_type": "code",
   "execution_count": 26,
   "id": "44463e52",
   "metadata": {
    "hidden": true
   },
   "outputs": [
    {
     "data": {
      "text/plain": [
       "(4000, 13)"
      ]
     },
     "execution_count": 26,
     "metadata": {},
     "output_type": "execute_result"
    }
   ],
   "source": [
    "pollution_data = pollution_data[pollution_data.county != 'Osterode am Harz']\n",
    "pollution_data.shape"
   ]
  },
  {
   "cell_type": "markdown",
   "id": "a07f68b8",
   "metadata": {
    "heading_collapsed": true,
    "hidden": true
   },
   "source": [
    "## Sort AP data per county and year"
   ]
  },
  {
   "cell_type": "code",
   "execution_count": 27,
   "id": "8d381954",
   "metadata": {
    "hidden": true,
    "scrolled": true
   },
   "outputs": [
    {
     "data": {
      "text/plain": [
       "<bound method NDFrame.head of                    county  year  NO2_annualMean  NO2_hrOver200  NO_annualMean  \\\n",
       "0                  Berlin  2010       21.330970            0.0       4.689645   \n",
       "1                  Berlin  2011       21.107920            0.0       5.591758   \n",
       "2                  Berlin  2012       20.656000            0.0       5.372472   \n",
       "3                  Berlin  2013       19.166320            0.0       4.376160   \n",
       "4                  Berlin  2014       20.466660            0.0      15.755060   \n",
       "...                   ...   ...             ...            ...            ...   \n",
       "3995  StädteRegion Aachen  2015       19.503560            0.0      18.259300   \n",
       "3996  StädteRegion Aachen  2016       19.119410            0.0      20.256560   \n",
       "3997  StädteRegion Aachen  2017       19.371040            0.0      20.455340   \n",
       "3998  StädteRegion Aachen  2018       18.783950            0.0      18.301830   \n",
       "3999  StädteRegion Aachen  2019        8.702983            0.0       0.743928   \n",
       "\n",
       "      O3_annualMean  O3_daysOver120  O3_dailyMaxAnnualMean  O3_dailyHourlyMax  \\\n",
       "0          48.14162        1.321674              75.383964         179.320467   \n",
       "1          46.78272        1.405013              75.515257         179.361973   \n",
       "2          45.26885        1.513209              75.685711         179.415858   \n",
       "3          47.91164        0.142857              73.145140         171.855700   \n",
       "4          47.80345        0.000000              71.659810         181.968600   \n",
       "...             ...             ...                    ...                ...   \n",
       "3995       55.32369        3.500000              74.671370         202.228000   \n",
       "3996       53.63288        1.000000              73.430130         223.904000   \n",
       "3997       56.32148        1.500000              76.194330         209.181000   \n",
       "3998       60.82965        5.500000              83.249880         205.905500   \n",
       "3999       58.89937        8.000000              80.625130         212.635000   \n",
       "\n",
       "      O3_daily8HrMax  PM10_annualMean  PM10_daysOver50  PM2.5_annualMean  \n",
       "0         161.912580         25.21095         30.28571         20.568580  \n",
       "1         161.986524         22.83172         25.57143         20.176550  \n",
       "2         162.082523         20.53782         11.00000         17.185410  \n",
       "3         157.565400         21.05746         13.00000         15.839330  \n",
       "4         166.539500         24.20021         22.00000         19.774630  \n",
       "...              ...              ...              ...               ...  \n",
       "3995      179.944100         19.15463          0.00000          9.630400  \n",
       "3996      185.357600         17.79189          0.00000          9.114769  \n",
       "3997      193.422200         18.19552          0.00000          9.032636  \n",
       "3998      186.405700         18.96339          0.00000          9.965479  \n",
       "3999      170.913300         10.36783          1.00000         12.572421  \n",
       "\n",
       "[4000 rows x 13 columns]>"
      ]
     },
     "execution_count": 27,
     "metadata": {},
     "output_type": "execute_result"
    }
   ],
   "source": [
    "pollution_data.sort_values(['county','year'], axis=0, ascending=True,inplace=True,ignore_index=True)\n",
    "pollution_data.head"
   ]
  },
  {
   "cell_type": "markdown",
   "id": "78a5fe15",
   "metadata": {
    "heading_collapsed": true
   },
   "source": [
    "# Merge APexpose and Covid datasets"
   ]
  },
  {
   "cell_type": "code",
   "execution_count": 28,
   "id": "f91c5f04",
   "metadata": {
    "hidden": true,
    "scrolled": false
   },
   "outputs": [
    {
     "data": {
      "text/plain": [
       "(4000, 21)"
      ]
     },
     "execution_count": 28,
     "metadata": {},
     "output_type": "execute_result"
    }
   ],
   "source": [
    "merge_df = pollution_data.merge(covid_data, how = 'inner', on='county')\n",
    "merge_df.shape"
   ]
  },
  {
   "cell_type": "code",
   "execution_count": 29,
   "id": "ef592df7",
   "metadata": {
    "hidden": true
   },
   "outputs": [
    {
     "data": {
      "text/plain": [
       "<bound method NDFrame.head of                    county  year  NO2_annualMean  NO2_hrOver200  NO_annualMean  \\\n",
       "0                  Berlin  2010       21.330970            0.0       4.689645   \n",
       "1                  Berlin  2011       21.107920            0.0       5.591758   \n",
       "2                  Berlin  2012       20.656000            0.0       5.372472   \n",
       "3                  Berlin  2013       19.166320            0.0       4.376160   \n",
       "4                  Berlin  2014       20.466660            0.0      15.755060   \n",
       "...                   ...   ...             ...            ...            ...   \n",
       "3995  StädteRegion Aachen  2015       19.503560            0.0      18.259300   \n",
       "3996  StädteRegion Aachen  2016       19.119410            0.0      20.256560   \n",
       "3997  StädteRegion Aachen  2017       19.371040            0.0      20.455340   \n",
       "3998  StädteRegion Aachen  2018       18.783950            0.0      18.301830   \n",
       "3999  StädteRegion Aachen  2019        8.702983            0.0       0.743928   \n",
       "\n",
       "      O3_annualMean  O3_daysOver120  O3_dailyMaxAnnualMean  O3_dailyHourlyMax  \\\n",
       "0          48.14162        1.321674              75.383964         179.320467   \n",
       "1          46.78272        1.405013              75.515257         179.361973   \n",
       "2          45.26885        1.513209              75.685711         179.415858   \n",
       "3          47.91164        0.142857              73.145140         171.855700   \n",
       "4          47.80345        0.000000              71.659810         181.968600   \n",
       "...             ...             ...                    ...                ...   \n",
       "3995       55.32369        3.500000              74.671370         202.228000   \n",
       "3996       53.63288        1.000000              73.430130         223.904000   \n",
       "3997       56.32148        1.500000              76.194330         209.181000   \n",
       "3998       60.82965        5.500000              83.249880         205.905500   \n",
       "3999       58.89937        8.000000              80.625130         212.635000   \n",
       "\n",
       "      O3_daily8HrMax  ...  PM10_daysOver50  PM2.5_annualMean  \\\n",
       "0         161.912580  ...         30.28571         20.568580   \n",
       "1         161.986524  ...         25.57143         20.176550   \n",
       "2         162.082523  ...         11.00000         17.185410   \n",
       "3         157.565400  ...         13.00000         15.839330   \n",
       "4         166.539500  ...         22.00000         19.774630   \n",
       "...              ...  ...              ...               ...   \n",
       "3995      179.944100  ...          0.00000          9.630400   \n",
       "3996      185.357600  ...          0.00000          9.114769   \n",
       "3997      193.422200  ...          0.00000          9.032636   \n",
       "3998      186.405700  ...          0.00000          9.965479   \n",
       "3999      170.913300  ...          1.00000         12.572421   \n",
       "\n",
       "                       BL     EWZ   Shape__Area  death_rate   cases  deaths  \\\n",
       "0                  Berlin  259169  8.933202e+08    1.591636  242813    3759   \n",
       "1                  Berlin  259169  8.933202e+08    1.591636  242813    3759   \n",
       "2                  Berlin  259169  8.933202e+08    1.591636  242813    3759   \n",
       "3                  Berlin  259169  8.933202e+08    1.591636  242813    3759   \n",
       "4                  Berlin  259169  8.933202e+08    1.591636  242813    3759   \n",
       "...                   ...     ...           ...         ...     ...     ...   \n",
       "3995  Nordrhein-Westfalen  556631  7.046180e+08    1.834700   33902     622   \n",
       "3996  Nordrhein-Westfalen  556631  7.046180e+08    1.834700   33902     622   \n",
       "3997  Nordrhein-Westfalen  556631  7.046180e+08    1.834700   33902     622   \n",
       "3998  Nordrhein-Westfalen  556631  7.046180e+08    1.834700   33902     622   \n",
       "3999  Nordrhein-Westfalen  556631  7.046180e+08    1.834700   33902     622   \n",
       "\n",
       "      cases_per_100k  deaths_per_100k  \n",
       "0        6640.688066       103.703091  \n",
       "1        6640.688066       103.703091  \n",
       "2        6640.688066       103.703091  \n",
       "3        6640.688066       103.703091  \n",
       "4        6640.688066       103.703091  \n",
       "...              ...              ...  \n",
       "3995     6090.569875       111.743687  \n",
       "3996     6090.569875       111.743687  \n",
       "3997     6090.569875       111.743687  \n",
       "3998     6090.569875       111.743687  \n",
       "3999     6090.569875       111.743687  \n",
       "\n",
       "[4000 rows x 21 columns]>"
      ]
     },
     "execution_count": 29,
     "metadata": {},
     "output_type": "execute_result"
    }
   ],
   "source": [
    "merge_df.head"
   ]
  },
  {
   "cell_type": "code",
   "execution_count": 226,
   "id": "cd10ad13",
   "metadata": {
    "hidden": true
   },
   "outputs": [],
   "source": [
    "merge_df.to_csv('covid_pollution_clean.csv')"
   ]
  },
  {
   "cell_type": "markdown",
   "id": "38211837",
   "metadata": {
    "hidden": true
   },
   "source": [
    "!!!!!! Lon and Lat is not what we need - merge from Chris dataset"
   ]
  },
  {
   "cell_type": "markdown",
   "id": "845b5fc1",
   "metadata": {
    "hidden": true
   },
   "source": [
    "## Rename PM2.5 to PM2_5"
   ]
  },
  {
   "cell_type": "code",
   "execution_count": 80,
   "id": "a05fb72a",
   "metadata": {
    "hidden": true
   },
   "outputs": [],
   "source": [
    "merge_df = merge_df.rename(columns={'PM2.5_annualMean': 'PM2_5_annualMean'})"
   ]
  },
  {
   "cell_type": "code",
   "execution_count": 81,
   "id": "dfa8c198",
   "metadata": {
    "hidden": true,
    "scrolled": true
   },
   "outputs": [
    {
     "data": {
      "text/plain": [
       "Index(['county', 'year', 'NO2_annualMean', 'NO2_hrOver200', 'NO_annualMean',\n",
       "       'O3_annualMean', 'O3_daysOver120', 'O3_dailyMaxAnnualMean',\n",
       "       'O3_dailyHourlyMax', 'O3_daily8HrMax', 'PM10_annualMean',\n",
       "       'PM10_daysOver50', 'PM2_5_annualMean', 'BL', 'EWZ', 'Shape__Area',\n",
       "       'death_rate', 'cases', 'deaths', 'cases_per_100k', 'deaths_per_100k'],\n",
       "      dtype='object')"
      ]
     },
     "execution_count": 81,
     "metadata": {},
     "output_type": "execute_result"
    }
   ],
   "source": [
    "merge_df.columns"
   ]
  },
  {
   "cell_type": "code",
   "execution_count": 82,
   "id": "d0f3463e",
   "metadata": {
    "hidden": true,
    "scrolled": true
   },
   "outputs": [
    {
     "data": {
      "text/plain": [
       "county                    object\n",
       "year                       int64\n",
       "NO2_annualMean           float64\n",
       "NO2_hrOver200            float64\n",
       "NO_annualMean            float64\n",
       "O3_annualMean            float64\n",
       "O3_daysOver120           float64\n",
       "O3_dailyMaxAnnualMean    float64\n",
       "O3_dailyHourlyMax        float64\n",
       "O3_daily8HrMax           float64\n",
       "PM10_annualMean          float64\n",
       "PM10_daysOver50          float64\n",
       "PM2_5_annualMean         float64\n",
       "BL                        object\n",
       "EWZ                        int64\n",
       "Shape__Area              float64\n",
       "death_rate               float64\n",
       "cases                      int64\n",
       "deaths                     int64\n",
       "cases_per_100k           float64\n",
       "deaths_per_100k          float64\n",
       "dtype: object"
      ]
     },
     "execution_count": 82,
     "metadata": {},
     "output_type": "execute_result"
    }
   ],
   "source": [
    "merge_df.dtypes"
   ]
  },
  {
   "cell_type": "code",
   "execution_count": 121,
   "id": "ead8c4fb",
   "metadata": {
    "hidden": true
   },
   "outputs": [],
   "source": [
    "merge_df.to_csv('clean_merged_dataset_covid_pollution.csv')"
   ]
  }
 ],
 "metadata": {
  "kernelspec": {
   "display_name": "Python 3 (ipykernel)",
   "language": "python",
   "name": "python3"
  },
  "language_info": {
   "codemirror_mode": {
    "name": "ipython",
    "version": 3
   },
   "file_extension": ".py",
   "mimetype": "text/x-python",
   "name": "python",
   "nbconvert_exporter": "python",
   "pygments_lexer": "ipython3",
   "version": "3.8.12"
  },
  "toc": {
   "base_numbering": 1,
   "nav_menu": {},
   "number_sections": true,
   "sideBar": true,
   "skip_h1_title": false,
   "title_cell": "Table of Contents",
   "title_sidebar": "Contents",
   "toc_cell": false,
   "toc_position": {},
   "toc_section_display": true,
   "toc_window_display": false
  }
 },
 "nbformat": 4,
 "nbformat_minor": 5
}
