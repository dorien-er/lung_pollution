{
 "cells": [
  {
   "cell_type": "code",
   "execution_count": 1,
   "id": "9b102eda",
   "metadata": {},
   "outputs": [],
   "source": [
    "import pandas as pd\n",
    "import numpy as np\n",
    "import plotly.express as px"
   ]
  },
  {
   "cell_type": "code",
   "execution_count": 2,
   "id": "c5974046",
   "metadata": {},
   "outputs": [],
   "source": [
    "df_covid_AP = pd.read_csv('../lung_pollution/data/covid_pollution_complete.csv')\n",
    "df_covid_AP.drop(columns=['Column1'], inplace = True)"
   ]
  },
  {
   "cell_type": "code",
   "execution_count": 3,
   "id": "8a966031",
   "metadata": {},
   "outputs": [],
   "source": [
    "df_covid_AP = df_covid_AP.rename(columns={\"fully_vaccinated\": \"Fully_vaccinated\"})"
   ]
  },
  {
   "cell_type": "code",
   "execution_count": 4,
   "id": "12f1f041",
   "metadata": {},
   "outputs": [],
   "source": [
    "df_covid_AP.sort_values(['year'], axis=0, ascending=False,inplace=True,ignore_index=True)"
   ]
  },
  {
   "cell_type": "code",
   "execution_count": 5,
   "id": "56ac9514",
   "metadata": {},
   "outputs": [],
   "source": [
    "df_covid_AP = df_covid_AP[0:400]"
   ]
  },
  {
   "cell_type": "code",
   "execution_count": 6,
   "id": "15090631",
   "metadata": {},
   "outputs": [
    {
     "data": {
      "text/plain": [
       "(400, 30)"
      ]
     },
     "execution_count": 6,
     "metadata": {},
     "output_type": "execute_result"
    }
   ],
   "source": [
    "df_covid_AP.shape"
   ]
  },
  {
   "cell_type": "code",
   "execution_count": 7,
   "id": "f9847392",
   "metadata": {},
   "outputs": [],
   "source": [
    "X = df_covid_AP[['NO2_totMean', 'NO_totMean', 'O3_totMean','PM2_5_totMean', 'Fully_vaccinated', 'Population_density']]\n",
    "y = df_covid_AP['cases_per_100k']"
   ]
  },
  {
   "cell_type": "code",
   "execution_count": 8,
   "id": "d4846376",
   "metadata": {},
   "outputs": [],
   "source": [
    "from sklearn.preprocessing import StandardScaler\n",
    "\n",
    "scaler = StandardScaler()  # Instanciate Robust Scaler\n",
    "\n",
    "scaler.fit(X)  # Fit scaler to feature\n",
    "scaled_num = scaler.transform(X)  #Scale\n",
    "X = pd.DataFrame(scaled_num, columns = X.columns)"
   ]
  },
  {
   "cell_type": "markdown",
   "id": "aad24d53",
   "metadata": {},
   "source": [
    "# Models"
   ]
  },
  {
   "cell_type": "markdown",
   "id": "0edf7544",
   "metadata": {},
   "source": [
    "## Linear Regression"
   ]
  },
  {
   "cell_type": "code",
   "execution_count": 9,
   "id": "01746bec",
   "metadata": {},
   "outputs": [
    {
     "name": "stdout",
     "output_type": "stream",
     "text": [
      "0.3955199153556628\n",
      "0.35289087239363387\n"
     ]
    }
   ],
   "source": [
    "from sklearn.linear_model import LinearRegression\n",
    "from sklearn.model_selection import cross_validate\n",
    "\n",
    "linreg = LinearRegression()\n",
    "\n",
    "cv_results_linreg = cross_validate(linreg, X, y, cv=5, \n",
    "                            scoring='r2'\n",
    "                                     )\n",
    "linreg.fit(X, y)\n",
    "print(linreg.score(X, y))\n",
    "print(cv_results_linreg['test_score'].mean())"
   ]
  },
  {
   "cell_type": "markdown",
   "id": "bdb68d03",
   "metadata": {},
   "source": [
    "## Lasso"
   ]
  },
  {
   "cell_type": "code",
   "execution_count": 10,
   "id": "72ea9d57",
   "metadata": {},
   "outputs": [
    {
     "name": "stdout",
     "output_type": "stream",
     "text": [
      "0.3955171958463194\n",
      "0.3528586343002059\n"
     ]
    }
   ],
   "source": [
    "from sklearn.linear_model import Ridge, Lasso, LinearRegression, ElasticNet\n",
    "\n",
    "lasso = Lasso()\n",
    "\n",
    "cv_results_lasso = cross_validate(lasso, X, y, cv=5, \n",
    "                            scoring='r2'\n",
    "                                     )\n",
    "lasso.fit(X, y)\n",
    "print(lasso.score(X, y))\n",
    "print(cv_results_lasso['test_score'].mean())"
   ]
  },
  {
   "cell_type": "markdown",
   "id": "adec395e",
   "metadata": {},
   "source": [
    "## Ridge"
   ]
  },
  {
   "cell_type": "code",
   "execution_count": 11,
   "id": "4abd9ea8",
   "metadata": {},
   "outputs": [
    {
     "name": "stdout",
     "output_type": "stream",
     "text": [
      "0.3955137562576416\n",
      "0.3531052227776959\n"
     ]
    }
   ],
   "source": [
    "ridge = Ridge()\n",
    "\n",
    "cv_results_ridge = cross_validate(ridge, X, y, cv=5, \n",
    "                            scoring='r2'\n",
    "                                     )\n",
    "\n",
    "ridge.fit(X, y)\n",
    "print(ridge.score(X, y))\n",
    "print(cv_results_ridge['test_score'].mean())"
   ]
  },
  {
   "cell_type": "markdown",
   "id": "31a44f43",
   "metadata": {},
   "source": [
    "## Elastic Net"
   ]
  },
  {
   "cell_type": "code",
   "execution_count": 12,
   "id": "28253a89",
   "metadata": {},
   "outputs": [
    {
     "name": "stdout",
     "output_type": "stream",
     "text": [
      "0.3369366720911692\n",
      "0.3107156495813002\n"
     ]
    }
   ],
   "source": [
    "elasticnet = ElasticNet()\n",
    "\n",
    "cv_results_elasticnet = cross_validate(elasticnet, X, y, cv=5, \n",
    "                            scoring='r2'\n",
    "                                     )\n",
    "\n",
    "elasticnet.fit(X, y)\n",
    "print(elasticnet.score(X, y))\n",
    "print(cv_results_elasticnet['test_score'].mean())"
   ]
  },
  {
   "cell_type": "markdown",
   "id": "32e5ffdc",
   "metadata": {},
   "source": [
    "## K-Nearest Neighbours"
   ]
  },
  {
   "cell_type": "code",
   "execution_count": 14,
   "id": "81d21ba9",
   "metadata": {},
   "outputs": [
    {
     "name": "stdout",
     "output_type": "stream",
     "text": [
      "1.0\n",
      "0.3957329190632219\n"
     ]
    }
   ],
   "source": [
    "from sklearn.neighbors import KNeighborsRegressor\n",
    "\n",
    "neigh = KNeighborsRegressor(n_neighbors=4, weights='distance', leaf_size=10, p=1)\n",
    "\n",
    "cv_results_neigh = cross_validate(neigh, X, y, cv=5, \n",
    "                            scoring='r2'\n",
    "                                     )\n",
    "\n",
    "neigh.fit(X, y)\n",
    "print(neigh.score(X, y))\n",
    "print(cv_results_neigh['test_score'].mean())"
   ]
  },
  {
   "cell_type": "markdown",
   "id": "0e15775a",
   "metadata": {},
   "source": [
    "## Support Vector Regression"
   ]
  },
  {
   "cell_type": "code",
   "execution_count": 16,
   "id": "de681b73",
   "metadata": {},
   "outputs": [
    {
     "name": "stdout",
     "output_type": "stream",
     "text": [
      "0.003542530945239153\n",
      "-0.009264780842408404\n"
     ]
    }
   ],
   "source": [
    "from sklearn.svm import SVR\n",
    "\n",
    "SVR = SVR()\n",
    "\n",
    "cv_results_svr = cross_validate(SVR, X, y, cv=5, \n",
    "                            scoring='r2'\n",
    "                                     )\n",
    "\n",
    "SVR.fit(X, y)\n",
    "print(SVR.score(X, y))\n",
    "print(cv_results_svr['test_score'].mean())"
   ]
  },
  {
   "cell_type": "markdown",
   "id": "a75d3fb7",
   "metadata": {},
   "source": [
    "## AdaBoost"
   ]
  },
  {
   "cell_type": "code",
   "execution_count": 17,
   "id": "1ab088f9",
   "metadata": {},
   "outputs": [
    {
     "name": "stdout",
     "output_type": "stream",
     "text": [
      "0.6118806140654992\n",
      "0.4626354984193714\n"
     ]
    }
   ],
   "source": [
    "from sklearn.ensemble import AdaBoostRegressor, RandomForestRegressor\n",
    "\n",
    "adaboost = AdaBoostRegressor(n_estimators=10, \n",
    "    learning_rate= 1.2)\n",
    "\n",
    "cv_results_adaboost = cross_validate(adaboost, X, y, cv=5, \n",
    "                            scoring='r2'\n",
    "                                     )\n",
    "\n",
    "adaboost.fit(X, y)\n",
    "print(adaboost.score(X, y))\n",
    "print(cv_results_adaboost['test_score'].mean())"
   ]
  },
  {
   "cell_type": "markdown",
   "id": "693cf23a",
   "metadata": {},
   "source": [
    "## Random Forest Regressor"
   ]
  },
  {
   "cell_type": "code",
   "execution_count": 18,
   "id": "ce8bfb39",
   "metadata": {
    "scrolled": true
   },
   "outputs": [
    {
     "name": "stdout",
     "output_type": "stream",
     "text": [
      "0.6203330664190791\n",
      "0.46186556335126727\n"
     ]
    }
   ],
   "source": [
    "from sklearn.ensemble import  RandomForestRegressor\n",
    "\n",
    "forest = RandomForestRegressor(min_samples_leaf=15, min_samples_split=10, n_estimators=100)\n",
    "\n",
    "\n",
    "cv_results_forest = cross_validate(forest, X, y, cv=5, \n",
    "                            scoring='r2'\n",
    "                                     )\n",
    "\n",
    "forest.fit(X, y)\n",
    "print(forest.score(X, y))\n",
    "print(cv_results_forest['test_score'].mean())"
   ]
  },
  {
   "cell_type": "markdown",
   "id": "97bb6c52",
   "metadata": {},
   "source": [
    "## XGBoost"
   ]
  },
  {
   "cell_type": "code",
   "execution_count": 19,
   "id": "7f763731",
   "metadata": {},
   "outputs": [
    {
     "name": "stdout",
     "output_type": "stream",
     "text": [
      "0.9999681484364248\n",
      "0.4470820183835441\n"
     ]
    }
   ],
   "source": [
    "from xgboost import XGBRegressor\n",
    "\n",
    "xgbr = XGBRegressor()\n",
    "\n",
    "cv_results_xgbr = cross_validate(xgbr, X, y, cv=5, \n",
    "                            scoring='r2'\n",
    "                                     )\n",
    "\n",
    "\n",
    "xgbr.fit(X, y)\n",
    "print(xgbr.score(X, y))\n",
    "print(cv_results_xgbr['test_score'].mean())"
   ]
  },
  {
   "cell_type": "markdown",
   "id": "6e748931",
   "metadata": {},
   "source": [
    "# Creating the Table"
   ]
  },
  {
   "cell_type": "code",
   "execution_count": 20,
   "id": "6e9c95b8",
   "metadata": {},
   "outputs": [
    {
     "ename": "KeyError",
     "evalue": "'test_r2'",
     "output_type": "error",
     "traceback": [
      "\u001b[0;31m---------------------------------------------------------------------------\u001b[0m",
      "\u001b[0;31mKeyError\u001b[0m                                  Traceback (most recent call last)",
      "\u001b[0;32m/tmp/ipykernel_3016/2415610807.py\u001b[0m in \u001b[0;36m<module>\u001b[0;34m\u001b[0m\n\u001b[0;32m----> 1\u001b[0;31m \u001b[0mdata\u001b[0m \u001b[0;34m=\u001b[0m \u001b[0;34m[\u001b[0m\u001b[0;34m[\u001b[0m\u001b[0;34m'Linear Regression'\u001b[0m\u001b[0;34m,\u001b[0m \u001b[0mcv_results_linreg\u001b[0m\u001b[0;34m[\u001b[0m\u001b[0;34m'test_r2'\u001b[0m\u001b[0;34m]\u001b[0m\u001b[0;34m.\u001b[0m\u001b[0mmean\u001b[0m\u001b[0;34m(\u001b[0m\u001b[0;34m)\u001b[0m\u001b[0;34m]\u001b[0m\u001b[0;34m,\u001b[0m \u001b[0;34m[\u001b[0m\u001b[0;34m'Lasso'\u001b[0m\u001b[0;34m,\u001b[0m \u001b[0mcv_results_lasso\u001b[0m\u001b[0;34m[\u001b[0m\u001b[0;34m'test_r2'\u001b[0m\u001b[0;34m]\u001b[0m\u001b[0;34m.\u001b[0m\u001b[0mmean\u001b[0m\u001b[0;34m(\u001b[0m\u001b[0;34m)\u001b[0m\u001b[0;34m]\u001b[0m\u001b[0;34m,\u001b[0m \u001b[0;34m[\u001b[0m\u001b[0;34m'Ridge'\u001b[0m\u001b[0;34m,\u001b[0m \u001b[0mcv_results_ridge\u001b[0m\u001b[0;34m[\u001b[0m\u001b[0;34m'test_r2'\u001b[0m\u001b[0;34m]\u001b[0m\u001b[0;34m.\u001b[0m\u001b[0mmean\u001b[0m\u001b[0;34m(\u001b[0m\u001b[0;34m)\u001b[0m\u001b[0;34m]\u001b[0m\u001b[0;34m,\u001b[0m \u001b[0;34m[\u001b[0m\u001b[0;34m'Elastic Net'\u001b[0m\u001b[0;34m,\u001b[0m \u001b[0mcv_results_elasticnet\u001b[0m\u001b[0;34m[\u001b[0m\u001b[0;34m'test_r2'\u001b[0m\u001b[0;34m]\u001b[0m\u001b[0;34m.\u001b[0m\u001b[0mmean\u001b[0m\u001b[0;34m(\u001b[0m\u001b[0;34m)\u001b[0m\u001b[0;34m]\u001b[0m\u001b[0;34m,\u001b[0m \u001b[0;34m[\u001b[0m\u001b[0;34m'K-Nearest Neighbours'\u001b[0m\u001b[0;34m,\u001b[0m \u001b[0mcv_results_neigh\u001b[0m\u001b[0;34m[\u001b[0m\u001b[0;34m'test_r2'\u001b[0m\u001b[0;34m]\u001b[0m\u001b[0;34m.\u001b[0m\u001b[0mmean\u001b[0m\u001b[0;34m(\u001b[0m\u001b[0;34m)\u001b[0m\u001b[0;34m]\u001b[0m\u001b[0;34m,\u001b[0m \u001b[0;34m[\u001b[0m\u001b[0;34m'Support Vector Regression'\u001b[0m\u001b[0;34m,\u001b[0m \u001b[0mcv_results_svr\u001b[0m\u001b[0;34m[\u001b[0m\u001b[0;34m'test_r2'\u001b[0m\u001b[0;34m]\u001b[0m\u001b[0;34m.\u001b[0m\u001b[0mmean\u001b[0m\u001b[0;34m(\u001b[0m\u001b[0;34m)\u001b[0m\u001b[0;34m]\u001b[0m\u001b[0;34m,\u001b[0m \u001b[0;34m[\u001b[0m\u001b[0;34m'AdaBoost'\u001b[0m\u001b[0;34m,\u001b[0m \u001b[0mcv_results_adaboost\u001b[0m\u001b[0;34m[\u001b[0m\u001b[0;34m'test_r2'\u001b[0m\u001b[0;34m]\u001b[0m\u001b[0;34m.\u001b[0m\u001b[0mmean\u001b[0m\u001b[0;34m(\u001b[0m\u001b[0;34m)\u001b[0m\u001b[0;34m]\u001b[0m\u001b[0;34m,\u001b[0m \u001b[0;34m[\u001b[0m\u001b[0;34m'Random Forest Regressor'\u001b[0m\u001b[0;34m,\u001b[0m \u001b[0mcv_results_forest\u001b[0m\u001b[0;34m[\u001b[0m\u001b[0;34m'test_r2'\u001b[0m\u001b[0;34m]\u001b[0m\u001b[0;34m.\u001b[0m\u001b[0mmean\u001b[0m\u001b[0;34m(\u001b[0m\u001b[0;34m)\u001b[0m\u001b[0;34m]\u001b[0m\u001b[0;34m,\u001b[0m \u001b[0;34m[\u001b[0m\u001b[0;34m'XGBoost'\u001b[0m\u001b[0;34m,\u001b[0m \u001b[0mcv_results_xgbr\u001b[0m\u001b[0;34m[\u001b[0m\u001b[0;34m'test_r2'\u001b[0m\u001b[0;34m]\u001b[0m\u001b[0;34m.\u001b[0m\u001b[0mmean\u001b[0m\u001b[0;34m(\u001b[0m\u001b[0;34m)\u001b[0m\u001b[0;34m]\u001b[0m\u001b[0;34m]\u001b[0m\u001b[0;34m\u001b[0m\u001b[0;34m\u001b[0m\u001b[0m\n\u001b[0m\u001b[1;32m      2\u001b[0m \u001b[0;34m\u001b[0m\u001b[0m\n\u001b[1;32m      3\u001b[0m \u001b[0;31m# Create the pandas DataFrame\u001b[0m\u001b[0;34m\u001b[0m\u001b[0;34m\u001b[0m\u001b[0;34m\u001b[0m\u001b[0m\n\u001b[1;32m      4\u001b[0m \u001b[0mdf\u001b[0m \u001b[0;34m=\u001b[0m \u001b[0mpd\u001b[0m\u001b[0;34m.\u001b[0m\u001b[0mDataFrame\u001b[0m\u001b[0;34m(\u001b[0m\u001b[0mdata\u001b[0m\u001b[0;34m,\u001b[0m \u001b[0mcolumns\u001b[0m \u001b[0;34m=\u001b[0m \u001b[0;34m[\u001b[0m\u001b[0;34m'Model'\u001b[0m\u001b[0;34m,\u001b[0m \u001b[0;34m'R-squared'\u001b[0m\u001b[0;34m]\u001b[0m\u001b[0;34m)\u001b[0m\u001b[0;34m\u001b[0m\u001b[0;34m\u001b[0m\u001b[0m\n",
      "\u001b[0;31mKeyError\u001b[0m: 'test_r2'"
     ]
    }
   ],
   "source": [
    "\n",
    "data = [['Linear Regression', cv_results_linreg['test_r2'].mean()], ['Lasso', cv_results_lasso['test_r2'].mean()], ['Ridge', cv_results_ridge['test_r2'].mean()], ['Elastic Net', cv_results_elasticnet['test_r2'].mean()], ['K-Nearest Neighbours', cv_results_neigh['test_r2'].mean()], ['Support Vector Regression', cv_results_svr['test_r2'].mean()], ['AdaBoost', cv_results_adaboost['test_r2'].mean()], ['Random Forest Regressor', cv_results_forest['test_r2'].mean()], ['XGBoost', cv_results_xgbr['test_r2'].mean()]]\n",
    "  \n",
    "# Create the pandas DataFrame\n",
    "df = pd.DataFrame(data, columns = ['Model', 'R-squared'])"
   ]
  },
  {
   "cell_type": "code",
   "execution_count": null,
   "id": "adaa09f7",
   "metadata": {},
   "outputs": [],
   "source": [
    "df"
   ]
  },
  {
   "cell_type": "markdown",
   "id": "477a911c",
   "metadata": {},
   "source": [
    "# Heatmap R-square"
   ]
  },
  {
   "cell_type": "code",
   "execution_count": null,
   "id": "c6d52cd0",
   "metadata": {},
   "outputs": [],
   "source": [
    "fig = px.imshow(data,\n",
    "                labels=dict(color=\"R-squared\"),\n",
    "                x=['Model', 'Generalization'],\n",
    "                y=['Linear Regression', 'Lasso', 'Ridge','Elastic Net','K-Nearest Neighbours','Support Vector Regression','AdaBoost','Random Forest Regressor','XGBoost']\n",
    "               )\n",
    "fig.update_xaxes(side=\"top\")\n",
    "fig.show()"
   ]
  }
 ],
 "metadata": {
  "kernelspec": {
   "display_name": "Python 3 (ipykernel)",
   "language": "python",
   "name": "python3"
  },
  "language_info": {
   "codemirror_mode": {
    "name": "ipython",
    "version": 3
   },
   "file_extension": ".py",
   "mimetype": "text/x-python",
   "name": "python",
   "nbconvert_exporter": "python",
   "pygments_lexer": "ipython3",
   "version": "3.8.12"
  },
  "toc": {
   "base_numbering": 1,
   "nav_menu": {},
   "number_sections": true,
   "sideBar": true,
   "skip_h1_title": false,
   "title_cell": "Table of Contents",
   "title_sidebar": "Contents",
   "toc_cell": false,
   "toc_position": {},
   "toc_section_display": true,
   "toc_window_display": false
  }
 },
 "nbformat": 4,
 "nbformat_minor": 5
}
