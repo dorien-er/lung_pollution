{
 "cells": [
  {
   "cell_type": "code",
   "execution_count": 1,
   "id": "9b102eda",
   "metadata": {},
   "outputs": [],
   "source": [
    "import pandas as pd\n",
    "import numpy as np\n",
    "import plotly.express as px"
   ]
  },
  {
   "cell_type": "code",
   "execution_count": 2,
   "id": "c5974046",
   "metadata": {},
   "outputs": [],
   "source": [
    "df_covid_AP = pd.read_csv('../lung_pollution/data/covid_pollution_complete.csv')\n",
    "df_covid_AP.drop(columns=['Column1'], inplace = True)"
   ]
  },
  {
   "cell_type": "code",
   "execution_count": 3,
   "id": "8a966031",
   "metadata": {},
   "outputs": [],
   "source": [
    "df_covid_AP = df_covid_AP.rename(columns={\"fully_vaccinated\": \"Fully_vaccinated\"})"
   ]
  },
  {
   "cell_type": "code",
   "execution_count": 4,
   "id": "53f9a661",
   "metadata": {},
   "outputs": [],
   "source": [
    "df_covid_AP.sort_values(['year'], axis=0, ascending=False,inplace=True,ignore_index=True)"
   ]
  },
  {
   "cell_type": "code",
   "execution_count": 5,
   "id": "12f1f041",
   "metadata": {},
   "outputs": [
    {
     "data": {
      "text/html": [
       "<div>\n",
       "<style scoped>\n",
       "    .dataframe tbody tr th:only-of-type {\n",
       "        vertical-align: middle;\n",
       "    }\n",
       "\n",
       "    .dataframe tbody tr th {\n",
       "        vertical-align: top;\n",
       "    }\n",
       "\n",
       "    .dataframe thead th {\n",
       "        text-align: right;\n",
       "    }\n",
       "</style>\n",
       "<table border=\"1\" class=\"dataframe\">\n",
       "  <thead>\n",
       "    <tr style=\"text-align: right;\">\n",
       "      <th></th>\n",
       "      <th>id</th>\n",
       "      <th>county_new</th>\n",
       "      <th>county</th>\n",
       "      <th>year</th>\n",
       "      <th>NO2_annualMean</th>\n",
       "      <th>NO2_hrOver200</th>\n",
       "      <th>NO_annualMean</th>\n",
       "      <th>O3_annualMean</th>\n",
       "      <th>O3_daysOver120</th>\n",
       "      <th>O3_dailyMaxAnnualMean</th>\n",
       "      <th>...</th>\n",
       "      <th>deaths</th>\n",
       "      <th>cases_per_100k</th>\n",
       "      <th>deaths_per_100k</th>\n",
       "      <th>Fully_vaccinated</th>\n",
       "      <th>Population_density</th>\n",
       "      <th>NO2_totMean</th>\n",
       "      <th>NO_totMean</th>\n",
       "      <th>O3_totMean</th>\n",
       "      <th>PM10_totMean</th>\n",
       "      <th>PM2_5_totMean</th>\n",
       "    </tr>\n",
       "  </thead>\n",
       "  <tbody>\n",
       "    <tr>\n",
       "      <th>0</th>\n",
       "      <td>285</td>\n",
       "      <td>Aachen</td>\n",
       "      <td>StädteRegion Aachen</td>\n",
       "      <td>2019</td>\n",
       "      <td>8.702983</td>\n",
       "      <td>0.00000</td>\n",
       "      <td>0.743928</td>\n",
       "      <td>58.89937</td>\n",
       "      <td>8.000000</td>\n",
       "      <td>80.62513</td>\n",
       "      <td>...</td>\n",
       "      <td>622</td>\n",
       "      <td>6090.569875</td>\n",
       "      <td>111.743687</td>\n",
       "      <td>0.715</td>\n",
       "      <td>789.975585</td>\n",
       "      <td>15.177349</td>\n",
       "      <td>11.589918</td>\n",
       "      <td>54.640123</td>\n",
       "      <td>17.472704</td>\n",
       "      <td>11.515066</td>\n",
       "    </tr>\n",
       "    <tr>\n",
       "      <th>1</th>\n",
       "      <td>414</td>\n",
       "      <td>Erfurt Städte</td>\n",
       "      <td>SK Erfurt</td>\n",
       "      <td>2019</td>\n",
       "      <td>15.717190</td>\n",
       "      <td>0.00000</td>\n",
       "      <td>7.001803</td>\n",
       "      <td>52.44306</td>\n",
       "      <td>0.000000</td>\n",
       "      <td>77.22419</td>\n",
       "      <td>...</td>\n",
       "      <td>290</td>\n",
       "      <td>6234.674204</td>\n",
       "      <td>135.709339</td>\n",
       "      <td>0.621</td>\n",
       "      <td>790.697991</td>\n",
       "      <td>21.353773</td>\n",
       "      <td>12.723735</td>\n",
       "      <td>47.732662</td>\n",
       "      <td>18.477456</td>\n",
       "      <td>12.834581</td>\n",
       "    </tr>\n",
       "    <tr>\n",
       "      <th>2</th>\n",
       "      <td>10</td>\n",
       "      <td>Hagen Städte</td>\n",
       "      <td>SK Hagen</td>\n",
       "      <td>2019</td>\n",
       "      <td>18.694540</td>\n",
       "      <td>0.00726</td>\n",
       "      <td>10.355297</td>\n",
       "      <td>52.20485</td>\n",
       "      <td>2.163659</td>\n",
       "      <td>76.71044</td>\n",
       "      <td>...</td>\n",
       "      <td>345</td>\n",
       "      <td>8593.066825</td>\n",
       "      <td>182.842485</td>\n",
       "      <td>0.715</td>\n",
       "      <td>1177.241586</td>\n",
       "      <td>20.609004</td>\n",
       "      <td>12.457916</td>\n",
       "      <td>50.831379</td>\n",
       "      <td>18.888289</td>\n",
       "      <td>13.836452</td>\n",
       "    </tr>\n",
       "    <tr>\n",
       "      <th>3</th>\n",
       "      <td>225</td>\n",
       "      <td>Göttingen</td>\n",
       "      <td>LK Göttingen</td>\n",
       "      <td>2019</td>\n",
       "      <td>11.426380</td>\n",
       "      <td>0.00000</td>\n",
       "      <td>2.897505</td>\n",
       "      <td>52.75934</td>\n",
       "      <td>0.000000</td>\n",
       "      <td>78.70706</td>\n",
       "      <td>...</td>\n",
       "      <td>289</td>\n",
       "      <td>3246.372337</td>\n",
       "      <td>89.225069</td>\n",
       "      <td>0.699</td>\n",
       "      <td>184.684859</td>\n",
       "      <td>13.785343</td>\n",
       "      <td>6.399425</td>\n",
       "      <td>50.439701</td>\n",
       "      <td>14.907914</td>\n",
       "      <td>11.067791</td>\n",
       "    </tr>\n",
       "    <tr>\n",
       "      <th>4</th>\n",
       "      <td>415</td>\n",
       "      <td>Gera Städte</td>\n",
       "      <td>SK Gera</td>\n",
       "      <td>2019</td>\n",
       "      <td>17.193620</td>\n",
       "      <td>0.00000</td>\n",
       "      <td>7.878415</td>\n",
       "      <td>48.66422</td>\n",
       "      <td>0.000000</td>\n",
       "      <td>77.85933</td>\n",
       "      <td>...</td>\n",
       "      <td>224</td>\n",
       "      <td>8066.126826</td>\n",
       "      <td>243.145258</td>\n",
       "      <td>0.621</td>\n",
       "      <td>604.684425</td>\n",
       "      <td>19.635684</td>\n",
       "      <td>11.617202</td>\n",
       "      <td>46.148697</td>\n",
       "      <td>20.010453</td>\n",
       "      <td>13.342688</td>\n",
       "    </tr>\n",
       "  </tbody>\n",
       "</table>\n",
       "<p>5 rows × 30 columns</p>\n",
       "</div>"
      ],
      "text/plain": [
       "    id     county_new               county  year  NO2_annualMean  \\\n",
       "0  285         Aachen  StädteRegion Aachen  2019        8.702983   \n",
       "1  414  Erfurt Städte            SK Erfurt  2019       15.717190   \n",
       "2   10   Hagen Städte             SK Hagen  2019       18.694540   \n",
       "3  225      Göttingen         LK Göttingen  2019       11.426380   \n",
       "4  415    Gera Städte              SK Gera  2019       17.193620   \n",
       "\n",
       "   NO2_hrOver200  NO_annualMean  O3_annualMean  O3_daysOver120  \\\n",
       "0        0.00000       0.743928       58.89937        8.000000   \n",
       "1        0.00000       7.001803       52.44306        0.000000   \n",
       "2        0.00726      10.355297       52.20485        2.163659   \n",
       "3        0.00000       2.897505       52.75934        0.000000   \n",
       "4        0.00000       7.878415       48.66422        0.000000   \n",
       "\n",
       "   O3_dailyMaxAnnualMean  ...  deaths  cases_per_100k  deaths_per_100k  \\\n",
       "0               80.62513  ...     622     6090.569875       111.743687   \n",
       "1               77.22419  ...     290     6234.674204       135.709339   \n",
       "2               76.71044  ...     345     8593.066825       182.842485   \n",
       "3               78.70706  ...     289     3246.372337        89.225069   \n",
       "4               77.85933  ...     224     8066.126826       243.145258   \n",
       "\n",
       "   Fully_vaccinated  Population_density NO2_totMean  NO_totMean  O3_totMean  \\\n",
       "0             0.715          789.975585   15.177349   11.589918   54.640123   \n",
       "1             0.621          790.697991   21.353773   12.723735   47.732662   \n",
       "2             0.715         1177.241586   20.609004   12.457916   50.831379   \n",
       "3             0.699          184.684859   13.785343    6.399425   50.439701   \n",
       "4             0.621          604.684425   19.635684   11.617202   46.148697   \n",
       "\n",
       "   PM10_totMean  PM2_5_totMean  \n",
       "0     17.472704      11.515066  \n",
       "1     18.477456      12.834581  \n",
       "2     18.888289      13.836452  \n",
       "3     14.907914      11.067791  \n",
       "4     20.010453      13.342688  \n",
       "\n",
       "[5 rows x 30 columns]"
      ]
     },
     "execution_count": 5,
     "metadata": {},
     "output_type": "execute_result"
    }
   ],
   "source": [
    "df_covid_AP.head()"
   ]
  },
  {
   "cell_type": "code",
   "execution_count": 6,
   "id": "f9847392",
   "metadata": {},
   "outputs": [],
   "source": [
    "X = df_covid_AP[['NO2_totMean', 'NO_totMean', 'O3_totMean','PM2_5_totMean', 'Fully_vaccinated', 'Population_density']]\n",
    "y = df_covid_AP['cases_per_100k']"
   ]
  },
  {
   "cell_type": "code",
   "execution_count": 7,
   "id": "d4846376",
   "metadata": {},
   "outputs": [],
   "source": [
    "from sklearn.preprocessing import StandardScaler\n",
    "\n",
    "scaler = StandardScaler()  # Instanciate Robust Scaler\n",
    "\n",
    "scaler.fit(X)  # Fit scaler to feature\n",
    "scaled_num = scaler.transform(X)  #Scale\n",
    "X = pd.DataFrame(scaled_num, columns = X.columns)"
   ]
  },
  {
   "cell_type": "markdown",
   "id": "aad24d53",
   "metadata": {},
   "source": [
    "# Models"
   ]
  },
  {
   "cell_type": "markdown",
   "id": "0edf7544",
   "metadata": {},
   "source": [
    "## Linear Regression"
   ]
  },
  {
   "cell_type": "code",
   "execution_count": 9,
   "id": "01746bec",
   "metadata": {},
   "outputs": [
    {
     "name": "stdout",
     "output_type": "stream",
     "text": [
      "0.400489263990241\n",
      "0.400489263990241\n"
     ]
    }
   ],
   "source": [
    "from sklearn.linear_model import LinearRegression\n",
    "from sklearn.model_selection import cross_validate\n",
    "\n",
    "linreg = LinearRegression()\n",
    "\n",
    "cv_results_linreg = cross_validate(linreg, X, y, cv=5, \n",
    "                            scoring='r2'\n",
    "                                     )\n",
    "linreg.fit(X, y)\n",
    "print(linreg.score(X, y))\n",
    "print(cv_results_linreg['test_score'].mean())"
   ]
  },
  {
   "cell_type": "markdown",
   "id": "bdb68d03",
   "metadata": {},
   "source": [
    "## Lasso"
   ]
  },
  {
   "cell_type": "code",
   "execution_count": 20,
   "id": "72ea9d57",
   "metadata": {},
   "outputs": [
    {
     "name": "stdout",
     "output_type": "stream",
     "text": [
      "0.40048659124870567\n",
      "0.40048659124870556\n"
     ]
    }
   ],
   "source": [
    "from sklearn.linear_model import Ridge, Lasso, LinearRegression, ElasticNet\n",
    "\n",
    "lasso = Lasso()\n",
    "\n",
    "cv_results_lasso = cross_validate(lasso, X, y, cv=5, \n",
    "                            scoring=['max_error',\n",
    "                                     'r2', \n",
    "                                     'neg_mean_absolute_error',\n",
    "                                     'neg_mean_squared_error'])\n",
    "\n",
    "cv_results_lasso['test_r2'].mean()"
   ]
  },
  {
   "cell_type": "markdown",
   "id": "adec395e",
   "metadata": {},
   "source": [
    "## Ridge"
   ]
  },
  {
   "cell_type": "code",
   "execution_count": 11,
   "id": "4abd9ea8",
   "metadata": {},
   "outputs": [
    {
     "data": {
      "text/plain": [
       "0.4004891871085713"
      ]
     },
     "execution_count": 11,
     "metadata": {},
     "output_type": "execute_result"
    }
   ],
   "source": [
    "ridge = Ridge()\n",
    "\n",
    "cv_results_ridge = cross_validate(ridge, X, y, cv=5, \n",
    "                            scoring=['max_error',\n",
    "                                     'r2', \n",
    "                                     'neg_mean_absolute_error',\n",
    "                                     'neg_mean_squared_error'])\n",
    "\n",
    "cv_results_ridge['test_r2'].mean()"
   ]
  },
  {
   "cell_type": "markdown",
   "id": "31a44f43",
   "metadata": {},
   "source": [
    "## Elastic Net"
   ]
  },
  {
   "cell_type": "code",
   "execution_count": 12,
   "id": "28253a89",
   "metadata": {},
   "outputs": [
    {
     "data": {
      "text/plain": [
       "0.34234067621999753"
      ]
     },
     "execution_count": 12,
     "metadata": {},
     "output_type": "execute_result"
    }
   ],
   "source": [
    "elasticnet = ElasticNet()\n",
    "\n",
    "cv_results_elasticnet = cross_validate(elasticnet, X, y, cv=5, \n",
    "                            scoring=['max_error',\n",
    "                                     'r2', \n",
    "                                     'neg_mean_absolute_error',\n",
    "                                     'neg_mean_squared_error'])\n",
    "\n",
    "cv_results_elasticnet['test_r2'].mean()"
   ]
  },
  {
   "cell_type": "markdown",
   "id": "32e5ffdc",
   "metadata": {},
   "source": [
    "## K-Nearest Neighbours"
   ]
  },
  {
   "cell_type": "code",
   "execution_count": 13,
   "id": "81d21ba9",
   "metadata": {},
   "outputs": [
    {
     "data": {
      "text/plain": [
       "1.0"
      ]
     },
     "execution_count": 13,
     "metadata": {},
     "output_type": "execute_result"
    }
   ],
   "source": [
    "from sklearn.neighbors import KNeighborsRegressor\n",
    "\n",
    "neigh = KNeighborsRegressor(n_neighbors=4, weights='distance', leaf_size=10, p=1)\n",
    "\n",
    "cv_results_neigh = cross_validate(neigh, X, y, cv=5, \n",
    "                            scoring=['max_error',\n",
    "                                     'r2', \n",
    "                                     'neg_mean_absolute_error',\n",
    "                                     'neg_mean_squared_error'])\n",
    "\n",
    "cv_results_neigh['test_r2'].mean()"
   ]
  },
  {
   "cell_type": "markdown",
   "id": "0e15775a",
   "metadata": {},
   "source": [
    "## Support Vector Regression"
   ]
  },
  {
   "cell_type": "code",
   "execution_count": 15,
   "id": "de681b73",
   "metadata": {},
   "outputs": [
    {
     "data": {
      "text/plain": [
       "0.05670722434812718"
      ]
     },
     "execution_count": 15,
     "metadata": {},
     "output_type": "execute_result"
    }
   ],
   "source": [
    "from sklearn.svm import SVR\n",
    "\n",
    "SVR = SVR()\n",
    "\n",
    "cv_results_svr = cross_validate(SVR, X, y, cv=5, \n",
    "                            scoring=['max_error',\n",
    "                                     'r2', \n",
    "                                     'neg_mean_absolute_error',\n",
    "                                     'neg_mean_squared_error'])\n",
    "\n",
    "cv_results_svr['test_r2'].mean()"
   ]
  },
  {
   "cell_type": "markdown",
   "id": "a75d3fb7",
   "metadata": {},
   "source": [
    "## AdaBoost"
   ]
  },
  {
   "cell_type": "code",
   "execution_count": 16,
   "id": "1ab088f9",
   "metadata": {},
   "outputs": [
    {
     "data": {
      "text/plain": [
       "0.5947311169992925"
      ]
     },
     "execution_count": 16,
     "metadata": {},
     "output_type": "execute_result"
    }
   ],
   "source": [
    "from sklearn.ensemble import AdaBoostRegressor, RandomForestRegressor\n",
    "\n",
    "adaboost = AdaBoostRegressor(n_estimators=10, \n",
    "    learning_rate= 1.2)\n",
    "\n",
    "cv_results_adaboost = cross_validate(adaboost, X, y, cv=5, \n",
    "                            scoring=['max_error',\n",
    "                                     'r2', \n",
    "                                     'neg_mean_absolute_error',\n",
    "                                     'neg_mean_squared_error'])\n",
    "\n",
    "cv_results_adaboost['test_r2'].mean()"
   ]
  },
  {
   "cell_type": "markdown",
   "id": "693cf23a",
   "metadata": {},
   "source": [
    "## Random Forest Regressor"
   ]
  },
  {
   "cell_type": "code",
   "execution_count": 17,
   "id": "ce8bfb39",
   "metadata": {
    "scrolled": true
   },
   "outputs": [
    {
     "data": {
      "text/plain": [
       "0.925514136935296"
      ]
     },
     "execution_count": 17,
     "metadata": {},
     "output_type": "execute_result"
    }
   ],
   "source": [
    "from sklearn.ensemble import  RandomForestRegressor\n",
    "\n",
    "forest = RandomForestRegressor(min_samples_leaf=15, min_samples_split=10, n_estimators=100)\n",
    "\n",
    "\n",
    "cv_results_forest = cross_validate(forest, X, y, cv=5, \n",
    "                            scoring=['max_error',\n",
    "                                     'r2', \n",
    "                                     'neg_mean_absolute_error',\n",
    "                                     'neg_mean_squared_error'])\n",
    "\n",
    "cv_results_forest['test_r2'].mean()"
   ]
  },
  {
   "cell_type": "markdown",
   "id": "97bb6c52",
   "metadata": {},
   "source": [
    "## XGBoost"
   ]
  },
  {
   "cell_type": "code",
   "execution_count": 18,
   "id": "7f763731",
   "metadata": {},
   "outputs": [
    {
     "data": {
      "text/plain": [
       "0.9999862321109042"
      ]
     },
     "execution_count": 18,
     "metadata": {},
     "output_type": "execute_result"
    }
   ],
   "source": [
    "from xgboost import XGBRegressor\n",
    "\n",
    "xgbr = XGBRegressor()\n",
    "\n",
    "cv_results_xgbr = cross_validate(xgbr, X, y, cv=5, \n",
    "                            scoring=['max_error',\n",
    "                                     'r2', \n",
    "                                     'neg_mean_absolute_error',\n",
    "                                     'neg_mean_squared_error'])\n",
    "\n",
    "cv_results_xgbr['test_r2'].mean()"
   ]
  },
  {
   "cell_type": "markdown",
   "id": "6e748931",
   "metadata": {},
   "source": [
    "# Creating the Table"
   ]
  },
  {
   "cell_type": "code",
   "execution_count": null,
   "id": "6e9c95b8",
   "metadata": {},
   "outputs": [],
   "source": [
    "\n",
    "data = [['Linear Regression', cv_results_linreg['test_r2'].mean()], ['Lasso', cv_results_lasso['test_r2'].mean()], ['Ridge', cv_results_ridge['test_r2'].mean()], ['Elastic Net', cv_results_elasticnet['test_r2'].mean()], ['K-Nearest Neighbours', cv_results_neigh['test_r2'].mean()], ['Support Vector Regression', cv_results_svr['test_r2'].mean()], ['AdaBoost', cv_results_adaboost['test_r2'].mean()], ['Random Forest Regressor', cv_results_forest['test_r2'].mean()], ['XGBoost', cv_results_xgbr['test_r2'].mean()]]\n",
    "  \n",
    "# Create the pandas DataFrame\n",
    "df = pd.DataFrame(data, columns = ['Model', 'R-squared'])"
   ]
  },
  {
   "cell_type": "code",
   "execution_count": null,
   "id": "adaa09f7",
   "metadata": {},
   "outputs": [],
   "source": [
    "df"
   ]
  },
  {
   "cell_type": "markdown",
   "id": "477a911c",
   "metadata": {},
   "source": [
    "# Heatmap R-square"
   ]
  },
  {
   "cell_type": "code",
   "execution_count": null,
   "id": "c6d52cd0",
   "metadata": {},
   "outputs": [],
   "source": [
    "fig = px.imshow(data,\n",
    "                labels=dict(color=\"R-squared\"),\n",
    "                x=['Model', 'Generalization'],\n",
    "                y=['Linear Regression', 'Lasso', 'Ridge','Elastic Net','K-Nearest Neighbours','Support Vector Regression','AdaBoost','Random Forest Regressor','XGBoost']\n",
    "               )\n",
    "fig.update_xaxes(side=\"top\")\n",
    "fig.show()"
   ]
  }
 ],
 "metadata": {
  "kernelspec": {
   "display_name": "Python 3 (ipykernel)",
   "language": "python",
   "name": "python3"
  },
  "language_info": {
   "codemirror_mode": {
    "name": "ipython",
    "version": 3
   },
   "file_extension": ".py",
   "mimetype": "text/x-python",
   "name": "python",
   "nbconvert_exporter": "python",
   "pygments_lexer": "ipython3",
   "version": "3.8.12"
  },
  "toc": {
   "base_numbering": 1,
   "nav_menu": {},
   "number_sections": true,
   "sideBar": true,
   "skip_h1_title": false,
   "title_cell": "Table of Contents",
   "title_sidebar": "Contents",
   "toc_cell": false,
   "toc_position": {},
   "toc_section_display": true,
   "toc_window_display": false
  }
 },
 "nbformat": 4,
 "nbformat_minor": 5
}
